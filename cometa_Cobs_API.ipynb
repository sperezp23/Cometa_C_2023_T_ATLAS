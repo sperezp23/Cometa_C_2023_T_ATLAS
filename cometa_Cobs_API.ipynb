{
 "cells": [
  {
   "cell_type": "code",
   "execution_count": 50,
   "metadata": {},
   "outputs": [],
   "source": [
    "# Librerías\n",
    "import requests\n",
    "import numpy as np\n",
    "import pandas as pd\n",
    "import plotly.express as px\n",
    "import plotly.graph_objects as go\n",
    "from plotly.subplots import make_subplots\n",
    "from astroquery.mpc import MPC"
   ]
  },
  {
   "cell_type": "markdown",
   "metadata": {},
   "source": [
    "# Cobs API"
   ]
  },
  {
   "cell_type": "code",
   "execution_count": 51,
   "metadata": {},
   "outputs": [],
   "source": [
    "# Verificar la conexión a internet.\n",
    "def verificar_conexion():\n",
    "    try:\n",
    "        requests.get(\"http://www.google.com\", timeout=5)\n",
    "        print('✅ Conectado a internet.')\n",
    "        return True\n",
    "    \n",
    "    except requests.ConnectionError:\n",
    "        print('🛑 Sin conexión a internet.')\n",
    "        return False"
   ]
  },
  {
   "cell_type": "code",
   "execution_count": 52,
   "metadata": {},
   "outputs": [
    {
     "name": "stdout",
     "output_type": "stream",
     "text": [
      "✅ Conectado a internet.\n",
      "✅ Base de datos actualizada.\n"
     ]
    }
   ],
   "source": [
    "# Conexión con la API de COBS\n",
    "nombre_cometa =  'C/2017 K2'#'C/2023 A3'\n",
    "Link_cops_API = f'https://cobs.si/api/obs_list.api?des={nombre_cometa}&format=json&from_date=&to_date=&exclude_faint=False&exclude_not_accurate=False'\n",
    "\n",
    "if verificar_conexion():\n",
    "    response = requests.get(Link_cops_API)\n",
    "\n",
    "\n",
    "if response.status_code == 200:\n",
    "    content = response.json()\n",
    "    print('✅ Base de datos actualizada.')\n",
    "\n",
    "else:\n",
    "    print(f'🛑 Se presentó un error al cargar la base de datos.\\nError: {response.status_code}\\n{response.content}')"
   ]
  },
  {
   "cell_type": "code",
   "execution_count": 79,
   "metadata": {},
   "outputs": [
    {
     "name": "stdout",
     "output_type": "stream",
     "text": [
      "<class 'pandas.core.frame.DataFrame'>\n",
      "RangeIndex: 2080 entries, 0 to 2079\n",
      "Data columns (total 47 columns):\n",
      " #   Column                     Non-Null Count  Dtype  \n",
      "---  ------                     --------------  -----  \n",
      " 0   type                       2080 non-null   object \n",
      " 1   obs_date                   2080 non-null   object \n",
      " 2   comet                      2080 non-null   object \n",
      " 3   observer                   2080 non-null   object \n",
      " 4   location                   786 non-null    object \n",
      " 5   extinction                 120 non-null    object \n",
      " 6   obs_method                 2080 non-null   object \n",
      " 7   comet_visibility           10 non-null     object \n",
      " 8   magnitude                  2078 non-null   object \n",
      " 9   conditions                 34 non-null     object \n",
      " 10  ref_catalog                2080 non-null   object \n",
      " 11  instrument_aperture        2080 non-null   object \n",
      " 12  instrument_type            2080 non-null   object \n",
      " 13  instrument_focal_ratio     1887 non-null   float64\n",
      " 14  instrument_power           2079 non-null   float64\n",
      " 15  coma_visibility            52 non-null     object \n",
      " 16  coma_diameter              2031 non-null   object \n",
      " 17  coma_notes                 43 non-null     object \n",
      " 18  coma_dc                    911 non-null    object \n",
      " 19  tail_visibility            18 non-null     object \n",
      " 20  tail_length                497 non-null    object \n",
      " 21  tail_length_unit           322 non-null    object \n",
      " 22  tail_pa                    485 non-null    float64\n",
      " 23  icq_reference              1641 non-null   object \n",
      " 24  icq_revision               271 non-null    object \n",
      " 25  comparison_field           1006 non-null   object \n",
      " 26  integration_time           110 non-null    float64\n",
      " 27  photometry_aperture_shape  1159 non-null   object \n",
      " 28  photometry_aperture_size   1135 non-null   object \n",
      " 29  photometry_aperture_unit   1162 non-null   object \n",
      " 30  camera_type                1141 non-null   object \n",
      " 31  chip_type                  1128 non-null   object \n",
      " 32  software_type              1157 non-null   object \n",
      " 33  image_correction           1157 non-null   float64\n",
      " 34  observation_published      866 non-null    object \n",
      " 35  image_number               693 non-null    float64\n",
      " 36  image_coadded              813 non-null    object \n",
      " 37  magnitude_error            401 non-null    object \n",
      " 38  comparison_star_magnitude  162 non-null    object \n",
      " 39  pixel_size_x               1122 non-null   object \n",
      " 40  pixel_size_y               1122 non-null   object \n",
      " 41  pixel_size_unit            1149 non-null   object \n",
      " 42  obs_comment                2080 non-null   object \n",
      " 43  obs_sky_quality            166 non-null    object \n",
      " 44  obs_sky_quality_method     166 non-null    float64\n",
      " 45  reference_star_names       2080 non-null   object \n",
      " 46  date_added                 2080 non-null   object \n",
      "dtypes: float64(7), object(40)\n",
      "memory usage: 763.9+ KB\n"
     ]
    }
   ],
   "source": [
    "# Creación del data frame Cometa\n",
    "cometa_df = pd.DataFrame(content['objects'])\n",
    "cometa_df.info()"
   ]
  },
  {
   "cell_type": "code",
   "execution_count": 80,
   "metadata": {},
   "outputs": [
    {
     "name": "stdout",
     "output_type": "stream",
     "text": [
      "Registros: 2080\n",
      "Variables: 47\n"
     ]
    }
   ],
   "source": [
    "# Sin filtrar la información\n",
    "filas,columnas = cometa_df.shape\n",
    "print(f'Registros: {filas}\\nVariables: {columnas}')"
   ]
  },
  {
   "cell_type": "code",
   "execution_count": 81,
   "metadata": {},
   "outputs": [
    {
     "data": {
      "text/html": [
       "<div>\n",
       "<style scoped>\n",
       "    .dataframe tbody tr th:only-of-type {\n",
       "        vertical-align: middle;\n",
       "    }\n",
       "\n",
       "    .dataframe tbody tr th {\n",
       "        vertical-align: top;\n",
       "    }\n",
       "\n",
       "    .dataframe thead th {\n",
       "        text-align: right;\n",
       "    }\n",
       "</style>\n",
       "<table border=\"1\" class=\"dataframe\">\n",
       "  <thead>\n",
       "    <tr style=\"text-align: right;\">\n",
       "      <th></th>\n",
       "      <th>type</th>\n",
       "      <th>obs_date</th>\n",
       "      <th>comet</th>\n",
       "      <th>observer</th>\n",
       "      <th>location</th>\n",
       "      <th>extinction</th>\n",
       "      <th>obs_method</th>\n",
       "      <th>comet_visibility</th>\n",
       "      <th>magnitude</th>\n",
       "      <th>conditions</th>\n",
       "      <th>...</th>\n",
       "      <th>magnitude_error</th>\n",
       "      <th>comparison_star_magnitude</th>\n",
       "      <th>pixel_size_x</th>\n",
       "      <th>pixel_size_y</th>\n",
       "      <th>pixel_size_unit</th>\n",
       "      <th>obs_comment</th>\n",
       "      <th>obs_sky_quality</th>\n",
       "      <th>obs_sky_quality_method</th>\n",
       "      <th>reference_star_names</th>\n",
       "      <th>date_added</th>\n",
       "    </tr>\n",
       "  </thead>\n",
       "  <tbody>\n",
       "    <tr>\n",
       "      <th>87</th>\n",
       "      <td>C</td>\n",
       "      <td>2024-01-29 20:52:48</td>\n",
       "      <td>{'type': 'C', 'name': 'C/2017 K2', 'fullname':...</td>\n",
       "      <td>{'first_name': 'Steffen', 'last_name': 'Fritsc...</td>\n",
       "      <td>Koeditz</td>\n",
       "      <td>None</td>\n",
       "      <td>{'key': 'Z', 'name': 'CCD Visual equivalent', ...</td>\n",
       "      <td>None</td>\n",
       "      <td>13.1</td>\n",
       "      <td>None</td>\n",
       "      <td>...</td>\n",
       "      <td>None</td>\n",
       "      <td>None</td>\n",
       "      <td>2.0</td>\n",
       "      <td>2.0</td>\n",
       "      <td>s</td>\n",
       "      <td>DSLR green, mlim=17.7, moon 85% dist 97 deg</td>\n",
       "      <td>None</td>\n",
       "      <td>NaN</td>\n",
       "      <td></td>\n",
       "      <td>2024-02-12 14:05:12</td>\n",
       "    </tr>\n",
       "    <tr>\n",
       "      <th>59</th>\n",
       "      <td>C</td>\n",
       "      <td>2024-02-14 12:43:11</td>\n",
       "      <td>{'type': 'C', 'name': 'C/2017 K2', 'fullname':...</td>\n",
       "      <td>{'first_name': 'Andrew', 'last_name': 'Pearce'...</td>\n",
       "      <td>None</td>\n",
       "      <td>None</td>\n",
       "      <td>{'key': 'C', 'name': 'Unfiltered total CCD mag...</td>\n",
       "      <td>None</td>\n",
       "      <td>13.9</td>\n",
       "      <td>None</td>\n",
       "      <td>...</td>\n",
       "      <td>0.02</td>\n",
       "      <td>None</td>\n",
       "      <td>1.6</td>\n",
       "      <td>1.6</td>\n",
       "      <td>s</td>\n",
       "      <td></td>\n",
       "      <td>None</td>\n",
       "      <td>NaN</td>\n",
       "      <td></td>\n",
       "      <td>2024-02-15 09:49:44</td>\n",
       "    </tr>\n",
       "    <tr>\n",
       "      <th>696</th>\n",
       "      <td>V</td>\n",
       "      <td>2022-07-18 21:20:00</td>\n",
       "      <td>{'type': 'C', 'name': 'C/2017 K2', 'fullname':...</td>\n",
       "      <td>{'first_name': 'Maciej', 'last_name': 'Kwinta'...</td>\n",
       "      <td>Krzesławice</td>\n",
       "      <td>None</td>\n",
       "      <td>{'key': 'S', 'name': 'In-Out method', 'source'...</td>\n",
       "      <td>None</td>\n",
       "      <td>8.8</td>\n",
       "      <td>None</td>\n",
       "      <td>...</td>\n",
       "      <td>None</td>\n",
       "      <td>None</td>\n",
       "      <td>None</td>\n",
       "      <td>None</td>\n",
       "      <td>None</td>\n",
       "      <td></td>\n",
       "      <td>None</td>\n",
       "      <td>NaN</td>\n",
       "      <td></td>\n",
       "      <td>2022-08-05 20:08:01</td>\n",
       "    </tr>\n",
       "    <tr>\n",
       "      <th>131</th>\n",
       "      <td>V</td>\n",
       "      <td>2024-01-09 10:04:47</td>\n",
       "      <td>{'type': 'C', 'name': 'C/2017 K2', 'fullname':...</td>\n",
       "      <td>{'first_name': 'Osamu', 'last_name': 'Miyazaki...</td>\n",
       "      <td>None</td>\n",
       "      <td>None</td>\n",
       "      <td>{'key': 'S', 'name': 'In-Out method', 'source'...</td>\n",
       "      <td>None</td>\n",
       "      <td>11.1</td>\n",
       "      <td>None</td>\n",
       "      <td>...</td>\n",
       "      <td>None</td>\n",
       "      <td>None</td>\n",
       "      <td>None</td>\n",
       "      <td>None</td>\n",
       "      <td>None</td>\n",
       "      <td></td>\n",
       "      <td>None</td>\n",
       "      <td>NaN</td>\n",
       "      <td></td>\n",
       "      <td>2024-01-10 04:56:25</td>\n",
       "    </tr>\n",
       "    <tr>\n",
       "      <th>1319</th>\n",
       "      <td>C</td>\n",
       "      <td>2021-09-28 21:07:11</td>\n",
       "      <td>{'type': 'C', 'name': 'C/2017 K2', 'fullname':...</td>\n",
       "      <td>{'first_name': 'Peter', 'last_name': 'Carson',...</td>\n",
       "      <td>Fegenal de la Sierra;</td>\n",
       "      <td>None</td>\n",
       "      <td>{'key': 'Z', 'name': 'CCD Visual equivalent', ...</td>\n",
       "      <td>None</td>\n",
       "      <td>12.7</td>\n",
       "      <td>None</td>\n",
       "      <td>...</td>\n",
       "      <td>None</td>\n",
       "      <td>None</td>\n",
       "      <td>0.6</td>\n",
       "      <td>0.6</td>\n",
       "      <td>s</td>\n",
       "      <td></td>\n",
       "      <td>None</td>\n",
       "      <td>NaN</td>\n",
       "      <td></td>\n",
       "      <td>2022-05-08 07:47:24</td>\n",
       "    </tr>\n",
       "  </tbody>\n",
       "</table>\n",
       "<p>5 rows × 47 columns</p>\n",
       "</div>"
      ],
      "text/plain": [
       "     type             obs_date  \\\n",
       "87      C  2024-01-29 20:52:48   \n",
       "59      C  2024-02-14 12:43:11   \n",
       "696     V  2022-07-18 21:20:00   \n",
       "131     V  2024-01-09 10:04:47   \n",
       "1319    C  2021-09-28 21:07:11   \n",
       "\n",
       "                                                  comet  \\\n",
       "87    {'type': 'C', 'name': 'C/2017 K2', 'fullname':...   \n",
       "59    {'type': 'C', 'name': 'C/2017 K2', 'fullname':...   \n",
       "696   {'type': 'C', 'name': 'C/2017 K2', 'fullname':...   \n",
       "131   {'type': 'C', 'name': 'C/2017 K2', 'fullname':...   \n",
       "1319  {'type': 'C', 'name': 'C/2017 K2', 'fullname':...   \n",
       "\n",
       "                                               observer  \\\n",
       "87    {'first_name': 'Steffen', 'last_name': 'Fritsc...   \n",
       "59    {'first_name': 'Andrew', 'last_name': 'Pearce'...   \n",
       "696   {'first_name': 'Maciej', 'last_name': 'Kwinta'...   \n",
       "131   {'first_name': 'Osamu', 'last_name': 'Miyazaki...   \n",
       "1319  {'first_name': 'Peter', 'last_name': 'Carson',...   \n",
       "\n",
       "                   location extinction  \\\n",
       "87                  Koeditz       None   \n",
       "59                     None       None   \n",
       "696             Krzesławice       None   \n",
       "131                    None       None   \n",
       "1319  Fegenal de la Sierra;       None   \n",
       "\n",
       "                                             obs_method comet_visibility  \\\n",
       "87    {'key': 'Z', 'name': 'CCD Visual equivalent', ...             None   \n",
       "59    {'key': 'C', 'name': 'Unfiltered total CCD mag...             None   \n",
       "696   {'key': 'S', 'name': 'In-Out method', 'source'...             None   \n",
       "131   {'key': 'S', 'name': 'In-Out method', 'source'...             None   \n",
       "1319  {'key': 'Z', 'name': 'CCD Visual equivalent', ...             None   \n",
       "\n",
       "     magnitude conditions  ... magnitude_error comparison_star_magnitude  \\\n",
       "87        13.1       None  ...            None                      None   \n",
       "59        13.9       None  ...            0.02                      None   \n",
       "696        8.8       None  ...            None                      None   \n",
       "131       11.1       None  ...            None                      None   \n",
       "1319      12.7       None  ...            None                      None   \n",
       "\n",
       "     pixel_size_x  pixel_size_y  pixel_size_unit  \\\n",
       "87            2.0           2.0                s   \n",
       "59            1.6           1.6                s   \n",
       "696          None          None             None   \n",
       "131          None          None             None   \n",
       "1319          0.6           0.6                s   \n",
       "\n",
       "                                      obs_comment obs_sky_quality  \\\n",
       "87    DSLR green, mlim=17.7, moon 85% dist 97 deg            None   \n",
       "59                                                           None   \n",
       "696                                                          None   \n",
       "131                                                          None   \n",
       "1319                                                         None   \n",
       "\n",
       "     obs_sky_quality_method reference_star_names           date_added  \n",
       "87                      NaN                       2024-02-12 14:05:12  \n",
       "59                      NaN                       2024-02-15 09:49:44  \n",
       "696                     NaN                       2022-08-05 20:08:01  \n",
       "131                     NaN                       2024-01-10 04:56:25  \n",
       "1319                    NaN                       2022-05-08 07:47:24  \n",
       "\n",
       "[5 rows x 47 columns]"
      ]
     },
     "execution_count": 81,
     "metadata": {},
     "output_type": "execute_result"
    }
   ],
   "source": [
    "# Base de datos arrojada por la API\n",
    "cometa_df.sample(5)"
   ]
  },
  {
   "cell_type": "code",
   "execution_count": 82,
   "metadata": {},
   "outputs": [
    {
     "data": {
      "text/plain": [
       "obs_method\n",
       "Z: CCD Visual equivalent                                         587\n",
       "S: In-Out method                                                 568\n",
       "C: Unfiltered total CCD magnitude                                457\n",
       "M: Modified-Out method                                           256\n",
       "k: Kron/Cousins R with CCD                                        83\n",
       "V: Johnson/Bessel/Kron/Cousins V with CCD                         77\n",
       "c: Unfiltered nuclear CCD magnitude                                9\n",
       "B: Simple Out-Out method                                           9\n",
       "H: Kron/Cousins I with CCD                                         7\n",
       "A: Pogson                                                          6\n",
       "I: In-focus                                                        6\n",
       "D: Johnson/Bessel/Kron/Cousins B with CCD                          5\n",
       "G: CCD magnitude with a Corion NR-400 \"minus-infrared\" filter      3\n",
       "-: Unknown                                                         2\n",
       "O: Out-of-focus (or extrafocal) method                             1\n",
       "r: CCD magnitude with Gunn r filter                                1\n",
       "P: photographic                                                    1\n",
       "v: Photoelectric with filters to match visual                      1\n",
       "R: Photoelectric R                                                 1\n",
       "Name: count, dtype: int64"
      ]
     },
     "execution_count": 82,
     "metadata": {},
     "output_type": "execute_result"
    }
   ],
   "source": [
    "# Métodos de observación\n",
    "cometa_df.obs_method.apply(lambda registro: f'{registro['key']}: {registro['name']}').value_counts()"
   ]
  },
  {
   "cell_type": "code",
   "execution_count": 83,
   "metadata": {},
   "outputs": [],
   "source": [
    "# Tratamiento de los datos de interés\n",
    "cometa_df['obs_method_key'] = cometa_df.obs_method.apply(lambda registro: registro['key'])\n",
    "cometa_df['obs_date'] = pd.to_datetime(pd.to_datetime(cometa_df.obs_date).dt.date)\n",
    "cometa_df['magnitude'] = pd.to_numeric(cometa_df.magnitude)"
   ]
  },
  {
   "cell_type": "code",
   "execution_count": 84,
   "metadata": {},
   "outputs": [
    {
     "name": "stdout",
     "output_type": "stream",
     "text": [
      "<class 'pandas.core.frame.DataFrame'>\n",
      "RangeIndex: 2080 entries, 0 to 2079\n",
      "Data columns (total 3 columns):\n",
      " #   Column          Non-Null Count  Dtype         \n",
      "---  ------          --------------  -----         \n",
      " 0   obs_method_key  2080 non-null   object        \n",
      " 1   obs_date        2080 non-null   datetime64[ns]\n",
      " 2   magnitude       2078 non-null   float64       \n",
      "dtypes: datetime64[ns](1), float64(1), object(1)\n",
      "memory usage: 48.9+ KB\n"
     ]
    }
   ],
   "source": [
    "# Creación del data frame curva de luz cruda\n",
    "curva_de_luz_cruda_df = cometa_df[['obs_method_key', 'obs_date', 'magnitude']].copy()\n",
    "curva_de_luz_cruda_df.info()"
   ]
  },
  {
   "cell_type": "code",
   "execution_count": 85,
   "metadata": {},
   "outputs": [
    {
     "name": "stdout",
     "output_type": "stream",
     "text": [
      "Registros: 2080\n",
      "Variables: 3\n"
     ]
    }
   ],
   "source": [
    "# Con la información filtrada\n",
    "filas,columnas = curva_de_luz_cruda_df.shape\n",
    "print(f'Registros: {filas}\\nVariables: {columnas}')"
   ]
  },
  {
   "cell_type": "code",
   "execution_count": 86,
   "metadata": {},
   "outputs": [
    {
     "data": {
      "text/html": [
       "<div>\n",
       "<style scoped>\n",
       "    .dataframe tbody tr th:only-of-type {\n",
       "        vertical-align: middle;\n",
       "    }\n",
       "\n",
       "    .dataframe tbody tr th {\n",
       "        vertical-align: top;\n",
       "    }\n",
       "\n",
       "    .dataframe thead th {\n",
       "        text-align: right;\n",
       "    }\n",
       "</style>\n",
       "<table border=\"1\" class=\"dataframe\">\n",
       "  <thead>\n",
       "    <tr style=\"text-align: right;\">\n",
       "      <th></th>\n",
       "      <th>obs_method_key</th>\n",
       "      <th>obs_date</th>\n",
       "      <th>magnitude</th>\n",
       "    </tr>\n",
       "  </thead>\n",
       "  <tbody>\n",
       "    <tr>\n",
       "      <th>1775</th>\n",
       "      <td>Z</td>\n",
       "      <td>2020-09-12</td>\n",
       "      <td>15.2</td>\n",
       "    </tr>\n",
       "    <tr>\n",
       "      <th>1680</th>\n",
       "      <td>S</td>\n",
       "      <td>2021-03-19</td>\n",
       "      <td>14.5</td>\n",
       "    </tr>\n",
       "    <tr>\n",
       "      <th>1287</th>\n",
       "      <td>Z</td>\n",
       "      <td>2021-10-09</td>\n",
       "      <td>12.9</td>\n",
       "    </tr>\n",
       "    <tr>\n",
       "      <th>1693</th>\n",
       "      <td>Z</td>\n",
       "      <td>2021-02-22</td>\n",
       "      <td>14.4</td>\n",
       "    </tr>\n",
       "    <tr>\n",
       "      <th>988</th>\n",
       "      <td>S</td>\n",
       "      <td>2022-06-03</td>\n",
       "      <td>9.4</td>\n",
       "    </tr>\n",
       "  </tbody>\n",
       "</table>\n",
       "</div>"
      ],
      "text/plain": [
       "     obs_method_key   obs_date  magnitude\n",
       "1775              Z 2020-09-12       15.2\n",
       "1680              S 2021-03-19       14.5\n",
       "1287              Z 2021-10-09       12.9\n",
       "1693              Z 2021-02-22       14.4\n",
       "988               S 2022-06-03        9.4"
      ]
     },
     "execution_count": 86,
     "metadata": {},
     "output_type": "execute_result"
    }
   ],
   "source": [
    "# Data Frame de la curva de luz\n",
    "curva_de_luz_cruda_df.sample(5)"
   ]
  },
  {
   "cell_type": "code",
   "execution_count": 87,
   "metadata": {},
   "outputs": [
    {
     "data": {
      "application/vnd.plotly.v1+json": {
       "config": {
        "plotlyServerURL": "https://plot.ly"
       },
       "data": [
        {
         "hovertemplate": "Observation Method=C<br>Observation Date=%{x}<br>Apparent total magnitude=%{y}<extra></extra>",
         "legendgroup": "C",
         "marker": {
          "color": "#636efa",
          "symbol": "circle"
         },
         "mode": "markers",
         "name": "C",
         "showlegend": true,
         "type": "scattergl",
         "x": [
          "2024-09-14T00:00:00",
          "2024-09-02T00:00:00",
          "2024-08-26T00:00:00",
          "2024-03-31T00:00:00",
          "2024-03-30T00:00:00",
          "2024-03-29T00:00:00",
          "2024-03-28T00:00:00",
          "2024-03-27T00:00:00",
          "2024-03-24T00:00:00",
          "2024-03-22T00:00:00",
          "2024-03-21T00:00:00",
          "2024-03-19T00:00:00",
          "2024-03-18T00:00:00",
          "2024-03-11T00:00:00",
          "2024-03-10T00:00:00",
          "2024-03-09T00:00:00",
          "2024-03-07T00:00:00",
          "2024-03-07T00:00:00",
          "2024-03-06T00:00:00",
          "2024-03-06T00:00:00",
          "2024-03-05T00:00:00",
          "2024-03-05T00:00:00",
          "2024-03-03T00:00:00",
          "2024-02-15T00:00:00",
          "2024-02-14T00:00:00",
          "2024-02-13T00:00:00",
          "2024-02-13T00:00:00",
          "2024-02-12T00:00:00",
          "2024-02-12T00:00:00",
          "2024-02-12T00:00:00",
          "2024-02-11T00:00:00",
          "2024-02-05T00:00:00",
          "2024-02-04T00:00:00",
          "2024-02-01T00:00:00",
          "2024-01-31T00:00:00",
          "2024-01-30T00:00:00",
          "2024-01-29T00:00:00",
          "2024-01-28T00:00:00",
          "2024-01-27T00:00:00",
          "2024-01-26T00:00:00",
          "2024-01-25T00:00:00",
          "2024-01-24T00:00:00",
          "2024-01-23T00:00:00",
          "2024-01-19T00:00:00",
          "2024-01-18T00:00:00",
          "2024-01-16T00:00:00",
          "2024-01-15T00:00:00",
          "2024-01-14T00:00:00",
          "2024-01-11T00:00:00",
          "2024-01-10T00:00:00",
          "2024-01-10T00:00:00",
          "2024-01-09T00:00:00",
          "2024-01-09T00:00:00",
          "2024-01-09T00:00:00",
          "2024-01-08T00:00:00",
          "2024-01-08T00:00:00",
          "2024-01-08T00:00:00",
          "2024-01-07T00:00:00",
          "2024-01-07T00:00:00",
          "2024-01-07T00:00:00",
          "2024-01-06T00:00:00",
          "2024-01-06T00:00:00",
          "2024-01-05T00:00:00",
          "2024-01-05T00:00:00",
          "2024-01-04T00:00:00",
          "2024-01-04T00:00:00",
          "2024-01-03T00:00:00",
          "2024-01-02T00:00:00",
          "2024-01-02T00:00:00",
          "2024-01-02T00:00:00",
          "2024-01-01T00:00:00",
          "2024-01-01T00:00:00",
          "2023-12-27T00:00:00",
          "2023-12-24T00:00:00",
          "2023-12-23T00:00:00",
          "2023-12-22T00:00:00",
          "2023-12-21T00:00:00",
          "2023-12-21T00:00:00",
          "2023-12-21T00:00:00",
          "2023-12-20T00:00:00",
          "2023-12-19T00:00:00",
          "2023-12-18T00:00:00",
          "2023-12-18T00:00:00",
          "2023-12-17T00:00:00",
          "2023-12-17T00:00:00",
          "2023-12-17T00:00:00",
          "2023-12-16T00:00:00",
          "2023-12-16T00:00:00",
          "2023-12-15T00:00:00",
          "2023-12-14T00:00:00",
          "2023-12-14T00:00:00",
          "2023-12-13T00:00:00",
          "2023-12-12T00:00:00",
          "2023-12-10T00:00:00",
          "2023-12-09T00:00:00",
          "2023-12-06T00:00:00",
          "2023-11-23T00:00:00",
          "2023-11-21T00:00:00",
          "2023-11-20T00:00:00",
          "2023-11-18T00:00:00",
          "2023-11-18T00:00:00",
          "2023-11-15T00:00:00",
          "2023-11-13T00:00:00",
          "2023-11-12T00:00:00",
          "2023-10-25T00:00:00",
          "2023-10-21T00:00:00",
          "2023-10-21T00:00:00",
          "2023-10-18T00:00:00",
          "2023-10-15T00:00:00",
          "2023-10-13T00:00:00",
          "2023-10-11T00:00:00",
          "2023-10-06T00:00:00",
          "2023-10-04T00:00:00",
          "2023-10-01T00:00:00",
          "2023-09-23T00:00:00",
          "2023-09-21T00:00:00",
          "2023-09-18T00:00:00",
          "2023-09-17T00:00:00",
          "2023-09-16T00:00:00",
          "2023-09-13T00:00:00",
          "2023-03-12T00:00:00",
          "2023-02-28T00:00:00",
          "2023-01-13T00:00:00",
          "2022-10-02T00:00:00",
          "2022-09-01T00:00:00",
          "2022-08-31T00:00:00",
          "2022-08-14T00:00:00",
          "2022-08-13T00:00:00",
          "2022-08-12T00:00:00",
          "2022-08-11T00:00:00",
          "2022-08-10T00:00:00",
          "2022-08-09T00:00:00",
          "2022-08-08T00:00:00",
          "2022-08-07T00:00:00",
          "2022-08-07T00:00:00",
          "2022-08-05T00:00:00",
          "2022-08-05T00:00:00",
          "2022-08-03T00:00:00",
          "2022-08-02T00:00:00",
          "2022-08-01T00:00:00",
          "2022-07-29T00:00:00",
          "2022-07-25T00:00:00",
          "2022-07-24T00:00:00",
          "2022-07-22T00:00:00",
          "2022-07-19T00:00:00",
          "2022-07-17T00:00:00",
          "2022-07-16T00:00:00",
          "2022-07-15T00:00:00",
          "2022-07-15T00:00:00",
          "2022-07-14T00:00:00",
          "2022-07-13T00:00:00",
          "2022-07-10T00:00:00",
          "2022-07-09T00:00:00",
          "2022-07-08T00:00:00",
          "2022-07-06T00:00:00",
          "2022-07-05T00:00:00",
          "2022-07-04T00:00:00",
          "2022-07-03T00:00:00",
          "2022-07-03T00:00:00",
          "2022-07-02T00:00:00",
          "2022-07-01T00:00:00",
          "2022-07-01T00:00:00",
          "2022-07-01T00:00:00",
          "2022-07-01T00:00:00",
          "2022-06-29T00:00:00",
          "2022-06-29T00:00:00",
          "2022-06-26T00:00:00",
          "2022-06-26T00:00:00",
          "2022-06-26T00:00:00",
          "2022-06-25T00:00:00",
          "2022-06-25T00:00:00",
          "2022-06-24T00:00:00",
          "2022-06-24T00:00:00",
          "2022-06-24T00:00:00",
          "2022-06-22T00:00:00",
          "2022-06-21T00:00:00",
          "2022-06-20T00:00:00",
          "2022-06-19T00:00:00",
          "2022-06-18T00:00:00",
          "2022-06-18T00:00:00",
          "2022-06-18T00:00:00",
          "2022-06-17T00:00:00",
          "2022-06-11T00:00:00",
          "2022-06-10T00:00:00",
          "2022-06-09T00:00:00",
          "2022-06-03T00:00:00",
          "2022-06-03T00:00:00",
          "2022-05-29T00:00:00",
          "2022-05-28T00:00:00",
          "2022-05-27T00:00:00",
          "2022-05-24T00:00:00",
          "2022-05-24T00:00:00",
          "2022-05-22T00:00:00",
          "2022-05-20T00:00:00",
          "2022-05-19T00:00:00",
          "2022-05-13T00:00:00",
          "2022-05-03T00:00:00",
          "2022-05-03T00:00:00",
          "2022-04-29T00:00:00",
          "2022-04-24T00:00:00",
          "2022-04-14T00:00:00",
          "2022-04-09T00:00:00",
          "2022-04-01T00:00:00",
          "2022-03-30T00:00:00",
          "2022-03-28T00:00:00",
          "2022-03-24T00:00:00",
          "2022-03-20T00:00:00",
          "2022-03-11T00:00:00",
          "2022-03-11T00:00:00",
          "2022-03-09T00:00:00",
          "2022-03-07T00:00:00",
          "2022-03-06T00:00:00",
          "2022-03-05T00:00:00",
          "2022-03-02T00:00:00",
          "2022-02-28T00:00:00",
          "2022-02-13T00:00:00",
          "2022-02-12T00:00:00",
          "2022-02-04T00:00:00",
          "2022-02-04T00:00:00",
          "2022-02-01T00:00:00",
          "2022-01-31T00:00:00",
          "2022-01-14T00:00:00",
          "2022-01-13T00:00:00",
          "2021-12-04T00:00:00",
          "2021-11-22T00:00:00",
          "2021-11-21T00:00:00",
          "2021-11-17T00:00:00",
          "2021-11-08T00:00:00",
          "2021-11-05T00:00:00",
          "2021-10-31T00:00:00",
          "2021-10-28T00:00:00",
          "2021-10-28T00:00:00",
          "2021-10-27T00:00:00",
          "2021-10-24T00:00:00",
          "2021-10-24T00:00:00",
          "2021-10-23T00:00:00",
          "2021-10-21T00:00:00",
          "2021-10-21T00:00:00",
          "2021-10-19T00:00:00",
          "2021-10-12T00:00:00",
          "2021-10-10T00:00:00",
          "2021-10-09T00:00:00",
          "2021-10-08T00:00:00",
          "2021-10-08T00:00:00",
          "2021-10-07T00:00:00",
          "2021-10-03T00:00:00",
          "2021-09-29T00:00:00",
          "2021-09-29T00:00:00",
          "2021-09-27T00:00:00",
          "2021-09-26T00:00:00",
          "2021-09-25T00:00:00",
          "2021-09-24T00:00:00",
          "2021-09-22T00:00:00",
          "2021-09-16T00:00:00",
          "2021-09-15T00:00:00",
          "2021-09-09T00:00:00",
          "2021-09-09T00:00:00",
          "2021-09-08T00:00:00",
          "2021-09-08T00:00:00",
          "2021-09-07T00:00:00",
          "2021-09-07T00:00:00",
          "2021-09-06T00:00:00",
          "2021-09-05T00:00:00",
          "2021-09-05T00:00:00",
          "2021-09-05T00:00:00",
          "2021-09-05T00:00:00",
          "2021-09-04T00:00:00",
          "2021-09-04T00:00:00",
          "2021-09-04T00:00:00",
          "2021-09-03T00:00:00",
          "2021-09-03T00:00:00",
          "2021-09-03T00:00:00",
          "2021-09-01T00:00:00",
          "2021-09-01T00:00:00",
          "2021-08-31T00:00:00",
          "2021-08-30T00:00:00",
          "2021-08-30T00:00:00",
          "2021-08-29T00:00:00",
          "2021-08-27T00:00:00",
          "2021-08-26T00:00:00",
          "2021-08-25T00:00:00",
          "2021-08-25T00:00:00",
          "2021-08-24T00:00:00",
          "2021-08-23T00:00:00",
          "2021-08-23T00:00:00",
          "2021-08-20T00:00:00",
          "2021-08-18T00:00:00",
          "2021-08-14T00:00:00",
          "2021-08-14T00:00:00",
          "2021-08-13T00:00:00",
          "2021-08-13T00:00:00",
          "2021-08-13T00:00:00",
          "2021-08-12T00:00:00",
          "2021-08-11T00:00:00",
          "2021-08-09T00:00:00",
          "2021-08-09T00:00:00",
          "2021-08-09T00:00:00",
          "2021-08-08T00:00:00",
          "2021-08-06T00:00:00",
          "2021-08-05T00:00:00",
          "2021-08-03T00:00:00",
          "2021-07-30T00:00:00",
          "2021-07-29T00:00:00",
          "2021-07-29T00:00:00",
          "2021-07-26T00:00:00",
          "2021-07-22T00:00:00",
          "2021-07-19T00:00:00",
          "2021-07-18T00:00:00",
          "2021-07-10T00:00:00",
          "2021-07-09T00:00:00",
          "2021-07-08T00:00:00",
          "2021-07-07T00:00:00",
          "2021-07-06T00:00:00",
          "2021-06-29T00:00:00",
          "2021-06-19T00:00:00",
          "2021-06-18T00:00:00",
          "2021-06-17T00:00:00",
          "2021-06-17T00:00:00",
          "2021-06-16T00:00:00",
          "2021-06-15T00:00:00",
          "2021-06-14T00:00:00",
          "2021-06-13T00:00:00",
          "2021-06-13T00:00:00",
          "2021-06-13T00:00:00",
          "2021-06-12T00:00:00",
          "2021-06-11T00:00:00",
          "2021-06-11T00:00:00",
          "2021-06-10T00:00:00",
          "2021-06-08T00:00:00",
          "2021-06-08T00:00:00",
          "2021-06-07T00:00:00",
          "2021-06-07T00:00:00",
          "2021-06-06T00:00:00",
          "2021-06-05T00:00:00",
          "2021-06-05T00:00:00",
          "2021-06-04T00:00:00",
          "2021-06-02T00:00:00",
          "2021-06-02T00:00:00",
          "2021-06-01T00:00:00",
          "2021-05-31T00:00:00",
          "2021-05-30T00:00:00",
          "2021-05-29T00:00:00",
          "2021-05-28T00:00:00",
          "2021-05-23T00:00:00",
          "2021-05-21T00:00:00",
          "2021-05-16T00:00:00",
          "2021-05-15T00:00:00",
          "2021-05-14T00:00:00",
          "2021-05-11T00:00:00",
          "2021-05-02T00:00:00",
          "2021-04-18T00:00:00",
          "2021-04-17T00:00:00",
          "2021-04-13T00:00:00",
          "2021-04-06T00:00:00",
          "2021-04-05T00:00:00",
          "2021-03-23T00:00:00",
          "2021-03-17T00:00:00",
          "2021-03-16T00:00:00",
          "2021-03-14T00:00:00",
          "2021-03-10T00:00:00",
          "2021-03-09T00:00:00",
          "2021-02-21T00:00:00",
          "2021-02-19T00:00:00",
          "2021-02-17T00:00:00",
          "2021-02-15T00:00:00",
          "2021-02-09T00:00:00",
          "2021-02-09T00:00:00",
          "2021-02-08T00:00:00",
          "2021-01-31T00:00:00",
          "2020-11-02T00:00:00",
          "2020-10-12T00:00:00",
          "2020-10-11T00:00:00",
          "2020-10-11T00:00:00",
          "2020-09-23T00:00:00",
          "2020-09-18T00:00:00",
          "2020-09-18T00:00:00",
          "2020-09-14T00:00:00",
          "2020-09-13T00:00:00",
          "2020-09-12T00:00:00",
          "2020-09-11T00:00:00",
          "2020-08-24T00:00:00",
          "2020-08-23T00:00:00",
          "2020-08-16T00:00:00",
          "2020-08-08T00:00:00",
          "2020-08-07T00:00:00",
          "2020-07-29T00:00:00",
          "2020-07-11T00:00:00",
          "2020-07-10T00:00:00",
          "2020-07-07T00:00:00",
          "2020-07-06T00:00:00",
          "2020-06-23T00:00:00",
          "2020-06-20T00:00:00",
          "2020-06-19T00:00:00",
          "2020-05-24T00:00:00",
          "2020-05-15T00:00:00",
          "2020-05-07T00:00:00",
          "2020-05-06T00:00:00",
          "2020-04-28T00:00:00",
          "2020-04-23T00:00:00",
          "2020-04-20T00:00:00",
          "2020-04-01T00:00:00",
          "2020-03-29T00:00:00",
          "2020-03-24T00:00:00",
          "2020-03-21T00:00:00",
          "2020-03-11T00:00:00",
          "2020-03-08T00:00:00",
          "2020-02-18T00:00:00",
          "2020-02-02T00:00:00",
          "2020-01-29T00:00:00",
          "2019-10-29T00:00:00",
          "2019-08-30T00:00:00",
          "2019-06-27T00:00:00",
          "2019-06-07T00:00:00",
          "2019-05-23T00:00:00",
          "2019-04-25T00:00:00",
          "2019-04-23T00:00:00",
          "2019-03-27T00:00:00",
          "2019-03-11T00:00:00",
          "2019-02-17T00:00:00",
          "2018-10-31T00:00:00",
          "2018-10-12T00:00:00",
          "2018-10-11T00:00:00",
          "2018-10-08T00:00:00",
          "2018-10-04T00:00:00",
          "2018-09-29T00:00:00",
          "2018-09-27T00:00:00",
          "2018-08-28T00:00:00",
          "2018-08-03T00:00:00",
          "2018-07-14T00:00:00",
          "2018-06-24T00:00:00",
          "2018-06-08T00:00:00",
          "2018-05-05T00:00:00",
          "2018-04-16T00:00:00",
          "2018-04-07T00:00:00",
          "2018-03-25T00:00:00",
          "2018-03-20T00:00:00",
          "2018-03-17T00:00:00",
          "2018-02-18T00:00:00",
          "2018-02-15T00:00:00",
          "2018-01-24T00:00:00",
          "2017-10-14T00:00:00",
          "2017-10-11T00:00:00",
          "2017-10-08T00:00:00",
          "2017-09-20T00:00:00",
          "2017-09-19T00:00:00",
          "2017-09-12T00:00:00",
          "2017-08-29T00:00:00",
          "2017-07-31T00:00:00",
          "2017-07-18T00:00:00",
          "2017-06-21T00:00:00",
          "2017-06-17T00:00:00",
          "2017-06-16T00:00:00",
          "2017-06-14T00:00:00",
          "2017-06-12T00:00:00",
          "2017-06-12T00:00:00",
          "2017-06-02T00:00:00",
          "2017-06-02T00:00:00"
         ],
         "xaxis": "x",
         "y": [
          16.2,
          15.1,
          14.9,
          14.7,
          14.6,
          13.8,
          14.6,
          14.8,
          14.9,
          15.1,
          14.4,
          14.3,
          14.6,
          14.3,
          13.8,
          14.2,
          14.2,
          14.1,
          15.1,
          14.2,
          13.7,
          13.9,
          14,
          14.1,
          13.9,
          13.4,
          13.8,
          12.6,
          13.8,
          13.8,
          14.1,
          13.2,
          13.2,
          13.7,
          13.7,
          13.6,
          13.6,
          13.7,
          12.4,
          13.5,
          13.9,
          13.3,
          13.5,
          14,
          13.9,
          12.5,
          13.9,
          13.7,
          12.7,
          12.2,
          13.2,
          12.6,
          13.6,
          13.4,
          12.1,
          13,
          13.2,
          12.5,
          12.7,
          13.4,
          12.7,
          13.3,
          13.8,
          14.4,
          12.1,
          13.5,
          13.6,
          12.2,
          12.5,
          12.9,
          12.7,
          12,
          13.3,
          13.7,
          13.2,
          13.4,
          11.9,
          12.4,
          14.6,
          13.8,
          13,
          11.8,
          13.3,
          12.9,
          12.6,
          13.5,
          13.5,
          12.9,
          14.1,
          13.7,
          13.9,
          13.4,
          13.6,
          14,
          12.5,
          12.4,
          12,
          12.6,
          12.1,
          12.2,
          12.6,
          12.8,
          12.4,
          12.1,
          12.8,
          12.7,
          12.9,
          13,
          12.9,
          12.9,
          12.9,
          14.1,
          13.8,
          12.3,
          13.8,
          12.9,
          13,
          12.9,
          14.3,
          12.9,
          9,
          8.6,
          7.8,
          8.8,
          9,
          8.7,
          8.6,
          8.7,
          9.1,
          7.5,
          7.2,
          7.8,
          7.4,
          8.1,
          10,
          8.3,
          9.3,
          8.6,
          8.2,
          8.3,
          9.4,
          8.6,
          9,
          10,
          8.4,
          8.1,
          8.3,
          8.3,
          8.4,
          8.1,
          8.5,
          7.4,
          7.4,
          7.3,
          8.3,
          8.7,
          9,
          9,
          8.1,
          11,
          9,
          8.4,
          10.7,
          9.5,
          8,
          8.8,
          9.4,
          9.1,
          12.7,
          10.9,
          9.4,
          10.7,
          8.6,
          9.4,
          9.1,
          8.9,
          9.1,
          9.2,
          9.9,
          8.9,
          9.4,
          10.6,
          10.5,
          10,
          9.5,
          11.9,
          10.3,
          10.1,
          10.4,
          10.2,
          10.2,
          10.3,
          10.1,
          11.2,
          10.4,
          10.2,
          10.8,
          10.6,
          10.4,
          10.8,
          10.9,
          11.4,
          11.2,
          11.6,
          11.3,
          11,
          11.4,
          11.6,
          11.3,
          11.6,
          11.5,
          11.7,
          11.4,
          12,
          11.8,
          12,
          12,
          12,
          12.4,
          12,
          12.4,
          12.5,
          12.6,
          12.1,
          12.3,
          12.6,
          12.6,
          12.5,
          12.7,
          12.8,
          12.7,
          12.4,
          12.8,
          12.8,
          12.7,
          12.6,
          12.5,
          11.8,
          12.6,
          12.8,
          11.2,
          12.9,
          12.8,
          13,
          12.8,
          12.6,
          12.6,
          13.2,
          12.6,
          12.6,
          13.3,
          12.6,
          12.8,
          12.8,
          12.8,
          12.7,
          13.6,
          12.8,
          13.4,
          12.8,
          12.7,
          12.8,
          13,
          12.9,
          13.4,
          12.5,
          13.4,
          12.9,
          12.6,
          12.7,
          12.9,
          12.6,
          13,
          12.7,
          12.9,
          12.9,
          12.8,
          12.8,
          12.9,
          12.8,
          12.5,
          12.9,
          12.9,
          12.9,
          13.6,
          13.2,
          13.6,
          12.9,
          13.4,
          13.4,
          13.3,
          12.5,
          12.8,
          13.2,
          12.5,
          12.9,
          13.7,
          13.2,
          13,
          13.1,
          12.4,
          13,
          13.5,
          13,
          13,
          12.9,
          13.4,
          13.4,
          13.2,
          13.2,
          13.1,
          13.7,
          13.1,
          13.2,
          13.2,
          13,
          13.8,
          13.2,
          12.8,
          13.3,
          13.2,
          13.8,
          13.4,
          13.3,
          13.1,
          13.4,
          13.4,
          13.3,
          13.2,
          13.6,
          13.2,
          13.4,
          12.9,
          13.2,
          13.4,
          13.7,
          14,
          13.5,
          13.7,
          13.7,
          13.6,
          13.7,
          13.4,
          14,
          13.7,
          13.7,
          14,
          14.2,
          14.2,
          13.5,
          14,
          13.7,
          14.2,
          14.1,
          14.8,
          14.2,
          14.1,
          14.4,
          14.8,
          14.5,
          14.4,
          14.1,
          14.3,
          14,
          14,
          14.6,
          13.7,
          13.6,
          14.4,
          15.1,
          15.6,
          15,
          15.2,
          15.7,
          15.7,
          16,
          15.3,
          15.1,
          15.5,
          15.7,
          15.1,
          15,
          15.5,
          15.8,
          15.6,
          15.3,
          15.4,
          15,
          15.5,
          15.5,
          15.3,
          16.3,
          15.5,
          15.3,
          15.8,
          15.5,
          15.7,
          15.5,
          15.7,
          16.3,
          15.3,
          9.4,
          15.7,
          15.8,
          16.3,
          15.8,
          16.1,
          14.8,
          16.3,
          16.9,
          16.8,
          16.4,
          16,
          16.8,
          16.2,
          17.6,
          17.7,
          16.1,
          17.2,
          17.7,
          17.8,
          17.8,
          17.5,
          17.8,
          17.7,
          17.7,
          17.7,
          17.6,
          17.8,
          17.3,
          17.6,
          17.7,
          18,
          18.7,
          18,
          18.5,
          17.4,
          18.1,
          18.2,
          18.2,
          18.7,
          18.5,
          18.4,
          19.1,
          19.2,
          17.8,
          18.3,
          19,
          16.2,
          17.8,
          17.8,
          18.5,
          18.4,
          17.8,
          18.7,
          19.1,
          18.2
         ],
         "yaxis": "y"
        },
        {
         "hovertemplate": "Observation Method=Z<br>Observation Date=%{x}<br>Apparent total magnitude=%{y}<extra></extra>",
         "legendgroup": "Z",
         "marker": {
          "color": "#EF553B",
          "symbol": "circle"
         },
         "mode": "markers",
         "name": "Z",
         "showlegend": true,
         "type": "scattergl",
         "x": [
          "2024-09-04T00:00:00",
          "2024-04-12T00:00:00",
          "2024-04-09T00:00:00",
          "2024-04-08T00:00:00",
          "2024-04-02T00:00:00",
          "2024-03-24T00:00:00",
          "2024-03-09T00:00:00",
          "2024-03-05T00:00:00",
          "2024-03-03T00:00:00",
          "2024-02-27T00:00:00",
          "2024-02-25T00:00:00",
          "2024-02-25T00:00:00",
          "2024-02-18T00:00:00",
          "2024-02-16T00:00:00",
          "2024-02-15T00:00:00",
          "2024-02-13T00:00:00",
          "2024-02-12T00:00:00",
          "2024-02-11T00:00:00",
          "2024-02-02T00:00:00",
          "2024-02-01T00:00:00",
          "2024-01-30T00:00:00",
          "2024-01-29T00:00:00",
          "2024-01-28T00:00:00",
          "2024-01-27T00:00:00",
          "2024-01-27T00:00:00",
          "2024-01-26T00:00:00",
          "2024-01-20T00:00:00",
          "2024-01-19T00:00:00",
          "2024-01-19T00:00:00",
          "2024-01-15T00:00:00",
          "2024-01-10T00:00:00",
          "2024-01-10T00:00:00",
          "2024-01-10T00:00:00",
          "2024-01-10T00:00:00",
          "2024-01-09T00:00:00",
          "2024-01-08T00:00:00",
          "2024-01-01T00:00:00",
          "2024-01-01T00:00:00",
          "2023-12-30T00:00:00",
          "2023-12-29T00:00:00",
          "2023-12-18T00:00:00",
          "2023-12-18T00:00:00",
          "2023-12-17T00:00:00",
          "2023-12-15T00:00:00",
          "2023-12-11T00:00:00",
          "2023-12-10T00:00:00",
          "2023-12-08T00:00:00",
          "2023-12-07T00:00:00",
          "2023-11-23T00:00:00",
          "2023-11-19T00:00:00",
          "2023-11-16T00:00:00",
          "2023-11-16T00:00:00",
          "2023-11-12T00:00:00",
          "2023-11-09T00:00:00",
          "2023-10-24T00:00:00",
          "2023-10-23T00:00:00",
          "2023-10-16T00:00:00",
          "2023-10-13T00:00:00",
          "2023-10-10T00:00:00",
          "2023-10-07T00:00:00",
          "2023-10-02T00:00:00",
          "2023-09-27T00:00:00",
          "2023-09-24T00:00:00",
          "2023-09-20T00:00:00",
          "2023-09-20T00:00:00",
          "2023-09-15T00:00:00",
          "2023-09-14T00:00:00",
          "2023-08-19T00:00:00",
          "2023-08-18T00:00:00",
          "2023-07-28T00:00:00",
          "2023-05-30T00:00:00",
          "2023-05-19T00:00:00",
          "2023-04-26T00:00:00",
          "2023-04-20T00:00:00",
          "2023-04-11T00:00:00",
          "2023-03-24T00:00:00",
          "2023-03-15T00:00:00",
          "2023-03-10T00:00:00",
          "2023-03-02T00:00:00",
          "2023-02-21T00:00:00",
          "2023-02-16T00:00:00",
          "2023-01-14T00:00:00",
          "2023-01-13T00:00:00",
          "2022-11-16T00:00:00",
          "2022-11-11T00:00:00",
          "2022-11-10T00:00:00",
          "2022-11-01T00:00:00",
          "2022-10-29T00:00:00",
          "2022-10-27T00:00:00",
          "2022-10-24T00:00:00",
          "2022-10-19T00:00:00",
          "2022-10-18T00:00:00",
          "2022-10-14T00:00:00",
          "2022-10-05T00:00:00",
          "2022-10-02T00:00:00",
          "2022-09-28T00:00:00",
          "2022-09-26T00:00:00",
          "2022-09-21T00:00:00",
          "2022-09-20T00:00:00",
          "2022-09-18T00:00:00",
          "2022-09-16T00:00:00",
          "2022-09-13T00:00:00",
          "2022-09-01T00:00:00",
          "2022-08-29T00:00:00",
          "2022-08-28T00:00:00",
          "2022-08-27T00:00:00",
          "2022-08-26T00:00:00",
          "2022-08-25T00:00:00",
          "2022-08-25T00:00:00",
          "2022-08-24T00:00:00",
          "2022-08-23T00:00:00",
          "2022-08-22T00:00:00",
          "2022-08-21T00:00:00",
          "2022-08-20T00:00:00",
          "2022-08-19T00:00:00",
          "2022-08-18T00:00:00",
          "2022-08-18T00:00:00",
          "2022-08-17T00:00:00",
          "2022-08-17T00:00:00",
          "2022-08-16T00:00:00",
          "2022-08-16T00:00:00",
          "2022-08-15T00:00:00",
          "2022-08-15T00:00:00",
          "2022-08-14T00:00:00",
          "2022-08-13T00:00:00",
          "2022-08-13T00:00:00",
          "2022-08-11T00:00:00",
          "2022-08-09T00:00:00",
          "2022-08-08T00:00:00",
          "2022-08-07T00:00:00",
          "2022-08-04T00:00:00",
          "2022-08-03T00:00:00",
          "2022-08-03T00:00:00",
          "2022-08-03T00:00:00",
          "2022-08-02T00:00:00",
          "2022-08-02T00:00:00",
          "2022-08-01T00:00:00",
          "2022-08-01T00:00:00",
          "2022-08-01T00:00:00",
          "2022-07-31T00:00:00",
          "2022-07-30T00:00:00",
          "2022-07-29T00:00:00",
          "2022-07-28T00:00:00",
          "2022-07-27T00:00:00",
          "2022-07-27T00:00:00",
          "2022-07-27T00:00:00",
          "2022-07-27T00:00:00",
          "2022-07-26T00:00:00",
          "2022-07-25T00:00:00",
          "2022-07-25T00:00:00",
          "2022-07-24T00:00:00",
          "2022-07-24T00:00:00",
          "2022-07-24T00:00:00",
          "2022-07-23T00:00:00",
          "2022-07-23T00:00:00",
          "2022-07-22T00:00:00",
          "2022-07-22T00:00:00",
          "2022-07-21T00:00:00",
          "2022-07-20T00:00:00",
          "2022-07-19T00:00:00",
          "2022-07-16T00:00:00",
          "2022-07-16T00:00:00",
          "2022-07-15T00:00:00",
          "2022-07-11T00:00:00",
          "2022-07-09T00:00:00",
          "2022-07-08T00:00:00",
          "2022-07-07T00:00:00",
          "2022-07-07T00:00:00",
          "2022-07-06T00:00:00",
          "2022-07-06T00:00:00",
          "2022-07-03T00:00:00",
          "2022-07-03T00:00:00",
          "2022-07-03T00:00:00",
          "2022-07-02T00:00:00",
          "2022-07-01T00:00:00",
          "2022-07-01T00:00:00",
          "2022-06-30T00:00:00",
          "2022-06-29T00:00:00",
          "2022-06-28T00:00:00",
          "2022-06-28T00:00:00",
          "2022-06-26T00:00:00",
          "2022-06-24T00:00:00",
          "2022-06-23T00:00:00",
          "2022-06-21T00:00:00",
          "2022-06-21T00:00:00",
          "2022-06-21T00:00:00",
          "2022-06-20T00:00:00",
          "2022-06-20T00:00:00",
          "2022-06-20T00:00:00",
          "2022-06-20T00:00:00",
          "2022-06-20T00:00:00",
          "2022-06-18T00:00:00",
          "2022-06-14T00:00:00",
          "2022-06-11T00:00:00",
          "2022-06-08T00:00:00",
          "2022-06-08T00:00:00",
          "2022-06-04T00:00:00",
          "2022-06-03T00:00:00",
          "2022-06-03T00:00:00",
          "2022-05-28T00:00:00",
          "2022-05-28T00:00:00",
          "2022-05-27T00:00:00",
          "2022-05-27T00:00:00",
          "2022-05-25T00:00:00",
          "2022-05-23T00:00:00",
          "2022-05-21T00:00:00",
          "2022-05-21T00:00:00",
          "2022-05-19T00:00:00",
          "2022-05-15T00:00:00",
          "2022-05-12T00:00:00",
          "2022-05-10T00:00:00",
          "2022-05-09T00:00:00",
          "2022-05-09T00:00:00",
          "2022-05-09T00:00:00",
          "2022-05-07T00:00:00",
          "2022-05-06T00:00:00",
          "2022-05-03T00:00:00",
          "2022-05-03T00:00:00",
          "2022-04-30T00:00:00",
          "2022-04-25T00:00:00",
          "2022-04-24T00:00:00",
          "2022-04-20T00:00:00",
          "2022-04-16T00:00:00",
          "2022-04-15T00:00:00",
          "2022-04-11T00:00:00",
          "2022-04-09T00:00:00",
          "2022-04-02T00:00:00",
          "2022-03-28T00:00:00",
          "2022-03-28T00:00:00",
          "2022-03-23T00:00:00",
          "2022-03-23T00:00:00",
          "2022-03-13T00:00:00",
          "2022-03-13T00:00:00",
          "2022-03-12T00:00:00",
          "2022-03-10T00:00:00",
          "2022-03-09T00:00:00",
          "2022-03-08T00:00:00",
          "2022-03-03T00:00:00",
          "2022-03-02T00:00:00",
          "2022-02-28T00:00:00",
          "2022-02-28T00:00:00",
          "2022-02-28T00:00:00",
          "2022-02-24T00:00:00",
          "2022-02-13T00:00:00",
          "2022-02-08T00:00:00",
          "2022-02-08T00:00:00",
          "2022-02-08T00:00:00",
          "2022-02-02T00:00:00",
          "2022-01-31T00:00:00",
          "2022-01-29T00:00:00",
          "2022-01-22T00:00:00",
          "2022-01-14T00:00:00",
          "2022-01-11T00:00:00",
          "2021-12-10T00:00:00",
          "2021-12-10T00:00:00",
          "2021-11-22T00:00:00",
          "2021-11-11T00:00:00",
          "2021-11-10T00:00:00",
          "2021-11-09T00:00:00",
          "2021-11-06T00:00:00",
          "2021-10-28T00:00:00",
          "2021-10-28T00:00:00",
          "2021-10-24T00:00:00",
          "2021-10-24T00:00:00",
          "2021-10-22T00:00:00",
          "2021-10-16T00:00:00",
          "2021-10-15T00:00:00",
          "2021-10-15T00:00:00",
          "2021-10-09T00:00:00",
          "2021-10-09T00:00:00",
          "2021-10-09T00:00:00",
          "2021-10-08T00:00:00",
          "2021-10-08T00:00:00",
          "2021-10-07T00:00:00",
          "2021-10-03T00:00:00",
          "2021-10-01T00:00:00",
          "2021-09-30T00:00:00",
          "2021-09-28T00:00:00",
          "2021-09-25T00:00:00",
          "2021-09-25T00:00:00",
          "2021-09-25T00:00:00",
          "2021-09-22T00:00:00",
          "2021-09-22T00:00:00",
          "2021-09-21T00:00:00",
          "2021-09-18T00:00:00",
          "2021-09-16T00:00:00",
          "2021-09-14T00:00:00",
          "2021-09-13T00:00:00",
          "2021-09-12T00:00:00",
          "2021-09-11T00:00:00",
          "2021-09-10T00:00:00",
          "2021-09-08T00:00:00",
          "2021-09-08T00:00:00",
          "2021-09-07T00:00:00",
          "2021-09-05T00:00:00",
          "2021-09-05T00:00:00",
          "2021-09-04T00:00:00",
          "2021-09-03T00:00:00",
          "2021-08-30T00:00:00",
          "2021-08-30T00:00:00",
          "2021-08-27T00:00:00",
          "2021-08-24T00:00:00",
          "2021-08-17T00:00:00",
          "2021-08-15T00:00:00",
          "2021-08-14T00:00:00",
          "2021-08-11T00:00:00",
          "2021-08-11T00:00:00",
          "2021-08-10T00:00:00",
          "2021-08-09T00:00:00",
          "2021-08-06T00:00:00",
          "2021-08-04T00:00:00",
          "2021-08-04T00:00:00",
          "2021-08-04T00:00:00",
          "2021-07-31T00:00:00",
          "2021-07-29T00:00:00",
          "2021-07-29T00:00:00",
          "2021-07-29T00:00:00",
          "2021-07-27T00:00:00",
          "2021-07-21T00:00:00",
          "2021-07-20T00:00:00",
          "2021-07-19T00:00:00",
          "2021-07-18T00:00:00",
          "2021-07-17T00:00:00",
          "2021-07-17T00:00:00",
          "2021-07-14T00:00:00",
          "2021-07-14T00:00:00",
          "2021-07-10T00:00:00",
          "2021-07-10T00:00:00",
          "2021-07-10T00:00:00",
          "2021-07-09T00:00:00",
          "2021-07-07T00:00:00",
          "2021-07-07T00:00:00",
          "2021-07-06T00:00:00",
          "2021-07-05T00:00:00",
          "2021-07-03T00:00:00",
          "2021-07-02T00:00:00",
          "2021-07-01T00:00:00",
          "2021-07-01T00:00:00",
          "2021-06-29T00:00:00",
          "2021-06-27T00:00:00",
          "2021-06-25T00:00:00",
          "2021-06-24T00:00:00",
          "2021-06-20T00:00:00",
          "2021-06-17T00:00:00",
          "2021-06-16T00:00:00",
          "2021-06-16T00:00:00",
          "2021-06-14T00:00:00",
          "2021-06-13T00:00:00",
          "2021-06-13T00:00:00",
          "2021-06-10T00:00:00",
          "2021-06-08T00:00:00",
          "2021-06-07T00:00:00",
          "2021-06-07T00:00:00",
          "2021-06-04T00:00:00",
          "2021-06-01T00:00:00",
          "2021-06-01T00:00:00",
          "2021-05-29T00:00:00",
          "2021-05-24T00:00:00",
          "2021-05-24T00:00:00",
          "2021-05-24T00:00:00",
          "2021-05-16T00:00:00",
          "2021-05-14T00:00:00",
          "2021-05-11T00:00:00",
          "2021-05-08T00:00:00",
          "2021-05-08T00:00:00",
          "2021-05-05T00:00:00",
          "2021-05-04T00:00:00",
          "2021-05-03T00:00:00",
          "2021-04-30T00:00:00",
          "2021-04-28T00:00:00",
          "2021-04-26T00:00:00",
          "2021-04-25T00:00:00",
          "2021-04-23T00:00:00",
          "2021-04-23T00:00:00",
          "2021-04-21T00:00:00",
          "2021-04-21T00:00:00",
          "2021-04-19T00:00:00",
          "2021-04-15T00:00:00",
          "2021-04-14T00:00:00",
          "2021-04-14T00:00:00",
          "2021-04-14T00:00:00",
          "2021-04-12T00:00:00",
          "2021-04-09T00:00:00",
          "2021-04-05T00:00:00",
          "2021-04-04T00:00:00",
          "2021-04-01T00:00:00",
          "2021-03-30T00:00:00",
          "2021-03-30T00:00:00",
          "2021-03-22T00:00:00",
          "2021-03-22T00:00:00",
          "2021-03-20T00:00:00",
          "2021-03-17T00:00:00",
          "2021-03-16T00:00:00",
          "2021-03-07T00:00:00",
          "2021-03-06T00:00:00",
          "2021-02-24T00:00:00",
          "2021-02-22T00:00:00",
          "2021-02-22T00:00:00",
          "2021-02-21T00:00:00",
          "2021-02-15T00:00:00",
          "2021-02-15T00:00:00",
          "2021-02-11T00:00:00",
          "2021-02-05T00:00:00",
          "2021-01-25T00:00:00",
          "2021-01-24T00:00:00",
          "2021-01-18T00:00:00",
          "2021-01-17T00:00:00",
          "2021-01-16T00:00:00",
          "2021-01-11T00:00:00",
          "2021-01-11T00:00:00",
          "2020-12-27T00:00:00",
          "2020-12-26T00:00:00",
          "2020-12-19T00:00:00",
          "2020-12-08T00:00:00",
          "2020-11-25T00:00:00",
          "2020-11-24T00:00:00",
          "2020-11-23T00:00:00",
          "2020-11-23T00:00:00",
          "2020-11-21T00:00:00",
          "2020-11-20T00:00:00",
          "2020-11-18T00:00:00",
          "2020-11-18T00:00:00",
          "2020-11-14T00:00:00",
          "2020-11-14T00:00:00",
          "2020-11-08T00:00:00",
          "2020-11-08T00:00:00",
          "2020-11-06T00:00:00",
          "2020-11-05T00:00:00",
          "2020-11-05T00:00:00",
          "2020-10-24T00:00:00",
          "2020-10-19T00:00:00",
          "2020-10-19T00:00:00",
          "2020-10-17T00:00:00",
          "2020-10-12T00:00:00",
          "2020-10-10T00:00:00",
          "2020-10-10T00:00:00",
          "2020-10-03T00:00:00",
          "2020-09-30T00:00:00",
          "2020-09-30T00:00:00",
          "2020-09-29T00:00:00",
          "2020-09-19T00:00:00",
          "2020-09-19T00:00:00",
          "2020-09-17T00:00:00",
          "2020-09-15T00:00:00",
          "2020-09-14T00:00:00",
          "2020-09-14T00:00:00",
          "2020-09-12T00:00:00",
          "2020-09-11T00:00:00",
          "2020-09-10T00:00:00",
          "2020-09-09T00:00:00",
          "2020-09-07T00:00:00",
          "2020-09-05T00:00:00",
          "2020-09-03T00:00:00",
          "2020-09-02T00:00:00",
          "2020-08-21T00:00:00",
          "2020-08-20T00:00:00",
          "2020-08-19T00:00:00",
          "2020-08-16T00:00:00",
          "2020-07-31T00:00:00",
          "2020-07-30T00:00:00",
          "2020-07-30T00:00:00",
          "2020-07-29T00:00:00",
          "2020-07-26T00:00:00",
          "2020-07-18T00:00:00",
          "2020-07-18T00:00:00",
          "2020-07-12T00:00:00",
          "2020-07-11T00:00:00",
          "2020-07-09T00:00:00",
          "2020-07-03T00:00:00",
          "2020-06-27T00:00:00",
          "2020-06-25T00:00:00",
          "2020-06-23T00:00:00",
          "2020-06-21T00:00:00",
          "2020-06-13T00:00:00",
          "2020-06-12T00:00:00",
          "2020-06-01T00:00:00",
          "2020-06-01T00:00:00",
          "2020-05-17T00:00:00",
          "2020-05-16T00:00:00",
          "2020-04-28T00:00:00",
          "2020-04-26T00:00:00",
          "2020-04-24T00:00:00",
          "2020-04-21T00:00:00",
          "2020-04-18T00:00:00",
          "2020-04-16T00:00:00",
          "2020-04-16T00:00:00",
          "2020-04-14T00:00:00",
          "2020-04-02T00:00:00",
          "2020-03-26T00:00:00",
          "2020-03-25T00:00:00",
          "2020-03-25T00:00:00",
          "2020-03-25T00:00:00",
          "2020-03-24T00:00:00",
          "2020-03-22T00:00:00",
          "2020-03-20T00:00:00",
          "2020-03-18T00:00:00",
          "2020-03-16T00:00:00",
          "2020-03-15T00:00:00",
          "2020-03-04T00:00:00",
          "2020-02-20T00:00:00",
          "2020-02-07T00:00:00",
          "2020-02-02T00:00:00",
          "2020-01-24T00:00:00",
          "2020-01-22T00:00:00",
          "2020-01-17T00:00:00",
          "2020-01-02T00:00:00",
          "2020-01-01T00:00:00",
          "2019-12-29T00:00:00",
          "2019-12-21T00:00:00",
          "2019-12-17T00:00:00",
          "2019-12-10T00:00:00",
          "2019-12-04T00:00:00",
          "2019-12-04T00:00:00",
          "2019-11-14T00:00:00",
          "2019-11-10T00:00:00",
          "2019-10-31T00:00:00",
          "2019-10-30T00:00:00",
          "2019-10-25T00:00:00",
          "2019-10-23T00:00:00",
          "2019-10-14T00:00:00",
          "2019-10-13T00:00:00",
          "2019-10-02T00:00:00",
          "2019-09-21T00:00:00",
          "2019-09-21T00:00:00",
          "2019-09-18T00:00:00",
          "2019-09-12T00:00:00",
          "2019-09-02T00:00:00",
          "2019-08-31T00:00:00",
          "2019-08-31T00:00:00",
          "2019-08-30T00:00:00",
          "2019-08-25T00:00:00",
          "2019-08-25T00:00:00",
          "2019-08-24T00:00:00",
          "2019-08-22T00:00:00",
          "2019-08-22T00:00:00",
          "2019-08-10T00:00:00",
          "2019-08-10T00:00:00",
          "2019-08-08T00:00:00",
          "2019-08-01T00:00:00",
          "2019-07-25T00:00:00",
          "2019-07-21T00:00:00",
          "2019-06-27T00:00:00",
          "2019-06-27T00:00:00",
          "2019-06-13T00:00:00",
          "2019-06-06T00:00:00",
          "2019-05-23T00:00:00",
          "2019-05-13T00:00:00",
          "2019-05-12T00:00:00",
          "2019-05-02T00:00:00",
          "2019-04-23T00:00:00",
          "2019-04-11T00:00:00",
          "2019-04-07T00:00:00",
          "2019-04-02T00:00:00",
          "2019-04-02T00:00:00",
          "2019-03-31T00:00:00",
          "2019-03-30T00:00:00",
          "2019-03-30T00:00:00",
          "2019-02-28T00:00:00",
          "2019-02-28T00:00:00",
          "2019-02-07T00:00:00",
          "2018-11-16T00:00:00",
          "2018-11-12T00:00:00",
          "2018-11-07T00:00:00",
          "2018-11-05T00:00:00",
          "2018-11-01T00:00:00",
          "2018-10-21T00:00:00",
          "2018-10-14T00:00:00",
          "2018-10-14T00:00:00",
          "2018-10-12T00:00:00",
          "2018-10-11T00:00:00",
          "2018-10-10T00:00:00",
          "2018-10-04T00:00:00",
          "2018-09-30T00:00:00",
          "2018-09-16T00:00:00",
          "2018-09-15T00:00:00",
          "2018-09-11T00:00:00",
          "2018-09-05T00:00:00",
          "2018-08-16T00:00:00",
          "2018-08-12T00:00:00",
          "2018-08-05T00:00:00",
          "2018-07-13T00:00:00",
          "2018-07-08T00:00:00",
          "2018-06-18T00:00:00",
          "2018-05-05T00:00:00",
          "2018-04-04T00:00:00",
          "2018-02-19T00:00:00",
          "2017-07-25T00:00:00"
         ],
         "xaxis": "x",
         "y": [
          15.2,
          14.4,
          14,
          14.1,
          14,
          16,
          13.6,
          14.5,
          13.5,
          13.8,
          13.4,
          13.4,
          13.4,
          13.1,
          13,
          14,
          12.9,
          13.6,
          13,
          13.7,
          13.3,
          13.1,
          13.9,
          13.1,
          12.9,
          12.3,
          12.9,
          12.8,
          12.6,
          12.7,
          12.4,
          12.5,
          12.4,
          13.3,
          12.2,
          12.5,
          12.4,
          13.1,
          12.6,
          12,
          11.9,
          11.6,
          12.1,
          12.8,
          12.6,
          12,
          12.3,
          12.2,
          12.9,
          12.1,
          12.6,
          12.2,
          12.8,
          12,
          12.2,
          13.1,
          12.5,
          12.4,
          12.6,
          12.1,
          12.2,
          12.2,
          12.6,
          13.8,
          12.6,
          13.1,
          12.2,
          11.8,
          13.4,
          11.6,
          10.7,
          10.4,
          9.9,
          9.7,
          9.6,
          9.2,
          8.9,
          8.8,
          8.7,
          8.6,
          8.5,
          8.1,
          8,
          8.2,
          8.2,
          8.2,
          8.3,
          8.3,
          8.2,
          8.3,
          8.3,
          8.3,
          8.3,
          8.4,
          8.5,
          8.5,
          8.3,
          8.4,
          8.4,
          8.4,
          8.4,
          8.4,
          8.4,
          8.5,
          8.5,
          8.4,
          8.3,
          10.1,
          8.4,
          8.4,
          8.5,
          8.4,
          8.4,
          9.2,
          9.1,
          9.4,
          8.3,
          9,
          8.3,
          9.1,
          8.4,
          8.5,
          8.3,
          8.3,
          8.5,
          8.4,
          8.6,
          8.9,
          8.5,
          8.9,
          8.4,
          8.6,
          8.3,
          8.4,
          8.5,
          8.2,
          8.5,
          9.9,
          8.3,
          8.4,
          8.3,
          8,
          8.4,
          8.6,
          9.7,
          8.2,
          8.3,
          8.4,
          8.4,
          8.4,
          7.9,
          8.6,
          8.4,
          8.4,
          8.5,
          8.6,
          8.4,
          8.4,
          8.4,
          8.4,
          9.5,
          8.5,
          8.8,
          8.6,
          8.4,
          8.3,
          8.8,
          8.4,
          9.2,
          8.5,
          8.5,
          8.3,
          8.6,
          8.6,
          8.6,
          8.7,
          9,
          8.5,
          8.8,
          8.5,
          8.6,
          9.3,
          8.6,
          9.2,
          8.6,
          9.2,
          8.7,
          8.7,
          8.7,
          9.3,
          9.4,
          8.7,
          9.5,
          9.3,
          9.9,
          9,
          9.3,
          9.3,
          9.2,
          9.2,
          9.5,
          9.9,
          9.3,
          10,
          10.1,
          10.4,
          10.1,
          9.8,
          10,
          10.4,
          9.6,
          10.4,
          10.3,
          10.2,
          10.4,
          9.9,
          10.7,
          10.5,
          10,
          10.2,
          10.8,
          10.9,
          11.2,
          10.5,
          11,
          11,
          11.1,
          11.4,
          11.4,
          11.4,
          11.3,
          12,
          11.7,
          11.5,
          11.6,
          11.7,
          11.8,
          11.9,
          11.5,
          11.4,
          11.8,
          11.8,
          11.9,
          12.1,
          12,
          11.9,
          11.9,
          11.9,
          12.1,
          12,
          12.3,
          12.2,
          11.9,
          12.6,
          12.4,
          12.5,
          12.7,
          12.6,
          12.6,
          12.8,
          12.8,
          12.8,
          12.8,
          12.7,
          13,
          12.7,
          12.8,
          12.9,
          13.2,
          12.9,
          12.8,
          12.9,
          12.8,
          12.9,
          12.9,
          12.8,
          12.9,
          12.7,
          13.4,
          13.9,
          12.9,
          13,
          13.1,
          13.2,
          13.2,
          13.1,
          12.9,
          14,
          13.1,
          13.1,
          13.3,
          13.1,
          13,
          13,
          13,
          13.1,
          13.1,
          13.1,
          13.1,
          13.1,
          13,
          13.1,
          13,
          13.2,
          13,
          13.1,
          13.1,
          13.2,
          13.1,
          12.9,
          13.1,
          13.4,
          13.2,
          13.2,
          13.1,
          13.2,
          13.1,
          13.2,
          13.3,
          13.2,
          13.4,
          13.2,
          13.1,
          13,
          13.2,
          13.1,
          13.5,
          13.2,
          13.1,
          13.2,
          13,
          13.4,
          13.4,
          13.2,
          13.6,
          13.2,
          13.4,
          13.4,
          13.2,
          13.2,
          13.9,
          13.4,
          13.4,
          13.4,
          13.3,
          13.3,
          13.4,
          13.4,
          13.4,
          13.3,
          13.4,
          13.4,
          13.4,
          12.7,
          13.5,
          13.5,
          13.6,
          13.7,
          13.5,
          13.7,
          13.7,
          13.7,
          14.2,
          13.8,
          13.7,
          13.8,
          12.6,
          13.8,
          13.9,
          13.8,
          13.8,
          13.8,
          13.9,
          13.9,
          13.8,
          13.8,
          13.4,
          13.3,
          13.5,
          13.9,
          14.1,
          14.3,
          14.1,
          14.2,
          14.1,
          13.9,
          14.3,
          14.2,
          13.6,
          14.4,
          14.2,
          14.5,
          14.3,
          14.9,
          14.3,
          14.3,
          14.9,
          14.4,
          14.5,
          13.7,
          14.9,
          15.6,
          14.6,
          14.3,
          14.7,
          15.2,
          14.6,
          14.7,
          14.7,
          15.1,
          15.1,
          14.9,
          14.9,
          15,
          15,
          15,
          15,
          15,
          14.9,
          15.6,
          15,
          15,
          15.1,
          15.1,
          15,
          15,
          15,
          15.1,
          15.3,
          15,
          15.2,
          15,
          15,
          15.3,
          15.2,
          15.1,
          16,
          16,
          15.3,
          15.2,
          15.3,
          15.2,
          15.1,
          15.2,
          15.4,
          15.7,
          15.2,
          15.4,
          15.7,
          15,
          15.6,
          15.3,
          15.7,
          15.3,
          15.4,
          15.3,
          15.3,
          15.3,
          15.5,
          15.5,
          15.4,
          15.4,
          15.4,
          15.4,
          15.4,
          15.5,
          15.4,
          15.5,
          15.3,
          15.4,
          15.4,
          15.4,
          15.3,
          15.3,
          15.4,
          15.4,
          15.5,
          15.6,
          15.7,
          15.8,
          15.7,
          15.6,
          15.8,
          15.6,
          15.9,
          15.8,
          15.7,
          15.8,
          15.8,
          16.6,
          15.9,
          15.9,
          16,
          16,
          16.1,
          16,
          16.2,
          15.9,
          16.3,
          16.2,
          15.5,
          15.7,
          16.5,
          16.2,
          16.5,
          16.6,
          16.2,
          16.5,
          16.5,
          16.4,
          16.7,
          16.5,
          16.5,
          16.7,
          16.5,
          16.4,
          16.8,
          16.2,
          16.6,
          16.6,
          16.5,
          16.7,
          16.7,
          16.9,
          16.6,
          16.8,
          17,
          16.6,
          16.5,
          16.5,
          16.7,
          17.1,
          16.7,
          16.6,
          16.5,
          16.9,
          16.5,
          16.6,
          16.9,
          16.9,
          16.8,
          16.7,
          16.9,
          16.8,
          16.6,
          16.8,
          17,
          17.1,
          17.2,
          16.8,
          17,
          17.2,
          17.1,
          17.3,
          17,
          17.1,
          17.2,
          17.1,
          16.4,
          17.4,
          17.9,
          17.7,
          17.8,
          18,
          17.2,
          18,
          17.8,
          17.9,
          18,
          17.7,
          17.5,
          18,
          17.8,
          17.7,
          18,
          17.7,
          17.6,
          17.8,
          18.7,
          17.6,
          18.3,
          18.1,
          17.7,
          17.3,
          18.3,
          18.6,
          18.7
         ],
         "yaxis": "y"
        },
        {
         "hovertemplate": "Observation Method=c<br>Observation Date=%{x}<br>Apparent total magnitude=%{y}<extra></extra>",
         "legendgroup": "c",
         "marker": {
          "color": "#00cc96",
          "symbol": "circle"
         },
         "mode": "markers",
         "name": "c",
         "showlegend": true,
         "type": "scattergl",
         "x": [
          "2024-04-12T00:00:00",
          "2024-02-16T00:00:00",
          "2024-01-20T00:00:00",
          "2024-01-19T00:00:00",
          "2024-01-13T00:00:00",
          "2024-01-10T00:00:00",
          "2022-09-09T00:00:00",
          "2022-06-25T00:00:00",
          "2021-06-16T00:00:00"
         ],
         "xaxis": "x",
         "y": [
          16.6,
          15.7,
          13.4,
          13.3,
          14.1,
          null,
          9.2,
          8.5,
          14.5
         ],
         "yaxis": "y"
        },
        {
         "hovertemplate": "Observation Method=M<br>Observation Date=%{x}<br>Apparent total magnitude=%{y}<extra></extra>",
         "legendgroup": "M",
         "marker": {
          "color": "#ab63fa",
          "symbol": "circle"
         },
         "mode": "markers",
         "name": "M",
         "showlegend": true,
         "type": "scattergl",
         "x": [
          "2024-04-10T00:00:00",
          "2024-04-07T00:00:00",
          "2024-03-12T00:00:00",
          "2024-03-07T00:00:00",
          "2024-03-07T00:00:00",
          "2024-03-06T00:00:00",
          "2024-03-05T00:00:00",
          "2024-03-03T00:00:00",
          "2024-03-02T00:00:00",
          "2024-02-13T00:00:00",
          "2024-02-02T00:00:00",
          "2024-02-01T00:00:00",
          "2024-01-21T00:00:00",
          "2024-01-18T00:00:00",
          "2024-01-07T00:00:00",
          "2024-01-05T00:00:00",
          "2024-01-03T00:00:00",
          "2023-12-15T00:00:00",
          "2023-12-14T00:00:00",
          "2023-12-13T00:00:00",
          "2023-12-12T00:00:00",
          "2023-12-11T00:00:00",
          "2023-12-05T00:00:00",
          "2023-10-11T00:00:00",
          "2023-09-18T00:00:00",
          "2023-09-16T00:00:00",
          "2023-09-13T00:00:00",
          "2023-09-12T00:00:00",
          "2023-08-25T00:00:00",
          "2023-08-21T00:00:00",
          "2023-07-29T00:00:00",
          "2023-06-10T00:00:00",
          "2023-05-01T00:00:00",
          "2023-04-23T00:00:00",
          "2023-04-21T00:00:00",
          "2023-04-20T00:00:00",
          "2023-04-19T00:00:00",
          "2023-04-18T00:00:00",
          "2023-04-16T00:00:00",
          "2023-04-15T00:00:00",
          "2023-04-12T00:00:00",
          "2023-04-11T00:00:00",
          "2023-04-10T00:00:00",
          "2023-04-09T00:00:00",
          "2023-04-03T00:00:00",
          "2023-04-02T00:00:00",
          "2023-04-01T00:00:00",
          "2023-03-31T00:00:00",
          "2023-03-30T00:00:00",
          "2023-03-27T00:00:00",
          "2023-03-23T00:00:00",
          "2023-03-21T00:00:00",
          "2023-03-19T00:00:00",
          "2023-03-18T00:00:00",
          "2023-03-18T00:00:00",
          "2023-03-16T00:00:00",
          "2023-03-16T00:00:00",
          "2023-03-15T00:00:00",
          "2023-03-06T00:00:00",
          "2023-02-16T00:00:00",
          "2023-02-02T00:00:00",
          "2023-01-25T00:00:00",
          "2023-01-18T00:00:00",
          "2023-01-15T00:00:00",
          "2023-01-14T00:00:00",
          "2023-01-09T00:00:00",
          "2022-12-26T00:00:00",
          "2022-12-20T00:00:00",
          "2022-11-23T00:00:00",
          "2022-11-18T00:00:00",
          "2022-11-16T00:00:00",
          "2022-11-15T00:00:00",
          "2022-11-12T00:00:00",
          "2022-11-10T00:00:00",
          "2022-11-09T00:00:00",
          "2022-11-08T00:00:00",
          "2022-11-07T00:00:00",
          "2022-11-06T00:00:00",
          "2022-11-05T00:00:00",
          "2022-11-04T00:00:00",
          "2022-10-26T00:00:00",
          "2022-10-25T00:00:00",
          "2022-10-24T00:00:00",
          "2022-10-23T00:00:00",
          "2022-10-22T00:00:00",
          "2022-10-20T00:00:00",
          "2022-10-19T00:00:00",
          "2022-10-15T00:00:00",
          "2022-10-14T00:00:00",
          "2022-10-14T00:00:00",
          "2022-10-04T00:00:00",
          "2022-10-02T00:00:00",
          "2022-10-01T00:00:00",
          "2022-09-25T00:00:00",
          "2022-09-24T00:00:00",
          "2022-09-24T00:00:00",
          "2022-09-23T00:00:00",
          "2022-09-22T00:00:00",
          "2022-09-19T00:00:00",
          "2022-09-19T00:00:00",
          "2022-09-18T00:00:00",
          "2022-09-17T00:00:00",
          "2022-09-17T00:00:00",
          "2022-09-16T00:00:00",
          "2022-08-31T00:00:00",
          "2022-08-30T00:00:00",
          "2022-08-29T00:00:00",
          "2022-08-27T00:00:00",
          "2022-08-26T00:00:00",
          "2022-08-26T00:00:00",
          "2022-08-24T00:00:00",
          "2022-08-24T00:00:00",
          "2022-08-22T00:00:00",
          "2022-08-21T00:00:00",
          "2022-08-20T00:00:00",
          "2022-08-20T00:00:00",
          "2022-08-20T00:00:00",
          "2022-08-16T00:00:00",
          "2022-08-15T00:00:00",
          "2022-08-14T00:00:00",
          "2022-08-13T00:00:00",
          "2022-08-12T00:00:00",
          "2022-08-04T00:00:00",
          "2022-08-03T00:00:00",
          "2022-08-02T00:00:00",
          "2022-08-01T00:00:00",
          "2022-08-01T00:00:00",
          "2022-07-31T00:00:00",
          "2022-07-30T00:00:00",
          "2022-07-29T00:00:00",
          "2022-07-28T00:00:00",
          "2022-07-28T00:00:00",
          "2022-07-26T00:00:00",
          "2022-07-25T00:00:00",
          "2022-07-25T00:00:00",
          "2022-07-23T00:00:00",
          "2022-07-22T00:00:00",
          "2022-07-22T00:00:00",
          "2022-07-21T00:00:00",
          "2022-07-20T00:00:00",
          "2022-07-20T00:00:00",
          "2022-07-19T00:00:00",
          "2022-07-19T00:00:00",
          "2022-07-18T00:00:00",
          "2022-07-14T00:00:00",
          "2022-07-09T00:00:00",
          "2022-07-07T00:00:00",
          "2022-07-06T00:00:00",
          "2022-07-06T00:00:00",
          "2022-07-05T00:00:00",
          "2022-07-05T00:00:00",
          "2022-07-04T00:00:00",
          "2022-07-04T00:00:00",
          "2022-07-03T00:00:00",
          "2022-07-03T00:00:00",
          "2022-07-03T00:00:00",
          "2022-07-02T00:00:00",
          "2022-07-02T00:00:00",
          "2022-07-02T00:00:00",
          "2022-07-02T00:00:00",
          "2022-07-02T00:00:00",
          "2022-07-01T00:00:00",
          "2022-07-01T00:00:00",
          "2022-06-30T00:00:00",
          "2022-06-30T00:00:00",
          "2022-06-29T00:00:00",
          "2022-06-28T00:00:00",
          "2022-06-28T00:00:00",
          "2022-06-26T00:00:00",
          "2022-06-26T00:00:00",
          "2022-06-25T00:00:00",
          "2022-06-25T00:00:00",
          "2022-06-24T00:00:00",
          "2022-06-24T00:00:00",
          "2022-06-24T00:00:00",
          "2022-06-23T00:00:00",
          "2022-06-23T00:00:00",
          "2022-06-23T00:00:00",
          "2022-06-23T00:00:00",
          "2022-06-23T00:00:00",
          "2022-06-23T00:00:00",
          "2022-06-23T00:00:00",
          "2022-06-22T00:00:00",
          "2022-06-22T00:00:00",
          "2022-06-22T00:00:00",
          "2022-06-21T00:00:00",
          "2022-06-21T00:00:00",
          "2022-06-20T00:00:00",
          "2022-06-20T00:00:00",
          "2022-06-19T00:00:00",
          "2022-06-19T00:00:00",
          "2022-06-19T00:00:00",
          "2022-06-18T00:00:00",
          "2022-06-17T00:00:00",
          "2022-06-07T00:00:00",
          "2022-06-06T00:00:00",
          "2022-06-05T00:00:00",
          "2022-06-05T00:00:00",
          "2022-06-04T00:00:00",
          "2022-05-30T00:00:00",
          "2022-05-29T00:00:00",
          "2022-05-29T00:00:00",
          "2022-05-28T00:00:00",
          "2022-05-27T00:00:00",
          "2022-05-26T00:00:00",
          "2022-05-26T00:00:00",
          "2022-05-26T00:00:00",
          "2022-05-25T00:00:00",
          "2022-05-18T00:00:00",
          "2022-05-10T00:00:00",
          "2022-05-09T00:00:00",
          "2022-05-08T00:00:00",
          "2022-05-07T00:00:00",
          "2022-05-07T00:00:00",
          "2022-05-06T00:00:00",
          "2022-05-06T00:00:00",
          "2022-05-02T00:00:00",
          "2022-04-29T00:00:00",
          "2022-04-28T00:00:00",
          "2022-04-27T00:00:00",
          "2022-04-26T00:00:00",
          "2022-04-06T00:00:00",
          "2022-04-04T00:00:00",
          "2022-04-03T00:00:00",
          "2022-04-03T00:00:00",
          "2022-04-01T00:00:00",
          "2022-02-21T00:00:00",
          "2022-02-14T00:00:00",
          "2022-02-09T00:00:00",
          "2021-10-07T00:00:00",
          "2021-10-06T00:00:00",
          "2021-10-06T00:00:00",
          "2021-09-09T00:00:00",
          "2021-09-08T00:00:00",
          "2021-09-06T00:00:00",
          "2021-09-02T00:00:00",
          "2021-09-01T00:00:00",
          "2021-09-01T00:00:00",
          "2021-08-31T00:00:00",
          "2021-08-28T00:00:00",
          "2021-08-13T00:00:00",
          "2021-08-10T00:00:00",
          "2021-08-06T00:00:00",
          "2021-07-31T00:00:00",
          "2021-07-30T00:00:00",
          "2021-07-29T00:00:00",
          "2021-07-27T00:00:00",
          "2021-07-12T00:00:00",
          "2021-07-05T00:00:00",
          "2021-06-15T00:00:00",
          "2021-05-19T00:00:00",
          "2021-05-13T00:00:00",
          "2021-04-12T00:00:00",
          "2021-04-10T00:00:00",
          "2021-03-25T00:00:00",
          "2021-03-24T00:00:00"
         ],
         "xaxis": "x",
         "y": [
          14.1,
          14.2,
          13.8,
          13.5,
          13.8,
          13.4,
          13.1,
          13.3,
          13.3,
          13.2,
          13.6,
          13,
          13,
          13.4,
          12.9,
          12.8,
          12.7,
          12.5,
          12.5,
          12.4,
          12.4,
          12.1,
          12.2,
          13.6,
          13.9,
          13.6,
          13.4,
          13.3,
          13.2,
          13.3,
          11.7,
          10.8,
          10.3,
          10.2,
          10.2,
          10.1,
          11.1,
          10.2,
          9.9,
          9.9,
          9.8,
          9.8,
          9.8,
          9.7,
          9.7,
          9.6,
          9.6,
          9.5,
          9.5,
          9.5,
          9.4,
          9.4,
          9.3,
          9.3,
          9.1,
          9.2,
          9.2,
          8.9,
          8.7,
          8.8,
          8.7,
          8.6,
          8.5,
          8.4,
          8.6,
          8.1,
          8.2,
          8.7,
          8.3,
          8.3,
          8.7,
          8.7,
          8.6,
          8.6,
          8.5,
          8.6,
          8.6,
          8.8,
          8.8,
          8.8,
          8.8,
          8.7,
          8.7,
          8.7,
          8.7,
          8.6,
          8.7,
          8.6,
          8.8,
          9.2,
          8.7,
          8.6,
          8.6,
          8.8,
          8.7,
          9.2,
          8.7,
          8.7,
          8.9,
          9.4,
          8.9,
          8.9,
          8.6,
          9,
          8.9,
          8.9,
          9,
          8.7,
          8.7,
          9.3,
          8.7,
          9.3,
          9.1,
          8.7,
          8.7,
          8.5,
          9.2,
          9,
          8.9,
          9,
          9,
          8.9,
          8.8,
          8.7,
          8.6,
          8.8,
          8.3,
          8.8,
          8.9,
          8.6,
          8.3,
          8.9,
          8.8,
          8.7,
          8.3,
          8.7,
          8.8,
          8.6,
          8.4,
          8.4,
          8.3,
          8.3,
          8.9,
          8.4,
          8.4,
          9.1,
          8.4,
          8.4,
          8.5,
          8.4,
          8.4,
          8.4,
          8.5,
          9.1,
          8.5,
          8.6,
          8.5,
          9.4,
          8.5,
          8.6,
          8.6,
          8.5,
          8.6,
          9.3,
          8.7,
          8.7,
          9.4,
          8.8,
          9.6,
          8.8,
          9.6,
          9,
          8.7,
          9.2,
          8.8,
          8.8,
          8.7,
          8.8,
          8.9,
          8.9,
          9.4,
          8.8,
          9.4,
          9.5,
          8.9,
          9.5,
          8.9,
          8.9,
          9,
          9.6,
          8.8,
          9.2,
          9.7,
          8.9,
          9.4,
          9.5,
          10.6,
          9.5,
          9.6,
          9.8,
          9.8,
          10.2,
          10,
          9.8,
          9.6,
          10.1,
          9.9,
          9.9,
          10.2,
          10.1,
          10.2,
          10.2,
          10.2,
          10.3,
          10.3,
          10.4,
          10.7,
          10.3,
          10.7,
          10.7,
          10.8,
          11.3,
          11.4,
          11.2,
          11.5,
          11.8,
          11.6,
          11.9,
          11.8,
          12.4,
          12.7,
          12.7,
          12.8,
          12.9,
          13.1,
          12.9,
          13,
          11.9,
          13,
          13,
          13,
          13.2,
          13.1,
          13.2,
          13.3,
          13.2,
          13.5,
          13.5,
          13.5,
          13.5,
          13.8,
          14,
          13.9,
          13.8,
          14,
          13.9
         ],
         "yaxis": "y"
        },
        {
         "hovertemplate": "Observation Method=v<br>Observation Date=%{x}<br>Apparent total magnitude=%{y}<extra></extra>",
         "legendgroup": "v",
         "marker": {
          "color": "#FFA15A",
          "symbol": "circle"
         },
         "mode": "markers",
         "name": "v",
         "showlegend": true,
         "type": "scattergl",
         "x": [
          "2024-03-30T00:00:00"
         ],
         "xaxis": "x",
         "y": [
          14.6
         ],
         "yaxis": "y"
        },
        {
         "hovertemplate": "Observation Method=S<br>Observation Date=%{x}<br>Apparent total magnitude=%{y}<extra></extra>",
         "legendgroup": "S",
         "marker": {
          "color": "#19d3f3",
          "symbol": "circle"
         },
         "mode": "markers",
         "name": "S",
         "showlegend": true,
         "type": "scattergl",
         "x": [
          "2024-03-09T00:00:00",
          "2024-03-08T00:00:00",
          "2024-03-08T00:00:00",
          "2024-03-08T00:00:00",
          "2024-03-03T00:00:00",
          "2024-03-02T00:00:00",
          "2024-03-02T00:00:00",
          "2024-02-28T00:00:00",
          "2024-02-12T00:00:00",
          "2024-02-04T00:00:00",
          "2024-02-03T00:00:00",
          "2024-02-02T00:00:00",
          "2024-02-01T00:00:00",
          "2024-01-31T00:00:00",
          "2024-01-30T00:00:00",
          "2024-01-28T00:00:00",
          "2024-01-28T00:00:00",
          "2024-01-15T00:00:00",
          "2024-01-14T00:00:00",
          "2024-01-13T00:00:00",
          "2024-01-10T00:00:00",
          "2024-01-09T00:00:00",
          "2024-01-06T00:00:00",
          "2023-12-19T00:00:00",
          "2023-12-17T00:00:00",
          "2023-12-16T00:00:00",
          "2023-12-09T00:00:00",
          "2023-12-08T00:00:00",
          "2023-12-04T00:00:00",
          "2023-11-24T00:00:00",
          "2023-11-23T00:00:00",
          "2023-11-22T00:00:00",
          "2023-11-22T00:00:00",
          "2023-11-21T00:00:00",
          "2023-11-20T00:00:00",
          "2023-11-19T00:00:00",
          "2023-11-18T00:00:00",
          "2023-11-17T00:00:00",
          "2023-11-15T00:00:00",
          "2023-11-14T00:00:00",
          "2023-11-13T00:00:00",
          "2023-11-09T00:00:00",
          "2023-11-07T00:00:00",
          "2023-10-26T00:00:00",
          "2023-10-23T00:00:00",
          "2023-10-22T00:00:00",
          "2023-10-21T00:00:00",
          "2023-10-19T00:00:00",
          "2023-10-19T00:00:00",
          "2023-10-18T00:00:00",
          "2023-10-17T00:00:00",
          "2023-10-17T00:00:00",
          "2023-10-17T00:00:00",
          "2023-10-16T00:00:00",
          "2023-10-16T00:00:00",
          "2023-10-15T00:00:00",
          "2023-10-14T00:00:00",
          "2023-10-13T00:00:00",
          "2023-10-13T00:00:00",
          "2023-10-11T00:00:00",
          "2023-10-11T00:00:00",
          "2023-09-25T00:00:00",
          "2023-09-24T00:00:00",
          "2023-09-12T00:00:00",
          "2023-05-19T00:00:00",
          "2023-05-18T00:00:00",
          "2023-05-17T00:00:00",
          "2023-05-13T00:00:00",
          "2023-04-18T00:00:00",
          "2023-04-09T00:00:00",
          "2023-03-19T00:00:00",
          "2023-03-18T00:00:00",
          "2023-03-17T00:00:00",
          "2023-03-16T00:00:00",
          "2023-03-14T00:00:00",
          "2023-03-11T00:00:00",
          "2023-02-28T00:00:00",
          "2023-02-27T00:00:00",
          "2023-02-25T00:00:00",
          "2023-02-21T00:00:00",
          "2023-02-21T00:00:00",
          "2023-02-21T00:00:00",
          "2023-02-19T00:00:00",
          "2023-02-18T00:00:00",
          "2023-02-18T00:00:00",
          "2023-02-16T00:00:00",
          "2023-02-15T00:00:00",
          "2023-02-13T00:00:00",
          "2023-02-12T00:00:00",
          "2023-01-27T00:00:00",
          "2023-01-25T00:00:00",
          "2023-01-25T00:00:00",
          "2023-01-23T00:00:00",
          "2023-01-18T00:00:00",
          "2023-01-15T00:00:00",
          "2023-01-10T00:00:00",
          "2023-01-08T00:00:00",
          "2022-11-23T00:00:00",
          "2022-11-11T00:00:00",
          "2022-10-27T00:00:00",
          "2022-10-23T00:00:00",
          "2022-10-23T00:00:00",
          "2022-10-16T00:00:00",
          "2022-09-24T00:00:00",
          "2022-09-19T00:00:00",
          "2022-09-18T00:00:00",
          "2022-09-16T00:00:00",
          "2022-09-10T00:00:00",
          "2022-09-06T00:00:00",
          "2022-08-31T00:00:00",
          "2022-08-30T00:00:00",
          "2022-08-27T00:00:00",
          "2022-08-27T00:00:00",
          "2022-08-24T00:00:00",
          "2022-08-20T00:00:00",
          "2022-08-19T00:00:00",
          "2022-08-19T00:00:00",
          "2022-08-19T00:00:00",
          "2022-08-18T00:00:00",
          "2022-08-17T00:00:00",
          "2022-08-16T00:00:00",
          "2022-08-15T00:00:00",
          "2022-08-14T00:00:00",
          "2022-08-13T00:00:00",
          "2022-08-06T00:00:00",
          "2022-08-05T00:00:00",
          "2022-08-04T00:00:00",
          "2022-08-03T00:00:00",
          "2022-08-03T00:00:00",
          "2022-08-03T00:00:00",
          "2022-08-03T00:00:00",
          "2022-08-03T00:00:00",
          "2022-08-03T00:00:00",
          "2022-08-03T00:00:00",
          "2022-08-02T00:00:00",
          "2022-08-02T00:00:00",
          "2022-08-02T00:00:00",
          "2022-08-02T00:00:00",
          "2022-08-01T00:00:00",
          "2022-08-01T00:00:00",
          "2022-08-01T00:00:00",
          "2022-08-01T00:00:00",
          "2022-08-01T00:00:00",
          "2022-07-31T00:00:00",
          "2022-07-31T00:00:00",
          "2022-07-31T00:00:00",
          "2022-07-31T00:00:00",
          "2022-07-30T00:00:00",
          "2022-07-30T00:00:00",
          "2022-07-30T00:00:00",
          "2022-07-29T00:00:00",
          "2022-07-29T00:00:00",
          "2022-07-29T00:00:00",
          "2022-07-29T00:00:00",
          "2022-07-29T00:00:00",
          "2022-07-28T00:00:00",
          "2022-07-27T00:00:00",
          "2022-07-27T00:00:00",
          "2022-07-27T00:00:00",
          "2022-07-27T00:00:00",
          "2022-07-27T00:00:00",
          "2022-07-26T00:00:00",
          "2022-07-26T00:00:00",
          "2022-07-26T00:00:00",
          "2022-07-26T00:00:00",
          "2022-07-25T00:00:00",
          "2022-07-25T00:00:00",
          "2022-07-25T00:00:00",
          "2022-07-25T00:00:00",
          "2022-07-24T00:00:00",
          "2022-07-24T00:00:00",
          "2022-07-24T00:00:00",
          "2022-07-24T00:00:00",
          "2022-07-24T00:00:00",
          "2022-07-24T00:00:00",
          "2022-07-23T00:00:00",
          "2022-07-23T00:00:00",
          "2022-07-23T00:00:00",
          "2022-07-23T00:00:00",
          "2022-07-23T00:00:00",
          "2022-07-23T00:00:00",
          "2022-07-22T00:00:00",
          "2022-07-22T00:00:00",
          "2022-07-21T00:00:00",
          "2022-07-21T00:00:00",
          "2022-07-21T00:00:00",
          "2022-07-21T00:00:00",
          "2022-07-21T00:00:00",
          "2022-07-21T00:00:00",
          "2022-07-20T00:00:00",
          "2022-07-20T00:00:00",
          "2022-07-20T00:00:00",
          "2022-07-19T00:00:00",
          "2022-07-19T00:00:00",
          "2022-07-19T00:00:00",
          "2022-07-19T00:00:00",
          "2022-07-19T00:00:00",
          "2022-07-19T00:00:00",
          "2022-07-18T00:00:00",
          "2022-07-18T00:00:00",
          "2022-07-18T00:00:00",
          "2022-07-18T00:00:00",
          "2022-07-18T00:00:00",
          "2022-07-18T00:00:00",
          "2022-07-17T00:00:00",
          "2022-07-17T00:00:00",
          "2022-07-17T00:00:00",
          "2022-07-17T00:00:00",
          "2022-07-17T00:00:00",
          "2022-07-16T00:00:00",
          "2022-07-16T00:00:00",
          "2022-07-16T00:00:00",
          "2022-07-16T00:00:00",
          "2022-07-16T00:00:00",
          "2022-07-16T00:00:00",
          "2022-07-15T00:00:00",
          "2022-07-14T00:00:00",
          "2022-07-11T00:00:00",
          "2022-07-10T00:00:00",
          "2022-07-10T00:00:00",
          "2022-07-09T00:00:00",
          "2022-07-08T00:00:00",
          "2022-07-08T00:00:00",
          "2022-07-08T00:00:00",
          "2022-07-08T00:00:00",
          "2022-07-08T00:00:00",
          "2022-07-07T00:00:00",
          "2022-07-07T00:00:00",
          "2022-07-07T00:00:00",
          "2022-07-07T00:00:00",
          "2022-07-06T00:00:00",
          "2022-07-06T00:00:00",
          "2022-07-06T00:00:00",
          "2022-07-06T00:00:00",
          "2022-07-05T00:00:00",
          "2022-07-05T00:00:00",
          "2022-07-04T00:00:00",
          "2022-07-04T00:00:00",
          "2022-07-04T00:00:00",
          "2022-07-03T00:00:00",
          "2022-07-03T00:00:00",
          "2022-07-03T00:00:00",
          "2022-07-03T00:00:00",
          "2022-07-03T00:00:00",
          "2022-07-03T00:00:00",
          "2022-07-03T00:00:00",
          "2022-07-03T00:00:00",
          "2022-07-03T00:00:00",
          "2022-07-03T00:00:00",
          "2022-07-03T00:00:00",
          "2022-07-03T00:00:00",
          "2022-07-03T00:00:00",
          "2022-07-03T00:00:00",
          "2022-07-02T00:00:00",
          "2022-07-02T00:00:00",
          "2022-07-02T00:00:00",
          "2022-07-02T00:00:00",
          "2022-07-02T00:00:00",
          "2022-07-01T00:00:00",
          "2022-07-01T00:00:00",
          "2022-07-01T00:00:00",
          "2022-07-01T00:00:00",
          "2022-07-01T00:00:00",
          "2022-07-01T00:00:00",
          "2022-07-01T00:00:00",
          "2022-07-01T00:00:00",
          "2022-07-01T00:00:00",
          "2022-07-01T00:00:00",
          "2022-07-01T00:00:00",
          "2022-07-01T00:00:00",
          "2022-06-30T00:00:00",
          "2022-06-30T00:00:00",
          "2022-06-30T00:00:00",
          "2022-06-29T00:00:00",
          "2022-06-29T00:00:00",
          "2022-06-29T00:00:00",
          "2022-06-29T00:00:00",
          "2022-06-29T00:00:00",
          "2022-06-28T00:00:00",
          "2022-06-28T00:00:00",
          "2022-06-28T00:00:00",
          "2022-06-28T00:00:00",
          "2022-06-27T00:00:00",
          "2022-06-27T00:00:00",
          "2022-06-27T00:00:00",
          "2022-06-27T00:00:00",
          "2022-06-27T00:00:00",
          "2022-06-27T00:00:00",
          "2022-06-26T00:00:00",
          "2022-06-26T00:00:00",
          "2022-06-25T00:00:00",
          "2022-06-25T00:00:00",
          "2022-06-24T00:00:00",
          "2022-06-24T00:00:00",
          "2022-06-24T00:00:00",
          "2022-06-24T00:00:00",
          "2022-06-24T00:00:00",
          "2022-06-24T00:00:00",
          "2022-06-24T00:00:00",
          "2022-06-23T00:00:00",
          "2022-06-22T00:00:00",
          "2022-06-22T00:00:00",
          "2022-06-21T00:00:00",
          "2022-06-21T00:00:00",
          "2022-06-21T00:00:00",
          "2022-06-21T00:00:00",
          "2022-06-21T00:00:00",
          "2022-06-21T00:00:00",
          "2022-06-20T00:00:00",
          "2022-06-19T00:00:00",
          "2022-06-19T00:00:00",
          "2022-06-18T00:00:00",
          "2022-06-17T00:00:00",
          "2022-06-17T00:00:00",
          "2022-06-17T00:00:00",
          "2022-06-16T00:00:00",
          "2022-06-16T00:00:00",
          "2022-06-13T00:00:00",
          "2022-06-12T00:00:00",
          "2022-06-12T00:00:00",
          "2022-06-11T00:00:00",
          "2022-06-09T00:00:00",
          "2022-06-06T00:00:00",
          "2022-06-05T00:00:00",
          "2022-06-05T00:00:00",
          "2022-06-04T00:00:00",
          "2022-06-03T00:00:00",
          "2022-06-03T00:00:00",
          "2022-06-02T00:00:00",
          "2022-06-02T00:00:00",
          "2022-06-02T00:00:00",
          "2022-06-01T00:00:00",
          "2022-06-01T00:00:00",
          "2022-06-01T00:00:00",
          "2022-06-01T00:00:00",
          "2022-05-31T00:00:00",
          "2022-05-30T00:00:00",
          "2022-05-29T00:00:00",
          "2022-05-29T00:00:00",
          "2022-05-29T00:00:00",
          "2022-05-29T00:00:00",
          "2022-05-29T00:00:00",
          "2022-05-28T00:00:00",
          "2022-05-28T00:00:00",
          "2022-05-28T00:00:00",
          "2022-05-28T00:00:00",
          "2022-05-28T00:00:00",
          "2022-05-28T00:00:00",
          "2022-05-27T00:00:00",
          "2022-05-27T00:00:00",
          "2022-05-27T00:00:00",
          "2022-05-26T00:00:00",
          "2022-05-26T00:00:00",
          "2022-05-26T00:00:00",
          "2022-05-26T00:00:00",
          "2022-05-25T00:00:00",
          "2022-05-25T00:00:00",
          "2022-05-24T00:00:00",
          "2022-05-24T00:00:00",
          "2022-05-24T00:00:00",
          "2022-05-23T00:00:00",
          "2022-05-23T00:00:00",
          "2022-05-23T00:00:00",
          "2022-05-22T00:00:00",
          "2022-05-21T00:00:00",
          "2022-05-20T00:00:00",
          "2022-05-18T00:00:00",
          "2022-05-10T00:00:00",
          "2022-05-08T00:00:00",
          "2022-05-06T00:00:00",
          "2022-05-06T00:00:00",
          "2022-05-06T00:00:00",
          "2022-05-05T00:00:00",
          "2022-05-05T00:00:00",
          "2022-05-03T00:00:00",
          "2022-05-02T00:00:00",
          "2022-05-02T00:00:00",
          "2022-05-01T00:00:00",
          "2022-05-01T00:00:00",
          "2022-05-01T00:00:00",
          "2022-05-01T00:00:00",
          "2022-04-30T00:00:00",
          "2022-04-30T00:00:00",
          "2022-04-30T00:00:00",
          "2022-04-29T00:00:00",
          "2022-04-29T00:00:00",
          "2022-04-29T00:00:00",
          "2022-04-29T00:00:00",
          "2022-04-27T00:00:00",
          "2022-04-24T00:00:00",
          "2022-04-24T00:00:00",
          "2022-04-24T00:00:00",
          "2022-04-23T00:00:00",
          "2022-04-23T00:00:00",
          "2022-04-21T00:00:00",
          "2022-04-08T00:00:00",
          "2022-04-07T00:00:00",
          "2022-04-01T00:00:00",
          "2022-04-01T00:00:00",
          "2022-04-01T00:00:00",
          "2022-03-29T00:00:00",
          "2022-03-28T00:00:00",
          "2022-03-27T00:00:00",
          "2022-03-25T00:00:00",
          "2022-03-13T00:00:00",
          "2022-03-13T00:00:00",
          "2022-03-12T00:00:00",
          "2022-03-11T00:00:00",
          "2022-03-11T00:00:00",
          "2022-03-10T00:00:00",
          "2022-03-10T00:00:00",
          "2022-03-09T00:00:00",
          "2022-03-09T00:00:00",
          "2022-03-08T00:00:00",
          "2022-03-06T00:00:00",
          "2022-03-05T00:00:00",
          "2022-03-03T00:00:00",
          "2022-02-28T00:00:00",
          "2022-02-28T00:00:00",
          "2022-02-27T00:00:00",
          "2022-02-26T00:00:00",
          "2022-02-23T00:00:00",
          "2022-02-22T00:00:00",
          "2022-02-13T00:00:00",
          "2022-02-11T00:00:00",
          "2022-02-06T00:00:00",
          "2022-01-29T00:00:00",
          "2022-01-28T00:00:00",
          "2022-01-27T00:00:00",
          "2022-01-14T00:00:00",
          "2022-01-14T00:00:00",
          "2022-01-11T00:00:00",
          "2021-11-23T00:00:00",
          "2021-11-11T00:00:00",
          "2021-11-11T00:00:00",
          "2021-11-10T00:00:00",
          "2021-11-03T00:00:00",
          "2021-11-01T00:00:00",
          "2021-11-01T00:00:00",
          "2021-10-31T00:00:00",
          "2021-10-31T00:00:00",
          "2021-10-30T00:00:00",
          "2021-10-29T00:00:00",
          "2021-10-28T00:00:00",
          "2021-10-28T00:00:00",
          "2021-10-28T00:00:00",
          "2021-10-27T00:00:00",
          "2021-10-24T00:00:00",
          "2021-10-24T00:00:00",
          "2021-10-24T00:00:00",
          "2021-10-12T00:00:00",
          "2021-10-10T00:00:00",
          "2021-10-09T00:00:00",
          "2021-10-09T00:00:00",
          "2021-10-07T00:00:00",
          "2021-10-06T00:00:00",
          "2021-10-03T00:00:00",
          "2021-10-01T00:00:00",
          "2021-09-29T00:00:00",
          "2021-09-29T00:00:00",
          "2021-09-29T00:00:00",
          "2021-09-29T00:00:00",
          "2021-09-29T00:00:00",
          "2021-09-28T00:00:00",
          "2021-09-28T00:00:00",
          "2021-09-28T00:00:00",
          "2021-09-27T00:00:00",
          "2021-09-25T00:00:00",
          "2021-09-12T00:00:00",
          "2021-09-11T00:00:00",
          "2021-09-09T00:00:00",
          "2021-09-08T00:00:00",
          "2021-09-07T00:00:00",
          "2021-09-06T00:00:00",
          "2021-09-05T00:00:00",
          "2021-09-05T00:00:00",
          "2021-09-05T00:00:00",
          "2021-09-05T00:00:00",
          "2021-09-04T00:00:00",
          "2021-09-04T00:00:00",
          "2021-09-03T00:00:00",
          "2021-09-03T00:00:00",
          "2021-09-02T00:00:00",
          "2021-09-02T00:00:00",
          "2021-09-01T00:00:00",
          "2021-09-01T00:00:00",
          "2021-09-01T00:00:00",
          "2021-08-30T00:00:00",
          "2021-08-30T00:00:00",
          "2021-08-14T00:00:00",
          "2021-08-13T00:00:00",
          "2021-08-12T00:00:00",
          "2021-08-11T00:00:00",
          "2021-08-11T00:00:00",
          "2021-08-11T00:00:00",
          "2021-08-11T00:00:00",
          "2021-08-10T00:00:00",
          "2021-08-10T00:00:00",
          "2021-08-09T00:00:00",
          "2021-08-09T00:00:00",
          "2021-08-08T00:00:00",
          "2021-08-07T00:00:00",
          "2021-08-07T00:00:00",
          "2021-08-06T00:00:00",
          "2021-08-06T00:00:00",
          "2021-08-05T00:00:00",
          "2021-08-05T00:00:00",
          "2021-08-02T00:00:00",
          "2021-08-02T00:00:00",
          "2021-08-02T00:00:00",
          "2021-08-02T00:00:00",
          "2021-08-01T00:00:00",
          "2021-07-29T00:00:00",
          "2021-07-29T00:00:00",
          "2021-07-27T00:00:00",
          "2021-07-13T00:00:00",
          "2021-07-12T00:00:00",
          "2021-07-12T00:00:00",
          "2021-07-10T00:00:00",
          "2021-07-08T00:00:00",
          "2021-07-07T00:00:00",
          "2021-07-04T00:00:00",
          "2021-06-16T00:00:00",
          "2021-06-14T00:00:00",
          "2021-06-13T00:00:00",
          "2021-06-13T00:00:00",
          "2021-06-12T00:00:00",
          "2021-06-09T00:00:00",
          "2021-06-09T00:00:00",
          "2021-06-08T00:00:00",
          "2021-06-08T00:00:00",
          "2021-06-08T00:00:00",
          "2021-06-07T00:00:00",
          "2021-06-06T00:00:00",
          "2021-06-06T00:00:00",
          "2021-06-05T00:00:00",
          "2021-06-05T00:00:00",
          "2021-06-01T00:00:00",
          "2021-05-31T00:00:00",
          "2021-05-31T00:00:00",
          "2021-05-30T00:00:00",
          "2021-05-29T00:00:00",
          "2021-05-08T00:00:00",
          "2021-04-19T00:00:00",
          "2021-04-14T00:00:00",
          "2021-04-05T00:00:00",
          "2021-04-01T00:00:00",
          "2021-03-19T00:00:00",
          "2021-03-13T00:00:00",
          "2020-11-05T00:00:00",
          "2020-09-21T00:00:00",
          "2020-09-19T00:00:00",
          "2020-09-16T00:00:00",
          "2020-09-12T00:00:00",
          "2020-09-09T00:00:00",
          "2020-08-23T00:00:00",
          "2020-08-20T00:00:00",
          "2020-08-19T00:00:00",
          "2020-08-14T00:00:00",
          "2020-07-12T00:00:00",
          "2020-07-12T00:00:00",
          "2020-04-20T00:00:00",
          "2020-04-18T00:00:00",
          "2020-03-23T00:00:00",
          "2019-08-31T00:00:00",
          "2019-08-30T00:00:00",
          "2019-08-28T00:00:00",
          "2019-08-27T00:00:00"
         ],
         "xaxis": "x",
         "y": [
          13.5,
          13.1,
          14.1,
          13.5,
          12.7,
          13.7,
          13.1,
          12.7,
          14.2,
          13.1,
          13.2,
          12.5,
          12.8,
          13,
          12.4,
          12.5,
          12.7,
          11.4,
          11.3,
          12.8,
          12.3,
          11.1,
          11.7,
          12.2,
          11.3,
          11.4,
          12.1,
          11.2,
          11.8,
          12,
          11.9,
          12.8,
          12.4,
          11.9,
          11.5,
          11.8,
          12.6,
          12.3,
          12.4,
          11.5,
          12.1,
          11.7,
          12.8,
          12.5,
          12.7,
          12.9,
          11.9,
          12.4,
          12.7,
          12.6,
          12.7,
          11.8,
          12.4,
          12.5,
          12.9,
          12.5,
          12.3,
          12.5,
          12.7,
          13.1,
          12.6,
          12.4,
          11.6,
          11,
          10.6,
          11,
          11,
          10,
          9.8,
          9.1,
          9.3,
          9.1,
          9,
          9,
          9,
          9,
          8.9,
          8.3,
          8.8,
          8.2,
          8.2,
          8.9,
          8.4,
          8.7,
          8.4,
          8.7,
          8.8,
          8.7,
          8.6,
          8.6,
          8.6,
          7.9,
          8.1,
          8.5,
          8,
          8,
          8.2,
          9,
          8.3,
          8.5,
          8.4,
          8.5,
          8.7,
          8.6,
          8.6,
          8.8,
          8.7,
          9.3,
          9.5,
          9.1,
          8.1,
          9.1,
          9.5,
          9.2,
          10.7,
          8.5,
          8.2,
          9.6,
          9.2,
          8.2,
          8.9,
          8.5,
          9.7,
          9,
          9,
          9,
          8.7,
          8.7,
          9.3,
          8.4,
          9.5,
          8.5,
          8.9,
          9.7,
          9.3,
          8.6,
          9.6,
          9,
          8.8,
          9.3,
          8.5,
          8.5,
          9.3,
          8,
          9,
          9.3,
          9.3,
          9,
          9,
          8.8,
          8.7,
          8.8,
          10.2,
          9.6,
          9.5,
          9,
          9.3,
          8.4,
          8.9,
          8.7,
          9.7,
          8.8,
          8.7,
          8.7,
          9.6,
          8.9,
          8.7,
          8.5,
          9,
          8.6,
          8.6,
          8.7,
          8.9,
          8.5,
          9.6,
          9,
          8.8,
          8.5,
          8.4,
          8.9,
          9.3,
          9,
          9.4,
          8.5,
          9,
          8.4,
          9.2,
          8.8,
          8.6,
          9.1,
          8.6,
          8.8,
          8.1,
          8.6,
          8.7,
          9,
          8.7,
          8.8,
          8.8,
          9,
          9.2,
          8.2,
          8.9,
          8.8,
          8.4,
          8.6,
          8.9,
          8.6,
          9.3,
          8.5,
          8.5,
          8.7,
          8.8,
          8.8,
          8.5,
          9.1,
          8.6,
          9.1,
          9.1,
          8.5,
          9,
          8.9,
          8.9,
          8.4,
          8.8,
          8.7,
          8.8,
          8.5,
          8.3,
          8.2,
          8.5,
          8.7,
          8.2,
          8.6,
          8.9,
          8.8,
          8.7,
          8.9,
          8.6,
          8.8,
          9.2,
          8.5,
          8.5,
          8.8,
          8.2,
          8.9,
          8.9,
          8.9,
          8.8,
          9.1,
          8.7,
          8.8,
          9.1,
          8.4,
          8.3,
          8.9,
          8.6,
          8.7,
          8.8,
          8.9,
          8.7,
          8.5,
          8.7,
          8.8,
          8.8,
          9.4,
          8.9,
          8.6,
          8.7,
          8.3,
          8.6,
          8.9,
          9,
          8.8,
          8.8,
          8.4,
          9.2,
          8.7,
          9.1,
          8.8,
          8.7,
          8.5,
          8.6,
          9.1,
          8.5,
          8.9,
          9.3,
          8.9,
          9.3,
          8.8,
          9.2,
          8.9,
          8.8,
          8.5,
          8.5,
          8.6,
          9.7,
          9.5,
          9.3,
          8.7,
          8.8,
          9.2,
          9.3,
          9,
          8.9,
          8.8,
          9,
          9.2,
          9.7,
          9.2,
          9.3,
          9.8,
          9.1,
          10.6,
          9.6,
          9.7,
          9.7,
          9,
          9.8,
          9.2,
          11.3,
          9.2,
          9.1,
          10.7,
          9.9,
          9.5,
          9.4,
          9.4,
          10.2,
          9.5,
          10,
          9.3,
          9.2,
          10.2,
          9.7,
          10,
          9.6,
          9.8,
          9.6,
          9.6,
          9.3,
          10.5,
          9.5,
          9.5,
          9.5,
          9.7,
          10.6,
          9.4,
          10,
          9.6,
          9.7,
          10.7,
          10,
          10,
          9.4,
          9.8,
          9.8,
          9.6,
          10.1,
          10.6,
          10.6,
          9.9,
          11,
          9.8,
          10.4,
          9.8,
          10.1,
          10.1,
          11.2,
          10.6,
          9.7,
          10.4,
          10.4,
          9.6,
          10.5,
          11,
          10.9,
          10.4,
          10.6,
          10,
          10.6,
          10,
          10.1,
          10.6,
          10.6,
          11.4,
          10.7,
          10.3,
          10.5,
          10.3,
          10.3,
          10.7,
          10.7,
          10.3,
          10.6,
          10.5,
          11.3,
          11.4,
          12,
          11.9,
          12.2,
          11.4,
          11.1,
          11.4,
          11.1,
          11.2,
          11.3,
          10.9,
          11.3,
          12,
          11.2,
          11.9,
          11,
          11.5,
          11,
          11.3,
          11,
          12.4,
          11.6,
          10.8,
          11,
          11.4,
          11.7,
          12.1,
          11.1,
          10.6,
          12.4,
          12.1,
          11.7,
          12.6,
          11.1,
          11.7,
          13.2,
          12.1,
          11.1,
          11.3,
          11.2,
          11.6,
          12.2,
          12.5,
          12.3,
          10.9,
          11.4,
          12.1,
          11.8,
          13.4,
          10.8,
          12.4,
          12.3,
          12.5,
          12.3,
          12.7,
          12.5,
          12.7,
          12.5,
          10.4,
          11.6,
          11.2,
          12.9,
          12.7,
          12.5,
          11.7,
          13.6,
          11.7,
          11.6,
          12.4,
          13,
          12.4,
          12.2,
          13,
          11.8,
          12.2,
          12.7,
          13.6,
          12.6,
          12.7,
          12.3,
          12.6,
          12.2,
          12.5,
          12.9,
          12.3,
          13.1,
          12.7,
          12.6,
          12.7,
          12.9,
          13.1,
          12.2,
          12.5,
          12.1,
          12,
          13,
          12.6,
          12.9,
          12.8,
          12.3,
          12.9,
          13,
          13,
          12.1,
          12.6,
          12.5,
          12.6,
          12.5,
          13,
          12.2,
          13.1,
          12,
          13.1,
          13.3,
          13.4,
          12.7,
          12.7,
          12.2,
          12.1,
          12.9,
          12.4,
          12,
          12.2,
          13.2,
          12.3,
          12.7,
          12.5,
          12.8,
          13,
          13,
          12.2,
          12.4,
          12.7,
          13.4,
          13.4,
          12.5,
          13.2,
          13.4,
          12.3,
          12.3,
          13.1,
          12.7,
          12.7,
          12.5,
          13.4,
          13.5,
          14.1,
          13.5,
          14,
          14.1,
          14.5,
          13,
          15.2,
          15.9,
          15.8,
          15.7,
          13.5,
          15.6,
          14.7,
          15,
          15,
          14.9,
          15,
          14.5,
          15.7,
          15.7,
          15.8,
          14.8,
          14.8,
          14.7,
          14.4
         ],
         "yaxis": "y"
        },
        {
         "hovertemplate": "Observation Method=V<br>Observation Date=%{x}<br>Apparent total magnitude=%{y}<extra></extra>",
         "legendgroup": "V",
         "marker": {
          "color": "#FF6692",
          "symbol": "circle"
         },
         "mode": "markers",
         "name": "V",
         "showlegend": true,
         "type": "scattergl",
         "x": [
          "2024-01-11T00:00:00",
          "2024-01-07T00:00:00",
          "2023-01-30T00:00:00",
          "2022-12-26T00:00:00",
          "2022-10-27T00:00:00",
          "2022-10-14T00:00:00",
          "2022-09-17T00:00:00",
          "2022-09-15T00:00:00",
          "2022-08-30T00:00:00",
          "2022-08-18T00:00:00",
          "2022-08-03T00:00:00",
          "2022-07-28T00:00:00",
          "2022-07-19T00:00:00",
          "2022-07-16T00:00:00",
          "2022-07-15T00:00:00",
          "2022-07-15T00:00:00",
          "2022-07-04T00:00:00",
          "2022-07-03T00:00:00",
          "2022-06-30T00:00:00",
          "2022-06-26T00:00:00",
          "2022-06-26T00:00:00",
          "2022-06-24T00:00:00",
          "2022-06-23T00:00:00",
          "2022-06-19T00:00:00",
          "2022-05-26T00:00:00",
          "2022-05-22T00:00:00",
          "2022-04-29T00:00:00",
          "2022-03-02T00:00:00",
          "2021-10-26T00:00:00",
          "2021-09-30T00:00:00",
          "2021-09-10T00:00:00",
          "2021-08-18T00:00:00",
          "2021-08-09T00:00:00",
          "2021-07-06T00:00:00",
          "2021-06-10T00:00:00",
          "2021-06-04T00:00:00",
          "2021-05-11T00:00:00",
          "2021-04-03T00:00:00",
          "2020-12-06T00:00:00",
          "2020-11-16T00:00:00",
          "2020-11-06T00:00:00",
          "2020-10-24T00:00:00",
          "2020-10-09T00:00:00",
          "2020-09-09T00:00:00",
          "2020-08-22T00:00:00",
          "2020-08-09T00:00:00",
          "2020-07-19T00:00:00",
          "2020-06-24T00:00:00",
          "2020-06-18T00:00:00",
          "2020-06-12T00:00:00",
          "2020-05-21T00:00:00",
          "2020-05-13T00:00:00",
          "2020-04-18T00:00:00",
          "2020-03-21T00:00:00",
          "2020-02-28T00:00:00",
          "2020-02-21T00:00:00",
          "2020-01-01T00:00:00",
          "2019-10-23T00:00:00",
          "2019-09-25T00:00:00",
          "2019-09-21T00:00:00",
          "2019-09-19T00:00:00",
          "2019-08-27T00:00:00",
          "2019-08-22T00:00:00",
          "2019-08-09T00:00:00",
          "2019-07-31T00:00:00",
          "2019-07-23T00:00:00",
          "2019-07-05T00:00:00",
          "2019-06-09T00:00:00",
          "2019-05-29T00:00:00",
          "2019-05-07T00:00:00",
          "2019-04-28T00:00:00",
          "2019-04-15T00:00:00",
          "2019-04-07T00:00:00",
          "2019-03-17T00:00:00",
          "2019-03-02T00:00:00",
          "2019-02-02T00:00:00",
          "2019-01-13T00:00:00"
         ],
         "xaxis": "x",
         "y": [
          12.9,
          13.4,
          10.3,
          7.9,
          10.1,
          10.3,
          10.6,
          10.6,
          11,
          11,
          9.3,
          8.6,
          8.6,
          8.9,
          8.5,
          9.2,
          9.2,
          10.5,
          8.8,
          8.3,
          8.9,
          9.1,
          9.3,
          9.2,
          9.7,
          10.1,
          10.8,
          12.2,
          13,
          13.1,
          13.3,
          13.1,
          13.1,
          13.3,
          13.1,
          13.7,
          13.8,
          14.6,
          14.7,
          14.9,
          15.1,
          15.3,
          15.2,
          15.6,
          15.5,
          15.3,
          15.5,
          15.4,
          15.4,
          15.3,
          15.9,
          16.1,
          16.3,
          16.1,
          16.4,
          16.4,
          15.7,
          16.9,
          16.6,
          16,
          16.8,
          16.4,
          17,
          17.2,
          15.8,
          17.6,
          17.1,
          17.1,
          17,
          17,
          16.2,
          17.2,
          17.6,
          17.3,
          17.3,
          17.6,
          17.5
         ],
         "yaxis": "y"
        },
        {
         "hovertemplate": "Observation Method=r<br>Observation Date=%{x}<br>Apparent total magnitude=%{y}<extra></extra>",
         "legendgroup": "r",
         "marker": {
          "color": "#B6E880",
          "symbol": "circle"
         },
         "mode": "markers",
         "name": "r",
         "showlegend": true,
         "type": "scattergl",
         "x": [
          "2023-12-29T00:00:00"
         ],
         "xaxis": "x",
         "y": [
          15.5
         ],
         "yaxis": "y"
        },
        {
         "hovertemplate": "Observation Method=G<br>Observation Date=%{x}<br>Apparent total magnitude=%{y}<extra></extra>",
         "legendgroup": "G",
         "marker": {
          "color": "#FF97FF",
          "symbol": "circle"
         },
         "mode": "markers",
         "name": "G",
         "showlegend": true,
         "type": "scattergl",
         "x": [
          "2023-11-07T00:00:00",
          "2021-10-06T00:00:00",
          "2021-09-11T00:00:00"
         ],
         "xaxis": "x",
         "y": [
          14,
          13.1,
          12.9
         ],
         "yaxis": "y"
        },
        {
         "hovertemplate": "Observation Method=-<br>Observation Date=%{x}<br>Apparent total magnitude=%{y}<extra></extra>",
         "legendgroup": "-",
         "marker": {
          "color": "#FECB52",
          "symbol": "circle"
         },
         "mode": "markers",
         "name": "-",
         "showlegend": true,
         "type": "scattergl",
         "x": [
          "2023-09-26T00:00:00",
          "2022-06-25T00:00:00"
         ],
         "xaxis": "x",
         "y": [
          9.9,
          9
         ],
         "yaxis": "y"
        },
        {
         "hovertemplate": "Observation Method=k<br>Observation Date=%{x}<br>Apparent total magnitude=%{y}<extra></extra>",
         "legendgroup": "k",
         "marker": {
          "color": "#636efa",
          "symbol": "circle"
         },
         "mode": "markers",
         "name": "k",
         "showlegend": true,
         "type": "scattergl",
         "x": [
          "2023-01-30T00:00:00",
          "2023-01-14T00:00:00",
          "2022-12-26T00:00:00",
          "2022-10-29T00:00:00",
          "2022-10-27T00:00:00",
          "2022-10-14T00:00:00",
          "2022-09-17T00:00:00",
          "2022-09-15T00:00:00",
          "2022-08-30T00:00:00",
          "2022-08-18T00:00:00",
          "2022-07-28T00:00:00",
          "2022-07-28T00:00:00",
          "2022-07-14T00:00:00",
          "2022-07-04T00:00:00",
          "2022-07-03T00:00:00",
          "2022-07-03T00:00:00",
          "2022-06-27T00:00:00",
          "2022-06-26T00:00:00",
          "2022-06-23T00:00:00",
          "2022-06-20T00:00:00",
          "2022-06-17T00:00:00",
          "2022-06-13T00:00:00",
          "2022-06-02T00:00:00",
          "2022-04-29T00:00:00",
          "2021-10-26T00:00:00",
          "2021-10-15T00:00:00",
          "2021-09-30T00:00:00",
          "2021-09-27T00:00:00",
          "2021-09-27T00:00:00",
          "2021-08-13T00:00:00",
          "2021-08-10T00:00:00",
          "2021-08-09T00:00:00",
          "2021-07-20T00:00:00",
          "2021-07-18T00:00:00",
          "2021-07-17T00:00:00",
          "2021-07-06T00:00:00",
          "2021-06-13T00:00:00",
          "2021-06-13T00:00:00",
          "2021-06-11T00:00:00",
          "2021-06-06T00:00:00",
          "2021-06-04T00:00:00",
          "2021-05-11T00:00:00",
          "2020-12-06T00:00:00",
          "2020-11-16T00:00:00",
          "2020-11-06T00:00:00",
          "2020-11-06T00:00:00",
          "2020-10-09T00:00:00",
          "2020-09-09T00:00:00",
          "2020-08-22T00:00:00",
          "2020-08-09T00:00:00",
          "2020-07-19T00:00:00",
          "2020-06-24T00:00:00",
          "2020-06-18T00:00:00",
          "2020-06-12T00:00:00",
          "2020-05-21T00:00:00",
          "2020-05-13T00:00:00",
          "2020-04-18T00:00:00",
          "2020-03-21T00:00:00",
          "2020-02-28T00:00:00",
          "2020-02-21T00:00:00",
          "2020-01-01T00:00:00",
          "2019-10-23T00:00:00",
          "2019-09-25T00:00:00",
          "2019-09-21T00:00:00",
          "2019-09-19T00:00:00",
          "2019-08-27T00:00:00",
          "2019-08-22T00:00:00",
          "2019-08-09T00:00:00",
          "2019-07-31T00:00:00",
          "2019-07-23T00:00:00",
          "2019-07-05T00:00:00",
          "2019-06-09T00:00:00",
          "2019-05-29T00:00:00",
          "2019-05-07T00:00:00",
          "2019-04-28T00:00:00",
          "2019-04-15T00:00:00",
          "2019-04-07T00:00:00",
          "2019-03-17T00:00:00",
          "2019-03-02T00:00:00",
          "2019-02-02T00:00:00",
          "2019-01-13T00:00:00",
          "2018-02-25T00:00:00",
          "2018-02-24T00:00:00"
         ],
         "xaxis": "x",
         "y": [
          10.1,
          8.1,
          7.8,
          8.6,
          9.8,
          10,
          10.3,
          10.3,
          10.5,
          10.5,
          9.3,
          9.1,
          8.6,
          8.8,
          9,
          10.1,
          8.9,
          8.4,
          9,
          8.9,
          9.1,
          9,
          9.5,
          10.5,
          12.6,
          12.3,
          12.7,
          12.4,
          12.5,
          12.6,
          12.6,
          13.3,
          12.8,
          12.7,
          12.8,
          13,
          12.7,
          13,
          12.6,
          13,
          13.1,
          13.4,
          14.3,
          14.6,
          14.8,
          14.8,
          14.9,
          14.9,
          15.2,
          15,
          15.1,
          15.1,
          15.1,
          14.4,
          15.4,
          15.9,
          15.7,
          15.7,
          16.2,
          15.9,
          15.4,
          16.4,
          16.2,
          15.8,
          16.3,
          15.9,
          16.3,
          16.8,
          14.6,
          16.5,
          16.3,
          16.7,
          16.7,
          16.7,
          15.8,
          16.9,
          17,
          16.6,
          16.8,
          17,
          17.4,
          17.7,
          18
         ],
         "yaxis": "y"
        },
        {
         "hovertemplate": "Observation Method=O<br>Observation Date=%{x}<br>Apparent total magnitude=%{y}<extra></extra>",
         "legendgroup": "O",
         "marker": {
          "color": "#EF553B",
          "symbol": "circle"
         },
         "mode": "markers",
         "name": "O",
         "showlegend": true,
         "type": "scattergl",
         "x": [
          "2022-10-02T00:00:00"
         ],
         "xaxis": "x",
         "y": [
          8.8
         ],
         "yaxis": "y"
        },
        {
         "hovertemplate": "Observation Method=B<br>Observation Date=%{x}<br>Apparent total magnitude=%{y}<extra></extra>",
         "legendgroup": "B",
         "marker": {
          "color": "#00cc96",
          "symbol": "circle"
         },
         "mode": "markers",
         "name": "B",
         "showlegend": true,
         "type": "scattergl",
         "x": [
          "2022-09-22T00:00:00",
          "2022-08-03T00:00:00",
          "2022-07-28T00:00:00",
          "2022-07-04T00:00:00",
          "2022-06-30T00:00:00",
          "2022-06-26T00:00:00",
          "2022-05-18T00:00:00",
          "2022-01-04T00:00:00",
          "2021-08-12T00:00:00"
         ],
         "xaxis": "x",
         "y": [
          8.8,
          8.4,
          9.7,
          8.9,
          8.5,
          8.9,
          10.3,
          9,
          12.4
         ],
         "yaxis": "y"
        },
        {
         "hovertemplate": "Observation Method=A<br>Observation Date=%{x}<br>Apparent total magnitude=%{y}<extra></extra>",
         "legendgroup": "A",
         "marker": {
          "color": "#ab63fa",
          "symbol": "circle"
         },
         "mode": "markers",
         "name": "A",
         "showlegend": true,
         "type": "scattergl",
         "x": [
          "2022-07-24T00:00:00",
          "2022-07-22T00:00:00",
          "2022-07-17T00:00:00",
          "2022-07-05T00:00:00",
          "2022-07-03T00:00:00",
          "2022-07-03T00:00:00"
         ],
         "xaxis": "x",
         "y": [
          8.5,
          8.4,
          8.9,
          8.9,
          8.6,
          8.6
         ],
         "yaxis": "y"
        },
        {
         "hovertemplate": "Observation Method=H<br>Observation Date=%{x}<br>Apparent total magnitude=%{y}<extra></extra>",
         "legendgroup": "H",
         "marker": {
          "color": "#FFA15A",
          "symbol": "circle"
         },
         "mode": "markers",
         "name": "H",
         "showlegend": true,
         "type": "scattergl",
         "x": [
          "2022-07-19T00:00:00",
          "2022-06-30T00:00:00",
          "2022-06-26T00:00:00",
          "2022-06-26T00:00:00",
          "2022-05-22T00:00:00",
          "2022-03-02T00:00:00",
          "2021-06-11T00:00:00"
         ],
         "xaxis": "x",
         "y": [
          7.9,
          8.2,
          8.5,
          8.3,
          9.3,
          11.4,
          12.5
         ],
         "yaxis": "y"
        },
        {
         "hovertemplate": "Observation Method=D<br>Observation Date=%{x}<br>Apparent total magnitude=%{y}<extra></extra>",
         "legendgroup": "D",
         "marker": {
          "color": "#19d3f3",
          "symbol": "circle"
         },
         "mode": "markers",
         "name": "D",
         "showlegend": true,
         "type": "scattergl",
         "x": [
          "2022-07-19T00:00:00",
          "2022-06-30T00:00:00",
          "2022-06-26T00:00:00",
          "2022-05-22T00:00:00",
          "2022-03-02T00:00:00"
         ],
         "xaxis": "x",
         "y": [
          9.2,
          9.5,
          9.5,
          10.9,
          12.9
         ],
         "yaxis": "y"
        },
        {
         "hovertemplate": "Observation Method=P<br>Observation Date=%{x}<br>Apparent total magnitude=%{y}<extra></extra>",
         "legendgroup": "P",
         "marker": {
          "color": "#FF6692",
          "symbol": "circle"
         },
         "mode": "markers",
         "name": "P",
         "showlegend": true,
         "type": "scattergl",
         "x": [
          "2022-06-26T00:00:00"
         ],
         "xaxis": "x",
         "y": [
          null
         ],
         "yaxis": "y"
        },
        {
         "hovertemplate": "Observation Method=I<br>Observation Date=%{x}<br>Apparent total magnitude=%{y}<extra></extra>",
         "legendgroup": "I",
         "marker": {
          "color": "#B6E880",
          "symbol": "circle"
         },
         "mode": "markers",
         "name": "I",
         "showlegend": true,
         "type": "scattergl",
         "x": [
          "2022-03-28T00:00:00",
          "2021-08-05T00:00:00",
          "2021-07-05T00:00:00",
          "2021-06-24T00:00:00",
          "2020-10-16T00:00:00",
          "2020-08-25T00:00:00"
         ],
         "xaxis": "x",
         "y": [
          12,
          13.1,
          13,
          13.3,
          8.8,
          14.6
         ],
         "yaxis": "y"
        },
        {
         "hovertemplate": "Observation Method=R<br>Observation Date=%{x}<br>Apparent total magnitude=%{y}<extra></extra>",
         "legendgroup": "R",
         "marker": {
          "color": "#FF97FF",
          "symbol": "circle"
         },
         "mode": "markers",
         "name": "R",
         "showlegend": true,
         "type": "scattergl",
         "x": [
          "2021-09-03T00:00:00"
         ],
         "xaxis": "x",
         "y": [
          12.8
         ],
         "yaxis": "y"
        }
       ],
       "layout": {
        "legend": {
         "title": {
          "text": "Observation Method"
         },
         "tracegroupgap": 0
        },
        "template": {
         "data": {
          "bar": [
           {
            "error_x": {
             "color": "#f2f5fa"
            },
            "error_y": {
             "color": "#f2f5fa"
            },
            "marker": {
             "line": {
              "color": "rgb(17,17,17)",
              "width": 0.5
             },
             "pattern": {
              "fillmode": "overlay",
              "size": 10,
              "solidity": 0.2
             }
            },
            "type": "bar"
           }
          ],
          "barpolar": [
           {
            "marker": {
             "line": {
              "color": "rgb(17,17,17)",
              "width": 0.5
             },
             "pattern": {
              "fillmode": "overlay",
              "size": 10,
              "solidity": 0.2
             }
            },
            "type": "barpolar"
           }
          ],
          "carpet": [
           {
            "aaxis": {
             "endlinecolor": "#A2B1C6",
             "gridcolor": "#506784",
             "linecolor": "#506784",
             "minorgridcolor": "#506784",
             "startlinecolor": "#A2B1C6"
            },
            "baxis": {
             "endlinecolor": "#A2B1C6",
             "gridcolor": "#506784",
             "linecolor": "#506784",
             "minorgridcolor": "#506784",
             "startlinecolor": "#A2B1C6"
            },
            "type": "carpet"
           }
          ],
          "choropleth": [
           {
            "colorbar": {
             "outlinewidth": 0,
             "ticks": ""
            },
            "type": "choropleth"
           }
          ],
          "contour": [
           {
            "colorbar": {
             "outlinewidth": 0,
             "ticks": ""
            },
            "colorscale": [
             [
              0,
              "#0d0887"
             ],
             [
              0.1111111111111111,
              "#46039f"
             ],
             [
              0.2222222222222222,
              "#7201a8"
             ],
             [
              0.3333333333333333,
              "#9c179e"
             ],
             [
              0.4444444444444444,
              "#bd3786"
             ],
             [
              0.5555555555555556,
              "#d8576b"
             ],
             [
              0.6666666666666666,
              "#ed7953"
             ],
             [
              0.7777777777777778,
              "#fb9f3a"
             ],
             [
              0.8888888888888888,
              "#fdca26"
             ],
             [
              1,
              "#f0f921"
             ]
            ],
            "type": "contour"
           }
          ],
          "contourcarpet": [
           {
            "colorbar": {
             "outlinewidth": 0,
             "ticks": ""
            },
            "type": "contourcarpet"
           }
          ],
          "heatmap": [
           {
            "colorbar": {
             "outlinewidth": 0,
             "ticks": ""
            },
            "colorscale": [
             [
              0,
              "#0d0887"
             ],
             [
              0.1111111111111111,
              "#46039f"
             ],
             [
              0.2222222222222222,
              "#7201a8"
             ],
             [
              0.3333333333333333,
              "#9c179e"
             ],
             [
              0.4444444444444444,
              "#bd3786"
             ],
             [
              0.5555555555555556,
              "#d8576b"
             ],
             [
              0.6666666666666666,
              "#ed7953"
             ],
             [
              0.7777777777777778,
              "#fb9f3a"
             ],
             [
              0.8888888888888888,
              "#fdca26"
             ],
             [
              1,
              "#f0f921"
             ]
            ],
            "type": "heatmap"
           }
          ],
          "heatmapgl": [
           {
            "colorbar": {
             "outlinewidth": 0,
             "ticks": ""
            },
            "colorscale": [
             [
              0,
              "#0d0887"
             ],
             [
              0.1111111111111111,
              "#46039f"
             ],
             [
              0.2222222222222222,
              "#7201a8"
             ],
             [
              0.3333333333333333,
              "#9c179e"
             ],
             [
              0.4444444444444444,
              "#bd3786"
             ],
             [
              0.5555555555555556,
              "#d8576b"
             ],
             [
              0.6666666666666666,
              "#ed7953"
             ],
             [
              0.7777777777777778,
              "#fb9f3a"
             ],
             [
              0.8888888888888888,
              "#fdca26"
             ],
             [
              1,
              "#f0f921"
             ]
            ],
            "type": "heatmapgl"
           }
          ],
          "histogram": [
           {
            "marker": {
             "pattern": {
              "fillmode": "overlay",
              "size": 10,
              "solidity": 0.2
             }
            },
            "type": "histogram"
           }
          ],
          "histogram2d": [
           {
            "colorbar": {
             "outlinewidth": 0,
             "ticks": ""
            },
            "colorscale": [
             [
              0,
              "#0d0887"
             ],
             [
              0.1111111111111111,
              "#46039f"
             ],
             [
              0.2222222222222222,
              "#7201a8"
             ],
             [
              0.3333333333333333,
              "#9c179e"
             ],
             [
              0.4444444444444444,
              "#bd3786"
             ],
             [
              0.5555555555555556,
              "#d8576b"
             ],
             [
              0.6666666666666666,
              "#ed7953"
             ],
             [
              0.7777777777777778,
              "#fb9f3a"
             ],
             [
              0.8888888888888888,
              "#fdca26"
             ],
             [
              1,
              "#f0f921"
             ]
            ],
            "type": "histogram2d"
           }
          ],
          "histogram2dcontour": [
           {
            "colorbar": {
             "outlinewidth": 0,
             "ticks": ""
            },
            "colorscale": [
             [
              0,
              "#0d0887"
             ],
             [
              0.1111111111111111,
              "#46039f"
             ],
             [
              0.2222222222222222,
              "#7201a8"
             ],
             [
              0.3333333333333333,
              "#9c179e"
             ],
             [
              0.4444444444444444,
              "#bd3786"
             ],
             [
              0.5555555555555556,
              "#d8576b"
             ],
             [
              0.6666666666666666,
              "#ed7953"
             ],
             [
              0.7777777777777778,
              "#fb9f3a"
             ],
             [
              0.8888888888888888,
              "#fdca26"
             ],
             [
              1,
              "#f0f921"
             ]
            ],
            "type": "histogram2dcontour"
           }
          ],
          "mesh3d": [
           {
            "colorbar": {
             "outlinewidth": 0,
             "ticks": ""
            },
            "type": "mesh3d"
           }
          ],
          "parcoords": [
           {
            "line": {
             "colorbar": {
              "outlinewidth": 0,
              "ticks": ""
             }
            },
            "type": "parcoords"
           }
          ],
          "pie": [
           {
            "automargin": true,
            "type": "pie"
           }
          ],
          "scatter": [
           {
            "marker": {
             "line": {
              "color": "#283442"
             }
            },
            "type": "scatter"
           }
          ],
          "scatter3d": [
           {
            "line": {
             "colorbar": {
              "outlinewidth": 0,
              "ticks": ""
             }
            },
            "marker": {
             "colorbar": {
              "outlinewidth": 0,
              "ticks": ""
             }
            },
            "type": "scatter3d"
           }
          ],
          "scattercarpet": [
           {
            "marker": {
             "colorbar": {
              "outlinewidth": 0,
              "ticks": ""
             }
            },
            "type": "scattercarpet"
           }
          ],
          "scattergeo": [
           {
            "marker": {
             "colorbar": {
              "outlinewidth": 0,
              "ticks": ""
             }
            },
            "type": "scattergeo"
           }
          ],
          "scattergl": [
           {
            "marker": {
             "line": {
              "color": "#283442"
             }
            },
            "type": "scattergl"
           }
          ],
          "scattermapbox": [
           {
            "marker": {
             "colorbar": {
              "outlinewidth": 0,
              "ticks": ""
             }
            },
            "type": "scattermapbox"
           }
          ],
          "scatterpolar": [
           {
            "marker": {
             "colorbar": {
              "outlinewidth": 0,
              "ticks": ""
             }
            },
            "type": "scatterpolar"
           }
          ],
          "scatterpolargl": [
           {
            "marker": {
             "colorbar": {
              "outlinewidth": 0,
              "ticks": ""
             }
            },
            "type": "scatterpolargl"
           }
          ],
          "scatterternary": [
           {
            "marker": {
             "colorbar": {
              "outlinewidth": 0,
              "ticks": ""
             }
            },
            "type": "scatterternary"
           }
          ],
          "surface": [
           {
            "colorbar": {
             "outlinewidth": 0,
             "ticks": ""
            },
            "colorscale": [
             [
              0,
              "#0d0887"
             ],
             [
              0.1111111111111111,
              "#46039f"
             ],
             [
              0.2222222222222222,
              "#7201a8"
             ],
             [
              0.3333333333333333,
              "#9c179e"
             ],
             [
              0.4444444444444444,
              "#bd3786"
             ],
             [
              0.5555555555555556,
              "#d8576b"
             ],
             [
              0.6666666666666666,
              "#ed7953"
             ],
             [
              0.7777777777777778,
              "#fb9f3a"
             ],
             [
              0.8888888888888888,
              "#fdca26"
             ],
             [
              1,
              "#f0f921"
             ]
            ],
            "type": "surface"
           }
          ],
          "table": [
           {
            "cells": {
             "fill": {
              "color": "#506784"
             },
             "line": {
              "color": "rgb(17,17,17)"
             }
            },
            "header": {
             "fill": {
              "color": "#2a3f5f"
             },
             "line": {
              "color": "rgb(17,17,17)"
             }
            },
            "type": "table"
           }
          ]
         },
         "layout": {
          "annotationdefaults": {
           "arrowcolor": "#f2f5fa",
           "arrowhead": 0,
           "arrowwidth": 1
          },
          "autotypenumbers": "strict",
          "coloraxis": {
           "colorbar": {
            "outlinewidth": 0,
            "ticks": ""
           }
          },
          "colorscale": {
           "diverging": [
            [
             0,
             "#8e0152"
            ],
            [
             0.1,
             "#c51b7d"
            ],
            [
             0.2,
             "#de77ae"
            ],
            [
             0.3,
             "#f1b6da"
            ],
            [
             0.4,
             "#fde0ef"
            ],
            [
             0.5,
             "#f7f7f7"
            ],
            [
             0.6,
             "#e6f5d0"
            ],
            [
             0.7,
             "#b8e186"
            ],
            [
             0.8,
             "#7fbc41"
            ],
            [
             0.9,
             "#4d9221"
            ],
            [
             1,
             "#276419"
            ]
           ],
           "sequential": [
            [
             0,
             "#0d0887"
            ],
            [
             0.1111111111111111,
             "#46039f"
            ],
            [
             0.2222222222222222,
             "#7201a8"
            ],
            [
             0.3333333333333333,
             "#9c179e"
            ],
            [
             0.4444444444444444,
             "#bd3786"
            ],
            [
             0.5555555555555556,
             "#d8576b"
            ],
            [
             0.6666666666666666,
             "#ed7953"
            ],
            [
             0.7777777777777778,
             "#fb9f3a"
            ],
            [
             0.8888888888888888,
             "#fdca26"
            ],
            [
             1,
             "#f0f921"
            ]
           ],
           "sequentialminus": [
            [
             0,
             "#0d0887"
            ],
            [
             0.1111111111111111,
             "#46039f"
            ],
            [
             0.2222222222222222,
             "#7201a8"
            ],
            [
             0.3333333333333333,
             "#9c179e"
            ],
            [
             0.4444444444444444,
             "#bd3786"
            ],
            [
             0.5555555555555556,
             "#d8576b"
            ],
            [
             0.6666666666666666,
             "#ed7953"
            ],
            [
             0.7777777777777778,
             "#fb9f3a"
            ],
            [
             0.8888888888888888,
             "#fdca26"
            ],
            [
             1,
             "#f0f921"
            ]
           ]
          },
          "colorway": [
           "#636efa",
           "#EF553B",
           "#00cc96",
           "#ab63fa",
           "#FFA15A",
           "#19d3f3",
           "#FF6692",
           "#B6E880",
           "#FF97FF",
           "#FECB52"
          ],
          "font": {
           "color": "#f2f5fa"
          },
          "geo": {
           "bgcolor": "rgb(17,17,17)",
           "lakecolor": "rgb(17,17,17)",
           "landcolor": "rgb(17,17,17)",
           "showlakes": true,
           "showland": true,
           "subunitcolor": "#506784"
          },
          "hoverlabel": {
           "align": "left"
          },
          "hovermode": "closest",
          "mapbox": {
           "style": "dark"
          },
          "paper_bgcolor": "rgb(17,17,17)",
          "plot_bgcolor": "rgb(17,17,17)",
          "polar": {
           "angularaxis": {
            "gridcolor": "#506784",
            "linecolor": "#506784",
            "ticks": ""
           },
           "bgcolor": "rgb(17,17,17)",
           "radialaxis": {
            "gridcolor": "#506784",
            "linecolor": "#506784",
            "ticks": ""
           }
          },
          "scene": {
           "xaxis": {
            "backgroundcolor": "rgb(17,17,17)",
            "gridcolor": "#506784",
            "gridwidth": 2,
            "linecolor": "#506784",
            "showbackground": true,
            "ticks": "",
            "zerolinecolor": "#C8D4E3"
           },
           "yaxis": {
            "backgroundcolor": "rgb(17,17,17)",
            "gridcolor": "#506784",
            "gridwidth": 2,
            "linecolor": "#506784",
            "showbackground": true,
            "ticks": "",
            "zerolinecolor": "#C8D4E3"
           },
           "zaxis": {
            "backgroundcolor": "rgb(17,17,17)",
            "gridcolor": "#506784",
            "gridwidth": 2,
            "linecolor": "#506784",
            "showbackground": true,
            "ticks": "",
            "zerolinecolor": "#C8D4E3"
           }
          },
          "shapedefaults": {
           "line": {
            "color": "#f2f5fa"
           }
          },
          "sliderdefaults": {
           "bgcolor": "#C8D4E3",
           "bordercolor": "rgb(17,17,17)",
           "borderwidth": 1,
           "tickwidth": 0
          },
          "ternary": {
           "aaxis": {
            "gridcolor": "#506784",
            "linecolor": "#506784",
            "ticks": ""
           },
           "baxis": {
            "gridcolor": "#506784",
            "linecolor": "#506784",
            "ticks": ""
           },
           "bgcolor": "rgb(17,17,17)",
           "caxis": {
            "gridcolor": "#506784",
            "linecolor": "#506784",
            "ticks": ""
           }
          },
          "title": {
           "x": 0.05
          },
          "updatemenudefaults": {
           "bgcolor": "#506784",
           "borderwidth": 0
          },
          "xaxis": {
           "automargin": true,
           "gridcolor": "#283442",
           "linecolor": "#506784",
           "ticks": "",
           "title": {
            "standoff": 15
           },
           "zerolinecolor": "#283442",
           "zerolinewidth": 2
          },
          "yaxis": {
           "automargin": true,
           "gridcolor": "#283442",
           "linecolor": "#506784",
           "ticks": "",
           "title": {
            "standoff": 15
           },
           "zerolinecolor": "#283442",
           "zerolinewidth": 2
          }
         }
        },
        "title": {
         "text": "Lightcurve of comet C/2017 K2 (Tsuchinshan-ATLAS)"
        },
        "xaxis": {
         "anchor": "y",
         "domain": [
          0,
          1
         ],
         "title": {
          "text": "Observation Date"
         }
        },
        "yaxis": {
         "anchor": "x",
         "autorange": "reversed",
         "domain": [
          0,
          1
         ],
         "title": {
          "text": "Apparent total magnitude"
         }
        }
       }
      }
     },
     "metadata": {},
     "output_type": "display_data"
    }
   ],
   "source": [
    "# Curva de luz cruda.\n",
    "labels = {'obs_date':'Observation Date','magnitude':'Apparent total magnitude', 'obs_method_key' : 'Observation Method'}\n",
    "fig = px.scatter(curva_de_luz_cruda_df, x='obs_date', y='magnitude', color='obs_method_key', template= 'plotly_dark', labels= labels, title= f'Lightcurve of comet {nombre_cometa} (Tsuchinshan-ATLAS)')\n",
    "fig.update_yaxes(autorange=\"reversed\")\n",
    "fig.show()"
   ]
  },
  {
   "cell_type": "markdown",
   "metadata": {},
   "source": [
    "# MPC API usando astroquery."
   ]
  },
  {
   "cell_type": "code",
   "execution_count": 88,
   "metadata": {},
   "outputs": [
    {
     "data": {
      "text/html": [
       "<div>\n",
       "<style scoped>\n",
       "    .dataframe tbody tr th:only-of-type {\n",
       "        vertical-align: middle;\n",
       "    }\n",
       "\n",
       "    .dataframe tbody tr th {\n",
       "        vertical-align: top;\n",
       "    }\n",
       "\n",
       "    .dataframe thead th {\n",
       "        text-align: right;\n",
       "    }\n",
       "</style>\n",
       "<table border=\"1\" class=\"dataframe\">\n",
       "  <thead>\n",
       "    <tr style=\"text-align: right;\">\n",
       "      <th></th>\n",
       "      <th>date</th>\n",
       "      <th>ra</th>\n",
       "      <th>dec</th>\n",
       "      <th>delta</th>\n",
       "      <th>r</th>\n",
       "      <th>elongation</th>\n",
       "      <th>phase</th>\n",
       "      <th>v</th>\n",
       "      <th>proper_motion</th>\n",
       "      <th>direction</th>\n",
       "    </tr>\n",
       "  </thead>\n",
       "  <tbody>\n",
       "    <tr>\n",
       "      <th>0</th>\n",
       "      <td>2017-06-02</td>\n",
       "      <td>266.594583</td>\n",
       "      <td>64.702222</td>\n",
       "      <td>15.953</td>\n",
       "      <td>16.023</td>\n",
       "      <td>92.2</td>\n",
       "      <td>3.6</td>\n",
       "      <td>19.6</td>\n",
       "      <td>8.85</td>\n",
       "      <td>280.4</td>\n",
       "    </tr>\n",
       "    <tr>\n",
       "      <th>1</th>\n",
       "      <td>2017-06-03</td>\n",
       "      <td>266.458333</td>\n",
       "      <td>64.712222</td>\n",
       "      <td>15.947</td>\n",
       "      <td>16.018</td>\n",
       "      <td>92.2</td>\n",
       "      <td>3.6</td>\n",
       "      <td>19.6</td>\n",
       "      <td>8.87</td>\n",
       "      <td>279.3</td>\n",
       "    </tr>\n",
       "    <tr>\n",
       "      <th>2</th>\n",
       "      <td>2017-06-04</td>\n",
       "      <td>266.321250</td>\n",
       "      <td>64.721389</td>\n",
       "      <td>15.941</td>\n",
       "      <td>16.012</td>\n",
       "      <td>92.2</td>\n",
       "      <td>3.6</td>\n",
       "      <td>19.6</td>\n",
       "      <td>8.89</td>\n",
       "      <td>278.2</td>\n",
       "    </tr>\n",
       "    <tr>\n",
       "      <th>3</th>\n",
       "      <td>2017-06-05</td>\n",
       "      <td>266.183750</td>\n",
       "      <td>64.729167</td>\n",
       "      <td>15.936</td>\n",
       "      <td>16.006</td>\n",
       "      <td>92.2</td>\n",
       "      <td>3.6</td>\n",
       "      <td>19.6</td>\n",
       "      <td>8.91</td>\n",
       "      <td>277.1</td>\n",
       "    </tr>\n",
       "    <tr>\n",
       "      <th>4</th>\n",
       "      <td>2017-06-06</td>\n",
       "      <td>266.045417</td>\n",
       "      <td>64.736111</td>\n",
       "      <td>15.930</td>\n",
       "      <td>16.000</td>\n",
       "      <td>92.1</td>\n",
       "      <td>3.6</td>\n",
       "      <td>19.6</td>\n",
       "      <td>8.93</td>\n",
       "      <td>276.0</td>\n",
       "    </tr>\n",
       "    <tr>\n",
       "      <th>...</th>\n",
       "      <td>...</td>\n",
       "      <td>...</td>\n",
       "      <td>...</td>\n",
       "      <td>...</td>\n",
       "      <td>...</td>\n",
       "      <td>...</td>\n",
       "      <td>...</td>\n",
       "      <td>...</td>\n",
       "      <td>...</td>\n",
       "      <td>...</td>\n",
       "    </tr>\n",
       "    <tr>\n",
       "      <th>1436</th>\n",
       "      <td>2021-05-08</td>\n",
       "      <td>274.442500</td>\n",
       "      <td>42.520556</td>\n",
       "      <td>6.092</td>\n",
       "      <td>6.428</td>\n",
       "      <td>105.0</td>\n",
       "      <td>8.7</td>\n",
       "      <td>13.5</td>\n",
       "      <td>18.28</td>\n",
       "      <td>303.3</td>\n",
       "    </tr>\n",
       "    <tr>\n",
       "      <th>1437</th>\n",
       "      <td>2021-05-09</td>\n",
       "      <td>274.302500</td>\n",
       "      <td>42.586667</td>\n",
       "      <td>6.078</td>\n",
       "      <td>6.420</td>\n",
       "      <td>105.4</td>\n",
       "      <td>8.7</td>\n",
       "      <td>13.5</td>\n",
       "      <td>18.47</td>\n",
       "      <td>302.0</td>\n",
       "    </tr>\n",
       "    <tr>\n",
       "      <th>1438</th>\n",
       "      <td>2021-05-10</td>\n",
       "      <td>274.158750</td>\n",
       "      <td>42.651111</td>\n",
       "      <td>6.064</td>\n",
       "      <td>6.412</td>\n",
       "      <td>105.7</td>\n",
       "      <td>8.7</td>\n",
       "      <td>13.5</td>\n",
       "      <td>18.67</td>\n",
       "      <td>300.7</td>\n",
       "    </tr>\n",
       "    <tr>\n",
       "      <th>1439</th>\n",
       "      <td>2021-05-11</td>\n",
       "      <td>274.011250</td>\n",
       "      <td>42.713611</td>\n",
       "      <td>6.050</td>\n",
       "      <td>6.404</td>\n",
       "      <td>106.1</td>\n",
       "      <td>8.7</td>\n",
       "      <td>13.5</td>\n",
       "      <td>18.86</td>\n",
       "      <td>299.5</td>\n",
       "    </tr>\n",
       "    <tr>\n",
       "      <th>1440</th>\n",
       "      <td>2021-05-12</td>\n",
       "      <td>273.860833</td>\n",
       "      <td>42.774722</td>\n",
       "      <td>6.036</td>\n",
       "      <td>6.395</td>\n",
       "      <td>106.4</td>\n",
       "      <td>8.7</td>\n",
       "      <td>13.5</td>\n",
       "      <td>19.06</td>\n",
       "      <td>298.2</td>\n",
       "    </tr>\n",
       "  </tbody>\n",
       "</table>\n",
       "<p>1441 rows × 10 columns</p>\n",
       "</div>"
      ],
      "text/plain": [
       "           date          ra        dec   delta       r  elongation  phase  \\\n",
       "0    2017-06-02  266.594583  64.702222  15.953  16.023        92.2    3.6   \n",
       "1    2017-06-03  266.458333  64.712222  15.947  16.018        92.2    3.6   \n",
       "2    2017-06-04  266.321250  64.721389  15.941  16.012        92.2    3.6   \n",
       "3    2017-06-05  266.183750  64.729167  15.936  16.006        92.2    3.6   \n",
       "4    2017-06-06  266.045417  64.736111  15.930  16.000        92.1    3.6   \n",
       "...         ...         ...        ...     ...     ...         ...    ...   \n",
       "1436 2021-05-08  274.442500  42.520556   6.092   6.428       105.0    8.7   \n",
       "1437 2021-05-09  274.302500  42.586667   6.078   6.420       105.4    8.7   \n",
       "1438 2021-05-10  274.158750  42.651111   6.064   6.412       105.7    8.7   \n",
       "1439 2021-05-11  274.011250  42.713611   6.050   6.404       106.1    8.7   \n",
       "1440 2021-05-12  273.860833  42.774722   6.036   6.395       106.4    8.7   \n",
       "\n",
       "         v  proper_motion  direction  \n",
       "0     19.6           8.85      280.4  \n",
       "1     19.6           8.87      279.3  \n",
       "2     19.6           8.89      278.2  \n",
       "3     19.6           8.91      277.1  \n",
       "4     19.6           8.93      276.0  \n",
       "...    ...            ...        ...  \n",
       "1436  13.5          18.28      303.3  \n",
       "1437  13.5          18.47      302.0  \n",
       "1438  13.5          18.67      300.7  \n",
       "1439  13.5          18.86      299.5  \n",
       "1440  13.5          19.06      298.2  \n",
       "\n",
       "[1441 rows x 10 columns]"
      ]
     },
     "execution_count": 88,
     "metadata": {},
     "output_type": "execute_result"
    }
   ],
   "source": [
    "# Creación de data frame Ephemeris (conexión con la API del MPC)\n",
    "fecha_inicial = curva_de_luz_cruda_df.obs_date.min()\n",
    "fecha_final = curva_de_luz_cruda_df.obs_date.max()\n",
    "fechas = (fecha_final - fecha_inicial).days + 1 if (fecha_final - fecha_inicial).days <= 1441 else 1441\n",
    "\n",
    "ephemeris = MPC.get_ephemeris(nombre_cometa, start = str(fecha_inicial), number = fechas) # type: ignore\n",
    "\n",
    "ephemeris_df = ephemeris.to_pandas()\n",
    "ephemeris_df.columns = ephemeris_df.columns.str.lower().str.replace(' ', '_')\n",
    "ephemeris_df"
   ]
  },
  {
   "cell_type": "code",
   "execution_count": 89,
   "metadata": {},
   "outputs": [
    {
     "name": "stdout",
     "output_type": "stream",
     "text": [
      "<class 'pandas.core.frame.DataFrame'>\n",
      "RangeIndex: 1441 entries, 0 to 1440\n",
      "Data columns (total 10 columns):\n",
      " #   Column         Non-Null Count  Dtype         \n",
      "---  ------         --------------  -----         \n",
      " 0   date           1441 non-null   datetime64[ns]\n",
      " 1   ra             1441 non-null   float64       \n",
      " 2   dec            1441 non-null   float64       \n",
      " 3   delta          1441 non-null   float64       \n",
      " 4   r              1441 non-null   float64       \n",
      " 5   elongation     1441 non-null   float64       \n",
      " 6   phase          1441 non-null   float64       \n",
      " 7   v              1441 non-null   float64       \n",
      " 8   proper_motion  1441 non-null   float64       \n",
      " 9   direction      1441 non-null   float64       \n",
      "dtypes: datetime64[ns](1), float64(9)\n",
      "memory usage: 112.7 KB\n"
     ]
    }
   ],
   "source": [
    "# Info del data frame ephemeris\n",
    "ephemeris_df.info()"
   ]
  },
  {
   "cell_type": "code",
   "execution_count": 90,
   "metadata": {},
   "outputs": [
    {
     "data": {
      "text/plain": [
       "date             datetime64[ns]\n",
       "ra                      float64\n",
       "dec                     float64\n",
       "delta                   float64\n",
       "r                       float64\n",
       "elongation              float64\n",
       "phase                   float64\n",
       "v                       float64\n",
       "proper_motion           float64\n",
       "direction               float64\n",
       "dtype: object"
      ]
     },
     "execution_count": 90,
     "metadata": {},
     "output_type": "execute_result"
    }
   ],
   "source": [
    "# Dar a los datos el formato deseado\n",
    "ephemeris_df.date = pd.to_datetime(ephemeris_df.date)\n",
    "ephemeris_df.date = pd.to_datetime(ephemeris_df.date.dt.date)\n",
    "ephemeris_df.dtypes"
   ]
  },
  {
   "cell_type": "code",
   "execution_count": 91,
   "metadata": {},
   "outputs": [
    {
     "data": {
      "text/html": [
       "<div>\n",
       "<style scoped>\n",
       "    .dataframe tbody tr th:only-of-type {\n",
       "        vertical-align: middle;\n",
       "    }\n",
       "\n",
       "    .dataframe tbody tr th {\n",
       "        vertical-align: top;\n",
       "    }\n",
       "\n",
       "    .dataframe thead th {\n",
       "        text-align: right;\n",
       "    }\n",
       "</style>\n",
       "<table border=\"1\" class=\"dataframe\">\n",
       "  <thead>\n",
       "    <tr style=\"text-align: right;\">\n",
       "      <th></th>\n",
       "      <th>obs_date</th>\n",
       "      <th>delta</th>\n",
       "      <th>r</th>\n",
       "      <th>phase</th>\n",
       "    </tr>\n",
       "  </thead>\n",
       "  <tbody>\n",
       "    <tr>\n",
       "      <th>0</th>\n",
       "      <td>2017-06-02</td>\n",
       "      <td>15.953</td>\n",
       "      <td>16.023</td>\n",
       "      <td>3.6</td>\n",
       "    </tr>\n",
       "    <tr>\n",
       "      <th>1</th>\n",
       "      <td>2017-06-03</td>\n",
       "      <td>15.947</td>\n",
       "      <td>16.018</td>\n",
       "      <td>3.6</td>\n",
       "    </tr>\n",
       "    <tr>\n",
       "      <th>2</th>\n",
       "      <td>2017-06-04</td>\n",
       "      <td>15.941</td>\n",
       "      <td>16.012</td>\n",
       "      <td>3.6</td>\n",
       "    </tr>\n",
       "    <tr>\n",
       "      <th>3</th>\n",
       "      <td>2017-06-05</td>\n",
       "      <td>15.936</td>\n",
       "      <td>16.006</td>\n",
       "      <td>3.6</td>\n",
       "    </tr>\n",
       "    <tr>\n",
       "      <th>4</th>\n",
       "      <td>2017-06-06</td>\n",
       "      <td>15.930</td>\n",
       "      <td>16.000</td>\n",
       "      <td>3.6</td>\n",
       "    </tr>\n",
       "    <tr>\n",
       "      <th>...</th>\n",
       "      <td>...</td>\n",
       "      <td>...</td>\n",
       "      <td>...</td>\n",
       "      <td>...</td>\n",
       "    </tr>\n",
       "    <tr>\n",
       "      <th>1436</th>\n",
       "      <td>2021-05-08</td>\n",
       "      <td>6.092</td>\n",
       "      <td>6.428</td>\n",
       "      <td>8.7</td>\n",
       "    </tr>\n",
       "    <tr>\n",
       "      <th>1437</th>\n",
       "      <td>2021-05-09</td>\n",
       "      <td>6.078</td>\n",
       "      <td>6.420</td>\n",
       "      <td>8.7</td>\n",
       "    </tr>\n",
       "    <tr>\n",
       "      <th>1438</th>\n",
       "      <td>2021-05-10</td>\n",
       "      <td>6.064</td>\n",
       "      <td>6.412</td>\n",
       "      <td>8.7</td>\n",
       "    </tr>\n",
       "    <tr>\n",
       "      <th>1439</th>\n",
       "      <td>2021-05-11</td>\n",
       "      <td>6.050</td>\n",
       "      <td>6.404</td>\n",
       "      <td>8.7</td>\n",
       "    </tr>\n",
       "    <tr>\n",
       "      <th>1440</th>\n",
       "      <td>2021-05-12</td>\n",
       "      <td>6.036</td>\n",
       "      <td>6.395</td>\n",
       "      <td>8.7</td>\n",
       "    </tr>\n",
       "  </tbody>\n",
       "</table>\n",
       "<p>1441 rows × 4 columns</p>\n",
       "</div>"
      ],
      "text/plain": [
       "       obs_date   delta       r  phase\n",
       "0    2017-06-02  15.953  16.023    3.6\n",
       "1    2017-06-03  15.947  16.018    3.6\n",
       "2    2017-06-04  15.941  16.012    3.6\n",
       "3    2017-06-05  15.936  16.006    3.6\n",
       "4    2017-06-06  15.930  16.000    3.6\n",
       "...         ...     ...     ...    ...\n",
       "1436 2021-05-08   6.092   6.428    8.7\n",
       "1437 2021-05-09   6.078   6.420    8.7\n",
       "1438 2021-05-10   6.064   6.412    8.7\n",
       "1439 2021-05-11   6.050   6.404    8.7\n",
       "1440 2021-05-12   6.036   6.395    8.7\n",
       "\n",
       "[1441 rows x 4 columns]"
      ]
     },
     "execution_count": 91,
     "metadata": {},
     "output_type": "execute_result"
    }
   ],
   "source": [
    "# Creación del data frame ephemeris filtrada\n",
    "ephemeris_filtrada_df = ephemeris_df[['date', 'delta','r', 'phase']].copy()\n",
    "ephemeris_filtrada_df = ephemeris_filtrada_df.rename(columns = {'date':'obs_date'})\n",
    "ephemeris_filtrada_df"
   ]
  },
  {
   "cell_type": "markdown",
   "metadata": {},
   "source": [
    "# Unión de las bases de datos."
   ]
  },
  {
   "cell_type": "code",
   "execution_count": 92,
   "metadata": {},
   "outputs": [
    {
     "data": {
      "text/html": [
       "<div>\n",
       "<style scoped>\n",
       "    .dataframe tbody tr th:only-of-type {\n",
       "        vertical-align: middle;\n",
       "    }\n",
       "\n",
       "    .dataframe tbody tr th {\n",
       "        vertical-align: top;\n",
       "    }\n",
       "\n",
       "    .dataframe thead th {\n",
       "        text-align: right;\n",
       "    }\n",
       "</style>\n",
       "<table border=\"1\" class=\"dataframe\">\n",
       "  <thead>\n",
       "    <tr style=\"text-align: right;\">\n",
       "      <th></th>\n",
       "      <th>obs_method_key</th>\n",
       "      <th>obs_date</th>\n",
       "      <th>magnitude</th>\n",
       "      <th>delta</th>\n",
       "      <th>r</th>\n",
       "      <th>phase</th>\n",
       "    </tr>\n",
       "  </thead>\n",
       "  <tbody>\n",
       "    <tr>\n",
       "      <th>0</th>\n",
       "      <td>C</td>\n",
       "      <td>2021-05-11</td>\n",
       "      <td>14.2</td>\n",
       "      <td>6.050</td>\n",
       "      <td>6.404</td>\n",
       "      <td>8.7</td>\n",
       "    </tr>\n",
       "    <tr>\n",
       "      <th>1</th>\n",
       "      <td>k</td>\n",
       "      <td>2021-05-11</td>\n",
       "      <td>13.4</td>\n",
       "      <td>6.050</td>\n",
       "      <td>6.404</td>\n",
       "      <td>8.7</td>\n",
       "    </tr>\n",
       "    <tr>\n",
       "      <th>2</th>\n",
       "      <td>V</td>\n",
       "      <td>2021-05-11</td>\n",
       "      <td>13.8</td>\n",
       "      <td>6.050</td>\n",
       "      <td>6.404</td>\n",
       "      <td>8.7</td>\n",
       "    </tr>\n",
       "    <tr>\n",
       "      <th>3</th>\n",
       "      <td>Z</td>\n",
       "      <td>2021-05-11</td>\n",
       "      <td>14.2</td>\n",
       "      <td>6.050</td>\n",
       "      <td>6.404</td>\n",
       "      <td>8.7</td>\n",
       "    </tr>\n",
       "    <tr>\n",
       "      <th>4</th>\n",
       "      <td>S</td>\n",
       "      <td>2021-05-08</td>\n",
       "      <td>13.5</td>\n",
       "      <td>6.092</td>\n",
       "      <td>6.428</td>\n",
       "      <td>8.7</td>\n",
       "    </tr>\n",
       "    <tr>\n",
       "      <th>...</th>\n",
       "      <td>...</td>\n",
       "      <td>...</td>\n",
       "      <td>...</td>\n",
       "      <td>...</td>\n",
       "      <td>...</td>\n",
       "      <td>...</td>\n",
       "    </tr>\n",
       "    <tr>\n",
       "      <th>444</th>\n",
       "      <td>C</td>\n",
       "      <td>2017-06-14</td>\n",
       "      <td>18.4</td>\n",
       "      <td>15.887</td>\n",
       "      <td>15.955</td>\n",
       "      <td>3.6</td>\n",
       "    </tr>\n",
       "    <tr>\n",
       "      <th>445</th>\n",
       "      <td>C</td>\n",
       "      <td>2017-06-12</td>\n",
       "      <td>17.8</td>\n",
       "      <td>15.898</td>\n",
       "      <td>15.966</td>\n",
       "      <td>3.6</td>\n",
       "    </tr>\n",
       "    <tr>\n",
       "      <th>446</th>\n",
       "      <td>C</td>\n",
       "      <td>2017-06-12</td>\n",
       "      <td>18.7</td>\n",
       "      <td>15.898</td>\n",
       "      <td>15.966</td>\n",
       "      <td>3.6</td>\n",
       "    </tr>\n",
       "    <tr>\n",
       "      <th>447</th>\n",
       "      <td>C</td>\n",
       "      <td>2017-06-02</td>\n",
       "      <td>19.1</td>\n",
       "      <td>15.953</td>\n",
       "      <td>16.023</td>\n",
       "      <td>3.6</td>\n",
       "    </tr>\n",
       "    <tr>\n",
       "      <th>448</th>\n",
       "      <td>C</td>\n",
       "      <td>2017-06-02</td>\n",
       "      <td>18.2</td>\n",
       "      <td>15.953</td>\n",
       "      <td>16.023</td>\n",
       "      <td>3.6</td>\n",
       "    </tr>\n",
       "  </tbody>\n",
       "</table>\n",
       "<p>449 rows × 6 columns</p>\n",
       "</div>"
      ],
      "text/plain": [
       "    obs_method_key   obs_date  magnitude   delta       r  phase\n",
       "0                C 2021-05-11       14.2   6.050   6.404    8.7\n",
       "1                k 2021-05-11       13.4   6.050   6.404    8.7\n",
       "2                V 2021-05-11       13.8   6.050   6.404    8.7\n",
       "3                Z 2021-05-11       14.2   6.050   6.404    8.7\n",
       "4                S 2021-05-08       13.5   6.092   6.428    8.7\n",
       "..             ...        ...        ...     ...     ...    ...\n",
       "444              C 2017-06-14       18.4  15.887  15.955    3.6\n",
       "445              C 2017-06-12       17.8  15.898  15.966    3.6\n",
       "446              C 2017-06-12       18.7  15.898  15.966    3.6\n",
       "447              C 2017-06-02       19.1  15.953  16.023    3.6\n",
       "448              C 2017-06-02       18.2  15.953  16.023    3.6\n",
       "\n",
       "[449 rows x 6 columns]"
      ]
     },
     "execution_count": 92,
     "metadata": {},
     "output_type": "execute_result"
    }
   ],
   "source": [
    "# Unión de las bases de datos COBS y MPC\n",
    "curva_de_luz_procesada_df = curva_de_luz_cruda_df.merge(ephemeris_filtrada_df, on='obs_date')\n",
    "curva_de_luz_procesada_df"
   ]
  },
  {
   "cell_type": "code",
   "execution_count": 93,
   "metadata": {},
   "outputs": [
    {
     "name": "stdout",
     "output_type": "stream",
     "text": [
      "<class 'pandas.core.frame.DataFrame'>\n",
      "RangeIndex: 449 entries, 0 to 448\n",
      "Data columns (total 6 columns):\n",
      " #   Column          Non-Null Count  Dtype         \n",
      "---  ------          --------------  -----         \n",
      " 0   obs_method_key  449 non-null    object        \n",
      " 1   obs_date        449 non-null    datetime64[ns]\n",
      " 2   magnitude       449 non-null    float64       \n",
      " 3   delta           449 non-null    float64       \n",
      " 4   r               449 non-null    float64       \n",
      " 5   phase           449 non-null    float64       \n",
      "dtypes: datetime64[ns](1), float64(4), object(1)\n",
      "memory usage: 21.2+ KB\n"
     ]
    }
   ],
   "source": [
    "# Información del data frame curva de lus procesada\n",
    "curva_de_luz_procesada_df.info()"
   ]
  },
  {
   "cell_type": "code",
   "execution_count": 94,
   "metadata": {},
   "outputs": [
    {
     "data": {
      "text/html": [
       "<div>\n",
       "<style scoped>\n",
       "    .dataframe tbody tr th:only-of-type {\n",
       "        vertical-align: middle;\n",
       "    }\n",
       "\n",
       "    .dataframe tbody tr th {\n",
       "        vertical-align: top;\n",
       "    }\n",
       "\n",
       "    .dataframe thead th {\n",
       "        text-align: right;\n",
       "    }\n",
       "</style>\n",
       "<table border=\"1\" class=\"dataframe\">\n",
       "  <thead>\n",
       "    <tr style=\"text-align: right;\">\n",
       "      <th></th>\n",
       "      <th>obs_method_key</th>\n",
       "      <th>obs_date</th>\n",
       "      <th>magnitude</th>\n",
       "      <th>delta</th>\n",
       "      <th>r</th>\n",
       "      <th>phase</th>\n",
       "      <th>magnitud_reducida</th>\n",
       "    </tr>\n",
       "  </thead>\n",
       "  <tbody>\n",
       "    <tr>\n",
       "      <th>0</th>\n",
       "      <td>C</td>\n",
       "      <td>2021-05-11</td>\n",
       "      <td>14.2</td>\n",
       "      <td>6.050</td>\n",
       "      <td>6.404</td>\n",
       "      <td>8.7</td>\n",
       "      <td>8.258967</td>\n",
       "    </tr>\n",
       "    <tr>\n",
       "      <th>1</th>\n",
       "      <td>k</td>\n",
       "      <td>2021-05-11</td>\n",
       "      <td>13.4</td>\n",
       "      <td>6.050</td>\n",
       "      <td>6.404</td>\n",
       "      <td>8.7</td>\n",
       "      <td>7.258967</td>\n",
       "    </tr>\n",
       "    <tr>\n",
       "      <th>2</th>\n",
       "      <td>V</td>\n",
       "      <td>2021-05-11</td>\n",
       "      <td>13.8</td>\n",
       "      <td>6.050</td>\n",
       "      <td>6.404</td>\n",
       "      <td>8.7</td>\n",
       "      <td>7.158967</td>\n",
       "    </tr>\n",
       "    <tr>\n",
       "      <th>3</th>\n",
       "      <td>Z</td>\n",
       "      <td>2021-05-11</td>\n",
       "      <td>14.2</td>\n",
       "      <td>6.050</td>\n",
       "      <td>6.404</td>\n",
       "      <td>8.7</td>\n",
       "      <td>6.958967</td>\n",
       "    </tr>\n",
       "    <tr>\n",
       "      <th>4</th>\n",
       "      <td>S</td>\n",
       "      <td>2021-05-08</td>\n",
       "      <td>13.5</td>\n",
       "      <td>6.092</td>\n",
       "      <td>6.428</td>\n",
       "      <td>8.7</td>\n",
       "      <td>8.635821</td>\n",
       "    </tr>\n",
       "    <tr>\n",
       "      <th>...</th>\n",
       "      <td>...</td>\n",
       "      <td>...</td>\n",
       "      <td>...</td>\n",
       "      <td>...</td>\n",
       "      <td>...</td>\n",
       "      <td>...</td>\n",
       "      <td>...</td>\n",
       "    </tr>\n",
       "    <tr>\n",
       "      <th>444</th>\n",
       "      <td>C</td>\n",
       "      <td>2017-06-14</td>\n",
       "      <td>18.4</td>\n",
       "      <td>15.887</td>\n",
       "      <td>15.955</td>\n",
       "      <td>3.6</td>\n",
       "      <td>-3.319694</td>\n",
       "    </tr>\n",
       "    <tr>\n",
       "      <th>445</th>\n",
       "      <td>C</td>\n",
       "      <td>2017-06-12</td>\n",
       "      <td>17.8</td>\n",
       "      <td>15.898</td>\n",
       "      <td>15.966</td>\n",
       "      <td>3.6</td>\n",
       "      <td>-3.322693</td>\n",
       "    </tr>\n",
       "    <tr>\n",
       "      <th>446</th>\n",
       "      <td>C</td>\n",
       "      <td>2017-06-12</td>\n",
       "      <td>18.7</td>\n",
       "      <td>15.898</td>\n",
       "      <td>15.966</td>\n",
       "      <td>3.6</td>\n",
       "      <td>-3.222693</td>\n",
       "    </tr>\n",
       "    <tr>\n",
       "      <th>447</th>\n",
       "      <td>C</td>\n",
       "      <td>2017-06-02</td>\n",
       "      <td>19.1</td>\n",
       "      <td>15.953</td>\n",
       "      <td>16.023</td>\n",
       "      <td>3.6</td>\n",
       "      <td>-3.637931</td>\n",
       "    </tr>\n",
       "    <tr>\n",
       "      <th>448</th>\n",
       "      <td>C</td>\n",
       "      <td>2017-06-02</td>\n",
       "      <td>18.2</td>\n",
       "      <td>15.953</td>\n",
       "      <td>16.023</td>\n",
       "      <td>3.6</td>\n",
       "      <td>-3.637931</td>\n",
       "    </tr>\n",
       "  </tbody>\n",
       "</table>\n",
       "<p>449 rows × 7 columns</p>\n",
       "</div>"
      ],
      "text/plain": [
       "    obs_method_key   obs_date  magnitude   delta       r  phase  \\\n",
       "0                C 2021-05-11       14.2   6.050   6.404    8.7   \n",
       "1                k 2021-05-11       13.4   6.050   6.404    8.7   \n",
       "2                V 2021-05-11       13.8   6.050   6.404    8.7   \n",
       "3                Z 2021-05-11       14.2   6.050   6.404    8.7   \n",
       "4                S 2021-05-08       13.5   6.092   6.428    8.7   \n",
       "..             ...        ...        ...     ...     ...    ...   \n",
       "444              C 2017-06-14       18.4  15.887  15.955    3.6   \n",
       "445              C 2017-06-12       17.8  15.898  15.966    3.6   \n",
       "446              C 2017-06-12       18.7  15.898  15.966    3.6   \n",
       "447              C 2017-06-02       19.1  15.953  16.023    3.6   \n",
       "448              C 2017-06-02       18.2  15.953  16.023    3.6   \n",
       "\n",
       "     magnitud_reducida  \n",
       "0             8.258967  \n",
       "1             7.258967  \n",
       "2             7.158967  \n",
       "3             6.958967  \n",
       "4             8.635821  \n",
       "..                 ...  \n",
       "444          -3.319694  \n",
       "445          -3.322693  \n",
       "446          -3.222693  \n",
       "447          -3.637931  \n",
       "448          -3.637931  \n",
       "\n",
       "[449 rows x 7 columns]"
      ]
     },
     "execution_count": 94,
     "metadata": {},
     "output_type": "execute_result"
    }
   ],
   "source": [
    "# Reducción de la magnitud aparente\n",
    "beta = 0\n",
    "\n",
    "curva_de_luz_procesada_df['magnitud_reducida'] = (\n",
    "    curva_de_luz_cruda_df['magnitude'] \n",
    "    - 5 * np.log10(curva_de_luz_procesada_df['delta'] * curva_de_luz_procesada_df['r'])\n",
    "    - (beta * curva_de_luz_procesada_df['phase'])\n",
    "    )\n",
    "curva_de_luz_procesada_df"
   ]
  },
  {
   "cell_type": "code",
   "execution_count": 95,
   "metadata": {},
   "outputs": [
    {
     "data": {
      "application/vnd.plotly.v1+json": {
       "config": {
        "plotlyServerURL": "https://plot.ly"
       },
       "data": [
        {
         "hovertemplate": "Observation Method=C<br>Observation Date=%{x}<br>Apparent total magnitude processed=%{y}<extra></extra>",
         "legendgroup": "C",
         "marker": {
          "color": "#636efa",
          "symbol": "circle"
         },
         "mode": "markers",
         "name": "C",
         "orientation": "v",
         "showlegend": true,
         "type": "scatter",
         "x": [
          "2021-05-11T00:00:00",
          "2021-05-02T00:00:00",
          "2021-04-18T00:00:00",
          "2021-04-17T00:00:00",
          "2021-04-13T00:00:00",
          "2021-04-06T00:00:00",
          "2021-04-05T00:00:00",
          "2021-03-23T00:00:00",
          "2021-03-17T00:00:00",
          "2021-03-16T00:00:00",
          "2021-03-14T00:00:00",
          "2021-03-10T00:00:00",
          "2021-03-09T00:00:00",
          "2021-02-21T00:00:00",
          "2021-02-19T00:00:00",
          "2021-02-17T00:00:00",
          "2021-02-15T00:00:00",
          "2021-02-09T00:00:00",
          "2021-02-09T00:00:00",
          "2021-02-08T00:00:00",
          "2021-01-31T00:00:00",
          "2020-11-02T00:00:00",
          "2020-10-12T00:00:00",
          "2020-10-11T00:00:00",
          "2020-10-11T00:00:00",
          "2020-09-23T00:00:00",
          "2020-09-18T00:00:00",
          "2020-09-18T00:00:00",
          "2020-09-14T00:00:00",
          "2020-09-13T00:00:00",
          "2020-09-12T00:00:00",
          "2020-09-11T00:00:00",
          "2020-08-24T00:00:00",
          "2020-08-23T00:00:00",
          "2020-08-16T00:00:00",
          "2020-08-08T00:00:00",
          "2020-08-07T00:00:00",
          "2020-07-29T00:00:00",
          "2020-07-11T00:00:00",
          "2020-07-10T00:00:00",
          "2020-07-07T00:00:00",
          "2020-07-06T00:00:00",
          "2020-06-23T00:00:00",
          "2020-06-20T00:00:00",
          "2020-06-19T00:00:00",
          "2020-05-24T00:00:00",
          "2020-05-15T00:00:00",
          "2020-05-07T00:00:00",
          "2020-05-06T00:00:00",
          "2020-04-28T00:00:00",
          "2020-04-23T00:00:00",
          "2020-04-20T00:00:00",
          "2020-04-01T00:00:00",
          "2020-03-29T00:00:00",
          "2020-03-24T00:00:00",
          "2020-03-21T00:00:00",
          "2020-03-11T00:00:00",
          "2020-03-08T00:00:00",
          "2020-02-18T00:00:00",
          "2020-02-02T00:00:00",
          "2020-01-29T00:00:00",
          "2019-10-29T00:00:00",
          "2019-08-30T00:00:00",
          "2019-06-27T00:00:00",
          "2019-06-07T00:00:00",
          "2019-05-23T00:00:00",
          "2019-04-25T00:00:00",
          "2019-04-23T00:00:00",
          "2019-03-27T00:00:00",
          "2019-03-11T00:00:00",
          "2019-02-17T00:00:00",
          "2018-10-31T00:00:00",
          "2018-10-12T00:00:00",
          "2018-10-11T00:00:00",
          "2018-10-08T00:00:00",
          "2018-10-04T00:00:00",
          "2018-09-29T00:00:00",
          "2018-09-27T00:00:00",
          "2018-08-28T00:00:00",
          "2018-08-03T00:00:00",
          "2018-07-14T00:00:00",
          "2018-06-24T00:00:00",
          "2018-06-08T00:00:00",
          "2018-05-05T00:00:00",
          "2018-04-16T00:00:00",
          "2018-04-07T00:00:00",
          "2018-03-25T00:00:00",
          "2018-03-20T00:00:00",
          "2018-03-17T00:00:00",
          "2018-02-18T00:00:00",
          "2018-02-15T00:00:00",
          "2018-01-24T00:00:00",
          "2017-10-14T00:00:00",
          "2017-10-11T00:00:00",
          "2017-10-08T00:00:00",
          "2017-09-20T00:00:00",
          "2017-09-19T00:00:00",
          "2017-09-12T00:00:00",
          "2017-08-29T00:00:00",
          "2017-07-31T00:00:00",
          "2017-07-18T00:00:00",
          "2017-06-21T00:00:00",
          "2017-06-17T00:00:00",
          "2017-06-16T00:00:00",
          "2017-06-14T00:00:00",
          "2017-06-12T00:00:00",
          "2017-06-12T00:00:00",
          "2017-06-02T00:00:00",
          "2017-06-02T00:00:00"
         ],
         "xaxis": "x",
         "y": [
          8.258966510501345,
          5.9888909949033735,
          6.178408486369252,
          6.47001368778586,
          6.038590555704371,
          5.983374038267318,
          5.17550237922419,
          5.6742722984853025,
          4.328565291497656,
          5.020999079392352,
          5.006222995515898,
          4.676525620664112,
          4.569373020664925,
          4.655669373017458,
          4.342398596740848,
          5.628864785884767,
          5.215671430155506,
          4.576649972459164,
          4.476649972459164,
          4.570423470884691,
          4.320671733013542,
          3.43143804432928,
          3.775821568387867,
          3.57340513956027,
          3.07340513956027,
          3.030825174467454,
          2.9194863314643076,
          3.819486331464308,
          4.210290419483474,
          3.5081924007142717,
          4.605833853710823,
          3.6037392224668423,
          3.861902759246746,
          3.3595800057699066,
          4.542598153203025,
          2.522629860572721,
          4.01982152428886,
          1.9961551389437027,
          3.143902171779919,
          4.040888222087116,
          4.2316118850271405,
          3.028351784924137,
          1.7852144855502505,
          2.7747979322419436,
          2.9713285921251718,
          3.072784442031667,
          2.5358163229336075,
          3.0022616410304312,
          2.697964310535429,
          2.963512283468198,
          1.8418002429322406,
          3.1284040903684343,
          2.944552879903773,
          3.3310111412609604,
          2.6090725238183,
          2.5958753839310855,
          3.05226746375949,
          2.4394774082426434,
          3.159827056014999,
          2.5965747730799933,
          4.081446388872012,
          2.816166324198944,
          -0.6994919880911574,
          -1.33237746519824,
          -1.5818412909765858,
          -1.921371504557765,
          -1.8003257558218255,
          -2.3060555620269856,
          -2.1856530374695016,
          -2.732872793022141,
          -2.7961881346379034,
          -2.447008985867704,
          -2.479446382417475,
          -2.4811028225676157,
          -2.8860697815467624,
          -2.592518155096574,
          -2.6006047879447127,
          -2.6037360574482395,
          -2.651069562020984,
          -1.4910877622514676,
          -1.224654827928891,
          -2.6598720649471304,
          -2.989930286658579,
          -2.758151582383414,
          -2.798335106357708,
          -2.9178276509548393,
          -3.245912108908094,
          -3.2566995521318898,
          -2.863219480682691,
          -1.6213019505378377,
          -1.3277232136373947,
          -3.3729957756998896,
          -3.448019447268452,
          -3.152418426839647,
          -3.2568128344845935,
          -3.0820987890080467,
          -3.383507032813295,
          -3.0929299211399,
          -3.3122715144362385,
          -3.4519361642294655,
          -3.170182237312334,
          -3.309180098486376,
          -3.4150543214196567,
          -2.8166924544032756,
          -3.319693520361046,
          -3.322693087913702,
          -3.222693087913701,
          -3.6379309894171605,
          -3.6379309894171605
         ],
         "yaxis": "y"
        },
        {
         "hovertemplate": "Observation Method=k<br>Observation Date=%{x}<br>Apparent total magnitude processed=%{y}<extra></extra>",
         "legendgroup": "k",
         "marker": {
          "color": "#EF553B",
          "symbol": "circle"
         },
         "mode": "markers",
         "name": "k",
         "orientation": "v",
         "showlegend": true,
         "type": "scatter",
         "x": [
          "2021-05-11T00:00:00",
          "2020-12-06T00:00:00",
          "2020-11-16T00:00:00",
          "2020-11-06T00:00:00",
          "2020-11-06T00:00:00",
          "2020-10-09T00:00:00",
          "2020-09-09T00:00:00",
          "2020-08-22T00:00:00",
          "2020-08-09T00:00:00",
          "2020-07-19T00:00:00",
          "2020-06-24T00:00:00",
          "2020-06-18T00:00:00",
          "2020-06-12T00:00:00",
          "2020-05-21T00:00:00",
          "2020-05-13T00:00:00",
          "2020-04-18T00:00:00",
          "2020-03-21T00:00:00",
          "2020-02-28T00:00:00",
          "2020-02-21T00:00:00",
          "2020-01-01T00:00:00",
          "2019-10-23T00:00:00",
          "2019-09-25T00:00:00",
          "2019-09-21T00:00:00",
          "2019-09-19T00:00:00",
          "2019-08-27T00:00:00",
          "2019-08-22T00:00:00",
          "2019-08-09T00:00:00",
          "2019-07-31T00:00:00",
          "2019-07-23T00:00:00",
          "2019-07-05T00:00:00",
          "2019-06-09T00:00:00",
          "2019-05-29T00:00:00",
          "2019-05-07T00:00:00",
          "2019-04-28T00:00:00",
          "2019-04-15T00:00:00",
          "2019-04-07T00:00:00",
          "2019-03-17T00:00:00",
          "2019-03-02T00:00:00",
          "2019-02-02T00:00:00",
          "2019-01-13T00:00:00",
          "2018-02-25T00:00:00",
          "2018-02-24T00:00:00"
         ],
         "xaxis": "x",
         "y": [
          7.258966510501345,
          4.144253836627714,
          4.473996820718469,
          4.3428633297622845,
          3.542863329762284,
          3.3685856143268573,
          4.399032641295273,
          4.05700163475276,
          2.6251860325730636,
          4.167813197819706,
          2.68869493702252,
          2.767618569745112,
          3.4461353011740563,
          1.9604280833573355,
          2.627405593857853,
          2.4197306461975927,
          1.9958753839310859,
          3.001123180083672,
          2.772150331311492,
          1.483919186877154,
          2.6035308154145227,
          3.048752798517988,
          0.3413343356036016,
          0.0377310969466933,
          -0.20523080499316926,
          -0.6147099299578755,
          -0.8398753782088537,
          -1.0578671765460452,
          -1.1742280494851975,
          -1.2139113873535443,
          -1.6767087250388233,
          -1.6051470268754056,
          -2.3655976756890915,
          -2.091438190758936,
          -2.02945027331619,
          -1.9530815370473373,
          -2.915273023766046,
          -2.3591335646273652,
          -2.9378186821028507,
          -2.9897721616703254,
          -3.0064807289910167,
          -2.8085798304211966
         ],
         "yaxis": "y"
        },
        {
         "hovertemplate": "Observation Method=V<br>Observation Date=%{x}<br>Apparent total magnitude processed=%{y}<extra></extra>",
         "legendgroup": "V",
         "marker": {
          "color": "#00cc96",
          "symbol": "circle"
         },
         "mode": "markers",
         "name": "V",
         "orientation": "v",
         "showlegend": true,
         "type": "scatter",
         "x": [
          "2021-05-11T00:00:00",
          "2021-04-03T00:00:00",
          "2020-12-06T00:00:00",
          "2020-11-16T00:00:00",
          "2020-11-06T00:00:00",
          "2020-10-24T00:00:00",
          "2020-10-09T00:00:00",
          "2020-09-09T00:00:00",
          "2020-08-22T00:00:00",
          "2020-08-09T00:00:00",
          "2020-07-19T00:00:00",
          "2020-06-24T00:00:00",
          "2020-06-18T00:00:00",
          "2020-06-12T00:00:00",
          "2020-05-21T00:00:00",
          "2020-05-13T00:00:00",
          "2020-04-18T00:00:00",
          "2020-03-21T00:00:00",
          "2020-02-28T00:00:00",
          "2020-02-21T00:00:00",
          "2020-01-01T00:00:00",
          "2019-10-23T00:00:00",
          "2019-09-25T00:00:00",
          "2019-09-21T00:00:00",
          "2019-09-19T00:00:00",
          "2019-08-27T00:00:00",
          "2019-08-22T00:00:00",
          "2019-08-09T00:00:00",
          "2019-07-31T00:00:00",
          "2019-07-23T00:00:00",
          "2019-07-05T00:00:00",
          "2019-06-09T00:00:00",
          "2019-05-29T00:00:00",
          "2019-05-07T00:00:00",
          "2019-04-28T00:00:00",
          "2019-04-15T00:00:00",
          "2019-04-07T00:00:00",
          "2019-03-17T00:00:00",
          "2019-03-02T00:00:00",
          "2019-02-02T00:00:00",
          "2019-01-13T00:00:00"
         ],
         "xaxis": "x",
         "y": [
          7.158966510501346,
          5.959806648188833,
          4.644253836627714,
          4.873996820718469,
          3.742863329762285,
          3.6067763681933407,
          3.2685856143268577,
          4.299032641295273,
          6.2570016347527595,
          3.7251860325730632,
          2.0678131978197065,
          4.58869493702252,
          2.3676185697451135,
          2.546135301174056,
          2.360428083357336,
          3.0274055938578535,
          2.0197306461975923,
          2.8958753839310845,
          2.501123180083672,
          2.972150331311493,
          2.2839191868771547,
          3.1035308154145227,
          1.4487527985179884,
          0.441334335603603,
          0.2377310969466926,
          -0.6052308049931678,
          -0.8147099299578766,
          -0.9398753782088534,
          -1.2578671765460463,
          -1.1742280494851975,
          -1.4139113873535454,
          -1.6767087250388233,
          -1.8051470268754048,
          -1.8655976756890915,
          -2.4914381907589362,
          -2.329450273316189,
          -1.9530815370473373,
          -2.2152730237660467,
          -2.3591335646273652,
          -2.337818682102851,
          -3.1897721616703256
         ],
         "yaxis": "y"
        },
        {
         "hovertemplate": "Observation Method=Z<br>Observation Date=%{x}<br>Apparent total magnitude processed=%{y}<extra></extra>",
         "legendgroup": "Z",
         "marker": {
          "color": "#ab63fa",
          "symbol": "circle"
         },
         "mode": "markers",
         "name": "Z",
         "orientation": "v",
         "showlegend": true,
         "type": "scatter",
         "x": [
          "2021-05-11T00:00:00",
          "2021-05-08T00:00:00",
          "2021-05-08T00:00:00",
          "2021-05-05T00:00:00",
          "2021-05-04T00:00:00",
          "2021-05-03T00:00:00",
          "2021-04-30T00:00:00",
          "2021-04-28T00:00:00",
          "2021-04-26T00:00:00",
          "2021-04-25T00:00:00",
          "2021-04-23T00:00:00",
          "2021-04-23T00:00:00",
          "2021-04-21T00:00:00",
          "2021-04-21T00:00:00",
          "2021-04-19T00:00:00",
          "2021-04-15T00:00:00",
          "2021-04-14T00:00:00",
          "2021-04-14T00:00:00",
          "2021-04-14T00:00:00",
          "2021-04-12T00:00:00",
          "2021-04-09T00:00:00",
          "2021-04-05T00:00:00",
          "2021-04-04T00:00:00",
          "2021-04-01T00:00:00",
          "2021-03-30T00:00:00",
          "2021-03-30T00:00:00",
          "2021-03-22T00:00:00",
          "2021-03-22T00:00:00",
          "2021-03-20T00:00:00",
          "2021-03-17T00:00:00",
          "2021-03-16T00:00:00",
          "2021-03-07T00:00:00",
          "2021-03-06T00:00:00",
          "2021-02-24T00:00:00",
          "2021-02-22T00:00:00",
          "2021-02-22T00:00:00",
          "2021-02-21T00:00:00",
          "2021-02-15T00:00:00",
          "2021-02-15T00:00:00",
          "2021-02-11T00:00:00",
          "2021-02-05T00:00:00",
          "2021-01-25T00:00:00",
          "2021-01-24T00:00:00",
          "2021-01-18T00:00:00",
          "2021-01-17T00:00:00",
          "2021-01-16T00:00:00",
          "2021-01-11T00:00:00",
          "2021-01-11T00:00:00",
          "2020-12-27T00:00:00",
          "2020-12-26T00:00:00",
          "2020-12-19T00:00:00",
          "2020-12-08T00:00:00",
          "2020-11-25T00:00:00",
          "2020-11-24T00:00:00",
          "2020-11-23T00:00:00",
          "2020-11-23T00:00:00",
          "2020-11-21T00:00:00",
          "2020-11-20T00:00:00",
          "2020-11-18T00:00:00",
          "2020-11-18T00:00:00",
          "2020-11-14T00:00:00",
          "2020-11-14T00:00:00",
          "2020-11-08T00:00:00",
          "2020-11-08T00:00:00",
          "2020-11-06T00:00:00",
          "2020-11-05T00:00:00",
          "2020-11-05T00:00:00",
          "2020-10-24T00:00:00",
          "2020-10-19T00:00:00",
          "2020-10-19T00:00:00",
          "2020-10-17T00:00:00",
          "2020-10-12T00:00:00",
          "2020-10-10T00:00:00",
          "2020-10-10T00:00:00",
          "2020-10-03T00:00:00",
          "2020-09-30T00:00:00",
          "2020-09-30T00:00:00",
          "2020-09-29T00:00:00",
          "2020-09-19T00:00:00",
          "2020-09-19T00:00:00",
          "2020-09-17T00:00:00",
          "2020-09-15T00:00:00",
          "2020-09-14T00:00:00",
          "2020-09-14T00:00:00",
          "2020-09-12T00:00:00",
          "2020-09-11T00:00:00",
          "2020-09-10T00:00:00",
          "2020-09-09T00:00:00",
          "2020-09-07T00:00:00",
          "2020-09-05T00:00:00",
          "2020-09-03T00:00:00",
          "2020-09-02T00:00:00",
          "2020-08-21T00:00:00",
          "2020-08-20T00:00:00",
          "2020-08-19T00:00:00",
          "2020-08-16T00:00:00",
          "2020-07-31T00:00:00",
          "2020-07-30T00:00:00",
          "2020-07-30T00:00:00",
          "2020-07-29T00:00:00",
          "2020-07-26T00:00:00",
          "2020-07-18T00:00:00",
          "2020-07-18T00:00:00",
          "2020-07-12T00:00:00",
          "2020-07-11T00:00:00",
          "2020-07-09T00:00:00",
          "2020-07-03T00:00:00",
          "2020-06-27T00:00:00",
          "2020-06-25T00:00:00",
          "2020-06-23T00:00:00",
          "2020-06-21T00:00:00",
          "2020-06-13T00:00:00",
          "2020-06-12T00:00:00",
          "2020-06-01T00:00:00",
          "2020-06-01T00:00:00",
          "2020-05-17T00:00:00",
          "2020-05-16T00:00:00",
          "2020-04-28T00:00:00",
          "2020-04-26T00:00:00",
          "2020-04-24T00:00:00",
          "2020-04-21T00:00:00",
          "2020-04-18T00:00:00",
          "2020-04-16T00:00:00",
          "2020-04-16T00:00:00",
          "2020-04-14T00:00:00",
          "2020-04-02T00:00:00",
          "2020-03-26T00:00:00",
          "2020-03-25T00:00:00",
          "2020-03-25T00:00:00",
          "2020-03-25T00:00:00",
          "2020-03-24T00:00:00",
          "2020-03-22T00:00:00",
          "2020-03-20T00:00:00",
          "2020-03-18T00:00:00",
          "2020-03-16T00:00:00",
          "2020-03-15T00:00:00",
          "2020-03-04T00:00:00",
          "2020-02-20T00:00:00",
          "2020-02-07T00:00:00",
          "2020-02-02T00:00:00",
          "2020-01-24T00:00:00",
          "2020-01-22T00:00:00",
          "2020-01-17T00:00:00",
          "2020-01-02T00:00:00",
          "2020-01-01T00:00:00",
          "2019-12-29T00:00:00",
          "2019-12-21T00:00:00",
          "2019-12-17T00:00:00",
          "2019-12-10T00:00:00",
          "2019-12-04T00:00:00",
          "2019-12-04T00:00:00",
          "2019-11-14T00:00:00",
          "2019-11-10T00:00:00",
          "2019-10-31T00:00:00",
          "2019-10-30T00:00:00",
          "2019-10-25T00:00:00",
          "2019-10-23T00:00:00",
          "2019-10-14T00:00:00",
          "2019-10-13T00:00:00",
          "2019-10-02T00:00:00",
          "2019-09-21T00:00:00",
          "2019-09-21T00:00:00",
          "2019-09-18T00:00:00",
          "2019-09-12T00:00:00",
          "2019-09-02T00:00:00",
          "2019-08-31T00:00:00",
          "2019-08-31T00:00:00",
          "2019-08-30T00:00:00",
          "2019-08-25T00:00:00",
          "2019-08-25T00:00:00",
          "2019-08-24T00:00:00",
          "2019-08-22T00:00:00",
          "2019-08-22T00:00:00",
          "2019-08-10T00:00:00",
          "2019-08-10T00:00:00",
          "2019-08-08T00:00:00",
          "2019-08-01T00:00:00",
          "2019-07-25T00:00:00",
          "2019-07-21T00:00:00",
          "2019-06-27T00:00:00",
          "2019-06-27T00:00:00",
          "2019-06-13T00:00:00",
          "2019-06-06T00:00:00",
          "2019-05-23T00:00:00",
          "2019-05-13T00:00:00",
          "2019-05-12T00:00:00",
          "2019-05-02T00:00:00",
          "2019-04-23T00:00:00",
          "2019-04-11T00:00:00",
          "2019-04-07T00:00:00",
          "2019-04-02T00:00:00",
          "2019-04-02T00:00:00",
          "2019-03-31T00:00:00",
          "2019-03-30T00:00:00",
          "2019-03-30T00:00:00",
          "2019-02-28T00:00:00",
          "2019-02-28T00:00:00",
          "2019-02-07T00:00:00",
          "2018-11-16T00:00:00",
          "2018-11-12T00:00:00",
          "2018-11-07T00:00:00",
          "2018-11-05T00:00:00",
          "2018-11-01T00:00:00",
          "2018-10-21T00:00:00",
          "2018-10-14T00:00:00",
          "2018-10-14T00:00:00",
          "2018-10-12T00:00:00",
          "2018-10-11T00:00:00",
          "2018-10-10T00:00:00",
          "2018-10-04T00:00:00",
          "2018-09-30T00:00:00",
          "2018-09-16T00:00:00",
          "2018-09-15T00:00:00",
          "2018-09-11T00:00:00",
          "2018-09-05T00:00:00",
          "2018-08-16T00:00:00",
          "2018-08-12T00:00:00",
          "2018-08-05T00:00:00",
          "2018-07-13T00:00:00",
          "2018-07-08T00:00:00",
          "2018-06-18T00:00:00",
          "2018-05-05T00:00:00",
          "2018-04-04T00:00:00",
          "2018-02-19T00:00:00",
          "2017-07-25T00:00:00"
         ],
         "xaxis": "x",
         "y": [
          6.958966510501346,
          6.435821186223441,
          6.13582118622344,
          6.012472816232042,
          6.104478829575914,
          6.19685340564418,
          6.673364258709235,
          6.557549922034925,
          6.541466179240864,
          5.733614688990478,
          6.517958549034265,
          6.717958549034266,
          7.902022051046075,
          6.802022051046075,
          6.986150314519657,
          5.654270580247442,
          6.146254431180941,
          5.646254431180941,
          5.4462544311809395,
          5.930606548750879,
          5.307085027283948,
          5.875502379224189,
          6.867646605603166,
          5.444173907482744,
          5.628281603077456,
          4.828281603077455,
          5.16661728015298,
          4.966617280152981,
          5.3513520517405375,
          5.428565291497657,
          5.020999079392352,
          5.654788971363972,
          5.4476706039689855,
          5.476574202724068,
          4.862625533205874,
          5.262625533205874,
          4.055669373017459,
          5.215671430155506,
          5.015671430155505,
          5.489412107748812,
          4.551220040978132,
          4.885103206591179,
          3.7792967200586407,
          4.945485003807896,
          4.039732779505512,
          4.934269071897711,
          4.207628622978982,
          4.907628622978981,
          4.133628441312268,
          4.428844799168022,
          4.697709931391115,
          3.4522975211927864,
          4.904201462843062,
          3.5006222683120445,
          3.697046214088436,
          4.697046214088436,
          4.090183494657881,
          3.3868820804223887,
          3.880301604396543,
          3.280301604396543,
          4.267424061098181,
          4.46742406109818,
          3.949130007072,
          3.8491300070720005,
          4.242863329762285,
          4.940141459346082,
          4.840141459346082,
          4.806776368193342,
          2.29355729516033,
          4.593557295160329,
          2.188172788560925,
          3.6758215683878674,
          3.1709979477169163,
          3.270997947716916,
          null,
          4.046990903973931,
          4.146990903973933,
          3.4448652491488794,
          1.9215927914887772,
          4.221592791488778,
          4.017118181338056,
          3.512390025325992,
          4.210290419483474,
          3.7102904194834743,
          2.505833853710822,
          5.203739222466842,
          2.90112386577003,
          2.9990326412952726,
          3.2945939621090616,
          3.6899019850296586,
          3.1852173185203725,
          3.482878006830166,
          4.454682332277136,
          3.9523646445792,
          3.149792000052381,
          5.342598153203024,
          2.3014911821040513,
          3.5986932583632587,
          2.798693258363258,
          3.2961551389437016,
          4.188042101199958,
          3.5650386319305287,
          4.765038631930528,
          3.447166587382215,
          4.543902171779919,
          3.0378764108340963,
          2.7188484258576935,
          3.198891599936898,
          2.591925228026833,
          3.0852144855502512,
          2.8782700467845483,
          2.549835062226135,
          2.4461353011740563,
          3.3044300142043266,
          2.9044300142043262,
          2.5440064887792353,
          2.2399094058673796,
          2.5635122834681976,
          2.7547688598259086,
          3.146039465310597,
          2.433098446616542,
          2.319730646197593,
          4.311075570043686,
          2.811075570043686,
          3.1019731791121927,
          2.4489235055203906,
          3.1179708763165337,
          2.9134050675788803,
          2.1134050675788814,
          3.1134050675788814,
          2.909072523818299,
          3.2004212809224057,
          2.6915615361721716,
          2.6827209038131077,
          3.0738997444534846,
          2.669609122265518,
          2.622261975338665,
          3.6679654822687358,
          2.6158859382585664,
          2.0965747730799933,
          3.7629312688462324,
          2.1558505232352907,
          2.238080980454166,
          2.087297386819003,
          -0.21608081312284533,
          2.4746381128914745,
          3.6500375829162266,
          2.7383108956732265,
          3.6182644035320646,
          2.401832879230927,
          2.8018328792309273,
          3.651814031588314,
          2.6425707999101604,
          3.320455873991298,
          4.01820986189021,
          1.907806480757145,
          0.7035308154145223,
          2.9852562318584415,
          2.8832303583354104,
          2.9620236735633316,
          1.3413343356036016,
          1.241334335603602,
          0.635731139689705,
          0.6245495422963767,
          -0.3939427660512216,
          -0.0977092512352069,
          -0.19770925123520833,
          -0.29949198809115707,
          -0.5089856027016282,
          -0.6089856027016278,
          -0.6107631534094011,
          -1.3147099299578766,
          -0.714709929957877,
          -0.737718485845571,
          -0.8377184858455706,
          -0.941834208046652,
          -0.9557199218938912,
          -1.070143423241797,
          -1.3786976241018802,
          -1.5323774651982394,
          -1.5323774651982394,
          -1.3664284343403903,
          -1.584308095759507,
          -1.921371504557765,
          -1.7487840159496333,
          -2.051777799401462,
          -2.4799309908220444,
          -2.0060555620269866,
          -2.241190770548396,
          -2.0530815370473388,
          -2.1678522694427738,
          -2.067852269442774,
          -0.6736729703837643,
          -0.4767618817435366,
          -2.1767618817435377,
          -2.8650061123037283,
          -2.465006112303728,
          -2.824162725400983,
          -3.0175292989621685,
          -2.9249178141762933,
          -2.9343033067082587,
          -3.2378175263225657,
          -3.345005241186306,
          -2.8641726139386385,
          -2.176129757134115,
          -2.8761297571341142,
          -2.979446382417475,
          -2.5811028225676154,
          -2.982758604683255,
          -2.9925181550965743,
          -2.6991203012675395,
          -2.421326212498638,
          -2.4228023893744766,
          -2.4291920973335532,
          -2.9385128619517165,
          -2.970074363841558,
          -3.0765514836494425,
          -2.7877005321737567,
          -2.526254102759175,
          -2.635041545169363,
          -3.0711282236633775,
          -2.9581515823834135,
          -2.8242545362850535,
          -2.4192091215318072,
          -3.660239534207646
         ],
         "yaxis": "y"
        },
        {
         "hovertemplate": "Observation Method=S<br>Observation Date=%{x}<br>Apparent total magnitude processed=%{y}<extra></extra>",
         "legendgroup": "S",
         "marker": {
          "color": "#FFA15A",
          "symbol": "circle"
         },
         "mode": "markers",
         "name": "S",
         "orientation": "v",
         "showlegend": true,
         "type": "scatter",
         "x": [
          "2021-05-08T00:00:00",
          "2021-04-19T00:00:00",
          "2021-04-14T00:00:00",
          "2021-04-05T00:00:00",
          "2021-04-01T00:00:00",
          "2021-03-19T00:00:00",
          "2021-03-13T00:00:00",
          "2020-11-05T00:00:00",
          "2020-09-21T00:00:00",
          "2020-09-19T00:00:00",
          "2020-09-16T00:00:00",
          "2020-09-12T00:00:00",
          "2020-09-09T00:00:00",
          "2020-08-23T00:00:00",
          "2020-08-20T00:00:00",
          "2020-08-19T00:00:00",
          "2020-08-14T00:00:00",
          "2020-07-12T00:00:00",
          "2020-07-12T00:00:00",
          "2020-04-20T00:00:00",
          "2020-04-18T00:00:00",
          "2020-03-23T00:00:00",
          "2019-08-31T00:00:00",
          "2019-08-30T00:00:00",
          "2019-08-28T00:00:00",
          "2019-08-27T00:00:00"
         ],
         "xaxis": "x",
         "y": [
          8.635821186223442,
          6.286150314519658,
          5.34625443118094,
          5.57550237922419,
          6.244173907482745,
          4.7437417161466,
          7.298699640018501,
          4.340141459346082,
          4.4260747352261625,
          3.3215927914887775,
          3.3150151388411953,
          4.105833853710823,
          3.4990326412952726,
          2.759580005769907,
          4.152364644579201,
          2.649792000052381,
          2.937725840568138,
          3.1471665873822143,
          4.347166587382214,
          2.728404090368434,
          3.1197306461975938,
          2.8047445983964554,
          -0.49770925123520726,
          -0.19949198809115742,
          0.6965493345400073,
          -0.5052308049931682
         ],
         "yaxis": "y"
        },
        {
         "hovertemplate": "Observation Method=M<br>Observation Date=%{x}<br>Apparent total magnitude processed=%{y}<extra></extra>",
         "legendgroup": "M",
         "marker": {
          "color": "#19d3f3",
          "symbol": "circle"
         },
         "mode": "markers",
         "name": "M",
         "orientation": "v",
         "showlegend": true,
         "type": "scatter",
         "x": [
          "2021-04-12T00:00:00",
          "2021-04-10T00:00:00",
          "2021-03-25T00:00:00",
          "2021-03-24T00:00:00"
         ],
         "xaxis": "x",
         "y": [
          4.930606548750879,
          5.314687600703513,
          4.989627460330992,
          4.381942337275024
         ],
         "yaxis": "y"
        },
        {
         "hovertemplate": "Observation Method=I<br>Observation Date=%{x}<br>Apparent total magnitude processed=%{y}<extra></extra>",
         "legendgroup": "I",
         "marker": {
          "color": "#FF6692",
          "symbol": "circle"
         },
         "mode": "markers",
         "name": "I",
         "orientation": "v",
         "showlegend": true,
         "type": "scatter",
         "x": [
          "2020-10-16T00:00:00",
          "2020-08-25T00:00:00"
         ],
         "xaxis": "x",
         "y": [
          4.98575440362775,
          2.7642250977573113
         ],
         "yaxis": "y"
        }
       ],
       "layout": {
        "legend": {
         "title": {
          "text": "Observation Method"
         },
         "tracegroupgap": 0
        },
        "template": {
         "data": {
          "bar": [
           {
            "error_x": {
             "color": "#f2f5fa"
            },
            "error_y": {
             "color": "#f2f5fa"
            },
            "marker": {
             "line": {
              "color": "rgb(17,17,17)",
              "width": 0.5
             },
             "pattern": {
              "fillmode": "overlay",
              "size": 10,
              "solidity": 0.2
             }
            },
            "type": "bar"
           }
          ],
          "barpolar": [
           {
            "marker": {
             "line": {
              "color": "rgb(17,17,17)",
              "width": 0.5
             },
             "pattern": {
              "fillmode": "overlay",
              "size": 10,
              "solidity": 0.2
             }
            },
            "type": "barpolar"
           }
          ],
          "carpet": [
           {
            "aaxis": {
             "endlinecolor": "#A2B1C6",
             "gridcolor": "#506784",
             "linecolor": "#506784",
             "minorgridcolor": "#506784",
             "startlinecolor": "#A2B1C6"
            },
            "baxis": {
             "endlinecolor": "#A2B1C6",
             "gridcolor": "#506784",
             "linecolor": "#506784",
             "minorgridcolor": "#506784",
             "startlinecolor": "#A2B1C6"
            },
            "type": "carpet"
           }
          ],
          "choropleth": [
           {
            "colorbar": {
             "outlinewidth": 0,
             "ticks": ""
            },
            "type": "choropleth"
           }
          ],
          "contour": [
           {
            "colorbar": {
             "outlinewidth": 0,
             "ticks": ""
            },
            "colorscale": [
             [
              0,
              "#0d0887"
             ],
             [
              0.1111111111111111,
              "#46039f"
             ],
             [
              0.2222222222222222,
              "#7201a8"
             ],
             [
              0.3333333333333333,
              "#9c179e"
             ],
             [
              0.4444444444444444,
              "#bd3786"
             ],
             [
              0.5555555555555556,
              "#d8576b"
             ],
             [
              0.6666666666666666,
              "#ed7953"
             ],
             [
              0.7777777777777778,
              "#fb9f3a"
             ],
             [
              0.8888888888888888,
              "#fdca26"
             ],
             [
              1,
              "#f0f921"
             ]
            ],
            "type": "contour"
           }
          ],
          "contourcarpet": [
           {
            "colorbar": {
             "outlinewidth": 0,
             "ticks": ""
            },
            "type": "contourcarpet"
           }
          ],
          "heatmap": [
           {
            "colorbar": {
             "outlinewidth": 0,
             "ticks": ""
            },
            "colorscale": [
             [
              0,
              "#0d0887"
             ],
             [
              0.1111111111111111,
              "#46039f"
             ],
             [
              0.2222222222222222,
              "#7201a8"
             ],
             [
              0.3333333333333333,
              "#9c179e"
             ],
             [
              0.4444444444444444,
              "#bd3786"
             ],
             [
              0.5555555555555556,
              "#d8576b"
             ],
             [
              0.6666666666666666,
              "#ed7953"
             ],
             [
              0.7777777777777778,
              "#fb9f3a"
             ],
             [
              0.8888888888888888,
              "#fdca26"
             ],
             [
              1,
              "#f0f921"
             ]
            ],
            "type": "heatmap"
           }
          ],
          "heatmapgl": [
           {
            "colorbar": {
             "outlinewidth": 0,
             "ticks": ""
            },
            "colorscale": [
             [
              0,
              "#0d0887"
             ],
             [
              0.1111111111111111,
              "#46039f"
             ],
             [
              0.2222222222222222,
              "#7201a8"
             ],
             [
              0.3333333333333333,
              "#9c179e"
             ],
             [
              0.4444444444444444,
              "#bd3786"
             ],
             [
              0.5555555555555556,
              "#d8576b"
             ],
             [
              0.6666666666666666,
              "#ed7953"
             ],
             [
              0.7777777777777778,
              "#fb9f3a"
             ],
             [
              0.8888888888888888,
              "#fdca26"
             ],
             [
              1,
              "#f0f921"
             ]
            ],
            "type": "heatmapgl"
           }
          ],
          "histogram": [
           {
            "marker": {
             "pattern": {
              "fillmode": "overlay",
              "size": 10,
              "solidity": 0.2
             }
            },
            "type": "histogram"
           }
          ],
          "histogram2d": [
           {
            "colorbar": {
             "outlinewidth": 0,
             "ticks": ""
            },
            "colorscale": [
             [
              0,
              "#0d0887"
             ],
             [
              0.1111111111111111,
              "#46039f"
             ],
             [
              0.2222222222222222,
              "#7201a8"
             ],
             [
              0.3333333333333333,
              "#9c179e"
             ],
             [
              0.4444444444444444,
              "#bd3786"
             ],
             [
              0.5555555555555556,
              "#d8576b"
             ],
             [
              0.6666666666666666,
              "#ed7953"
             ],
             [
              0.7777777777777778,
              "#fb9f3a"
             ],
             [
              0.8888888888888888,
              "#fdca26"
             ],
             [
              1,
              "#f0f921"
             ]
            ],
            "type": "histogram2d"
           }
          ],
          "histogram2dcontour": [
           {
            "colorbar": {
             "outlinewidth": 0,
             "ticks": ""
            },
            "colorscale": [
             [
              0,
              "#0d0887"
             ],
             [
              0.1111111111111111,
              "#46039f"
             ],
             [
              0.2222222222222222,
              "#7201a8"
             ],
             [
              0.3333333333333333,
              "#9c179e"
             ],
             [
              0.4444444444444444,
              "#bd3786"
             ],
             [
              0.5555555555555556,
              "#d8576b"
             ],
             [
              0.6666666666666666,
              "#ed7953"
             ],
             [
              0.7777777777777778,
              "#fb9f3a"
             ],
             [
              0.8888888888888888,
              "#fdca26"
             ],
             [
              1,
              "#f0f921"
             ]
            ],
            "type": "histogram2dcontour"
           }
          ],
          "mesh3d": [
           {
            "colorbar": {
             "outlinewidth": 0,
             "ticks": ""
            },
            "type": "mesh3d"
           }
          ],
          "parcoords": [
           {
            "line": {
             "colorbar": {
              "outlinewidth": 0,
              "ticks": ""
             }
            },
            "type": "parcoords"
           }
          ],
          "pie": [
           {
            "automargin": true,
            "type": "pie"
           }
          ],
          "scatter": [
           {
            "marker": {
             "line": {
              "color": "#283442"
             }
            },
            "type": "scatter"
           }
          ],
          "scatter3d": [
           {
            "line": {
             "colorbar": {
              "outlinewidth": 0,
              "ticks": ""
             }
            },
            "marker": {
             "colorbar": {
              "outlinewidth": 0,
              "ticks": ""
             }
            },
            "type": "scatter3d"
           }
          ],
          "scattercarpet": [
           {
            "marker": {
             "colorbar": {
              "outlinewidth": 0,
              "ticks": ""
             }
            },
            "type": "scattercarpet"
           }
          ],
          "scattergeo": [
           {
            "marker": {
             "colorbar": {
              "outlinewidth": 0,
              "ticks": ""
             }
            },
            "type": "scattergeo"
           }
          ],
          "scattergl": [
           {
            "marker": {
             "line": {
              "color": "#283442"
             }
            },
            "type": "scattergl"
           }
          ],
          "scattermapbox": [
           {
            "marker": {
             "colorbar": {
              "outlinewidth": 0,
              "ticks": ""
             }
            },
            "type": "scattermapbox"
           }
          ],
          "scatterpolar": [
           {
            "marker": {
             "colorbar": {
              "outlinewidth": 0,
              "ticks": ""
             }
            },
            "type": "scatterpolar"
           }
          ],
          "scatterpolargl": [
           {
            "marker": {
             "colorbar": {
              "outlinewidth": 0,
              "ticks": ""
             }
            },
            "type": "scatterpolargl"
           }
          ],
          "scatterternary": [
           {
            "marker": {
             "colorbar": {
              "outlinewidth": 0,
              "ticks": ""
             }
            },
            "type": "scatterternary"
           }
          ],
          "surface": [
           {
            "colorbar": {
             "outlinewidth": 0,
             "ticks": ""
            },
            "colorscale": [
             [
              0,
              "#0d0887"
             ],
             [
              0.1111111111111111,
              "#46039f"
             ],
             [
              0.2222222222222222,
              "#7201a8"
             ],
             [
              0.3333333333333333,
              "#9c179e"
             ],
             [
              0.4444444444444444,
              "#bd3786"
             ],
             [
              0.5555555555555556,
              "#d8576b"
             ],
             [
              0.6666666666666666,
              "#ed7953"
             ],
             [
              0.7777777777777778,
              "#fb9f3a"
             ],
             [
              0.8888888888888888,
              "#fdca26"
             ],
             [
              1,
              "#f0f921"
             ]
            ],
            "type": "surface"
           }
          ],
          "table": [
           {
            "cells": {
             "fill": {
              "color": "#506784"
             },
             "line": {
              "color": "rgb(17,17,17)"
             }
            },
            "header": {
             "fill": {
              "color": "#2a3f5f"
             },
             "line": {
              "color": "rgb(17,17,17)"
             }
            },
            "type": "table"
           }
          ]
         },
         "layout": {
          "annotationdefaults": {
           "arrowcolor": "#f2f5fa",
           "arrowhead": 0,
           "arrowwidth": 1
          },
          "autotypenumbers": "strict",
          "coloraxis": {
           "colorbar": {
            "outlinewidth": 0,
            "ticks": ""
           }
          },
          "colorscale": {
           "diverging": [
            [
             0,
             "#8e0152"
            ],
            [
             0.1,
             "#c51b7d"
            ],
            [
             0.2,
             "#de77ae"
            ],
            [
             0.3,
             "#f1b6da"
            ],
            [
             0.4,
             "#fde0ef"
            ],
            [
             0.5,
             "#f7f7f7"
            ],
            [
             0.6,
             "#e6f5d0"
            ],
            [
             0.7,
             "#b8e186"
            ],
            [
             0.8,
             "#7fbc41"
            ],
            [
             0.9,
             "#4d9221"
            ],
            [
             1,
             "#276419"
            ]
           ],
           "sequential": [
            [
             0,
             "#0d0887"
            ],
            [
             0.1111111111111111,
             "#46039f"
            ],
            [
             0.2222222222222222,
             "#7201a8"
            ],
            [
             0.3333333333333333,
             "#9c179e"
            ],
            [
             0.4444444444444444,
             "#bd3786"
            ],
            [
             0.5555555555555556,
             "#d8576b"
            ],
            [
             0.6666666666666666,
             "#ed7953"
            ],
            [
             0.7777777777777778,
             "#fb9f3a"
            ],
            [
             0.8888888888888888,
             "#fdca26"
            ],
            [
             1,
             "#f0f921"
            ]
           ],
           "sequentialminus": [
            [
             0,
             "#0d0887"
            ],
            [
             0.1111111111111111,
             "#46039f"
            ],
            [
             0.2222222222222222,
             "#7201a8"
            ],
            [
             0.3333333333333333,
             "#9c179e"
            ],
            [
             0.4444444444444444,
             "#bd3786"
            ],
            [
             0.5555555555555556,
             "#d8576b"
            ],
            [
             0.6666666666666666,
             "#ed7953"
            ],
            [
             0.7777777777777778,
             "#fb9f3a"
            ],
            [
             0.8888888888888888,
             "#fdca26"
            ],
            [
             1,
             "#f0f921"
            ]
           ]
          },
          "colorway": [
           "#636efa",
           "#EF553B",
           "#00cc96",
           "#ab63fa",
           "#FFA15A",
           "#19d3f3",
           "#FF6692",
           "#B6E880",
           "#FF97FF",
           "#FECB52"
          ],
          "font": {
           "color": "#f2f5fa"
          },
          "geo": {
           "bgcolor": "rgb(17,17,17)",
           "lakecolor": "rgb(17,17,17)",
           "landcolor": "rgb(17,17,17)",
           "showlakes": true,
           "showland": true,
           "subunitcolor": "#506784"
          },
          "hoverlabel": {
           "align": "left"
          },
          "hovermode": "closest",
          "mapbox": {
           "style": "dark"
          },
          "paper_bgcolor": "rgb(17,17,17)",
          "plot_bgcolor": "rgb(17,17,17)",
          "polar": {
           "angularaxis": {
            "gridcolor": "#506784",
            "linecolor": "#506784",
            "ticks": ""
           },
           "bgcolor": "rgb(17,17,17)",
           "radialaxis": {
            "gridcolor": "#506784",
            "linecolor": "#506784",
            "ticks": ""
           }
          },
          "scene": {
           "xaxis": {
            "backgroundcolor": "rgb(17,17,17)",
            "gridcolor": "#506784",
            "gridwidth": 2,
            "linecolor": "#506784",
            "showbackground": true,
            "ticks": "",
            "zerolinecolor": "#C8D4E3"
           },
           "yaxis": {
            "backgroundcolor": "rgb(17,17,17)",
            "gridcolor": "#506784",
            "gridwidth": 2,
            "linecolor": "#506784",
            "showbackground": true,
            "ticks": "",
            "zerolinecolor": "#C8D4E3"
           },
           "zaxis": {
            "backgroundcolor": "rgb(17,17,17)",
            "gridcolor": "#506784",
            "gridwidth": 2,
            "linecolor": "#506784",
            "showbackground": true,
            "ticks": "",
            "zerolinecolor": "#C8D4E3"
           }
          },
          "shapedefaults": {
           "line": {
            "color": "#f2f5fa"
           }
          },
          "sliderdefaults": {
           "bgcolor": "#C8D4E3",
           "bordercolor": "rgb(17,17,17)",
           "borderwidth": 1,
           "tickwidth": 0
          },
          "ternary": {
           "aaxis": {
            "gridcolor": "#506784",
            "linecolor": "#506784",
            "ticks": ""
           },
           "baxis": {
            "gridcolor": "#506784",
            "linecolor": "#506784",
            "ticks": ""
           },
           "bgcolor": "rgb(17,17,17)",
           "caxis": {
            "gridcolor": "#506784",
            "linecolor": "#506784",
            "ticks": ""
           }
          },
          "title": {
           "x": 0.05
          },
          "updatemenudefaults": {
           "bgcolor": "#506784",
           "borderwidth": 0
          },
          "xaxis": {
           "automargin": true,
           "gridcolor": "#283442",
           "linecolor": "#506784",
           "ticks": "",
           "title": {
            "standoff": 15
           },
           "zerolinecolor": "#283442",
           "zerolinewidth": 2
          },
          "yaxis": {
           "automargin": true,
           "gridcolor": "#283442",
           "linecolor": "#506784",
           "ticks": "",
           "title": {
            "standoff": 15
           },
           "zerolinecolor": "#283442",
           "zerolinewidth": 2
          }
         }
        },
        "title": {
         "text": "Reduced Lightcurve of comet C/2017 K2 (Tsuchinshan-ATLAS)"
        },
        "xaxis": {
         "anchor": "y",
         "domain": [
          0,
          1
         ],
         "title": {
          "text": "Observation Date"
         }
        },
        "yaxis": {
         "anchor": "x",
         "autorange": "reversed",
         "domain": [
          0,
          1
         ],
         "title": {
          "text": "Apparent total magnitude processed"
         }
        }
       }
      }
     },
     "metadata": {},
     "output_type": "display_data"
    }
   ],
   "source": [
    "# Curva de luz reducida\n",
    "labels = {'obs_date':'Observation Date','magnitud_reducida':'Apparent total magnitude processed', 'obs_method_key' : 'Observation Method'}\n",
    "fig = px.scatter(curva_de_luz_procesada_df, x='obs_date', y='magnitud_reducida', color='obs_method_key', template= 'plotly_dark', labels= labels, title=f'Reduced Lightcurve of comet {nombre_cometa} (Tsuchinshan-ATLAS)')\n",
    "fig.update_yaxes(autorange=\"reversed\")\n",
    "fig.show()"
   ]
  },
  {
   "cell_type": "markdown",
   "metadata": {},
   "source": [
    "# Curva de luz interna"
   ]
  },
  {
   "cell_type": "code",
   "execution_count": 96,
   "metadata": {},
   "outputs": [
    {
     "data": {
      "text/html": [
       "<div>\n",
       "<style scoped>\n",
       "    .dataframe tbody tr th:only-of-type {\n",
       "        vertical-align: middle;\n",
       "    }\n",
       "\n",
       "    .dataframe tbody tr th {\n",
       "        vertical-align: top;\n",
       "    }\n",
       "\n",
       "    .dataframe thead th {\n",
       "        text-align: right;\n",
       "    }\n",
       "</style>\n",
       "<table border=\"1\" class=\"dataframe\">\n",
       "  <thead>\n",
       "    <tr style=\"text-align: right;\">\n",
       "      <th></th>\n",
       "      <th>obs_date</th>\n",
       "      <th>obs_method_key</th>\n",
       "      <th>magnitude</th>\n",
       "      <th>delta</th>\n",
       "      <th>r</th>\n",
       "      <th>phase</th>\n",
       "      <th>magnitud_reducida</th>\n",
       "    </tr>\n",
       "  </thead>\n",
       "  <tbody>\n",
       "    <tr>\n",
       "      <th>0</th>\n",
       "      <td>2017-06-02</td>\n",
       "      <td>C</td>\n",
       "      <td>19.1</td>\n",
       "      <td>15.953</td>\n",
       "      <td>16.023</td>\n",
       "      <td>3.6</td>\n",
       "      <td>-3.637931</td>\n",
       "    </tr>\n",
       "    <tr>\n",
       "      <th>1</th>\n",
       "      <td>2017-06-12</td>\n",
       "      <td>C</td>\n",
       "      <td>18.7</td>\n",
       "      <td>15.898</td>\n",
       "      <td>15.966</td>\n",
       "      <td>3.6</td>\n",
       "      <td>-3.222693</td>\n",
       "    </tr>\n",
       "    <tr>\n",
       "      <th>2</th>\n",
       "      <td>2017-06-14</td>\n",
       "      <td>C</td>\n",
       "      <td>18.4</td>\n",
       "      <td>15.887</td>\n",
       "      <td>15.955</td>\n",
       "      <td>3.6</td>\n",
       "      <td>-3.319694</td>\n",
       "    </tr>\n",
       "    <tr>\n",
       "      <th>3</th>\n",
       "      <td>2017-06-16</td>\n",
       "      <td>C</td>\n",
       "      <td>18.5</td>\n",
       "      <td>15.877</td>\n",
       "      <td>15.943</td>\n",
       "      <td>3.7</td>\n",
       "      <td>-2.816692</td>\n",
       "    </tr>\n",
       "    <tr>\n",
       "      <th>4</th>\n",
       "      <td>2017-06-17</td>\n",
       "      <td>C</td>\n",
       "      <td>17.8</td>\n",
       "      <td>15.871</td>\n",
       "      <td>15.937</td>\n",
       "      <td>3.7</td>\n",
       "      <td>-3.415054</td>\n",
       "    </tr>\n",
       "    <tr>\n",
       "      <th>...</th>\n",
       "      <td>...</td>\n",
       "      <td>...</td>\n",
       "      <td>...</td>\n",
       "      <td>...</td>\n",
       "      <td>...</td>\n",
       "      <td>...</td>\n",
       "      <td>...</td>\n",
       "    </tr>\n",
       "    <tr>\n",
       "      <th>305</th>\n",
       "      <td>2021-05-03</td>\n",
       "      <td>Z</td>\n",
       "      <td>13.8</td>\n",
       "      <td>6.163</td>\n",
       "      <td>6.469</td>\n",
       "      <td>8.7</td>\n",
       "      <td>6.196853</td>\n",
       "    </tr>\n",
       "    <tr>\n",
       "      <th>306</th>\n",
       "      <td>2021-05-04</td>\n",
       "      <td>Z</td>\n",
       "      <td>12.6</td>\n",
       "      <td>6.149</td>\n",
       "      <td>6.461</td>\n",
       "      <td>8.7</td>\n",
       "      <td>6.104479</td>\n",
       "    </tr>\n",
       "    <tr>\n",
       "      <th>307</th>\n",
       "      <td>2021-05-05</td>\n",
       "      <td>Z</td>\n",
       "      <td>13.8</td>\n",
       "      <td>6.134</td>\n",
       "      <td>6.453</td>\n",
       "      <td>8.7</td>\n",
       "      <td>6.012473</td>\n",
       "    </tr>\n",
       "    <tr>\n",
       "      <th>308</th>\n",
       "      <td>2021-05-08</td>\n",
       "      <td>Z</td>\n",
       "      <td>13.8</td>\n",
       "      <td>6.092</td>\n",
       "      <td>6.428</td>\n",
       "      <td>8.7</td>\n",
       "      <td>8.635821</td>\n",
       "    </tr>\n",
       "    <tr>\n",
       "      <th>309</th>\n",
       "      <td>2021-05-11</td>\n",
       "      <td>k</td>\n",
       "      <td>14.2</td>\n",
       "      <td>6.050</td>\n",
       "      <td>6.404</td>\n",
       "      <td>8.7</td>\n",
       "      <td>8.258967</td>\n",
       "    </tr>\n",
       "  </tbody>\n",
       "</table>\n",
       "<p>310 rows × 7 columns</p>\n",
       "</div>"
      ],
      "text/plain": [
       "      obs_date obs_method_key  magnitude   delta       r  phase  \\\n",
       "0   2017-06-02              C       19.1  15.953  16.023    3.6   \n",
       "1   2017-06-12              C       18.7  15.898  15.966    3.6   \n",
       "2   2017-06-14              C       18.4  15.887  15.955    3.6   \n",
       "3   2017-06-16              C       18.5  15.877  15.943    3.7   \n",
       "4   2017-06-17              C       17.8  15.871  15.937    3.7   \n",
       "..         ...            ...        ...     ...     ...    ...   \n",
       "305 2021-05-03              Z       13.8   6.163   6.469    8.7   \n",
       "306 2021-05-04              Z       12.6   6.149   6.461    8.7   \n",
       "307 2021-05-05              Z       13.8   6.134   6.453    8.7   \n",
       "308 2021-05-08              Z       13.8   6.092   6.428    8.7   \n",
       "309 2021-05-11              k       14.2   6.050   6.404    8.7   \n",
       "\n",
       "     magnitud_reducida  \n",
       "0            -3.637931  \n",
       "1            -3.222693  \n",
       "2            -3.319694  \n",
       "3            -2.816692  \n",
       "4            -3.415054  \n",
       "..                 ...  \n",
       "305           6.196853  \n",
       "306           6.104479  \n",
       "307           6.012473  \n",
       "308           8.635821  \n",
       "309           8.258967  \n",
       "\n",
       "[310 rows x 7 columns]"
      ]
     },
     "execution_count": 96,
     "metadata": {},
     "output_type": "execute_result"
    }
   ],
   "source": [
    "# Creación del data frame curva de luz agrupada\n",
    "curva_de_luz_interna_df = curva_de_luz_procesada_df.groupby(by = 'obs_date').max()\n",
    "curva_de_luz_interna_df = curva_de_luz_interna_df.reset_index()\n",
    "curva_de_luz_interna_df"
   ]
  },
  {
   "cell_type": "code",
   "execution_count": 97,
   "metadata": {},
   "outputs": [
    {
     "data": {
      "application/vnd.plotly.v1+json": {
       "config": {
        "plotlyServerURL": "https://plot.ly"
       },
       "data": [
        {
         "hovertemplate": "Observation Method=C<br>Observation Date=%{x}<br>Max apparent total magnitude reduced=%{y}<extra></extra>",
         "legendgroup": "C",
         "marker": {
          "color": "#636efa",
          "symbol": "circle"
         },
         "mode": "markers",
         "name": "C",
         "orientation": "v",
         "showlegend": true,
         "type": "scatter",
         "x": [
          "2017-06-02T00:00:00",
          "2017-06-12T00:00:00",
          "2017-06-14T00:00:00",
          "2017-06-16T00:00:00",
          "2017-06-17T00:00:00",
          "2017-06-21T00:00:00",
          "2017-07-18T00:00:00",
          "2017-07-31T00:00:00",
          "2017-08-29T00:00:00",
          "2017-09-12T00:00:00",
          "2017-09-19T00:00:00",
          "2017-09-20T00:00:00",
          "2017-10-08T00:00:00",
          "2017-10-11T00:00:00",
          "2017-10-14T00:00:00",
          "2018-01-24T00:00:00",
          "2018-02-15T00:00:00",
          "2018-02-18T00:00:00",
          "2018-03-17T00:00:00",
          "2018-03-20T00:00:00",
          "2018-03-25T00:00:00",
          "2018-04-07T00:00:00",
          "2018-04-16T00:00:00",
          "2018-06-08T00:00:00",
          "2018-06-24T00:00:00",
          "2018-07-14T00:00:00",
          "2018-08-03T00:00:00",
          "2018-08-28T00:00:00",
          "2018-09-27T00:00:00",
          "2018-09-29T00:00:00",
          "2018-10-08T00:00:00",
          "2018-10-31T00:00:00",
          "2019-02-17T00:00:00",
          "2019-03-11T00:00:00",
          "2019-03-27T00:00:00",
          "2019-04-25T00:00:00",
          "2019-06-07T00:00:00",
          "2019-10-29T00:00:00",
          "2020-01-29T00:00:00",
          "2020-02-18T00:00:00",
          "2020-03-08T00:00:00",
          "2020-03-11T00:00:00",
          "2020-03-29T00:00:00",
          "2020-04-01T00:00:00",
          "2020-04-23T00:00:00",
          "2020-05-06T00:00:00",
          "2020-05-07T00:00:00",
          "2020-05-15T00:00:00",
          "2020-05-24T00:00:00",
          "2020-06-19T00:00:00",
          "2020-06-20T00:00:00",
          "2020-07-06T00:00:00",
          "2020-07-07T00:00:00",
          "2020-07-10T00:00:00",
          "2020-08-07T00:00:00",
          "2020-08-08T00:00:00",
          "2020-08-24T00:00:00",
          "2020-09-13T00:00:00",
          "2020-09-18T00:00:00",
          "2020-09-23T00:00:00",
          "2020-10-11T00:00:00",
          "2020-11-02T00:00:00",
          "2021-01-31T00:00:00",
          "2021-02-08T00:00:00",
          "2021-02-09T00:00:00",
          "2021-02-17T00:00:00",
          "2021-02-19T00:00:00",
          "2021-03-09T00:00:00",
          "2021-03-10T00:00:00",
          "2021-03-14T00:00:00",
          "2021-03-23T00:00:00",
          "2021-04-06T00:00:00",
          "2021-04-13T00:00:00",
          "2021-04-17T00:00:00",
          "2021-04-18T00:00:00",
          "2021-05-02T00:00:00"
         ],
         "xaxis": "x",
         "y": [
          -3.6379309894171605,
          -3.222693087913701,
          -3.319693520361046,
          -2.8166924544032756,
          -3.4150543214196567,
          -3.309180098486376,
          -3.170182237312334,
          -3.4519361642294655,
          -3.3122715144362385,
          -3.0929299211399,
          -3.383507032813295,
          -3.0820987890080467,
          -3.2568128344845935,
          -3.152418426839647,
          -3.448019447268452,
          -3.3729957756998896,
          -1.3277232136373947,
          -1.6213019505378377,
          -2.863219480682691,
          -3.2566995521318898,
          -3.245912108908094,
          -2.9178276509548393,
          -2.798335106357708,
          -2.989930286658579,
          -2.6598720649471304,
          -1.224654827928891,
          -1.4910877622514676,
          -2.651069562020984,
          -2.6037360574482395,
          -2.6006047879447127,
          -2.8860697815467624,
          -2.447008985867704,
          -2.7961881346379034,
          -2.732872793022141,
          -2.1856530374695016,
          -1.8003257558218255,
          -1.5818412909765858,
          2.816166324198944,
          4.081446388872012,
          3.159827056014999,
          2.4394774082426434,
          3.05226746375949,
          3.3310111412609604,
          2.944552879903773,
          1.8418002429322406,
          2.697964310535429,
          3.0022616410304312,
          2.5358163229336075,
          3.072784442031667,
          2.9713285921251718,
          2.7747979322419436,
          3.028351784924137,
          4.2316118850271405,
          4.040888222087116,
          4.01982152428886,
          2.522629860572721,
          3.861902759246746,
          3.5081924007142717,
          3.819486331464308,
          3.030825174467454,
          3.57340513956027,
          3.43143804432928,
          4.320671733013542,
          4.570423470884691,
          4.576649972459164,
          5.628864785884767,
          4.342398596740848,
          4.569373020664925,
          4.676525620664112,
          5.006222995515898,
          5.6742722984853025,
          5.983374038267318,
          6.038590555704371,
          6.47001368778586,
          6.178408486369252,
          5.9888909949033735
         ],
         "yaxis": "y"
        },
        {
         "hovertemplate": "Observation Method=Z<br>Observation Date=%{x}<br>Max apparent total magnitude reduced=%{y}<extra></extra>",
         "legendgroup": "Z",
         "marker": {
          "color": "#EF553B",
          "symbol": "circle"
         },
         "mode": "markers",
         "name": "Z",
         "orientation": "v",
         "showlegend": true,
         "type": "scatter",
         "x": [
          "2017-07-25T00:00:00",
          "2018-02-19T00:00:00",
          "2018-04-04T00:00:00",
          "2018-05-05T00:00:00",
          "2018-06-18T00:00:00",
          "2018-07-08T00:00:00",
          "2018-07-13T00:00:00",
          "2018-08-05T00:00:00",
          "2018-08-12T00:00:00",
          "2018-08-16T00:00:00",
          "2018-09-05T00:00:00",
          "2018-09-11T00:00:00",
          "2018-09-15T00:00:00",
          "2018-09-16T00:00:00",
          "2018-09-30T00:00:00",
          "2018-10-04T00:00:00",
          "2018-10-10T00:00:00",
          "2018-10-11T00:00:00",
          "2018-10-12T00:00:00",
          "2018-10-14T00:00:00",
          "2018-10-21T00:00:00",
          "2018-11-01T00:00:00",
          "2018-11-05T00:00:00",
          "2018-11-07T00:00:00",
          "2018-11-12T00:00:00",
          "2018-11-16T00:00:00",
          "2019-02-07T00:00:00",
          "2019-02-28T00:00:00",
          "2019-03-30T00:00:00",
          "2019-03-31T00:00:00",
          "2019-04-02T00:00:00",
          "2019-04-11T00:00:00",
          "2019-04-23T00:00:00",
          "2019-05-02T00:00:00",
          "2019-05-12T00:00:00",
          "2019-05-13T00:00:00",
          "2019-05-23T00:00:00",
          "2019-06-06T00:00:00",
          "2019-06-13T00:00:00",
          "2019-06-27T00:00:00",
          "2019-07-21T00:00:00",
          "2019-07-25T00:00:00",
          "2019-08-01T00:00:00",
          "2019-08-08T00:00:00",
          "2019-08-10T00:00:00",
          "2019-08-24T00:00:00",
          "2019-08-25T00:00:00",
          "2019-08-30T00:00:00",
          "2019-08-31T00:00:00",
          "2019-09-02T00:00:00",
          "2019-09-12T00:00:00",
          "2019-09-18T00:00:00",
          "2019-10-02T00:00:00",
          "2019-10-13T00:00:00",
          "2019-10-14T00:00:00",
          "2019-10-25T00:00:00",
          "2019-10-30T00:00:00",
          "2019-10-31T00:00:00",
          "2019-11-10T00:00:00",
          "2019-11-14T00:00:00",
          "2019-12-04T00:00:00",
          "2019-12-10T00:00:00",
          "2019-12-17T00:00:00",
          "2019-12-21T00:00:00",
          "2019-12-29T00:00:00",
          "2020-01-02T00:00:00",
          "2020-01-17T00:00:00",
          "2020-01-22T00:00:00",
          "2020-01-24T00:00:00",
          "2020-02-02T00:00:00",
          "2020-02-07T00:00:00",
          "2020-02-20T00:00:00",
          "2020-03-04T00:00:00",
          "2020-03-15T00:00:00",
          "2020-03-16T00:00:00",
          "2020-03-18T00:00:00",
          "2020-03-20T00:00:00",
          "2020-03-22T00:00:00",
          "2020-03-24T00:00:00",
          "2020-03-25T00:00:00",
          "2020-03-26T00:00:00",
          "2020-04-02T00:00:00",
          "2020-04-14T00:00:00",
          "2020-04-16T00:00:00",
          "2020-04-21T00:00:00",
          "2020-04-24T00:00:00",
          "2020-04-26T00:00:00",
          "2020-04-28T00:00:00",
          "2020-05-16T00:00:00",
          "2020-05-17T00:00:00",
          "2020-06-01T00:00:00",
          "2020-06-13T00:00:00",
          "2020-06-21T00:00:00",
          "2020-06-23T00:00:00",
          "2020-06-25T00:00:00",
          "2020-06-27T00:00:00",
          "2020-07-03T00:00:00",
          "2020-07-09T00:00:00",
          "2020-07-11T00:00:00",
          "2020-07-12T00:00:00",
          "2020-07-18T00:00:00",
          "2020-07-26T00:00:00",
          "2020-07-29T00:00:00",
          "2020-07-30T00:00:00",
          "2020-07-31T00:00:00",
          "2020-08-16T00:00:00",
          "2020-08-19T00:00:00",
          "2020-08-20T00:00:00",
          "2020-08-21T00:00:00",
          "2020-09-02T00:00:00",
          "2020-09-03T00:00:00",
          "2020-09-05T00:00:00",
          "2020-09-07T00:00:00",
          "2020-09-10T00:00:00",
          "2020-09-11T00:00:00",
          "2020-09-12T00:00:00",
          "2020-09-14T00:00:00",
          "2020-09-15T00:00:00",
          "2020-09-17T00:00:00",
          "2020-09-19T00:00:00",
          "2020-09-29T00:00:00",
          "2020-09-30T00:00:00",
          "2020-10-03T00:00:00",
          "2020-10-10T00:00:00",
          "2020-10-12T00:00:00",
          "2020-10-17T00:00:00",
          "2020-10-19T00:00:00",
          "2020-10-24T00:00:00",
          "2020-11-05T00:00:00",
          "2020-11-08T00:00:00",
          "2020-11-14T00:00:00",
          "2020-11-18T00:00:00",
          "2020-11-20T00:00:00",
          "2020-11-21T00:00:00",
          "2020-11-23T00:00:00",
          "2020-11-24T00:00:00",
          "2020-11-25T00:00:00",
          "2020-12-08T00:00:00",
          "2020-12-19T00:00:00",
          "2020-12-26T00:00:00",
          "2020-12-27T00:00:00",
          "2021-01-11T00:00:00",
          "2021-01-16T00:00:00",
          "2021-01-17T00:00:00",
          "2021-01-18T00:00:00",
          "2021-01-24T00:00:00",
          "2021-01-25T00:00:00",
          "2021-02-05T00:00:00",
          "2021-02-11T00:00:00",
          "2021-02-15T00:00:00",
          "2021-02-21T00:00:00",
          "2021-02-22T00:00:00",
          "2021-02-24T00:00:00",
          "2021-03-06T00:00:00",
          "2021-03-07T00:00:00",
          "2021-03-16T00:00:00",
          "2021-03-17T00:00:00",
          "2021-03-20T00:00:00",
          "2021-03-22T00:00:00",
          "2021-03-30T00:00:00",
          "2021-04-01T00:00:00",
          "2021-04-04T00:00:00",
          "2021-04-05T00:00:00",
          "2021-04-09T00:00:00",
          "2021-04-12T00:00:00",
          "2021-04-14T00:00:00",
          "2021-04-15T00:00:00",
          "2021-04-19T00:00:00",
          "2021-04-21T00:00:00",
          "2021-04-23T00:00:00",
          "2021-04-25T00:00:00",
          "2021-04-26T00:00:00",
          "2021-04-28T00:00:00",
          "2021-04-30T00:00:00",
          "2021-05-03T00:00:00",
          "2021-05-04T00:00:00",
          "2021-05-05T00:00:00",
          "2021-05-08T00:00:00"
         ],
         "xaxis": "x",
         "y": [
          -3.660239534207646,
          -2.4192091215318072,
          -2.8242545362850535,
          -2.758151582383414,
          -3.0711282236633775,
          -2.635041545169363,
          -2.526254102759175,
          -2.7877005321737567,
          -3.0765514836494425,
          -2.970074363841558,
          -2.9385128619517165,
          -2.4291920973335532,
          -2.4228023893744766,
          -2.421326212498638,
          -2.6991203012675395,
          -2.592518155096574,
          -2.982758604683255,
          -2.4811028225676157,
          -2.479446382417475,
          -2.176129757134115,
          -2.8641726139386385,
          -3.345005241186306,
          -3.2378175263225657,
          -2.9343033067082587,
          -2.9249178141762933,
          -3.0175292989621685,
          -2.824162725400983,
          -2.465006112303728,
          -0.4767618817435366,
          -0.6736729703837643,
          -2.067852269442774,
          -2.241190770548396,
          -2.0060555620269866,
          -2.4799309908220444,
          -2.051777799401462,
          -1.7487840159496333,
          -1.921371504557765,
          -1.584308095759507,
          -1.3664284343403903,
          -1.33237746519824,
          -1.3786976241018802,
          -1.070143423241797,
          -0.9557199218938912,
          -0.941834208046652,
          -0.737718485845571,
          -0.6107631534094011,
          -0.5089856027016282,
          -0.19949198809115742,
          -0.0977092512352069,
          -0.3939427660512216,
          0.6245495422963767,
          0.635731139689705,
          2.9620236735633316,
          2.8832303583354104,
          2.9852562318584415,
          1.907806480757145,
          4.01820986189021,
          3.320455873991298,
          2.6425707999101604,
          3.651814031588314,
          2.8018328792309273,
          3.6182644035320646,
          2.7383108956732265,
          3.6500375829162266,
          2.4746381128914745,
          2.087297386819003,
          2.238080980454166,
          2.1558505232352907,
          3.7629312688462324,
          2.5965747730799933,
          2.6158859382585664,
          3.6679654822687358,
          2.622261975338665,
          2.669609122265518,
          3.0738997444534846,
          2.6827209038131077,
          2.6915615361721716,
          3.2004212809224057,
          2.909072523818299,
          3.1134050675788814,
          3.1179708763165337,
          2.4489235055203906,
          3.1019731791121927,
          4.311075570043686,
          2.433098446616542,
          3.146039465310597,
          2.7547688598259086,
          2.963512283468198,
          2.2399094058673796,
          2.5440064887792353,
          3.3044300142043266,
          2.549835062226135,
          2.8782700467845483,
          3.0852144855502512,
          2.591925228026833,
          3.198891599936898,
          2.7188484258576935,
          3.0378764108340963,
          4.543902171779919,
          4.347166587382214,
          4.765038631930528,
          4.188042101199958,
          3.2961551389437016,
          3.5986932583632587,
          2.3014911821040513,
          5.342598153203024,
          3.149792000052381,
          4.152364644579201,
          4.454682332277136,
          3.482878006830166,
          3.1852173185203725,
          3.6899019850296586,
          3.2945939621090616,
          2.90112386577003,
          5.203739222466842,
          4.605833853710823,
          4.210290419483474,
          3.512390025325992,
          4.017118181338056,
          4.221592791488778,
          3.4448652491488794,
          4.146990903973933,
          null,
          3.270997947716916,
          3.775821568387867,
          2.188172788560925,
          4.593557295160329,
          4.806776368193342,
          4.940141459346082,
          3.949130007072,
          4.46742406109818,
          3.880301604396543,
          3.3868820804223887,
          4.090183494657881,
          4.697046214088436,
          3.5006222683120445,
          4.904201462843062,
          3.4522975211927864,
          4.697709931391115,
          4.428844799168022,
          4.133628441312268,
          4.907628622978981,
          4.934269071897711,
          4.039732779505512,
          4.945485003807896,
          3.7792967200586407,
          4.885103206591179,
          4.551220040978132,
          5.489412107748812,
          5.215671430155506,
          4.655669373017458,
          5.262625533205874,
          5.476574202724068,
          5.4476706039689855,
          5.654788971363972,
          5.020999079392352,
          5.428565291497657,
          5.3513520517405375,
          5.16661728015298,
          5.628281603077456,
          6.244173907482745,
          6.867646605603166,
          5.875502379224189,
          5.307085027283948,
          5.930606548750879,
          6.146254431180941,
          5.654270580247442,
          6.986150314519657,
          7.902022051046075,
          6.717958549034266,
          5.733614688990478,
          6.541466179240864,
          6.557549922034925,
          6.673364258709235,
          6.19685340564418,
          6.104478829575914,
          6.012472816232042,
          8.635821186223442
         ],
         "yaxis": "y"
        },
        {
         "hovertemplate": "Observation Method=k<br>Observation Date=%{x}<br>Max apparent total magnitude reduced=%{y}<extra></extra>",
         "legendgroup": "k",
         "marker": {
          "color": "#00cc96",
          "symbol": "circle"
         },
         "mode": "markers",
         "name": "k",
         "orientation": "v",
         "showlegend": true,
         "type": "scatter",
         "x": [
          "2018-02-24T00:00:00",
          "2018-02-25T00:00:00",
          "2019-01-13T00:00:00",
          "2019-02-02T00:00:00",
          "2019-03-02T00:00:00",
          "2019-03-17T00:00:00",
          "2019-04-07T00:00:00",
          "2019-04-15T00:00:00",
          "2019-04-28T00:00:00",
          "2019-05-07T00:00:00",
          "2019-05-29T00:00:00",
          "2019-06-09T00:00:00",
          "2019-07-05T00:00:00",
          "2019-07-23T00:00:00",
          "2019-07-31T00:00:00",
          "2019-08-09T00:00:00",
          "2019-08-22T00:00:00",
          "2019-08-27T00:00:00",
          "2019-09-19T00:00:00",
          "2019-09-21T00:00:00",
          "2019-09-25T00:00:00",
          "2019-10-23T00:00:00",
          "2020-01-01T00:00:00",
          "2020-02-21T00:00:00",
          "2020-02-28T00:00:00",
          "2020-03-21T00:00:00",
          "2020-04-18T00:00:00",
          "2020-05-13T00:00:00",
          "2020-05-21T00:00:00",
          "2020-06-12T00:00:00",
          "2020-06-18T00:00:00",
          "2020-06-24T00:00:00",
          "2020-07-19T00:00:00",
          "2020-08-09T00:00:00",
          "2020-08-22T00:00:00",
          "2020-09-09T00:00:00",
          "2020-10-09T00:00:00",
          "2020-11-06T00:00:00",
          "2020-11-16T00:00:00",
          "2020-12-06T00:00:00",
          "2021-05-11T00:00:00"
         ],
         "xaxis": "x",
         "y": [
          -2.8085798304211966,
          -3.0064807289910167,
          -2.9897721616703254,
          -2.337818682102851,
          -2.3591335646273652,
          -2.2152730237660467,
          -1.9530815370473373,
          -2.02945027331619,
          -2.091438190758936,
          -1.8655976756890915,
          -1.6051470268754056,
          -1.6767087250388233,
          -1.2139113873535443,
          -1.1742280494851975,
          -1.0578671765460452,
          -0.8398753782088537,
          -0.6147099299578755,
          -0.20523080499316926,
          0.2377310969466926,
          1.3413343356036016,
          3.048752798517988,
          3.1035308154145227,
          2.2839191868771547,
          2.972150331311493,
          3.001123180083672,
          2.8958753839310845,
          3.1197306461975938,
          3.0274055938578535,
          2.360428083357336,
          3.4461353011740563,
          2.767618569745112,
          4.58869493702252,
          4.167813197819706,
          3.7251860325730632,
          6.2570016347527595,
          4.399032641295273,
          3.3685856143268573,
          4.3428633297622845,
          4.873996820718469,
          4.644253836627714,
          8.258966510501345
         ],
         "yaxis": "y"
        },
        {
         "hovertemplate": "Observation Method=S<br>Observation Date=%{x}<br>Max apparent total magnitude reduced=%{y}<extra></extra>",
         "legendgroup": "S",
         "marker": {
          "color": "#ab63fa",
          "symbol": "circle"
         },
         "mode": "markers",
         "name": "S",
         "orientation": "v",
         "showlegend": true,
         "type": "scatter",
         "x": [
          "2019-08-28T00:00:00",
          "2020-03-23T00:00:00",
          "2020-04-20T00:00:00",
          "2020-08-14T00:00:00",
          "2020-08-23T00:00:00",
          "2020-09-16T00:00:00",
          "2020-09-21T00:00:00",
          "2021-03-13T00:00:00",
          "2021-03-19T00:00:00"
         ],
         "xaxis": "x",
         "y": [
          0.6965493345400073,
          2.8047445983964554,
          3.1284040903684343,
          2.937725840568138,
          3.3595800057699066,
          3.3150151388411953,
          4.4260747352261625,
          7.298699640018501,
          4.7437417161466
         ],
         "yaxis": "y"
        },
        {
         "hovertemplate": "Observation Method=I<br>Observation Date=%{x}<br>Max apparent total magnitude reduced=%{y}<extra></extra>",
         "legendgroup": "I",
         "marker": {
          "color": "#FFA15A",
          "symbol": "circle"
         },
         "mode": "markers",
         "name": "I",
         "orientation": "v",
         "showlegend": true,
         "type": "scatter",
         "x": [
          "2020-08-25T00:00:00",
          "2020-10-16T00:00:00"
         ],
         "xaxis": "x",
         "y": [
          2.7642250977573113,
          4.98575440362775
         ],
         "yaxis": "y"
        },
        {
         "hovertemplate": "Observation Method=M<br>Observation Date=%{x}<br>Max apparent total magnitude reduced=%{y}<extra></extra>",
         "legendgroup": "M",
         "marker": {
          "color": "#19d3f3",
          "symbol": "circle"
         },
         "mode": "markers",
         "name": "M",
         "orientation": "v",
         "showlegend": true,
         "type": "scatter",
         "x": [
          "2021-03-24T00:00:00",
          "2021-03-25T00:00:00",
          "2021-04-10T00:00:00"
         ],
         "xaxis": "x",
         "y": [
          4.381942337275024,
          4.989627460330992,
          5.314687600703513
         ],
         "yaxis": "y"
        },
        {
         "hovertemplate": "Observation Method=V<br>Observation Date=%{x}<br>Max apparent total magnitude reduced=%{y}<extra></extra>",
         "legendgroup": "V",
         "marker": {
          "color": "#FF6692",
          "symbol": "circle"
         },
         "mode": "markers",
         "name": "V",
         "orientation": "v",
         "showlegend": true,
         "type": "scatter",
         "x": [
          "2021-04-03T00:00:00"
         ],
         "xaxis": "x",
         "y": [
          5.959806648188833
         ],
         "yaxis": "y"
        }
       ],
       "layout": {
        "legend": {
         "title": {
          "text": "Observation Method"
         },
         "tracegroupgap": 0
        },
        "template": {
         "data": {
          "bar": [
           {
            "error_x": {
             "color": "#f2f5fa"
            },
            "error_y": {
             "color": "#f2f5fa"
            },
            "marker": {
             "line": {
              "color": "rgb(17,17,17)",
              "width": 0.5
             },
             "pattern": {
              "fillmode": "overlay",
              "size": 10,
              "solidity": 0.2
             }
            },
            "type": "bar"
           }
          ],
          "barpolar": [
           {
            "marker": {
             "line": {
              "color": "rgb(17,17,17)",
              "width": 0.5
             },
             "pattern": {
              "fillmode": "overlay",
              "size": 10,
              "solidity": 0.2
             }
            },
            "type": "barpolar"
           }
          ],
          "carpet": [
           {
            "aaxis": {
             "endlinecolor": "#A2B1C6",
             "gridcolor": "#506784",
             "linecolor": "#506784",
             "minorgridcolor": "#506784",
             "startlinecolor": "#A2B1C6"
            },
            "baxis": {
             "endlinecolor": "#A2B1C6",
             "gridcolor": "#506784",
             "linecolor": "#506784",
             "minorgridcolor": "#506784",
             "startlinecolor": "#A2B1C6"
            },
            "type": "carpet"
           }
          ],
          "choropleth": [
           {
            "colorbar": {
             "outlinewidth": 0,
             "ticks": ""
            },
            "type": "choropleth"
           }
          ],
          "contour": [
           {
            "colorbar": {
             "outlinewidth": 0,
             "ticks": ""
            },
            "colorscale": [
             [
              0,
              "#0d0887"
             ],
             [
              0.1111111111111111,
              "#46039f"
             ],
             [
              0.2222222222222222,
              "#7201a8"
             ],
             [
              0.3333333333333333,
              "#9c179e"
             ],
             [
              0.4444444444444444,
              "#bd3786"
             ],
             [
              0.5555555555555556,
              "#d8576b"
             ],
             [
              0.6666666666666666,
              "#ed7953"
             ],
             [
              0.7777777777777778,
              "#fb9f3a"
             ],
             [
              0.8888888888888888,
              "#fdca26"
             ],
             [
              1,
              "#f0f921"
             ]
            ],
            "type": "contour"
           }
          ],
          "contourcarpet": [
           {
            "colorbar": {
             "outlinewidth": 0,
             "ticks": ""
            },
            "type": "contourcarpet"
           }
          ],
          "heatmap": [
           {
            "colorbar": {
             "outlinewidth": 0,
             "ticks": ""
            },
            "colorscale": [
             [
              0,
              "#0d0887"
             ],
             [
              0.1111111111111111,
              "#46039f"
             ],
             [
              0.2222222222222222,
              "#7201a8"
             ],
             [
              0.3333333333333333,
              "#9c179e"
             ],
             [
              0.4444444444444444,
              "#bd3786"
             ],
             [
              0.5555555555555556,
              "#d8576b"
             ],
             [
              0.6666666666666666,
              "#ed7953"
             ],
             [
              0.7777777777777778,
              "#fb9f3a"
             ],
             [
              0.8888888888888888,
              "#fdca26"
             ],
             [
              1,
              "#f0f921"
             ]
            ],
            "type": "heatmap"
           }
          ],
          "heatmapgl": [
           {
            "colorbar": {
             "outlinewidth": 0,
             "ticks": ""
            },
            "colorscale": [
             [
              0,
              "#0d0887"
             ],
             [
              0.1111111111111111,
              "#46039f"
             ],
             [
              0.2222222222222222,
              "#7201a8"
             ],
             [
              0.3333333333333333,
              "#9c179e"
             ],
             [
              0.4444444444444444,
              "#bd3786"
             ],
             [
              0.5555555555555556,
              "#d8576b"
             ],
             [
              0.6666666666666666,
              "#ed7953"
             ],
             [
              0.7777777777777778,
              "#fb9f3a"
             ],
             [
              0.8888888888888888,
              "#fdca26"
             ],
             [
              1,
              "#f0f921"
             ]
            ],
            "type": "heatmapgl"
           }
          ],
          "histogram": [
           {
            "marker": {
             "pattern": {
              "fillmode": "overlay",
              "size": 10,
              "solidity": 0.2
             }
            },
            "type": "histogram"
           }
          ],
          "histogram2d": [
           {
            "colorbar": {
             "outlinewidth": 0,
             "ticks": ""
            },
            "colorscale": [
             [
              0,
              "#0d0887"
             ],
             [
              0.1111111111111111,
              "#46039f"
             ],
             [
              0.2222222222222222,
              "#7201a8"
             ],
             [
              0.3333333333333333,
              "#9c179e"
             ],
             [
              0.4444444444444444,
              "#bd3786"
             ],
             [
              0.5555555555555556,
              "#d8576b"
             ],
             [
              0.6666666666666666,
              "#ed7953"
             ],
             [
              0.7777777777777778,
              "#fb9f3a"
             ],
             [
              0.8888888888888888,
              "#fdca26"
             ],
             [
              1,
              "#f0f921"
             ]
            ],
            "type": "histogram2d"
           }
          ],
          "histogram2dcontour": [
           {
            "colorbar": {
             "outlinewidth": 0,
             "ticks": ""
            },
            "colorscale": [
             [
              0,
              "#0d0887"
             ],
             [
              0.1111111111111111,
              "#46039f"
             ],
             [
              0.2222222222222222,
              "#7201a8"
             ],
             [
              0.3333333333333333,
              "#9c179e"
             ],
             [
              0.4444444444444444,
              "#bd3786"
             ],
             [
              0.5555555555555556,
              "#d8576b"
             ],
             [
              0.6666666666666666,
              "#ed7953"
             ],
             [
              0.7777777777777778,
              "#fb9f3a"
             ],
             [
              0.8888888888888888,
              "#fdca26"
             ],
             [
              1,
              "#f0f921"
             ]
            ],
            "type": "histogram2dcontour"
           }
          ],
          "mesh3d": [
           {
            "colorbar": {
             "outlinewidth": 0,
             "ticks": ""
            },
            "type": "mesh3d"
           }
          ],
          "parcoords": [
           {
            "line": {
             "colorbar": {
              "outlinewidth": 0,
              "ticks": ""
             }
            },
            "type": "parcoords"
           }
          ],
          "pie": [
           {
            "automargin": true,
            "type": "pie"
           }
          ],
          "scatter": [
           {
            "marker": {
             "line": {
              "color": "#283442"
             }
            },
            "type": "scatter"
           }
          ],
          "scatter3d": [
           {
            "line": {
             "colorbar": {
              "outlinewidth": 0,
              "ticks": ""
             }
            },
            "marker": {
             "colorbar": {
              "outlinewidth": 0,
              "ticks": ""
             }
            },
            "type": "scatter3d"
           }
          ],
          "scattercarpet": [
           {
            "marker": {
             "colorbar": {
              "outlinewidth": 0,
              "ticks": ""
             }
            },
            "type": "scattercarpet"
           }
          ],
          "scattergeo": [
           {
            "marker": {
             "colorbar": {
              "outlinewidth": 0,
              "ticks": ""
             }
            },
            "type": "scattergeo"
           }
          ],
          "scattergl": [
           {
            "marker": {
             "line": {
              "color": "#283442"
             }
            },
            "type": "scattergl"
           }
          ],
          "scattermapbox": [
           {
            "marker": {
             "colorbar": {
              "outlinewidth": 0,
              "ticks": ""
             }
            },
            "type": "scattermapbox"
           }
          ],
          "scatterpolar": [
           {
            "marker": {
             "colorbar": {
              "outlinewidth": 0,
              "ticks": ""
             }
            },
            "type": "scatterpolar"
           }
          ],
          "scatterpolargl": [
           {
            "marker": {
             "colorbar": {
              "outlinewidth": 0,
              "ticks": ""
             }
            },
            "type": "scatterpolargl"
           }
          ],
          "scatterternary": [
           {
            "marker": {
             "colorbar": {
              "outlinewidth": 0,
              "ticks": ""
             }
            },
            "type": "scatterternary"
           }
          ],
          "surface": [
           {
            "colorbar": {
             "outlinewidth": 0,
             "ticks": ""
            },
            "colorscale": [
             [
              0,
              "#0d0887"
             ],
             [
              0.1111111111111111,
              "#46039f"
             ],
             [
              0.2222222222222222,
              "#7201a8"
             ],
             [
              0.3333333333333333,
              "#9c179e"
             ],
             [
              0.4444444444444444,
              "#bd3786"
             ],
             [
              0.5555555555555556,
              "#d8576b"
             ],
             [
              0.6666666666666666,
              "#ed7953"
             ],
             [
              0.7777777777777778,
              "#fb9f3a"
             ],
             [
              0.8888888888888888,
              "#fdca26"
             ],
             [
              1,
              "#f0f921"
             ]
            ],
            "type": "surface"
           }
          ],
          "table": [
           {
            "cells": {
             "fill": {
              "color": "#506784"
             },
             "line": {
              "color": "rgb(17,17,17)"
             }
            },
            "header": {
             "fill": {
              "color": "#2a3f5f"
             },
             "line": {
              "color": "rgb(17,17,17)"
             }
            },
            "type": "table"
           }
          ]
         },
         "layout": {
          "annotationdefaults": {
           "arrowcolor": "#f2f5fa",
           "arrowhead": 0,
           "arrowwidth": 1
          },
          "autotypenumbers": "strict",
          "coloraxis": {
           "colorbar": {
            "outlinewidth": 0,
            "ticks": ""
           }
          },
          "colorscale": {
           "diverging": [
            [
             0,
             "#8e0152"
            ],
            [
             0.1,
             "#c51b7d"
            ],
            [
             0.2,
             "#de77ae"
            ],
            [
             0.3,
             "#f1b6da"
            ],
            [
             0.4,
             "#fde0ef"
            ],
            [
             0.5,
             "#f7f7f7"
            ],
            [
             0.6,
             "#e6f5d0"
            ],
            [
             0.7,
             "#b8e186"
            ],
            [
             0.8,
             "#7fbc41"
            ],
            [
             0.9,
             "#4d9221"
            ],
            [
             1,
             "#276419"
            ]
           ],
           "sequential": [
            [
             0,
             "#0d0887"
            ],
            [
             0.1111111111111111,
             "#46039f"
            ],
            [
             0.2222222222222222,
             "#7201a8"
            ],
            [
             0.3333333333333333,
             "#9c179e"
            ],
            [
             0.4444444444444444,
             "#bd3786"
            ],
            [
             0.5555555555555556,
             "#d8576b"
            ],
            [
             0.6666666666666666,
             "#ed7953"
            ],
            [
             0.7777777777777778,
             "#fb9f3a"
            ],
            [
             0.8888888888888888,
             "#fdca26"
            ],
            [
             1,
             "#f0f921"
            ]
           ],
           "sequentialminus": [
            [
             0,
             "#0d0887"
            ],
            [
             0.1111111111111111,
             "#46039f"
            ],
            [
             0.2222222222222222,
             "#7201a8"
            ],
            [
             0.3333333333333333,
             "#9c179e"
            ],
            [
             0.4444444444444444,
             "#bd3786"
            ],
            [
             0.5555555555555556,
             "#d8576b"
            ],
            [
             0.6666666666666666,
             "#ed7953"
            ],
            [
             0.7777777777777778,
             "#fb9f3a"
            ],
            [
             0.8888888888888888,
             "#fdca26"
            ],
            [
             1,
             "#f0f921"
            ]
           ]
          },
          "colorway": [
           "#636efa",
           "#EF553B",
           "#00cc96",
           "#ab63fa",
           "#FFA15A",
           "#19d3f3",
           "#FF6692",
           "#B6E880",
           "#FF97FF",
           "#FECB52"
          ],
          "font": {
           "color": "#f2f5fa"
          },
          "geo": {
           "bgcolor": "rgb(17,17,17)",
           "lakecolor": "rgb(17,17,17)",
           "landcolor": "rgb(17,17,17)",
           "showlakes": true,
           "showland": true,
           "subunitcolor": "#506784"
          },
          "hoverlabel": {
           "align": "left"
          },
          "hovermode": "closest",
          "mapbox": {
           "style": "dark"
          },
          "paper_bgcolor": "rgb(17,17,17)",
          "plot_bgcolor": "rgb(17,17,17)",
          "polar": {
           "angularaxis": {
            "gridcolor": "#506784",
            "linecolor": "#506784",
            "ticks": ""
           },
           "bgcolor": "rgb(17,17,17)",
           "radialaxis": {
            "gridcolor": "#506784",
            "linecolor": "#506784",
            "ticks": ""
           }
          },
          "scene": {
           "xaxis": {
            "backgroundcolor": "rgb(17,17,17)",
            "gridcolor": "#506784",
            "gridwidth": 2,
            "linecolor": "#506784",
            "showbackground": true,
            "ticks": "",
            "zerolinecolor": "#C8D4E3"
           },
           "yaxis": {
            "backgroundcolor": "rgb(17,17,17)",
            "gridcolor": "#506784",
            "gridwidth": 2,
            "linecolor": "#506784",
            "showbackground": true,
            "ticks": "",
            "zerolinecolor": "#C8D4E3"
           },
           "zaxis": {
            "backgroundcolor": "rgb(17,17,17)",
            "gridcolor": "#506784",
            "gridwidth": 2,
            "linecolor": "#506784",
            "showbackground": true,
            "ticks": "",
            "zerolinecolor": "#C8D4E3"
           }
          },
          "shapedefaults": {
           "line": {
            "color": "#f2f5fa"
           }
          },
          "sliderdefaults": {
           "bgcolor": "#C8D4E3",
           "bordercolor": "rgb(17,17,17)",
           "borderwidth": 1,
           "tickwidth": 0
          },
          "ternary": {
           "aaxis": {
            "gridcolor": "#506784",
            "linecolor": "#506784",
            "ticks": ""
           },
           "baxis": {
            "gridcolor": "#506784",
            "linecolor": "#506784",
            "ticks": ""
           },
           "bgcolor": "rgb(17,17,17)",
           "caxis": {
            "gridcolor": "#506784",
            "linecolor": "#506784",
            "ticks": ""
           }
          },
          "title": {
           "x": 0.05
          },
          "updatemenudefaults": {
           "bgcolor": "#506784",
           "borderwidth": 0
          },
          "xaxis": {
           "automargin": true,
           "gridcolor": "#283442",
           "linecolor": "#506784",
           "ticks": "",
           "title": {
            "standoff": 15
           },
           "zerolinecolor": "#283442",
           "zerolinewidth": 2
          },
          "yaxis": {
           "automargin": true,
           "gridcolor": "#283442",
           "linecolor": "#506784",
           "ticks": "",
           "title": {
            "standoff": 15
           },
           "zerolinecolor": "#283442",
           "zerolinewidth": 2
          }
         }
        },
        "title": {
         "text": "Min Lightcurve of comet C/2017 K2 (Tsuchinshan-ATLAS)"
        },
        "xaxis": {
         "anchor": "y",
         "domain": [
          0,
          1
         ],
         "title": {
          "text": "Observation Date"
         }
        },
        "yaxis": {
         "anchor": "x",
         "autorange": "reversed",
         "domain": [
          0,
          1
         ],
         "title": {
          "text": "Max apparent total magnitude reduced"
         }
        }
       }
      }
     },
     "metadata": {},
     "output_type": "display_data"
    }
   ],
   "source": [
    "# Curva de luz reducida\n",
    "labels = {'obs_date':'Observation Date','magnitud_reducida':'Max apparent total magnitude reduced', 'obs_method_key' : 'Observation Method'}\n",
    "fig = px.scatter(curva_de_luz_interna_df, x=curva_de_luz_interna_df.obs_date, y='magnitud_reducida', color='obs_method_key', template= 'plotly_dark', labels= labels, title= f'Min Lightcurve of comet {nombre_cometa} (Tsuchinshan-ATLAS)')\n",
    "fig.update_yaxes(autorange=\"reversed\")\n",
    "fig.show()"
   ]
  },
  {
   "cell_type": "code",
   "execution_count": 98,
   "metadata": {},
   "outputs": [
    {
     "data": {
      "text/html": [
       "<div>\n",
       "<style scoped>\n",
       "    .dataframe tbody tr th:only-of-type {\n",
       "        vertical-align: middle;\n",
       "    }\n",
       "\n",
       "    .dataframe tbody tr th {\n",
       "        vertical-align: top;\n",
       "    }\n",
       "\n",
       "    .dataframe thead th {\n",
       "        text-align: right;\n",
       "    }\n",
       "</style>\n",
       "<table border=\"1\" class=\"dataframe\">\n",
       "  <thead>\n",
       "    <tr style=\"text-align: right;\">\n",
       "      <th></th>\n",
       "      <th>obs_date</th>\n",
       "      <th>obs_method_key</th>\n",
       "      <th>magnitude</th>\n",
       "      <th>delta</th>\n",
       "      <th>r</th>\n",
       "      <th>phase</th>\n",
       "      <th>magnitud_reducida</th>\n",
       "      <th>promedio_movil</th>\n",
       "    </tr>\n",
       "  </thead>\n",
       "  <tbody>\n",
       "    <tr>\n",
       "      <th>0</th>\n",
       "      <td>2017-06-02</td>\n",
       "      <td>C</td>\n",
       "      <td>19.1</td>\n",
       "      <td>15.953</td>\n",
       "      <td>16.023</td>\n",
       "      <td>3.6</td>\n",
       "      <td>-3.637931</td>\n",
       "      <td>NaN</td>\n",
       "    </tr>\n",
       "    <tr>\n",
       "      <th>1</th>\n",
       "      <td>2017-06-12</td>\n",
       "      <td>C</td>\n",
       "      <td>18.7</td>\n",
       "      <td>15.898</td>\n",
       "      <td>15.966</td>\n",
       "      <td>3.6</td>\n",
       "      <td>-3.222693</td>\n",
       "      <td>NaN</td>\n",
       "    </tr>\n",
       "    <tr>\n",
       "      <th>2</th>\n",
       "      <td>2017-06-14</td>\n",
       "      <td>C</td>\n",
       "      <td>18.4</td>\n",
       "      <td>15.887</td>\n",
       "      <td>15.955</td>\n",
       "      <td>3.6</td>\n",
       "      <td>-3.319694</td>\n",
       "      <td>NaN</td>\n",
       "    </tr>\n",
       "    <tr>\n",
       "      <th>3</th>\n",
       "      <td>2017-06-16</td>\n",
       "      <td>C</td>\n",
       "      <td>18.5</td>\n",
       "      <td>15.877</td>\n",
       "      <td>15.943</td>\n",
       "      <td>3.7</td>\n",
       "      <td>-2.816692</td>\n",
       "      <td>NaN</td>\n",
       "    </tr>\n",
       "    <tr>\n",
       "      <th>4</th>\n",
       "      <td>2017-06-17</td>\n",
       "      <td>C</td>\n",
       "      <td>17.8</td>\n",
       "      <td>15.871</td>\n",
       "      <td>15.937</td>\n",
       "      <td>3.7</td>\n",
       "      <td>-3.415054</td>\n",
       "      <td>NaN</td>\n",
       "    </tr>\n",
       "    <tr>\n",
       "      <th>...</th>\n",
       "      <td>...</td>\n",
       "      <td>...</td>\n",
       "      <td>...</td>\n",
       "      <td>...</td>\n",
       "      <td>...</td>\n",
       "      <td>...</td>\n",
       "      <td>...</td>\n",
       "      <td>...</td>\n",
       "    </tr>\n",
       "    <tr>\n",
       "      <th>305</th>\n",
       "      <td>2021-05-03</td>\n",
       "      <td>Z</td>\n",
       "      <td>13.8</td>\n",
       "      <td>6.163</td>\n",
       "      <td>6.469</td>\n",
       "      <td>8.7</td>\n",
       "      <td>6.196853</td>\n",
       "      <td>6.344243</td>\n",
       "    </tr>\n",
       "    <tr>\n",
       "      <th>306</th>\n",
       "      <td>2021-05-04</td>\n",
       "      <td>Z</td>\n",
       "      <td>12.6</td>\n",
       "      <td>6.149</td>\n",
       "      <td>6.461</td>\n",
       "      <td>8.7</td>\n",
       "      <td>6.104479</td>\n",
       "      <td>6.256603</td>\n",
       "    </tr>\n",
       "    <tr>\n",
       "      <th>307</th>\n",
       "      <td>2021-05-05</td>\n",
       "      <td>Z</td>\n",
       "      <td>13.8</td>\n",
       "      <td>6.134</td>\n",
       "      <td>6.453</td>\n",
       "      <td>8.7</td>\n",
       "      <td>6.012473</td>\n",
       "      <td>6.296439</td>\n",
       "    </tr>\n",
       "    <tr>\n",
       "      <th>308</th>\n",
       "      <td>2021-05-08</td>\n",
       "      <td>Z</td>\n",
       "      <td>13.8</td>\n",
       "      <td>6.092</td>\n",
       "      <td>6.428</td>\n",
       "      <td>8.7</td>\n",
       "      <td>8.635821</td>\n",
       "      <td>6.595633</td>\n",
       "    </tr>\n",
       "    <tr>\n",
       "      <th>309</th>\n",
       "      <td>2021-05-11</td>\n",
       "      <td>k</td>\n",
       "      <td>14.2</td>\n",
       "      <td>6.050</td>\n",
       "      <td>6.404</td>\n",
       "      <td>8.7</td>\n",
       "      <td>8.258967</td>\n",
       "      <td>6.838693</td>\n",
       "    </tr>\n",
       "  </tbody>\n",
       "</table>\n",
       "<p>310 rows × 8 columns</p>\n",
       "</div>"
      ],
      "text/plain": [
       "      obs_date obs_method_key  magnitude   delta       r  phase  \\\n",
       "0   2017-06-02              C       19.1  15.953  16.023    3.6   \n",
       "1   2017-06-12              C       18.7  15.898  15.966    3.6   \n",
       "2   2017-06-14              C       18.4  15.887  15.955    3.6   \n",
       "3   2017-06-16              C       18.5  15.877  15.943    3.7   \n",
       "4   2017-06-17              C       17.8  15.871  15.937    3.7   \n",
       "..         ...            ...        ...     ...     ...    ...   \n",
       "305 2021-05-03              Z       13.8   6.163   6.469    8.7   \n",
       "306 2021-05-04              Z       12.6   6.149   6.461    8.7   \n",
       "307 2021-05-05              Z       13.8   6.134   6.453    8.7   \n",
       "308 2021-05-08              Z       13.8   6.092   6.428    8.7   \n",
       "309 2021-05-11              k       14.2   6.050   6.404    8.7   \n",
       "\n",
       "     magnitud_reducida  promedio_movil  \n",
       "0            -3.637931             NaN  \n",
       "1            -3.222693             NaN  \n",
       "2            -3.319694             NaN  \n",
       "3            -2.816692             NaN  \n",
       "4            -3.415054             NaN  \n",
       "..                 ...             ...  \n",
       "305           6.196853        6.344243  \n",
       "306           6.104479        6.256603  \n",
       "307           6.012473        6.296439  \n",
       "308           8.635821        6.595633  \n",
       "309           8.258967        6.838693  \n",
       "\n",
       "[310 rows x 8 columns]"
      ]
     },
     "execution_count": 98,
     "metadata": {},
     "output_type": "execute_result"
    }
   ],
   "source": [
    "# Creación del data frame curva de luz promediada\n",
    "numero_elementos_grupo = 7\n",
    "\n",
    "curva_de_luz_interna_df = curva_de_luz_interna_df.copy()\n",
    "curva_de_luz_interna_df['promedio_movil'] = curva_de_luz_interna_df.magnitud_reducida.rolling(window = numero_elementos_grupo).mean()\n",
    "curva_de_luz_interna_df"
   ]
  },
  {
   "cell_type": "code",
   "execution_count": 99,
   "metadata": {},
   "outputs": [
    {
     "data": {
      "application/vnd.plotly.v1+json": {
       "config": {
        "plotlyServerURL": "https://plot.ly"
       },
       "data": [
        {
         "hovertemplate": "Observation Date=%{x}<br>promedio_movil=%{y}<extra></extra>",
         "legendgroup": "",
         "marker": {
          "color": "yellow",
          "line": {
           "color": "DarkSlateGrey",
           "width": 1
          },
          "size": 6,
          "symbol": "circle"
         },
         "mode": "markers",
         "name": "",
         "orientation": "v",
         "showlegend": false,
         "type": "scatter",
         "x": [
          "2017-06-02T00:00:00",
          "2017-06-12T00:00:00",
          "2017-06-14T00:00:00",
          "2017-06-16T00:00:00",
          "2017-06-17T00:00:00",
          "2017-06-21T00:00:00",
          "2017-07-18T00:00:00",
          "2017-07-25T00:00:00",
          "2017-07-31T00:00:00",
          "2017-08-29T00:00:00",
          "2017-09-12T00:00:00",
          "2017-09-19T00:00:00",
          "2017-09-20T00:00:00",
          "2017-10-08T00:00:00",
          "2017-10-11T00:00:00",
          "2017-10-14T00:00:00",
          "2018-01-24T00:00:00",
          "2018-02-15T00:00:00",
          "2018-02-18T00:00:00",
          "2018-02-19T00:00:00",
          "2018-02-24T00:00:00",
          "2018-02-25T00:00:00",
          "2018-03-17T00:00:00",
          "2018-03-20T00:00:00",
          "2018-03-25T00:00:00",
          "2018-04-04T00:00:00",
          "2018-04-07T00:00:00",
          "2018-04-16T00:00:00",
          "2018-05-05T00:00:00",
          "2018-06-08T00:00:00",
          "2018-06-18T00:00:00",
          "2018-06-24T00:00:00",
          "2018-07-08T00:00:00",
          "2018-07-13T00:00:00",
          "2018-07-14T00:00:00",
          "2018-08-03T00:00:00",
          "2018-08-05T00:00:00",
          "2018-08-12T00:00:00",
          "2018-08-16T00:00:00",
          "2018-08-28T00:00:00",
          "2018-09-05T00:00:00",
          "2018-09-11T00:00:00",
          "2018-09-15T00:00:00",
          "2018-09-16T00:00:00",
          "2018-09-27T00:00:00",
          "2018-09-29T00:00:00",
          "2018-09-30T00:00:00",
          "2018-10-04T00:00:00",
          "2018-10-08T00:00:00",
          "2018-10-10T00:00:00",
          "2018-10-11T00:00:00",
          "2018-10-12T00:00:00",
          "2018-10-14T00:00:00",
          "2018-10-21T00:00:00",
          "2018-10-31T00:00:00",
          "2018-11-01T00:00:00",
          "2018-11-05T00:00:00",
          "2018-11-07T00:00:00",
          "2018-11-12T00:00:00",
          "2018-11-16T00:00:00",
          "2019-01-13T00:00:00",
          "2019-02-02T00:00:00",
          "2019-02-07T00:00:00",
          "2019-02-17T00:00:00",
          "2019-02-28T00:00:00",
          "2019-03-02T00:00:00",
          "2019-03-11T00:00:00",
          "2019-03-17T00:00:00",
          "2019-03-27T00:00:00",
          "2019-03-30T00:00:00",
          "2019-03-31T00:00:00",
          "2019-04-02T00:00:00",
          "2019-04-07T00:00:00",
          "2019-04-11T00:00:00",
          "2019-04-15T00:00:00",
          "2019-04-23T00:00:00",
          "2019-04-25T00:00:00",
          "2019-04-28T00:00:00",
          "2019-05-02T00:00:00",
          "2019-05-07T00:00:00",
          "2019-05-12T00:00:00",
          "2019-05-13T00:00:00",
          "2019-05-23T00:00:00",
          "2019-05-29T00:00:00",
          "2019-06-06T00:00:00",
          "2019-06-07T00:00:00",
          "2019-06-09T00:00:00",
          "2019-06-13T00:00:00",
          "2019-06-27T00:00:00",
          "2019-07-05T00:00:00",
          "2019-07-21T00:00:00",
          "2019-07-23T00:00:00",
          "2019-07-25T00:00:00",
          "2019-07-31T00:00:00",
          "2019-08-01T00:00:00",
          "2019-08-08T00:00:00",
          "2019-08-09T00:00:00",
          "2019-08-10T00:00:00",
          "2019-08-22T00:00:00",
          "2019-08-24T00:00:00",
          "2019-08-25T00:00:00",
          "2019-08-27T00:00:00",
          "2019-08-28T00:00:00",
          "2019-08-30T00:00:00",
          "2019-08-31T00:00:00",
          "2019-09-02T00:00:00",
          "2019-09-12T00:00:00",
          "2019-09-18T00:00:00",
          "2019-09-19T00:00:00",
          "2019-09-21T00:00:00",
          "2019-09-25T00:00:00",
          "2019-10-02T00:00:00",
          "2019-10-13T00:00:00",
          "2019-10-14T00:00:00",
          "2019-10-23T00:00:00",
          "2019-10-25T00:00:00",
          "2019-10-29T00:00:00",
          "2019-10-30T00:00:00",
          "2019-10-31T00:00:00",
          "2019-11-10T00:00:00",
          "2019-11-14T00:00:00",
          "2019-12-04T00:00:00",
          "2019-12-10T00:00:00",
          "2019-12-17T00:00:00",
          "2019-12-21T00:00:00",
          "2019-12-29T00:00:00",
          "2020-01-01T00:00:00",
          "2020-01-02T00:00:00",
          "2020-01-17T00:00:00",
          "2020-01-22T00:00:00",
          "2020-01-24T00:00:00",
          "2020-01-29T00:00:00",
          "2020-02-02T00:00:00",
          "2020-02-07T00:00:00",
          "2020-02-18T00:00:00",
          "2020-02-20T00:00:00",
          "2020-02-21T00:00:00",
          "2020-02-28T00:00:00",
          "2020-03-04T00:00:00",
          "2020-03-08T00:00:00",
          "2020-03-11T00:00:00",
          "2020-03-15T00:00:00",
          "2020-03-16T00:00:00",
          "2020-03-18T00:00:00",
          "2020-03-20T00:00:00",
          "2020-03-21T00:00:00",
          "2020-03-22T00:00:00",
          "2020-03-23T00:00:00",
          "2020-03-24T00:00:00",
          "2020-03-25T00:00:00",
          "2020-03-26T00:00:00",
          "2020-03-29T00:00:00",
          "2020-04-01T00:00:00",
          "2020-04-02T00:00:00",
          "2020-04-14T00:00:00",
          "2020-04-16T00:00:00",
          "2020-04-18T00:00:00",
          "2020-04-20T00:00:00",
          "2020-04-21T00:00:00",
          "2020-04-23T00:00:00",
          "2020-04-24T00:00:00",
          "2020-04-26T00:00:00",
          "2020-04-28T00:00:00",
          "2020-05-06T00:00:00",
          "2020-05-07T00:00:00",
          "2020-05-13T00:00:00",
          "2020-05-15T00:00:00",
          "2020-05-16T00:00:00",
          "2020-05-17T00:00:00",
          "2020-05-21T00:00:00",
          "2020-05-24T00:00:00",
          "2020-06-01T00:00:00",
          "2020-06-12T00:00:00",
          "2020-06-13T00:00:00",
          "2020-06-18T00:00:00",
          "2020-06-19T00:00:00",
          "2020-06-20T00:00:00",
          "2020-06-21T00:00:00",
          "2020-06-23T00:00:00",
          "2020-06-24T00:00:00",
          "2020-06-25T00:00:00",
          "2020-06-27T00:00:00",
          "2020-07-03T00:00:00",
          "2020-07-06T00:00:00",
          "2020-07-07T00:00:00",
          "2020-07-09T00:00:00",
          "2020-07-10T00:00:00",
          "2020-07-11T00:00:00",
          "2020-07-12T00:00:00",
          "2020-07-18T00:00:00",
          "2020-07-19T00:00:00",
          "2020-07-26T00:00:00",
          "2020-07-29T00:00:00",
          "2020-07-30T00:00:00",
          "2020-07-31T00:00:00",
          "2020-08-07T00:00:00",
          "2020-08-08T00:00:00",
          "2020-08-09T00:00:00",
          "2020-08-14T00:00:00",
          "2020-08-16T00:00:00",
          "2020-08-19T00:00:00",
          "2020-08-20T00:00:00",
          "2020-08-21T00:00:00",
          "2020-08-22T00:00:00",
          "2020-08-23T00:00:00",
          "2020-08-24T00:00:00",
          "2020-08-25T00:00:00",
          "2020-09-02T00:00:00",
          "2020-09-03T00:00:00",
          "2020-09-05T00:00:00",
          "2020-09-07T00:00:00",
          "2020-09-09T00:00:00",
          "2020-09-10T00:00:00",
          "2020-09-11T00:00:00",
          "2020-09-12T00:00:00",
          "2020-09-13T00:00:00",
          "2020-09-14T00:00:00",
          "2020-09-15T00:00:00",
          "2020-09-16T00:00:00",
          "2020-09-17T00:00:00",
          "2020-09-18T00:00:00",
          "2020-09-19T00:00:00",
          "2020-09-21T00:00:00",
          "2020-09-23T00:00:00",
          "2020-09-29T00:00:00",
          "2020-09-30T00:00:00",
          "2020-10-03T00:00:00",
          "2020-10-09T00:00:00",
          "2020-10-10T00:00:00",
          "2020-10-11T00:00:00",
          "2020-10-12T00:00:00",
          "2020-10-16T00:00:00",
          "2020-10-17T00:00:00",
          "2020-10-19T00:00:00",
          "2020-10-24T00:00:00",
          "2020-11-02T00:00:00",
          "2020-11-05T00:00:00",
          "2020-11-06T00:00:00",
          "2020-11-08T00:00:00",
          "2020-11-14T00:00:00",
          "2020-11-16T00:00:00",
          "2020-11-18T00:00:00",
          "2020-11-20T00:00:00",
          "2020-11-21T00:00:00",
          "2020-11-23T00:00:00",
          "2020-11-24T00:00:00",
          "2020-11-25T00:00:00",
          "2020-12-06T00:00:00",
          "2020-12-08T00:00:00",
          "2020-12-19T00:00:00",
          "2020-12-26T00:00:00",
          "2020-12-27T00:00:00",
          "2021-01-11T00:00:00",
          "2021-01-16T00:00:00",
          "2021-01-17T00:00:00",
          "2021-01-18T00:00:00",
          "2021-01-24T00:00:00",
          "2021-01-25T00:00:00",
          "2021-01-31T00:00:00",
          "2021-02-05T00:00:00",
          "2021-02-08T00:00:00",
          "2021-02-09T00:00:00",
          "2021-02-11T00:00:00",
          "2021-02-15T00:00:00",
          "2021-02-17T00:00:00",
          "2021-02-19T00:00:00",
          "2021-02-21T00:00:00",
          "2021-02-22T00:00:00",
          "2021-02-24T00:00:00",
          "2021-03-06T00:00:00",
          "2021-03-07T00:00:00",
          "2021-03-09T00:00:00",
          "2021-03-10T00:00:00",
          "2021-03-13T00:00:00",
          "2021-03-14T00:00:00",
          "2021-03-16T00:00:00",
          "2021-03-17T00:00:00",
          "2021-03-19T00:00:00",
          "2021-03-20T00:00:00",
          "2021-03-22T00:00:00",
          "2021-03-23T00:00:00",
          "2021-03-24T00:00:00",
          "2021-03-25T00:00:00",
          "2021-03-30T00:00:00",
          "2021-04-01T00:00:00",
          "2021-04-03T00:00:00",
          "2021-04-04T00:00:00",
          "2021-04-05T00:00:00",
          "2021-04-06T00:00:00",
          "2021-04-09T00:00:00",
          "2021-04-10T00:00:00",
          "2021-04-12T00:00:00",
          "2021-04-13T00:00:00",
          "2021-04-14T00:00:00",
          "2021-04-15T00:00:00",
          "2021-04-17T00:00:00",
          "2021-04-18T00:00:00",
          "2021-04-19T00:00:00",
          "2021-04-21T00:00:00",
          "2021-04-23T00:00:00",
          "2021-04-25T00:00:00",
          "2021-04-26T00:00:00",
          "2021-04-28T00:00:00",
          "2021-04-30T00:00:00",
          "2021-05-02T00:00:00",
          "2021-05-03T00:00:00",
          "2021-05-04T00:00:00",
          "2021-05-05T00:00:00",
          "2021-05-08T00:00:00",
          "2021-05-11T00:00:00"
         ],
         "xaxis": "x",
         "y": [
          null,
          null,
          null,
          null,
          null,
          null,
          -3.270203815616221,
          -3.2733907505862905,
          -3.306139761488543,
          -3.305079474927856,
          -3.3445419701759453,
          -3.340035214660751,
          -3.3075950275924177,
          -3.319970827188455,
          -3.247424954707312,
          -3.246865423712882,
          -3.255540318179118,
          -3.0033679313930457,
          -2.751624348210837,
          -2.656925824285661,
          -2.592892537990889,
          -2.572044295441085,
          -2.4885014430716907,
          -2.471887696847691,
          -2.7459146818863616,
          -2.9177650512788214,
          -2.9889962697678256,
          -2.9875327377587557,
          -2.9520571453862416,
          -2.9701586890970826,
          -2.943648499315867,
          -2.859928493035729,
          -2.8328980657334877,
          -2.776958987419821,
          -2.552147519072847,
          -2.37113840191114,
          -2.3422484369847374,
          -2.343023188411318,
          -2.3873378025390934,
          -2.389627519232182,
          -2.448521627688259,
          -2.620598380460354,
          -2.7537004700493557,
          -2.701361281524338,
          -2.633816220638452,
          -2.5810348526531888,
          -2.587899243974125,
          -2.5384714287091046,
          -2.603739669310992,
          -2.6837334143551033,
          -2.6922729300792425,
          -2.6745172622177047,
          -2.6138779721019056,
          -2.637456873912062,
          -2.6166698497365095,
          -2.6822320582564445,
          -2.7186690470620603,
          -2.783411973367866,
          -2.847050749333412,
          -2.9672506838802764,
          -2.9851934764133747,
          -2.9695948615898238,
          -2.8951887879062066,
          -2.8320988748083975,
          -2.7650564184648934,
          -2.68423009710076,
          -2.6435648819664714,
          -2.532922147980145,
          -2.51118419874681,
          -2.17584122108146,
          -1.872624769045155,
          -1.8158885057793042,
          -1.7578810732678716,
          -1.6876407843430508,
          -1.6610946771359285,
          -1.6354378949298547,
          -1.8245184483696109,
          -2.0270563369946353,
          -2.0859247257631024,
          -2.073427031283353,
          -2.0463680354052194,
          -2.006272855781426,
          -1.9941751332858229,
          -1.966292457722048,
          -1.893845301293558,
          -1.7655467727442071,
          -1.7385626369370257,
          -1.6406555847854445,
          -1.5811689346781022,
          -1.480103203648928,
          -1.4477532889669962,
          -1.3891704252135233,
          -1.3160707298228387,
          -1.2276647943238708,
          -1.1689921496886566,
          -1.1132002558098582,
          -1.0597665402177596,
          -0.9681980918954297,
          -0.8882669319629551,
          -0.8226411791297557,
          -0.7442295257234104,
          -0.637016794737593,
          -0.4029620029394988,
          -0.3114786614941136,
          -0.22004877083549015,
          -0.18851060456311103,
          -0.012037362319428471,
          0.15149360087933342,
          0.21477387258502795,
          0.3068860155941128,
          0.7709209851097051,
          1.2080256886523535,
          1.6761932778504438,
          2.0134370906450245,
          2.3659799014628553,
          2.604562099150063,
          2.815252383235112,
          2.9537462494311435,
          3.004950849492282,
          2.970570912574389,
          3.0657934553929422,
          3.022693750223857,
          3.2670448820488454,
          3.255922677973743,
          3.203326638120317,
          3.0824955293917706,
          3.0312595846727697,
          2.807757206848582,
          2.727221221309045,
          2.5183049526952206,
          2.6646792917199353,
          2.7263091211421906,
          2.7437286440262647,
          2.7911524656521807,
          2.9443709898230375,
          3.1486402043679758,
          3.2652544626645756,
          3.156424735698496,
          2.9479698194794466,
          2.9255273387883967,
          2.9878675567170996,
          2.9178364233243173,
          2.8329698893507094,
          2.7916228282795115,
          2.7473997362921545,
          2.786487366091071,
          2.8951936336167514,
          2.8598332242791753,
          2.8940422816438582,
          2.899685899233201,
          2.96186446673369,
          3.053214410317803,
          3.0601683383139013,
          2.9528115132564707,
          2.9952727390730045,
          3.195558888533774,
          3.1964625426221613,
          3.197953001772433,
          3.069679759680373,
          2.91214366868444,
          3.0117316629401834,
          2.962131045899286,
          2.7696220049599307,
          2.7093696712939073,
          2.6913493213884783,
          2.7762503424229514,
          2.875395496708861,
          2.745948345359829,
          2.715839435210305,
          2.6296845494801815,
          2.6832302825510728,
          2.7263971930044866,
          2.786215722621087,
          2.788218399662877,
          2.8636054230739814,
          2.924651437837686,
          2.9838471305354872,
          2.956059359785899,
          2.9247428556924597,
          3.0879656608136687,
          3.0939785416423398,
          3.155588974526881,
          3.1195203793458126,
          3.155742358300411,
          3.3490769066207817,
          3.342314324518474,
          3.264056222384845,
          3.542910071492429,
          3.7069493554131876,
          3.9992622419950217,
          4.162042443837246,
          4.155818189004791,
          4.192715150163306,
          4.129544441059898,
          3.8092000139633453,
          3.7624364335214375,
          3.442092323327465,
          3.3788598711493734,
          3.200243262487685,
          3.4925922645247307,
          3.428463513337462,
          3.6928740079767692,
          3.7549969805465233,
          4.288478662572244,
          4.236249230171793,
          4.368274504268736,
          3.9999354963479203,
          4.047519211601889,
          3.9093553078791996,
          3.8001009725581314,
          3.376899876466175,
          3.5253931101126557,
          3.388138982473125,
          3.7366410002887727,
          3.897063264128865,
          3.9432025615851365,
          4.017543766507111,
          4.048657489823816,
          3.89379784661609,
          4.05322560598295,
          3.855475192982589,
          3.8005836126651538,
          3.931709660452566,
          3.7632146254502774,
          3.7535682288535477,
          3.8724219095867958,
          null,
          null,
          null,
          null,
          null,
          null,
          null,
          3.67947067962013,
          3.8849265016010572,
          3.9078465154028232,
          4.10309456108651,
          4.184100526997142,
          4.036011327489177,
          4.3616186521373566,
          4.401681441502805,
          4.2693279038175485,
          4.262962766116564,
          4.141540199732535,
          4.1921377546362715,
          4.128065220527707,
          4.190461992205546,
          4.157641565906866,
          4.0964981254491875,
          4.283759247016148,
          4.33213943337474,
          4.2516511801210015,
          4.452652087930565,
          4.456947460652657,
          4.3705873096352,
          4.583899807151644,
          4.452697919818433,
          4.517877692307455,
          4.5445981625504945,
          4.493682650836087,
          4.441704707834227,
          4.518407163970464,
          4.596111035962023,
          4.801307423118717,
          4.9075590773035165,
          4.910662914978846,
          4.925584248127321,
          5.024470257030346,
          5.153030861353905,
          5.147067789385359,
          5.2097988667008535,
          5.058442900240876,
          5.106175332229914,
          5.483751084658634,
          5.447122150702922,
          5.382039990226963,
          5.379310659873917,
          5.249161051985721,
          5.3608723421393805,
          5.430885436352075,
          5.198824387561618,
          5.109641436384351,
          5.105159776518442,
          5.133690678172699,
          5.3480381340778615,
          5.434960219284762,
          5.677964408634788,
          5.706711563026057,
          5.935487520310671,
          5.98083860130395,
          5.936039458107673,
          5.891244121145979,
          5.902498965076768,
          5.799442940159309,
          5.767838397448344,
          5.837358347379564,
          5.9618331272488945,
          6.200613514936914,
          6.482244300979085,
          6.579296871454785,
          6.520348336856147,
          6.647090565283778,
          6.659595741605074,
          6.730303709082214,
          6.587838091994174,
          6.344242571222474,
          6.2566026112998525,
          6.296439486620076,
          6.5956330590461585,
          6.838692571684219
         ],
         "yaxis": "y"
        }
       ],
       "layout": {
        "legend": {
         "tracegroupgap": 0
        },
        "template": {
         "data": {
          "bar": [
           {
            "error_x": {
             "color": "#f2f5fa"
            },
            "error_y": {
             "color": "#f2f5fa"
            },
            "marker": {
             "line": {
              "color": "rgb(17,17,17)",
              "width": 0.5
             },
             "pattern": {
              "fillmode": "overlay",
              "size": 10,
              "solidity": 0.2
             }
            },
            "type": "bar"
           }
          ],
          "barpolar": [
           {
            "marker": {
             "line": {
              "color": "rgb(17,17,17)",
              "width": 0.5
             },
             "pattern": {
              "fillmode": "overlay",
              "size": 10,
              "solidity": 0.2
             }
            },
            "type": "barpolar"
           }
          ],
          "carpet": [
           {
            "aaxis": {
             "endlinecolor": "#A2B1C6",
             "gridcolor": "#506784",
             "linecolor": "#506784",
             "minorgridcolor": "#506784",
             "startlinecolor": "#A2B1C6"
            },
            "baxis": {
             "endlinecolor": "#A2B1C6",
             "gridcolor": "#506784",
             "linecolor": "#506784",
             "minorgridcolor": "#506784",
             "startlinecolor": "#A2B1C6"
            },
            "type": "carpet"
           }
          ],
          "choropleth": [
           {
            "colorbar": {
             "outlinewidth": 0,
             "ticks": ""
            },
            "type": "choropleth"
           }
          ],
          "contour": [
           {
            "colorbar": {
             "outlinewidth": 0,
             "ticks": ""
            },
            "colorscale": [
             [
              0,
              "#0d0887"
             ],
             [
              0.1111111111111111,
              "#46039f"
             ],
             [
              0.2222222222222222,
              "#7201a8"
             ],
             [
              0.3333333333333333,
              "#9c179e"
             ],
             [
              0.4444444444444444,
              "#bd3786"
             ],
             [
              0.5555555555555556,
              "#d8576b"
             ],
             [
              0.6666666666666666,
              "#ed7953"
             ],
             [
              0.7777777777777778,
              "#fb9f3a"
             ],
             [
              0.8888888888888888,
              "#fdca26"
             ],
             [
              1,
              "#f0f921"
             ]
            ],
            "type": "contour"
           }
          ],
          "contourcarpet": [
           {
            "colorbar": {
             "outlinewidth": 0,
             "ticks": ""
            },
            "type": "contourcarpet"
           }
          ],
          "heatmap": [
           {
            "colorbar": {
             "outlinewidth": 0,
             "ticks": ""
            },
            "colorscale": [
             [
              0,
              "#0d0887"
             ],
             [
              0.1111111111111111,
              "#46039f"
             ],
             [
              0.2222222222222222,
              "#7201a8"
             ],
             [
              0.3333333333333333,
              "#9c179e"
             ],
             [
              0.4444444444444444,
              "#bd3786"
             ],
             [
              0.5555555555555556,
              "#d8576b"
             ],
             [
              0.6666666666666666,
              "#ed7953"
             ],
             [
              0.7777777777777778,
              "#fb9f3a"
             ],
             [
              0.8888888888888888,
              "#fdca26"
             ],
             [
              1,
              "#f0f921"
             ]
            ],
            "type": "heatmap"
           }
          ],
          "heatmapgl": [
           {
            "colorbar": {
             "outlinewidth": 0,
             "ticks": ""
            },
            "colorscale": [
             [
              0,
              "#0d0887"
             ],
             [
              0.1111111111111111,
              "#46039f"
             ],
             [
              0.2222222222222222,
              "#7201a8"
             ],
             [
              0.3333333333333333,
              "#9c179e"
             ],
             [
              0.4444444444444444,
              "#bd3786"
             ],
             [
              0.5555555555555556,
              "#d8576b"
             ],
             [
              0.6666666666666666,
              "#ed7953"
             ],
             [
              0.7777777777777778,
              "#fb9f3a"
             ],
             [
              0.8888888888888888,
              "#fdca26"
             ],
             [
              1,
              "#f0f921"
             ]
            ],
            "type": "heatmapgl"
           }
          ],
          "histogram": [
           {
            "marker": {
             "pattern": {
              "fillmode": "overlay",
              "size": 10,
              "solidity": 0.2
             }
            },
            "type": "histogram"
           }
          ],
          "histogram2d": [
           {
            "colorbar": {
             "outlinewidth": 0,
             "ticks": ""
            },
            "colorscale": [
             [
              0,
              "#0d0887"
             ],
             [
              0.1111111111111111,
              "#46039f"
             ],
             [
              0.2222222222222222,
              "#7201a8"
             ],
             [
              0.3333333333333333,
              "#9c179e"
             ],
             [
              0.4444444444444444,
              "#bd3786"
             ],
             [
              0.5555555555555556,
              "#d8576b"
             ],
             [
              0.6666666666666666,
              "#ed7953"
             ],
             [
              0.7777777777777778,
              "#fb9f3a"
             ],
             [
              0.8888888888888888,
              "#fdca26"
             ],
             [
              1,
              "#f0f921"
             ]
            ],
            "type": "histogram2d"
           }
          ],
          "histogram2dcontour": [
           {
            "colorbar": {
             "outlinewidth": 0,
             "ticks": ""
            },
            "colorscale": [
             [
              0,
              "#0d0887"
             ],
             [
              0.1111111111111111,
              "#46039f"
             ],
             [
              0.2222222222222222,
              "#7201a8"
             ],
             [
              0.3333333333333333,
              "#9c179e"
             ],
             [
              0.4444444444444444,
              "#bd3786"
             ],
             [
              0.5555555555555556,
              "#d8576b"
             ],
             [
              0.6666666666666666,
              "#ed7953"
             ],
             [
              0.7777777777777778,
              "#fb9f3a"
             ],
             [
              0.8888888888888888,
              "#fdca26"
             ],
             [
              1,
              "#f0f921"
             ]
            ],
            "type": "histogram2dcontour"
           }
          ],
          "mesh3d": [
           {
            "colorbar": {
             "outlinewidth": 0,
             "ticks": ""
            },
            "type": "mesh3d"
           }
          ],
          "parcoords": [
           {
            "line": {
             "colorbar": {
              "outlinewidth": 0,
              "ticks": ""
             }
            },
            "type": "parcoords"
           }
          ],
          "pie": [
           {
            "automargin": true,
            "type": "pie"
           }
          ],
          "scatter": [
           {
            "marker": {
             "line": {
              "color": "#283442"
             }
            },
            "type": "scatter"
           }
          ],
          "scatter3d": [
           {
            "line": {
             "colorbar": {
              "outlinewidth": 0,
              "ticks": ""
             }
            },
            "marker": {
             "colorbar": {
              "outlinewidth": 0,
              "ticks": ""
             }
            },
            "type": "scatter3d"
           }
          ],
          "scattercarpet": [
           {
            "marker": {
             "colorbar": {
              "outlinewidth": 0,
              "ticks": ""
             }
            },
            "type": "scattercarpet"
           }
          ],
          "scattergeo": [
           {
            "marker": {
             "colorbar": {
              "outlinewidth": 0,
              "ticks": ""
             }
            },
            "type": "scattergeo"
           }
          ],
          "scattergl": [
           {
            "marker": {
             "line": {
              "color": "#283442"
             }
            },
            "type": "scattergl"
           }
          ],
          "scattermapbox": [
           {
            "marker": {
             "colorbar": {
              "outlinewidth": 0,
              "ticks": ""
             }
            },
            "type": "scattermapbox"
           }
          ],
          "scatterpolar": [
           {
            "marker": {
             "colorbar": {
              "outlinewidth": 0,
              "ticks": ""
             }
            },
            "type": "scatterpolar"
           }
          ],
          "scatterpolargl": [
           {
            "marker": {
             "colorbar": {
              "outlinewidth": 0,
              "ticks": ""
             }
            },
            "type": "scatterpolargl"
           }
          ],
          "scatterternary": [
           {
            "marker": {
             "colorbar": {
              "outlinewidth": 0,
              "ticks": ""
             }
            },
            "type": "scatterternary"
           }
          ],
          "surface": [
           {
            "colorbar": {
             "outlinewidth": 0,
             "ticks": ""
            },
            "colorscale": [
             [
              0,
              "#0d0887"
             ],
             [
              0.1111111111111111,
              "#46039f"
             ],
             [
              0.2222222222222222,
              "#7201a8"
             ],
             [
              0.3333333333333333,
              "#9c179e"
             ],
             [
              0.4444444444444444,
              "#bd3786"
             ],
             [
              0.5555555555555556,
              "#d8576b"
             ],
             [
              0.6666666666666666,
              "#ed7953"
             ],
             [
              0.7777777777777778,
              "#fb9f3a"
             ],
             [
              0.8888888888888888,
              "#fdca26"
             ],
             [
              1,
              "#f0f921"
             ]
            ],
            "type": "surface"
           }
          ],
          "table": [
           {
            "cells": {
             "fill": {
              "color": "#506784"
             },
             "line": {
              "color": "rgb(17,17,17)"
             }
            },
            "header": {
             "fill": {
              "color": "#2a3f5f"
             },
             "line": {
              "color": "rgb(17,17,17)"
             }
            },
            "type": "table"
           }
          ]
         },
         "layout": {
          "annotationdefaults": {
           "arrowcolor": "#f2f5fa",
           "arrowhead": 0,
           "arrowwidth": 1
          },
          "autotypenumbers": "strict",
          "coloraxis": {
           "colorbar": {
            "outlinewidth": 0,
            "ticks": ""
           }
          },
          "colorscale": {
           "diverging": [
            [
             0,
             "#8e0152"
            ],
            [
             0.1,
             "#c51b7d"
            ],
            [
             0.2,
             "#de77ae"
            ],
            [
             0.3,
             "#f1b6da"
            ],
            [
             0.4,
             "#fde0ef"
            ],
            [
             0.5,
             "#f7f7f7"
            ],
            [
             0.6,
             "#e6f5d0"
            ],
            [
             0.7,
             "#b8e186"
            ],
            [
             0.8,
             "#7fbc41"
            ],
            [
             0.9,
             "#4d9221"
            ],
            [
             1,
             "#276419"
            ]
           ],
           "sequential": [
            [
             0,
             "#0d0887"
            ],
            [
             0.1111111111111111,
             "#46039f"
            ],
            [
             0.2222222222222222,
             "#7201a8"
            ],
            [
             0.3333333333333333,
             "#9c179e"
            ],
            [
             0.4444444444444444,
             "#bd3786"
            ],
            [
             0.5555555555555556,
             "#d8576b"
            ],
            [
             0.6666666666666666,
             "#ed7953"
            ],
            [
             0.7777777777777778,
             "#fb9f3a"
            ],
            [
             0.8888888888888888,
             "#fdca26"
            ],
            [
             1,
             "#f0f921"
            ]
           ],
           "sequentialminus": [
            [
             0,
             "#0d0887"
            ],
            [
             0.1111111111111111,
             "#46039f"
            ],
            [
             0.2222222222222222,
             "#7201a8"
            ],
            [
             0.3333333333333333,
             "#9c179e"
            ],
            [
             0.4444444444444444,
             "#bd3786"
            ],
            [
             0.5555555555555556,
             "#d8576b"
            ],
            [
             0.6666666666666666,
             "#ed7953"
            ],
            [
             0.7777777777777778,
             "#fb9f3a"
            ],
            [
             0.8888888888888888,
             "#fdca26"
            ],
            [
             1,
             "#f0f921"
            ]
           ]
          },
          "colorway": [
           "#636efa",
           "#EF553B",
           "#00cc96",
           "#ab63fa",
           "#FFA15A",
           "#19d3f3",
           "#FF6692",
           "#B6E880",
           "#FF97FF",
           "#FECB52"
          ],
          "font": {
           "color": "#f2f5fa"
          },
          "geo": {
           "bgcolor": "rgb(17,17,17)",
           "lakecolor": "rgb(17,17,17)",
           "landcolor": "rgb(17,17,17)",
           "showlakes": true,
           "showland": true,
           "subunitcolor": "#506784"
          },
          "hoverlabel": {
           "align": "left"
          },
          "hovermode": "closest",
          "mapbox": {
           "style": "dark"
          },
          "paper_bgcolor": "rgb(17,17,17)",
          "plot_bgcolor": "rgb(17,17,17)",
          "polar": {
           "angularaxis": {
            "gridcolor": "#506784",
            "linecolor": "#506784",
            "ticks": ""
           },
           "bgcolor": "rgb(17,17,17)",
           "radialaxis": {
            "gridcolor": "#506784",
            "linecolor": "#506784",
            "ticks": ""
           }
          },
          "scene": {
           "xaxis": {
            "backgroundcolor": "rgb(17,17,17)",
            "gridcolor": "#506784",
            "gridwidth": 2,
            "linecolor": "#506784",
            "showbackground": true,
            "ticks": "",
            "zerolinecolor": "#C8D4E3"
           },
           "yaxis": {
            "backgroundcolor": "rgb(17,17,17)",
            "gridcolor": "#506784",
            "gridwidth": 2,
            "linecolor": "#506784",
            "showbackground": true,
            "ticks": "",
            "zerolinecolor": "#C8D4E3"
           },
           "zaxis": {
            "backgroundcolor": "rgb(17,17,17)",
            "gridcolor": "#506784",
            "gridwidth": 2,
            "linecolor": "#506784",
            "showbackground": true,
            "ticks": "",
            "zerolinecolor": "#C8D4E3"
           }
          },
          "shapedefaults": {
           "line": {
            "color": "#f2f5fa"
           }
          },
          "sliderdefaults": {
           "bgcolor": "#C8D4E3",
           "bordercolor": "rgb(17,17,17)",
           "borderwidth": 1,
           "tickwidth": 0
          },
          "ternary": {
           "aaxis": {
            "gridcolor": "#506784",
            "linecolor": "#506784",
            "ticks": ""
           },
           "baxis": {
            "gridcolor": "#506784",
            "linecolor": "#506784",
            "ticks": ""
           },
           "bgcolor": "rgb(17,17,17)",
           "caxis": {
            "gridcolor": "#506784",
            "linecolor": "#506784",
            "ticks": ""
           }
          },
          "title": {
           "x": 0.05
          },
          "updatemenudefaults": {
           "bgcolor": "#506784",
           "borderwidth": 0
          },
          "xaxis": {
           "automargin": true,
           "gridcolor": "#283442",
           "linecolor": "#506784",
           "ticks": "",
           "title": {
            "standoff": 15
           },
           "zerolinecolor": "#283442",
           "zerolinewidth": 2
          },
          "yaxis": {
           "automargin": true,
           "gridcolor": "#283442",
           "linecolor": "#506784",
           "ticks": "",
           "title": {
            "standoff": 15
           },
           "zerolinecolor": "#283442",
           "zerolinewidth": 2
          }
         }
        },
        "title": {
         "text": "Max Averaged Lightcurve of comet C/2017 K2 (Tsuchinshan-ATLAS)"
        },
        "xaxis": {
         "anchor": "y",
         "domain": [
          0,
          1
         ],
         "title": {
          "text": "Observation Date"
         }
        },
        "yaxis": {
         "anchor": "x",
         "autorange": "reversed",
         "domain": [
          0,
          1
         ],
         "title": {
          "text": "promedio_movil"
         }
        }
       }
      }
     },
     "metadata": {},
     "output_type": "display_data"
    }
   ],
   "source": [
    "# Gráfica de lus promediada\n",
    "labels = {'obs_date':'Observation Date','magnitud_reducida':'Magnitude reduced'}\n",
    "fig = px.scatter(curva_de_luz_interna_df, x=curva_de_luz_interna_df.obs_date, y='promedio_movil', template= 'plotly_dark', labels= labels, title=f'Max Averaged Lightcurve of comet {nombre_cometa} (Tsuchinshan-ATLAS)')\n",
    "fig.update_traces(marker=dict(color='yellow', size=6, line=dict(width=1, color='DarkSlateGrey')))\n",
    "fig.update_yaxes(autorange=\"reversed\")\n",
    "fig.show()"
   ]
  },
  {
   "cell_type": "markdown",
   "metadata": {},
   "source": [
    "# Curva de luz Externa (Envolvente)"
   ]
  },
  {
   "cell_type": "code",
   "execution_count": 100,
   "metadata": {},
   "outputs": [
    {
     "data": {
      "text/html": [
       "<div>\n",
       "<style scoped>\n",
       "    .dataframe tbody tr th:only-of-type {\n",
       "        vertical-align: middle;\n",
       "    }\n",
       "\n",
       "    .dataframe tbody tr th {\n",
       "        vertical-align: top;\n",
       "    }\n",
       "\n",
       "    .dataframe thead th {\n",
       "        text-align: right;\n",
       "    }\n",
       "</style>\n",
       "<table border=\"1\" class=\"dataframe\">\n",
       "  <thead>\n",
       "    <tr style=\"text-align: right;\">\n",
       "      <th></th>\n",
       "      <th>obs_date</th>\n",
       "      <th>obs_method_key</th>\n",
       "      <th>magnitude</th>\n",
       "      <th>delta</th>\n",
       "      <th>r</th>\n",
       "      <th>phase</th>\n",
       "      <th>magnitud_reducida</th>\n",
       "    </tr>\n",
       "  </thead>\n",
       "  <tbody>\n",
       "    <tr>\n",
       "      <th>0</th>\n",
       "      <td>2017-06-02</td>\n",
       "      <td>C</td>\n",
       "      <td>18.2</td>\n",
       "      <td>15.953</td>\n",
       "      <td>16.023</td>\n",
       "      <td>3.6</td>\n",
       "      <td>-3.637931</td>\n",
       "    </tr>\n",
       "    <tr>\n",
       "      <th>1</th>\n",
       "      <td>2017-06-12</td>\n",
       "      <td>C</td>\n",
       "      <td>17.8</td>\n",
       "      <td>15.898</td>\n",
       "      <td>15.966</td>\n",
       "      <td>3.6</td>\n",
       "      <td>-3.322693</td>\n",
       "    </tr>\n",
       "    <tr>\n",
       "      <th>2</th>\n",
       "      <td>2017-06-14</td>\n",
       "      <td>C</td>\n",
       "      <td>18.4</td>\n",
       "      <td>15.887</td>\n",
       "      <td>15.955</td>\n",
       "      <td>3.6</td>\n",
       "      <td>-3.319694</td>\n",
       "    </tr>\n",
       "    <tr>\n",
       "      <th>3</th>\n",
       "      <td>2017-06-16</td>\n",
       "      <td>C</td>\n",
       "      <td>18.5</td>\n",
       "      <td>15.877</td>\n",
       "      <td>15.943</td>\n",
       "      <td>3.7</td>\n",
       "      <td>-2.816692</td>\n",
       "    </tr>\n",
       "    <tr>\n",
       "      <th>4</th>\n",
       "      <td>2017-06-17</td>\n",
       "      <td>C</td>\n",
       "      <td>17.8</td>\n",
       "      <td>15.871</td>\n",
       "      <td>15.937</td>\n",
       "      <td>3.7</td>\n",
       "      <td>-3.415054</td>\n",
       "    </tr>\n",
       "    <tr>\n",
       "      <th>...</th>\n",
       "      <td>...</td>\n",
       "      <td>...</td>\n",
       "      <td>...</td>\n",
       "      <td>...</td>\n",
       "      <td>...</td>\n",
       "      <td>...</td>\n",
       "      <td>...</td>\n",
       "    </tr>\n",
       "    <tr>\n",
       "      <th>305</th>\n",
       "      <td>2021-05-03</td>\n",
       "      <td>Z</td>\n",
       "      <td>13.8</td>\n",
       "      <td>6.163</td>\n",
       "      <td>6.469</td>\n",
       "      <td>8.7</td>\n",
       "      <td>6.196853</td>\n",
       "    </tr>\n",
       "    <tr>\n",
       "      <th>306</th>\n",
       "      <td>2021-05-04</td>\n",
       "      <td>Z</td>\n",
       "      <td>12.6</td>\n",
       "      <td>6.149</td>\n",
       "      <td>6.461</td>\n",
       "      <td>8.7</td>\n",
       "      <td>6.104479</td>\n",
       "    </tr>\n",
       "    <tr>\n",
       "      <th>307</th>\n",
       "      <td>2021-05-05</td>\n",
       "      <td>Z</td>\n",
       "      <td>13.8</td>\n",
       "      <td>6.134</td>\n",
       "      <td>6.453</td>\n",
       "      <td>8.7</td>\n",
       "      <td>6.012473</td>\n",
       "    </tr>\n",
       "    <tr>\n",
       "      <th>308</th>\n",
       "      <td>2021-05-08</td>\n",
       "      <td>S</td>\n",
       "      <td>13.5</td>\n",
       "      <td>6.092</td>\n",
       "      <td>6.428</td>\n",
       "      <td>8.7</td>\n",
       "      <td>6.135821</td>\n",
       "    </tr>\n",
       "    <tr>\n",
       "      <th>309</th>\n",
       "      <td>2021-05-11</td>\n",
       "      <td>C</td>\n",
       "      <td>13.4</td>\n",
       "      <td>6.050</td>\n",
       "      <td>6.404</td>\n",
       "      <td>8.7</td>\n",
       "      <td>6.958967</td>\n",
       "    </tr>\n",
       "  </tbody>\n",
       "</table>\n",
       "<p>310 rows × 7 columns</p>\n",
       "</div>"
      ],
      "text/plain": [
       "      obs_date obs_method_key  magnitude   delta       r  phase  \\\n",
       "0   2017-06-02              C       18.2  15.953  16.023    3.6   \n",
       "1   2017-06-12              C       17.8  15.898  15.966    3.6   \n",
       "2   2017-06-14              C       18.4  15.887  15.955    3.6   \n",
       "3   2017-06-16              C       18.5  15.877  15.943    3.7   \n",
       "4   2017-06-17              C       17.8  15.871  15.937    3.7   \n",
       "..         ...            ...        ...     ...     ...    ...   \n",
       "305 2021-05-03              Z       13.8   6.163   6.469    8.7   \n",
       "306 2021-05-04              Z       12.6   6.149   6.461    8.7   \n",
       "307 2021-05-05              Z       13.8   6.134   6.453    8.7   \n",
       "308 2021-05-08              S       13.5   6.092   6.428    8.7   \n",
       "309 2021-05-11              C       13.4   6.050   6.404    8.7   \n",
       "\n",
       "     magnitud_reducida  \n",
       "0            -3.637931  \n",
       "1            -3.322693  \n",
       "2            -3.319694  \n",
       "3            -2.816692  \n",
       "4            -3.415054  \n",
       "..                 ...  \n",
       "305           6.196853  \n",
       "306           6.104479  \n",
       "307           6.012473  \n",
       "308           6.135821  \n",
       "309           6.958967  \n",
       "\n",
       "[310 rows x 7 columns]"
      ]
     },
     "execution_count": 100,
     "metadata": {},
     "output_type": "execute_result"
    }
   ],
   "source": [
    "# Creación del data frame curva de luz agrupada\n",
    "curva_de_luz_externa_df = curva_de_luz_procesada_df.groupby(by = 'obs_date').min()\n",
    "curva_de_luz_externa_df = curva_de_luz_externa_df.reset_index()\n",
    "curva_de_luz_externa_df"
   ]
  },
  {
   "cell_type": "code",
   "execution_count": 101,
   "metadata": {},
   "outputs": [
    {
     "data": {
      "text/html": [
       "<div>\n",
       "<style scoped>\n",
       "    .dataframe tbody tr th:only-of-type {\n",
       "        vertical-align: middle;\n",
       "    }\n",
       "\n",
       "    .dataframe tbody tr th {\n",
       "        vertical-align: top;\n",
       "    }\n",
       "\n",
       "    .dataframe thead th {\n",
       "        text-align: right;\n",
       "    }\n",
       "</style>\n",
       "<table border=\"1\" class=\"dataframe\">\n",
       "  <thead>\n",
       "    <tr style=\"text-align: right;\">\n",
       "      <th></th>\n",
       "      <th>obs_date</th>\n",
       "      <th>obs_method_key</th>\n",
       "      <th>magnitude</th>\n",
       "      <th>delta</th>\n",
       "      <th>r</th>\n",
       "      <th>phase</th>\n",
       "      <th>magnitud_reducida</th>\n",
       "      <th>promedio_movil</th>\n",
       "    </tr>\n",
       "  </thead>\n",
       "  <tbody>\n",
       "    <tr>\n",
       "      <th>0</th>\n",
       "      <td>2017-06-02</td>\n",
       "      <td>C</td>\n",
       "      <td>18.2</td>\n",
       "      <td>15.953</td>\n",
       "      <td>16.023</td>\n",
       "      <td>3.6</td>\n",
       "      <td>-3.637931</td>\n",
       "      <td>NaN</td>\n",
       "    </tr>\n",
       "    <tr>\n",
       "      <th>1</th>\n",
       "      <td>2017-06-12</td>\n",
       "      <td>C</td>\n",
       "      <td>17.8</td>\n",
       "      <td>15.898</td>\n",
       "      <td>15.966</td>\n",
       "      <td>3.6</td>\n",
       "      <td>-3.322693</td>\n",
       "      <td>NaN</td>\n",
       "    </tr>\n",
       "    <tr>\n",
       "      <th>2</th>\n",
       "      <td>2017-06-14</td>\n",
       "      <td>C</td>\n",
       "      <td>18.4</td>\n",
       "      <td>15.887</td>\n",
       "      <td>15.955</td>\n",
       "      <td>3.6</td>\n",
       "      <td>-3.319694</td>\n",
       "      <td>NaN</td>\n",
       "    </tr>\n",
       "    <tr>\n",
       "      <th>3</th>\n",
       "      <td>2017-06-16</td>\n",
       "      <td>C</td>\n",
       "      <td>18.5</td>\n",
       "      <td>15.877</td>\n",
       "      <td>15.943</td>\n",
       "      <td>3.7</td>\n",
       "      <td>-2.816692</td>\n",
       "      <td>NaN</td>\n",
       "    </tr>\n",
       "    <tr>\n",
       "      <th>4</th>\n",
       "      <td>2017-06-17</td>\n",
       "      <td>C</td>\n",
       "      <td>17.8</td>\n",
       "      <td>15.871</td>\n",
       "      <td>15.937</td>\n",
       "      <td>3.7</td>\n",
       "      <td>-3.415054</td>\n",
       "      <td>NaN</td>\n",
       "    </tr>\n",
       "    <tr>\n",
       "      <th>...</th>\n",
       "      <td>...</td>\n",
       "      <td>...</td>\n",
       "      <td>...</td>\n",
       "      <td>...</td>\n",
       "      <td>...</td>\n",
       "      <td>...</td>\n",
       "      <td>...</td>\n",
       "      <td>...</td>\n",
       "    </tr>\n",
       "    <tr>\n",
       "      <th>305</th>\n",
       "      <td>2021-05-03</td>\n",
       "      <td>Z</td>\n",
       "      <td>13.8</td>\n",
       "      <td>6.163</td>\n",
       "      <td>6.469</td>\n",
       "      <td>8.7</td>\n",
       "      <td>6.196853</td>\n",
       "      <td>6.315671</td>\n",
       "    </tr>\n",
       "    <tr>\n",
       "      <th>306</th>\n",
       "      <td>2021-05-04</td>\n",
       "      <td>Z</td>\n",
       "      <td>12.6</td>\n",
       "      <td>6.149</td>\n",
       "      <td>6.461</td>\n",
       "      <td>8.7</td>\n",
       "      <td>6.104479</td>\n",
       "      <td>6.256603</td>\n",
       "    </tr>\n",
       "    <tr>\n",
       "      <th>307</th>\n",
       "      <td>2021-05-05</td>\n",
       "      <td>Z</td>\n",
       "      <td>13.8</td>\n",
       "      <td>6.134</td>\n",
       "      <td>6.453</td>\n",
       "      <td>8.7</td>\n",
       "      <td>6.012473</td>\n",
       "      <td>6.296439</td>\n",
       "    </tr>\n",
       "    <tr>\n",
       "      <th>308</th>\n",
       "      <td>2021-05-08</td>\n",
       "      <td>S</td>\n",
       "      <td>13.5</td>\n",
       "      <td>6.092</td>\n",
       "      <td>6.428</td>\n",
       "      <td>8.7</td>\n",
       "      <td>6.135821</td>\n",
       "      <td>6.238490</td>\n",
       "    </tr>\n",
       "    <tr>\n",
       "      <th>309</th>\n",
       "      <td>2021-05-11</td>\n",
       "      <td>C</td>\n",
       "      <td>13.4</td>\n",
       "      <td>6.050</td>\n",
       "      <td>6.404</td>\n",
       "      <td>8.7</td>\n",
       "      <td>6.958967</td>\n",
       "      <td>6.295835</td>\n",
       "    </tr>\n",
       "  </tbody>\n",
       "</table>\n",
       "<p>310 rows × 8 columns</p>\n",
       "</div>"
      ],
      "text/plain": [
       "      obs_date obs_method_key  magnitude   delta       r  phase  \\\n",
       "0   2017-06-02              C       18.2  15.953  16.023    3.6   \n",
       "1   2017-06-12              C       17.8  15.898  15.966    3.6   \n",
       "2   2017-06-14              C       18.4  15.887  15.955    3.6   \n",
       "3   2017-06-16              C       18.5  15.877  15.943    3.7   \n",
       "4   2017-06-17              C       17.8  15.871  15.937    3.7   \n",
       "..         ...            ...        ...     ...     ...    ...   \n",
       "305 2021-05-03              Z       13.8   6.163   6.469    8.7   \n",
       "306 2021-05-04              Z       12.6   6.149   6.461    8.7   \n",
       "307 2021-05-05              Z       13.8   6.134   6.453    8.7   \n",
       "308 2021-05-08              S       13.5   6.092   6.428    8.7   \n",
       "309 2021-05-11              C       13.4   6.050   6.404    8.7   \n",
       "\n",
       "     magnitud_reducida  promedio_movil  \n",
       "0            -3.637931             NaN  \n",
       "1            -3.322693             NaN  \n",
       "2            -3.319694             NaN  \n",
       "3            -2.816692             NaN  \n",
       "4            -3.415054             NaN  \n",
       "..                 ...             ...  \n",
       "305           6.196853        6.315671  \n",
       "306           6.104479        6.256603  \n",
       "307           6.012473        6.296439  \n",
       "308           6.135821        6.238490  \n",
       "309           6.958967        6.295835  \n",
       "\n",
       "[310 rows x 8 columns]"
      ]
     },
     "execution_count": 101,
     "metadata": {},
     "output_type": "execute_result"
    }
   ],
   "source": [
    "# Creación del data frame curva de luz promediada\n",
    "numero_elementos_grupo = 7\n",
    "\n",
    "curva_de_luz_externa_df = curva_de_luz_externa_df.copy()\n",
    "curva_de_luz_externa_df['promedio_movil'] = curva_de_luz_externa_df.magnitud_reducida.rolling(window = numero_elementos_grupo).mean()\n",
    "curva_de_luz_externa_df"
   ]
  },
  {
   "cell_type": "code",
   "execution_count": 102,
   "metadata": {},
   "outputs": [
    {
     "data": {
      "application/vnd.plotly.v1+json": {
       "config": {
        "plotlyServerURL": "https://plot.ly"
       },
       "data": [
        {
         "hovertemplate": "Observation Method=C<br>Observation Date=%{x}<br>Max apparent total magnitude reduced=%{y}<extra></extra>",
         "legendgroup": "C",
         "marker": {
          "color": "#636efa",
          "symbol": "circle"
         },
         "mode": "markers",
         "name": "C",
         "orientation": "v",
         "showlegend": true,
         "type": "scatter",
         "x": [
          "2017-06-02T00:00:00",
          "2017-06-12T00:00:00",
          "2017-06-14T00:00:00",
          "2017-06-16T00:00:00",
          "2017-06-17T00:00:00",
          "2017-06-21T00:00:00",
          "2017-07-18T00:00:00",
          "2017-07-31T00:00:00",
          "2017-08-29T00:00:00",
          "2017-09-12T00:00:00",
          "2017-09-19T00:00:00",
          "2017-09-20T00:00:00",
          "2017-10-08T00:00:00",
          "2017-10-11T00:00:00",
          "2017-10-14T00:00:00",
          "2018-01-24T00:00:00",
          "2018-02-15T00:00:00",
          "2018-02-18T00:00:00",
          "2018-03-17T00:00:00",
          "2018-03-20T00:00:00",
          "2018-03-25T00:00:00",
          "2018-04-07T00:00:00",
          "2018-04-16T00:00:00",
          "2018-05-05T00:00:00",
          "2018-06-08T00:00:00",
          "2018-06-24T00:00:00",
          "2018-07-14T00:00:00",
          "2018-08-03T00:00:00",
          "2018-08-28T00:00:00",
          "2018-09-27T00:00:00",
          "2018-09-29T00:00:00",
          "2018-10-04T00:00:00",
          "2018-10-08T00:00:00",
          "2018-10-11T00:00:00",
          "2018-10-12T00:00:00",
          "2018-10-31T00:00:00",
          "2019-02-17T00:00:00",
          "2019-03-11T00:00:00",
          "2019-03-27T00:00:00",
          "2019-04-23T00:00:00",
          "2019-04-25T00:00:00",
          "2019-05-23T00:00:00",
          "2019-06-07T00:00:00",
          "2019-06-27T00:00:00",
          "2019-08-30T00:00:00",
          "2019-10-29T00:00:00",
          "2020-01-29T00:00:00",
          "2020-02-02T00:00:00",
          "2020-02-18T00:00:00",
          "2020-03-08T00:00:00",
          "2020-03-11T00:00:00",
          "2020-03-21T00:00:00",
          "2020-03-24T00:00:00",
          "2020-03-29T00:00:00",
          "2020-04-01T00:00:00",
          "2020-04-20T00:00:00",
          "2020-04-23T00:00:00",
          "2020-04-28T00:00:00",
          "2020-05-06T00:00:00",
          "2020-05-07T00:00:00",
          "2020-05-15T00:00:00",
          "2020-05-24T00:00:00",
          "2020-06-19T00:00:00",
          "2020-06-20T00:00:00",
          "2020-06-23T00:00:00",
          "2020-07-06T00:00:00",
          "2020-07-07T00:00:00",
          "2020-07-10T00:00:00",
          "2020-07-11T00:00:00",
          "2020-07-29T00:00:00",
          "2020-08-07T00:00:00",
          "2020-08-08T00:00:00",
          "2020-08-16T00:00:00",
          "2020-08-23T00:00:00",
          "2020-08-24T00:00:00",
          "2020-09-11T00:00:00",
          "2020-09-12T00:00:00",
          "2020-09-13T00:00:00",
          "2020-09-14T00:00:00",
          "2020-09-18T00:00:00",
          "2020-09-23T00:00:00",
          "2020-10-11T00:00:00",
          "2020-10-12T00:00:00",
          "2020-11-02T00:00:00",
          "2021-01-31T00:00:00",
          "2021-02-08T00:00:00",
          "2021-02-09T00:00:00",
          "2021-02-15T00:00:00",
          "2021-02-17T00:00:00",
          "2021-02-19T00:00:00",
          "2021-02-21T00:00:00",
          "2021-03-09T00:00:00",
          "2021-03-10T00:00:00",
          "2021-03-14T00:00:00",
          "2021-03-16T00:00:00",
          "2021-03-17T00:00:00",
          "2021-03-23T00:00:00",
          "2021-04-05T00:00:00",
          "2021-04-06T00:00:00",
          "2021-04-13T00:00:00",
          "2021-04-17T00:00:00",
          "2021-04-18T00:00:00",
          "2021-05-02T00:00:00",
          "2021-05-11T00:00:00"
         ],
         "xaxis": "x",
         "y": [
          -3.6379309894171605,
          -3.322693087913702,
          -3.319693520361046,
          -2.8166924544032756,
          -3.4150543214196567,
          -3.309180098486376,
          -3.170182237312334,
          -3.4519361642294655,
          -3.3122715144362385,
          -3.0929299211399,
          -3.383507032813295,
          -3.0820987890080467,
          -3.2568128344845935,
          -3.152418426839647,
          -3.448019447268452,
          -3.3729957756998896,
          -1.3277232136373947,
          -1.6213019505378377,
          -2.863219480682691,
          -3.2566995521318898,
          -3.245912108908094,
          -2.9178276509548393,
          -2.798335106357708,
          -2.9581515823834135,
          -2.989930286658579,
          -2.6598720649471304,
          -1.224654827928891,
          -1.4910877622514676,
          -2.651069562020984,
          -2.6037360574482395,
          -2.6006047879447127,
          -2.9925181550965743,
          -2.8860697815467624,
          -2.5811028225676154,
          -2.979446382417475,
          -2.447008985867704,
          -2.7961881346379034,
          -2.732872793022141,
          -2.1856530374695016,
          -2.3060555620269856,
          -1.8003257558218255,
          -1.921371504557765,
          -1.5818412909765858,
          -1.5323774651982394,
          -0.6994919880911574,
          2.816166324198944,
          4.081446388872012,
          2.0965747730799933,
          3.159827056014999,
          2.4394774082426434,
          3.05226746375949,
          1.9958753839310859,
          2.6090725238183,
          3.3310111412609604,
          2.944552879903773,
          2.728404090368434,
          1.8418002429322406,
          2.5635122834681976,
          2.697964310535429,
          3.0022616410304312,
          2.5358163229336075,
          3.072784442031667,
          2.9713285921251718,
          2.7747979322419436,
          1.7852144855502505,
          3.028351784924137,
          4.2316118850271405,
          4.040888222087116,
          3.143902171779919,
          1.9961551389437027,
          4.01982152428886,
          2.522629860572721,
          4.542598153203025,
          2.759580005769907,
          3.861902759246746,
          3.6037392224668423,
          2.505833853710822,
          3.5081924007142717,
          3.7102904194834743,
          2.9194863314643076,
          3.030825174467454,
          3.07340513956027,
          3.6758215683878674,
          3.43143804432928,
          4.320671733013542,
          4.570423470884691,
          4.476649972459164,
          5.015671430155505,
          5.628864785884767,
          4.342398596740848,
          4.055669373017459,
          4.569373020664925,
          4.676525620664112,
          5.006222995515898,
          5.020999079392352,
          4.328565291497656,
          5.6742722984853025,
          5.17550237922419,
          5.983374038267318,
          6.038590555704371,
          6.47001368778586,
          6.178408486369252,
          5.9888909949033735,
          6.958966510501346
         ],
         "yaxis": "y"
        },
        {
         "hovertemplate": "Observation Method=Z<br>Observation Date=%{x}<br>Max apparent total magnitude reduced=%{y}<extra></extra>",
         "legendgroup": "Z",
         "marker": {
          "color": "#EF553B",
          "symbol": "circle"
         },
         "mode": "markers",
         "name": "Z",
         "orientation": "v",
         "showlegend": true,
         "type": "scatter",
         "x": [
          "2017-07-25T00:00:00",
          "2018-02-19T00:00:00",
          "2018-04-04T00:00:00",
          "2018-06-18T00:00:00",
          "2018-07-08T00:00:00",
          "2018-07-13T00:00:00",
          "2018-08-05T00:00:00",
          "2018-08-12T00:00:00",
          "2018-08-16T00:00:00",
          "2018-09-05T00:00:00",
          "2018-09-11T00:00:00",
          "2018-09-15T00:00:00",
          "2018-09-16T00:00:00",
          "2018-09-30T00:00:00",
          "2018-10-10T00:00:00",
          "2018-10-14T00:00:00",
          "2018-10-21T00:00:00",
          "2018-11-01T00:00:00",
          "2018-11-05T00:00:00",
          "2018-11-07T00:00:00",
          "2018-11-12T00:00:00",
          "2018-11-16T00:00:00",
          "2019-02-07T00:00:00",
          "2019-02-28T00:00:00",
          "2019-03-30T00:00:00",
          "2019-03-31T00:00:00",
          "2019-04-02T00:00:00",
          "2019-04-11T00:00:00",
          "2019-05-02T00:00:00",
          "2019-05-12T00:00:00",
          "2019-05-13T00:00:00",
          "2019-06-06T00:00:00",
          "2019-06-13T00:00:00",
          "2019-07-21T00:00:00",
          "2019-07-25T00:00:00",
          "2019-08-01T00:00:00",
          "2019-08-08T00:00:00",
          "2019-08-10T00:00:00",
          "2019-08-24T00:00:00",
          "2019-08-25T00:00:00",
          "2019-09-02T00:00:00",
          "2019-09-12T00:00:00",
          "2019-09-18T00:00:00",
          "2019-10-02T00:00:00",
          "2019-10-13T00:00:00",
          "2019-10-14T00:00:00",
          "2019-10-25T00:00:00",
          "2019-10-30T00:00:00",
          "2019-10-31T00:00:00",
          "2019-11-10T00:00:00",
          "2019-11-14T00:00:00",
          "2019-12-04T00:00:00",
          "2019-12-10T00:00:00",
          "2019-12-17T00:00:00",
          "2019-12-21T00:00:00",
          "2019-12-29T00:00:00",
          "2020-01-02T00:00:00",
          "2020-01-17T00:00:00",
          "2020-01-22T00:00:00",
          "2020-01-24T00:00:00",
          "2020-02-07T00:00:00",
          "2020-02-20T00:00:00",
          "2020-03-04T00:00:00",
          "2020-03-15T00:00:00",
          "2020-03-16T00:00:00",
          "2020-03-18T00:00:00",
          "2020-03-20T00:00:00",
          "2020-03-22T00:00:00",
          "2020-03-25T00:00:00",
          "2020-03-26T00:00:00",
          "2020-04-02T00:00:00",
          "2020-04-14T00:00:00",
          "2020-04-16T00:00:00",
          "2020-04-21T00:00:00",
          "2020-04-24T00:00:00",
          "2020-04-26T00:00:00",
          "2020-05-16T00:00:00",
          "2020-05-17T00:00:00",
          "2020-06-01T00:00:00",
          "2020-06-13T00:00:00",
          "2020-06-21T00:00:00",
          "2020-06-25T00:00:00",
          "2020-06-27T00:00:00",
          "2020-07-03T00:00:00",
          "2020-07-09T00:00:00",
          "2020-07-18T00:00:00",
          "2020-07-26T00:00:00",
          "2020-07-30T00:00:00",
          "2020-07-31T00:00:00",
          "2020-08-21T00:00:00",
          "2020-09-02T00:00:00",
          "2020-09-03T00:00:00",
          "2020-09-05T00:00:00",
          "2020-09-07T00:00:00",
          "2020-09-10T00:00:00",
          "2020-09-15T00:00:00",
          "2020-09-17T00:00:00",
          "2020-09-29T00:00:00",
          "2020-09-30T00:00:00",
          "2020-10-03T00:00:00",
          "2020-10-10T00:00:00",
          "2020-10-17T00:00:00",
          "2020-10-19T00:00:00",
          "2020-11-08T00:00:00",
          "2020-11-14T00:00:00",
          "2020-11-18T00:00:00",
          "2020-11-20T00:00:00",
          "2020-11-21T00:00:00",
          "2020-11-23T00:00:00",
          "2020-11-24T00:00:00",
          "2020-11-25T00:00:00",
          "2020-12-08T00:00:00",
          "2020-12-19T00:00:00",
          "2020-12-26T00:00:00",
          "2020-12-27T00:00:00",
          "2021-01-11T00:00:00",
          "2021-01-16T00:00:00",
          "2021-01-17T00:00:00",
          "2021-01-18T00:00:00",
          "2021-01-24T00:00:00",
          "2021-01-25T00:00:00",
          "2021-02-05T00:00:00",
          "2021-02-11T00:00:00",
          "2021-02-22T00:00:00",
          "2021-02-24T00:00:00",
          "2021-03-06T00:00:00",
          "2021-03-07T00:00:00",
          "2021-03-20T00:00:00",
          "2021-03-22T00:00:00",
          "2021-03-30T00:00:00",
          "2021-04-04T00:00:00",
          "2021-04-09T00:00:00",
          "2021-04-15T00:00:00",
          "2021-04-21T00:00:00",
          "2021-04-23T00:00:00",
          "2021-04-25T00:00:00",
          "2021-04-26T00:00:00",
          "2021-04-28T00:00:00",
          "2021-04-30T00:00:00",
          "2021-05-03T00:00:00",
          "2021-05-04T00:00:00",
          "2021-05-05T00:00:00"
         ],
         "xaxis": "x",
         "y": [
          -3.660239534207646,
          -2.4192091215318072,
          -2.8242545362850535,
          -3.0711282236633775,
          -2.635041545169363,
          -2.526254102759175,
          -2.7877005321737567,
          -3.0765514836494425,
          -2.970074363841558,
          -2.9385128619517165,
          -2.4291920973335532,
          -2.4228023893744766,
          -2.421326212498638,
          -2.6991203012675395,
          -2.982758604683255,
          -2.8761297571341142,
          -2.8641726139386385,
          -3.345005241186306,
          -3.2378175263225657,
          -2.9343033067082587,
          -2.9249178141762933,
          -3.0175292989621685,
          -2.824162725400983,
          -2.8650061123037283,
          -2.1767618817435377,
          -0.6736729703837643,
          -2.1678522694427738,
          -2.241190770548396,
          -2.4799309908220444,
          -2.051777799401462,
          -1.7487840159496333,
          -1.584308095759507,
          -1.3664284343403903,
          -1.3786976241018802,
          -1.070143423241797,
          -0.9557199218938912,
          -0.941834208046652,
          -0.8377184858455706,
          -0.6107631534094011,
          -0.6089856027016278,
          -0.3939427660512216,
          0.6245495422963767,
          0.635731139689705,
          2.9620236735633316,
          2.8832303583354104,
          2.9852562318584415,
          1.907806480757145,
          4.01820986189021,
          3.320455873991298,
          2.6425707999101604,
          3.651814031588314,
          2.401832879230927,
          3.6182644035320646,
          2.7383108956732265,
          3.6500375829162266,
          2.4746381128914745,
          2.087297386819003,
          2.238080980454166,
          2.1558505232352907,
          3.7629312688462324,
          2.6158859382585664,
          3.6679654822687358,
          2.622261975338665,
          2.669609122265518,
          3.0738997444534846,
          2.6827209038131077,
          2.6915615361721716,
          3.2004212809224057,
          2.1134050675788814,
          3.1179708763165337,
          2.4489235055203906,
          3.1019731791121927,
          2.811075570043686,
          2.433098446616542,
          3.146039465310597,
          2.7547688598259086,
          2.2399094058673796,
          2.5440064887792353,
          2.9044300142043262,
          2.549835062226135,
          2.8782700467845483,
          2.591925228026833,
          3.198891599936898,
          2.7188484258576935,
          3.0378764108340963,
          3.5650386319305287,
          4.188042101199958,
          2.798693258363258,
          2.3014911821040513,
          4.454682332277136,
          3.482878006830166,
          3.1852173185203725,
          3.6899019850296586,
          3.2945939621090616,
          2.90112386577003,
          3.512390025325992,
          4.017118181338056,
          3.4448652491488794,
          4.046990903973931,
          null,
          3.1709979477169163,
          2.188172788560925,
          2.29355729516033,
          3.8491300070720005,
          4.267424061098181,
          3.280301604396543,
          3.3868820804223887,
          4.090183494657881,
          3.697046214088436,
          3.5006222683120445,
          4.904201462843062,
          3.4522975211927864,
          4.697709931391115,
          4.428844799168022,
          4.133628441312268,
          4.207628622978982,
          4.934269071897711,
          4.039732779505512,
          4.945485003807896,
          3.7792967200586407,
          4.885103206591179,
          4.551220040978132,
          5.489412107748812,
          4.862625533205874,
          5.476574202724068,
          5.4476706039689855,
          5.654788971363972,
          5.3513520517405375,
          4.966617280152981,
          4.828281603077455,
          6.867646605603166,
          5.307085027283948,
          5.654270580247442,
          6.802022051046075,
          6.517958549034265,
          5.733614688990478,
          6.541466179240864,
          6.557549922034925,
          6.673364258709235,
          6.19685340564418,
          6.104478829575914,
          6.012472816232042
         ],
         "yaxis": "y"
        },
        {
         "hovertemplate": "Observation Method=k<br>Observation Date=%{x}<br>Max apparent total magnitude reduced=%{y}<extra></extra>",
         "legendgroup": "k",
         "marker": {
          "color": "#00cc96",
          "symbol": "circle"
         },
         "mode": "markers",
         "name": "k",
         "orientation": "v",
         "showlegend": true,
         "type": "scatter",
         "x": [
          "2018-02-24T00:00:00",
          "2018-02-25T00:00:00"
         ],
         "xaxis": "x",
         "y": [
          -2.8085798304211966,
          -3.0064807289910167
         ],
         "yaxis": "y"
        },
        {
         "hovertemplate": "Observation Method=V<br>Observation Date=%{x}<br>Max apparent total magnitude reduced=%{y}<extra></extra>",
         "legendgroup": "V",
         "marker": {
          "color": "#ab63fa",
          "symbol": "circle"
         },
         "mode": "markers",
         "name": "V",
         "orientation": "v",
         "showlegend": true,
         "type": "scatter",
         "x": [
          "2019-01-13T00:00:00",
          "2019-02-02T00:00:00",
          "2019-03-02T00:00:00",
          "2019-03-17T00:00:00",
          "2019-04-07T00:00:00",
          "2019-04-15T00:00:00",
          "2019-04-28T00:00:00",
          "2019-05-07T00:00:00",
          "2019-05-29T00:00:00",
          "2019-06-09T00:00:00",
          "2019-07-05T00:00:00",
          "2019-07-23T00:00:00",
          "2019-07-31T00:00:00",
          "2019-08-09T00:00:00",
          "2019-08-22T00:00:00",
          "2019-09-19T00:00:00",
          "2019-09-21T00:00:00",
          "2019-09-25T00:00:00",
          "2019-10-23T00:00:00",
          "2020-01-01T00:00:00",
          "2020-02-21T00:00:00",
          "2020-02-28T00:00:00",
          "2020-05-13T00:00:00",
          "2020-05-21T00:00:00",
          "2020-06-12T00:00:00",
          "2020-06-18T00:00:00",
          "2020-06-24T00:00:00",
          "2020-07-19T00:00:00",
          "2020-08-09T00:00:00",
          "2020-08-22T00:00:00",
          "2020-10-09T00:00:00",
          "2020-10-24T00:00:00",
          "2020-11-06T00:00:00",
          "2020-11-16T00:00:00",
          "2020-12-06T00:00:00",
          "2021-04-03T00:00:00"
         ],
         "xaxis": "x",
         "y": [
          -3.1897721616703256,
          -2.9378186821028507,
          -2.3591335646273652,
          -2.915273023766046,
          -2.0530815370473388,
          -2.329450273316189,
          -2.4914381907589362,
          -2.3655976756890915,
          -1.8051470268754048,
          -1.6767087250388233,
          -1.4139113873535454,
          -1.1742280494851975,
          -1.2578671765460463,
          -0.9398753782088534,
          -1.3147099299578766,
          0.0377310969466933,
          0.3413343356036016,
          1.4487527985179884,
          0.7035308154145223,
          -0.21608081312284533,
          2.772150331311492,
          2.501123180083672,
          2.627405593857853,
          1.9604280833573355,
          2.4461353011740563,
          2.3676185697451135,
          2.68869493702252,
          2.0678131978197065,
          2.6251860325730636,
          4.05700163475276,
          3.2685856143268577,
          3.6067763681933407,
          3.542863329762284,
          4.473996820718469,
          4.144253836627714,
          5.959806648188833
         ],
         "yaxis": "y"
        },
        {
         "hovertemplate": "Observation Method=S<br>Observation Date=%{x}<br>Max apparent total magnitude reduced=%{y}<extra></extra>",
         "legendgroup": "S",
         "marker": {
          "color": "#FFA15A",
          "symbol": "circle"
         },
         "mode": "markers",
         "name": "S",
         "orientation": "v",
         "showlegend": true,
         "type": "scatter",
         "x": [
          "2019-08-27T00:00:00",
          "2019-08-28T00:00:00",
          "2019-08-31T00:00:00",
          "2020-03-23T00:00:00",
          "2020-04-18T00:00:00",
          "2020-07-12T00:00:00",
          "2020-08-14T00:00:00",
          "2020-08-19T00:00:00",
          "2020-08-20T00:00:00",
          "2020-09-09T00:00:00",
          "2020-09-16T00:00:00",
          "2020-09-19T00:00:00",
          "2020-09-21T00:00:00",
          "2020-11-05T00:00:00",
          "2021-03-13T00:00:00",
          "2021-03-19T00:00:00",
          "2021-04-01T00:00:00",
          "2021-04-14T00:00:00",
          "2021-04-19T00:00:00",
          "2021-05-08T00:00:00"
         ],
         "xaxis": "x",
         "y": [
          -0.6052308049931678,
          0.6965493345400073,
          -0.49770925123520726,
          2.8047445983964554,
          2.0197306461975923,
          3.1471665873822143,
          2.937725840568138,
          2.649792000052381,
          3.9523646445792,
          2.9990326412952726,
          3.3150151388411953,
          1.9215927914887772,
          4.4260747352261625,
          4.340141459346082,
          7.298699640018501,
          4.7437417161466,
          5.444173907482744,
          5.34625443118094,
          6.286150314519658,
          6.13582118622344
         ],
         "yaxis": "y"
        },
        {
         "hovertemplate": "Observation Method=I<br>Observation Date=%{x}<br>Max apparent total magnitude reduced=%{y}<extra></extra>",
         "legendgroup": "I",
         "marker": {
          "color": "#19d3f3",
          "symbol": "circle"
         },
         "mode": "markers",
         "name": "I",
         "orientation": "v",
         "showlegend": true,
         "type": "scatter",
         "x": [
          "2020-08-25T00:00:00",
          "2020-10-16T00:00:00"
         ],
         "xaxis": "x",
         "y": [
          2.7642250977573113,
          4.98575440362775
         ],
         "yaxis": "y"
        },
        {
         "hovertemplate": "Observation Method=M<br>Observation Date=%{x}<br>Max apparent total magnitude reduced=%{y}<extra></extra>",
         "legendgroup": "M",
         "marker": {
          "color": "#FF6692",
          "symbol": "circle"
         },
         "mode": "markers",
         "name": "M",
         "orientation": "v",
         "showlegend": true,
         "type": "scatter",
         "x": [
          "2021-03-24T00:00:00",
          "2021-03-25T00:00:00",
          "2021-04-10T00:00:00",
          "2021-04-12T00:00:00"
         ],
         "xaxis": "x",
         "y": [
          4.381942337275024,
          4.989627460330992,
          5.314687600703513,
          4.930606548750879
         ],
         "yaxis": "y"
        }
       ],
       "layout": {
        "legend": {
         "title": {
          "text": "Observation Method"
         },
         "tracegroupgap": 0
        },
        "template": {
         "data": {
          "bar": [
           {
            "error_x": {
             "color": "#f2f5fa"
            },
            "error_y": {
             "color": "#f2f5fa"
            },
            "marker": {
             "line": {
              "color": "rgb(17,17,17)",
              "width": 0.5
             },
             "pattern": {
              "fillmode": "overlay",
              "size": 10,
              "solidity": 0.2
             }
            },
            "type": "bar"
           }
          ],
          "barpolar": [
           {
            "marker": {
             "line": {
              "color": "rgb(17,17,17)",
              "width": 0.5
             },
             "pattern": {
              "fillmode": "overlay",
              "size": 10,
              "solidity": 0.2
             }
            },
            "type": "barpolar"
           }
          ],
          "carpet": [
           {
            "aaxis": {
             "endlinecolor": "#A2B1C6",
             "gridcolor": "#506784",
             "linecolor": "#506784",
             "minorgridcolor": "#506784",
             "startlinecolor": "#A2B1C6"
            },
            "baxis": {
             "endlinecolor": "#A2B1C6",
             "gridcolor": "#506784",
             "linecolor": "#506784",
             "minorgridcolor": "#506784",
             "startlinecolor": "#A2B1C6"
            },
            "type": "carpet"
           }
          ],
          "choropleth": [
           {
            "colorbar": {
             "outlinewidth": 0,
             "ticks": ""
            },
            "type": "choropleth"
           }
          ],
          "contour": [
           {
            "colorbar": {
             "outlinewidth": 0,
             "ticks": ""
            },
            "colorscale": [
             [
              0,
              "#0d0887"
             ],
             [
              0.1111111111111111,
              "#46039f"
             ],
             [
              0.2222222222222222,
              "#7201a8"
             ],
             [
              0.3333333333333333,
              "#9c179e"
             ],
             [
              0.4444444444444444,
              "#bd3786"
             ],
             [
              0.5555555555555556,
              "#d8576b"
             ],
             [
              0.6666666666666666,
              "#ed7953"
             ],
             [
              0.7777777777777778,
              "#fb9f3a"
             ],
             [
              0.8888888888888888,
              "#fdca26"
             ],
             [
              1,
              "#f0f921"
             ]
            ],
            "type": "contour"
           }
          ],
          "contourcarpet": [
           {
            "colorbar": {
             "outlinewidth": 0,
             "ticks": ""
            },
            "type": "contourcarpet"
           }
          ],
          "heatmap": [
           {
            "colorbar": {
             "outlinewidth": 0,
             "ticks": ""
            },
            "colorscale": [
             [
              0,
              "#0d0887"
             ],
             [
              0.1111111111111111,
              "#46039f"
             ],
             [
              0.2222222222222222,
              "#7201a8"
             ],
             [
              0.3333333333333333,
              "#9c179e"
             ],
             [
              0.4444444444444444,
              "#bd3786"
             ],
             [
              0.5555555555555556,
              "#d8576b"
             ],
             [
              0.6666666666666666,
              "#ed7953"
             ],
             [
              0.7777777777777778,
              "#fb9f3a"
             ],
             [
              0.8888888888888888,
              "#fdca26"
             ],
             [
              1,
              "#f0f921"
             ]
            ],
            "type": "heatmap"
           }
          ],
          "heatmapgl": [
           {
            "colorbar": {
             "outlinewidth": 0,
             "ticks": ""
            },
            "colorscale": [
             [
              0,
              "#0d0887"
             ],
             [
              0.1111111111111111,
              "#46039f"
             ],
             [
              0.2222222222222222,
              "#7201a8"
             ],
             [
              0.3333333333333333,
              "#9c179e"
             ],
             [
              0.4444444444444444,
              "#bd3786"
             ],
             [
              0.5555555555555556,
              "#d8576b"
             ],
             [
              0.6666666666666666,
              "#ed7953"
             ],
             [
              0.7777777777777778,
              "#fb9f3a"
             ],
             [
              0.8888888888888888,
              "#fdca26"
             ],
             [
              1,
              "#f0f921"
             ]
            ],
            "type": "heatmapgl"
           }
          ],
          "histogram": [
           {
            "marker": {
             "pattern": {
              "fillmode": "overlay",
              "size": 10,
              "solidity": 0.2
             }
            },
            "type": "histogram"
           }
          ],
          "histogram2d": [
           {
            "colorbar": {
             "outlinewidth": 0,
             "ticks": ""
            },
            "colorscale": [
             [
              0,
              "#0d0887"
             ],
             [
              0.1111111111111111,
              "#46039f"
             ],
             [
              0.2222222222222222,
              "#7201a8"
             ],
             [
              0.3333333333333333,
              "#9c179e"
             ],
             [
              0.4444444444444444,
              "#bd3786"
             ],
             [
              0.5555555555555556,
              "#d8576b"
             ],
             [
              0.6666666666666666,
              "#ed7953"
             ],
             [
              0.7777777777777778,
              "#fb9f3a"
             ],
             [
              0.8888888888888888,
              "#fdca26"
             ],
             [
              1,
              "#f0f921"
             ]
            ],
            "type": "histogram2d"
           }
          ],
          "histogram2dcontour": [
           {
            "colorbar": {
             "outlinewidth": 0,
             "ticks": ""
            },
            "colorscale": [
             [
              0,
              "#0d0887"
             ],
             [
              0.1111111111111111,
              "#46039f"
             ],
             [
              0.2222222222222222,
              "#7201a8"
             ],
             [
              0.3333333333333333,
              "#9c179e"
             ],
             [
              0.4444444444444444,
              "#bd3786"
             ],
             [
              0.5555555555555556,
              "#d8576b"
             ],
             [
              0.6666666666666666,
              "#ed7953"
             ],
             [
              0.7777777777777778,
              "#fb9f3a"
             ],
             [
              0.8888888888888888,
              "#fdca26"
             ],
             [
              1,
              "#f0f921"
             ]
            ],
            "type": "histogram2dcontour"
           }
          ],
          "mesh3d": [
           {
            "colorbar": {
             "outlinewidth": 0,
             "ticks": ""
            },
            "type": "mesh3d"
           }
          ],
          "parcoords": [
           {
            "line": {
             "colorbar": {
              "outlinewidth": 0,
              "ticks": ""
             }
            },
            "type": "parcoords"
           }
          ],
          "pie": [
           {
            "automargin": true,
            "type": "pie"
           }
          ],
          "scatter": [
           {
            "marker": {
             "line": {
              "color": "#283442"
             }
            },
            "type": "scatter"
           }
          ],
          "scatter3d": [
           {
            "line": {
             "colorbar": {
              "outlinewidth": 0,
              "ticks": ""
             }
            },
            "marker": {
             "colorbar": {
              "outlinewidth": 0,
              "ticks": ""
             }
            },
            "type": "scatter3d"
           }
          ],
          "scattercarpet": [
           {
            "marker": {
             "colorbar": {
              "outlinewidth": 0,
              "ticks": ""
             }
            },
            "type": "scattercarpet"
           }
          ],
          "scattergeo": [
           {
            "marker": {
             "colorbar": {
              "outlinewidth": 0,
              "ticks": ""
             }
            },
            "type": "scattergeo"
           }
          ],
          "scattergl": [
           {
            "marker": {
             "line": {
              "color": "#283442"
             }
            },
            "type": "scattergl"
           }
          ],
          "scattermapbox": [
           {
            "marker": {
             "colorbar": {
              "outlinewidth": 0,
              "ticks": ""
             }
            },
            "type": "scattermapbox"
           }
          ],
          "scatterpolar": [
           {
            "marker": {
             "colorbar": {
              "outlinewidth": 0,
              "ticks": ""
             }
            },
            "type": "scatterpolar"
           }
          ],
          "scatterpolargl": [
           {
            "marker": {
             "colorbar": {
              "outlinewidth": 0,
              "ticks": ""
             }
            },
            "type": "scatterpolargl"
           }
          ],
          "scatterternary": [
           {
            "marker": {
             "colorbar": {
              "outlinewidth": 0,
              "ticks": ""
             }
            },
            "type": "scatterternary"
           }
          ],
          "surface": [
           {
            "colorbar": {
             "outlinewidth": 0,
             "ticks": ""
            },
            "colorscale": [
             [
              0,
              "#0d0887"
             ],
             [
              0.1111111111111111,
              "#46039f"
             ],
             [
              0.2222222222222222,
              "#7201a8"
             ],
             [
              0.3333333333333333,
              "#9c179e"
             ],
             [
              0.4444444444444444,
              "#bd3786"
             ],
             [
              0.5555555555555556,
              "#d8576b"
             ],
             [
              0.6666666666666666,
              "#ed7953"
             ],
             [
              0.7777777777777778,
              "#fb9f3a"
             ],
             [
              0.8888888888888888,
              "#fdca26"
             ],
             [
              1,
              "#f0f921"
             ]
            ],
            "type": "surface"
           }
          ],
          "table": [
           {
            "cells": {
             "fill": {
              "color": "#506784"
             },
             "line": {
              "color": "rgb(17,17,17)"
             }
            },
            "header": {
             "fill": {
              "color": "#2a3f5f"
             },
             "line": {
              "color": "rgb(17,17,17)"
             }
            },
            "type": "table"
           }
          ]
         },
         "layout": {
          "annotationdefaults": {
           "arrowcolor": "#f2f5fa",
           "arrowhead": 0,
           "arrowwidth": 1
          },
          "autotypenumbers": "strict",
          "coloraxis": {
           "colorbar": {
            "outlinewidth": 0,
            "ticks": ""
           }
          },
          "colorscale": {
           "diverging": [
            [
             0,
             "#8e0152"
            ],
            [
             0.1,
             "#c51b7d"
            ],
            [
             0.2,
             "#de77ae"
            ],
            [
             0.3,
             "#f1b6da"
            ],
            [
             0.4,
             "#fde0ef"
            ],
            [
             0.5,
             "#f7f7f7"
            ],
            [
             0.6,
             "#e6f5d0"
            ],
            [
             0.7,
             "#b8e186"
            ],
            [
             0.8,
             "#7fbc41"
            ],
            [
             0.9,
             "#4d9221"
            ],
            [
             1,
             "#276419"
            ]
           ],
           "sequential": [
            [
             0,
             "#0d0887"
            ],
            [
             0.1111111111111111,
             "#46039f"
            ],
            [
             0.2222222222222222,
             "#7201a8"
            ],
            [
             0.3333333333333333,
             "#9c179e"
            ],
            [
             0.4444444444444444,
             "#bd3786"
            ],
            [
             0.5555555555555556,
             "#d8576b"
            ],
            [
             0.6666666666666666,
             "#ed7953"
            ],
            [
             0.7777777777777778,
             "#fb9f3a"
            ],
            [
             0.8888888888888888,
             "#fdca26"
            ],
            [
             1,
             "#f0f921"
            ]
           ],
           "sequentialminus": [
            [
             0,
             "#0d0887"
            ],
            [
             0.1111111111111111,
             "#46039f"
            ],
            [
             0.2222222222222222,
             "#7201a8"
            ],
            [
             0.3333333333333333,
             "#9c179e"
            ],
            [
             0.4444444444444444,
             "#bd3786"
            ],
            [
             0.5555555555555556,
             "#d8576b"
            ],
            [
             0.6666666666666666,
             "#ed7953"
            ],
            [
             0.7777777777777778,
             "#fb9f3a"
            ],
            [
             0.8888888888888888,
             "#fdca26"
            ],
            [
             1,
             "#f0f921"
            ]
           ]
          },
          "colorway": [
           "#636efa",
           "#EF553B",
           "#00cc96",
           "#ab63fa",
           "#FFA15A",
           "#19d3f3",
           "#FF6692",
           "#B6E880",
           "#FF97FF",
           "#FECB52"
          ],
          "font": {
           "color": "#f2f5fa"
          },
          "geo": {
           "bgcolor": "rgb(17,17,17)",
           "lakecolor": "rgb(17,17,17)",
           "landcolor": "rgb(17,17,17)",
           "showlakes": true,
           "showland": true,
           "subunitcolor": "#506784"
          },
          "hoverlabel": {
           "align": "left"
          },
          "hovermode": "closest",
          "mapbox": {
           "style": "dark"
          },
          "paper_bgcolor": "rgb(17,17,17)",
          "plot_bgcolor": "rgb(17,17,17)",
          "polar": {
           "angularaxis": {
            "gridcolor": "#506784",
            "linecolor": "#506784",
            "ticks": ""
           },
           "bgcolor": "rgb(17,17,17)",
           "radialaxis": {
            "gridcolor": "#506784",
            "linecolor": "#506784",
            "ticks": ""
           }
          },
          "scene": {
           "xaxis": {
            "backgroundcolor": "rgb(17,17,17)",
            "gridcolor": "#506784",
            "gridwidth": 2,
            "linecolor": "#506784",
            "showbackground": true,
            "ticks": "",
            "zerolinecolor": "#C8D4E3"
           },
           "yaxis": {
            "backgroundcolor": "rgb(17,17,17)",
            "gridcolor": "#506784",
            "gridwidth": 2,
            "linecolor": "#506784",
            "showbackground": true,
            "ticks": "",
            "zerolinecolor": "#C8D4E3"
           },
           "zaxis": {
            "backgroundcolor": "rgb(17,17,17)",
            "gridcolor": "#506784",
            "gridwidth": 2,
            "linecolor": "#506784",
            "showbackground": true,
            "ticks": "",
            "zerolinecolor": "#C8D4E3"
           }
          },
          "shapedefaults": {
           "line": {
            "color": "#f2f5fa"
           }
          },
          "sliderdefaults": {
           "bgcolor": "#C8D4E3",
           "bordercolor": "rgb(17,17,17)",
           "borderwidth": 1,
           "tickwidth": 0
          },
          "ternary": {
           "aaxis": {
            "gridcolor": "#506784",
            "linecolor": "#506784",
            "ticks": ""
           },
           "baxis": {
            "gridcolor": "#506784",
            "linecolor": "#506784",
            "ticks": ""
           },
           "bgcolor": "rgb(17,17,17)",
           "caxis": {
            "gridcolor": "#506784",
            "linecolor": "#506784",
            "ticks": ""
           }
          },
          "title": {
           "x": 0.05
          },
          "updatemenudefaults": {
           "bgcolor": "#506784",
           "borderwidth": 0
          },
          "xaxis": {
           "automargin": true,
           "gridcolor": "#283442",
           "linecolor": "#506784",
           "ticks": "",
           "title": {
            "standoff": 15
           },
           "zerolinecolor": "#283442",
           "zerolinewidth": 2
          },
          "yaxis": {
           "automargin": true,
           "gridcolor": "#283442",
           "linecolor": "#506784",
           "ticks": "",
           "title": {
            "standoff": 15
           },
           "zerolinecolor": "#283442",
           "zerolinewidth": 2
          }
         }
        },
        "title": {
         "text": "Max Lightcurve of comet C/2017 K2 (Tsuchinshan-ATLAS)"
        },
        "xaxis": {
         "anchor": "y",
         "domain": [
          0,
          1
         ],
         "title": {
          "text": "Observation Date"
         }
        },
        "yaxis": {
         "anchor": "x",
         "autorange": "reversed",
         "domain": [
          0,
          1
         ],
         "title": {
          "text": "Max apparent total magnitude reduced"
         }
        }
       }
      }
     },
     "metadata": {},
     "output_type": "display_data"
    }
   ],
   "source": [
    "# Curva de luz reducida\n",
    "labels = {'obs_date':'Observation Date','magnitud_reducida':'Max apparent total magnitude reduced', 'obs_method_key' : 'Observation Method'}\n",
    "fig = px.scatter(curva_de_luz_externa_df, x=curva_de_luz_externa_df.obs_date, y='magnitud_reducida', color='obs_method_key', template= 'plotly_dark', labels= labels, title=f'Max Lightcurve of comet {nombre_cometa} (Tsuchinshan-ATLAS)')\n",
    "fig.update_yaxes(autorange=\"reversed\")\n",
    "fig.show()"
   ]
  },
  {
   "cell_type": "code",
   "execution_count": 103,
   "metadata": {},
   "outputs": [
    {
     "data": {
      "application/vnd.plotly.v1+json": {
       "config": {
        "plotlyServerURL": "https://plot.ly"
       },
       "data": [
        {
         "hovertemplate": "Observation Date=%{x}<br>promedio_movil=%{y}<extra></extra>",
         "legendgroup": "",
         "marker": {
          "color": "yellow",
          "line": {
           "color": "DarkSlateGrey",
           "width": 1
          },
          "size": 6,
          "symbol": "circle"
         },
         "mode": "markers",
         "name": "",
         "orientation": "v",
         "showlegend": false,
         "type": "scatter",
         "x": [
          "2017-06-02T00:00:00",
          "2017-06-12T00:00:00",
          "2017-06-14T00:00:00",
          "2017-06-16T00:00:00",
          "2017-06-17T00:00:00",
          "2017-06-21T00:00:00",
          "2017-07-18T00:00:00",
          "2017-07-25T00:00:00",
          "2017-07-31T00:00:00",
          "2017-08-29T00:00:00",
          "2017-09-12T00:00:00",
          "2017-09-19T00:00:00",
          "2017-09-20T00:00:00",
          "2017-10-08T00:00:00",
          "2017-10-11T00:00:00",
          "2017-10-14T00:00:00",
          "2018-01-24T00:00:00",
          "2018-02-15T00:00:00",
          "2018-02-18T00:00:00",
          "2018-02-19T00:00:00",
          "2018-02-24T00:00:00",
          "2018-02-25T00:00:00",
          "2018-03-17T00:00:00",
          "2018-03-20T00:00:00",
          "2018-03-25T00:00:00",
          "2018-04-04T00:00:00",
          "2018-04-07T00:00:00",
          "2018-04-16T00:00:00",
          "2018-05-05T00:00:00",
          "2018-06-08T00:00:00",
          "2018-06-18T00:00:00",
          "2018-06-24T00:00:00",
          "2018-07-08T00:00:00",
          "2018-07-13T00:00:00",
          "2018-07-14T00:00:00",
          "2018-08-03T00:00:00",
          "2018-08-05T00:00:00",
          "2018-08-12T00:00:00",
          "2018-08-16T00:00:00",
          "2018-08-28T00:00:00",
          "2018-09-05T00:00:00",
          "2018-09-11T00:00:00",
          "2018-09-15T00:00:00",
          "2018-09-16T00:00:00",
          "2018-09-27T00:00:00",
          "2018-09-29T00:00:00",
          "2018-09-30T00:00:00",
          "2018-10-04T00:00:00",
          "2018-10-08T00:00:00",
          "2018-10-10T00:00:00",
          "2018-10-11T00:00:00",
          "2018-10-12T00:00:00",
          "2018-10-14T00:00:00",
          "2018-10-21T00:00:00",
          "2018-10-31T00:00:00",
          "2018-11-01T00:00:00",
          "2018-11-05T00:00:00",
          "2018-11-07T00:00:00",
          "2018-11-12T00:00:00",
          "2018-11-16T00:00:00",
          "2019-01-13T00:00:00",
          "2019-02-02T00:00:00",
          "2019-02-07T00:00:00",
          "2019-02-17T00:00:00",
          "2019-02-28T00:00:00",
          "2019-03-02T00:00:00",
          "2019-03-11T00:00:00",
          "2019-03-17T00:00:00",
          "2019-03-27T00:00:00",
          "2019-03-30T00:00:00",
          "2019-03-31T00:00:00",
          "2019-04-02T00:00:00",
          "2019-04-07T00:00:00",
          "2019-04-11T00:00:00",
          "2019-04-15T00:00:00",
          "2019-04-23T00:00:00",
          "2019-04-25T00:00:00",
          "2019-04-28T00:00:00",
          "2019-05-02T00:00:00",
          "2019-05-07T00:00:00",
          "2019-05-12T00:00:00",
          "2019-05-13T00:00:00",
          "2019-05-23T00:00:00",
          "2019-05-29T00:00:00",
          "2019-06-06T00:00:00",
          "2019-06-07T00:00:00",
          "2019-06-09T00:00:00",
          "2019-06-13T00:00:00",
          "2019-06-27T00:00:00",
          "2019-07-05T00:00:00",
          "2019-07-21T00:00:00",
          "2019-07-23T00:00:00",
          "2019-07-25T00:00:00",
          "2019-07-31T00:00:00",
          "2019-08-01T00:00:00",
          "2019-08-08T00:00:00",
          "2019-08-09T00:00:00",
          "2019-08-10T00:00:00",
          "2019-08-22T00:00:00",
          "2019-08-24T00:00:00",
          "2019-08-25T00:00:00",
          "2019-08-27T00:00:00",
          "2019-08-28T00:00:00",
          "2019-08-30T00:00:00",
          "2019-08-31T00:00:00",
          "2019-09-02T00:00:00",
          "2019-09-12T00:00:00",
          "2019-09-18T00:00:00",
          "2019-09-19T00:00:00",
          "2019-09-21T00:00:00",
          "2019-09-25T00:00:00",
          "2019-10-02T00:00:00",
          "2019-10-13T00:00:00",
          "2019-10-14T00:00:00",
          "2019-10-23T00:00:00",
          "2019-10-25T00:00:00",
          "2019-10-29T00:00:00",
          "2019-10-30T00:00:00",
          "2019-10-31T00:00:00",
          "2019-11-10T00:00:00",
          "2019-11-14T00:00:00",
          "2019-12-04T00:00:00",
          "2019-12-10T00:00:00",
          "2019-12-17T00:00:00",
          "2019-12-21T00:00:00",
          "2019-12-29T00:00:00",
          "2020-01-01T00:00:00",
          "2020-01-02T00:00:00",
          "2020-01-17T00:00:00",
          "2020-01-22T00:00:00",
          "2020-01-24T00:00:00",
          "2020-01-29T00:00:00",
          "2020-02-02T00:00:00",
          "2020-02-07T00:00:00",
          "2020-02-18T00:00:00",
          "2020-02-20T00:00:00",
          "2020-02-21T00:00:00",
          "2020-02-28T00:00:00",
          "2020-03-04T00:00:00",
          "2020-03-08T00:00:00",
          "2020-03-11T00:00:00",
          "2020-03-15T00:00:00",
          "2020-03-16T00:00:00",
          "2020-03-18T00:00:00",
          "2020-03-20T00:00:00",
          "2020-03-21T00:00:00",
          "2020-03-22T00:00:00",
          "2020-03-23T00:00:00",
          "2020-03-24T00:00:00",
          "2020-03-25T00:00:00",
          "2020-03-26T00:00:00",
          "2020-03-29T00:00:00",
          "2020-04-01T00:00:00",
          "2020-04-02T00:00:00",
          "2020-04-14T00:00:00",
          "2020-04-16T00:00:00",
          "2020-04-18T00:00:00",
          "2020-04-20T00:00:00",
          "2020-04-21T00:00:00",
          "2020-04-23T00:00:00",
          "2020-04-24T00:00:00",
          "2020-04-26T00:00:00",
          "2020-04-28T00:00:00",
          "2020-05-06T00:00:00",
          "2020-05-07T00:00:00",
          "2020-05-13T00:00:00",
          "2020-05-15T00:00:00",
          "2020-05-16T00:00:00",
          "2020-05-17T00:00:00",
          "2020-05-21T00:00:00",
          "2020-05-24T00:00:00",
          "2020-06-01T00:00:00",
          "2020-06-12T00:00:00",
          "2020-06-13T00:00:00",
          "2020-06-18T00:00:00",
          "2020-06-19T00:00:00",
          "2020-06-20T00:00:00",
          "2020-06-21T00:00:00",
          "2020-06-23T00:00:00",
          "2020-06-24T00:00:00",
          "2020-06-25T00:00:00",
          "2020-06-27T00:00:00",
          "2020-07-03T00:00:00",
          "2020-07-06T00:00:00",
          "2020-07-07T00:00:00",
          "2020-07-09T00:00:00",
          "2020-07-10T00:00:00",
          "2020-07-11T00:00:00",
          "2020-07-12T00:00:00",
          "2020-07-18T00:00:00",
          "2020-07-19T00:00:00",
          "2020-07-26T00:00:00",
          "2020-07-29T00:00:00",
          "2020-07-30T00:00:00",
          "2020-07-31T00:00:00",
          "2020-08-07T00:00:00",
          "2020-08-08T00:00:00",
          "2020-08-09T00:00:00",
          "2020-08-14T00:00:00",
          "2020-08-16T00:00:00",
          "2020-08-19T00:00:00",
          "2020-08-20T00:00:00",
          "2020-08-21T00:00:00",
          "2020-08-22T00:00:00",
          "2020-08-23T00:00:00",
          "2020-08-24T00:00:00",
          "2020-08-25T00:00:00",
          "2020-09-02T00:00:00",
          "2020-09-03T00:00:00",
          "2020-09-05T00:00:00",
          "2020-09-07T00:00:00",
          "2020-09-09T00:00:00",
          "2020-09-10T00:00:00",
          "2020-09-11T00:00:00",
          "2020-09-12T00:00:00",
          "2020-09-13T00:00:00",
          "2020-09-14T00:00:00",
          "2020-09-15T00:00:00",
          "2020-09-16T00:00:00",
          "2020-09-17T00:00:00",
          "2020-09-18T00:00:00",
          "2020-09-19T00:00:00",
          "2020-09-21T00:00:00",
          "2020-09-23T00:00:00",
          "2020-09-29T00:00:00",
          "2020-09-30T00:00:00",
          "2020-10-03T00:00:00",
          "2020-10-09T00:00:00",
          "2020-10-10T00:00:00",
          "2020-10-11T00:00:00",
          "2020-10-12T00:00:00",
          "2020-10-16T00:00:00",
          "2020-10-17T00:00:00",
          "2020-10-19T00:00:00",
          "2020-10-24T00:00:00",
          "2020-11-02T00:00:00",
          "2020-11-05T00:00:00",
          "2020-11-06T00:00:00",
          "2020-11-08T00:00:00",
          "2020-11-14T00:00:00",
          "2020-11-16T00:00:00",
          "2020-11-18T00:00:00",
          "2020-11-20T00:00:00",
          "2020-11-21T00:00:00",
          "2020-11-23T00:00:00",
          "2020-11-24T00:00:00",
          "2020-11-25T00:00:00",
          "2020-12-06T00:00:00",
          "2020-12-08T00:00:00",
          "2020-12-19T00:00:00",
          "2020-12-26T00:00:00",
          "2020-12-27T00:00:00",
          "2021-01-11T00:00:00",
          "2021-01-16T00:00:00",
          "2021-01-17T00:00:00",
          "2021-01-18T00:00:00",
          "2021-01-24T00:00:00",
          "2021-01-25T00:00:00",
          "2021-01-31T00:00:00",
          "2021-02-05T00:00:00",
          "2021-02-08T00:00:00",
          "2021-02-09T00:00:00",
          "2021-02-11T00:00:00",
          "2021-02-15T00:00:00",
          "2021-02-17T00:00:00",
          "2021-02-19T00:00:00",
          "2021-02-21T00:00:00",
          "2021-02-22T00:00:00",
          "2021-02-24T00:00:00",
          "2021-03-06T00:00:00",
          "2021-03-07T00:00:00",
          "2021-03-09T00:00:00",
          "2021-03-10T00:00:00",
          "2021-03-13T00:00:00",
          "2021-03-14T00:00:00",
          "2021-03-16T00:00:00",
          "2021-03-17T00:00:00",
          "2021-03-19T00:00:00",
          "2021-03-20T00:00:00",
          "2021-03-22T00:00:00",
          "2021-03-23T00:00:00",
          "2021-03-24T00:00:00",
          "2021-03-25T00:00:00",
          "2021-03-30T00:00:00",
          "2021-04-01T00:00:00",
          "2021-04-03T00:00:00",
          "2021-04-04T00:00:00",
          "2021-04-05T00:00:00",
          "2021-04-06T00:00:00",
          "2021-04-09T00:00:00",
          "2021-04-10T00:00:00",
          "2021-04-12T00:00:00",
          "2021-04-13T00:00:00",
          "2021-04-14T00:00:00",
          "2021-04-15T00:00:00",
          "2021-04-17T00:00:00",
          "2021-04-18T00:00:00",
          "2021-04-19T00:00:00",
          "2021-04-21T00:00:00",
          "2021-04-23T00:00:00",
          "2021-04-25T00:00:00",
          "2021-04-26T00:00:00",
          "2021-04-28T00:00:00",
          "2021-04-30T00:00:00",
          "2021-05-02T00:00:00",
          "2021-05-03T00:00:00",
          "2021-05-04T00:00:00",
          "2021-05-05T00:00:00",
          "2021-05-08T00:00:00",
          "2021-05-11T00:00:00"
         ],
         "xaxis": "x",
         "y": [
          null,
          null,
          null,
          null,
          null,
          null,
          -3.284489529901936,
          -3.2876764648720047,
          -3.306139761488543,
          -3.305079474927856,
          -3.3445419701759453,
          -3.340035214660751,
          -3.3075950275924177,
          -3.319970827188455,
          -3.247424954707312,
          -3.246865423712882,
          -3.255540318179118,
          -3.0033679313930457,
          -2.751624348210837,
          -2.656925824285661,
          -2.592892537990889,
          -2.572044295441085,
          -2.4885014430716907,
          -2.471887696847691,
          -2.7459146818863616,
          -2.9177650512788214,
          -2.9889962697678256,
          -2.9875327377587557,
          -2.9806285739576697,
          -2.998730117668511,
          -2.972219927887295,
          -2.888499921607157,
          -2.8614694943049157,
          -2.8055304159912495,
          -2.5807189476442756,
          -2.37113840191114,
          -2.3422484369847374,
          -2.343023188411318,
          -2.3873378025390934,
          -2.389627519232182,
          -2.448521627688259,
          -2.620598380460354,
          -2.7537004700493557,
          -2.701361281524338,
          -2.633816220638452,
          -2.5810348526531888,
          -2.587899243974125,
          -2.595614285851962,
          -2.660882526453849,
          -2.74087627149796,
          -2.7637015015078137,
          -2.817374405074848,
          -2.856735114959048,
          -2.880314016769205,
          -2.8023841354507946,
          -2.86794634397073,
          -2.9043833327763457,
          -2.9548405447964377,
          -2.9470507493334113,
          -2.9672506838802764,
          -3.013764904984803,
          -3.0838805758755385,
          -3.009474502191921,
          -2.946384589094112,
          -2.9364849898934646,
          -2.855658668529332,
          -2.8149934533950427,
          -2.775779290837288,
          -2.668327055889667,
          -2.5758412210814603,
          -2.2726247690451546,
          -2.173031362922161,
          -2.1293096446964435,
          -2.0590693557716224,
          -1.975380391421643,
          -1.9925807520727121,
          -1.9388041626553247,
          -2.1984849084232065,
          -2.2430675829059594,
          -2.287712745569067,
          -2.2606537496909334,
          -2.177701427209997,
          -2.122746561857251,
          -2.1234353148649054,
          -1.9938453012935582,
          -1.865546772744207,
          -1.7671340655084544,
          -1.6692270133568727,
          -1.6383117918209593,
          -1.5658174893632137,
          -1.5048961461098531,
          -1.4463132823563802,
          -1.373213586965696,
          -1.3133790800381566,
          -1.2547064354029425,
          -1.1703431129527158,
          -1.1026236830749025,
          -1.0253409490382868,
          -1.0454097891058125,
          -0.979784036272613,
          -0.8870866685805533,
          -0.8370167947375927,
          -0.6029620029394985,
          -0.5686215186369706,
          -0.5200487708354901,
          -0.3885106045631108,
          -0.21203736231942827,
          -0.03422068483495216,
          0.05763101544217086,
          0.006886015594112901,
          0.313778127966848,
          0.8080256886523536,
          1.276193277850444,
          1.6134370906450246,
          1.6231227586057126,
          1.8902763848643487,
          2.2438238118065406,
          2.6108891065740005,
          2.662093706635139,
          2.627713769717246,
          2.7229363125357993,
          2.965550893081,
          3.2099020249059884,
          3.198779820830886,
          3.1461837809774593,
          3.0253526722489132,
          2.6169738703870555,
          2.3934714925628677,
          2.370078364166188,
          2.161162095552363,
          2.307536434577078,
          2.3691662639993334,
          2.315157215454836,
          2.7197238942236086,
          2.8729424183944654,
          3.0772116329394046,
          3.1652544626645756,
          2.984996164269925,
          2.776541248050875,
          2.8255273387883966,
          2.8878675567171,
          2.8178364233243167,
          2.7329698893507097,
          2.7201942568509403,
          2.7473997362921545,
          2.657915937519643,
          2.766622205045323,
          2.731261795707747,
          2.722613710215287,
          2.585400184947487,
          2.647578752447976,
          2.7389286960320893,
          2.874454052599616,
          2.767097227542185,
          2.8095584533587186,
          2.8384160313909166,
          2.82503397119359,
          2.7693815732010045,
          2.6411083311089447,
          2.4835722401130114,
          2.583160234368755,
          2.533559617327857,
          2.498193433531359,
          2.5950839570081925,
          2.6342064642456213,
          2.661964628137237,
          2.7611097824231456,
          2.631662631074115,
          2.6015537209245907,
          2.5153988351944676,
          2.5689445682653584,
          2.5549686215759144,
          2.5290728654782297,
          2.531075542520019,
          2.549319708788267,
          2.610365723551972,
          2.7267042733926306,
          2.698916502643042,
          2.5390285699781745,
          2.5736799465279545,
          2.579692827356626,
          2.6984461173840235,
          2.6623775222029553,
          2.6985995011575548,
          2.8919340494779244,
          3.070885753089903,
          3.264056222384845,
          3.3429100714924287,
          3.335520783984617,
          3.456405099137879,
          3.3191853009801027,
          3.3129610461476484,
          3.1641437215918775,
          2.9866872982027552,
          2.8663428711062027,
          2.9910078620928666,
          2.8420923233274658,
          2.9217170140065165,
          2.7431004053448276,
          3.106877978810445,
          3.08560637048032,
          3.3214454365481987,
          3.3835684091179523,
          3.6027643768579574,
          3.6219635158860783,
          3.753988789983022,
          3.4999354963479203,
          3.618947783030461,
          3.5093553078792,
          3.4001009725581315,
          3.291185590751889,
          3.325393110112656,
          3.1881389824731245,
          3.3080695717173434,
          3.168491835557437,
          3.2146311330137083,
          3.2175437665071103,
          3.2486574898238154,
          3.29379784661609,
          3.4532256059829507,
          3.3554751929825883,
          3.272012184093725,
          3.4031382318811376,
          3.306071768307421,
          3.29642537171069,
          3.400993338158224,
          null,
          null,
          null,
          null,
          null,
          null,
          null,
          3.236613536762988,
          3.284926501601057,
          3.322132229688538,
          3.50309456108651,
          3.4841005269971412,
          3.321725613203463,
          3.618761509280214,
          3.9302528700742343,
          3.8836136181032623,
          3.8772484804022787,
          3.8415401997325347,
          3.8635663260648423,
          3.8137795062419917,
          3.90474770649126,
          3.857641565906867,
          3.882212411163473,
          4.069473532730434,
          4.117853719089026,
          4.18022260869243,
          4.281223516501993,
          4.285518889224085,
          4.270587309635199,
          4.483899807151643,
          4.352697919818433,
          4.417877692307456,
          4.444598162550494,
          4.493682650836087,
          4.441704707834227,
          4.504121449684749,
          4.581825321676308,
          4.758450280261576,
          4.864701934446373,
          4.867805772121703,
          4.797012819555893,
          4.838755971316061,
          4.981602289925334,
          4.975639217956787,
          5.06694172384371,
          4.915585757383733,
          4.963318189372771,
          5.426608227515777,
          5.447122150702923,
          5.382039990226963,
          5.222167802731059,
          5.092018194842863,
          5.203729484996522,
          5.245171150637789,
          5.013110101847332,
          4.923927150670065,
          4.919445490804156,
          4.990833535315557,
          5.090895276935005,
          5.177817362141904,
          5.449392980063359,
          5.378140134454628,
          5.606916091739243,
          5.652267172732522,
          5.721753743821958,
          5.648386978288834,
          5.659641822219626,
          5.44230008301645,
          5.510695540305487,
          5.580215490236706,
          5.7046902701060365,
          5.843470657794057,
          6.110815729550515,
          6.179296871454784,
          6.234634051141861,
          6.361376279569493,
          6.373881455890788,
          6.444589423367928,
          6.402123806279888,
          6.315671142651046,
          6.256602611299853,
          6.296439486620076,
          6.238490201903302,
          6.295835428827076
         ],
         "yaxis": "y"
        }
       ],
       "layout": {
        "legend": {
         "tracegroupgap": 0
        },
        "template": {
         "data": {
          "bar": [
           {
            "error_x": {
             "color": "#f2f5fa"
            },
            "error_y": {
             "color": "#f2f5fa"
            },
            "marker": {
             "line": {
              "color": "rgb(17,17,17)",
              "width": 0.5
             },
             "pattern": {
              "fillmode": "overlay",
              "size": 10,
              "solidity": 0.2
             }
            },
            "type": "bar"
           }
          ],
          "barpolar": [
           {
            "marker": {
             "line": {
              "color": "rgb(17,17,17)",
              "width": 0.5
             },
             "pattern": {
              "fillmode": "overlay",
              "size": 10,
              "solidity": 0.2
             }
            },
            "type": "barpolar"
           }
          ],
          "carpet": [
           {
            "aaxis": {
             "endlinecolor": "#A2B1C6",
             "gridcolor": "#506784",
             "linecolor": "#506784",
             "minorgridcolor": "#506784",
             "startlinecolor": "#A2B1C6"
            },
            "baxis": {
             "endlinecolor": "#A2B1C6",
             "gridcolor": "#506784",
             "linecolor": "#506784",
             "minorgridcolor": "#506784",
             "startlinecolor": "#A2B1C6"
            },
            "type": "carpet"
           }
          ],
          "choropleth": [
           {
            "colorbar": {
             "outlinewidth": 0,
             "ticks": ""
            },
            "type": "choropleth"
           }
          ],
          "contour": [
           {
            "colorbar": {
             "outlinewidth": 0,
             "ticks": ""
            },
            "colorscale": [
             [
              0,
              "#0d0887"
             ],
             [
              0.1111111111111111,
              "#46039f"
             ],
             [
              0.2222222222222222,
              "#7201a8"
             ],
             [
              0.3333333333333333,
              "#9c179e"
             ],
             [
              0.4444444444444444,
              "#bd3786"
             ],
             [
              0.5555555555555556,
              "#d8576b"
             ],
             [
              0.6666666666666666,
              "#ed7953"
             ],
             [
              0.7777777777777778,
              "#fb9f3a"
             ],
             [
              0.8888888888888888,
              "#fdca26"
             ],
             [
              1,
              "#f0f921"
             ]
            ],
            "type": "contour"
           }
          ],
          "contourcarpet": [
           {
            "colorbar": {
             "outlinewidth": 0,
             "ticks": ""
            },
            "type": "contourcarpet"
           }
          ],
          "heatmap": [
           {
            "colorbar": {
             "outlinewidth": 0,
             "ticks": ""
            },
            "colorscale": [
             [
              0,
              "#0d0887"
             ],
             [
              0.1111111111111111,
              "#46039f"
             ],
             [
              0.2222222222222222,
              "#7201a8"
             ],
             [
              0.3333333333333333,
              "#9c179e"
             ],
             [
              0.4444444444444444,
              "#bd3786"
             ],
             [
              0.5555555555555556,
              "#d8576b"
             ],
             [
              0.6666666666666666,
              "#ed7953"
             ],
             [
              0.7777777777777778,
              "#fb9f3a"
             ],
             [
              0.8888888888888888,
              "#fdca26"
             ],
             [
              1,
              "#f0f921"
             ]
            ],
            "type": "heatmap"
           }
          ],
          "heatmapgl": [
           {
            "colorbar": {
             "outlinewidth": 0,
             "ticks": ""
            },
            "colorscale": [
             [
              0,
              "#0d0887"
             ],
             [
              0.1111111111111111,
              "#46039f"
             ],
             [
              0.2222222222222222,
              "#7201a8"
             ],
             [
              0.3333333333333333,
              "#9c179e"
             ],
             [
              0.4444444444444444,
              "#bd3786"
             ],
             [
              0.5555555555555556,
              "#d8576b"
             ],
             [
              0.6666666666666666,
              "#ed7953"
             ],
             [
              0.7777777777777778,
              "#fb9f3a"
             ],
             [
              0.8888888888888888,
              "#fdca26"
             ],
             [
              1,
              "#f0f921"
             ]
            ],
            "type": "heatmapgl"
           }
          ],
          "histogram": [
           {
            "marker": {
             "pattern": {
              "fillmode": "overlay",
              "size": 10,
              "solidity": 0.2
             }
            },
            "type": "histogram"
           }
          ],
          "histogram2d": [
           {
            "colorbar": {
             "outlinewidth": 0,
             "ticks": ""
            },
            "colorscale": [
             [
              0,
              "#0d0887"
             ],
             [
              0.1111111111111111,
              "#46039f"
             ],
             [
              0.2222222222222222,
              "#7201a8"
             ],
             [
              0.3333333333333333,
              "#9c179e"
             ],
             [
              0.4444444444444444,
              "#bd3786"
             ],
             [
              0.5555555555555556,
              "#d8576b"
             ],
             [
              0.6666666666666666,
              "#ed7953"
             ],
             [
              0.7777777777777778,
              "#fb9f3a"
             ],
             [
              0.8888888888888888,
              "#fdca26"
             ],
             [
              1,
              "#f0f921"
             ]
            ],
            "type": "histogram2d"
           }
          ],
          "histogram2dcontour": [
           {
            "colorbar": {
             "outlinewidth": 0,
             "ticks": ""
            },
            "colorscale": [
             [
              0,
              "#0d0887"
             ],
             [
              0.1111111111111111,
              "#46039f"
             ],
             [
              0.2222222222222222,
              "#7201a8"
             ],
             [
              0.3333333333333333,
              "#9c179e"
             ],
             [
              0.4444444444444444,
              "#bd3786"
             ],
             [
              0.5555555555555556,
              "#d8576b"
             ],
             [
              0.6666666666666666,
              "#ed7953"
             ],
             [
              0.7777777777777778,
              "#fb9f3a"
             ],
             [
              0.8888888888888888,
              "#fdca26"
             ],
             [
              1,
              "#f0f921"
             ]
            ],
            "type": "histogram2dcontour"
           }
          ],
          "mesh3d": [
           {
            "colorbar": {
             "outlinewidth": 0,
             "ticks": ""
            },
            "type": "mesh3d"
           }
          ],
          "parcoords": [
           {
            "line": {
             "colorbar": {
              "outlinewidth": 0,
              "ticks": ""
             }
            },
            "type": "parcoords"
           }
          ],
          "pie": [
           {
            "automargin": true,
            "type": "pie"
           }
          ],
          "scatter": [
           {
            "marker": {
             "line": {
              "color": "#283442"
             }
            },
            "type": "scatter"
           }
          ],
          "scatter3d": [
           {
            "line": {
             "colorbar": {
              "outlinewidth": 0,
              "ticks": ""
             }
            },
            "marker": {
             "colorbar": {
              "outlinewidth": 0,
              "ticks": ""
             }
            },
            "type": "scatter3d"
           }
          ],
          "scattercarpet": [
           {
            "marker": {
             "colorbar": {
              "outlinewidth": 0,
              "ticks": ""
             }
            },
            "type": "scattercarpet"
           }
          ],
          "scattergeo": [
           {
            "marker": {
             "colorbar": {
              "outlinewidth": 0,
              "ticks": ""
             }
            },
            "type": "scattergeo"
           }
          ],
          "scattergl": [
           {
            "marker": {
             "line": {
              "color": "#283442"
             }
            },
            "type": "scattergl"
           }
          ],
          "scattermapbox": [
           {
            "marker": {
             "colorbar": {
              "outlinewidth": 0,
              "ticks": ""
             }
            },
            "type": "scattermapbox"
           }
          ],
          "scatterpolar": [
           {
            "marker": {
             "colorbar": {
              "outlinewidth": 0,
              "ticks": ""
             }
            },
            "type": "scatterpolar"
           }
          ],
          "scatterpolargl": [
           {
            "marker": {
             "colorbar": {
              "outlinewidth": 0,
              "ticks": ""
             }
            },
            "type": "scatterpolargl"
           }
          ],
          "scatterternary": [
           {
            "marker": {
             "colorbar": {
              "outlinewidth": 0,
              "ticks": ""
             }
            },
            "type": "scatterternary"
           }
          ],
          "surface": [
           {
            "colorbar": {
             "outlinewidth": 0,
             "ticks": ""
            },
            "colorscale": [
             [
              0,
              "#0d0887"
             ],
             [
              0.1111111111111111,
              "#46039f"
             ],
             [
              0.2222222222222222,
              "#7201a8"
             ],
             [
              0.3333333333333333,
              "#9c179e"
             ],
             [
              0.4444444444444444,
              "#bd3786"
             ],
             [
              0.5555555555555556,
              "#d8576b"
             ],
             [
              0.6666666666666666,
              "#ed7953"
             ],
             [
              0.7777777777777778,
              "#fb9f3a"
             ],
             [
              0.8888888888888888,
              "#fdca26"
             ],
             [
              1,
              "#f0f921"
             ]
            ],
            "type": "surface"
           }
          ],
          "table": [
           {
            "cells": {
             "fill": {
              "color": "#506784"
             },
             "line": {
              "color": "rgb(17,17,17)"
             }
            },
            "header": {
             "fill": {
              "color": "#2a3f5f"
             },
             "line": {
              "color": "rgb(17,17,17)"
             }
            },
            "type": "table"
           }
          ]
         },
         "layout": {
          "annotationdefaults": {
           "arrowcolor": "#f2f5fa",
           "arrowhead": 0,
           "arrowwidth": 1
          },
          "autotypenumbers": "strict",
          "coloraxis": {
           "colorbar": {
            "outlinewidth": 0,
            "ticks": ""
           }
          },
          "colorscale": {
           "diverging": [
            [
             0,
             "#8e0152"
            ],
            [
             0.1,
             "#c51b7d"
            ],
            [
             0.2,
             "#de77ae"
            ],
            [
             0.3,
             "#f1b6da"
            ],
            [
             0.4,
             "#fde0ef"
            ],
            [
             0.5,
             "#f7f7f7"
            ],
            [
             0.6,
             "#e6f5d0"
            ],
            [
             0.7,
             "#b8e186"
            ],
            [
             0.8,
             "#7fbc41"
            ],
            [
             0.9,
             "#4d9221"
            ],
            [
             1,
             "#276419"
            ]
           ],
           "sequential": [
            [
             0,
             "#0d0887"
            ],
            [
             0.1111111111111111,
             "#46039f"
            ],
            [
             0.2222222222222222,
             "#7201a8"
            ],
            [
             0.3333333333333333,
             "#9c179e"
            ],
            [
             0.4444444444444444,
             "#bd3786"
            ],
            [
             0.5555555555555556,
             "#d8576b"
            ],
            [
             0.6666666666666666,
             "#ed7953"
            ],
            [
             0.7777777777777778,
             "#fb9f3a"
            ],
            [
             0.8888888888888888,
             "#fdca26"
            ],
            [
             1,
             "#f0f921"
            ]
           ],
           "sequentialminus": [
            [
             0,
             "#0d0887"
            ],
            [
             0.1111111111111111,
             "#46039f"
            ],
            [
             0.2222222222222222,
             "#7201a8"
            ],
            [
             0.3333333333333333,
             "#9c179e"
            ],
            [
             0.4444444444444444,
             "#bd3786"
            ],
            [
             0.5555555555555556,
             "#d8576b"
            ],
            [
             0.6666666666666666,
             "#ed7953"
            ],
            [
             0.7777777777777778,
             "#fb9f3a"
            ],
            [
             0.8888888888888888,
             "#fdca26"
            ],
            [
             1,
             "#f0f921"
            ]
           ]
          },
          "colorway": [
           "#636efa",
           "#EF553B",
           "#00cc96",
           "#ab63fa",
           "#FFA15A",
           "#19d3f3",
           "#FF6692",
           "#B6E880",
           "#FF97FF",
           "#FECB52"
          ],
          "font": {
           "color": "#f2f5fa"
          },
          "geo": {
           "bgcolor": "rgb(17,17,17)",
           "lakecolor": "rgb(17,17,17)",
           "landcolor": "rgb(17,17,17)",
           "showlakes": true,
           "showland": true,
           "subunitcolor": "#506784"
          },
          "hoverlabel": {
           "align": "left"
          },
          "hovermode": "closest",
          "mapbox": {
           "style": "dark"
          },
          "paper_bgcolor": "rgb(17,17,17)",
          "plot_bgcolor": "rgb(17,17,17)",
          "polar": {
           "angularaxis": {
            "gridcolor": "#506784",
            "linecolor": "#506784",
            "ticks": ""
           },
           "bgcolor": "rgb(17,17,17)",
           "radialaxis": {
            "gridcolor": "#506784",
            "linecolor": "#506784",
            "ticks": ""
           }
          },
          "scene": {
           "xaxis": {
            "backgroundcolor": "rgb(17,17,17)",
            "gridcolor": "#506784",
            "gridwidth": 2,
            "linecolor": "#506784",
            "showbackground": true,
            "ticks": "",
            "zerolinecolor": "#C8D4E3"
           },
           "yaxis": {
            "backgroundcolor": "rgb(17,17,17)",
            "gridcolor": "#506784",
            "gridwidth": 2,
            "linecolor": "#506784",
            "showbackground": true,
            "ticks": "",
            "zerolinecolor": "#C8D4E3"
           },
           "zaxis": {
            "backgroundcolor": "rgb(17,17,17)",
            "gridcolor": "#506784",
            "gridwidth": 2,
            "linecolor": "#506784",
            "showbackground": true,
            "ticks": "",
            "zerolinecolor": "#C8D4E3"
           }
          },
          "shapedefaults": {
           "line": {
            "color": "#f2f5fa"
           }
          },
          "sliderdefaults": {
           "bgcolor": "#C8D4E3",
           "bordercolor": "rgb(17,17,17)",
           "borderwidth": 1,
           "tickwidth": 0
          },
          "ternary": {
           "aaxis": {
            "gridcolor": "#506784",
            "linecolor": "#506784",
            "ticks": ""
           },
           "baxis": {
            "gridcolor": "#506784",
            "linecolor": "#506784",
            "ticks": ""
           },
           "bgcolor": "rgb(17,17,17)",
           "caxis": {
            "gridcolor": "#506784",
            "linecolor": "#506784",
            "ticks": ""
           }
          },
          "title": {
           "x": 0.05
          },
          "updatemenudefaults": {
           "bgcolor": "#506784",
           "borderwidth": 0
          },
          "xaxis": {
           "automargin": true,
           "gridcolor": "#283442",
           "linecolor": "#506784",
           "ticks": "",
           "title": {
            "standoff": 15
           },
           "zerolinecolor": "#283442",
           "zerolinewidth": 2
          },
          "yaxis": {
           "automargin": true,
           "gridcolor": "#283442",
           "linecolor": "#506784",
           "ticks": "",
           "title": {
            "standoff": 15
           },
           "zerolinecolor": "#283442",
           "zerolinewidth": 2
          }
         }
        },
        "title": {
         "text": "Max Averaged Lightcurve of comet C/2017 K2 (Tsuchinshan-ATLAS)"
        },
        "xaxis": {
         "anchor": "y",
         "domain": [
          0,
          1
         ],
         "title": {
          "text": "Observation Date"
         }
        },
        "yaxis": {
         "anchor": "x",
         "autorange": "reversed",
         "domain": [
          0,
          1
         ],
         "title": {
          "text": "promedio_movil"
         }
        }
       }
      }
     },
     "metadata": {},
     "output_type": "display_data"
    }
   ],
   "source": [
    "# Gráfica de lus promediada\n",
    "labels = {'obs_date':'Observation Date','magnitud_reducida':'Magnitude reduced'}\n",
    "fig = px.scatter(curva_de_luz_externa_df, x=curva_de_luz_externa_df.obs_date, y='promedio_movil', template= 'plotly_dark', labels= labels, title=f'Max Averaged Lightcurve of comet {nombre_cometa} (Tsuchinshan-ATLAS)')\n",
    "fig.update_traces(marker=dict(color='yellow', size=6, line=dict(width=1, color='DarkSlateGrey')))\n",
    "fig.update_yaxes(autorange=\"reversed\")\n",
    "fig.show()"
   ]
  },
  {
   "cell_type": "markdown",
   "metadata": {},
   "source": [
    "# Comparación de las curvas de luz"
   ]
  },
  {
   "cell_type": "code",
   "execution_count": 104,
   "metadata": {},
   "outputs": [
    {
     "data": {
      "application/vnd.plotly.v1+json": {
       "config": {
        "plotlyServerURL": "https://plot.ly"
       },
       "data": [
        {
         "marker": {
          "color": "red",
          "line": {
           "color": "DarkSlateGrey",
           "width": 1
          }
         },
         "mode": "markers",
         "name": "Envolvente",
         "type": "scatter",
         "x": [
          "2017-06-02T00:00:00",
          "2017-06-12T00:00:00",
          "2017-06-14T00:00:00",
          "2017-06-16T00:00:00",
          "2017-06-17T00:00:00",
          "2017-06-21T00:00:00",
          "2017-07-18T00:00:00",
          "2017-07-25T00:00:00",
          "2017-07-31T00:00:00",
          "2017-08-29T00:00:00",
          "2017-09-12T00:00:00",
          "2017-09-19T00:00:00",
          "2017-09-20T00:00:00",
          "2017-10-08T00:00:00",
          "2017-10-11T00:00:00",
          "2017-10-14T00:00:00",
          "2018-01-24T00:00:00",
          "2018-02-15T00:00:00",
          "2018-02-18T00:00:00",
          "2018-02-19T00:00:00",
          "2018-02-24T00:00:00",
          "2018-02-25T00:00:00",
          "2018-03-17T00:00:00",
          "2018-03-20T00:00:00",
          "2018-03-25T00:00:00",
          "2018-04-04T00:00:00",
          "2018-04-07T00:00:00",
          "2018-04-16T00:00:00",
          "2018-05-05T00:00:00",
          "2018-06-08T00:00:00",
          "2018-06-18T00:00:00",
          "2018-06-24T00:00:00",
          "2018-07-08T00:00:00",
          "2018-07-13T00:00:00",
          "2018-07-14T00:00:00",
          "2018-08-03T00:00:00",
          "2018-08-05T00:00:00",
          "2018-08-12T00:00:00",
          "2018-08-16T00:00:00",
          "2018-08-28T00:00:00",
          "2018-09-05T00:00:00",
          "2018-09-11T00:00:00",
          "2018-09-15T00:00:00",
          "2018-09-16T00:00:00",
          "2018-09-27T00:00:00",
          "2018-09-29T00:00:00",
          "2018-09-30T00:00:00",
          "2018-10-04T00:00:00",
          "2018-10-08T00:00:00",
          "2018-10-10T00:00:00",
          "2018-10-11T00:00:00",
          "2018-10-12T00:00:00",
          "2018-10-14T00:00:00",
          "2018-10-21T00:00:00",
          "2018-10-31T00:00:00",
          "2018-11-01T00:00:00",
          "2018-11-05T00:00:00",
          "2018-11-07T00:00:00",
          "2018-11-12T00:00:00",
          "2018-11-16T00:00:00",
          "2019-01-13T00:00:00",
          "2019-02-02T00:00:00",
          "2019-02-07T00:00:00",
          "2019-02-17T00:00:00",
          "2019-02-28T00:00:00",
          "2019-03-02T00:00:00",
          "2019-03-11T00:00:00",
          "2019-03-17T00:00:00",
          "2019-03-27T00:00:00",
          "2019-03-30T00:00:00",
          "2019-03-31T00:00:00",
          "2019-04-02T00:00:00",
          "2019-04-07T00:00:00",
          "2019-04-11T00:00:00",
          "2019-04-15T00:00:00",
          "2019-04-23T00:00:00",
          "2019-04-25T00:00:00",
          "2019-04-28T00:00:00",
          "2019-05-02T00:00:00",
          "2019-05-07T00:00:00",
          "2019-05-12T00:00:00",
          "2019-05-13T00:00:00",
          "2019-05-23T00:00:00",
          "2019-05-29T00:00:00",
          "2019-06-06T00:00:00",
          "2019-06-07T00:00:00",
          "2019-06-09T00:00:00",
          "2019-06-13T00:00:00",
          "2019-06-27T00:00:00",
          "2019-07-05T00:00:00",
          "2019-07-21T00:00:00",
          "2019-07-23T00:00:00",
          "2019-07-25T00:00:00",
          "2019-07-31T00:00:00",
          "2019-08-01T00:00:00",
          "2019-08-08T00:00:00",
          "2019-08-09T00:00:00",
          "2019-08-10T00:00:00",
          "2019-08-22T00:00:00",
          "2019-08-24T00:00:00",
          "2019-08-25T00:00:00",
          "2019-08-27T00:00:00",
          "2019-08-28T00:00:00",
          "2019-08-30T00:00:00",
          "2019-08-31T00:00:00",
          "2019-09-02T00:00:00",
          "2019-09-12T00:00:00",
          "2019-09-18T00:00:00",
          "2019-09-19T00:00:00",
          "2019-09-21T00:00:00",
          "2019-09-25T00:00:00",
          "2019-10-02T00:00:00",
          "2019-10-13T00:00:00",
          "2019-10-14T00:00:00",
          "2019-10-23T00:00:00",
          "2019-10-25T00:00:00",
          "2019-10-29T00:00:00",
          "2019-10-30T00:00:00",
          "2019-10-31T00:00:00",
          "2019-11-10T00:00:00",
          "2019-11-14T00:00:00",
          "2019-12-04T00:00:00",
          "2019-12-10T00:00:00",
          "2019-12-17T00:00:00",
          "2019-12-21T00:00:00",
          "2019-12-29T00:00:00",
          "2020-01-01T00:00:00",
          "2020-01-02T00:00:00",
          "2020-01-17T00:00:00",
          "2020-01-22T00:00:00",
          "2020-01-24T00:00:00",
          "2020-01-29T00:00:00",
          "2020-02-02T00:00:00",
          "2020-02-07T00:00:00",
          "2020-02-18T00:00:00",
          "2020-02-20T00:00:00",
          "2020-02-21T00:00:00",
          "2020-02-28T00:00:00",
          "2020-03-04T00:00:00",
          "2020-03-08T00:00:00",
          "2020-03-11T00:00:00",
          "2020-03-15T00:00:00",
          "2020-03-16T00:00:00",
          "2020-03-18T00:00:00",
          "2020-03-20T00:00:00",
          "2020-03-21T00:00:00",
          "2020-03-22T00:00:00",
          "2020-03-23T00:00:00",
          "2020-03-24T00:00:00",
          "2020-03-25T00:00:00",
          "2020-03-26T00:00:00",
          "2020-03-29T00:00:00",
          "2020-04-01T00:00:00",
          "2020-04-02T00:00:00",
          "2020-04-14T00:00:00",
          "2020-04-16T00:00:00",
          "2020-04-18T00:00:00",
          "2020-04-20T00:00:00",
          "2020-04-21T00:00:00",
          "2020-04-23T00:00:00",
          "2020-04-24T00:00:00",
          "2020-04-26T00:00:00",
          "2020-04-28T00:00:00",
          "2020-05-06T00:00:00",
          "2020-05-07T00:00:00",
          "2020-05-13T00:00:00",
          "2020-05-15T00:00:00",
          "2020-05-16T00:00:00",
          "2020-05-17T00:00:00",
          "2020-05-21T00:00:00",
          "2020-05-24T00:00:00",
          "2020-06-01T00:00:00",
          "2020-06-12T00:00:00",
          "2020-06-13T00:00:00",
          "2020-06-18T00:00:00",
          "2020-06-19T00:00:00",
          "2020-06-20T00:00:00",
          "2020-06-21T00:00:00",
          "2020-06-23T00:00:00",
          "2020-06-24T00:00:00",
          "2020-06-25T00:00:00",
          "2020-06-27T00:00:00",
          "2020-07-03T00:00:00",
          "2020-07-06T00:00:00",
          "2020-07-07T00:00:00",
          "2020-07-09T00:00:00",
          "2020-07-10T00:00:00",
          "2020-07-11T00:00:00",
          "2020-07-12T00:00:00",
          "2020-07-18T00:00:00",
          "2020-07-19T00:00:00",
          "2020-07-26T00:00:00",
          "2020-07-29T00:00:00",
          "2020-07-30T00:00:00",
          "2020-07-31T00:00:00",
          "2020-08-07T00:00:00",
          "2020-08-08T00:00:00",
          "2020-08-09T00:00:00",
          "2020-08-14T00:00:00",
          "2020-08-16T00:00:00",
          "2020-08-19T00:00:00",
          "2020-08-20T00:00:00",
          "2020-08-21T00:00:00",
          "2020-08-22T00:00:00",
          "2020-08-23T00:00:00",
          "2020-08-24T00:00:00",
          "2020-08-25T00:00:00",
          "2020-09-02T00:00:00",
          "2020-09-03T00:00:00",
          "2020-09-05T00:00:00",
          "2020-09-07T00:00:00",
          "2020-09-09T00:00:00",
          "2020-09-10T00:00:00",
          "2020-09-11T00:00:00",
          "2020-09-12T00:00:00",
          "2020-09-13T00:00:00",
          "2020-09-14T00:00:00",
          "2020-09-15T00:00:00",
          "2020-09-16T00:00:00",
          "2020-09-17T00:00:00",
          "2020-09-18T00:00:00",
          "2020-09-19T00:00:00",
          "2020-09-21T00:00:00",
          "2020-09-23T00:00:00",
          "2020-09-29T00:00:00",
          "2020-09-30T00:00:00",
          "2020-10-03T00:00:00",
          "2020-10-09T00:00:00",
          "2020-10-10T00:00:00",
          "2020-10-11T00:00:00",
          "2020-10-12T00:00:00",
          "2020-10-16T00:00:00",
          "2020-10-17T00:00:00",
          "2020-10-19T00:00:00",
          "2020-10-24T00:00:00",
          "2020-11-02T00:00:00",
          "2020-11-05T00:00:00",
          "2020-11-06T00:00:00",
          "2020-11-08T00:00:00",
          "2020-11-14T00:00:00",
          "2020-11-16T00:00:00",
          "2020-11-18T00:00:00",
          "2020-11-20T00:00:00",
          "2020-11-21T00:00:00",
          "2020-11-23T00:00:00",
          "2020-11-24T00:00:00",
          "2020-11-25T00:00:00",
          "2020-12-06T00:00:00",
          "2020-12-08T00:00:00",
          "2020-12-19T00:00:00",
          "2020-12-26T00:00:00",
          "2020-12-27T00:00:00",
          "2021-01-11T00:00:00",
          "2021-01-16T00:00:00",
          "2021-01-17T00:00:00",
          "2021-01-18T00:00:00",
          "2021-01-24T00:00:00",
          "2021-01-25T00:00:00",
          "2021-01-31T00:00:00",
          "2021-02-05T00:00:00",
          "2021-02-08T00:00:00",
          "2021-02-09T00:00:00",
          "2021-02-11T00:00:00",
          "2021-02-15T00:00:00",
          "2021-02-17T00:00:00",
          "2021-02-19T00:00:00",
          "2021-02-21T00:00:00",
          "2021-02-22T00:00:00",
          "2021-02-24T00:00:00",
          "2021-03-06T00:00:00",
          "2021-03-07T00:00:00",
          "2021-03-09T00:00:00",
          "2021-03-10T00:00:00",
          "2021-03-13T00:00:00",
          "2021-03-14T00:00:00",
          "2021-03-16T00:00:00",
          "2021-03-17T00:00:00",
          "2021-03-19T00:00:00",
          "2021-03-20T00:00:00",
          "2021-03-22T00:00:00",
          "2021-03-23T00:00:00",
          "2021-03-24T00:00:00",
          "2021-03-25T00:00:00",
          "2021-03-30T00:00:00",
          "2021-04-01T00:00:00",
          "2021-04-03T00:00:00",
          "2021-04-04T00:00:00",
          "2021-04-05T00:00:00",
          "2021-04-06T00:00:00",
          "2021-04-09T00:00:00",
          "2021-04-10T00:00:00",
          "2021-04-12T00:00:00",
          "2021-04-13T00:00:00",
          "2021-04-14T00:00:00",
          "2021-04-15T00:00:00",
          "2021-04-17T00:00:00",
          "2021-04-18T00:00:00",
          "2021-04-19T00:00:00",
          "2021-04-21T00:00:00",
          "2021-04-23T00:00:00",
          "2021-04-25T00:00:00",
          "2021-04-26T00:00:00",
          "2021-04-28T00:00:00",
          "2021-04-30T00:00:00",
          "2021-05-02T00:00:00",
          "2021-05-03T00:00:00",
          "2021-05-04T00:00:00",
          "2021-05-05T00:00:00",
          "2021-05-08T00:00:00",
          "2021-05-11T00:00:00"
         ],
         "y": [
          null,
          null,
          null,
          null,
          null,
          null,
          -3.284489529901936,
          -3.2876764648720047,
          -3.306139761488543,
          -3.305079474927856,
          -3.3445419701759453,
          -3.340035214660751,
          -3.3075950275924177,
          -3.319970827188455,
          -3.247424954707312,
          -3.246865423712882,
          -3.255540318179118,
          -3.0033679313930457,
          -2.751624348210837,
          -2.656925824285661,
          -2.592892537990889,
          -2.572044295441085,
          -2.4885014430716907,
          -2.471887696847691,
          -2.7459146818863616,
          -2.9177650512788214,
          -2.9889962697678256,
          -2.9875327377587557,
          -2.9806285739576697,
          -2.998730117668511,
          -2.972219927887295,
          -2.888499921607157,
          -2.8614694943049157,
          -2.8055304159912495,
          -2.5807189476442756,
          -2.37113840191114,
          -2.3422484369847374,
          -2.343023188411318,
          -2.3873378025390934,
          -2.389627519232182,
          -2.448521627688259,
          -2.620598380460354,
          -2.7537004700493557,
          -2.701361281524338,
          -2.633816220638452,
          -2.5810348526531888,
          -2.587899243974125,
          -2.595614285851962,
          -2.660882526453849,
          -2.74087627149796,
          -2.7637015015078137,
          -2.817374405074848,
          -2.856735114959048,
          -2.880314016769205,
          -2.8023841354507946,
          -2.86794634397073,
          -2.9043833327763457,
          -2.9548405447964377,
          -2.9470507493334113,
          -2.9672506838802764,
          -3.013764904984803,
          -3.0838805758755385,
          -3.009474502191921,
          -2.946384589094112,
          -2.9364849898934646,
          -2.855658668529332,
          -2.8149934533950427,
          -2.775779290837288,
          -2.668327055889667,
          -2.5758412210814603,
          -2.2726247690451546,
          -2.173031362922161,
          -2.1293096446964435,
          -2.0590693557716224,
          -1.975380391421643,
          -1.9925807520727121,
          -1.9388041626553247,
          -2.1984849084232065,
          -2.2430675829059594,
          -2.287712745569067,
          -2.2606537496909334,
          -2.177701427209997,
          -2.122746561857251,
          -2.1234353148649054,
          -1.9938453012935582,
          -1.865546772744207,
          -1.7671340655084544,
          -1.6692270133568727,
          -1.6383117918209593,
          -1.5658174893632137,
          -1.5048961461098531,
          -1.4463132823563802,
          -1.373213586965696,
          -1.3133790800381566,
          -1.2547064354029425,
          -1.1703431129527158,
          -1.1026236830749025,
          -1.0253409490382868,
          -1.0454097891058125,
          -0.979784036272613,
          -0.8870866685805533,
          -0.8370167947375927,
          -0.6029620029394985,
          -0.5686215186369706,
          -0.5200487708354901,
          -0.3885106045631108,
          -0.21203736231942827,
          -0.03422068483495216,
          0.05763101544217086,
          0.006886015594112901,
          0.313778127966848,
          0.8080256886523536,
          1.276193277850444,
          1.6134370906450246,
          1.6231227586057126,
          1.8902763848643487,
          2.2438238118065406,
          2.6108891065740005,
          2.662093706635139,
          2.627713769717246,
          2.7229363125357993,
          2.965550893081,
          3.2099020249059884,
          3.198779820830886,
          3.1461837809774593,
          3.0253526722489132,
          2.6169738703870555,
          2.3934714925628677,
          2.370078364166188,
          2.161162095552363,
          2.307536434577078,
          2.3691662639993334,
          2.315157215454836,
          2.7197238942236086,
          2.8729424183944654,
          3.0772116329394046,
          3.1652544626645756,
          2.984996164269925,
          2.776541248050875,
          2.8255273387883966,
          2.8878675567171,
          2.8178364233243167,
          2.7329698893507097,
          2.7201942568509403,
          2.7473997362921545,
          2.657915937519643,
          2.766622205045323,
          2.731261795707747,
          2.722613710215287,
          2.585400184947487,
          2.647578752447976,
          2.7389286960320893,
          2.874454052599616,
          2.767097227542185,
          2.8095584533587186,
          2.8384160313909166,
          2.82503397119359,
          2.7693815732010045,
          2.6411083311089447,
          2.4835722401130114,
          2.583160234368755,
          2.533559617327857,
          2.498193433531359,
          2.5950839570081925,
          2.6342064642456213,
          2.661964628137237,
          2.7611097824231456,
          2.631662631074115,
          2.6015537209245907,
          2.5153988351944676,
          2.5689445682653584,
          2.5549686215759144,
          2.5290728654782297,
          2.531075542520019,
          2.549319708788267,
          2.610365723551972,
          2.7267042733926306,
          2.698916502643042,
          2.5390285699781745,
          2.5736799465279545,
          2.579692827356626,
          2.6984461173840235,
          2.6623775222029553,
          2.6985995011575548,
          2.8919340494779244,
          3.070885753089903,
          3.264056222384845,
          3.3429100714924287,
          3.335520783984617,
          3.456405099137879,
          3.3191853009801027,
          3.3129610461476484,
          3.1641437215918775,
          2.9866872982027552,
          2.8663428711062027,
          2.9910078620928666,
          2.8420923233274658,
          2.9217170140065165,
          2.7431004053448276,
          3.106877978810445,
          3.08560637048032,
          3.3214454365481987,
          3.3835684091179523,
          3.6027643768579574,
          3.6219635158860783,
          3.753988789983022,
          3.4999354963479203,
          3.618947783030461,
          3.5093553078792,
          3.4001009725581315,
          3.291185590751889,
          3.325393110112656,
          3.1881389824731245,
          3.3080695717173434,
          3.168491835557437,
          3.2146311330137083,
          3.2175437665071103,
          3.2486574898238154,
          3.29379784661609,
          3.4532256059829507,
          3.3554751929825883,
          3.272012184093725,
          3.4031382318811376,
          3.306071768307421,
          3.29642537171069,
          3.400993338158224,
          null,
          null,
          null,
          null,
          null,
          null,
          null,
          3.236613536762988,
          3.284926501601057,
          3.322132229688538,
          3.50309456108651,
          3.4841005269971412,
          3.321725613203463,
          3.618761509280214,
          3.9302528700742343,
          3.8836136181032623,
          3.8772484804022787,
          3.8415401997325347,
          3.8635663260648423,
          3.8137795062419917,
          3.90474770649126,
          3.857641565906867,
          3.882212411163473,
          4.069473532730434,
          4.117853719089026,
          4.18022260869243,
          4.281223516501993,
          4.285518889224085,
          4.270587309635199,
          4.483899807151643,
          4.352697919818433,
          4.417877692307456,
          4.444598162550494,
          4.493682650836087,
          4.441704707834227,
          4.504121449684749,
          4.581825321676308,
          4.758450280261576,
          4.864701934446373,
          4.867805772121703,
          4.797012819555893,
          4.838755971316061,
          4.981602289925334,
          4.975639217956787,
          5.06694172384371,
          4.915585757383733,
          4.963318189372771,
          5.426608227515777,
          5.447122150702923,
          5.382039990226963,
          5.222167802731059,
          5.092018194842863,
          5.203729484996522,
          5.245171150637789,
          5.013110101847332,
          4.923927150670065,
          4.919445490804156,
          4.990833535315557,
          5.090895276935005,
          5.177817362141904,
          5.449392980063359,
          5.378140134454628,
          5.606916091739243,
          5.652267172732522,
          5.721753743821958,
          5.648386978288834,
          5.659641822219626,
          5.44230008301645,
          5.510695540305487,
          5.580215490236706,
          5.7046902701060365,
          5.843470657794057,
          6.110815729550515,
          6.179296871454784,
          6.234634051141861,
          6.361376279569493,
          6.373881455890788,
          6.444589423367928,
          6.402123806279888,
          6.315671142651046,
          6.256602611299853,
          6.296439486620076,
          6.238490201903302,
          6.295835428827076
         ]
        },
        {
         "marker": {
          "color": "yellow",
          "line": {
           "color": "DarkSlateGrey",
           "width": 1
          }
         },
         "mode": "markers",
         "name": "Núcleo",
         "type": "scatter",
         "x": [
          "2017-06-02T00:00:00",
          "2017-06-12T00:00:00",
          "2017-06-14T00:00:00",
          "2017-06-16T00:00:00",
          "2017-06-17T00:00:00",
          "2017-06-21T00:00:00",
          "2017-07-18T00:00:00",
          "2017-07-25T00:00:00",
          "2017-07-31T00:00:00",
          "2017-08-29T00:00:00",
          "2017-09-12T00:00:00",
          "2017-09-19T00:00:00",
          "2017-09-20T00:00:00",
          "2017-10-08T00:00:00",
          "2017-10-11T00:00:00",
          "2017-10-14T00:00:00",
          "2018-01-24T00:00:00",
          "2018-02-15T00:00:00",
          "2018-02-18T00:00:00",
          "2018-02-19T00:00:00",
          "2018-02-24T00:00:00",
          "2018-02-25T00:00:00",
          "2018-03-17T00:00:00",
          "2018-03-20T00:00:00",
          "2018-03-25T00:00:00",
          "2018-04-04T00:00:00",
          "2018-04-07T00:00:00",
          "2018-04-16T00:00:00",
          "2018-05-05T00:00:00",
          "2018-06-08T00:00:00",
          "2018-06-18T00:00:00",
          "2018-06-24T00:00:00",
          "2018-07-08T00:00:00",
          "2018-07-13T00:00:00",
          "2018-07-14T00:00:00",
          "2018-08-03T00:00:00",
          "2018-08-05T00:00:00",
          "2018-08-12T00:00:00",
          "2018-08-16T00:00:00",
          "2018-08-28T00:00:00",
          "2018-09-05T00:00:00",
          "2018-09-11T00:00:00",
          "2018-09-15T00:00:00",
          "2018-09-16T00:00:00",
          "2018-09-27T00:00:00",
          "2018-09-29T00:00:00",
          "2018-09-30T00:00:00",
          "2018-10-04T00:00:00",
          "2018-10-08T00:00:00",
          "2018-10-10T00:00:00",
          "2018-10-11T00:00:00",
          "2018-10-12T00:00:00",
          "2018-10-14T00:00:00",
          "2018-10-21T00:00:00",
          "2018-10-31T00:00:00",
          "2018-11-01T00:00:00",
          "2018-11-05T00:00:00",
          "2018-11-07T00:00:00",
          "2018-11-12T00:00:00",
          "2018-11-16T00:00:00",
          "2019-01-13T00:00:00",
          "2019-02-02T00:00:00",
          "2019-02-07T00:00:00",
          "2019-02-17T00:00:00",
          "2019-02-28T00:00:00",
          "2019-03-02T00:00:00",
          "2019-03-11T00:00:00",
          "2019-03-17T00:00:00",
          "2019-03-27T00:00:00",
          "2019-03-30T00:00:00",
          "2019-03-31T00:00:00",
          "2019-04-02T00:00:00",
          "2019-04-07T00:00:00",
          "2019-04-11T00:00:00",
          "2019-04-15T00:00:00",
          "2019-04-23T00:00:00",
          "2019-04-25T00:00:00",
          "2019-04-28T00:00:00",
          "2019-05-02T00:00:00",
          "2019-05-07T00:00:00",
          "2019-05-12T00:00:00",
          "2019-05-13T00:00:00",
          "2019-05-23T00:00:00",
          "2019-05-29T00:00:00",
          "2019-06-06T00:00:00",
          "2019-06-07T00:00:00",
          "2019-06-09T00:00:00",
          "2019-06-13T00:00:00",
          "2019-06-27T00:00:00",
          "2019-07-05T00:00:00",
          "2019-07-21T00:00:00",
          "2019-07-23T00:00:00",
          "2019-07-25T00:00:00",
          "2019-07-31T00:00:00",
          "2019-08-01T00:00:00",
          "2019-08-08T00:00:00",
          "2019-08-09T00:00:00",
          "2019-08-10T00:00:00",
          "2019-08-22T00:00:00",
          "2019-08-24T00:00:00",
          "2019-08-25T00:00:00",
          "2019-08-27T00:00:00",
          "2019-08-28T00:00:00",
          "2019-08-30T00:00:00",
          "2019-08-31T00:00:00",
          "2019-09-02T00:00:00",
          "2019-09-12T00:00:00",
          "2019-09-18T00:00:00",
          "2019-09-19T00:00:00",
          "2019-09-21T00:00:00",
          "2019-09-25T00:00:00",
          "2019-10-02T00:00:00",
          "2019-10-13T00:00:00",
          "2019-10-14T00:00:00",
          "2019-10-23T00:00:00",
          "2019-10-25T00:00:00",
          "2019-10-29T00:00:00",
          "2019-10-30T00:00:00",
          "2019-10-31T00:00:00",
          "2019-11-10T00:00:00",
          "2019-11-14T00:00:00",
          "2019-12-04T00:00:00",
          "2019-12-10T00:00:00",
          "2019-12-17T00:00:00",
          "2019-12-21T00:00:00",
          "2019-12-29T00:00:00",
          "2020-01-01T00:00:00",
          "2020-01-02T00:00:00",
          "2020-01-17T00:00:00",
          "2020-01-22T00:00:00",
          "2020-01-24T00:00:00",
          "2020-01-29T00:00:00",
          "2020-02-02T00:00:00",
          "2020-02-07T00:00:00",
          "2020-02-18T00:00:00",
          "2020-02-20T00:00:00",
          "2020-02-21T00:00:00",
          "2020-02-28T00:00:00",
          "2020-03-04T00:00:00",
          "2020-03-08T00:00:00",
          "2020-03-11T00:00:00",
          "2020-03-15T00:00:00",
          "2020-03-16T00:00:00",
          "2020-03-18T00:00:00",
          "2020-03-20T00:00:00",
          "2020-03-21T00:00:00",
          "2020-03-22T00:00:00",
          "2020-03-23T00:00:00",
          "2020-03-24T00:00:00",
          "2020-03-25T00:00:00",
          "2020-03-26T00:00:00",
          "2020-03-29T00:00:00",
          "2020-04-01T00:00:00",
          "2020-04-02T00:00:00",
          "2020-04-14T00:00:00",
          "2020-04-16T00:00:00",
          "2020-04-18T00:00:00",
          "2020-04-20T00:00:00",
          "2020-04-21T00:00:00",
          "2020-04-23T00:00:00",
          "2020-04-24T00:00:00",
          "2020-04-26T00:00:00",
          "2020-04-28T00:00:00",
          "2020-05-06T00:00:00",
          "2020-05-07T00:00:00",
          "2020-05-13T00:00:00",
          "2020-05-15T00:00:00",
          "2020-05-16T00:00:00",
          "2020-05-17T00:00:00",
          "2020-05-21T00:00:00",
          "2020-05-24T00:00:00",
          "2020-06-01T00:00:00",
          "2020-06-12T00:00:00",
          "2020-06-13T00:00:00",
          "2020-06-18T00:00:00",
          "2020-06-19T00:00:00",
          "2020-06-20T00:00:00",
          "2020-06-21T00:00:00",
          "2020-06-23T00:00:00",
          "2020-06-24T00:00:00",
          "2020-06-25T00:00:00",
          "2020-06-27T00:00:00",
          "2020-07-03T00:00:00",
          "2020-07-06T00:00:00",
          "2020-07-07T00:00:00",
          "2020-07-09T00:00:00",
          "2020-07-10T00:00:00",
          "2020-07-11T00:00:00",
          "2020-07-12T00:00:00",
          "2020-07-18T00:00:00",
          "2020-07-19T00:00:00",
          "2020-07-26T00:00:00",
          "2020-07-29T00:00:00",
          "2020-07-30T00:00:00",
          "2020-07-31T00:00:00",
          "2020-08-07T00:00:00",
          "2020-08-08T00:00:00",
          "2020-08-09T00:00:00",
          "2020-08-14T00:00:00",
          "2020-08-16T00:00:00",
          "2020-08-19T00:00:00",
          "2020-08-20T00:00:00",
          "2020-08-21T00:00:00",
          "2020-08-22T00:00:00",
          "2020-08-23T00:00:00",
          "2020-08-24T00:00:00",
          "2020-08-25T00:00:00",
          "2020-09-02T00:00:00",
          "2020-09-03T00:00:00",
          "2020-09-05T00:00:00",
          "2020-09-07T00:00:00",
          "2020-09-09T00:00:00",
          "2020-09-10T00:00:00",
          "2020-09-11T00:00:00",
          "2020-09-12T00:00:00",
          "2020-09-13T00:00:00",
          "2020-09-14T00:00:00",
          "2020-09-15T00:00:00",
          "2020-09-16T00:00:00",
          "2020-09-17T00:00:00",
          "2020-09-18T00:00:00",
          "2020-09-19T00:00:00",
          "2020-09-21T00:00:00",
          "2020-09-23T00:00:00",
          "2020-09-29T00:00:00",
          "2020-09-30T00:00:00",
          "2020-10-03T00:00:00",
          "2020-10-09T00:00:00",
          "2020-10-10T00:00:00",
          "2020-10-11T00:00:00",
          "2020-10-12T00:00:00",
          "2020-10-16T00:00:00",
          "2020-10-17T00:00:00",
          "2020-10-19T00:00:00",
          "2020-10-24T00:00:00",
          "2020-11-02T00:00:00",
          "2020-11-05T00:00:00",
          "2020-11-06T00:00:00",
          "2020-11-08T00:00:00",
          "2020-11-14T00:00:00",
          "2020-11-16T00:00:00",
          "2020-11-18T00:00:00",
          "2020-11-20T00:00:00",
          "2020-11-21T00:00:00",
          "2020-11-23T00:00:00",
          "2020-11-24T00:00:00",
          "2020-11-25T00:00:00",
          "2020-12-06T00:00:00",
          "2020-12-08T00:00:00",
          "2020-12-19T00:00:00",
          "2020-12-26T00:00:00",
          "2020-12-27T00:00:00",
          "2021-01-11T00:00:00",
          "2021-01-16T00:00:00",
          "2021-01-17T00:00:00",
          "2021-01-18T00:00:00",
          "2021-01-24T00:00:00",
          "2021-01-25T00:00:00",
          "2021-01-31T00:00:00",
          "2021-02-05T00:00:00",
          "2021-02-08T00:00:00",
          "2021-02-09T00:00:00",
          "2021-02-11T00:00:00",
          "2021-02-15T00:00:00",
          "2021-02-17T00:00:00",
          "2021-02-19T00:00:00",
          "2021-02-21T00:00:00",
          "2021-02-22T00:00:00",
          "2021-02-24T00:00:00",
          "2021-03-06T00:00:00",
          "2021-03-07T00:00:00",
          "2021-03-09T00:00:00",
          "2021-03-10T00:00:00",
          "2021-03-13T00:00:00",
          "2021-03-14T00:00:00",
          "2021-03-16T00:00:00",
          "2021-03-17T00:00:00",
          "2021-03-19T00:00:00",
          "2021-03-20T00:00:00",
          "2021-03-22T00:00:00",
          "2021-03-23T00:00:00",
          "2021-03-24T00:00:00",
          "2021-03-25T00:00:00",
          "2021-03-30T00:00:00",
          "2021-04-01T00:00:00",
          "2021-04-03T00:00:00",
          "2021-04-04T00:00:00",
          "2021-04-05T00:00:00",
          "2021-04-06T00:00:00",
          "2021-04-09T00:00:00",
          "2021-04-10T00:00:00",
          "2021-04-12T00:00:00",
          "2021-04-13T00:00:00",
          "2021-04-14T00:00:00",
          "2021-04-15T00:00:00",
          "2021-04-17T00:00:00",
          "2021-04-18T00:00:00",
          "2021-04-19T00:00:00",
          "2021-04-21T00:00:00",
          "2021-04-23T00:00:00",
          "2021-04-25T00:00:00",
          "2021-04-26T00:00:00",
          "2021-04-28T00:00:00",
          "2021-04-30T00:00:00",
          "2021-05-02T00:00:00",
          "2021-05-03T00:00:00",
          "2021-05-04T00:00:00",
          "2021-05-05T00:00:00",
          "2021-05-08T00:00:00",
          "2021-05-11T00:00:00"
         ],
         "y": [
          null,
          null,
          null,
          null,
          null,
          null,
          -3.270203815616221,
          -3.2733907505862905,
          -3.306139761488543,
          -3.305079474927856,
          -3.3445419701759453,
          -3.340035214660751,
          -3.3075950275924177,
          -3.319970827188455,
          -3.247424954707312,
          -3.246865423712882,
          -3.255540318179118,
          -3.0033679313930457,
          -2.751624348210837,
          -2.656925824285661,
          -2.592892537990889,
          -2.572044295441085,
          -2.4885014430716907,
          -2.471887696847691,
          -2.7459146818863616,
          -2.9177650512788214,
          -2.9889962697678256,
          -2.9875327377587557,
          -2.9520571453862416,
          -2.9701586890970826,
          -2.943648499315867,
          -2.859928493035729,
          -2.8328980657334877,
          -2.776958987419821,
          -2.552147519072847,
          -2.37113840191114,
          -2.3422484369847374,
          -2.343023188411318,
          -2.3873378025390934,
          -2.389627519232182,
          -2.448521627688259,
          -2.620598380460354,
          -2.7537004700493557,
          -2.701361281524338,
          -2.633816220638452,
          -2.5810348526531888,
          -2.587899243974125,
          -2.5384714287091046,
          -2.603739669310992,
          -2.6837334143551033,
          -2.6922729300792425,
          -2.6745172622177047,
          -2.6138779721019056,
          -2.637456873912062,
          -2.6166698497365095,
          -2.6822320582564445,
          -2.7186690470620603,
          -2.783411973367866,
          -2.847050749333412,
          -2.9672506838802764,
          -2.9851934764133747,
          -2.9695948615898238,
          -2.8951887879062066,
          -2.8320988748083975,
          -2.7650564184648934,
          -2.68423009710076,
          -2.6435648819664714,
          -2.532922147980145,
          -2.51118419874681,
          -2.17584122108146,
          -1.872624769045155,
          -1.8158885057793042,
          -1.7578810732678716,
          -1.6876407843430508,
          -1.6610946771359285,
          -1.6354378949298547,
          -1.8245184483696109,
          -2.0270563369946353,
          -2.0859247257631024,
          -2.073427031283353,
          -2.0463680354052194,
          -2.006272855781426,
          -1.9941751332858229,
          -1.966292457722048,
          -1.893845301293558,
          -1.7655467727442071,
          -1.7385626369370257,
          -1.6406555847854445,
          -1.5811689346781022,
          -1.480103203648928,
          -1.4477532889669962,
          -1.3891704252135233,
          -1.3160707298228387,
          -1.2276647943238708,
          -1.1689921496886566,
          -1.1132002558098582,
          -1.0597665402177596,
          -0.9681980918954297,
          -0.8882669319629551,
          -0.8226411791297557,
          -0.7442295257234104,
          -0.637016794737593,
          -0.4029620029394988,
          -0.3114786614941136,
          -0.22004877083549015,
          -0.18851060456311103,
          -0.012037362319428471,
          0.15149360087933342,
          0.21477387258502795,
          0.3068860155941128,
          0.7709209851097051,
          1.2080256886523535,
          1.6761932778504438,
          2.0134370906450245,
          2.3659799014628553,
          2.604562099150063,
          2.815252383235112,
          2.9537462494311435,
          3.004950849492282,
          2.970570912574389,
          3.0657934553929422,
          3.022693750223857,
          3.2670448820488454,
          3.255922677973743,
          3.203326638120317,
          3.0824955293917706,
          3.0312595846727697,
          2.807757206848582,
          2.727221221309045,
          2.5183049526952206,
          2.6646792917199353,
          2.7263091211421906,
          2.7437286440262647,
          2.7911524656521807,
          2.9443709898230375,
          3.1486402043679758,
          3.2652544626645756,
          3.156424735698496,
          2.9479698194794466,
          2.9255273387883967,
          2.9878675567170996,
          2.9178364233243173,
          2.8329698893507094,
          2.7916228282795115,
          2.7473997362921545,
          2.786487366091071,
          2.8951936336167514,
          2.8598332242791753,
          2.8940422816438582,
          2.899685899233201,
          2.96186446673369,
          3.053214410317803,
          3.0601683383139013,
          2.9528115132564707,
          2.9952727390730045,
          3.195558888533774,
          3.1964625426221613,
          3.197953001772433,
          3.069679759680373,
          2.91214366868444,
          3.0117316629401834,
          2.962131045899286,
          2.7696220049599307,
          2.7093696712939073,
          2.6913493213884783,
          2.7762503424229514,
          2.875395496708861,
          2.745948345359829,
          2.715839435210305,
          2.6296845494801815,
          2.6832302825510728,
          2.7263971930044866,
          2.786215722621087,
          2.788218399662877,
          2.8636054230739814,
          2.924651437837686,
          2.9838471305354872,
          2.956059359785899,
          2.9247428556924597,
          3.0879656608136687,
          3.0939785416423398,
          3.155588974526881,
          3.1195203793458126,
          3.155742358300411,
          3.3490769066207817,
          3.342314324518474,
          3.264056222384845,
          3.542910071492429,
          3.7069493554131876,
          3.9992622419950217,
          4.162042443837246,
          4.155818189004791,
          4.192715150163306,
          4.129544441059898,
          3.8092000139633453,
          3.7624364335214375,
          3.442092323327465,
          3.3788598711493734,
          3.200243262487685,
          3.4925922645247307,
          3.428463513337462,
          3.6928740079767692,
          3.7549969805465233,
          4.288478662572244,
          4.236249230171793,
          4.368274504268736,
          3.9999354963479203,
          4.047519211601889,
          3.9093553078791996,
          3.8001009725581314,
          3.376899876466175,
          3.5253931101126557,
          3.388138982473125,
          3.7366410002887727,
          3.897063264128865,
          3.9432025615851365,
          4.017543766507111,
          4.048657489823816,
          3.89379784661609,
          4.05322560598295,
          3.855475192982589,
          3.8005836126651538,
          3.931709660452566,
          3.7632146254502774,
          3.7535682288535477,
          3.8724219095867958,
          null,
          null,
          null,
          null,
          null,
          null,
          null,
          3.67947067962013,
          3.8849265016010572,
          3.9078465154028232,
          4.10309456108651,
          4.184100526997142,
          4.036011327489177,
          4.3616186521373566,
          4.401681441502805,
          4.2693279038175485,
          4.262962766116564,
          4.141540199732535,
          4.1921377546362715,
          4.128065220527707,
          4.190461992205546,
          4.157641565906866,
          4.0964981254491875,
          4.283759247016148,
          4.33213943337474,
          4.2516511801210015,
          4.452652087930565,
          4.456947460652657,
          4.3705873096352,
          4.583899807151644,
          4.452697919818433,
          4.517877692307455,
          4.5445981625504945,
          4.493682650836087,
          4.441704707834227,
          4.518407163970464,
          4.596111035962023,
          4.801307423118717,
          4.9075590773035165,
          4.910662914978846,
          4.925584248127321,
          5.024470257030346,
          5.153030861353905,
          5.147067789385359,
          5.2097988667008535,
          5.058442900240876,
          5.106175332229914,
          5.483751084658634,
          5.447122150702922,
          5.382039990226963,
          5.379310659873917,
          5.249161051985721,
          5.3608723421393805,
          5.430885436352075,
          5.198824387561618,
          5.109641436384351,
          5.105159776518442,
          5.133690678172699,
          5.3480381340778615,
          5.434960219284762,
          5.677964408634788,
          5.706711563026057,
          5.935487520310671,
          5.98083860130395,
          5.936039458107673,
          5.891244121145979,
          5.902498965076768,
          5.799442940159309,
          5.767838397448344,
          5.837358347379564,
          5.9618331272488945,
          6.200613514936914,
          6.482244300979085,
          6.579296871454785,
          6.520348336856147,
          6.647090565283778,
          6.659595741605074,
          6.730303709082214,
          6.587838091994174,
          6.344242571222474,
          6.2566026112998525,
          6.296439486620076,
          6.5956330590461585,
          6.838692571684219
         ]
        }
       ],
       "layout": {
        "template": {
         "data": {
          "bar": [
           {
            "error_x": {
             "color": "#f2f5fa"
            },
            "error_y": {
             "color": "#f2f5fa"
            },
            "marker": {
             "line": {
              "color": "rgb(17,17,17)",
              "width": 0.5
             },
             "pattern": {
              "fillmode": "overlay",
              "size": 10,
              "solidity": 0.2
             }
            },
            "type": "bar"
           }
          ],
          "barpolar": [
           {
            "marker": {
             "line": {
              "color": "rgb(17,17,17)",
              "width": 0.5
             },
             "pattern": {
              "fillmode": "overlay",
              "size": 10,
              "solidity": 0.2
             }
            },
            "type": "barpolar"
           }
          ],
          "carpet": [
           {
            "aaxis": {
             "endlinecolor": "#A2B1C6",
             "gridcolor": "#506784",
             "linecolor": "#506784",
             "minorgridcolor": "#506784",
             "startlinecolor": "#A2B1C6"
            },
            "baxis": {
             "endlinecolor": "#A2B1C6",
             "gridcolor": "#506784",
             "linecolor": "#506784",
             "minorgridcolor": "#506784",
             "startlinecolor": "#A2B1C6"
            },
            "type": "carpet"
           }
          ],
          "choropleth": [
           {
            "colorbar": {
             "outlinewidth": 0,
             "ticks": ""
            },
            "type": "choropleth"
           }
          ],
          "contour": [
           {
            "colorbar": {
             "outlinewidth": 0,
             "ticks": ""
            },
            "colorscale": [
             [
              0,
              "#0d0887"
             ],
             [
              0.1111111111111111,
              "#46039f"
             ],
             [
              0.2222222222222222,
              "#7201a8"
             ],
             [
              0.3333333333333333,
              "#9c179e"
             ],
             [
              0.4444444444444444,
              "#bd3786"
             ],
             [
              0.5555555555555556,
              "#d8576b"
             ],
             [
              0.6666666666666666,
              "#ed7953"
             ],
             [
              0.7777777777777778,
              "#fb9f3a"
             ],
             [
              0.8888888888888888,
              "#fdca26"
             ],
             [
              1,
              "#f0f921"
             ]
            ],
            "type": "contour"
           }
          ],
          "contourcarpet": [
           {
            "colorbar": {
             "outlinewidth": 0,
             "ticks": ""
            },
            "type": "contourcarpet"
           }
          ],
          "heatmap": [
           {
            "colorbar": {
             "outlinewidth": 0,
             "ticks": ""
            },
            "colorscale": [
             [
              0,
              "#0d0887"
             ],
             [
              0.1111111111111111,
              "#46039f"
             ],
             [
              0.2222222222222222,
              "#7201a8"
             ],
             [
              0.3333333333333333,
              "#9c179e"
             ],
             [
              0.4444444444444444,
              "#bd3786"
             ],
             [
              0.5555555555555556,
              "#d8576b"
             ],
             [
              0.6666666666666666,
              "#ed7953"
             ],
             [
              0.7777777777777778,
              "#fb9f3a"
             ],
             [
              0.8888888888888888,
              "#fdca26"
             ],
             [
              1,
              "#f0f921"
             ]
            ],
            "type": "heatmap"
           }
          ],
          "heatmapgl": [
           {
            "colorbar": {
             "outlinewidth": 0,
             "ticks": ""
            },
            "colorscale": [
             [
              0,
              "#0d0887"
             ],
             [
              0.1111111111111111,
              "#46039f"
             ],
             [
              0.2222222222222222,
              "#7201a8"
             ],
             [
              0.3333333333333333,
              "#9c179e"
             ],
             [
              0.4444444444444444,
              "#bd3786"
             ],
             [
              0.5555555555555556,
              "#d8576b"
             ],
             [
              0.6666666666666666,
              "#ed7953"
             ],
             [
              0.7777777777777778,
              "#fb9f3a"
             ],
             [
              0.8888888888888888,
              "#fdca26"
             ],
             [
              1,
              "#f0f921"
             ]
            ],
            "type": "heatmapgl"
           }
          ],
          "histogram": [
           {
            "marker": {
             "pattern": {
              "fillmode": "overlay",
              "size": 10,
              "solidity": 0.2
             }
            },
            "type": "histogram"
           }
          ],
          "histogram2d": [
           {
            "colorbar": {
             "outlinewidth": 0,
             "ticks": ""
            },
            "colorscale": [
             [
              0,
              "#0d0887"
             ],
             [
              0.1111111111111111,
              "#46039f"
             ],
             [
              0.2222222222222222,
              "#7201a8"
             ],
             [
              0.3333333333333333,
              "#9c179e"
             ],
             [
              0.4444444444444444,
              "#bd3786"
             ],
             [
              0.5555555555555556,
              "#d8576b"
             ],
             [
              0.6666666666666666,
              "#ed7953"
             ],
             [
              0.7777777777777778,
              "#fb9f3a"
             ],
             [
              0.8888888888888888,
              "#fdca26"
             ],
             [
              1,
              "#f0f921"
             ]
            ],
            "type": "histogram2d"
           }
          ],
          "histogram2dcontour": [
           {
            "colorbar": {
             "outlinewidth": 0,
             "ticks": ""
            },
            "colorscale": [
             [
              0,
              "#0d0887"
             ],
             [
              0.1111111111111111,
              "#46039f"
             ],
             [
              0.2222222222222222,
              "#7201a8"
             ],
             [
              0.3333333333333333,
              "#9c179e"
             ],
             [
              0.4444444444444444,
              "#bd3786"
             ],
             [
              0.5555555555555556,
              "#d8576b"
             ],
             [
              0.6666666666666666,
              "#ed7953"
             ],
             [
              0.7777777777777778,
              "#fb9f3a"
             ],
             [
              0.8888888888888888,
              "#fdca26"
             ],
             [
              1,
              "#f0f921"
             ]
            ],
            "type": "histogram2dcontour"
           }
          ],
          "mesh3d": [
           {
            "colorbar": {
             "outlinewidth": 0,
             "ticks": ""
            },
            "type": "mesh3d"
           }
          ],
          "parcoords": [
           {
            "line": {
             "colorbar": {
              "outlinewidth": 0,
              "ticks": ""
             }
            },
            "type": "parcoords"
           }
          ],
          "pie": [
           {
            "automargin": true,
            "type": "pie"
           }
          ],
          "scatter": [
           {
            "marker": {
             "line": {
              "color": "#283442"
             }
            },
            "type": "scatter"
           }
          ],
          "scatter3d": [
           {
            "line": {
             "colorbar": {
              "outlinewidth": 0,
              "ticks": ""
             }
            },
            "marker": {
             "colorbar": {
              "outlinewidth": 0,
              "ticks": ""
             }
            },
            "type": "scatter3d"
           }
          ],
          "scattercarpet": [
           {
            "marker": {
             "colorbar": {
              "outlinewidth": 0,
              "ticks": ""
             }
            },
            "type": "scattercarpet"
           }
          ],
          "scattergeo": [
           {
            "marker": {
             "colorbar": {
              "outlinewidth": 0,
              "ticks": ""
             }
            },
            "type": "scattergeo"
           }
          ],
          "scattergl": [
           {
            "marker": {
             "line": {
              "color": "#283442"
             }
            },
            "type": "scattergl"
           }
          ],
          "scattermapbox": [
           {
            "marker": {
             "colorbar": {
              "outlinewidth": 0,
              "ticks": ""
             }
            },
            "type": "scattermapbox"
           }
          ],
          "scatterpolar": [
           {
            "marker": {
             "colorbar": {
              "outlinewidth": 0,
              "ticks": ""
             }
            },
            "type": "scatterpolar"
           }
          ],
          "scatterpolargl": [
           {
            "marker": {
             "colorbar": {
              "outlinewidth": 0,
              "ticks": ""
             }
            },
            "type": "scatterpolargl"
           }
          ],
          "scatterternary": [
           {
            "marker": {
             "colorbar": {
              "outlinewidth": 0,
              "ticks": ""
             }
            },
            "type": "scatterternary"
           }
          ],
          "surface": [
           {
            "colorbar": {
             "outlinewidth": 0,
             "ticks": ""
            },
            "colorscale": [
             [
              0,
              "#0d0887"
             ],
             [
              0.1111111111111111,
              "#46039f"
             ],
             [
              0.2222222222222222,
              "#7201a8"
             ],
             [
              0.3333333333333333,
              "#9c179e"
             ],
             [
              0.4444444444444444,
              "#bd3786"
             ],
             [
              0.5555555555555556,
              "#d8576b"
             ],
             [
              0.6666666666666666,
              "#ed7953"
             ],
             [
              0.7777777777777778,
              "#fb9f3a"
             ],
             [
              0.8888888888888888,
              "#fdca26"
             ],
             [
              1,
              "#f0f921"
             ]
            ],
            "type": "surface"
           }
          ],
          "table": [
           {
            "cells": {
             "fill": {
              "color": "#506784"
             },
             "line": {
              "color": "rgb(17,17,17)"
             }
            },
            "header": {
             "fill": {
              "color": "#2a3f5f"
             },
             "line": {
              "color": "rgb(17,17,17)"
             }
            },
            "type": "table"
           }
          ]
         },
         "layout": {
          "annotationdefaults": {
           "arrowcolor": "#f2f5fa",
           "arrowhead": 0,
           "arrowwidth": 1
          },
          "autotypenumbers": "strict",
          "coloraxis": {
           "colorbar": {
            "outlinewidth": 0,
            "ticks": ""
           }
          },
          "colorscale": {
           "diverging": [
            [
             0,
             "#8e0152"
            ],
            [
             0.1,
             "#c51b7d"
            ],
            [
             0.2,
             "#de77ae"
            ],
            [
             0.3,
             "#f1b6da"
            ],
            [
             0.4,
             "#fde0ef"
            ],
            [
             0.5,
             "#f7f7f7"
            ],
            [
             0.6,
             "#e6f5d0"
            ],
            [
             0.7,
             "#b8e186"
            ],
            [
             0.8,
             "#7fbc41"
            ],
            [
             0.9,
             "#4d9221"
            ],
            [
             1,
             "#276419"
            ]
           ],
           "sequential": [
            [
             0,
             "#0d0887"
            ],
            [
             0.1111111111111111,
             "#46039f"
            ],
            [
             0.2222222222222222,
             "#7201a8"
            ],
            [
             0.3333333333333333,
             "#9c179e"
            ],
            [
             0.4444444444444444,
             "#bd3786"
            ],
            [
             0.5555555555555556,
             "#d8576b"
            ],
            [
             0.6666666666666666,
             "#ed7953"
            ],
            [
             0.7777777777777778,
             "#fb9f3a"
            ],
            [
             0.8888888888888888,
             "#fdca26"
            ],
            [
             1,
             "#f0f921"
            ]
           ],
           "sequentialminus": [
            [
             0,
             "#0d0887"
            ],
            [
             0.1111111111111111,
             "#46039f"
            ],
            [
             0.2222222222222222,
             "#7201a8"
            ],
            [
             0.3333333333333333,
             "#9c179e"
            ],
            [
             0.4444444444444444,
             "#bd3786"
            ],
            [
             0.5555555555555556,
             "#d8576b"
            ],
            [
             0.6666666666666666,
             "#ed7953"
            ],
            [
             0.7777777777777778,
             "#fb9f3a"
            ],
            [
             0.8888888888888888,
             "#fdca26"
            ],
            [
             1,
             "#f0f921"
            ]
           ]
          },
          "colorway": [
           "#636efa",
           "#EF553B",
           "#00cc96",
           "#ab63fa",
           "#FFA15A",
           "#19d3f3",
           "#FF6692",
           "#B6E880",
           "#FF97FF",
           "#FECB52"
          ],
          "font": {
           "color": "#f2f5fa"
          },
          "geo": {
           "bgcolor": "rgb(17,17,17)",
           "lakecolor": "rgb(17,17,17)",
           "landcolor": "rgb(17,17,17)",
           "showlakes": true,
           "showland": true,
           "subunitcolor": "#506784"
          },
          "hoverlabel": {
           "align": "left"
          },
          "hovermode": "closest",
          "mapbox": {
           "style": "dark"
          },
          "paper_bgcolor": "rgb(17,17,17)",
          "plot_bgcolor": "rgb(17,17,17)",
          "polar": {
           "angularaxis": {
            "gridcolor": "#506784",
            "linecolor": "#506784",
            "ticks": ""
           },
           "bgcolor": "rgb(17,17,17)",
           "radialaxis": {
            "gridcolor": "#506784",
            "linecolor": "#506784",
            "ticks": ""
           }
          },
          "scene": {
           "xaxis": {
            "backgroundcolor": "rgb(17,17,17)",
            "gridcolor": "#506784",
            "gridwidth": 2,
            "linecolor": "#506784",
            "showbackground": true,
            "ticks": "",
            "zerolinecolor": "#C8D4E3"
           },
           "yaxis": {
            "backgroundcolor": "rgb(17,17,17)",
            "gridcolor": "#506784",
            "gridwidth": 2,
            "linecolor": "#506784",
            "showbackground": true,
            "ticks": "",
            "zerolinecolor": "#C8D4E3"
           },
           "zaxis": {
            "backgroundcolor": "rgb(17,17,17)",
            "gridcolor": "#506784",
            "gridwidth": 2,
            "linecolor": "#506784",
            "showbackground": true,
            "ticks": "",
            "zerolinecolor": "#C8D4E3"
           }
          },
          "shapedefaults": {
           "line": {
            "color": "#f2f5fa"
           }
          },
          "sliderdefaults": {
           "bgcolor": "#C8D4E3",
           "bordercolor": "rgb(17,17,17)",
           "borderwidth": 1,
           "tickwidth": 0
          },
          "ternary": {
           "aaxis": {
            "gridcolor": "#506784",
            "linecolor": "#506784",
            "ticks": ""
           },
           "baxis": {
            "gridcolor": "#506784",
            "linecolor": "#506784",
            "ticks": ""
           },
           "bgcolor": "rgb(17,17,17)",
           "caxis": {
            "gridcolor": "#506784",
            "linecolor": "#506784",
            "ticks": ""
           }
          },
          "title": {
           "x": 0.05
          },
          "updatemenudefaults": {
           "bgcolor": "#506784",
           "borderwidth": 0
          },
          "xaxis": {
           "automargin": true,
           "gridcolor": "#283442",
           "linecolor": "#506784",
           "ticks": "",
           "title": {
            "standoff": 15
           },
           "zerolinecolor": "#283442",
           "zerolinewidth": 2
          },
          "yaxis": {
           "automargin": true,
           "gridcolor": "#283442",
           "linecolor": "#506784",
           "ticks": "",
           "title": {
            "standoff": 15
           },
           "zerolinecolor": "#283442",
           "zerolinewidth": 2
          }
         }
        },
        "xaxis": {
         "title": {
          "text": "Observation Date"
         }
        },
        "yaxis": {
         "autorange": "reversed",
         "title": {
          "text": "Promedio Movil"
         }
        }
       }
      }
     },
     "metadata": {},
     "output_type": "display_data"
    }
   ],
   "source": [
    "# Gráfica de lus promediada\n",
    "labels = {'obs_date':'Observation Date','magnitud_reducida':'Magnitude reduced'}\n",
    "fig = go.Figure()\n",
    "fig.add_trace(go.Scatter(x=curva_de_luz_externa_df.obs_date, y=curva_de_luz_externa_df.promedio_movil, mode='markers', name='Envolvente', marker=dict(color='red', line=dict(width=1, color='DarkSlateGrey'))))\n",
    "fig.add_trace(go.Scatter(x=curva_de_luz_interna_df.obs_date, y=curva_de_luz_interna_df.promedio_movil, mode='markers', name='Núcleo', marker=dict(color='yellow', line=dict(width=1, color='DarkSlateGrey'))))\n",
    "fig.update_layout(template='plotly_dark')\n",
    "fig.update_yaxes(autorange=\"reversed\")\n",
    "fig.update_layout(template='plotly_dark', xaxis_title='Observation Date', yaxis_title='Promedio Movil')\n",
    "fig.show()"
   ]
  }
 ],
 "metadata": {
  "kernelspec": {
   "display_name": "Python 3",
   "language": "python",
   "name": "python3"
  },
  "language_info": {
   "codemirror_mode": {
    "name": "ipython",
    "version": 3
   },
   "file_extension": ".py",
   "mimetype": "text/x-python",
   "name": "python",
   "nbconvert_exporter": "python",
   "pygments_lexer": "ipython3",
   "version": "3.12.3"
  }
 },
 "nbformat": 4,
 "nbformat_minor": 2
}
