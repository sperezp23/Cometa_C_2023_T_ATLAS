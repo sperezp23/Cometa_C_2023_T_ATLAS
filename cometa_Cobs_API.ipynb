{
 "cells": [
  {
   "cell_type": "code",
   "execution_count": 1,
   "metadata": {},
   "outputs": [],
   "source": [
    "# Librerías\n",
    "import requests\n",
    "import numpy as np\n",
    "import pandas as pd\n",
    "import plotly.express as px\n",
    "import plotly.graph_objects as go\n",
    "from plotly.subplots import make_subplots\n",
    "from astroquery.mpc import MPC"
   ]
  },
  {
   "cell_type": "markdown",
   "metadata": {},
   "source": [
    "# Cobs API"
   ]
  },
  {
   "cell_type": "code",
   "execution_count": 2,
   "metadata": {},
   "outputs": [],
   "source": [
    "# Verificar la conexión a internet.\n",
    "def verificar_conexion():\n",
    "    try:\n",
    "        requests.get(\"http://www.google.com\", timeout=5)\n",
    "        print('✅ Conectado a internet.')\n",
    "        return True\n",
    "    \n",
    "    except requests.ConnectionError:\n",
    "        print('🛑 Sin conexión a internet.')\n",
    "        return False"
   ]
  },
  {
   "cell_type": "code",
   "execution_count": 3,
   "metadata": {},
   "outputs": [
    {
     "name": "stdout",
     "output_type": "stream",
     "text": [
      "✅ Conectado a internet.\n",
      "✅ Base de datos actualizada.\n"
     ]
    }
   ],
   "source": [
    "# Conexión con la API de COBS\n",
    "Link_cops_API = 'https://cobs.si/api/obs_list.api?des=C/2023 A3&format=json&from_date=&to_date=&exclude_faint=False&exclude_not_accurate=False'\n",
    "\n",
    "if verificar_conexion():\n",
    "    response = requests.get(Link_cops_API)\n",
    "\n",
    "\n",
    "if response.status_code == 200:\n",
    "    content = response.json()\n",
    "    print('✅ Base de datos actualizada.')\n",
    "\n",
    "else:\n",
    "    print(f'🛑 Se presentó un error al cargar la base de datos.\\nError: {response.status_code}\\n{response.content}')"
   ]
  },
  {
   "cell_type": "code",
   "execution_count": 4,
   "metadata": {},
   "outputs": [
    {
     "name": "stdout",
     "output_type": "stream",
     "text": [
      "<class 'pandas.core.frame.DataFrame'>\n",
      "RangeIndex: 1155 entries, 0 to 1154\n",
      "Data columns (total 47 columns):\n",
      " #   Column                     Non-Null Count  Dtype  \n",
      "---  ------                     --------------  -----  \n",
      " 0   type                       1155 non-null   object \n",
      " 1   obs_date                   1155 non-null   object \n",
      " 2   comet                      1155 non-null   object \n",
      " 3   observer                   1155 non-null   object \n",
      " 4   location                   528 non-null    object \n",
      " 5   extinction                 68 non-null     object \n",
      " 6   obs_method                 1155 non-null   object \n",
      " 7   comet_visibility           3 non-null      object \n",
      " 8   magnitude                  1155 non-null   object \n",
      " 9   conditions                 18 non-null     object \n",
      " 10  ref_catalog                1155 non-null   object \n",
      " 11  instrument_aperture        1155 non-null   object \n",
      " 12  instrument_type            1155 non-null   object \n",
      " 13  instrument_focal_ratio     1012 non-null   float64\n",
      " 14  instrument_power           1143 non-null   float64\n",
      " 15  coma_visibility            11 non-null     object \n",
      " 16  coma_diameter              1063 non-null   object \n",
      " 17  coma_notes                 4 non-null      object \n",
      " 18  coma_dc                    472 non-null    object \n",
      " 19  tail_visibility            5 non-null      object \n",
      " 20  tail_length                591 non-null    object \n",
      " 21  tail_length_unit           582 non-null    object \n",
      " 22  tail_pa                    567 non-null    float64\n",
      " 23  icq_reference              974 non-null    object \n",
      " 24  icq_revision               431 non-null    object \n",
      " 25  comparison_field           544 non-null    object \n",
      " 26  integration_time           77 non-null     float64\n",
      " 27  photometry_aperture_shape  648 non-null    object \n",
      " 28  photometry_aperture_size   643 non-null    object \n",
      " 29  photometry_aperture_unit   641 non-null    object \n",
      " 30  camera_type                653 non-null    object \n",
      " 31  chip_type                  647 non-null    object \n",
      " 32  software_type              707 non-null    object \n",
      " 33  image_correction           638 non-null    float64\n",
      " 34  observation_published      750 non-null    object \n",
      " 35  image_number               446 non-null    float64\n",
      " 36  image_coadded              746 non-null    object \n",
      " 37  magnitude_error            288 non-null    object \n",
      " 38  comparison_star_magnitude  94 non-null     object \n",
      " 39  pixel_size_x               616 non-null    object \n",
      " 40  pixel_size_y               616 non-null    object \n",
      " 41  pixel_size_unit            616 non-null    object \n",
      " 42  obs_comment                1155 non-null   object \n",
      " 43  obs_sky_quality            88 non-null     object \n",
      " 44  obs_sky_quality_method     86 non-null     float64\n",
      " 45  reference_star_names       1155 non-null   object \n",
      " 46  date_added                 1155 non-null   object \n",
      "dtypes: float64(7), object(40)\n",
      "memory usage: 424.2+ KB\n"
     ]
    }
   ],
   "source": [
    "# Creación del data frame Cometa\n",
    "cometa_df = pd.DataFrame(content['objects'])\n",
    "cometa_df.info()"
   ]
  },
  {
   "cell_type": "code",
   "execution_count": 5,
   "metadata": {},
   "outputs": [
    {
     "name": "stdout",
     "output_type": "stream",
     "text": [
      "Registros: 1155\n",
      "Variables: 47\n"
     ]
    }
   ],
   "source": [
    "# Sin filtrar la información\n",
    "filas,columnas = cometa_df.shape\n",
    "print(f'Registros: {filas}\\nVariables: {columnas}')"
   ]
  },
  {
   "cell_type": "code",
   "execution_count": 6,
   "metadata": {},
   "outputs": [
    {
     "data": {
      "text/html": [
       "<div>\n",
       "<style scoped>\n",
       "    .dataframe tbody tr th:only-of-type {\n",
       "        vertical-align: middle;\n",
       "    }\n",
       "\n",
       "    .dataframe tbody tr th {\n",
       "        vertical-align: top;\n",
       "    }\n",
       "\n",
       "    .dataframe thead th {\n",
       "        text-align: right;\n",
       "    }\n",
       "</style>\n",
       "<table border=\"1\" class=\"dataframe\">\n",
       "  <thead>\n",
       "    <tr style=\"text-align: right;\">\n",
       "      <th></th>\n",
       "      <th>type</th>\n",
       "      <th>obs_date</th>\n",
       "      <th>comet</th>\n",
       "      <th>observer</th>\n",
       "      <th>location</th>\n",
       "      <th>extinction</th>\n",
       "      <th>obs_method</th>\n",
       "      <th>comet_visibility</th>\n",
       "      <th>magnitude</th>\n",
       "      <th>conditions</th>\n",
       "      <th>...</th>\n",
       "      <th>magnitude_error</th>\n",
       "      <th>comparison_star_magnitude</th>\n",
       "      <th>pixel_size_x</th>\n",
       "      <th>pixel_size_y</th>\n",
       "      <th>pixel_size_unit</th>\n",
       "      <th>obs_comment</th>\n",
       "      <th>obs_sky_quality</th>\n",
       "      <th>obs_sky_quality_method</th>\n",
       "      <th>reference_star_names</th>\n",
       "      <th>date_added</th>\n",
       "    </tr>\n",
       "  </thead>\n",
       "  <tbody>\n",
       "    <tr>\n",
       "      <th>152</th>\n",
       "      <td>C</td>\n",
       "      <td>2024-06-24 05:02:24</td>\n",
       "      <td>{'type': 'C', 'name': 'C/2023 A3', 'fullname':...</td>\n",
       "      <td>{'first_name': 'Katsumi', 'last_name': 'Yoshim...</td>\n",
       "      <td>None</td>\n",
       "      <td>None</td>\n",
       "      <td>{'key': 'D', 'name': 'Johnson/Bessel/Kron/Cous...</td>\n",
       "      <td>None</td>\n",
       "      <td>10.7</td>\n",
       "      <td>None</td>\n",
       "      <td>...</td>\n",
       "      <td>None</td>\n",
       "      <td>12.00</td>\n",
       "      <td>1.9</td>\n",
       "      <td>1.9</td>\n",
       "      <td>s</td>\n",
       "      <td></td>\n",
       "      <td>None</td>\n",
       "      <td>NaN</td>\n",
       "      <td></td>\n",
       "      <td>2024-06-28 16:26:18</td>\n",
       "    </tr>\n",
       "    <tr>\n",
       "      <th>92</th>\n",
       "      <td>C</td>\n",
       "      <td>2024-07-03 21:51:00</td>\n",
       "      <td>{'type': 'C', 'name': 'C/2023 A3', 'fullname':...</td>\n",
       "      <td>{'first_name': 'Peter', 'last_name': 'Carson',...</td>\n",
       "      <td>PGC Observatory Z10, Fregenal de la sierra, Spain</td>\n",
       "      <td>None</td>\n",
       "      <td>{'key': 'Z', 'name': 'CCD Visual equivalent', ...</td>\n",
       "      <td>None</td>\n",
       "      <td>10.5</td>\n",
       "      <td>None</td>\n",
       "      <td>...</td>\n",
       "      <td>None</td>\n",
       "      <td>None</td>\n",
       "      <td>0.6</td>\n",
       "      <td>0.6</td>\n",
       "      <td>s</td>\n",
       "      <td></td>\n",
       "      <td>None</td>\n",
       "      <td>NaN</td>\n",
       "      <td></td>\n",
       "      <td>2024-07-05 19:35:35</td>\n",
       "    </tr>\n",
       "    <tr>\n",
       "      <th>200</th>\n",
       "      <td>V</td>\n",
       "      <td>2024-06-10 21:36:00</td>\n",
       "      <td>{'type': 'C', 'name': 'C/2023 A3', 'fullname':...</td>\n",
       "      <td>{'first_name': 'Alexandre', 'last_name': 'Amor...</td>\n",
       "      <td>None</td>\n",
       "      <td>None</td>\n",
       "      <td>{'key': 'S', 'name': 'In-Out method', 'source'...</td>\n",
       "      <td>None</td>\n",
       "      <td>9.9</td>\n",
       "      <td>None</td>\n",
       "      <td>...</td>\n",
       "      <td>None</td>\n",
       "      <td>None</td>\n",
       "      <td>None</td>\n",
       "      <td>None</td>\n",
       "      <td>None</td>\n",
       "      <td></td>\n",
       "      <td>None</td>\n",
       "      <td>NaN</td>\n",
       "      <td></td>\n",
       "      <td>2024-06-11 11:54:22</td>\n",
       "    </tr>\n",
       "    <tr>\n",
       "      <th>327</th>\n",
       "      <td>C</td>\n",
       "      <td>2024-05-28 19:59:00</td>\n",
       "      <td>{'type': 'C', 'name': 'C/2023 A3', 'fullname':...</td>\n",
       "      <td>{'first_name': 'Giuseppe', 'last_name': 'Pappa...</td>\n",
       "      <td>Pedara,Sicily,Italy</td>\n",
       "      <td>None</td>\n",
       "      <td>{'key': 'C', 'name': 'Unfiltered total CCD mag...</td>\n",
       "      <td>None</td>\n",
       "      <td>11.0</td>\n",
       "      <td>None</td>\n",
       "      <td>...</td>\n",
       "      <td>None</td>\n",
       "      <td>None</td>\n",
       "      <td>None</td>\n",
       "      <td>None</td>\n",
       "      <td>None</td>\n",
       "      <td></td>\n",
       "      <td>None</td>\n",
       "      <td>NaN</td>\n",
       "      <td></td>\n",
       "      <td>2024-06-12 17:29:00</td>\n",
       "    </tr>\n",
       "    <tr>\n",
       "      <th>1060</th>\n",
       "      <td>C</td>\n",
       "      <td>2023-06-07 18:28:47</td>\n",
       "      <td>{'type': 'C', 'name': 'C/2023 A3', 'fullname':...</td>\n",
       "      <td>{'first_name': 'Thomas', 'last_name': 'Lehmann...</td>\n",
       "      <td>Hakos (remote)</td>\n",
       "      <td>None</td>\n",
       "      <td>{'key': 'Z', 'name': 'CCD Visual equivalent', ...</td>\n",
       "      <td>None</td>\n",
       "      <td>16.8</td>\n",
       "      <td>None</td>\n",
       "      <td>...</td>\n",
       "      <td>None</td>\n",
       "      <td>None</td>\n",
       "      <td>1.3</td>\n",
       "      <td>1.3</td>\n",
       "      <td>s</td>\n",
       "      <td>CMOS/G, mlim=20.5</td>\n",
       "      <td>None</td>\n",
       "      <td>NaN</td>\n",
       "      <td></td>\n",
       "      <td>2023-06-15 15:20:26</td>\n",
       "    </tr>\n",
       "  </tbody>\n",
       "</table>\n",
       "<p>5 rows × 47 columns</p>\n",
       "</div>"
      ],
      "text/plain": [
       "     type             obs_date  \\\n",
       "152     C  2024-06-24 05:02:24   \n",
       "92      C  2024-07-03 21:51:00   \n",
       "200     V  2024-06-10 21:36:00   \n",
       "327     C  2024-05-28 19:59:00   \n",
       "1060    C  2023-06-07 18:28:47   \n",
       "\n",
       "                                                  comet  \\\n",
       "152   {'type': 'C', 'name': 'C/2023 A3', 'fullname':...   \n",
       "92    {'type': 'C', 'name': 'C/2023 A3', 'fullname':...   \n",
       "200   {'type': 'C', 'name': 'C/2023 A3', 'fullname':...   \n",
       "327   {'type': 'C', 'name': 'C/2023 A3', 'fullname':...   \n",
       "1060  {'type': 'C', 'name': 'C/2023 A3', 'fullname':...   \n",
       "\n",
       "                                               observer  \\\n",
       "152   {'first_name': 'Katsumi', 'last_name': 'Yoshim...   \n",
       "92    {'first_name': 'Peter', 'last_name': 'Carson',...   \n",
       "200   {'first_name': 'Alexandre', 'last_name': 'Amor...   \n",
       "327   {'first_name': 'Giuseppe', 'last_name': 'Pappa...   \n",
       "1060  {'first_name': 'Thomas', 'last_name': 'Lehmann...   \n",
       "\n",
       "                                               location extinction  \\\n",
       "152                                                None       None   \n",
       "92    PGC Observatory Z10, Fregenal de la sierra, Spain       None   \n",
       "200                                                None       None   \n",
       "327                                 Pedara,Sicily,Italy       None   \n",
       "1060                                     Hakos (remote)       None   \n",
       "\n",
       "                                             obs_method comet_visibility  \\\n",
       "152   {'key': 'D', 'name': 'Johnson/Bessel/Kron/Cous...             None   \n",
       "92    {'key': 'Z', 'name': 'CCD Visual equivalent', ...             None   \n",
       "200   {'key': 'S', 'name': 'In-Out method', 'source'...             None   \n",
       "327   {'key': 'C', 'name': 'Unfiltered total CCD mag...             None   \n",
       "1060  {'key': 'Z', 'name': 'CCD Visual equivalent', ...             None   \n",
       "\n",
       "     magnitude conditions  ... magnitude_error comparison_star_magnitude  \\\n",
       "152       10.7       None  ...            None                     12.00   \n",
       "92        10.5       None  ...            None                      None   \n",
       "200        9.9       None  ...            None                      None   \n",
       "327       11.0       None  ...            None                      None   \n",
       "1060      16.8       None  ...            None                      None   \n",
       "\n",
       "     pixel_size_x  pixel_size_y  pixel_size_unit        obs_comment  \\\n",
       "152           1.9           1.9                s                      \n",
       "92            0.6           0.6                s                      \n",
       "200          None          None             None                      \n",
       "327          None          None             None                      \n",
       "1060          1.3           1.3                s  CMOS/G, mlim=20.5   \n",
       "\n",
       "     obs_sky_quality obs_sky_quality_method reference_star_names  \\\n",
       "152             None                    NaN                        \n",
       "92              None                    NaN                        \n",
       "200             None                    NaN                        \n",
       "327             None                    NaN                        \n",
       "1060            None                    NaN                        \n",
       "\n",
       "               date_added  \n",
       "152   2024-06-28 16:26:18  \n",
       "92    2024-07-05 19:35:35  \n",
       "200   2024-06-11 11:54:22  \n",
       "327   2024-06-12 17:29:00  \n",
       "1060  2023-06-15 15:20:26  \n",
       "\n",
       "[5 rows x 47 columns]"
      ]
     },
     "execution_count": 6,
     "metadata": {},
     "output_type": "execute_result"
    }
   ],
   "source": [
    "# Base de datos arrojada por la API\n",
    "cometa_df.sample(5)"
   ]
  },
  {
   "cell_type": "code",
   "execution_count": 7,
   "metadata": {},
   "outputs": [
    {
     "data": {
      "text/plain": [
       "obs_method\n",
       "C: Unfiltered total CCD magnitude            341\n",
       "Z: CCD Visual equivalent                     292\n",
       "S: In-Out method                             193\n",
       "M: Modified-Out method                       178\n",
       "V: Johnson/Bessel/Kron/Cousins V with CCD     76\n",
       "B: Simple Out-Out method                      19\n",
       "k: Kron/Cousins R with CCD                    18\n",
       "H: Kron/Cousins I with CCD                    17\n",
       "D: Johnson/Bessel/Kron/Cousins B with CCD     10\n",
       "c: Unfiltered nuclear CCD magnitude            8\n",
       "d: Astrodon G filter                           2\n",
       "E: Extrafocal-Extinction method                1\n",
       "Name: count, dtype: int64"
      ]
     },
     "execution_count": 7,
     "metadata": {},
     "output_type": "execute_result"
    }
   ],
   "source": [
    "# Métodos de observación\n",
    "cometa_df.obs_method.apply(lambda registro: f'{registro['key']}: {registro['name']}').value_counts()"
   ]
  },
  {
   "cell_type": "code",
   "execution_count": 8,
   "metadata": {},
   "outputs": [],
   "source": [
    "# Tratamiento de los datos de interés\n",
    "cometa_df['obs_method_key'] = cometa_df.obs_method.apply(lambda registro: registro['key'])\n",
    "cometa_df['obs_date'] = pd.to_datetime(pd.to_datetime(cometa_df.obs_date).dt.date)\n",
    "cometa_df['magnitude'] = pd.to_numeric(cometa_df.magnitude)"
   ]
  },
  {
   "cell_type": "code",
   "execution_count": 9,
   "metadata": {},
   "outputs": [
    {
     "name": "stdout",
     "output_type": "stream",
     "text": [
      "<class 'pandas.core.frame.DataFrame'>\n",
      "RangeIndex: 1155 entries, 0 to 1154\n",
      "Data columns (total 3 columns):\n",
      " #   Column          Non-Null Count  Dtype         \n",
      "---  ------          --------------  -----         \n",
      " 0   obs_method_key  1155 non-null   object        \n",
      " 1   obs_date        1155 non-null   datetime64[ns]\n",
      " 2   magnitude       1155 non-null   float64       \n",
      "dtypes: datetime64[ns](1), float64(1), object(1)\n",
      "memory usage: 27.2+ KB\n"
     ]
    }
   ],
   "source": [
    "# Creación del data frame curva de luz cruda\n",
    "curva_de_luz_cruda_df = cometa_df[['obs_method_key', 'obs_date', 'magnitude']].copy()\n",
    "curva_de_luz_cruda_df.info()"
   ]
  },
  {
   "cell_type": "code",
   "execution_count": 10,
   "metadata": {},
   "outputs": [
    {
     "name": "stdout",
     "output_type": "stream",
     "text": [
      "Registros: 1155\n",
      "Variables: 3\n"
     ]
    }
   ],
   "source": [
    "# Con la información filtrada\n",
    "filas,columnas = curva_de_luz_cruda_df.shape\n",
    "print(f'Registros: {filas}\\nVariables: {columnas}')"
   ]
  },
  {
   "cell_type": "code",
   "execution_count": 11,
   "metadata": {},
   "outputs": [
    {
     "data": {
      "text/html": [
       "<div>\n",
       "<style scoped>\n",
       "    .dataframe tbody tr th:only-of-type {\n",
       "        vertical-align: middle;\n",
       "    }\n",
       "\n",
       "    .dataframe tbody tr th {\n",
       "        vertical-align: top;\n",
       "    }\n",
       "\n",
       "    .dataframe thead th {\n",
       "        text-align: right;\n",
       "    }\n",
       "</style>\n",
       "<table border=\"1\" class=\"dataframe\">\n",
       "  <thead>\n",
       "    <tr style=\"text-align: right;\">\n",
       "      <th></th>\n",
       "      <th>obs_method_key</th>\n",
       "      <th>obs_date</th>\n",
       "      <th>magnitude</th>\n",
       "    </tr>\n",
       "  </thead>\n",
       "  <tbody>\n",
       "    <tr>\n",
       "      <th>664</th>\n",
       "      <td>S</td>\n",
       "      <td>2024-04-29</td>\n",
       "      <td>10.2</td>\n",
       "    </tr>\n",
       "    <tr>\n",
       "      <th>593</th>\n",
       "      <td>C</td>\n",
       "      <td>2024-05-03</td>\n",
       "      <td>11.2</td>\n",
       "    </tr>\n",
       "    <tr>\n",
       "      <th>254</th>\n",
       "      <td>S</td>\n",
       "      <td>2024-06-04</td>\n",
       "      <td>10.9</td>\n",
       "    </tr>\n",
       "    <tr>\n",
       "      <th>760</th>\n",
       "      <td>C</td>\n",
       "      <td>2024-04-14</td>\n",
       "      <td>10.8</td>\n",
       "    </tr>\n",
       "    <tr>\n",
       "      <th>811</th>\n",
       "      <td>Z</td>\n",
       "      <td>2024-04-10</td>\n",
       "      <td>10.9</td>\n",
       "    </tr>\n",
       "  </tbody>\n",
       "</table>\n",
       "</div>"
      ],
      "text/plain": [
       "    obs_method_key   obs_date  magnitude\n",
       "664              S 2024-04-29       10.2\n",
       "593              C 2024-05-03       11.2\n",
       "254              S 2024-06-04       10.9\n",
       "760              C 2024-04-14       10.8\n",
       "811              Z 2024-04-10       10.9"
      ]
     },
     "execution_count": 11,
     "metadata": {},
     "output_type": "execute_result"
    }
   ],
   "source": [
    "# Data Frame de la curva de luz\n",
    "curva_de_luz_cruda_df.sample(5)"
   ]
  },
  {
   "cell_type": "code",
   "execution_count": 12,
   "metadata": {},
   "outputs": [
    {
     "data": {
      "application/vnd.plotly.v1+json": {
       "config": {
        "plotlyServerURL": "https://plot.ly"
       },
       "data": [
        {
         "hovertemplate": "Observation Method=Z<br>Observation Date=%{x}<br>Apparent total magnitude=%{y}<extra></extra>",
         "legendgroup": "Z",
         "marker": {
          "color": "#636efa",
          "symbol": "circle"
         },
         "mode": "markers",
         "name": "Z",
         "showlegend": true,
         "type": "scattergl",
         "x": [
          "2024-08-12T00:00:00",
          "2024-08-11T00:00:00",
          "2024-08-10T00:00:00",
          "2024-08-06T00:00:00",
          "2024-08-04T00:00:00",
          "2024-08-03T00:00:00",
          "2024-08-02T00:00:00",
          "2024-08-01T00:00:00",
          "2024-07-31T00:00:00",
          "2024-07-29T00:00:00",
          "2024-07-26T00:00:00",
          "2024-07-23T00:00:00",
          "2024-07-18T00:00:00",
          "2024-07-16T00:00:00",
          "2024-07-08T00:00:00",
          "2024-07-06T00:00:00",
          "2024-07-05T00:00:00",
          "2024-07-04T00:00:00",
          "2024-07-03T00:00:00",
          "2024-07-02T00:00:00",
          "2024-07-02T00:00:00",
          "2024-07-01T00:00:00",
          "2024-06-30T00:00:00",
          "2024-06-29T00:00:00",
          "2024-06-26T00:00:00",
          "2024-06-25T00:00:00",
          "2024-06-24T00:00:00",
          "2024-06-24T00:00:00",
          "2024-06-23T00:00:00",
          "2024-06-23T00:00:00",
          "2024-06-21T00:00:00",
          "2024-06-21T00:00:00",
          "2024-06-20T00:00:00",
          "2024-06-20T00:00:00",
          "2024-06-20T00:00:00",
          "2024-06-18T00:00:00",
          "2024-06-17T00:00:00",
          "2024-06-16T00:00:00",
          "2024-06-15T00:00:00",
          "2024-06-15T00:00:00",
          "2024-06-13T00:00:00",
          "2024-06-12T00:00:00",
          "2024-06-11T00:00:00",
          "2024-06-11T00:00:00",
          "2024-06-10T00:00:00",
          "2024-06-09T00:00:00",
          "2024-06-09T00:00:00",
          "2024-06-07T00:00:00",
          "2024-06-07T00:00:00",
          "2024-06-07T00:00:00",
          "2024-06-06T00:00:00",
          "2024-06-06T00:00:00",
          "2024-06-06T00:00:00",
          "2024-06-06T00:00:00",
          "2024-06-05T00:00:00",
          "2024-06-05T00:00:00",
          "2024-06-04T00:00:00",
          "2024-06-04T00:00:00",
          "2024-06-04T00:00:00",
          "2024-06-03T00:00:00",
          "2024-06-03T00:00:00",
          "2024-06-02T00:00:00",
          "2024-06-02T00:00:00",
          "2024-06-01T00:00:00",
          "2024-06-01T00:00:00",
          "2024-06-01T00:00:00",
          "2024-05-31T00:00:00",
          "2024-05-31T00:00:00",
          "2024-05-31T00:00:00",
          "2024-05-30T00:00:00",
          "2024-05-30T00:00:00",
          "2024-05-30T00:00:00",
          "2024-05-30T00:00:00",
          "2024-05-29T00:00:00",
          "2024-05-29T00:00:00",
          "2024-05-29T00:00:00",
          "2024-05-28T00:00:00",
          "2024-05-28T00:00:00",
          "2024-05-28T00:00:00",
          "2024-05-28T00:00:00",
          "2024-05-27T00:00:00",
          "2024-05-27T00:00:00",
          "2024-05-27T00:00:00",
          "2024-05-26T00:00:00",
          "2024-05-25T00:00:00",
          "2024-05-25T00:00:00",
          "2024-05-25T00:00:00",
          "2024-05-24T00:00:00",
          "2024-05-24T00:00:00",
          "2024-05-24T00:00:00",
          "2024-05-23T00:00:00",
          "2024-05-22T00:00:00",
          "2024-05-20T00:00:00",
          "2024-05-17T00:00:00",
          "2024-05-14T00:00:00",
          "2024-05-14T00:00:00",
          "2024-05-13T00:00:00",
          "2024-05-13T00:00:00",
          "2024-05-12T00:00:00",
          "2024-05-12T00:00:00",
          "2024-05-11T00:00:00",
          "2024-05-11T00:00:00",
          "2024-05-11T00:00:00",
          "2024-05-10T00:00:00",
          "2024-05-10T00:00:00",
          "2024-05-10T00:00:00",
          "2024-05-10T00:00:00",
          "2024-05-09T00:00:00",
          "2024-05-09T00:00:00",
          "2024-05-08T00:00:00",
          "2024-05-08T00:00:00",
          "2024-05-08T00:00:00",
          "2024-05-08T00:00:00",
          "2024-05-07T00:00:00",
          "2024-05-07T00:00:00",
          "2024-05-07T00:00:00",
          "2024-05-06T00:00:00",
          "2024-05-06T00:00:00",
          "2024-05-06T00:00:00",
          "2024-05-04T00:00:00",
          "2024-05-03T00:00:00",
          "2024-05-03T00:00:00",
          "2024-05-02T00:00:00",
          "2024-05-01T00:00:00",
          "2024-05-01T00:00:00",
          "2024-05-01T00:00:00",
          "2024-05-01T00:00:00",
          "2024-04-30T00:00:00",
          "2024-04-30T00:00:00",
          "2024-04-30T00:00:00",
          "2024-04-30T00:00:00",
          "2024-04-29T00:00:00",
          "2024-04-29T00:00:00",
          "2024-04-29T00:00:00",
          "2024-04-29T00:00:00",
          "2024-04-28T00:00:00",
          "2024-04-28T00:00:00",
          "2024-04-28T00:00:00",
          "2024-04-28T00:00:00",
          "2024-04-28T00:00:00",
          "2024-04-27T00:00:00",
          "2024-04-27T00:00:00",
          "2024-04-26T00:00:00",
          "2024-04-24T00:00:00",
          "2024-04-23T00:00:00",
          "2024-04-22T00:00:00",
          "2024-04-21T00:00:00",
          "2024-04-20T00:00:00",
          "2024-04-19T00:00:00",
          "2024-04-18T00:00:00",
          "2024-04-16T00:00:00",
          "2024-04-16T00:00:00",
          "2024-04-15T00:00:00",
          "2024-04-15T00:00:00",
          "2024-04-14T00:00:00",
          "2024-04-13T00:00:00",
          "2024-04-13T00:00:00",
          "2024-04-12T00:00:00",
          "2024-04-12T00:00:00",
          "2024-04-12T00:00:00",
          "2024-04-12T00:00:00",
          "2024-04-11T00:00:00",
          "2024-04-10T00:00:00",
          "2024-04-10T00:00:00",
          "2024-04-10T00:00:00",
          "2024-04-10T00:00:00",
          "2024-04-09T00:00:00",
          "2024-04-09T00:00:00",
          "2024-04-09T00:00:00",
          "2024-04-07T00:00:00",
          "2024-04-04T00:00:00",
          "2024-04-03T00:00:00",
          "2024-04-02T00:00:00",
          "2024-03-31T00:00:00",
          "2024-03-31T00:00:00",
          "2024-03-29T00:00:00",
          "2024-03-21T00:00:00",
          "2024-03-18T00:00:00",
          "2024-03-17T00:00:00",
          "2024-03-16T00:00:00",
          "2024-03-15T00:00:00",
          "2024-03-15T00:00:00",
          "2024-03-13T00:00:00",
          "2024-03-11T00:00:00",
          "2024-03-06T00:00:00",
          "2024-03-06T00:00:00",
          "2024-03-06T00:00:00",
          "2024-03-04T00:00:00",
          "2024-03-04T00:00:00",
          "2024-03-03T00:00:00",
          "2024-02-29T00:00:00",
          "2024-02-25T00:00:00",
          "2024-02-21T00:00:00",
          "2024-02-19T00:00:00",
          "2024-02-18T00:00:00",
          "2024-02-16T00:00:00",
          "2024-02-16T00:00:00",
          "2024-02-14T00:00:00",
          "2024-02-14T00:00:00",
          "2024-02-13T00:00:00",
          "2024-02-13T00:00:00",
          "2024-02-09T00:00:00",
          "2024-02-08T00:00:00",
          "2024-02-05T00:00:00",
          "2024-01-28T00:00:00",
          "2024-01-28T00:00:00",
          "2024-01-22T00:00:00",
          "2024-01-22T00:00:00",
          "2024-01-21T00:00:00",
          "2024-01-21T00:00:00",
          "2024-01-20T00:00:00",
          "2024-01-17T00:00:00",
          "2024-01-13T00:00:00",
          "2024-01-10T00:00:00",
          "2024-01-09T00:00:00",
          "2023-12-31T00:00:00",
          "2023-12-22T00:00:00",
          "2023-12-19T00:00:00",
          "2023-12-15T00:00:00",
          "2023-09-10T00:00:00",
          "2023-09-03T00:00:00",
          "2023-08-18T00:00:00",
          "2023-08-18T00:00:00",
          "2023-08-16T00:00:00",
          "2023-08-08T00:00:00",
          "2023-08-07T00:00:00",
          "2023-08-06T00:00:00",
          "2023-08-02T00:00:00",
          "2023-07-20T00:00:00",
          "2023-07-18T00:00:00",
          "2023-07-17T00:00:00",
          "2023-07-15T00:00:00",
          "2023-07-13T00:00:00",
          "2023-07-08T00:00:00",
          "2023-07-07T00:00:00",
          "2023-07-06T00:00:00",
          "2023-06-25T00:00:00",
          "2023-06-22T00:00:00",
          "2023-06-19T00:00:00",
          "2023-06-18T00:00:00",
          "2023-06-16T00:00:00",
          "2023-06-15T00:00:00",
          "2023-06-13T00:00:00",
          "2023-06-12T00:00:00",
          "2023-06-11T00:00:00",
          "2023-06-10T00:00:00",
          "2023-06-10T00:00:00",
          "2023-06-09T00:00:00",
          "2023-06-08T00:00:00",
          "2023-06-08T00:00:00",
          "2023-06-08T00:00:00",
          "2023-06-07T00:00:00",
          "2023-06-04T00:00:00",
          "2023-05-28T00:00:00",
          "2023-05-27T00:00:00",
          "2023-05-26T00:00:00",
          "2023-05-24T00:00:00",
          "2023-05-24T00:00:00",
          "2023-05-24T00:00:00",
          "2023-05-22T00:00:00",
          "2023-05-21T00:00:00",
          "2023-05-18T00:00:00",
          "2023-05-17T00:00:00",
          "2023-05-15T00:00:00",
          "2023-05-13T00:00:00",
          "2023-05-11T00:00:00",
          "2023-05-01T00:00:00",
          "2023-04-30T00:00:00",
          "2023-04-30T00:00:00",
          "2023-04-29T00:00:00",
          "2023-04-25T00:00:00",
          "2023-04-25T00:00:00",
          "2023-04-24T00:00:00",
          "2023-04-23T00:00:00",
          "2023-04-23T00:00:00",
          "2023-04-22T00:00:00",
          "2023-04-22T00:00:00",
          "2023-04-20T00:00:00",
          "2023-04-16T00:00:00",
          "2023-04-13T00:00:00",
          "2023-04-11T00:00:00",
          "2023-04-09T00:00:00",
          "2023-03-29T00:00:00",
          "2023-03-28T00:00:00",
          "2023-03-24T00:00:00",
          "2023-03-21T00:00:00",
          "2023-03-19T00:00:00",
          "2023-03-16T00:00:00",
          "2023-03-15T00:00:00",
          "2023-03-15T00:00:00",
          "2023-03-02T00:00:00",
          "2023-03-01T00:00:00"
         ],
         "xaxis": "x",
         "y": [
          8.2,
          8.4,
          8.4,
          8.6,
          8.7,
          9.2,
          8.8,
          9.5,
          8.8,
          8.9,
          9.8,
          9.1,
          9.3,
          9.3,
          9.6,
          10.5,
          10.4,
          10.7,
          10.5,
          10.6,
          9.7,
          10.6,
          10.9,
          9.9,
          10.6,
          10.7,
          10.6,
          10.4,
          10.2,
          10,
          10.7,
          11.4,
          11,
          10.2,
          10.1,
          10.1,
          10.2,
          9.8,
          11.2,
          10.3,
          10.6,
          11.1,
          10.2,
          10.2,
          10.7,
          10.2,
          10.3,
          10.4,
          10.2,
          11,
          10.3,
          10.2,
          10.8,
          10.2,
          10.3,
          10.2,
          10.8,
          10.1,
          10.2,
          10.9,
          10.2,
          10.7,
          10.3,
          11.2,
          11,
          10.2,
          10.8,
          10.9,
          10.3,
          9.8,
          9.8,
          10.7,
          10.3,
          10.7,
          9.9,
          10.3,
          10.9,
          10.4,
          10.4,
          10.5,
          10.8,
          10.8,
          10.6,
          10.5,
          10.9,
          11.1,
          10.6,
          10.8,
          10.7,
          10.6,
          10.5,
          10.6,
          11.5,
          10.7,
          10.4,
          10.5,
          10.5,
          10.5,
          10.5,
          10.4,
          11,
          10.5,
          10.5,
          11.1,
          10.6,
          10.5,
          10.5,
          10.5,
          10.8,
          10.5,
          10.5,
          10.5,
          10.8,
          10.4,
          10.8,
          10.6,
          10.8,
          10.8,
          10.5,
          10.5,
          10.5,
          11,
          10.5,
          10.8,
          10.6,
          10.6,
          10.5,
          10.6,
          10.8,
          10.7,
          10.6,
          10.4,
          10.6,
          10.9,
          10.9,
          10.7,
          10.4,
          10.6,
          10.7,
          10.7,
          10.6,
          10.7,
          10.7,
          11,
          10.9,
          10.7,
          10.1,
          10.8,
          10.7,
          10.7,
          10.6,
          10.5,
          10.8,
          11,
          11,
          10.8,
          11,
          10.9,
          10.9,
          10.7,
          11,
          10.9,
          11,
          11.2,
          10.5,
          10.9,
          10.7,
          11.1,
          10.8,
          11.3,
          11.3,
          11.5,
          11.4,
          11.2,
          11.5,
          11.7,
          12,
          12,
          12.2,
          12.3,
          12.3,
          12.3,
          12.2,
          12.6,
          12.6,
          12.5,
          12.4,
          12.7,
          12.7,
          12.8,
          12.7,
          13,
          13,
          12.9,
          13,
          12.9,
          13.9,
          13,
          13.1,
          13.5,
          13.3,
          13.4,
          13.7,
          13.6,
          13.7,
          13.8,
          13.5,
          14,
          13.9,
          13.6,
          13.9,
          14.4,
          14.2,
          14,
          14.2,
          14.5,
          14.3,
          14.4,
          14.6,
          16.2,
          16.2,
          16.5,
          16.3,
          16.5,
          16.4,
          16.4,
          16.2,
          16.8,
          16.6,
          16.6,
          16.7,
          16.7,
          16.3,
          15.9,
          16.7,
          16.8,
          16.6,
          16.1,
          16.7,
          16.8,
          16.8,
          16.2,
          16.7,
          16.7,
          16.4,
          16.8,
          16.5,
          16.8,
          16.8,
          16.9,
          16.8,
          16.8,
          17.2,
          17.1,
          16.9,
          17,
          16.9,
          16.3,
          17.4,
          16.9,
          17,
          17,
          17.5,
          16.9,
          17,
          16.1,
          17.3,
          17.1,
          17.1,
          17,
          16.7,
          16.7,
          17.3,
          17.1,
          15.9,
          17.3,
          17.2,
          17.3,
          16.1,
          17.2,
          17.4,
          17.4,
          17.5,
          17.7,
          17.6,
          18.4,
          17.4,
          17.8,
          17.8,
          17.8,
          18.2,
          17.9
         ],
         "yaxis": "y"
        },
        {
         "hovertemplate": "Observation Method=M<br>Observation Date=%{x}<br>Apparent total magnitude=%{y}<extra></extra>",
         "legendgroup": "M",
         "marker": {
          "color": "#EF553B",
          "symbol": "circle"
         },
         "mode": "markers",
         "name": "M",
         "showlegend": true,
         "type": "scattergl",
         "x": [
          "2024-08-11T00:00:00",
          "2024-08-10T00:00:00",
          "2024-08-07T00:00:00",
          "2024-08-06T00:00:00",
          "2024-08-06T00:00:00",
          "2024-08-03T00:00:00",
          "2024-08-01T00:00:00",
          "2024-08-01T00:00:00",
          "2024-08-01T00:00:00",
          "2024-07-31T00:00:00",
          "2024-07-31T00:00:00",
          "2024-07-30T00:00:00",
          "2024-07-25T00:00:00",
          "2024-07-23T00:00:00",
          "2024-07-23T00:00:00",
          "2024-07-22T00:00:00",
          "2024-07-22T00:00:00",
          "2024-07-21T00:00:00",
          "2024-07-10T00:00:00",
          "2024-07-09T00:00:00",
          "2024-07-06T00:00:00",
          "2024-07-02T00:00:00",
          "2024-07-01T00:00:00",
          "2024-07-01T00:00:00",
          "2024-06-28T00:00:00",
          "2024-06-27T00:00:00",
          "2024-06-26T00:00:00",
          "2024-06-26T00:00:00",
          "2024-06-24T00:00:00",
          "2024-06-23T00:00:00",
          "2024-06-21T00:00:00",
          "2024-06-20T00:00:00",
          "2024-06-19T00:00:00",
          "2024-06-11T00:00:00",
          "2024-06-10T00:00:00",
          "2024-06-09T00:00:00",
          "2024-06-08T00:00:00",
          "2024-06-06T00:00:00",
          "2024-06-05T00:00:00",
          "2024-06-04T00:00:00",
          "2024-06-04T00:00:00",
          "2024-06-03T00:00:00",
          "2024-06-03T00:00:00",
          "2024-06-02T00:00:00",
          "2024-06-01T00:00:00",
          "2024-06-01T00:00:00",
          "2024-05-31T00:00:00",
          "2024-05-31T00:00:00",
          "2024-05-31T00:00:00",
          "2024-05-30T00:00:00",
          "2024-05-30T00:00:00",
          "2024-05-30T00:00:00",
          "2024-05-29T00:00:00",
          "2024-05-29T00:00:00",
          "2024-05-29T00:00:00",
          "2024-05-29T00:00:00",
          "2024-05-28T00:00:00",
          "2024-05-26T00:00:00",
          "2024-05-26T00:00:00",
          "2024-05-24T00:00:00",
          "2024-05-15T00:00:00",
          "2024-05-15T00:00:00",
          "2024-05-14T00:00:00",
          "2024-05-14T00:00:00",
          "2024-05-14T00:00:00",
          "2024-05-13T00:00:00",
          "2024-05-13T00:00:00",
          "2024-05-13T00:00:00",
          "2024-05-13T00:00:00",
          "2024-05-12T00:00:00",
          "2024-05-12T00:00:00",
          "2024-05-12T00:00:00",
          "2024-05-12T00:00:00",
          "2024-05-12T00:00:00",
          "2024-05-12T00:00:00",
          "2024-05-12T00:00:00",
          "2024-05-12T00:00:00",
          "2024-05-11T00:00:00",
          "2024-05-11T00:00:00",
          "2024-05-10T00:00:00",
          "2024-05-10T00:00:00",
          "2024-05-10T00:00:00",
          "2024-05-10T00:00:00",
          "2024-05-09T00:00:00",
          "2024-05-09T00:00:00",
          "2024-05-09T00:00:00",
          "2024-05-08T00:00:00",
          "2024-05-08T00:00:00",
          "2024-05-08T00:00:00",
          "2024-05-08T00:00:00",
          "2024-05-07T00:00:00",
          "2024-05-07T00:00:00",
          "2024-05-06T00:00:00",
          "2024-05-06T00:00:00",
          "2024-05-05T00:00:00",
          "2024-05-05T00:00:00",
          "2024-05-05T00:00:00",
          "2024-05-05T00:00:00",
          "2024-05-05T00:00:00",
          "2024-05-04T00:00:00",
          "2024-05-04T00:00:00",
          "2024-05-04T00:00:00",
          "2024-05-04T00:00:00",
          "2024-05-04T00:00:00",
          "2024-05-04T00:00:00",
          "2024-05-03T00:00:00",
          "2024-05-03T00:00:00",
          "2024-05-03T00:00:00",
          "2024-05-03T00:00:00",
          "2024-05-02T00:00:00",
          "2024-05-02T00:00:00",
          "2024-05-02T00:00:00",
          "2024-05-02T00:00:00",
          "2024-05-01T00:00:00",
          "2024-05-01T00:00:00",
          "2024-05-01T00:00:00",
          "2024-04-30T00:00:00",
          "2024-04-30T00:00:00",
          "2024-04-30T00:00:00",
          "2024-04-30T00:00:00",
          "2024-04-30T00:00:00",
          "2024-04-30T00:00:00",
          "2024-04-30T00:00:00",
          "2024-04-29T00:00:00",
          "2024-04-29T00:00:00",
          "2024-04-29T00:00:00",
          "2024-04-29T00:00:00",
          "2024-04-29T00:00:00",
          "2024-04-28T00:00:00",
          "2024-04-28T00:00:00",
          "2024-04-28T00:00:00",
          "2024-04-28T00:00:00",
          "2024-04-27T00:00:00",
          "2024-04-27T00:00:00",
          "2024-04-27T00:00:00",
          "2024-04-27T00:00:00",
          "2024-04-26T00:00:00",
          "2024-04-26T00:00:00",
          "2024-04-26T00:00:00",
          "2024-04-26T00:00:00",
          "2024-04-26T00:00:00",
          "2024-04-25T00:00:00",
          "2024-04-20T00:00:00",
          "2024-04-19T00:00:00",
          "2024-04-18T00:00:00",
          "2024-04-16T00:00:00",
          "2024-04-14T00:00:00",
          "2024-04-14T00:00:00",
          "2024-04-13T00:00:00",
          "2024-04-13T00:00:00",
          "2024-04-13T00:00:00",
          "2024-04-13T00:00:00",
          "2024-04-12T00:00:00",
          "2024-04-12T00:00:00",
          "2024-04-12T00:00:00",
          "2024-04-11T00:00:00",
          "2024-04-10T00:00:00",
          "2024-04-10T00:00:00",
          "2024-04-10T00:00:00",
          "2024-04-10T00:00:00",
          "2024-04-09T00:00:00",
          "2024-04-08T00:00:00",
          "2024-04-08T00:00:00",
          "2024-04-07T00:00:00",
          "2024-04-06T00:00:00",
          "2024-04-05T00:00:00",
          "2024-04-03T00:00:00",
          "2024-03-13T00:00:00",
          "2024-03-12T00:00:00",
          "2024-03-11T00:00:00",
          "2024-03-09T00:00:00",
          "2024-03-05T00:00:00",
          "2024-02-16T00:00:00",
          "2024-01-29T00:00:00",
          "2024-01-24T00:00:00",
          "2024-01-21T00:00:00",
          "2024-01-18T00:00:00",
          "2024-01-07T00:00:00"
         ],
         "xaxis": "x",
         "y": [
          8.9,
          8.6,
          8.7,
          8.5,
          8.6,
          8.8,
          9,
          8.9,
          8.9,
          9.2,
          8.9,
          8.7,
          9.5,
          9.3,
          9.5,
          9.9,
          9.1,
          10,
          9.6,
          9.7,
          10,
          10,
          10.1,
          9.9,
          9.9,
          9.9,
          9.8,
          10,
          10.3,
          10.1,
          10.6,
          10.4,
          10.3,
          10.3,
          10.2,
          10.2,
          10.2,
          10.3,
          10.4,
          10.4,
          10.5,
          10.5,
          10.6,
          10.5,
          10.4,
          9.9,
          10.3,
          10.2,
          10.1,
          10.1,
          10.3,
          10.1,
          10.4,
          10.2,
          10.2,
          10.7,
          10.7,
          10.3,
          10.6,
          10.3,
          10.2,
          10,
          10.2,
          10,
          10.3,
          10.1,
          10,
          10.3,
          10.1,
          10.2,
          10.4,
          10.1,
          10.5,
          10,
          10.8,
          10.1,
          10.5,
          10.1,
          10.1,
          10.1,
          10.8,
          10.2,
          10,
          10.2,
          10.1,
          10,
          10.2,
          10.3,
          10.3,
          10.4,
          10.2,
          10.8,
          10.2,
          10.1,
          10.2,
          10,
          9.9,
          9.9,
          10.5,
          10.3,
          10.3,
          10.4,
          10.6,
          11.1,
          10,
          10.3,
          10.8,
          10.2,
          10.5,
          10.3,
          10.1,
          10.9,
          10.2,
          10.3,
          10.2,
          10.4,
          10.3,
          10.1,
          10.1,
          10.5,
          10.1,
          10.2,
          10.2,
          10.3,
          10.4,
          10.1,
          10.3,
          10.7,
          10.3,
          10.3,
          10.5,
          10,
          10.5,
          10.3,
          10.4,
          10.3,
          10.6,
          10.2,
          10.1,
          10.3,
          11,
          10.3,
          10.4,
          10.6,
          10.7,
          10.5,
          10.6,
          10.6,
          10.7,
          10.7,
          10.7,
          10.6,
          10.6,
          10.5,
          10.8,
          10.8,
          10.5,
          10.8,
          11,
          10.8,
          10.8,
          10.8,
          10.8,
          11.1,
          10.8,
          10.9,
          11.5,
          12.4,
          12.5,
          12.5,
          12.2,
          12.6,
          12.4,
          13.5,
          13.6,
          13.9,
          13.9,
          13.7
         ],
         "yaxis": "y"
        },
        {
         "hovertemplate": "Observation Method=S<br>Observation Date=%{x}<br>Apparent total magnitude=%{y}<extra></extra>",
         "legendgroup": "S",
         "marker": {
          "color": "#00cc96",
          "symbol": "circle"
         },
         "mode": "markers",
         "name": "S",
         "showlegend": true,
         "type": "scattergl",
         "x": [
          "2024-08-10T00:00:00",
          "2024-08-05T00:00:00",
          "2024-07-31T00:00:00",
          "2024-07-30T00:00:00",
          "2024-07-28T00:00:00",
          "2024-07-26T00:00:00",
          "2024-07-24T00:00:00",
          "2024-07-21T00:00:00",
          "2024-07-18T00:00:00",
          "2024-07-17T00:00:00",
          "2024-07-15T00:00:00",
          "2024-07-14T00:00:00",
          "2024-07-12T00:00:00",
          "2024-07-11T00:00:00",
          "2024-07-10T00:00:00",
          "2024-07-09T00:00:00",
          "2024-07-08T00:00:00",
          "2024-07-08T00:00:00",
          "2024-07-07T00:00:00",
          "2024-07-06T00:00:00",
          "2024-07-06T00:00:00",
          "2024-07-05T00:00:00",
          "2024-07-05T00:00:00",
          "2024-07-04T00:00:00",
          "2024-07-03T00:00:00",
          "2024-07-02T00:00:00",
          "2024-07-02T00:00:00",
          "2024-07-01T00:00:00",
          "2024-07-01T00:00:00",
          "2024-07-01T00:00:00",
          "2024-07-01T00:00:00",
          "2024-07-01T00:00:00",
          "2024-06-30T00:00:00",
          "2024-06-29T00:00:00",
          "2024-06-29T00:00:00",
          "2024-06-29T00:00:00",
          "2024-06-28T00:00:00",
          "2024-06-28T00:00:00",
          "2024-06-26T00:00:00",
          "2024-06-25T00:00:00",
          "2024-06-24T00:00:00",
          "2024-06-24T00:00:00",
          "2024-06-24T00:00:00",
          "2024-06-23T00:00:00",
          "2024-06-22T00:00:00",
          "2024-06-20T00:00:00",
          "2024-06-19T00:00:00",
          "2024-06-18T00:00:00",
          "2024-06-18T00:00:00",
          "2024-06-14T00:00:00",
          "2024-06-13T00:00:00",
          "2024-06-10T00:00:00",
          "2024-06-10T00:00:00",
          "2024-06-09T00:00:00",
          "2024-06-09T00:00:00",
          "2024-06-09T00:00:00",
          "2024-06-08T00:00:00",
          "2024-06-08T00:00:00",
          "2024-06-07T00:00:00",
          "2024-06-07T00:00:00",
          "2024-06-07T00:00:00",
          "2024-06-06T00:00:00",
          "2024-06-06T00:00:00",
          "2024-06-06T00:00:00",
          "2024-06-05T00:00:00",
          "2024-06-05T00:00:00",
          "2024-06-05T00:00:00",
          "2024-06-04T00:00:00",
          "2024-06-04T00:00:00",
          "2024-06-04T00:00:00",
          "2024-06-04T00:00:00",
          "2024-06-04T00:00:00",
          "2024-06-02T00:00:00",
          "2024-06-01T00:00:00",
          "2024-05-30T00:00:00",
          "2024-05-30T00:00:00",
          "2024-05-29T00:00:00",
          "2024-05-29T00:00:00",
          "2024-05-28T00:00:00",
          "2024-05-27T00:00:00",
          "2024-05-27T00:00:00",
          "2024-05-27T00:00:00",
          "2024-05-26T00:00:00",
          "2024-05-25T00:00:00",
          "2024-05-25T00:00:00",
          "2024-05-25T00:00:00",
          "2024-05-23T00:00:00",
          "2024-05-22T00:00:00",
          "2024-05-20T00:00:00",
          "2024-05-19T00:00:00",
          "2024-05-18T00:00:00",
          "2024-05-17T00:00:00",
          "2024-05-17T00:00:00",
          "2024-05-14T00:00:00",
          "2024-05-13T00:00:00",
          "2024-05-13T00:00:00",
          "2024-05-12T00:00:00",
          "2024-05-11T00:00:00",
          "2024-05-11T00:00:00",
          "2024-05-11T00:00:00",
          "2024-05-11T00:00:00",
          "2024-05-11T00:00:00",
          "2024-05-11T00:00:00",
          "2024-05-10T00:00:00",
          "2024-05-10T00:00:00",
          "2024-05-10T00:00:00",
          "2024-05-09T00:00:00",
          "2024-05-09T00:00:00",
          "2024-05-09T00:00:00",
          "2024-05-08T00:00:00",
          "2024-05-08T00:00:00",
          "2024-05-08T00:00:00",
          "2024-05-08T00:00:00",
          "2024-05-07T00:00:00",
          "2024-05-07T00:00:00",
          "2024-05-07T00:00:00",
          "2024-05-06T00:00:00",
          "2024-05-06T00:00:00",
          "2024-05-05T00:00:00",
          "2024-05-05T00:00:00",
          "2024-05-04T00:00:00",
          "2024-05-04T00:00:00",
          "2024-05-04T00:00:00",
          "2024-05-04T00:00:00",
          "2024-05-04T00:00:00",
          "2024-05-04T00:00:00",
          "2024-05-03T00:00:00",
          "2024-05-03T00:00:00",
          "2024-05-02T00:00:00",
          "2024-05-02T00:00:00",
          "2024-05-02T00:00:00",
          "2024-05-02T00:00:00",
          "2024-05-01T00:00:00",
          "2024-04-30T00:00:00",
          "2024-04-30T00:00:00",
          "2024-04-30T00:00:00",
          "2024-04-30T00:00:00",
          "2024-04-30T00:00:00",
          "2024-04-30T00:00:00",
          "2024-04-29T00:00:00",
          "2024-04-29T00:00:00",
          "2024-04-29T00:00:00",
          "2024-04-29T00:00:00",
          "2024-04-27T00:00:00",
          "2024-04-26T00:00:00",
          "2024-04-26T00:00:00",
          "2024-04-26T00:00:00",
          "2024-04-17T00:00:00",
          "2024-04-17T00:00:00",
          "2024-04-17T00:00:00",
          "2024-04-15T00:00:00",
          "2024-04-15T00:00:00",
          "2024-04-13T00:00:00",
          "2024-04-13T00:00:00",
          "2024-04-12T00:00:00",
          "2024-04-12T00:00:00",
          "2024-04-11T00:00:00",
          "2024-04-11T00:00:00",
          "2024-04-10T00:00:00",
          "2024-04-10T00:00:00",
          "2024-04-10T00:00:00",
          "2024-04-10T00:00:00",
          "2024-04-09T00:00:00",
          "2024-04-09T00:00:00",
          "2024-04-05T00:00:00",
          "2024-04-04T00:00:00",
          "2024-04-01T00:00:00",
          "2024-03-21T00:00:00",
          "2024-03-21T00:00:00",
          "2024-03-19T00:00:00",
          "2024-03-16T00:00:00",
          "2024-03-13T00:00:00",
          "2024-03-10T00:00:00",
          "2024-03-09T00:00:00",
          "2024-03-09T00:00:00",
          "2024-03-09T00:00:00",
          "2024-03-09T00:00:00",
          "2024-03-08T00:00:00",
          "2024-03-08T00:00:00",
          "2024-03-08T00:00:00",
          "2024-03-08T00:00:00",
          "2024-03-07T00:00:00",
          "2024-03-05T00:00:00",
          "2024-03-04T00:00:00",
          "2024-03-04T00:00:00",
          "2024-03-04T00:00:00",
          "2024-02-16T00:00:00",
          "2024-02-14T00:00:00",
          "2024-02-13T00:00:00",
          "2024-02-12T00:00:00",
          "2024-01-20T00:00:00",
          "2024-01-07T00:00:00",
          "2023-04-13T00:00:00"
         ],
         "xaxis": "x",
         "y": [
          9,
          8.5,
          8.7,
          8.8,
          8.9,
          9,
          9.3,
          10.3,
          10.5,
          9.5,
          10,
          9.5,
          10,
          10.3,
          10.4,
          10.4,
          9.7,
          10.1,
          10,
          10.4,
          9.7,
          10.7,
          10.4,
          10.4,
          10.2,
          10.4,
          9.9,
          9.9,
          10.1,
          10,
          9.8,
          10.1,
          10.2,
          9.8,
          10.4,
          10.6,
          10,
          10.8,
          10.5,
          10,
          10.1,
          10.3,
          9.6,
          10.1,
          9.6,
          10.3,
          10.6,
          9.7,
          10.8,
          10.8,
          10.7,
          9.9,
          10.3,
          9.9,
          10.3,
          9.9,
          10.2,
          10,
          9.8,
          9.7,
          10.2,
          9.7,
          10.2,
          10.2,
          9.8,
          10.9,
          9.9,
          10.8,
          10.9,
          10.3,
          10.6,
          10.6,
          9.3,
          10,
          9.9,
          10.2,
          9.8,
          10.3,
          9.8,
          10.5,
          10,
          10,
          10.2,
          10,
          10.5,
          10.4,
          10.4,
          10.5,
          10,
          9.8,
          9.5,
          9.8,
          10.8,
          10.6,
          9.6,
          10,
          9.7,
          10.5,
          10.5,
          10.1,
          11,
          10.9,
          10,
          10.6,
          10.7,
          10.4,
          10.6,
          9.8,
          9.6,
          10.2,
          9.8,
          10.3,
          10,
          10,
          10.1,
          10,
          10,
          10.1,
          10.6,
          10.1,
          10,
          10.2,
          10.8,
          10.6,
          10.1,
          9.6,
          10.5,
          10.9,
          10.6,
          10.1,
          10.8,
          10.1,
          10.5,
          10.1,
          9.7,
          10.8,
          10.6,
          10.2,
          10.2,
          10,
          10.8,
          10.2,
          9.4,
          10,
          10.4,
          10.4,
          10.3,
          10.9,
          10.3,
          10.2,
          10.7,
          10.3,
          10.7,
          10.9,
          10.8,
          11,
          10.7,
          10.2,
          10.6,
          10.6,
          10.8,
          9.9,
          10.8,
          10.8,
          10.9,
          10.9,
          11.7,
          11.9,
          11.9,
          11.2,
          11.7,
          11.9,
          11.9,
          11.8,
          12.1,
          12,
          11.6,
          11.8,
          12.4,
          12.2,
          12,
          12.3,
          12.4,
          12.3,
          12.4,
          12.4,
          12.6,
          12.8,
          13.1,
          13.1,
          13.2,
          12.7,
          14.4
         ],
         "yaxis": "y"
        },
        {
         "hovertemplate": "Observation Method=C<br>Observation Date=%{x}<br>Apparent total magnitude=%{y}<extra></extra>",
         "legendgroup": "C",
         "marker": {
          "color": "#ab63fa",
          "symbol": "circle"
         },
         "mode": "markers",
         "name": "C",
         "showlegend": true,
         "type": "scattergl",
         "x": [
          "2024-08-09T00:00:00",
          "2024-08-02T00:00:00",
          "2024-08-01T00:00:00",
          "2024-08-01T00:00:00",
          "2024-07-30T00:00:00",
          "2024-07-29T00:00:00",
          "2024-07-27T00:00:00",
          "2024-07-26T00:00:00",
          "2024-07-26T00:00:00",
          "2024-07-22T00:00:00",
          "2024-07-21T00:00:00",
          "2024-07-21T00:00:00",
          "2024-07-20T00:00:00",
          "2024-07-19T00:00:00",
          "2024-07-18T00:00:00",
          "2024-07-16T00:00:00",
          "2024-07-14T00:00:00",
          "2024-07-13T00:00:00",
          "2024-07-12T00:00:00",
          "2024-07-11T00:00:00",
          "2024-07-04T00:00:00",
          "2024-07-04T00:00:00",
          "2024-06-29T00:00:00",
          "2024-06-28T00:00:00",
          "2024-06-28T00:00:00",
          "2024-06-28T00:00:00",
          "2024-06-26T00:00:00",
          "2024-06-25T00:00:00",
          "2024-06-25T00:00:00",
          "2024-06-24T00:00:00",
          "2024-06-24T00:00:00",
          "2024-06-24T00:00:00",
          "2024-06-23T00:00:00",
          "2024-06-23T00:00:00",
          "2024-06-22T00:00:00",
          "2024-06-13T00:00:00",
          "2024-06-11T00:00:00",
          "2024-06-10T00:00:00",
          "2024-06-10T00:00:00",
          "2024-06-09T00:00:00",
          "2024-06-09T00:00:00",
          "2024-06-08T00:00:00",
          "2024-06-08T00:00:00",
          "2024-06-07T00:00:00",
          "2024-06-07T00:00:00",
          "2024-06-05T00:00:00",
          "2024-06-05T00:00:00",
          "2024-06-05T00:00:00",
          "2024-06-05T00:00:00",
          "2024-06-04T00:00:00",
          "2024-06-04T00:00:00",
          "2024-06-03T00:00:00",
          "2024-06-02T00:00:00",
          "2024-06-02T00:00:00",
          "2024-06-01T00:00:00",
          "2024-05-31T00:00:00",
          "2024-05-30T00:00:00",
          "2024-05-29T00:00:00",
          "2024-05-29T00:00:00",
          "2024-05-29T00:00:00",
          "2024-05-29T00:00:00",
          "2024-05-28T00:00:00",
          "2024-05-28T00:00:00",
          "2024-05-26T00:00:00",
          "2024-05-25T00:00:00",
          "2024-05-25T00:00:00",
          "2024-05-25T00:00:00",
          "2024-05-24T00:00:00",
          "2024-05-24T00:00:00",
          "2024-05-23T00:00:00",
          "2024-05-22T00:00:00",
          "2024-05-22T00:00:00",
          "2024-05-20T00:00:00",
          "2024-05-17T00:00:00",
          "2024-05-17T00:00:00",
          "2024-05-17T00:00:00",
          "2024-05-17T00:00:00",
          "2024-05-17T00:00:00",
          "2024-05-16T00:00:00",
          "2024-05-16T00:00:00",
          "2024-05-16T00:00:00",
          "2024-05-16T00:00:00",
          "2024-05-16T00:00:00",
          "2024-05-16T00:00:00",
          "2024-05-16T00:00:00",
          "2024-05-16T00:00:00",
          "2024-05-16T00:00:00",
          "2024-05-16T00:00:00",
          "2024-05-16T00:00:00",
          "2024-05-15T00:00:00",
          "2024-05-15T00:00:00",
          "2024-05-15T00:00:00",
          "2024-05-15T00:00:00",
          "2024-05-15T00:00:00",
          "2024-05-15T00:00:00",
          "2024-05-15T00:00:00",
          "2024-05-15T00:00:00",
          "2024-05-14T00:00:00",
          "2024-05-14T00:00:00",
          "2024-05-14T00:00:00",
          "2024-05-13T00:00:00",
          "2024-05-12T00:00:00",
          "2024-05-12T00:00:00",
          "2024-05-12T00:00:00",
          "2024-05-11T00:00:00",
          "2024-05-11T00:00:00",
          "2024-05-10T00:00:00",
          "2024-05-10T00:00:00",
          "2024-05-09T00:00:00",
          "2024-05-09T00:00:00",
          "2024-05-09T00:00:00",
          "2024-05-09T00:00:00",
          "2024-05-09T00:00:00",
          "2024-05-09T00:00:00",
          "2024-05-09T00:00:00",
          "2024-05-09T00:00:00",
          "2024-05-08T00:00:00",
          "2024-05-08T00:00:00",
          "2024-05-08T00:00:00",
          "2024-05-07T00:00:00",
          "2024-05-06T00:00:00",
          "2024-05-06T00:00:00",
          "2024-05-04T00:00:00",
          "2024-05-04T00:00:00",
          "2024-05-04T00:00:00",
          "2024-05-04T00:00:00",
          "2024-05-04T00:00:00",
          "2024-05-04T00:00:00",
          "2024-05-04T00:00:00",
          "2024-05-03T00:00:00",
          "2024-05-03T00:00:00",
          "2024-05-03T00:00:00",
          "2024-05-03T00:00:00",
          "2024-05-02T00:00:00",
          "2024-05-01T00:00:00",
          "2024-04-30T00:00:00",
          "2024-04-30T00:00:00",
          "2024-04-30T00:00:00",
          "2024-04-30T00:00:00",
          "2024-04-30T00:00:00",
          "2024-04-29T00:00:00",
          "2024-04-29T00:00:00",
          "2024-04-29T00:00:00",
          "2024-04-29T00:00:00",
          "2024-04-28T00:00:00",
          "2024-04-28T00:00:00",
          "2024-04-28T00:00:00",
          "2024-04-28T00:00:00",
          "2024-04-28T00:00:00",
          "2024-04-28T00:00:00",
          "2024-04-28T00:00:00",
          "2024-04-27T00:00:00",
          "2024-04-27T00:00:00",
          "2024-04-26T00:00:00",
          "2024-04-25T00:00:00",
          "2024-04-24T00:00:00",
          "2024-04-21T00:00:00",
          "2024-04-20T00:00:00",
          "2024-04-20T00:00:00",
          "2024-04-19T00:00:00",
          "2024-04-18T00:00:00",
          "2024-04-18T00:00:00",
          "2024-04-18T00:00:00",
          "2024-04-18T00:00:00",
          "2024-04-17T00:00:00",
          "2024-04-17T00:00:00",
          "2024-04-16T00:00:00",
          "2024-04-16T00:00:00",
          "2024-04-16T00:00:00",
          "2024-04-15T00:00:00",
          "2024-04-15T00:00:00",
          "2024-04-15T00:00:00",
          "2024-04-14T00:00:00",
          "2024-04-14T00:00:00",
          "2024-04-13T00:00:00",
          "2024-04-13T00:00:00",
          "2024-04-13T00:00:00",
          "2024-04-13T00:00:00",
          "2024-04-12T00:00:00",
          "2024-04-12T00:00:00",
          "2024-04-11T00:00:00",
          "2024-04-11T00:00:00",
          "2024-04-10T00:00:00",
          "2024-04-10T00:00:00",
          "2024-04-10T00:00:00",
          "2024-04-10T00:00:00",
          "2024-04-09T00:00:00",
          "2024-04-09T00:00:00",
          "2024-04-09T00:00:00",
          "2024-04-09T00:00:00",
          "2024-04-08T00:00:00",
          "2024-04-07T00:00:00",
          "2024-04-06T00:00:00",
          "2024-04-06T00:00:00",
          "2024-04-06T00:00:00",
          "2024-04-06T00:00:00",
          "2024-04-05T00:00:00",
          "2024-04-04T00:00:00",
          "2024-04-03T00:00:00",
          "2024-04-03T00:00:00",
          "2024-04-03T00:00:00",
          "2024-04-02T00:00:00",
          "2024-04-02T00:00:00",
          "2024-04-02T00:00:00",
          "2024-04-01T00:00:00",
          "2024-03-31T00:00:00",
          "2024-03-31T00:00:00",
          "2024-03-31T00:00:00",
          "2024-03-30T00:00:00",
          "2024-03-30T00:00:00",
          "2024-03-28T00:00:00",
          "2024-03-28T00:00:00",
          "2024-03-25T00:00:00",
          "2024-03-24T00:00:00",
          "2024-03-23T00:00:00",
          "2024-03-22T00:00:00",
          "2024-03-21T00:00:00",
          "2024-03-20T00:00:00",
          "2024-03-19T00:00:00",
          "2024-03-18T00:00:00",
          "2024-03-18T00:00:00",
          "2024-03-18T00:00:00",
          "2024-03-16T00:00:00",
          "2024-03-16T00:00:00",
          "2024-03-16T00:00:00",
          "2024-03-15T00:00:00",
          "2024-03-14T00:00:00",
          "2024-03-09T00:00:00",
          "2024-03-09T00:00:00",
          "2024-03-08T00:00:00",
          "2024-03-08T00:00:00",
          "2024-03-08T00:00:00",
          "2024-03-07T00:00:00",
          "2024-03-07T00:00:00",
          "2024-03-05T00:00:00",
          "2024-03-05T00:00:00",
          "2024-03-04T00:00:00",
          "2024-02-29T00:00:00",
          "2024-02-24T00:00:00",
          "2024-02-20T00:00:00",
          "2024-02-17T00:00:00",
          "2024-02-16T00:00:00",
          "2024-02-13T00:00:00",
          "2024-02-13T00:00:00",
          "2024-02-13T00:00:00",
          "2024-02-10T00:00:00",
          "2024-02-09T00:00:00",
          "2024-02-07T00:00:00",
          "2024-01-29T00:00:00",
          "2024-01-28T00:00:00",
          "2024-01-24T00:00:00",
          "2024-01-22T00:00:00",
          "2024-01-21T00:00:00",
          "2024-01-21T00:00:00",
          "2024-01-14T00:00:00",
          "2024-01-10T00:00:00",
          "2024-01-09T00:00:00",
          "2024-01-09T00:00:00",
          "2024-01-08T00:00:00",
          "2024-01-07T00:00:00",
          "2024-01-05T00:00:00",
          "2024-01-04T00:00:00",
          "2023-12-31T00:00:00",
          "2023-12-27T00:00:00",
          "2023-12-22T00:00:00",
          "2023-12-21T00:00:00",
          "2023-12-20T00:00:00",
          "2023-12-19T00:00:00",
          "2023-12-18T00:00:00",
          "2023-12-10T00:00:00",
          "2023-12-07T00:00:00",
          "2023-11-28T00:00:00",
          "2023-09-06T00:00:00",
          "2023-09-05T00:00:00",
          "2023-08-21T00:00:00",
          "2023-07-15T00:00:00",
          "2023-07-12T00:00:00",
          "2023-07-08T00:00:00",
          "2023-07-07T00:00:00",
          "2023-07-06T00:00:00",
          "2023-06-24T00:00:00",
          "2023-06-16T00:00:00",
          "2023-06-16T00:00:00",
          "2023-06-15T00:00:00",
          "2023-06-14T00:00:00",
          "2023-06-13T00:00:00",
          "2023-06-12T00:00:00",
          "2023-06-12T00:00:00",
          "2023-06-11T00:00:00",
          "2023-06-10T00:00:00",
          "2023-06-08T00:00:00",
          "2023-06-07T00:00:00",
          "2023-06-05T00:00:00",
          "2023-06-04T00:00:00",
          "2023-06-03T00:00:00",
          "2023-06-02T00:00:00",
          "2023-06-01T00:00:00",
          "2023-05-31T00:00:00",
          "2023-05-29T00:00:00",
          "2023-05-28T00:00:00",
          "2023-05-27T00:00:00",
          "2023-05-26T00:00:00",
          "2023-05-25T00:00:00",
          "2023-05-25T00:00:00",
          "2023-05-23T00:00:00",
          "2023-05-22T00:00:00",
          "2023-05-22T00:00:00",
          "2023-05-21T00:00:00",
          "2023-05-21T00:00:00",
          "2023-05-19T00:00:00",
          "2023-05-18T00:00:00",
          "2023-05-16T00:00:00",
          "2023-05-14T00:00:00",
          "2023-05-14T00:00:00",
          "2023-05-13T00:00:00",
          "2023-05-07T00:00:00",
          "2023-04-28T00:00:00",
          "2023-04-27T00:00:00",
          "2023-04-26T00:00:00",
          "2023-04-25T00:00:00",
          "2023-04-22T00:00:00",
          "2023-04-21T00:00:00",
          "2023-04-20T00:00:00",
          "2023-04-17T00:00:00",
          "2023-04-14T00:00:00",
          "2023-04-01T00:00:00",
          "2023-03-30T00:00:00",
          "2023-03-26T00:00:00",
          "2023-03-19T00:00:00",
          "2023-03-18T00:00:00",
          "2023-03-18T00:00:00",
          "2023-03-16T00:00:00",
          "2023-03-03T00:00:00",
          "2023-02-28T00:00:00",
          "2023-02-28T00:00:00",
          "2023-02-27T00:00:00",
          "2023-02-27T00:00:00",
          "2023-02-26T00:00:00",
          "2023-02-25T00:00:00",
          "2023-02-25T00:00:00",
          "2023-02-25T00:00:00"
         ],
         "xaxis": "x",
         "y": [
          8.7,
          9.6,
          9.7,
          6.9,
          9.1,
          8.9,
          9.1,
          9.2,
          9,
          9.3,
          9.4,
          10.3,
          10.3,
          10.4,
          10.4,
          10.4,
          10.1,
          10,
          10.5,
          10.4,
          11.1,
          11.4,
          10.3,
          10,
          10.7,
          11.4,
          10.2,
          10.2,
          9.3,
          10,
          11.2,
          11.2,
          10.5,
          10.2,
          10.3,
          11.4,
          10.6,
          10.7,
          11.2,
          10.7,
          11.3,
          10.6,
          11.4,
          10.7,
          11,
          10.3,
          10.2,
          10.2,
          10.2,
          10.6,
          10.2,
          11.3,
          10,
          10.7,
          10.5,
          11.6,
          10.3,
          10.9,
          11.8,
          10.4,
          10.6,
          11,
          10.8,
          10.5,
          11,
          10.4,
          11.6,
          11.4,
          10.4,
          10.7,
          11.5,
          10.8,
          10.6,
          10.2,
          9.9,
          10,
          10.5,
          11.1,
          10.6,
          10.2,
          10.5,
          10,
          10.6,
          10.3,
          10.4,
          11.1,
          9.9,
          11.4,
          10.8,
          9.9,
          10.4,
          10.5,
          10.2,
          10.5,
          10.3,
          10.4,
          11.3,
          10,
          10.9,
          10.9,
          10.4,
          10.6,
          10.5,
          10.9,
          10.4,
          11,
          10.5,
          10.3,
          10.7,
          10.3,
          10.1,
          10.4,
          10.9,
          11.2,
          10.2,
          10.6,
          10.7,
          10.7,
          11.5,
          11.2,
          10.7,
          11.3,
          10.3,
          10.2,
          10.4,
          10.2,
          11.1,
          9.9,
          11.2,
          10.9,
          10.7,
          11.2,
          10.7,
          10.2,
          10.8,
          9.9,
          9.8,
          9.9,
          10.3,
          10.1,
          10.4,
          10.5,
          10.3,
          11.1,
          11.3,
          10.2,
          10.7,
          10.8,
          10.6,
          10.1,
          11.1,
          10.6,
          11,
          11.1,
          10.5,
          10.6,
          10.6,
          11.6,
          11.1,
          11,
          10.4,
          10.5,
          10.9,
          10.5,
          10.7,
          10.9,
          10.9,
          10.6,
          11.2,
          10.4,
          10.4,
          11.3,
          10.8,
          10.9,
          10.6,
          11.1,
          10.5,
          10.9,
          10.7,
          10.5,
          10.6,
          11,
          10.6,
          10.7,
          10.8,
          11.1,
          10.5,
          10.7,
          11.1,
          11.1,
          11.1,
          10.8,
          10.8,
          11.6,
          10.9,
          11.3,
          11.2,
          11.4,
          10.9,
          11.2,
          11.5,
          11.2,
          11.4,
          11.3,
          11.4,
          11.2,
          11.5,
          11.7,
          11.3,
          11.6,
          11.1,
          11.5,
          11.5,
          12,
          11.5,
          12.1,
          12.1,
          12.1,
          12.2,
          11.6,
          12.3,
          12,
          11.9,
          11.7,
          12.3,
          12.2,
          12.2,
          12.5,
          12.5,
          12.7,
          12.2,
          12.3,
          12.8,
          12.3,
          12.6,
          12.7,
          12.8,
          12.2,
          12.3,
          13.1,
          13.3,
          13.4,
          13.1,
          13.4,
          13.1,
          13.4,
          13.5,
          13,
          13.8,
          13.6,
          13.9,
          13.3,
          14.2,
          13.2,
          13.8,
          13.7,
          13.7,
          13.7,
          13.9,
          13.7,
          13.8,
          13.9,
          13.9,
          14,
          14.1,
          14,
          14.1,
          14.1,
          14,
          14.4,
          14.7,
          14.5,
          15.3,
          15.7,
          15.5,
          16.4,
          16.4,
          16.7,
          16.1,
          16.3,
          16.3,
          16.5,
          16.3,
          16.3,
          16.4,
          16.4,
          16.3,
          17.3,
          16.5,
          16.3,
          16.3,
          16.4,
          16.7,
          16.6,
          16.8,
          16,
          16.5,
          16.4,
          16.4,
          16.4,
          16.5,
          16.4,
          16.4,
          17.2,
          16.2,
          16.5,
          16.5,
          16.4,
          16.5,
          16.4,
          16.7,
          16.5,
          16.7,
          16.4,
          16.9,
          16.7,
          16.9,
          16.9,
          16.8,
          16.8,
          16.6,
          17,
          16.8,
          17,
          17.2,
          14.5,
          16.9,
          17.5,
          17.7,
          18.1,
          17.4,
          18.1,
          18,
          18.2,
          17.7,
          17.9,
          18,
          18.1,
          18.2,
          17.9,
          18.3
         ],
         "yaxis": "y"
        },
        {
         "hovertemplate": "Observation Method=V<br>Observation Date=%{x}<br>Apparent total magnitude=%{y}<extra></extra>",
         "legendgroup": "V",
         "marker": {
          "color": "#FFA15A",
          "symbol": "circle"
         },
         "mode": "markers",
         "name": "V",
         "showlegend": true,
         "type": "scattergl",
         "x": [
          "2024-08-05T00:00:00",
          "2024-07-16T00:00:00",
          "2024-07-15T00:00:00",
          "2024-07-15T00:00:00",
          "2024-07-13T00:00:00",
          "2024-07-04T00:00:00",
          "2024-07-04T00:00:00",
          "2024-07-03T00:00:00",
          "2024-07-02T00:00:00",
          "2024-07-02T00:00:00",
          "2024-06-30T00:00:00",
          "2024-06-30T00:00:00",
          "2024-06-29T00:00:00",
          "2024-06-28T00:00:00",
          "2024-06-26T00:00:00",
          "2024-06-25T00:00:00",
          "2024-06-24T00:00:00",
          "2024-06-24T00:00:00",
          "2024-06-23T00:00:00",
          "2024-06-20T00:00:00",
          "2024-06-19T00:00:00",
          "2024-06-18T00:00:00",
          "2024-06-15T00:00:00",
          "2024-06-13T00:00:00",
          "2024-06-10T00:00:00",
          "2024-06-09T00:00:00",
          "2024-06-07T00:00:00",
          "2024-06-05T00:00:00",
          "2024-06-03T00:00:00",
          "2024-05-31T00:00:00",
          "2024-05-29T00:00:00",
          "2024-05-26T00:00:00",
          "2024-05-25T00:00:00",
          "2024-05-24T00:00:00",
          "2024-05-17T00:00:00",
          "2024-05-16T00:00:00",
          "2024-05-16T00:00:00",
          "2024-05-15T00:00:00",
          "2024-05-14T00:00:00",
          "2024-05-14T00:00:00",
          "2024-05-13T00:00:00",
          "2024-05-12T00:00:00",
          "2024-05-11T00:00:00",
          "2024-05-10T00:00:00",
          "2024-05-10T00:00:00",
          "2024-05-09T00:00:00",
          "2024-05-07T00:00:00",
          "2024-05-06T00:00:00",
          "2024-05-05T00:00:00",
          "2024-05-04T00:00:00",
          "2024-05-03T00:00:00",
          "2024-05-03T00:00:00",
          "2024-05-02T00:00:00",
          "2024-05-01T00:00:00",
          "2024-04-29T00:00:00",
          "2024-04-27T00:00:00",
          "2024-04-21T00:00:00",
          "2024-04-20T00:00:00",
          "2024-04-17T00:00:00",
          "2024-04-16T00:00:00",
          "2024-04-15T00:00:00",
          "2024-04-15T00:00:00",
          "2024-04-14T00:00:00",
          "2024-04-13T00:00:00",
          "2024-04-13T00:00:00",
          "2024-04-09T00:00:00",
          "2024-02-07T00:00:00",
          "2023-12-25T00:00:00",
          "2023-08-13T00:00:00",
          "2023-07-11T00:00:00",
          "2023-07-07T00:00:00",
          "2023-06-13T00:00:00",
          "2023-05-16T00:00:00",
          "2023-04-24T00:00:00",
          "2023-04-20T00:00:00",
          "2023-03-22T00:00:00"
         ],
         "xaxis": "x",
         "y": [
          9.4,
          10.5,
          10.6,
          12.1,
          10.5,
          10.9,
          11.9,
          11,
          10.9,
          9.9,
          11.1,
          12.9,
          10.8,
          10.9,
          10.6,
          11,
          10.9,
          9.9,
          10.9,
          11,
          10.9,
          10.5,
          11.5,
          11.3,
          10.5,
          13.1,
          11.3,
          11.4,
          10.7,
          11.1,
          10.7,
          11.3,
          10.8,
          11.2,
          11.1,
          11.1,
          10.7,
          11.1,
          10.7,
          11.3,
          10.1,
          10.5,
          11.2,
          10.7,
          10.8,
          10.7,
          11.2,
          11.4,
          11,
          11.2,
          10.5,
          10.6,
          10.7,
          10.4,
          11.1,
          10.4,
          10.8,
          10.8,
          10.8,
          10.9,
          10.8,
          10.8,
          11.1,
          11,
          10.7,
          11,
          13.3,
          14.4,
          16.3,
          16.5,
          16.7,
          16.9,
          16.9,
          17.5,
          17.3,
          18.5
         ],
         "yaxis": "y"
        },
        {
         "hovertemplate": "Observation Method=k<br>Observation Date=%{x}<br>Apparent total magnitude=%{y}<extra></extra>",
         "legendgroup": "k",
         "marker": {
          "color": "#19d3f3",
          "symbol": "circle"
         },
         "mode": "markers",
         "name": "k",
         "showlegend": true,
         "type": "scattergl",
         "x": [
          "2024-06-26T00:00:00",
          "2024-06-11T00:00:00",
          "2024-06-10T00:00:00",
          "2024-05-31T00:00:00",
          "2024-05-13T00:00:00",
          "2024-05-13T00:00:00",
          "2024-05-13T00:00:00",
          "2024-05-12T00:00:00",
          "2024-05-12T00:00:00",
          "2024-05-12T00:00:00",
          "2024-05-12T00:00:00",
          "2024-05-07T00:00:00",
          "2024-05-03T00:00:00",
          "2024-05-02T00:00:00",
          "2024-05-01T00:00:00",
          "2024-05-01T00:00:00",
          "2024-04-28T00:00:00",
          "2024-04-15T00:00:00"
         ],
         "xaxis": "x",
         "y": [
          10.2,
          10.7,
          10.8,
          10.7,
          10.9,
          9.6,
          9.8,
          10,
          10.2,
          10.2,
          10.4,
          10.9,
          10.8,
          10.2,
          9.9,
          10.1,
          11.8,
          10.3
         ],
         "yaxis": "y"
        },
        {
         "hovertemplate": "Observation Method=B<br>Observation Date=%{x}<br>Apparent total magnitude=%{y}<extra></extra>",
         "legendgroup": "B",
         "marker": {
          "color": "#FF6692",
          "symbol": "circle"
         },
         "mode": "markers",
         "name": "B",
         "showlegend": true,
         "type": "scattergl",
         "x": [
          "2024-06-26T00:00:00",
          "2024-06-10T00:00:00",
          "2024-06-01T00:00:00",
          "2024-05-29T00:00:00",
          "2024-05-29T00:00:00",
          "2024-05-13T00:00:00",
          "2024-05-11T00:00:00",
          "2024-05-07T00:00:00",
          "2024-05-06T00:00:00",
          "2024-05-04T00:00:00",
          "2024-05-03T00:00:00",
          "2024-05-01T00:00:00",
          "2024-04-30T00:00:00",
          "2024-04-30T00:00:00",
          "2024-04-29T00:00:00",
          "2024-04-29T00:00:00",
          "2024-04-28T00:00:00",
          "2024-04-09T00:00:00",
          "2024-04-08T00:00:00"
         ],
         "xaxis": "x",
         "y": [
          10.5,
          10.8,
          11,
          10.9,
          10.7,
          10.2,
          10.3,
          9.9,
          10.9,
          10.5,
          10,
          10.5,
          10.7,
          10.7,
          10.2,
          10,
          10.2,
          10.3,
          10.6
         ],
         "yaxis": "y"
        },
        {
         "hovertemplate": "Observation Method=D<br>Observation Date=%{x}<br>Apparent total magnitude=%{y}<extra></extra>",
         "legendgroup": "D",
         "marker": {
          "color": "#B6E880",
          "symbol": "circle"
         },
         "mode": "markers",
         "name": "D",
         "showlegend": true,
         "type": "scattergl",
         "x": [
          "2024-06-24T00:00:00",
          "2024-06-18T00:00:00",
          "2024-06-10T00:00:00",
          "2024-06-03T00:00:00",
          "2024-05-29T00:00:00",
          "2024-05-25T00:00:00",
          "2024-05-14T00:00:00",
          "2024-05-13T00:00:00",
          "2024-05-10T00:00:00",
          "2024-05-09T00:00:00"
         ],
         "xaxis": "x",
         "y": [
          10.7,
          11,
          11.3,
          11.6,
          11.5,
          11.7,
          11.4,
          10.6,
          11.5,
          11.5
         ],
         "yaxis": "y"
        },
        {
         "hovertemplate": "Observation Method=H<br>Observation Date=%{x}<br>Apparent total magnitude=%{y}<extra></extra>",
         "legendgroup": "H",
         "marker": {
          "color": "#FF97FF",
          "symbol": "circle"
         },
         "mode": "markers",
         "name": "H",
         "showlegend": true,
         "type": "scattergl",
         "x": [
          "2024-06-24T00:00:00",
          "2024-06-18T00:00:00",
          "2024-06-10T00:00:00",
          "2024-06-03T00:00:00",
          "2024-05-29T00:00:00",
          "2024-05-25T00:00:00",
          "2024-05-14T00:00:00",
          "2024-05-13T00:00:00",
          "2024-05-13T00:00:00",
          "2024-05-12T00:00:00",
          "2024-05-12T00:00:00",
          "2024-05-10T00:00:00",
          "2024-05-09T00:00:00",
          "2024-05-01T00:00:00",
          "2024-05-01T00:00:00",
          "2024-05-01T00:00:00",
          "2024-05-01T00:00:00"
         ],
         "xaxis": "x",
         "y": [
          9.2,
          9.6,
          9.6,
          9.8,
          9.9,
          9.9,
          9.9,
          9.6,
          10,
          9.6,
          10,
          9.9,
          9.8,
          9.6,
          10,
          9.7,
          10.1
         ],
         "yaxis": "y"
        },
        {
         "hovertemplate": "Observation Method=d<br>Observation Date=%{x}<br>Apparent total magnitude=%{y}<extra></extra>",
         "legendgroup": "d",
         "marker": {
          "color": "#FECB52",
          "symbol": "circle"
         },
         "mode": "markers",
         "name": "d",
         "showlegend": true,
         "type": "scattergl",
         "x": [
          "2024-06-05T00:00:00",
          "2024-05-26T00:00:00"
         ],
         "xaxis": "x",
         "y": [
          10.1,
          10.3
         ],
         "yaxis": "y"
        },
        {
         "hovertemplate": "Observation Method=c<br>Observation Date=%{x}<br>Apparent total magnitude=%{y}<extra></extra>",
         "legendgroup": "c",
         "marker": {
          "color": "#636efa",
          "symbol": "circle"
         },
         "mode": "markers",
         "name": "c",
         "showlegend": true,
         "type": "scattergl",
         "x": [
          "2024-05-16T00:00:00",
          "2024-05-13T00:00:00",
          "2024-05-12T00:00:00",
          "2024-05-10T00:00:00",
          "2024-05-09T00:00:00",
          "2024-05-04T00:00:00",
          "2024-04-30T00:00:00",
          "2024-04-12T00:00:00"
         ],
         "xaxis": "x",
         "y": [
          11.9,
          12.7,
          12.5,
          12.6,
          12.5,
          11.9,
          12.1,
          10.4
         ],
         "yaxis": "y"
        },
        {
         "hovertemplate": "Observation Method=E<br>Observation Date=%{x}<br>Apparent total magnitude=%{y}<extra></extra>",
         "legendgroup": "E",
         "marker": {
          "color": "#EF553B",
          "symbol": "circle"
         },
         "mode": "markers",
         "name": "E",
         "showlegend": true,
         "type": "scattergl",
         "x": [
          "2024-05-11T00:00:00"
         ],
         "xaxis": "x",
         "y": [
          10.1
         ],
         "yaxis": "y"
        }
       ],
       "layout": {
        "legend": {
         "title": {
          "text": "Observation Method"
         },
         "tracegroupgap": 0
        },
        "template": {
         "data": {
          "bar": [
           {
            "error_x": {
             "color": "#f2f5fa"
            },
            "error_y": {
             "color": "#f2f5fa"
            },
            "marker": {
             "line": {
              "color": "rgb(17,17,17)",
              "width": 0.5
             },
             "pattern": {
              "fillmode": "overlay",
              "size": 10,
              "solidity": 0.2
             }
            },
            "type": "bar"
           }
          ],
          "barpolar": [
           {
            "marker": {
             "line": {
              "color": "rgb(17,17,17)",
              "width": 0.5
             },
             "pattern": {
              "fillmode": "overlay",
              "size": 10,
              "solidity": 0.2
             }
            },
            "type": "barpolar"
           }
          ],
          "carpet": [
           {
            "aaxis": {
             "endlinecolor": "#A2B1C6",
             "gridcolor": "#506784",
             "linecolor": "#506784",
             "minorgridcolor": "#506784",
             "startlinecolor": "#A2B1C6"
            },
            "baxis": {
             "endlinecolor": "#A2B1C6",
             "gridcolor": "#506784",
             "linecolor": "#506784",
             "minorgridcolor": "#506784",
             "startlinecolor": "#A2B1C6"
            },
            "type": "carpet"
           }
          ],
          "choropleth": [
           {
            "colorbar": {
             "outlinewidth": 0,
             "ticks": ""
            },
            "type": "choropleth"
           }
          ],
          "contour": [
           {
            "colorbar": {
             "outlinewidth": 0,
             "ticks": ""
            },
            "colorscale": [
             [
              0,
              "#0d0887"
             ],
             [
              0.1111111111111111,
              "#46039f"
             ],
             [
              0.2222222222222222,
              "#7201a8"
             ],
             [
              0.3333333333333333,
              "#9c179e"
             ],
             [
              0.4444444444444444,
              "#bd3786"
             ],
             [
              0.5555555555555556,
              "#d8576b"
             ],
             [
              0.6666666666666666,
              "#ed7953"
             ],
             [
              0.7777777777777778,
              "#fb9f3a"
             ],
             [
              0.8888888888888888,
              "#fdca26"
             ],
             [
              1,
              "#f0f921"
             ]
            ],
            "type": "contour"
           }
          ],
          "contourcarpet": [
           {
            "colorbar": {
             "outlinewidth": 0,
             "ticks": ""
            },
            "type": "contourcarpet"
           }
          ],
          "heatmap": [
           {
            "colorbar": {
             "outlinewidth": 0,
             "ticks": ""
            },
            "colorscale": [
             [
              0,
              "#0d0887"
             ],
             [
              0.1111111111111111,
              "#46039f"
             ],
             [
              0.2222222222222222,
              "#7201a8"
             ],
             [
              0.3333333333333333,
              "#9c179e"
             ],
             [
              0.4444444444444444,
              "#bd3786"
             ],
             [
              0.5555555555555556,
              "#d8576b"
             ],
             [
              0.6666666666666666,
              "#ed7953"
             ],
             [
              0.7777777777777778,
              "#fb9f3a"
             ],
             [
              0.8888888888888888,
              "#fdca26"
             ],
             [
              1,
              "#f0f921"
             ]
            ],
            "type": "heatmap"
           }
          ],
          "heatmapgl": [
           {
            "colorbar": {
             "outlinewidth": 0,
             "ticks": ""
            },
            "colorscale": [
             [
              0,
              "#0d0887"
             ],
             [
              0.1111111111111111,
              "#46039f"
             ],
             [
              0.2222222222222222,
              "#7201a8"
             ],
             [
              0.3333333333333333,
              "#9c179e"
             ],
             [
              0.4444444444444444,
              "#bd3786"
             ],
             [
              0.5555555555555556,
              "#d8576b"
             ],
             [
              0.6666666666666666,
              "#ed7953"
             ],
             [
              0.7777777777777778,
              "#fb9f3a"
             ],
             [
              0.8888888888888888,
              "#fdca26"
             ],
             [
              1,
              "#f0f921"
             ]
            ],
            "type": "heatmapgl"
           }
          ],
          "histogram": [
           {
            "marker": {
             "pattern": {
              "fillmode": "overlay",
              "size": 10,
              "solidity": 0.2
             }
            },
            "type": "histogram"
           }
          ],
          "histogram2d": [
           {
            "colorbar": {
             "outlinewidth": 0,
             "ticks": ""
            },
            "colorscale": [
             [
              0,
              "#0d0887"
             ],
             [
              0.1111111111111111,
              "#46039f"
             ],
             [
              0.2222222222222222,
              "#7201a8"
             ],
             [
              0.3333333333333333,
              "#9c179e"
             ],
             [
              0.4444444444444444,
              "#bd3786"
             ],
             [
              0.5555555555555556,
              "#d8576b"
             ],
             [
              0.6666666666666666,
              "#ed7953"
             ],
             [
              0.7777777777777778,
              "#fb9f3a"
             ],
             [
              0.8888888888888888,
              "#fdca26"
             ],
             [
              1,
              "#f0f921"
             ]
            ],
            "type": "histogram2d"
           }
          ],
          "histogram2dcontour": [
           {
            "colorbar": {
             "outlinewidth": 0,
             "ticks": ""
            },
            "colorscale": [
             [
              0,
              "#0d0887"
             ],
             [
              0.1111111111111111,
              "#46039f"
             ],
             [
              0.2222222222222222,
              "#7201a8"
             ],
             [
              0.3333333333333333,
              "#9c179e"
             ],
             [
              0.4444444444444444,
              "#bd3786"
             ],
             [
              0.5555555555555556,
              "#d8576b"
             ],
             [
              0.6666666666666666,
              "#ed7953"
             ],
             [
              0.7777777777777778,
              "#fb9f3a"
             ],
             [
              0.8888888888888888,
              "#fdca26"
             ],
             [
              1,
              "#f0f921"
             ]
            ],
            "type": "histogram2dcontour"
           }
          ],
          "mesh3d": [
           {
            "colorbar": {
             "outlinewidth": 0,
             "ticks": ""
            },
            "type": "mesh3d"
           }
          ],
          "parcoords": [
           {
            "line": {
             "colorbar": {
              "outlinewidth": 0,
              "ticks": ""
             }
            },
            "type": "parcoords"
           }
          ],
          "pie": [
           {
            "automargin": true,
            "type": "pie"
           }
          ],
          "scatter": [
           {
            "marker": {
             "line": {
              "color": "#283442"
             }
            },
            "type": "scatter"
           }
          ],
          "scatter3d": [
           {
            "line": {
             "colorbar": {
              "outlinewidth": 0,
              "ticks": ""
             }
            },
            "marker": {
             "colorbar": {
              "outlinewidth": 0,
              "ticks": ""
             }
            },
            "type": "scatter3d"
           }
          ],
          "scattercarpet": [
           {
            "marker": {
             "colorbar": {
              "outlinewidth": 0,
              "ticks": ""
             }
            },
            "type": "scattercarpet"
           }
          ],
          "scattergeo": [
           {
            "marker": {
             "colorbar": {
              "outlinewidth": 0,
              "ticks": ""
             }
            },
            "type": "scattergeo"
           }
          ],
          "scattergl": [
           {
            "marker": {
             "line": {
              "color": "#283442"
             }
            },
            "type": "scattergl"
           }
          ],
          "scattermapbox": [
           {
            "marker": {
             "colorbar": {
              "outlinewidth": 0,
              "ticks": ""
             }
            },
            "type": "scattermapbox"
           }
          ],
          "scatterpolar": [
           {
            "marker": {
             "colorbar": {
              "outlinewidth": 0,
              "ticks": ""
             }
            },
            "type": "scatterpolar"
           }
          ],
          "scatterpolargl": [
           {
            "marker": {
             "colorbar": {
              "outlinewidth": 0,
              "ticks": ""
             }
            },
            "type": "scatterpolargl"
           }
          ],
          "scatterternary": [
           {
            "marker": {
             "colorbar": {
              "outlinewidth": 0,
              "ticks": ""
             }
            },
            "type": "scatterternary"
           }
          ],
          "surface": [
           {
            "colorbar": {
             "outlinewidth": 0,
             "ticks": ""
            },
            "colorscale": [
             [
              0,
              "#0d0887"
             ],
             [
              0.1111111111111111,
              "#46039f"
             ],
             [
              0.2222222222222222,
              "#7201a8"
             ],
             [
              0.3333333333333333,
              "#9c179e"
             ],
             [
              0.4444444444444444,
              "#bd3786"
             ],
             [
              0.5555555555555556,
              "#d8576b"
             ],
             [
              0.6666666666666666,
              "#ed7953"
             ],
             [
              0.7777777777777778,
              "#fb9f3a"
             ],
             [
              0.8888888888888888,
              "#fdca26"
             ],
             [
              1,
              "#f0f921"
             ]
            ],
            "type": "surface"
           }
          ],
          "table": [
           {
            "cells": {
             "fill": {
              "color": "#506784"
             },
             "line": {
              "color": "rgb(17,17,17)"
             }
            },
            "header": {
             "fill": {
              "color": "#2a3f5f"
             },
             "line": {
              "color": "rgb(17,17,17)"
             }
            },
            "type": "table"
           }
          ]
         },
         "layout": {
          "annotationdefaults": {
           "arrowcolor": "#f2f5fa",
           "arrowhead": 0,
           "arrowwidth": 1
          },
          "autotypenumbers": "strict",
          "coloraxis": {
           "colorbar": {
            "outlinewidth": 0,
            "ticks": ""
           }
          },
          "colorscale": {
           "diverging": [
            [
             0,
             "#8e0152"
            ],
            [
             0.1,
             "#c51b7d"
            ],
            [
             0.2,
             "#de77ae"
            ],
            [
             0.3,
             "#f1b6da"
            ],
            [
             0.4,
             "#fde0ef"
            ],
            [
             0.5,
             "#f7f7f7"
            ],
            [
             0.6,
             "#e6f5d0"
            ],
            [
             0.7,
             "#b8e186"
            ],
            [
             0.8,
             "#7fbc41"
            ],
            [
             0.9,
             "#4d9221"
            ],
            [
             1,
             "#276419"
            ]
           ],
           "sequential": [
            [
             0,
             "#0d0887"
            ],
            [
             0.1111111111111111,
             "#46039f"
            ],
            [
             0.2222222222222222,
             "#7201a8"
            ],
            [
             0.3333333333333333,
             "#9c179e"
            ],
            [
             0.4444444444444444,
             "#bd3786"
            ],
            [
             0.5555555555555556,
             "#d8576b"
            ],
            [
             0.6666666666666666,
             "#ed7953"
            ],
            [
             0.7777777777777778,
             "#fb9f3a"
            ],
            [
             0.8888888888888888,
             "#fdca26"
            ],
            [
             1,
             "#f0f921"
            ]
           ],
           "sequentialminus": [
            [
             0,
             "#0d0887"
            ],
            [
             0.1111111111111111,
             "#46039f"
            ],
            [
             0.2222222222222222,
             "#7201a8"
            ],
            [
             0.3333333333333333,
             "#9c179e"
            ],
            [
             0.4444444444444444,
             "#bd3786"
            ],
            [
             0.5555555555555556,
             "#d8576b"
            ],
            [
             0.6666666666666666,
             "#ed7953"
            ],
            [
             0.7777777777777778,
             "#fb9f3a"
            ],
            [
             0.8888888888888888,
             "#fdca26"
            ],
            [
             1,
             "#f0f921"
            ]
           ]
          },
          "colorway": [
           "#636efa",
           "#EF553B",
           "#00cc96",
           "#ab63fa",
           "#FFA15A",
           "#19d3f3",
           "#FF6692",
           "#B6E880",
           "#FF97FF",
           "#FECB52"
          ],
          "font": {
           "color": "#f2f5fa"
          },
          "geo": {
           "bgcolor": "rgb(17,17,17)",
           "lakecolor": "rgb(17,17,17)",
           "landcolor": "rgb(17,17,17)",
           "showlakes": true,
           "showland": true,
           "subunitcolor": "#506784"
          },
          "hoverlabel": {
           "align": "left"
          },
          "hovermode": "closest",
          "mapbox": {
           "style": "dark"
          },
          "paper_bgcolor": "rgb(17,17,17)",
          "plot_bgcolor": "rgb(17,17,17)",
          "polar": {
           "angularaxis": {
            "gridcolor": "#506784",
            "linecolor": "#506784",
            "ticks": ""
           },
           "bgcolor": "rgb(17,17,17)",
           "radialaxis": {
            "gridcolor": "#506784",
            "linecolor": "#506784",
            "ticks": ""
           }
          },
          "scene": {
           "xaxis": {
            "backgroundcolor": "rgb(17,17,17)",
            "gridcolor": "#506784",
            "gridwidth": 2,
            "linecolor": "#506784",
            "showbackground": true,
            "ticks": "",
            "zerolinecolor": "#C8D4E3"
           },
           "yaxis": {
            "backgroundcolor": "rgb(17,17,17)",
            "gridcolor": "#506784",
            "gridwidth": 2,
            "linecolor": "#506784",
            "showbackground": true,
            "ticks": "",
            "zerolinecolor": "#C8D4E3"
           },
           "zaxis": {
            "backgroundcolor": "rgb(17,17,17)",
            "gridcolor": "#506784",
            "gridwidth": 2,
            "linecolor": "#506784",
            "showbackground": true,
            "ticks": "",
            "zerolinecolor": "#C8D4E3"
           }
          },
          "shapedefaults": {
           "line": {
            "color": "#f2f5fa"
           }
          },
          "sliderdefaults": {
           "bgcolor": "#C8D4E3",
           "bordercolor": "rgb(17,17,17)",
           "borderwidth": 1,
           "tickwidth": 0
          },
          "ternary": {
           "aaxis": {
            "gridcolor": "#506784",
            "linecolor": "#506784",
            "ticks": ""
           },
           "baxis": {
            "gridcolor": "#506784",
            "linecolor": "#506784",
            "ticks": ""
           },
           "bgcolor": "rgb(17,17,17)",
           "caxis": {
            "gridcolor": "#506784",
            "linecolor": "#506784",
            "ticks": ""
           }
          },
          "title": {
           "x": 0.05
          },
          "updatemenudefaults": {
           "bgcolor": "#506784",
           "borderwidth": 0
          },
          "xaxis": {
           "automargin": true,
           "gridcolor": "#283442",
           "linecolor": "#506784",
           "ticks": "",
           "title": {
            "standoff": 15
           },
           "zerolinecolor": "#283442",
           "zerolinewidth": 2
          },
          "yaxis": {
           "automargin": true,
           "gridcolor": "#283442",
           "linecolor": "#506784",
           "ticks": "",
           "title": {
            "standoff": 15
           },
           "zerolinecolor": "#283442",
           "zerolinewidth": 2
          }
         }
        },
        "title": {
         "text": "Lightcurve of comet C/2023 A3 (Tsuchinshan-ATLAS)"
        },
        "xaxis": {
         "anchor": "y",
         "domain": [
          0,
          1
         ],
         "title": {
          "text": "Observation Date"
         }
        },
        "yaxis": {
         "anchor": "x",
         "autorange": "reversed",
         "domain": [
          0,
          1
         ],
         "title": {
          "text": "Apparent total magnitude"
         }
        }
       }
      }
     },
     "metadata": {},
     "output_type": "display_data"
    }
   ],
   "source": [
    "# Curva de luz cruda.\n",
    "labels = {'obs_date':'Observation Date','magnitude':'Apparent total magnitude', 'obs_method_key' : 'Observation Method'}\n",
    "fig = px.scatter(curva_de_luz_cruda_df, x='obs_date', y='magnitude', color='obs_method_key', template= 'plotly_dark', labels= labels, title='Lightcurve of comet C/2023 A3 (Tsuchinshan-ATLAS)')\n",
    "fig.update_yaxes(autorange=\"reversed\")\n",
    "fig.show()"
   ]
  },
  {
   "cell_type": "markdown",
   "metadata": {},
   "source": [
    "# MPC API usando astroquery."
   ]
  },
  {
   "cell_type": "code",
   "execution_count": 13,
   "metadata": {},
   "outputs": [
    {
     "data": {
      "text/html": [
       "<div>\n",
       "<style scoped>\n",
       "    .dataframe tbody tr th:only-of-type {\n",
       "        vertical-align: middle;\n",
       "    }\n",
       "\n",
       "    .dataframe tbody tr th {\n",
       "        vertical-align: top;\n",
       "    }\n",
       "\n",
       "    .dataframe thead th {\n",
       "        text-align: right;\n",
       "    }\n",
       "</style>\n",
       "<table border=\"1\" class=\"dataframe\">\n",
       "  <thead>\n",
       "    <tr style=\"text-align: right;\">\n",
       "      <th></th>\n",
       "      <th>date</th>\n",
       "      <th>ra</th>\n",
       "      <th>dec</th>\n",
       "      <th>delta</th>\n",
       "      <th>r</th>\n",
       "      <th>elongation</th>\n",
       "      <th>phase</th>\n",
       "      <th>v</th>\n",
       "      <th>proper_motion</th>\n",
       "      <th>direction</th>\n",
       "    </tr>\n",
       "  </thead>\n",
       "  <tbody>\n",
       "    <tr>\n",
       "      <th>0</th>\n",
       "      <td>2023-02-25</td>\n",
       "      <td>230.565833</td>\n",
       "      <td>-1.256389</td>\n",
       "      <td>6.946</td>\n",
       "      <td>7.290</td>\n",
       "      <td>106.6</td>\n",
       "      <td>7.5</td>\n",
       "      <td>19.1</td>\n",
       "      <td>8.17</td>\n",
       "      <td>318.9</td>\n",
       "    </tr>\n",
       "    <tr>\n",
       "      <th>1</th>\n",
       "      <td>2023-02-26</td>\n",
       "      <td>230.528333</td>\n",
       "      <td>-1.214722</td>\n",
       "      <td>6.921</td>\n",
       "      <td>7.281</td>\n",
       "      <td>107.6</td>\n",
       "      <td>7.4</td>\n",
       "      <td>19.1</td>\n",
       "      <td>8.51</td>\n",
       "      <td>317.4</td>\n",
       "    </tr>\n",
       "    <tr>\n",
       "      <th>2</th>\n",
       "      <td>2023-02-27</td>\n",
       "      <td>230.488750</td>\n",
       "      <td>-1.172778</td>\n",
       "      <td>6.896</td>\n",
       "      <td>7.272</td>\n",
       "      <td>108.6</td>\n",
       "      <td>7.4</td>\n",
       "      <td>19.1</td>\n",
       "      <td>8.86</td>\n",
       "      <td>316.0</td>\n",
       "    </tr>\n",
       "    <tr>\n",
       "      <th>3</th>\n",
       "      <td>2023-02-28</td>\n",
       "      <td>230.446667</td>\n",
       "      <td>-1.130000</td>\n",
       "      <td>6.871</td>\n",
       "      <td>7.264</td>\n",
       "      <td>109.6</td>\n",
       "      <td>7.4</td>\n",
       "      <td>19.1</td>\n",
       "      <td>9.21</td>\n",
       "      <td>314.7</td>\n",
       "    </tr>\n",
       "    <tr>\n",
       "      <th>4</th>\n",
       "      <td>2023-03-01</td>\n",
       "      <td>230.401667</td>\n",
       "      <td>-1.086389</td>\n",
       "      <td>6.847</td>\n",
       "      <td>7.255</td>\n",
       "      <td>110.6</td>\n",
       "      <td>7.3</td>\n",
       "      <td>19.1</td>\n",
       "      <td>9.56</td>\n",
       "      <td>313.4</td>\n",
       "    </tr>\n",
       "    <tr>\n",
       "      <th>...</th>\n",
       "      <td>...</td>\n",
       "      <td>...</td>\n",
       "      <td>...</td>\n",
       "      <td>...</td>\n",
       "      <td>...</td>\n",
       "      <td>...</td>\n",
       "      <td>...</td>\n",
       "      <td>...</td>\n",
       "      <td>...</td>\n",
       "      <td>...</td>\n",
       "    </tr>\n",
       "    <tr>\n",
       "      <th>530</th>\n",
       "      <td>2024-08-08</td>\n",
       "      <td>163.204167</td>\n",
       "      <td>-0.185000</td>\n",
       "      <td>2.008</td>\n",
       "      <td>1.234</td>\n",
       "      <td>29.7</td>\n",
       "      <td>24.0</td>\n",
       "      <td>10.2</td>\n",
       "      <td>21.97</td>\n",
       "      <td>220.4</td>\n",
       "    </tr>\n",
       "    <tr>\n",
       "      <th>531</th>\n",
       "      <td>2024-08-09</td>\n",
       "      <td>163.109583</td>\n",
       "      <td>-0.297222</td>\n",
       "      <td>2.003</td>\n",
       "      <td>1.216</td>\n",
       "      <td>28.7</td>\n",
       "      <td>23.6</td>\n",
       "      <td>10.2</td>\n",
       "      <td>22.06</td>\n",
       "      <td>219.7</td>\n",
       "    </tr>\n",
       "    <tr>\n",
       "      <th>532</th>\n",
       "      <td>2024-08-10</td>\n",
       "      <td>163.016250</td>\n",
       "      <td>-0.411111</td>\n",
       "      <td>1.997</td>\n",
       "      <td>1.198</td>\n",
       "      <td>27.8</td>\n",
       "      <td>23.3</td>\n",
       "      <td>10.1</td>\n",
       "      <td>22.18</td>\n",
       "      <td>219.1</td>\n",
       "    </tr>\n",
       "    <tr>\n",
       "      <th>533</th>\n",
       "      <td>2024-08-11</td>\n",
       "      <td>162.922917</td>\n",
       "      <td>-0.526667</td>\n",
       "      <td>1.991</td>\n",
       "      <td>1.180</td>\n",
       "      <td>26.9</td>\n",
       "      <td>22.9</td>\n",
       "      <td>10.1</td>\n",
       "      <td>22.31</td>\n",
       "      <td>218.6</td>\n",
       "    </tr>\n",
       "    <tr>\n",
       "      <th>534</th>\n",
       "      <td>2024-08-12</td>\n",
       "      <td>162.830417</td>\n",
       "      <td>-0.643611</td>\n",
       "      <td>1.985</td>\n",
       "      <td>1.161</td>\n",
       "      <td>26.0</td>\n",
       "      <td>22.5</td>\n",
       "      <td>10.0</td>\n",
       "      <td>22.46</td>\n",
       "      <td>218.1</td>\n",
       "    </tr>\n",
       "  </tbody>\n",
       "</table>\n",
       "<p>535 rows × 10 columns</p>\n",
       "</div>"
      ],
      "text/plain": [
       "          date          ra       dec  delta      r  elongation  phase     v  \\\n",
       "0   2023-02-25  230.565833 -1.256389  6.946  7.290       106.6    7.5  19.1   \n",
       "1   2023-02-26  230.528333 -1.214722  6.921  7.281       107.6    7.4  19.1   \n",
       "2   2023-02-27  230.488750 -1.172778  6.896  7.272       108.6    7.4  19.1   \n",
       "3   2023-02-28  230.446667 -1.130000  6.871  7.264       109.6    7.4  19.1   \n",
       "4   2023-03-01  230.401667 -1.086389  6.847  7.255       110.6    7.3  19.1   \n",
       "..         ...         ...       ...    ...    ...         ...    ...   ...   \n",
       "530 2024-08-08  163.204167 -0.185000  2.008  1.234        29.7   24.0  10.2   \n",
       "531 2024-08-09  163.109583 -0.297222  2.003  1.216        28.7   23.6  10.2   \n",
       "532 2024-08-10  163.016250 -0.411111  1.997  1.198        27.8   23.3  10.1   \n",
       "533 2024-08-11  162.922917 -0.526667  1.991  1.180        26.9   22.9  10.1   \n",
       "534 2024-08-12  162.830417 -0.643611  1.985  1.161        26.0   22.5  10.0   \n",
       "\n",
       "     proper_motion  direction  \n",
       "0             8.17      318.9  \n",
       "1             8.51      317.4  \n",
       "2             8.86      316.0  \n",
       "3             9.21      314.7  \n",
       "4             9.56      313.4  \n",
       "..             ...        ...  \n",
       "530          21.97      220.4  \n",
       "531          22.06      219.7  \n",
       "532          22.18      219.1  \n",
       "533          22.31      218.6  \n",
       "534          22.46      218.1  \n",
       "\n",
       "[535 rows x 10 columns]"
      ]
     },
     "execution_count": 13,
     "metadata": {},
     "output_type": "execute_result"
    }
   ],
   "source": [
    "# Creación de data frame Ephemeris (conexión con la API del MPC)\n",
    "fecha_inicial = curva_de_luz_cruda_df.obs_date.min()\n",
    "fecha_final = curva_de_luz_cruda_df.obs_date.max()\n",
    "fechas = (fecha_final - fecha_inicial).days\n",
    "\n",
    "ephemeris = MPC.get_ephemeris('C/2023 A3', start = str(fecha_inicial), number = fechas + 1) # type: ignore\n",
    "\n",
    "ephemeris_df = ephemeris.to_pandas()\n",
    "ephemeris_df.columns = ephemeris_df.columns.str.lower().str.replace(' ', '_')\n",
    "ephemeris_df"
   ]
  },
  {
   "cell_type": "code",
   "execution_count": 14,
   "metadata": {},
   "outputs": [
    {
     "name": "stdout",
     "output_type": "stream",
     "text": [
      "<class 'pandas.core.frame.DataFrame'>\n",
      "RangeIndex: 535 entries, 0 to 534\n",
      "Data columns (total 10 columns):\n",
      " #   Column         Non-Null Count  Dtype         \n",
      "---  ------         --------------  -----         \n",
      " 0   date           535 non-null    datetime64[ns]\n",
      " 1   ra             535 non-null    float64       \n",
      " 2   dec            535 non-null    float64       \n",
      " 3   delta          535 non-null    float64       \n",
      " 4   r              535 non-null    float64       \n",
      " 5   elongation     535 non-null    float64       \n",
      " 6   phase          535 non-null    float64       \n",
      " 7   v              535 non-null    float64       \n",
      " 8   proper_motion  535 non-null    float64       \n",
      " 9   direction      535 non-null    float64       \n",
      "dtypes: datetime64[ns](1), float64(9)\n",
      "memory usage: 41.9 KB\n"
     ]
    }
   ],
   "source": [
    "# Info del data frame ephemeris\n",
    "ephemeris_df.info()"
   ]
  },
  {
   "cell_type": "code",
   "execution_count": 15,
   "metadata": {},
   "outputs": [
    {
     "data": {
      "text/plain": [
       "date             datetime64[ns]\n",
       "ra                      float64\n",
       "dec                     float64\n",
       "delta                   float64\n",
       "r                       float64\n",
       "elongation              float64\n",
       "phase                   float64\n",
       "v                       float64\n",
       "proper_motion           float64\n",
       "direction               float64\n",
       "dtype: object"
      ]
     },
     "execution_count": 15,
     "metadata": {},
     "output_type": "execute_result"
    }
   ],
   "source": [
    "# Dar a los datos el formato deseado\n",
    "ephemeris_df.date = pd.to_datetime(ephemeris_df.date)\n",
    "ephemeris_df.date = pd.to_datetime(ephemeris_df.date.dt.date)\n",
    "ephemeris_df.dtypes"
   ]
  },
  {
   "cell_type": "code",
   "execution_count": 16,
   "metadata": {},
   "outputs": [
    {
     "data": {
      "text/html": [
       "<div>\n",
       "<style scoped>\n",
       "    .dataframe tbody tr th:only-of-type {\n",
       "        vertical-align: middle;\n",
       "    }\n",
       "\n",
       "    .dataframe tbody tr th {\n",
       "        vertical-align: top;\n",
       "    }\n",
       "\n",
       "    .dataframe thead th {\n",
       "        text-align: right;\n",
       "    }\n",
       "</style>\n",
       "<table border=\"1\" class=\"dataframe\">\n",
       "  <thead>\n",
       "    <tr style=\"text-align: right;\">\n",
       "      <th></th>\n",
       "      <th>obs_date</th>\n",
       "      <th>delta</th>\n",
       "      <th>r</th>\n",
       "      <th>phase</th>\n",
       "    </tr>\n",
       "  </thead>\n",
       "  <tbody>\n",
       "    <tr>\n",
       "      <th>0</th>\n",
       "      <td>2023-02-25</td>\n",
       "      <td>6.946</td>\n",
       "      <td>7.290</td>\n",
       "      <td>7.5</td>\n",
       "    </tr>\n",
       "    <tr>\n",
       "      <th>1</th>\n",
       "      <td>2023-02-26</td>\n",
       "      <td>6.921</td>\n",
       "      <td>7.281</td>\n",
       "      <td>7.4</td>\n",
       "    </tr>\n",
       "    <tr>\n",
       "      <th>2</th>\n",
       "      <td>2023-02-27</td>\n",
       "      <td>6.896</td>\n",
       "      <td>7.272</td>\n",
       "      <td>7.4</td>\n",
       "    </tr>\n",
       "    <tr>\n",
       "      <th>3</th>\n",
       "      <td>2023-02-28</td>\n",
       "      <td>6.871</td>\n",
       "      <td>7.264</td>\n",
       "      <td>7.4</td>\n",
       "    </tr>\n",
       "    <tr>\n",
       "      <th>4</th>\n",
       "      <td>2023-03-01</td>\n",
       "      <td>6.847</td>\n",
       "      <td>7.255</td>\n",
       "      <td>7.3</td>\n",
       "    </tr>\n",
       "    <tr>\n",
       "      <th>...</th>\n",
       "      <td>...</td>\n",
       "      <td>...</td>\n",
       "      <td>...</td>\n",
       "      <td>...</td>\n",
       "    </tr>\n",
       "    <tr>\n",
       "      <th>530</th>\n",
       "      <td>2024-08-08</td>\n",
       "      <td>2.008</td>\n",
       "      <td>1.234</td>\n",
       "      <td>24.0</td>\n",
       "    </tr>\n",
       "    <tr>\n",
       "      <th>531</th>\n",
       "      <td>2024-08-09</td>\n",
       "      <td>2.003</td>\n",
       "      <td>1.216</td>\n",
       "      <td>23.6</td>\n",
       "    </tr>\n",
       "    <tr>\n",
       "      <th>532</th>\n",
       "      <td>2024-08-10</td>\n",
       "      <td>1.997</td>\n",
       "      <td>1.198</td>\n",
       "      <td>23.3</td>\n",
       "    </tr>\n",
       "    <tr>\n",
       "      <th>533</th>\n",
       "      <td>2024-08-11</td>\n",
       "      <td>1.991</td>\n",
       "      <td>1.180</td>\n",
       "      <td>22.9</td>\n",
       "    </tr>\n",
       "    <tr>\n",
       "      <th>534</th>\n",
       "      <td>2024-08-12</td>\n",
       "      <td>1.985</td>\n",
       "      <td>1.161</td>\n",
       "      <td>22.5</td>\n",
       "    </tr>\n",
       "  </tbody>\n",
       "</table>\n",
       "<p>535 rows × 4 columns</p>\n",
       "</div>"
      ],
      "text/plain": [
       "      obs_date  delta      r  phase\n",
       "0   2023-02-25  6.946  7.290    7.5\n",
       "1   2023-02-26  6.921  7.281    7.4\n",
       "2   2023-02-27  6.896  7.272    7.4\n",
       "3   2023-02-28  6.871  7.264    7.4\n",
       "4   2023-03-01  6.847  7.255    7.3\n",
       "..         ...    ...    ...    ...\n",
       "530 2024-08-08  2.008  1.234   24.0\n",
       "531 2024-08-09  2.003  1.216   23.6\n",
       "532 2024-08-10  1.997  1.198   23.3\n",
       "533 2024-08-11  1.991  1.180   22.9\n",
       "534 2024-08-12  1.985  1.161   22.5\n",
       "\n",
       "[535 rows x 4 columns]"
      ]
     },
     "execution_count": 16,
     "metadata": {},
     "output_type": "execute_result"
    }
   ],
   "source": [
    "# Creación del data frame ephemeris filtrada\n",
    "ephemeris_filtrada_df = ephemeris_df[['date', 'delta','r', 'phase']].copy()\n",
    "ephemeris_filtrada_df = ephemeris_filtrada_df.rename(columns = {'date':'obs_date'})\n",
    "ephemeris_filtrada_df"
   ]
  },
  {
   "cell_type": "markdown",
   "metadata": {},
   "source": [
    "# Unión de las bases de datos."
   ]
  },
  {
   "cell_type": "code",
   "execution_count": 17,
   "metadata": {},
   "outputs": [
    {
     "data": {
      "text/html": [
       "<div>\n",
       "<style scoped>\n",
       "    .dataframe tbody tr th:only-of-type {\n",
       "        vertical-align: middle;\n",
       "    }\n",
       "\n",
       "    .dataframe tbody tr th {\n",
       "        vertical-align: top;\n",
       "    }\n",
       "\n",
       "    .dataframe thead th {\n",
       "        text-align: right;\n",
       "    }\n",
       "</style>\n",
       "<table border=\"1\" class=\"dataframe\">\n",
       "  <thead>\n",
       "    <tr style=\"text-align: right;\">\n",
       "      <th></th>\n",
       "      <th>obs_method_key</th>\n",
       "      <th>obs_date</th>\n",
       "      <th>magnitude</th>\n",
       "      <th>delta</th>\n",
       "      <th>r</th>\n",
       "      <th>phase</th>\n",
       "    </tr>\n",
       "  </thead>\n",
       "  <tbody>\n",
       "    <tr>\n",
       "      <th>0</th>\n",
       "      <td>Z</td>\n",
       "      <td>2024-08-12</td>\n",
       "      <td>8.2</td>\n",
       "      <td>1.985</td>\n",
       "      <td>1.161</td>\n",
       "      <td>22.5</td>\n",
       "    </tr>\n",
       "    <tr>\n",
       "      <th>1</th>\n",
       "      <td>M</td>\n",
       "      <td>2024-08-11</td>\n",
       "      <td>8.9</td>\n",
       "      <td>1.991</td>\n",
       "      <td>1.180</td>\n",
       "      <td>22.9</td>\n",
       "    </tr>\n",
       "    <tr>\n",
       "      <th>2</th>\n",
       "      <td>Z</td>\n",
       "      <td>2024-08-11</td>\n",
       "      <td>8.4</td>\n",
       "      <td>1.991</td>\n",
       "      <td>1.180</td>\n",
       "      <td>22.9</td>\n",
       "    </tr>\n",
       "    <tr>\n",
       "      <th>3</th>\n",
       "      <td>S</td>\n",
       "      <td>2024-08-10</td>\n",
       "      <td>9.0</td>\n",
       "      <td>1.997</td>\n",
       "      <td>1.198</td>\n",
       "      <td>23.3</td>\n",
       "    </tr>\n",
       "    <tr>\n",
       "      <th>4</th>\n",
       "      <td>M</td>\n",
       "      <td>2024-08-10</td>\n",
       "      <td>8.6</td>\n",
       "      <td>1.997</td>\n",
       "      <td>1.198</td>\n",
       "      <td>23.3</td>\n",
       "    </tr>\n",
       "    <tr>\n",
       "      <th>...</th>\n",
       "      <td>...</td>\n",
       "      <td>...</td>\n",
       "      <td>...</td>\n",
       "      <td>...</td>\n",
       "      <td>...</td>\n",
       "      <td>...</td>\n",
       "    </tr>\n",
       "    <tr>\n",
       "      <th>1150</th>\n",
       "      <td>C</td>\n",
       "      <td>2023-02-27</td>\n",
       "      <td>18.0</td>\n",
       "      <td>6.896</td>\n",
       "      <td>7.272</td>\n",
       "      <td>7.4</td>\n",
       "    </tr>\n",
       "    <tr>\n",
       "      <th>1151</th>\n",
       "      <td>C</td>\n",
       "      <td>2023-02-26</td>\n",
       "      <td>18.1</td>\n",
       "      <td>6.921</td>\n",
       "      <td>7.281</td>\n",
       "      <td>7.4</td>\n",
       "    </tr>\n",
       "    <tr>\n",
       "      <th>1152</th>\n",
       "      <td>C</td>\n",
       "      <td>2023-02-25</td>\n",
       "      <td>18.2</td>\n",
       "      <td>6.946</td>\n",
       "      <td>7.290</td>\n",
       "      <td>7.5</td>\n",
       "    </tr>\n",
       "    <tr>\n",
       "      <th>1153</th>\n",
       "      <td>C</td>\n",
       "      <td>2023-02-25</td>\n",
       "      <td>17.9</td>\n",
       "      <td>6.946</td>\n",
       "      <td>7.290</td>\n",
       "      <td>7.5</td>\n",
       "    </tr>\n",
       "    <tr>\n",
       "      <th>1154</th>\n",
       "      <td>C</td>\n",
       "      <td>2023-02-25</td>\n",
       "      <td>18.3</td>\n",
       "      <td>6.946</td>\n",
       "      <td>7.290</td>\n",
       "      <td>7.5</td>\n",
       "    </tr>\n",
       "  </tbody>\n",
       "</table>\n",
       "<p>1155 rows × 6 columns</p>\n",
       "</div>"
      ],
      "text/plain": [
       "     obs_method_key   obs_date  magnitude  delta      r  phase\n",
       "0                 Z 2024-08-12        8.2  1.985  1.161   22.5\n",
       "1                 M 2024-08-11        8.9  1.991  1.180   22.9\n",
       "2                 Z 2024-08-11        8.4  1.991  1.180   22.9\n",
       "3                 S 2024-08-10        9.0  1.997  1.198   23.3\n",
       "4                 M 2024-08-10        8.6  1.997  1.198   23.3\n",
       "...             ...        ...        ...    ...    ...    ...\n",
       "1150              C 2023-02-27       18.0  6.896  7.272    7.4\n",
       "1151              C 2023-02-26       18.1  6.921  7.281    7.4\n",
       "1152              C 2023-02-25       18.2  6.946  7.290    7.5\n",
       "1153              C 2023-02-25       17.9  6.946  7.290    7.5\n",
       "1154              C 2023-02-25       18.3  6.946  7.290    7.5\n",
       "\n",
       "[1155 rows x 6 columns]"
      ]
     },
     "execution_count": 17,
     "metadata": {},
     "output_type": "execute_result"
    }
   ],
   "source": [
    "# Unión de las bases de datos COBS y MPC\n",
    "curva_de_luz_procesada_df = curva_de_luz_cruda_df.merge(ephemeris_filtrada_df, on='obs_date')\n",
    "curva_de_luz_procesada_df"
   ]
  },
  {
   "cell_type": "code",
   "execution_count": 18,
   "metadata": {},
   "outputs": [
    {
     "name": "stdout",
     "output_type": "stream",
     "text": [
      "<class 'pandas.core.frame.DataFrame'>\n",
      "RangeIndex: 1155 entries, 0 to 1154\n",
      "Data columns (total 6 columns):\n",
      " #   Column          Non-Null Count  Dtype         \n",
      "---  ------          --------------  -----         \n",
      " 0   obs_method_key  1155 non-null   object        \n",
      " 1   obs_date        1155 non-null   datetime64[ns]\n",
      " 2   magnitude       1155 non-null   float64       \n",
      " 3   delta           1155 non-null   float64       \n",
      " 4   r               1155 non-null   float64       \n",
      " 5   phase           1155 non-null   float64       \n",
      "dtypes: datetime64[ns](1), float64(4), object(1)\n",
      "memory usage: 54.3+ KB\n"
     ]
    }
   ],
   "source": [
    "# Información del data frame curva de lus procesada\n",
    "curva_de_luz_procesada_df.info()"
   ]
  },
  {
   "cell_type": "code",
   "execution_count": 19,
   "metadata": {},
   "outputs": [
    {
     "data": {
      "text/html": [
       "<div>\n",
       "<style scoped>\n",
       "    .dataframe tbody tr th:only-of-type {\n",
       "        vertical-align: middle;\n",
       "    }\n",
       "\n",
       "    .dataframe tbody tr th {\n",
       "        vertical-align: top;\n",
       "    }\n",
       "\n",
       "    .dataframe thead th {\n",
       "        text-align: right;\n",
       "    }\n",
       "</style>\n",
       "<table border=\"1\" class=\"dataframe\">\n",
       "  <thead>\n",
       "    <tr style=\"text-align: right;\">\n",
       "      <th></th>\n",
       "      <th>obs_method_key</th>\n",
       "      <th>obs_date</th>\n",
       "      <th>magnitude</th>\n",
       "      <th>delta</th>\n",
       "      <th>r</th>\n",
       "      <th>phase</th>\n",
       "      <th>magnitud_reducida</th>\n",
       "    </tr>\n",
       "  </thead>\n",
       "  <tbody>\n",
       "    <tr>\n",
       "      <th>0</th>\n",
       "      <td>Z</td>\n",
       "      <td>2024-08-12</td>\n",
       "      <td>8.2</td>\n",
       "      <td>1.985</td>\n",
       "      <td>1.161</td>\n",
       "      <td>22.5</td>\n",
       "      <td>6.387036</td>\n",
       "    </tr>\n",
       "    <tr>\n",
       "      <th>1</th>\n",
       "      <td>M</td>\n",
       "      <td>2024-08-11</td>\n",
       "      <td>8.9</td>\n",
       "      <td>1.991</td>\n",
       "      <td>1.180</td>\n",
       "      <td>22.9</td>\n",
       "      <td>7.045234</td>\n",
       "    </tr>\n",
       "    <tr>\n",
       "      <th>2</th>\n",
       "      <td>Z</td>\n",
       "      <td>2024-08-11</td>\n",
       "      <td>8.4</td>\n",
       "      <td>1.991</td>\n",
       "      <td>1.180</td>\n",
       "      <td>22.9</td>\n",
       "      <td>6.545234</td>\n",
       "    </tr>\n",
       "    <tr>\n",
       "      <th>3</th>\n",
       "      <td>S</td>\n",
       "      <td>2024-08-10</td>\n",
       "      <td>9.0</td>\n",
       "      <td>1.997</td>\n",
       "      <td>1.198</td>\n",
       "      <td>23.3</td>\n",
       "      <td>7.105826</td>\n",
       "    </tr>\n",
       "    <tr>\n",
       "      <th>4</th>\n",
       "      <td>M</td>\n",
       "      <td>2024-08-10</td>\n",
       "      <td>8.6</td>\n",
       "      <td>1.997</td>\n",
       "      <td>1.198</td>\n",
       "      <td>23.3</td>\n",
       "      <td>6.705826</td>\n",
       "    </tr>\n",
       "    <tr>\n",
       "      <th>...</th>\n",
       "      <td>...</td>\n",
       "      <td>...</td>\n",
       "      <td>...</td>\n",
       "      <td>...</td>\n",
       "      <td>...</td>\n",
       "      <td>...</td>\n",
       "      <td>...</td>\n",
       "    </tr>\n",
       "    <tr>\n",
       "      <th>1150</th>\n",
       "      <td>C</td>\n",
       "      <td>2023-02-27</td>\n",
       "      <td>18.0</td>\n",
       "      <td>6.896</td>\n",
       "      <td>7.272</td>\n",
       "      <td>7.4</td>\n",
       "      <td>9.498744</td>\n",
       "    </tr>\n",
       "    <tr>\n",
       "      <th>1151</th>\n",
       "      <td>C</td>\n",
       "      <td>2023-02-26</td>\n",
       "      <td>18.1</td>\n",
       "      <td>6.921</td>\n",
       "      <td>7.281</td>\n",
       "      <td>7.4</td>\n",
       "      <td>9.588201</td>\n",
       "    </tr>\n",
       "    <tr>\n",
       "      <th>1152</th>\n",
       "      <td>C</td>\n",
       "      <td>2023-02-25</td>\n",
       "      <td>18.2</td>\n",
       "      <td>6.946</td>\n",
       "      <td>7.290</td>\n",
       "      <td>7.5</td>\n",
       "      <td>9.677688</td>\n",
       "    </tr>\n",
       "    <tr>\n",
       "      <th>1153</th>\n",
       "      <td>C</td>\n",
       "      <td>2023-02-25</td>\n",
       "      <td>17.9</td>\n",
       "      <td>6.946</td>\n",
       "      <td>7.290</td>\n",
       "      <td>7.5</td>\n",
       "      <td>9.377688</td>\n",
       "    </tr>\n",
       "    <tr>\n",
       "      <th>1154</th>\n",
       "      <td>C</td>\n",
       "      <td>2023-02-25</td>\n",
       "      <td>18.3</td>\n",
       "      <td>6.946</td>\n",
       "      <td>7.290</td>\n",
       "      <td>7.5</td>\n",
       "      <td>9.777688</td>\n",
       "    </tr>\n",
       "  </tbody>\n",
       "</table>\n",
       "<p>1155 rows × 7 columns</p>\n",
       "</div>"
      ],
      "text/plain": [
       "     obs_method_key   obs_date  magnitude  delta      r  phase  \\\n",
       "0                 Z 2024-08-12        8.2  1.985  1.161   22.5   \n",
       "1                 M 2024-08-11        8.9  1.991  1.180   22.9   \n",
       "2                 Z 2024-08-11        8.4  1.991  1.180   22.9   \n",
       "3                 S 2024-08-10        9.0  1.997  1.198   23.3   \n",
       "4                 M 2024-08-10        8.6  1.997  1.198   23.3   \n",
       "...             ...        ...        ...    ...    ...    ...   \n",
       "1150              C 2023-02-27       18.0  6.896  7.272    7.4   \n",
       "1151              C 2023-02-26       18.1  6.921  7.281    7.4   \n",
       "1152              C 2023-02-25       18.2  6.946  7.290    7.5   \n",
       "1153              C 2023-02-25       17.9  6.946  7.290    7.5   \n",
       "1154              C 2023-02-25       18.3  6.946  7.290    7.5   \n",
       "\n",
       "      magnitud_reducida  \n",
       "0              6.387036  \n",
       "1              7.045234  \n",
       "2              6.545234  \n",
       "3              7.105826  \n",
       "4              6.705826  \n",
       "...                 ...  \n",
       "1150           9.498744  \n",
       "1151           9.588201  \n",
       "1152           9.677688  \n",
       "1153           9.377688  \n",
       "1154           9.777688  \n",
       "\n",
       "[1155 rows x 7 columns]"
      ]
     },
     "execution_count": 19,
     "metadata": {},
     "output_type": "execute_result"
    }
   ],
   "source": [
    "# Reducción de la magnitud aparente\n",
    "beta = 0\n",
    "\n",
    "curva_de_luz_procesada_df['magnitud_reducida'] = (\n",
    "    curva_de_luz_cruda_df['magnitude'] \n",
    "    - 5 * np.log10(curva_de_luz_procesada_df['delta'] * curva_de_luz_procesada_df['r'])\n",
    "    - (beta * curva_de_luz_procesada_df['phase'])\n",
    "    )\n",
    "curva_de_luz_procesada_df"
   ]
  },
  {
   "cell_type": "code",
   "execution_count": 20,
   "metadata": {},
   "outputs": [
    {
     "data": {
      "application/vnd.plotly.v1+json": {
       "config": {
        "plotlyServerURL": "https://plot.ly"
       },
       "data": [
        {
         "hovertemplate": "Observation Method=Z<br>Observation Date=%{x}<br>Apparent total magnitude processed=%{y}<extra></extra>",
         "legendgroup": "Z",
         "marker": {
          "color": "#636efa",
          "symbol": "circle"
         },
         "mode": "markers",
         "name": "Z",
         "showlegend": true,
         "type": "scattergl",
         "x": [
          "2024-08-12T00:00:00",
          "2024-08-11T00:00:00",
          "2024-08-10T00:00:00",
          "2024-08-06T00:00:00",
          "2024-08-04T00:00:00",
          "2024-08-03T00:00:00",
          "2024-08-02T00:00:00",
          "2024-08-01T00:00:00",
          "2024-07-31T00:00:00",
          "2024-07-29T00:00:00",
          "2024-07-26T00:00:00",
          "2024-07-23T00:00:00",
          "2024-07-18T00:00:00",
          "2024-07-16T00:00:00",
          "2024-07-08T00:00:00",
          "2024-07-06T00:00:00",
          "2024-07-05T00:00:00",
          "2024-07-04T00:00:00",
          "2024-07-03T00:00:00",
          "2024-07-02T00:00:00",
          "2024-07-02T00:00:00",
          "2024-07-01T00:00:00",
          "2024-06-30T00:00:00",
          "2024-06-29T00:00:00",
          "2024-06-26T00:00:00",
          "2024-06-25T00:00:00",
          "2024-06-24T00:00:00",
          "2024-06-24T00:00:00",
          "2024-06-23T00:00:00",
          "2024-06-23T00:00:00",
          "2024-06-21T00:00:00",
          "2024-06-21T00:00:00",
          "2024-06-20T00:00:00",
          "2024-06-20T00:00:00",
          "2024-06-20T00:00:00",
          "2024-06-18T00:00:00",
          "2024-06-17T00:00:00",
          "2024-06-16T00:00:00",
          "2024-06-15T00:00:00",
          "2024-06-15T00:00:00",
          "2024-06-13T00:00:00",
          "2024-06-12T00:00:00",
          "2024-06-11T00:00:00",
          "2024-06-11T00:00:00",
          "2024-06-10T00:00:00",
          "2024-06-09T00:00:00",
          "2024-06-09T00:00:00",
          "2024-06-07T00:00:00",
          "2024-06-07T00:00:00",
          "2024-06-07T00:00:00",
          "2024-06-06T00:00:00",
          "2024-06-06T00:00:00",
          "2024-06-06T00:00:00",
          "2024-06-06T00:00:00",
          "2024-06-05T00:00:00",
          "2024-06-05T00:00:00",
          "2024-06-04T00:00:00",
          "2024-06-04T00:00:00",
          "2024-06-04T00:00:00",
          "2024-06-03T00:00:00",
          "2024-06-03T00:00:00",
          "2024-06-02T00:00:00",
          "2024-06-02T00:00:00",
          "2024-06-01T00:00:00",
          "2024-06-01T00:00:00",
          "2024-06-01T00:00:00",
          "2024-05-31T00:00:00",
          "2024-05-31T00:00:00",
          "2024-05-31T00:00:00",
          "2024-05-30T00:00:00",
          "2024-05-30T00:00:00",
          "2024-05-30T00:00:00",
          "2024-05-30T00:00:00",
          "2024-05-29T00:00:00",
          "2024-05-29T00:00:00",
          "2024-05-29T00:00:00",
          "2024-05-28T00:00:00",
          "2024-05-28T00:00:00",
          "2024-05-28T00:00:00",
          "2024-05-28T00:00:00",
          "2024-05-27T00:00:00",
          "2024-05-27T00:00:00",
          "2024-05-27T00:00:00",
          "2024-05-26T00:00:00",
          "2024-05-25T00:00:00",
          "2024-05-25T00:00:00",
          "2024-05-25T00:00:00",
          "2024-05-24T00:00:00",
          "2024-05-24T00:00:00",
          "2024-05-24T00:00:00",
          "2024-05-23T00:00:00",
          "2024-05-22T00:00:00",
          "2024-05-20T00:00:00",
          "2024-05-17T00:00:00",
          "2024-05-14T00:00:00",
          "2024-05-14T00:00:00",
          "2024-05-13T00:00:00",
          "2024-05-13T00:00:00",
          "2024-05-12T00:00:00",
          "2024-05-12T00:00:00",
          "2024-05-11T00:00:00",
          "2024-05-11T00:00:00",
          "2024-05-11T00:00:00",
          "2024-05-10T00:00:00",
          "2024-05-10T00:00:00",
          "2024-05-10T00:00:00",
          "2024-05-10T00:00:00",
          "2024-05-09T00:00:00",
          "2024-05-09T00:00:00",
          "2024-05-08T00:00:00",
          "2024-05-08T00:00:00",
          "2024-05-08T00:00:00",
          "2024-05-08T00:00:00",
          "2024-05-07T00:00:00",
          "2024-05-07T00:00:00",
          "2024-05-07T00:00:00",
          "2024-05-06T00:00:00",
          "2024-05-06T00:00:00",
          "2024-05-06T00:00:00",
          "2024-05-04T00:00:00",
          "2024-05-03T00:00:00",
          "2024-05-03T00:00:00",
          "2024-05-02T00:00:00",
          "2024-05-01T00:00:00",
          "2024-05-01T00:00:00",
          "2024-05-01T00:00:00",
          "2024-05-01T00:00:00",
          "2024-04-30T00:00:00",
          "2024-04-30T00:00:00",
          "2024-04-30T00:00:00",
          "2024-04-30T00:00:00",
          "2024-04-29T00:00:00",
          "2024-04-29T00:00:00",
          "2024-04-29T00:00:00",
          "2024-04-29T00:00:00",
          "2024-04-28T00:00:00",
          "2024-04-28T00:00:00",
          "2024-04-28T00:00:00",
          "2024-04-28T00:00:00",
          "2024-04-28T00:00:00",
          "2024-04-27T00:00:00",
          "2024-04-27T00:00:00",
          "2024-04-26T00:00:00",
          "2024-04-24T00:00:00",
          "2024-04-23T00:00:00",
          "2024-04-22T00:00:00",
          "2024-04-21T00:00:00",
          "2024-04-20T00:00:00",
          "2024-04-19T00:00:00",
          "2024-04-18T00:00:00",
          "2024-04-16T00:00:00",
          "2024-04-16T00:00:00",
          "2024-04-15T00:00:00",
          "2024-04-15T00:00:00",
          "2024-04-14T00:00:00",
          "2024-04-13T00:00:00",
          "2024-04-13T00:00:00",
          "2024-04-12T00:00:00",
          "2024-04-12T00:00:00",
          "2024-04-12T00:00:00",
          "2024-04-12T00:00:00",
          "2024-04-11T00:00:00",
          "2024-04-10T00:00:00",
          "2024-04-10T00:00:00",
          "2024-04-10T00:00:00",
          "2024-04-10T00:00:00",
          "2024-04-09T00:00:00",
          "2024-04-09T00:00:00",
          "2024-04-09T00:00:00",
          "2024-04-07T00:00:00",
          "2024-04-04T00:00:00",
          "2024-04-03T00:00:00",
          "2024-04-02T00:00:00",
          "2024-03-31T00:00:00",
          "2024-03-31T00:00:00",
          "2024-03-29T00:00:00",
          "2024-03-21T00:00:00",
          "2024-03-18T00:00:00",
          "2024-03-17T00:00:00",
          "2024-03-16T00:00:00",
          "2024-03-15T00:00:00",
          "2024-03-15T00:00:00",
          "2024-03-13T00:00:00",
          "2024-03-11T00:00:00",
          "2024-03-06T00:00:00",
          "2024-03-06T00:00:00",
          "2024-03-06T00:00:00",
          "2024-03-04T00:00:00",
          "2024-03-04T00:00:00",
          "2024-03-03T00:00:00",
          "2024-02-29T00:00:00",
          "2024-02-25T00:00:00",
          "2024-02-21T00:00:00",
          "2024-02-19T00:00:00",
          "2024-02-18T00:00:00",
          "2024-02-16T00:00:00",
          "2024-02-16T00:00:00",
          "2024-02-14T00:00:00",
          "2024-02-14T00:00:00",
          "2024-02-13T00:00:00",
          "2024-02-13T00:00:00",
          "2024-02-09T00:00:00",
          "2024-02-08T00:00:00",
          "2024-02-05T00:00:00",
          "2024-01-28T00:00:00",
          "2024-01-28T00:00:00",
          "2024-01-22T00:00:00",
          "2024-01-22T00:00:00",
          "2024-01-21T00:00:00",
          "2024-01-21T00:00:00",
          "2024-01-20T00:00:00",
          "2024-01-17T00:00:00",
          "2024-01-13T00:00:00",
          "2024-01-10T00:00:00",
          "2024-01-09T00:00:00",
          "2023-12-31T00:00:00",
          "2023-12-22T00:00:00",
          "2023-12-19T00:00:00",
          "2023-12-15T00:00:00",
          "2023-09-10T00:00:00",
          "2023-09-03T00:00:00",
          "2023-08-18T00:00:00",
          "2023-08-18T00:00:00",
          "2023-08-16T00:00:00",
          "2023-08-08T00:00:00",
          "2023-08-07T00:00:00",
          "2023-08-06T00:00:00",
          "2023-08-02T00:00:00",
          "2023-07-20T00:00:00",
          "2023-07-18T00:00:00",
          "2023-07-17T00:00:00",
          "2023-07-15T00:00:00",
          "2023-07-13T00:00:00",
          "2023-07-08T00:00:00",
          "2023-07-07T00:00:00",
          "2023-07-06T00:00:00",
          "2023-06-25T00:00:00",
          "2023-06-22T00:00:00",
          "2023-06-19T00:00:00",
          "2023-06-18T00:00:00",
          "2023-06-16T00:00:00",
          "2023-06-15T00:00:00",
          "2023-06-13T00:00:00",
          "2023-06-12T00:00:00",
          "2023-06-11T00:00:00",
          "2023-06-10T00:00:00",
          "2023-06-10T00:00:00",
          "2023-06-09T00:00:00",
          "2023-06-08T00:00:00",
          "2023-06-08T00:00:00",
          "2023-06-08T00:00:00",
          "2023-06-07T00:00:00",
          "2023-06-04T00:00:00",
          "2023-05-28T00:00:00",
          "2023-05-27T00:00:00",
          "2023-05-26T00:00:00",
          "2023-05-24T00:00:00",
          "2023-05-24T00:00:00",
          "2023-05-24T00:00:00",
          "2023-05-22T00:00:00",
          "2023-05-21T00:00:00",
          "2023-05-18T00:00:00",
          "2023-05-17T00:00:00",
          "2023-05-15T00:00:00",
          "2023-05-13T00:00:00",
          "2023-05-11T00:00:00",
          "2023-05-01T00:00:00",
          "2023-04-30T00:00:00",
          "2023-04-30T00:00:00",
          "2023-04-29T00:00:00",
          "2023-04-25T00:00:00",
          "2023-04-25T00:00:00",
          "2023-04-24T00:00:00",
          "2023-04-23T00:00:00",
          "2023-04-23T00:00:00",
          "2023-04-22T00:00:00",
          "2023-04-22T00:00:00",
          "2023-04-20T00:00:00",
          "2023-04-16T00:00:00",
          "2023-04-13T00:00:00",
          "2023-04-11T00:00:00",
          "2023-04-09T00:00:00",
          "2023-03-29T00:00:00",
          "2023-03-28T00:00:00",
          "2023-03-24T00:00:00",
          "2023-03-21T00:00:00",
          "2023-03-19T00:00:00",
          "2023-03-16T00:00:00",
          "2023-03-15T00:00:00",
          "2023-03-15T00:00:00",
          "2023-03-02T00:00:00",
          "2023-03-01T00:00:00"
         ],
         "xaxis": "x",
         "y": [
          6.3870363458114605,
          6.545233663332326,
          6.505825585380024,
          6.556375585715757,
          6.587086910183416,
          7.054149839314864,
          6.621618902775726,
          7.291080648531334,
          6.560375153714562,
          6.602675679291582,
          7.420952783225897,
          6.6465950026461424,
          6.7358025362680065,
          6.695450558257251,
          6.856935211239989,
          7.7276656535868105,
          7.613852733158981,
          7.89912970746186,
          7.685677165665664,
          7.773500577652372,
          6.873500577652371,
          7.760402708387556,
          8.048624788294218,
          7.036966177987592,
          7.703013200087316,
          7.79202076559648,
          7.682286075607356,
          7.482286075607357,
          7.271610887596345,
          7.0716108875963455,
          7.754010943275559,
          8.45401094327556,
          8.043796305175933,
          7.243796305175932,
          7.143796305175933,
          7.125917643988231,
          7.218332098199159,
          6.808702989545561,
          8.200243668851318,
          7.300243668851318,
          7.584881467655944,
          8.076813751254036,
          7.168872679439234,
          7.168872679439234,
          7.661056975974588,
          7.154346851586233,
          7.254346851586234,
          7.339318092713828,
          7.139318092713827,
          7.939318092713828,
          7.230792475636591,
          7.130792475636589,
          7.730792475636591,
          7.130792475636589,
          7.224531182040668,
          7.124531182040666,
          7.716225995357764,
          7.016225995357763,
          7.1162259953577625,
          7.8080308754484,
          7.1080308754483985,
          7.600882497713609,
          7.200882497713611,
          8.092898130298215,
          7.8928981302982155,
          7.092898130298215,
          7.68594680837027,
          7.785946808370269,
          7.18594680837027,
          6.676953022809386,
          6.676953022809386,
          7.576953022809384,
          7.176953022809386,
          7.568972810409024,
          6.768972810409025,
          7.168972810409025,
          7.7601696045423685,
          7.2601696045423685,
          7.2601696045423685,
          7.360169604542368,
          7.652366907187027,
          7.652366907187027,
          7.4523669071870255,
          7.343422544304155,
          7.7336639023980505,
          7.93366390239805,
          7.43366390239805,
          7.624882134082599,
          7.524882134082597,
          7.424882134082598,
          7.316177835926268,
          7.4054381844637405,
          8.28470466573652,
          7.452266519968009,
          7.11547179326891,
          7.21547179326891,
          7.201274452669435,
          7.201274452669435,
          7.188377730088607,
          7.088377730088608,
          7.6743098564905345,
          7.1743098564905345,
          7.1743098564905345,
          7.759074372110848,
          7.259074372110848,
          7.159074372110848,
          7.159074372110848,
          7.144723876704812,
          7.4447238767048125,
          7.129617966513846,
          7.129617966513846,
          7.129617966513846,
          7.429617966513847,
          7.013352958635717,
          7.413352958635717,
          7.213352958635716,
          7.3959364845645705,
          7.3959364845645705,
          7.09593648456457,
          7.062126911496768,
          7.043720587469777,
          7.543720587469777,
          7.026184522535052,
          7.3067335589917555,
          7.106733558991754,
          7.106733558991754,
          7.006733558991755,
          7.088152379371634,
          7.288152379371635,
          7.188152379371633,
          7.088152379371634,
          6.867681067059486,
          7.067681067059485,
          7.367681067059486,
          7.367681067059486,
          7.14808022338695,
          6.848080223386951,
          7.04808022338695,
          7.14808022338695,
          7.14808022338695,
          7.026615974451601,
          7.1266159744516,
          7.104849199115477,
          7.360882716315896,
          7.238288575830287,
          7.015060721987424,
          6.3915649817899105,
          7.0670656230823745,
          6.94270950968958,
          6.917755941777006,
          6.767545380690628,
          6.667545380690628,
          6.941573977423545,
          7.141573977423544,
          7.114682491662352,
          6.889047719471908,
          7.089047719471908,
          6.960716929611952,
          6.960716929611952,
          6.760716929611951,
          7.060716929611952,
          6.934360526155913,
          7.006074376370883,
          7.206074376370882,
          6.506074376370883,
          6.906074376370883,
          6.679034233232121,
          7.079034233232122,
          6.779034233232123,
          7.22242903378465,
          7.138241779574557,
          7.308378892533192,
          7.1797297742738575,
          6.92114682777114,
          7.221146827771141,
          7.362253054320585,
          7.42556166292803,
          7.336935706531488,
          7.506600978822995,
          7.577992841283335,
          7.54814529850623,
          7.54814529850623,
          7.389005975472312,
          7.731457520757079,
          7.587633998671377,
          7.487633998671377,
          7.387633998671378,
          7.630370730137897,
          7.630370730137897,
          7.702385796113565,
          7.519014896378757,
          7.709056159698976,
          7.6022921952120335,
          7.450079023669569,
          7.52360983228462,
          7.3725178831111124,
          8.372517883111112,
          7.421514854201699,
          7.5215148542016985,
          7.895972534074211,
          7.695972534074212,
          7.697937026952839,
          7.97325070633615,
          7.801903893786759,
          7.718743142674039,
          7.81874314267404,
          7.388289557934352,
          7.888289557934352,
          7.7677778326793465,
          7.467777832679346,
          7.746326012944569,
          8.185277107719845,
          7.90553681521816,
          7.64816448276436,
          7.829405039851276,
          7.966286247386897,
          7.616358935255571,
          7.669672883600112,
          7.809247915543674,
          8.58474649732776,
          8.562701080398085,
          8.825322522637423,
          8.625322522637424,
          8.821644139516442,
          8.709836548760181,
          8.708259583302688,
          8.507055305629482,
          9.102339151549796,
          8.890210495386773,
          8.888505239378471,
          8.987484210120021,
          8.98583117831157,
          8.584587161815236,
          8.180136685956136,
          8.979561629913846,
          9.078260312066714,
          8.866618194097388,
          8.362571567345427,
          8.958199849582822,
          9.056267814531829,
          9.05311481977086,
          8.45120150805716,
          8.94696712486939,
          8.94503003281811,
          8.64309796156843,
          9.040828314675432,
          8.740828314675431,
          9.038520249111448,
          9.036261886497485,
          9.136261886497483,
          9.036261886497485,
          9.03396370918869,
          9.425982949645828,
          9.304410209976997,
          9.100999938016749,
          9.197258756756082,
          9.090073624681054,
          8.490073624681056,
          9.590073624681054,
          9.081799461343142,
          9.178029493483717,
          9.164871523514263,
          9.66034926783923,
          9.05093550651867,
          9.140830337421882,
          8.230311475859931,
          9.371718789527325,
          9.164705615597644,
          9.164705615597644,
          9.058026591864017,
          8.730666044044796,
          8.730666044044796,
          9.323293263560606,
          9.116306187664204,
          7.916306187664202,
          9.308586893035496,
          9.208586893035495,
          9.293562182359604,
          8.06189103779069,
          9.137260199155373,
          9.320320197413741,
          9.3030927188362,
          9.30265033016928,
          9.49289494852166,
          9.354130517548699,
          10.124302637475388,
          9.104214837074194,
          9.474094376263592,
          9.46400921278279,
          9.46400921278279,
          9.729949776150518,
          9.41931127679463
         ],
         "yaxis": "y"
        },
        {
         "hovertemplate": "Observation Method=M<br>Observation Date=%{x}<br>Apparent total magnitude processed=%{y}<extra></extra>",
         "legendgroup": "M",
         "marker": {
          "color": "#EF553B",
          "symbol": "circle"
         },
         "mode": "markers",
         "name": "M",
         "showlegend": true,
         "type": "scattergl",
         "x": [
          "2024-08-11T00:00:00",
          "2024-08-10T00:00:00",
          "2024-08-07T00:00:00",
          "2024-08-06T00:00:00",
          "2024-08-06T00:00:00",
          "2024-08-03T00:00:00",
          "2024-08-01T00:00:00",
          "2024-08-01T00:00:00",
          "2024-08-01T00:00:00",
          "2024-07-31T00:00:00",
          "2024-07-31T00:00:00",
          "2024-07-30T00:00:00",
          "2024-07-25T00:00:00",
          "2024-07-23T00:00:00",
          "2024-07-23T00:00:00",
          "2024-07-22T00:00:00",
          "2024-07-22T00:00:00",
          "2024-07-21T00:00:00",
          "2024-07-10T00:00:00",
          "2024-07-09T00:00:00",
          "2024-07-06T00:00:00",
          "2024-07-02T00:00:00",
          "2024-07-01T00:00:00",
          "2024-07-01T00:00:00",
          "2024-06-28T00:00:00",
          "2024-06-27T00:00:00",
          "2024-06-26T00:00:00",
          "2024-06-26T00:00:00",
          "2024-06-24T00:00:00",
          "2024-06-23T00:00:00",
          "2024-06-21T00:00:00",
          "2024-06-20T00:00:00",
          "2024-06-19T00:00:00",
          "2024-06-11T00:00:00",
          "2024-06-10T00:00:00",
          "2024-06-09T00:00:00",
          "2024-06-08T00:00:00",
          "2024-06-06T00:00:00",
          "2024-06-05T00:00:00",
          "2024-06-04T00:00:00",
          "2024-06-04T00:00:00",
          "2024-06-03T00:00:00",
          "2024-06-03T00:00:00",
          "2024-06-02T00:00:00",
          "2024-06-01T00:00:00",
          "2024-06-01T00:00:00",
          "2024-05-31T00:00:00",
          "2024-05-31T00:00:00",
          "2024-05-31T00:00:00",
          "2024-05-30T00:00:00",
          "2024-05-30T00:00:00",
          "2024-05-30T00:00:00",
          "2024-05-29T00:00:00",
          "2024-05-29T00:00:00",
          "2024-05-29T00:00:00",
          "2024-05-29T00:00:00",
          "2024-05-28T00:00:00",
          "2024-05-26T00:00:00",
          "2024-05-26T00:00:00",
          "2024-05-24T00:00:00",
          "2024-05-15T00:00:00",
          "2024-05-15T00:00:00",
          "2024-05-14T00:00:00",
          "2024-05-14T00:00:00",
          "2024-05-14T00:00:00",
          "2024-05-13T00:00:00",
          "2024-05-13T00:00:00",
          "2024-05-13T00:00:00",
          "2024-05-13T00:00:00",
          "2024-05-12T00:00:00",
          "2024-05-12T00:00:00",
          "2024-05-12T00:00:00",
          "2024-05-12T00:00:00",
          "2024-05-12T00:00:00",
          "2024-05-12T00:00:00",
          "2024-05-12T00:00:00",
          "2024-05-12T00:00:00",
          "2024-05-11T00:00:00",
          "2024-05-11T00:00:00",
          "2024-05-10T00:00:00",
          "2024-05-10T00:00:00",
          "2024-05-10T00:00:00",
          "2024-05-10T00:00:00",
          "2024-05-09T00:00:00",
          "2024-05-09T00:00:00",
          "2024-05-09T00:00:00",
          "2024-05-08T00:00:00",
          "2024-05-08T00:00:00",
          "2024-05-08T00:00:00",
          "2024-05-08T00:00:00",
          "2024-05-07T00:00:00",
          "2024-05-07T00:00:00",
          "2024-05-06T00:00:00",
          "2024-05-06T00:00:00",
          "2024-05-05T00:00:00",
          "2024-05-05T00:00:00",
          "2024-05-05T00:00:00",
          "2024-05-05T00:00:00",
          "2024-05-05T00:00:00",
          "2024-05-04T00:00:00",
          "2024-05-04T00:00:00",
          "2024-05-04T00:00:00",
          "2024-05-04T00:00:00",
          "2024-05-04T00:00:00",
          "2024-05-04T00:00:00",
          "2024-05-03T00:00:00",
          "2024-05-03T00:00:00",
          "2024-05-03T00:00:00",
          "2024-05-03T00:00:00",
          "2024-05-02T00:00:00",
          "2024-05-02T00:00:00",
          "2024-05-02T00:00:00",
          "2024-05-02T00:00:00",
          "2024-05-01T00:00:00",
          "2024-05-01T00:00:00",
          "2024-05-01T00:00:00",
          "2024-04-30T00:00:00",
          "2024-04-30T00:00:00",
          "2024-04-30T00:00:00",
          "2024-04-30T00:00:00",
          "2024-04-30T00:00:00",
          "2024-04-30T00:00:00",
          "2024-04-30T00:00:00",
          "2024-04-29T00:00:00",
          "2024-04-29T00:00:00",
          "2024-04-29T00:00:00",
          "2024-04-29T00:00:00",
          "2024-04-29T00:00:00",
          "2024-04-28T00:00:00",
          "2024-04-28T00:00:00",
          "2024-04-28T00:00:00",
          "2024-04-28T00:00:00",
          "2024-04-27T00:00:00",
          "2024-04-27T00:00:00",
          "2024-04-27T00:00:00",
          "2024-04-27T00:00:00",
          "2024-04-26T00:00:00",
          "2024-04-26T00:00:00",
          "2024-04-26T00:00:00",
          "2024-04-26T00:00:00",
          "2024-04-26T00:00:00",
          "2024-04-25T00:00:00",
          "2024-04-20T00:00:00",
          "2024-04-19T00:00:00",
          "2024-04-18T00:00:00",
          "2024-04-16T00:00:00",
          "2024-04-14T00:00:00",
          "2024-04-14T00:00:00",
          "2024-04-13T00:00:00",
          "2024-04-13T00:00:00",
          "2024-04-13T00:00:00",
          "2024-04-13T00:00:00",
          "2024-04-12T00:00:00",
          "2024-04-12T00:00:00",
          "2024-04-12T00:00:00",
          "2024-04-11T00:00:00",
          "2024-04-10T00:00:00",
          "2024-04-10T00:00:00",
          "2024-04-10T00:00:00",
          "2024-04-10T00:00:00",
          "2024-04-09T00:00:00",
          "2024-04-08T00:00:00",
          "2024-04-08T00:00:00",
          "2024-04-07T00:00:00",
          "2024-04-06T00:00:00",
          "2024-04-05T00:00:00",
          "2024-04-03T00:00:00",
          "2024-03-13T00:00:00",
          "2024-03-12T00:00:00",
          "2024-03-11T00:00:00",
          "2024-03-09T00:00:00",
          "2024-03-05T00:00:00",
          "2024-02-16T00:00:00",
          "2024-01-29T00:00:00",
          "2024-01-24T00:00:00",
          "2024-01-21T00:00:00",
          "2024-01-18T00:00:00",
          "2024-01-07T00:00:00"
         ],
         "xaxis": "x",
         "y": [
          7.045233663332326,
          6.7058255853800235,
          6.692759481184672,
          6.456375585715757,
          6.556375585715757,
          6.654149839314865,
          6.791080648531334,
          6.691080648531335,
          6.691080648531335,
          6.96037515371456,
          6.660375153714561,
          6.431600002299346,
          7.0958828742317195,
          6.8465950026461435,
          7.046595002646143,
          7.423427484762618,
          6.623427484762617,
          7.500527887623617,
          6.8892957861797575,
          6.972393174766832,
          7.2276656535868105,
          7.173500577652372,
          7.260402708387556,
          7.0604027083875565,
          7.02548078189383,
          7.013051759018365,
          6.903013200087317,
          7.103013200087316,
          7.382286075607357,
          7.171610887596345,
          7.654010943275559,
          7.443796305175933,
          7.3347886904983675,
          7.2688726794392355,
          7.161056975974588,
          7.154346851586233,
          7.146771568170651,
          7.230792475636591,
          7.324531182040667,
          7.3162259953577635,
          7.416225995357763,
          7.408030875448399,
          7.508030875448399,
          7.40088249771361,
          7.292898130298216,
          6.792898130298216,
          7.18594680837027,
          7.085946808370268,
          6.985946808370269,
          6.976953022809385,
          7.176953022809386,
          6.976953022809385,
          7.268972810409025,
          7.068972810409024,
          7.068972810409024,
          7.568972810409024,
          7.560169604542367,
          7.143422544304156,
          7.443422544304155,
          7.124882134082599,
          6.927259574729862,
          6.727259574729863,
          6.915471793268909,
          6.71547179326891,
          7.015471793268911,
          6.801274452669435,
          6.701274452669435,
          7.001274452669436,
          6.801274452669435,
          6.888377730088607,
          7.088377730088608,
          6.788377730088607,
          7.188377730088607,
          6.688377730088607,
          7.488377730088608,
          6.788377730088607,
          7.188377730088607,
          6.774309856490534,
          6.774309856490534,
          6.759074372110848,
          7.459074372110849,
          6.859074372110848,
          6.659074372110848,
          6.844723876704811,
          6.744723876704811,
          6.644723876704812,
          6.829617966513846,
          6.929617966513847,
          6.929617966513847,
          7.029617966513847,
          6.813352958635716,
          7.413352958635717,
          6.795936484564569,
          6.6959364845645695,
          6.780615047123691,
          6.5806150471236915,
          6.480615047123692,
          6.480615047123692,
          7.0806150471236915,
          6.862126911496769,
          6.862126911496769,
          6.962126911496768,
          7.162126911496768,
          7.662126911496768,
          6.562126911496768,
          6.843720587469778,
          7.343720587469778,
          6.7437205874697765,
          7.043720587469777,
          6.826184522535053,
          6.626184522535052,
          7.426184522535053,
          6.726184522535052,
          6.8067335589917555,
          6.706733558991754,
          6.906733558991755,
          6.788152379371635,
          6.588152379371634,
          6.588152379371634,
          6.988152379371634,
          6.588152379371634,
          6.688152379371633,
          6.688152379371633,
          6.7676810670594865,
          6.867681067059486,
          6.567681067059485,
          6.7676810670594865,
          7.167681067059485,
          6.7480802233869515,
          6.7480802233869515,
          6.948080223386951,
          6.448080223386951,
          6.926615974451601,
          6.726615974451602,
          6.8266159744516015,
          6.726615974451602,
          7.004849199115477,
          6.604849199115477,
          6.504849199115477,
          6.704849199115478,
          7.4048491991154775,
          6.68242857239918,
          6.667065623082374,
          6.8427095096895805,
          6.917755941777006,
          6.667545380690628,
          6.7146824916623515,
          6.7146824916623515,
          6.789047719471907,
          6.789047719471907,
          6.789047719471907,
          6.689047719471907,
          6.660716929611952,
          6.560716929611952,
          6.860716929611953,
          6.834360526155914,
          6.506074376370883,
          6.8060743763708835,
          7.006074376370883,
          6.8060743763708835,
          6.779034233232123,
          6.751144564152952,
          6.751144564152952,
          7.022429033784649,
          6.693926373199772,
          6.766331737684463,
          7.308378892533192,
          7.589005975472313,
          7.660514283185994,
          7.631457520757079,
          7.273418539361615,
          7.559198551148374,
          6.8725178831111124,
          7.540666674797878,
          7.531276767658857,
          7.7677778326793465,
          7.70533767923335,
          7.291643670235589
         ],
         "yaxis": "y"
        },
        {
         "hovertemplate": "Observation Method=S<br>Observation Date=%{x}<br>Apparent total magnitude processed=%{y}<extra></extra>",
         "legendgroup": "S",
         "marker": {
          "color": "#00cc96",
          "symbol": "circle"
         },
         "mode": "markers",
         "name": "S",
         "showlegend": true,
         "type": "scattergl",
         "x": [
          "2024-08-10T00:00:00",
          "2024-08-05T00:00:00",
          "2024-07-31T00:00:00",
          "2024-07-30T00:00:00",
          "2024-07-28T00:00:00",
          "2024-07-26T00:00:00",
          "2024-07-24T00:00:00",
          "2024-07-21T00:00:00",
          "2024-07-18T00:00:00",
          "2024-07-17T00:00:00",
          "2024-07-15T00:00:00",
          "2024-07-14T00:00:00",
          "2024-07-12T00:00:00",
          "2024-07-11T00:00:00",
          "2024-07-10T00:00:00",
          "2024-07-09T00:00:00",
          "2024-07-08T00:00:00",
          "2024-07-08T00:00:00",
          "2024-07-07T00:00:00",
          "2024-07-06T00:00:00",
          "2024-07-06T00:00:00",
          "2024-07-05T00:00:00",
          "2024-07-05T00:00:00",
          "2024-07-04T00:00:00",
          "2024-07-03T00:00:00",
          "2024-07-02T00:00:00",
          "2024-07-02T00:00:00",
          "2024-07-01T00:00:00",
          "2024-07-01T00:00:00",
          "2024-07-01T00:00:00",
          "2024-07-01T00:00:00",
          "2024-07-01T00:00:00",
          "2024-06-30T00:00:00",
          "2024-06-29T00:00:00",
          "2024-06-29T00:00:00",
          "2024-06-29T00:00:00",
          "2024-06-28T00:00:00",
          "2024-06-28T00:00:00",
          "2024-06-26T00:00:00",
          "2024-06-25T00:00:00",
          "2024-06-24T00:00:00",
          "2024-06-24T00:00:00",
          "2024-06-24T00:00:00",
          "2024-06-23T00:00:00",
          "2024-06-22T00:00:00",
          "2024-06-20T00:00:00",
          "2024-06-19T00:00:00",
          "2024-06-18T00:00:00",
          "2024-06-18T00:00:00",
          "2024-06-14T00:00:00",
          "2024-06-13T00:00:00",
          "2024-06-10T00:00:00",
          "2024-06-10T00:00:00",
          "2024-06-09T00:00:00",
          "2024-06-09T00:00:00",
          "2024-06-09T00:00:00",
          "2024-06-08T00:00:00",
          "2024-06-08T00:00:00",
          "2024-06-07T00:00:00",
          "2024-06-07T00:00:00",
          "2024-06-07T00:00:00",
          "2024-06-06T00:00:00",
          "2024-06-06T00:00:00",
          "2024-06-06T00:00:00",
          "2024-06-05T00:00:00",
          "2024-06-05T00:00:00",
          "2024-06-05T00:00:00",
          "2024-06-04T00:00:00",
          "2024-06-04T00:00:00",
          "2024-06-04T00:00:00",
          "2024-06-04T00:00:00",
          "2024-06-04T00:00:00",
          "2024-06-02T00:00:00",
          "2024-06-01T00:00:00",
          "2024-05-30T00:00:00",
          "2024-05-30T00:00:00",
          "2024-05-29T00:00:00",
          "2024-05-29T00:00:00",
          "2024-05-28T00:00:00",
          "2024-05-27T00:00:00",
          "2024-05-27T00:00:00",
          "2024-05-27T00:00:00",
          "2024-05-26T00:00:00",
          "2024-05-25T00:00:00",
          "2024-05-25T00:00:00",
          "2024-05-25T00:00:00",
          "2024-05-23T00:00:00",
          "2024-05-22T00:00:00",
          "2024-05-20T00:00:00",
          "2024-05-19T00:00:00",
          "2024-05-18T00:00:00",
          "2024-05-17T00:00:00",
          "2024-05-17T00:00:00",
          "2024-05-14T00:00:00",
          "2024-05-13T00:00:00",
          "2024-05-13T00:00:00",
          "2024-05-12T00:00:00",
          "2024-05-11T00:00:00",
          "2024-05-11T00:00:00",
          "2024-05-11T00:00:00",
          "2024-05-11T00:00:00",
          "2024-05-11T00:00:00",
          "2024-05-11T00:00:00",
          "2024-05-10T00:00:00",
          "2024-05-10T00:00:00",
          "2024-05-10T00:00:00",
          "2024-05-09T00:00:00",
          "2024-05-09T00:00:00",
          "2024-05-09T00:00:00",
          "2024-05-08T00:00:00",
          "2024-05-08T00:00:00",
          "2024-05-08T00:00:00",
          "2024-05-08T00:00:00",
          "2024-05-07T00:00:00",
          "2024-05-07T00:00:00",
          "2024-05-07T00:00:00",
          "2024-05-06T00:00:00",
          "2024-05-06T00:00:00",
          "2024-05-05T00:00:00",
          "2024-05-05T00:00:00",
          "2024-05-04T00:00:00",
          "2024-05-04T00:00:00",
          "2024-05-04T00:00:00",
          "2024-05-04T00:00:00",
          "2024-05-04T00:00:00",
          "2024-05-04T00:00:00",
          "2024-05-03T00:00:00",
          "2024-05-03T00:00:00",
          "2024-05-02T00:00:00",
          "2024-05-02T00:00:00",
          "2024-05-02T00:00:00",
          "2024-05-02T00:00:00",
          "2024-05-01T00:00:00",
          "2024-04-30T00:00:00",
          "2024-04-30T00:00:00",
          "2024-04-30T00:00:00",
          "2024-04-30T00:00:00",
          "2024-04-30T00:00:00",
          "2024-04-30T00:00:00",
          "2024-04-29T00:00:00",
          "2024-04-29T00:00:00",
          "2024-04-29T00:00:00",
          "2024-04-29T00:00:00",
          "2024-04-27T00:00:00",
          "2024-04-26T00:00:00",
          "2024-04-26T00:00:00",
          "2024-04-26T00:00:00",
          "2024-04-17T00:00:00",
          "2024-04-17T00:00:00",
          "2024-04-17T00:00:00",
          "2024-04-15T00:00:00",
          "2024-04-15T00:00:00",
          "2024-04-13T00:00:00",
          "2024-04-13T00:00:00",
          "2024-04-12T00:00:00",
          "2024-04-12T00:00:00",
          "2024-04-11T00:00:00",
          "2024-04-11T00:00:00",
          "2024-04-10T00:00:00",
          "2024-04-10T00:00:00",
          "2024-04-10T00:00:00",
          "2024-04-10T00:00:00",
          "2024-04-09T00:00:00",
          "2024-04-09T00:00:00",
          "2024-04-05T00:00:00",
          "2024-04-04T00:00:00",
          "2024-04-01T00:00:00",
          "2024-03-21T00:00:00",
          "2024-03-21T00:00:00",
          "2024-03-19T00:00:00",
          "2024-03-16T00:00:00",
          "2024-03-13T00:00:00",
          "2024-03-10T00:00:00",
          "2024-03-09T00:00:00",
          "2024-03-09T00:00:00",
          "2024-03-09T00:00:00",
          "2024-03-09T00:00:00",
          "2024-03-08T00:00:00",
          "2024-03-08T00:00:00",
          "2024-03-08T00:00:00",
          "2024-03-08T00:00:00",
          "2024-03-07T00:00:00",
          "2024-03-05T00:00:00",
          "2024-03-04T00:00:00",
          "2024-03-04T00:00:00",
          "2024-03-04T00:00:00",
          "2024-02-16T00:00:00",
          "2024-02-14T00:00:00",
          "2024-02-13T00:00:00",
          "2024-02-12T00:00:00",
          "2024-01-20T00:00:00",
          "2024-01-07T00:00:00",
          "2023-04-13T00:00:00"
         ],
         "xaxis": "x",
         "y": [
          7.105825585380024,
          6.421514928606122,
          6.46037515371456,
          6.5316000022993475,
          6.5745601672906915,
          6.6209527832258965,
          6.871099100020524,
          7.800527887623618,
          7.935802536268006,
          6.916038474873535,
          7.3764165322113415,
          6.8573562711811125,
          7.3222762584216525,
          7.605149887042227,
          7.689295786179758,
          7.6723931747668335,
          6.956935211239989,
          7.356935211239989,
          7.241664545274473,
          7.627665653586811,
          6.92766565358681,
          7.91385273315898,
          7.613852733158981,
          7.599129707461861,
          7.385677165665664,
          7.573500577652372,
          7.073500577652372,
          7.0604027083875565,
          7.260402708387556,
          7.160402708387556,
          6.960402708387557,
          7.260402708387556,
          7.348624788294217,
          6.936966177987593,
          7.536966177987592,
          7.736966177987592,
          7.125480781893829,
          7.92548078189383,
          7.603013200087316,
          7.092020765596481,
          7.182286075607356,
          7.382286075607357,
          6.682286075607356,
          7.171610887596345,
          6.662172487455203,
          7.343796305175934,
          7.634788690498366,
          6.725917643988231,
          7.825917643988232,
          7.793077136165832,
          7.684881467655944,
          6.861056975974589,
          7.261056975974589,
          6.854346851586234,
          7.254346851586234,
          6.854346851586234,
          7.146771568170651,
          6.946771568170652,
          6.7393180927138285,
          6.639318092713827,
          7.139318092713827,
          6.630792475636589,
          7.130792475636589,
          7.130792475636589,
          6.724531182040668,
          7.824531182040667,
          6.824531182040667,
          7.716225995357764,
          7.8162259953577635,
          7.216225995357764,
          7.516225995357763,
          7.516225995357763,
          6.200882497713611,
          6.8928981302982155,
          6.776953022809385,
          7.076953022809384,
          6.668972810409025,
          7.168972810409025,
          6.660169604542369,
          7.352366907187026,
          6.852366907187026,
          6.852366907187026,
          7.043422544304154,
          6.83366390239805,
          7.33366390239805,
          7.2336639023980505,
          7.216177835926269,
          7.305438184463741,
          6.78470466573652,
          6.573824258283425,
          6.263011790111697,
          6.55226651996801,
          7.55226651996801,
          7.31547179326891,
          6.301274452669435,
          6.701274452669435,
          6.388377730088607,
          7.1743098564905345,
          7.1743098564905345,
          6.774309856490534,
          7.6743098564905345,
          7.574309856490535,
          6.6743098564905345,
          7.259074372110848,
          7.359074372110848,
          7.059074372110849,
          7.244723876704811,
          6.4447238767048125,
          6.244723876704811,
          6.829617966513846,
          6.429617966513847,
          6.929617966513847,
          6.629617966513846,
          6.6133529586357165,
          6.713352958635716,
          6.6133529586357165,
          6.59593648456457,
          6.6959364845645695,
          7.180615047123691,
          6.680615047123691,
          6.562126911496768,
          6.762126911496767,
          7.362126911496769,
          7.162126911496768,
          6.662126911496768,
          6.162126911496768,
          7.043720587469777,
          7.443720587469778,
          7.126184522535052,
          6.626184522535052,
          7.326184522535053,
          6.626184522535052,
          7.006733558991755,
          6.588152379371634,
          6.188152379371633,
          7.288152379371635,
          7.088152379371634,
          6.688152379371633,
          6.688152379371633,
          6.467681067059486,
          7.2676810670594865,
          6.667681067059485,
          5.867681067059486,
          6.426615974451601,
          6.804849199115478,
          6.804849199115478,
          6.704849199115478,
          7.0925739819870675,
          6.492573981987068,
          6.392573981987066,
          6.841573977423543,
          6.441573977423545,
          6.789047719471907,
          6.989047719471908,
          6.860716929611953,
          7.060716929611952,
          6.734360526155912,
          6.234360526155912,
          6.6060743763708825,
          6.6060743763708825,
          6.8060743763708835,
          5.906074376370883,
          6.779034233232123,
          6.779034233232123,
          6.766331737684463,
          6.738241779574556,
          7.450324495237165,
          7.32556166292803,
          7.32556166292803,
          6.566018426552535,
          6.977992841283333,
          7.089005975472313,
          7.002005030399787,
          6.873418539361617,
          7.173418539361616,
          7.073418539361616,
          6.673418539361616,
          6.845059825907911,
          7.445059825907911,
          7.2450598259079095,
          7.04505982590791,
          7.315539807169844,
          7.359198551148375,
          7.230370730137898,
          7.330370730137898,
          7.330370730137898,
          7.072517883111112,
          7.2215148542017,
          7.495972534074211,
          7.47122192948594,
          7.046326012944568,
          6.291643670235589,
          6.337260199155374
         ],
         "yaxis": "y"
        },
        {
         "hovertemplate": "Observation Method=C<br>Observation Date=%{x}<br>Apparent total magnitude processed=%{y}<extra></extra>",
         "legendgroup": "C",
         "marker": {
          "color": "#ab63fa",
          "symbol": "circle"
         },
         "mode": "markers",
         "name": "C",
         "showlegend": true,
         "type": "scattergl",
         "x": [
          "2024-08-09T00:00:00",
          "2024-08-02T00:00:00",
          "2024-08-01T00:00:00",
          "2024-08-01T00:00:00",
          "2024-07-30T00:00:00",
          "2024-07-29T00:00:00",
          "2024-07-27T00:00:00",
          "2024-07-26T00:00:00",
          "2024-07-26T00:00:00",
          "2024-07-22T00:00:00",
          "2024-07-21T00:00:00",
          "2024-07-21T00:00:00",
          "2024-07-20T00:00:00",
          "2024-07-19T00:00:00",
          "2024-07-18T00:00:00",
          "2024-07-16T00:00:00",
          "2024-07-14T00:00:00",
          "2024-07-13T00:00:00",
          "2024-07-12T00:00:00",
          "2024-07-11T00:00:00",
          "2024-07-04T00:00:00",
          "2024-07-04T00:00:00",
          "2024-06-29T00:00:00",
          "2024-06-28T00:00:00",
          "2024-06-28T00:00:00",
          "2024-06-28T00:00:00",
          "2024-06-26T00:00:00",
          "2024-06-25T00:00:00",
          "2024-06-25T00:00:00",
          "2024-06-24T00:00:00",
          "2024-06-24T00:00:00",
          "2024-06-24T00:00:00",
          "2024-06-23T00:00:00",
          "2024-06-23T00:00:00",
          "2024-06-22T00:00:00",
          "2024-06-13T00:00:00",
          "2024-06-11T00:00:00",
          "2024-06-10T00:00:00",
          "2024-06-10T00:00:00",
          "2024-06-09T00:00:00",
          "2024-06-09T00:00:00",
          "2024-06-08T00:00:00",
          "2024-06-08T00:00:00",
          "2024-06-07T00:00:00",
          "2024-06-07T00:00:00",
          "2024-06-05T00:00:00",
          "2024-06-05T00:00:00",
          "2024-06-05T00:00:00",
          "2024-06-05T00:00:00",
          "2024-06-04T00:00:00",
          "2024-06-04T00:00:00",
          "2024-06-03T00:00:00",
          "2024-06-02T00:00:00",
          "2024-06-02T00:00:00",
          "2024-06-01T00:00:00",
          "2024-05-31T00:00:00",
          "2024-05-30T00:00:00",
          "2024-05-29T00:00:00",
          "2024-05-29T00:00:00",
          "2024-05-29T00:00:00",
          "2024-05-29T00:00:00",
          "2024-05-28T00:00:00",
          "2024-05-28T00:00:00",
          "2024-05-26T00:00:00",
          "2024-05-25T00:00:00",
          "2024-05-25T00:00:00",
          "2024-05-25T00:00:00",
          "2024-05-24T00:00:00",
          "2024-05-24T00:00:00",
          "2024-05-23T00:00:00",
          "2024-05-22T00:00:00",
          "2024-05-22T00:00:00",
          "2024-05-20T00:00:00",
          "2024-05-17T00:00:00",
          "2024-05-17T00:00:00",
          "2024-05-17T00:00:00",
          "2024-05-17T00:00:00",
          "2024-05-17T00:00:00",
          "2024-05-16T00:00:00",
          "2024-05-16T00:00:00",
          "2024-05-16T00:00:00",
          "2024-05-16T00:00:00",
          "2024-05-16T00:00:00",
          "2024-05-16T00:00:00",
          "2024-05-16T00:00:00",
          "2024-05-16T00:00:00",
          "2024-05-16T00:00:00",
          "2024-05-16T00:00:00",
          "2024-05-16T00:00:00",
          "2024-05-15T00:00:00",
          "2024-05-15T00:00:00",
          "2024-05-15T00:00:00",
          "2024-05-15T00:00:00",
          "2024-05-15T00:00:00",
          "2024-05-15T00:00:00",
          "2024-05-15T00:00:00",
          "2024-05-15T00:00:00",
          "2024-05-14T00:00:00",
          "2024-05-14T00:00:00",
          "2024-05-14T00:00:00",
          "2024-05-13T00:00:00",
          "2024-05-12T00:00:00",
          "2024-05-12T00:00:00",
          "2024-05-12T00:00:00",
          "2024-05-11T00:00:00",
          "2024-05-11T00:00:00",
          "2024-05-10T00:00:00",
          "2024-05-10T00:00:00",
          "2024-05-09T00:00:00",
          "2024-05-09T00:00:00",
          "2024-05-09T00:00:00",
          "2024-05-09T00:00:00",
          "2024-05-09T00:00:00",
          "2024-05-09T00:00:00",
          "2024-05-09T00:00:00",
          "2024-05-09T00:00:00",
          "2024-05-08T00:00:00",
          "2024-05-08T00:00:00",
          "2024-05-08T00:00:00",
          "2024-05-07T00:00:00",
          "2024-05-06T00:00:00",
          "2024-05-06T00:00:00",
          "2024-05-04T00:00:00",
          "2024-05-04T00:00:00",
          "2024-05-04T00:00:00",
          "2024-05-04T00:00:00",
          "2024-05-04T00:00:00",
          "2024-05-04T00:00:00",
          "2024-05-04T00:00:00",
          "2024-05-03T00:00:00",
          "2024-05-03T00:00:00",
          "2024-05-03T00:00:00",
          "2024-05-03T00:00:00",
          "2024-05-02T00:00:00",
          "2024-05-01T00:00:00",
          "2024-04-30T00:00:00",
          "2024-04-30T00:00:00",
          "2024-04-30T00:00:00",
          "2024-04-30T00:00:00",
          "2024-04-30T00:00:00",
          "2024-04-29T00:00:00",
          "2024-04-29T00:00:00",
          "2024-04-29T00:00:00",
          "2024-04-29T00:00:00",
          "2024-04-28T00:00:00",
          "2024-04-28T00:00:00",
          "2024-04-28T00:00:00",
          "2024-04-28T00:00:00",
          "2024-04-28T00:00:00",
          "2024-04-28T00:00:00",
          "2024-04-28T00:00:00",
          "2024-04-27T00:00:00",
          "2024-04-27T00:00:00",
          "2024-04-26T00:00:00",
          "2024-04-25T00:00:00",
          "2024-04-24T00:00:00",
          "2024-04-21T00:00:00",
          "2024-04-20T00:00:00",
          "2024-04-20T00:00:00",
          "2024-04-19T00:00:00",
          "2024-04-18T00:00:00",
          "2024-04-18T00:00:00",
          "2024-04-18T00:00:00",
          "2024-04-18T00:00:00",
          "2024-04-17T00:00:00",
          "2024-04-17T00:00:00",
          "2024-04-16T00:00:00",
          "2024-04-16T00:00:00",
          "2024-04-16T00:00:00",
          "2024-04-15T00:00:00",
          "2024-04-15T00:00:00",
          "2024-04-15T00:00:00",
          "2024-04-14T00:00:00",
          "2024-04-14T00:00:00",
          "2024-04-13T00:00:00",
          "2024-04-13T00:00:00",
          "2024-04-13T00:00:00",
          "2024-04-13T00:00:00",
          "2024-04-12T00:00:00",
          "2024-04-12T00:00:00",
          "2024-04-11T00:00:00",
          "2024-04-11T00:00:00",
          "2024-04-10T00:00:00",
          "2024-04-10T00:00:00",
          "2024-04-10T00:00:00",
          "2024-04-10T00:00:00",
          "2024-04-09T00:00:00",
          "2024-04-09T00:00:00",
          "2024-04-09T00:00:00",
          "2024-04-09T00:00:00",
          "2024-04-08T00:00:00",
          "2024-04-07T00:00:00",
          "2024-04-06T00:00:00",
          "2024-04-06T00:00:00",
          "2024-04-06T00:00:00",
          "2024-04-06T00:00:00",
          "2024-04-05T00:00:00",
          "2024-04-04T00:00:00",
          "2024-04-03T00:00:00",
          "2024-04-03T00:00:00",
          "2024-04-03T00:00:00",
          "2024-04-02T00:00:00",
          "2024-04-02T00:00:00",
          "2024-04-02T00:00:00",
          "2024-04-01T00:00:00",
          "2024-03-31T00:00:00",
          "2024-03-31T00:00:00",
          "2024-03-31T00:00:00",
          "2024-03-30T00:00:00",
          "2024-03-30T00:00:00",
          "2024-03-28T00:00:00",
          "2024-03-28T00:00:00",
          "2024-03-25T00:00:00",
          "2024-03-24T00:00:00",
          "2024-03-23T00:00:00",
          "2024-03-22T00:00:00",
          "2024-03-21T00:00:00",
          "2024-03-20T00:00:00",
          "2024-03-19T00:00:00",
          "2024-03-18T00:00:00",
          "2024-03-18T00:00:00",
          "2024-03-18T00:00:00",
          "2024-03-16T00:00:00",
          "2024-03-16T00:00:00",
          "2024-03-16T00:00:00",
          "2024-03-15T00:00:00",
          "2024-03-14T00:00:00",
          "2024-03-09T00:00:00",
          "2024-03-09T00:00:00",
          "2024-03-08T00:00:00",
          "2024-03-08T00:00:00",
          "2024-03-08T00:00:00",
          "2024-03-07T00:00:00",
          "2024-03-07T00:00:00",
          "2024-03-05T00:00:00",
          "2024-03-05T00:00:00",
          "2024-03-04T00:00:00",
          "2024-02-29T00:00:00",
          "2024-02-24T00:00:00",
          "2024-02-20T00:00:00",
          "2024-02-17T00:00:00",
          "2024-02-16T00:00:00",
          "2024-02-13T00:00:00",
          "2024-02-13T00:00:00",
          "2024-02-13T00:00:00",
          "2024-02-10T00:00:00",
          "2024-02-09T00:00:00",
          "2024-02-07T00:00:00",
          "2024-01-29T00:00:00",
          "2024-01-28T00:00:00",
          "2024-01-24T00:00:00",
          "2024-01-22T00:00:00",
          "2024-01-21T00:00:00",
          "2024-01-21T00:00:00",
          "2024-01-14T00:00:00",
          "2024-01-10T00:00:00",
          "2024-01-09T00:00:00",
          "2024-01-09T00:00:00",
          "2024-01-08T00:00:00",
          "2024-01-07T00:00:00",
          "2024-01-05T00:00:00",
          "2024-01-04T00:00:00",
          "2023-12-31T00:00:00",
          "2023-12-27T00:00:00",
          "2023-12-22T00:00:00",
          "2023-12-21T00:00:00",
          "2023-12-20T00:00:00",
          "2023-12-19T00:00:00",
          "2023-12-18T00:00:00",
          "2023-12-10T00:00:00",
          "2023-12-07T00:00:00",
          "2023-11-28T00:00:00",
          "2023-09-06T00:00:00",
          "2023-09-05T00:00:00",
          "2023-08-21T00:00:00",
          "2023-07-15T00:00:00",
          "2023-07-12T00:00:00",
          "2023-07-08T00:00:00",
          "2023-07-07T00:00:00",
          "2023-07-06T00:00:00",
          "2023-06-24T00:00:00",
          "2023-06-16T00:00:00",
          "2023-06-16T00:00:00",
          "2023-06-15T00:00:00",
          "2023-06-14T00:00:00",
          "2023-06-13T00:00:00",
          "2023-06-12T00:00:00",
          "2023-06-12T00:00:00",
          "2023-06-11T00:00:00",
          "2023-06-10T00:00:00",
          "2023-06-08T00:00:00",
          "2023-06-07T00:00:00",
          "2023-06-05T00:00:00",
          "2023-06-04T00:00:00",
          "2023-06-03T00:00:00",
          "2023-06-02T00:00:00",
          "2023-06-01T00:00:00",
          "2023-05-31T00:00:00",
          "2023-05-29T00:00:00",
          "2023-05-28T00:00:00",
          "2023-05-27T00:00:00",
          "2023-05-26T00:00:00",
          "2023-05-25T00:00:00",
          "2023-05-25T00:00:00",
          "2023-05-23T00:00:00",
          "2023-05-22T00:00:00",
          "2023-05-22T00:00:00",
          "2023-05-21T00:00:00",
          "2023-05-21T00:00:00",
          "2023-05-19T00:00:00",
          "2023-05-18T00:00:00",
          "2023-05-16T00:00:00",
          "2023-05-14T00:00:00",
          "2023-05-14T00:00:00",
          "2023-05-13T00:00:00",
          "2023-05-07T00:00:00",
          "2023-04-28T00:00:00",
          "2023-04-27T00:00:00",
          "2023-04-26T00:00:00",
          "2023-04-25T00:00:00",
          "2023-04-22T00:00:00",
          "2023-04-21T00:00:00",
          "2023-04-20T00:00:00",
          "2023-04-17T00:00:00",
          "2023-04-14T00:00:00",
          "2023-04-01T00:00:00",
          "2023-03-30T00:00:00",
          "2023-03-26T00:00:00",
          "2023-03-19T00:00:00",
          "2023-03-18T00:00:00",
          "2023-03-18T00:00:00",
          "2023-03-16T00:00:00",
          "2023-03-03T00:00:00",
          "2023-02-28T00:00:00",
          "2023-02-28T00:00:00",
          "2023-02-27T00:00:00",
          "2023-02-27T00:00:00",
          "2023-02-26T00:00:00",
          "2023-02-25T00:00:00",
          "2023-02-25T00:00:00",
          "2023-02-25T00:00:00"
         ],
         "xaxis": "x",
         "y": [
          6.766927378848537,
          7.421618902775725,
          7.491080648531334,
          4.691080648531335,
          6.831600002299346,
          6.602675679291582,
          6.747378655650355,
          6.820952783225896,
          6.6209527832258965,
          6.823427484762618,
          6.900527887623618,
          7.800527887623618,
          7.777890374260884,
          7.856574527336183,
          7.835802536268006,
          7.795450558257251,
          7.457356271181112,
          7.339817501851726,
          7.8222762584216525,
          7.705149887042227,
          8.29912970746186,
          8.599129707461861,
          7.436966177987593,
          7.125480781893829,
          7.825480781893829,
          8.52548078189383,
          7.303013200087316,
          7.29202076559648,
          6.392020765596482,
          7.082286075607357,
          8.282286075607356,
          8.282286075607356,
          7.5716108875963455,
          7.271610887596345,
          7.362172487455204,
          8.384881467655944,
          7.5688726794392345,
          7.661056975974588,
          8.161056975974589,
          7.654346851586233,
          8.254346851586234,
          7.5467715681706515,
          8.346771568170652,
          7.639318092713827,
          7.939318092713828,
          7.224531182040668,
          7.124531182040666,
          7.124531182040666,
          7.124531182040666,
          7.516225995357763,
          7.1162259953577625,
          8.2080308754484,
          6.90088249771361,
          7.600882497713609,
          7.3928981302982155,
          8.485946808370269,
          7.176953022809386,
          7.768972810409025,
          8.668972810409025,
          7.268972810409025,
          7.468972810409024,
          7.860169604542368,
          7.660169604542369,
          7.343422544304155,
          7.83366390239805,
          7.2336639023980505,
          8.433663902398049,
          8.224882134082598,
          7.224882134082598,
          7.516177835926268,
          8.30543818446374,
          7.6054381844637415,
          7.384704665736519,
          6.952266519968009,
          6.65226651996801,
          6.75226651996801,
          7.25226651996801,
          7.852266519968009,
          7.340349354136716,
          6.940349354136716,
          7.2403493541367165,
          6.7403493541367165,
          7.340349354136716,
          7.040349354136717,
          7.140349354136717,
          7.840349354136716,
          6.640349354136717,
          8.140349354136717,
          7.540349354136717,
          6.627259574729863,
          7.127259574729863,
          7.227259574729863,
          6.927259574729862,
          7.227259574729863,
          7.027259574729864,
          7.127259574729863,
          8.027259574729865,
          6.71547179326891,
          7.61547179326891,
          7.61547179326891,
          7.101274452669435,
          7.288377730088607,
          7.188377730088607,
          7.588377730088608,
          7.074309856490535,
          7.6743098564905345,
          7.159074372110848,
          6.959074372110849,
          7.344723876704811,
          6.9447238767048125,
          6.744723876704811,
          7.044723876704812,
          7.544723876704812,
          7.844723876704811,
          6.844723876704811,
          7.244723876704811,
          7.329617966513846,
          7.329617966513846,
          8.129617966513846,
          7.813352958635716,
          7.295936484564569,
          7.8959364845645705,
          6.862126911496769,
          6.762126911496767,
          6.962126911496768,
          6.762126911496767,
          7.662126911496768,
          6.462126911496768,
          7.762126911496767,
          7.443720587469778,
          7.2437205874697765,
          7.7437205874697765,
          7.2437205874697765,
          6.726184522535052,
          7.3067335589917555,
          6.388152379371634,
          6.288152379371635,
          6.388152379371634,
          6.788152379371635,
          6.588152379371634,
          6.867681067059486,
          6.967681067059486,
          6.7676810670594865,
          7.567681067059485,
          7.7480802233869515,
          6.64808022338695,
          7.14808022338695,
          7.2480802233869515,
          7.04808022338695,
          6.54808022338695,
          7.54808022338695,
          7.026615974451601,
          7.426615974451601,
          7.504849199115477,
          6.88242857239918,
          6.960882716315895,
          6.8915649817899105,
          7.8670656230823734,
          7.3670656230823734,
          7.242709509689581,
          6.617755941777007,
          6.717755941777007,
          7.117755941777007,
          6.717755941777007,
          6.892573981987066,
          7.0925739819870675,
          7.067545380690628,
          6.767545380690628,
          7.367545380690627,
          6.541573977423544,
          6.541573977423544,
          7.441573977423545,
          6.914682491662353,
          7.014682491662352,
          6.689047719471907,
          7.189047719471907,
          6.589047719471908,
          6.989047719471908,
          6.760716929611951,
          6.560716929611952,
          6.634360526155913,
          7.034360526155913,
          6.6060743763708825,
          6.706074376370882,
          6.8060743763708835,
          7.1060743763708825,
          6.479034233232122,
          6.679034233232121,
          7.079034233232122,
          7.079034233232122,
          7.051144564152951,
          6.72242903378465,
          6.693926373199772,
          7.493926373199771,
          6.793926373199771,
          7.193926373199772,
          7.066331737684462,
          7.238241779574556,
          6.708378892533192,
          7.008378892533191,
          7.308378892533192,
          6.979729774273856,
          7.1797297742738575,
          7.079729774273858,
          7.150324495237166,
          6.92114682777114,
          7.221146827771141,
          7.42114682777114,
          6.991241585223261,
          7.2912415852232595,
          6.732816555733838,
          7.1328165557338385,
          7.043817374688717,
          7.514400874669317,
          6.984989289753203,
          7.555155732143198,
          7.5255616629280295,
          7.495995175569631,
          7.566018426552535,
          6.936935706531488,
          7.636935706531489,
          7.336935706531488,
          7.177992841283334,
          6.977992841283333,
          7.577992841283335,
          7.448145298506229,
          7.41918114783931,
          7.573418539361616,
          7.573418539361616,
          7.7450598259079095,
          7.2450598259079095,
          7.345059825907911,
          7.815539807169844,
          7.315539807169844,
          7.559198551148374,
          7.659198551148374,
          7.730370730137898,
          7.019014896378757,
          6.982064850283093,
          7.676090844593492,
          7.797973563567766,
          7.8725178831111124,
          7.495972534074211,
          7.795972534074211,
          7.495972534074211,
          7.722190830046349,
          7.797937026952838,
          7.249318697164513,
          7.840666674797879,
          7.618743142674039,
          7.831276767658857,
          7.188289557934353,
          8.067777832679345,
          7.0677778326793455,
          7.52570316505228,
          7.348164482764359,
          7.329405039851276,
          7.329405039851276,
          7.510217445052727,
          7.291643670235589,
          7.354719711820417,
          7.43688021044264,
          7.366286247386897,
          7.397846668706074,
          7.41635893525557,
          7.300880796639255,
          7.385030225447418,
          7.369672883600111,
          7.254374211891285,
          7.536935043194171,
          7.795545744810765,
          7.478631856595085,
          7.6716980270692545,
          8.068809896572214,
          7.831083547842726,
          8.685831178311568,
          8.683611232247237,
          8.980136685956133,
          8.379561629913848,
          8.578260312066714,
          8.565379339145835,
          8.75311481977086,
          8.55311481977086,
          8.551201508057162,
          8.64925384574761,
          8.64696712486939,
          8.545030032818111,
          9.545030032818111,
          8.74309796156843,
          8.540828314675432,
          8.536261886497485,
          8.633963709188688,
          8.928654085465583,
          8.82598294964583,
          9.023316183716107,
          8.220315197244881,
          8.717270365136486,
          8.614229796505015,
          8.607824765736739,
          8.604410209976994,
          8.70099993801675,
          8.59725875675608,
          8.593470582886138,
          9.393470582886138,
          8.386294209662081,
          8.681799461343143,
          8.681799461343143,
          8.578029493483715,
          8.678029493483717,
          8.569344954694646,
          8.864871523514262,
          8.655447144130711,
          8.84604458858068,
          8.54604458858068,
          9.04083033742188,
          8.808261560274747,
          8.951357995434751,
          8.944699793287189,
          8.837677076007752,
          8.830666044044797,
          8.608586893035497,
          9.001253206863078,
          8.793562182359604,
          8.969890220008836,
          9.145575206297059,
          6.330705284931748,
          8.711771363557723,
          9.27380725262054,
          9.404214837074194,
          9.79435002667703,
          9.094350026677027,
          9.774094376263593,
          9.540301335634528,
          9.709021079730313,
          9.209021079730313,
          9.398744384847161,
          9.498744384847162,
          9.588200598538236,
          9.677688463536409,
          9.377688463536408,
          9.77768846353641
         ],
         "yaxis": "y"
        },
        {
         "hovertemplate": "Observation Method=V<br>Observation Date=%{x}<br>Apparent total magnitude processed=%{y}<extra></extra>",
         "legendgroup": "V",
         "marker": {
          "color": "#FFA15A",
          "symbol": "circle"
         },
         "mode": "markers",
         "name": "V",
         "showlegend": true,
         "type": "scattergl",
         "x": [
          "2024-08-05T00:00:00",
          "2024-07-16T00:00:00",
          "2024-07-15T00:00:00",
          "2024-07-15T00:00:00",
          "2024-07-13T00:00:00",
          "2024-07-04T00:00:00",
          "2024-07-04T00:00:00",
          "2024-07-03T00:00:00",
          "2024-07-02T00:00:00",
          "2024-07-02T00:00:00",
          "2024-06-30T00:00:00",
          "2024-06-30T00:00:00",
          "2024-06-29T00:00:00",
          "2024-06-28T00:00:00",
          "2024-06-26T00:00:00",
          "2024-06-25T00:00:00",
          "2024-06-24T00:00:00",
          "2024-06-24T00:00:00",
          "2024-06-23T00:00:00",
          "2024-06-20T00:00:00",
          "2024-06-19T00:00:00",
          "2024-06-18T00:00:00",
          "2024-06-15T00:00:00",
          "2024-06-13T00:00:00",
          "2024-06-10T00:00:00",
          "2024-06-09T00:00:00",
          "2024-06-07T00:00:00",
          "2024-06-05T00:00:00",
          "2024-06-03T00:00:00",
          "2024-05-31T00:00:00",
          "2024-05-29T00:00:00",
          "2024-05-26T00:00:00",
          "2024-05-25T00:00:00",
          "2024-05-24T00:00:00",
          "2024-05-17T00:00:00",
          "2024-05-16T00:00:00",
          "2024-05-16T00:00:00",
          "2024-05-15T00:00:00",
          "2024-05-14T00:00:00",
          "2024-05-14T00:00:00",
          "2024-05-13T00:00:00",
          "2024-05-12T00:00:00",
          "2024-05-11T00:00:00",
          "2024-05-10T00:00:00",
          "2024-05-10T00:00:00",
          "2024-05-09T00:00:00",
          "2024-05-07T00:00:00",
          "2024-05-06T00:00:00",
          "2024-05-05T00:00:00",
          "2024-05-04T00:00:00",
          "2024-05-03T00:00:00",
          "2024-05-03T00:00:00",
          "2024-05-02T00:00:00",
          "2024-05-01T00:00:00",
          "2024-04-29T00:00:00",
          "2024-04-27T00:00:00",
          "2024-04-21T00:00:00",
          "2024-04-20T00:00:00",
          "2024-04-17T00:00:00",
          "2024-04-16T00:00:00",
          "2024-04-15T00:00:00",
          "2024-04-15T00:00:00",
          "2024-04-14T00:00:00",
          "2024-04-13T00:00:00",
          "2024-04-13T00:00:00",
          "2024-04-09T00:00:00",
          "2024-02-07T00:00:00",
          "2023-12-25T00:00:00",
          "2023-08-13T00:00:00",
          "2023-07-11T00:00:00",
          "2023-07-07T00:00:00",
          "2023-06-13T00:00:00",
          "2023-05-16T00:00:00",
          "2023-04-24T00:00:00",
          "2023-04-20T00:00:00",
          "2023-03-22T00:00:00"
         ],
         "xaxis": "x",
         "y": [
          7.321514928606122,
          7.8954505582572505,
          7.976416532211341,
          9.476416532211342,
          7.839817501851726,
          8.099129707461861,
          9.099129707461861,
          8.185677165665664,
          8.073500577652371,
          7.073500577652372,
          8.248624788294217,
          10.048624788294218,
          7.936966177987593,
          8.02548078189383,
          7.703013200087316,
          8.09202076559648,
          7.982286075607357,
          6.982286075607357,
          7.971610887596346,
          8.043796305175933,
          7.934788690498367,
          7.525917643988231,
          8.500243668851319,
          8.284881467655946,
          7.461056975974588,
          10.054346851586233,
          8.239318092713829,
          8.324531182040667,
          7.6080308754483985,
          7.985946808370269,
          7.568972810409024,
          8.143422544304155,
          7.633663902398051,
          8.024882134082597,
          7.852266519968009,
          7.840349354136716,
          7.440349354136716,
          7.827259574729863,
          7.415471793268909,
          8.015471793268912,
          6.801274452669435,
          7.188377730088607,
          7.874309856490534,
          7.359074372110848,
          7.459074372110849,
          7.344723876704811,
          7.813352958635716,
          7.99593648456457,
          7.5806150471236915,
          7.762126911496767,
          7.043720587469777,
          7.143720587469777,
          7.226184522535052,
          6.906733558991755,
          7.567681067059485,
          6.8266159744516015,
          7.091564981789912,
          7.0670656230823745,
          6.992573981987068,
          7.067545380690628,
          6.941573977423545,
          6.941573977423545,
          7.2146824916623515,
          7.089047719471908,
          6.789047719471907,
          6.979034233232122,
          7.549318697164514,
          7.764985234101802,
          8.61711152487418,
          8.78300362714047,
          8.979561629913846,
          9.14696712486939,
          9.05544714413071,
          9.523293263560605,
          9.293562182359604,
          10.234218051745135
         ],
         "yaxis": "y"
        },
        {
         "hovertemplate": "Observation Method=k<br>Observation Date=%{x}<br>Apparent total magnitude processed=%{y}<extra></extra>",
         "legendgroup": "k",
         "marker": {
          "color": "#19d3f3",
          "symbol": "circle"
         },
         "mode": "markers",
         "name": "k",
         "showlegend": true,
         "type": "scattergl",
         "x": [
          "2024-06-26T00:00:00",
          "2024-06-11T00:00:00",
          "2024-06-10T00:00:00",
          "2024-05-31T00:00:00",
          "2024-05-13T00:00:00",
          "2024-05-13T00:00:00",
          "2024-05-13T00:00:00",
          "2024-05-12T00:00:00",
          "2024-05-12T00:00:00",
          "2024-05-12T00:00:00",
          "2024-05-12T00:00:00",
          "2024-05-07T00:00:00",
          "2024-05-03T00:00:00",
          "2024-05-02T00:00:00",
          "2024-05-01T00:00:00",
          "2024-05-01T00:00:00",
          "2024-04-28T00:00:00",
          "2024-04-15T00:00:00"
         ],
         "xaxis": "x",
         "y": [
          7.303013200087316,
          7.668872679439234,
          7.761056975974589,
          7.585946808370268,
          7.601274452669435,
          6.301274452669435,
          6.501274452669436,
          6.688377730088607,
          6.888377730088607,
          6.888377730088607,
          7.088377730088608,
          7.513352958635717,
          7.343720587469778,
          6.726184522535052,
          6.406733558991755,
          6.606733558991754,
          8.248080223386951,
          6.441573977423545
         ],
         "yaxis": "y"
        },
        {
         "hovertemplate": "Observation Method=B<br>Observation Date=%{x}<br>Apparent total magnitude processed=%{y}<extra></extra>",
         "legendgroup": "B",
         "marker": {
          "color": "#FF6692",
          "symbol": "circle"
         },
         "mode": "markers",
         "name": "B",
         "showlegend": true,
         "type": "scattergl",
         "x": [
          "2024-06-26T00:00:00",
          "2024-06-10T00:00:00",
          "2024-06-01T00:00:00",
          "2024-05-29T00:00:00",
          "2024-05-29T00:00:00",
          "2024-05-13T00:00:00",
          "2024-05-11T00:00:00",
          "2024-05-07T00:00:00",
          "2024-05-06T00:00:00",
          "2024-05-04T00:00:00",
          "2024-05-03T00:00:00",
          "2024-05-01T00:00:00",
          "2024-04-30T00:00:00",
          "2024-04-30T00:00:00",
          "2024-04-29T00:00:00",
          "2024-04-29T00:00:00",
          "2024-04-28T00:00:00",
          "2024-04-09T00:00:00",
          "2024-04-08T00:00:00"
         ],
         "xaxis": "x",
         "y": [
          7.603013200087316,
          7.761056975974589,
          7.8928981302982155,
          7.768972810409025,
          7.568972810409024,
          6.901274452669434,
          6.974309856490535,
          6.513352958635717,
          7.49593648456457,
          7.062126911496768,
          6.543720587469777,
          7.006733558991755,
          7.188152379371633,
          7.188152379371633,
          6.667681067059485,
          6.467681067059486,
          6.64808022338695,
          6.279034233232123,
          6.551144564152951
         ],
         "yaxis": "y"
        },
        {
         "hovertemplate": "Observation Method=D<br>Observation Date=%{x}<br>Apparent total magnitude processed=%{y}<extra></extra>",
         "legendgroup": "D",
         "marker": {
          "color": "#B6E880",
          "symbol": "circle"
         },
         "mode": "markers",
         "name": "D",
         "showlegend": true,
         "type": "scattergl",
         "x": [
          "2024-06-24T00:00:00",
          "2024-06-18T00:00:00",
          "2024-06-10T00:00:00",
          "2024-06-03T00:00:00",
          "2024-05-29T00:00:00",
          "2024-05-25T00:00:00",
          "2024-05-14T00:00:00",
          "2024-05-13T00:00:00",
          "2024-05-10T00:00:00",
          "2024-05-09T00:00:00"
         ],
         "xaxis": "x",
         "y": [
          7.782286075607356,
          8.025917643988231,
          8.26105697597459,
          8.508030875448398,
          8.368972810409025,
          8.53366390239805,
          8.11547179326891,
          7.301274452669435,
          8.159074372110847,
          8.144723876704813
         ],
         "yaxis": "y"
        },
        {
         "hovertemplate": "Observation Method=H<br>Observation Date=%{x}<br>Apparent total magnitude processed=%{y}<extra></extra>",
         "legendgroup": "H",
         "marker": {
          "color": "#FF97FF",
          "symbol": "circle"
         },
         "mode": "markers",
         "name": "H",
         "showlegend": true,
         "type": "scattergl",
         "x": [
          "2024-06-24T00:00:00",
          "2024-06-18T00:00:00",
          "2024-06-10T00:00:00",
          "2024-06-03T00:00:00",
          "2024-05-29T00:00:00",
          "2024-05-25T00:00:00",
          "2024-05-14T00:00:00",
          "2024-05-13T00:00:00",
          "2024-05-13T00:00:00",
          "2024-05-12T00:00:00",
          "2024-05-12T00:00:00",
          "2024-05-10T00:00:00",
          "2024-05-09T00:00:00",
          "2024-05-01T00:00:00",
          "2024-05-01T00:00:00",
          "2024-05-01T00:00:00",
          "2024-05-01T00:00:00"
         ],
         "xaxis": "x",
         "y": [
          6.282286075607356,
          6.625917643988231,
          6.561056975974588,
          6.7080308754484,
          6.768972810409025,
          6.7336639023980505,
          6.61547179326891,
          6.301274452669435,
          6.701274452669435,
          6.288377730088607,
          6.688377730088607,
          6.559074372110849,
          6.4447238767048125,
          6.106733558991754,
          6.506733558991755,
          6.206733558991754,
          6.606733558991754
         ],
         "yaxis": "y"
        },
        {
         "hovertemplate": "Observation Method=d<br>Observation Date=%{x}<br>Apparent total magnitude processed=%{y}<extra></extra>",
         "legendgroup": "d",
         "marker": {
          "color": "#FECB52",
          "symbol": "circle"
         },
         "mode": "markers",
         "name": "d",
         "showlegend": true,
         "type": "scattergl",
         "x": [
          "2024-06-05T00:00:00",
          "2024-05-26T00:00:00"
         ],
         "xaxis": "x",
         "y": [
          7.024531182040667,
          7.143422544304156
         ],
         "yaxis": "y"
        },
        {
         "hovertemplate": "Observation Method=c<br>Observation Date=%{x}<br>Apparent total magnitude processed=%{y}<extra></extra>",
         "legendgroup": "c",
         "marker": {
          "color": "#636efa",
          "symbol": "circle"
         },
         "mode": "markers",
         "name": "c",
         "showlegend": true,
         "type": "scattergl",
         "x": [
          "2024-05-16T00:00:00",
          "2024-05-13T00:00:00",
          "2024-05-12T00:00:00",
          "2024-05-10T00:00:00",
          "2024-05-09T00:00:00",
          "2024-05-04T00:00:00",
          "2024-04-30T00:00:00",
          "2024-04-12T00:00:00"
         ],
         "xaxis": "x",
         "y": [
          8.640349354136717,
          9.401274452669433,
          9.188377730088607,
          9.259074372110849,
          9.144723876704813,
          8.462126911496767,
          8.588152379371634,
          6.460716929611952
         ],
         "yaxis": "y"
        },
        {
         "hovertemplate": "Observation Method=E<br>Observation Date=%{x}<br>Apparent total magnitude processed=%{y}<extra></extra>",
         "legendgroup": "E",
         "marker": {
          "color": "#EF553B",
          "symbol": "circle"
         },
         "mode": "markers",
         "name": "E",
         "showlegend": true,
         "type": "scattergl",
         "x": [
          "2024-05-11T00:00:00"
         ],
         "xaxis": "x",
         "y": [
          6.774309856490534
         ],
         "yaxis": "y"
        }
       ],
       "layout": {
        "legend": {
         "title": {
          "text": "Observation Method"
         },
         "tracegroupgap": 0
        },
        "template": {
         "data": {
          "bar": [
           {
            "error_x": {
             "color": "#f2f5fa"
            },
            "error_y": {
             "color": "#f2f5fa"
            },
            "marker": {
             "line": {
              "color": "rgb(17,17,17)",
              "width": 0.5
             },
             "pattern": {
              "fillmode": "overlay",
              "size": 10,
              "solidity": 0.2
             }
            },
            "type": "bar"
           }
          ],
          "barpolar": [
           {
            "marker": {
             "line": {
              "color": "rgb(17,17,17)",
              "width": 0.5
             },
             "pattern": {
              "fillmode": "overlay",
              "size": 10,
              "solidity": 0.2
             }
            },
            "type": "barpolar"
           }
          ],
          "carpet": [
           {
            "aaxis": {
             "endlinecolor": "#A2B1C6",
             "gridcolor": "#506784",
             "linecolor": "#506784",
             "minorgridcolor": "#506784",
             "startlinecolor": "#A2B1C6"
            },
            "baxis": {
             "endlinecolor": "#A2B1C6",
             "gridcolor": "#506784",
             "linecolor": "#506784",
             "minorgridcolor": "#506784",
             "startlinecolor": "#A2B1C6"
            },
            "type": "carpet"
           }
          ],
          "choropleth": [
           {
            "colorbar": {
             "outlinewidth": 0,
             "ticks": ""
            },
            "type": "choropleth"
           }
          ],
          "contour": [
           {
            "colorbar": {
             "outlinewidth": 0,
             "ticks": ""
            },
            "colorscale": [
             [
              0,
              "#0d0887"
             ],
             [
              0.1111111111111111,
              "#46039f"
             ],
             [
              0.2222222222222222,
              "#7201a8"
             ],
             [
              0.3333333333333333,
              "#9c179e"
             ],
             [
              0.4444444444444444,
              "#bd3786"
             ],
             [
              0.5555555555555556,
              "#d8576b"
             ],
             [
              0.6666666666666666,
              "#ed7953"
             ],
             [
              0.7777777777777778,
              "#fb9f3a"
             ],
             [
              0.8888888888888888,
              "#fdca26"
             ],
             [
              1,
              "#f0f921"
             ]
            ],
            "type": "contour"
           }
          ],
          "contourcarpet": [
           {
            "colorbar": {
             "outlinewidth": 0,
             "ticks": ""
            },
            "type": "contourcarpet"
           }
          ],
          "heatmap": [
           {
            "colorbar": {
             "outlinewidth": 0,
             "ticks": ""
            },
            "colorscale": [
             [
              0,
              "#0d0887"
             ],
             [
              0.1111111111111111,
              "#46039f"
             ],
             [
              0.2222222222222222,
              "#7201a8"
             ],
             [
              0.3333333333333333,
              "#9c179e"
             ],
             [
              0.4444444444444444,
              "#bd3786"
             ],
             [
              0.5555555555555556,
              "#d8576b"
             ],
             [
              0.6666666666666666,
              "#ed7953"
             ],
             [
              0.7777777777777778,
              "#fb9f3a"
             ],
             [
              0.8888888888888888,
              "#fdca26"
             ],
             [
              1,
              "#f0f921"
             ]
            ],
            "type": "heatmap"
           }
          ],
          "heatmapgl": [
           {
            "colorbar": {
             "outlinewidth": 0,
             "ticks": ""
            },
            "colorscale": [
             [
              0,
              "#0d0887"
             ],
             [
              0.1111111111111111,
              "#46039f"
             ],
             [
              0.2222222222222222,
              "#7201a8"
             ],
             [
              0.3333333333333333,
              "#9c179e"
             ],
             [
              0.4444444444444444,
              "#bd3786"
             ],
             [
              0.5555555555555556,
              "#d8576b"
             ],
             [
              0.6666666666666666,
              "#ed7953"
             ],
             [
              0.7777777777777778,
              "#fb9f3a"
             ],
             [
              0.8888888888888888,
              "#fdca26"
             ],
             [
              1,
              "#f0f921"
             ]
            ],
            "type": "heatmapgl"
           }
          ],
          "histogram": [
           {
            "marker": {
             "pattern": {
              "fillmode": "overlay",
              "size": 10,
              "solidity": 0.2
             }
            },
            "type": "histogram"
           }
          ],
          "histogram2d": [
           {
            "colorbar": {
             "outlinewidth": 0,
             "ticks": ""
            },
            "colorscale": [
             [
              0,
              "#0d0887"
             ],
             [
              0.1111111111111111,
              "#46039f"
             ],
             [
              0.2222222222222222,
              "#7201a8"
             ],
             [
              0.3333333333333333,
              "#9c179e"
             ],
             [
              0.4444444444444444,
              "#bd3786"
             ],
             [
              0.5555555555555556,
              "#d8576b"
             ],
             [
              0.6666666666666666,
              "#ed7953"
             ],
             [
              0.7777777777777778,
              "#fb9f3a"
             ],
             [
              0.8888888888888888,
              "#fdca26"
             ],
             [
              1,
              "#f0f921"
             ]
            ],
            "type": "histogram2d"
           }
          ],
          "histogram2dcontour": [
           {
            "colorbar": {
             "outlinewidth": 0,
             "ticks": ""
            },
            "colorscale": [
             [
              0,
              "#0d0887"
             ],
             [
              0.1111111111111111,
              "#46039f"
             ],
             [
              0.2222222222222222,
              "#7201a8"
             ],
             [
              0.3333333333333333,
              "#9c179e"
             ],
             [
              0.4444444444444444,
              "#bd3786"
             ],
             [
              0.5555555555555556,
              "#d8576b"
             ],
             [
              0.6666666666666666,
              "#ed7953"
             ],
             [
              0.7777777777777778,
              "#fb9f3a"
             ],
             [
              0.8888888888888888,
              "#fdca26"
             ],
             [
              1,
              "#f0f921"
             ]
            ],
            "type": "histogram2dcontour"
           }
          ],
          "mesh3d": [
           {
            "colorbar": {
             "outlinewidth": 0,
             "ticks": ""
            },
            "type": "mesh3d"
           }
          ],
          "parcoords": [
           {
            "line": {
             "colorbar": {
              "outlinewidth": 0,
              "ticks": ""
             }
            },
            "type": "parcoords"
           }
          ],
          "pie": [
           {
            "automargin": true,
            "type": "pie"
           }
          ],
          "scatter": [
           {
            "marker": {
             "line": {
              "color": "#283442"
             }
            },
            "type": "scatter"
           }
          ],
          "scatter3d": [
           {
            "line": {
             "colorbar": {
              "outlinewidth": 0,
              "ticks": ""
             }
            },
            "marker": {
             "colorbar": {
              "outlinewidth": 0,
              "ticks": ""
             }
            },
            "type": "scatter3d"
           }
          ],
          "scattercarpet": [
           {
            "marker": {
             "colorbar": {
              "outlinewidth": 0,
              "ticks": ""
             }
            },
            "type": "scattercarpet"
           }
          ],
          "scattergeo": [
           {
            "marker": {
             "colorbar": {
              "outlinewidth": 0,
              "ticks": ""
             }
            },
            "type": "scattergeo"
           }
          ],
          "scattergl": [
           {
            "marker": {
             "line": {
              "color": "#283442"
             }
            },
            "type": "scattergl"
           }
          ],
          "scattermapbox": [
           {
            "marker": {
             "colorbar": {
              "outlinewidth": 0,
              "ticks": ""
             }
            },
            "type": "scattermapbox"
           }
          ],
          "scatterpolar": [
           {
            "marker": {
             "colorbar": {
              "outlinewidth": 0,
              "ticks": ""
             }
            },
            "type": "scatterpolar"
           }
          ],
          "scatterpolargl": [
           {
            "marker": {
             "colorbar": {
              "outlinewidth": 0,
              "ticks": ""
             }
            },
            "type": "scatterpolargl"
           }
          ],
          "scatterternary": [
           {
            "marker": {
             "colorbar": {
              "outlinewidth": 0,
              "ticks": ""
             }
            },
            "type": "scatterternary"
           }
          ],
          "surface": [
           {
            "colorbar": {
             "outlinewidth": 0,
             "ticks": ""
            },
            "colorscale": [
             [
              0,
              "#0d0887"
             ],
             [
              0.1111111111111111,
              "#46039f"
             ],
             [
              0.2222222222222222,
              "#7201a8"
             ],
             [
              0.3333333333333333,
              "#9c179e"
             ],
             [
              0.4444444444444444,
              "#bd3786"
             ],
             [
              0.5555555555555556,
              "#d8576b"
             ],
             [
              0.6666666666666666,
              "#ed7953"
             ],
             [
              0.7777777777777778,
              "#fb9f3a"
             ],
             [
              0.8888888888888888,
              "#fdca26"
             ],
             [
              1,
              "#f0f921"
             ]
            ],
            "type": "surface"
           }
          ],
          "table": [
           {
            "cells": {
             "fill": {
              "color": "#506784"
             },
             "line": {
              "color": "rgb(17,17,17)"
             }
            },
            "header": {
             "fill": {
              "color": "#2a3f5f"
             },
             "line": {
              "color": "rgb(17,17,17)"
             }
            },
            "type": "table"
           }
          ]
         },
         "layout": {
          "annotationdefaults": {
           "arrowcolor": "#f2f5fa",
           "arrowhead": 0,
           "arrowwidth": 1
          },
          "autotypenumbers": "strict",
          "coloraxis": {
           "colorbar": {
            "outlinewidth": 0,
            "ticks": ""
           }
          },
          "colorscale": {
           "diverging": [
            [
             0,
             "#8e0152"
            ],
            [
             0.1,
             "#c51b7d"
            ],
            [
             0.2,
             "#de77ae"
            ],
            [
             0.3,
             "#f1b6da"
            ],
            [
             0.4,
             "#fde0ef"
            ],
            [
             0.5,
             "#f7f7f7"
            ],
            [
             0.6,
             "#e6f5d0"
            ],
            [
             0.7,
             "#b8e186"
            ],
            [
             0.8,
             "#7fbc41"
            ],
            [
             0.9,
             "#4d9221"
            ],
            [
             1,
             "#276419"
            ]
           ],
           "sequential": [
            [
             0,
             "#0d0887"
            ],
            [
             0.1111111111111111,
             "#46039f"
            ],
            [
             0.2222222222222222,
             "#7201a8"
            ],
            [
             0.3333333333333333,
             "#9c179e"
            ],
            [
             0.4444444444444444,
             "#bd3786"
            ],
            [
             0.5555555555555556,
             "#d8576b"
            ],
            [
             0.6666666666666666,
             "#ed7953"
            ],
            [
             0.7777777777777778,
             "#fb9f3a"
            ],
            [
             0.8888888888888888,
             "#fdca26"
            ],
            [
             1,
             "#f0f921"
            ]
           ],
           "sequentialminus": [
            [
             0,
             "#0d0887"
            ],
            [
             0.1111111111111111,
             "#46039f"
            ],
            [
             0.2222222222222222,
             "#7201a8"
            ],
            [
             0.3333333333333333,
             "#9c179e"
            ],
            [
             0.4444444444444444,
             "#bd3786"
            ],
            [
             0.5555555555555556,
             "#d8576b"
            ],
            [
             0.6666666666666666,
             "#ed7953"
            ],
            [
             0.7777777777777778,
             "#fb9f3a"
            ],
            [
             0.8888888888888888,
             "#fdca26"
            ],
            [
             1,
             "#f0f921"
            ]
           ]
          },
          "colorway": [
           "#636efa",
           "#EF553B",
           "#00cc96",
           "#ab63fa",
           "#FFA15A",
           "#19d3f3",
           "#FF6692",
           "#B6E880",
           "#FF97FF",
           "#FECB52"
          ],
          "font": {
           "color": "#f2f5fa"
          },
          "geo": {
           "bgcolor": "rgb(17,17,17)",
           "lakecolor": "rgb(17,17,17)",
           "landcolor": "rgb(17,17,17)",
           "showlakes": true,
           "showland": true,
           "subunitcolor": "#506784"
          },
          "hoverlabel": {
           "align": "left"
          },
          "hovermode": "closest",
          "mapbox": {
           "style": "dark"
          },
          "paper_bgcolor": "rgb(17,17,17)",
          "plot_bgcolor": "rgb(17,17,17)",
          "polar": {
           "angularaxis": {
            "gridcolor": "#506784",
            "linecolor": "#506784",
            "ticks": ""
           },
           "bgcolor": "rgb(17,17,17)",
           "radialaxis": {
            "gridcolor": "#506784",
            "linecolor": "#506784",
            "ticks": ""
           }
          },
          "scene": {
           "xaxis": {
            "backgroundcolor": "rgb(17,17,17)",
            "gridcolor": "#506784",
            "gridwidth": 2,
            "linecolor": "#506784",
            "showbackground": true,
            "ticks": "",
            "zerolinecolor": "#C8D4E3"
           },
           "yaxis": {
            "backgroundcolor": "rgb(17,17,17)",
            "gridcolor": "#506784",
            "gridwidth": 2,
            "linecolor": "#506784",
            "showbackground": true,
            "ticks": "",
            "zerolinecolor": "#C8D4E3"
           },
           "zaxis": {
            "backgroundcolor": "rgb(17,17,17)",
            "gridcolor": "#506784",
            "gridwidth": 2,
            "linecolor": "#506784",
            "showbackground": true,
            "ticks": "",
            "zerolinecolor": "#C8D4E3"
           }
          },
          "shapedefaults": {
           "line": {
            "color": "#f2f5fa"
           }
          },
          "sliderdefaults": {
           "bgcolor": "#C8D4E3",
           "bordercolor": "rgb(17,17,17)",
           "borderwidth": 1,
           "tickwidth": 0
          },
          "ternary": {
           "aaxis": {
            "gridcolor": "#506784",
            "linecolor": "#506784",
            "ticks": ""
           },
           "baxis": {
            "gridcolor": "#506784",
            "linecolor": "#506784",
            "ticks": ""
           },
           "bgcolor": "rgb(17,17,17)",
           "caxis": {
            "gridcolor": "#506784",
            "linecolor": "#506784",
            "ticks": ""
           }
          },
          "title": {
           "x": 0.05
          },
          "updatemenudefaults": {
           "bgcolor": "#506784",
           "borderwidth": 0
          },
          "xaxis": {
           "automargin": true,
           "gridcolor": "#283442",
           "linecolor": "#506784",
           "ticks": "",
           "title": {
            "standoff": 15
           },
           "zerolinecolor": "#283442",
           "zerolinewidth": 2
          },
          "yaxis": {
           "automargin": true,
           "gridcolor": "#283442",
           "linecolor": "#506784",
           "ticks": "",
           "title": {
            "standoff": 15
           },
           "zerolinecolor": "#283442",
           "zerolinewidth": 2
          }
         }
        },
        "title": {
         "text": "Reduced Lightcurve of comet C/2023 A3 (Tsuchinshan-ATLAS)"
        },
        "xaxis": {
         "anchor": "y",
         "domain": [
          0,
          1
         ],
         "title": {
          "text": "Observation Date"
         }
        },
        "yaxis": {
         "anchor": "x",
         "autorange": "reversed",
         "domain": [
          0,
          1
         ],
         "title": {
          "text": "Apparent total magnitude processed"
         }
        }
       }
      }
     },
     "metadata": {},
     "output_type": "display_data"
    }
   ],
   "source": [
    "# Curva de luz reducida\n",
    "labels = {'obs_date':'Observation Date','magnitud_reducida':'Apparent total magnitude processed', 'obs_method_key' : 'Observation Method'}\n",
    "fig = px.scatter(curva_de_luz_procesada_df, x='obs_date', y='magnitud_reducida', color='obs_method_key', template= 'plotly_dark', labels= labels, title='Reduced Lightcurve of comet C/2023 A3 (Tsuchinshan-ATLAS)')\n",
    "fig.update_yaxes(autorange=\"reversed\")\n",
    "fig.show()"
   ]
  },
  {
   "cell_type": "markdown",
   "metadata": {},
   "source": [
    "# Curva de luz interna"
   ]
  },
  {
   "cell_type": "code",
   "execution_count": 21,
   "metadata": {},
   "outputs": [
    {
     "data": {
      "text/html": [
       "<div>\n",
       "<style scoped>\n",
       "    .dataframe tbody tr th:only-of-type {\n",
       "        vertical-align: middle;\n",
       "    }\n",
       "\n",
       "    .dataframe tbody tr th {\n",
       "        vertical-align: top;\n",
       "    }\n",
       "\n",
       "    .dataframe thead th {\n",
       "        text-align: right;\n",
       "    }\n",
       "</style>\n",
       "<table border=\"1\" class=\"dataframe\">\n",
       "  <thead>\n",
       "    <tr style=\"text-align: right;\">\n",
       "      <th></th>\n",
       "      <th>obs_date</th>\n",
       "      <th>obs_method_key</th>\n",
       "      <th>magnitude</th>\n",
       "      <th>delta</th>\n",
       "      <th>r</th>\n",
       "      <th>phase</th>\n",
       "      <th>magnitud_reducida</th>\n",
       "    </tr>\n",
       "  </thead>\n",
       "  <tbody>\n",
       "    <tr>\n",
       "      <th>0</th>\n",
       "      <td>2023-02-25</td>\n",
       "      <td>C</td>\n",
       "      <td>18.3</td>\n",
       "      <td>6.946</td>\n",
       "      <td>7.290</td>\n",
       "      <td>7.5</td>\n",
       "      <td>9.777688</td>\n",
       "    </tr>\n",
       "    <tr>\n",
       "      <th>1</th>\n",
       "      <td>2023-02-26</td>\n",
       "      <td>C</td>\n",
       "      <td>18.1</td>\n",
       "      <td>6.921</td>\n",
       "      <td>7.281</td>\n",
       "      <td>7.4</td>\n",
       "      <td>9.588201</td>\n",
       "    </tr>\n",
       "    <tr>\n",
       "      <th>2</th>\n",
       "      <td>2023-02-27</td>\n",
       "      <td>C</td>\n",
       "      <td>18.0</td>\n",
       "      <td>6.896</td>\n",
       "      <td>7.272</td>\n",
       "      <td>7.4</td>\n",
       "      <td>9.498744</td>\n",
       "    </tr>\n",
       "    <tr>\n",
       "      <th>3</th>\n",
       "      <td>2023-02-28</td>\n",
       "      <td>C</td>\n",
       "      <td>18.2</td>\n",
       "      <td>6.871</td>\n",
       "      <td>7.264</td>\n",
       "      <td>7.4</td>\n",
       "      <td>9.709021</td>\n",
       "    </tr>\n",
       "    <tr>\n",
       "      <th>4</th>\n",
       "      <td>2023-03-01</td>\n",
       "      <td>Z</td>\n",
       "      <td>17.9</td>\n",
       "      <td>6.847</td>\n",
       "      <td>7.255</td>\n",
       "      <td>7.3</td>\n",
       "      <td>9.419311</td>\n",
       "    </tr>\n",
       "    <tr>\n",
       "      <th>...</th>\n",
       "      <td>...</td>\n",
       "      <td>...</td>\n",
       "      <td>...</td>\n",
       "      <td>...</td>\n",
       "      <td>...</td>\n",
       "      <td>...</td>\n",
       "      <td>...</td>\n",
       "    </tr>\n",
       "    <tr>\n",
       "      <th>297</th>\n",
       "      <td>2024-08-07</td>\n",
       "      <td>M</td>\n",
       "      <td>8.7</td>\n",
       "      <td>2.013</td>\n",
       "      <td>1.252</td>\n",
       "      <td>24.4</td>\n",
       "      <td>6.692759</td>\n",
       "    </tr>\n",
       "    <tr>\n",
       "      <th>298</th>\n",
       "      <td>2024-08-09</td>\n",
       "      <td>C</td>\n",
       "      <td>8.7</td>\n",
       "      <td>2.003</td>\n",
       "      <td>1.216</td>\n",
       "      <td>23.6</td>\n",
       "      <td>6.766927</td>\n",
       "    </tr>\n",
       "    <tr>\n",
       "      <th>299</th>\n",
       "      <td>2024-08-10</td>\n",
       "      <td>Z</td>\n",
       "      <td>9.0</td>\n",
       "      <td>1.997</td>\n",
       "      <td>1.198</td>\n",
       "      <td>23.3</td>\n",
       "      <td>7.105826</td>\n",
       "    </tr>\n",
       "    <tr>\n",
       "      <th>300</th>\n",
       "      <td>2024-08-11</td>\n",
       "      <td>Z</td>\n",
       "      <td>8.9</td>\n",
       "      <td>1.991</td>\n",
       "      <td>1.180</td>\n",
       "      <td>22.9</td>\n",
       "      <td>7.045234</td>\n",
       "    </tr>\n",
       "    <tr>\n",
       "      <th>301</th>\n",
       "      <td>2024-08-12</td>\n",
       "      <td>Z</td>\n",
       "      <td>8.2</td>\n",
       "      <td>1.985</td>\n",
       "      <td>1.161</td>\n",
       "      <td>22.5</td>\n",
       "      <td>6.387036</td>\n",
       "    </tr>\n",
       "  </tbody>\n",
       "</table>\n",
       "<p>302 rows × 7 columns</p>\n",
       "</div>"
      ],
      "text/plain": [
       "      obs_date obs_method_key  magnitude  delta      r  phase  \\\n",
       "0   2023-02-25              C       18.3  6.946  7.290    7.5   \n",
       "1   2023-02-26              C       18.1  6.921  7.281    7.4   \n",
       "2   2023-02-27              C       18.0  6.896  7.272    7.4   \n",
       "3   2023-02-28              C       18.2  6.871  7.264    7.4   \n",
       "4   2023-03-01              Z       17.9  6.847  7.255    7.3   \n",
       "..         ...            ...        ...    ...    ...    ...   \n",
       "297 2024-08-07              M        8.7  2.013  1.252   24.4   \n",
       "298 2024-08-09              C        8.7  2.003  1.216   23.6   \n",
       "299 2024-08-10              Z        9.0  1.997  1.198   23.3   \n",
       "300 2024-08-11              Z        8.9  1.991  1.180   22.9   \n",
       "301 2024-08-12              Z        8.2  1.985  1.161   22.5   \n",
       "\n",
       "     magnitud_reducida  \n",
       "0             9.777688  \n",
       "1             9.588201  \n",
       "2             9.498744  \n",
       "3             9.709021  \n",
       "4             9.419311  \n",
       "..                 ...  \n",
       "297           6.692759  \n",
       "298           6.766927  \n",
       "299           7.105826  \n",
       "300           7.045234  \n",
       "301           6.387036  \n",
       "\n",
       "[302 rows x 7 columns]"
      ]
     },
     "execution_count": 21,
     "metadata": {},
     "output_type": "execute_result"
    }
   ],
   "source": [
    "# Creación del data frame curva de luz agrupada\n",
    "curva_de_luz_interna_df = curva_de_luz_procesada_df.groupby(by = 'obs_date').max()\n",
    "curva_de_luz_interna_df = curva_de_luz_interna_df.reset_index()\n",
    "curva_de_luz_interna_df"
   ]
  },
  {
   "cell_type": "code",
   "execution_count": 22,
   "metadata": {},
   "outputs": [
    {
     "data": {
      "application/vnd.plotly.v1+json": {
       "config": {
        "plotlyServerURL": "https://plot.ly"
       },
       "data": [
        {
         "hovertemplate": "Observation Method=C<br>Observation Date=%{x}<br>Max apparent total magnitude reduced=%{y}<extra></extra>",
         "legendgroup": "C",
         "marker": {
          "color": "#636efa",
          "symbol": "circle"
         },
         "mode": "markers",
         "name": "C",
         "orientation": "v",
         "showlegend": true,
         "type": "scatter",
         "x": [
          "2023-02-25T00:00:00",
          "2023-02-26T00:00:00",
          "2023-02-27T00:00:00",
          "2023-02-28T00:00:00",
          "2023-03-03T00:00:00",
          "2023-03-18T00:00:00",
          "2023-03-26T00:00:00",
          "2023-03-30T00:00:00",
          "2023-04-01T00:00:00",
          "2023-04-14T00:00:00",
          "2023-04-17T00:00:00",
          "2023-04-21T00:00:00",
          "2023-04-26T00:00:00",
          "2023-04-27T00:00:00",
          "2023-04-28T00:00:00",
          "2023-05-07T00:00:00",
          "2023-05-14T00:00:00",
          "2023-05-19T00:00:00",
          "2023-05-23T00:00:00",
          "2023-05-25T00:00:00",
          "2023-05-29T00:00:00",
          "2023-05-31T00:00:00",
          "2023-06-01T00:00:00",
          "2023-06-02T00:00:00",
          "2023-06-03T00:00:00",
          "2023-06-05T00:00:00",
          "2023-06-14T00:00:00",
          "2023-06-24T00:00:00",
          "2023-07-12T00:00:00",
          "2023-08-21T00:00:00",
          "2023-09-05T00:00:00",
          "2023-09-06T00:00:00",
          "2023-11-28T00:00:00",
          "2023-12-07T00:00:00",
          "2023-12-10T00:00:00",
          "2023-12-18T00:00:00",
          "2023-12-20T00:00:00",
          "2023-12-21T00:00:00",
          "2023-12-27T00:00:00",
          "2024-01-04T00:00:00",
          "2024-01-05T00:00:00",
          "2024-01-08T00:00:00",
          "2024-01-14T00:00:00",
          "2024-02-10T00:00:00",
          "2024-02-17T00:00:00",
          "2024-02-20T00:00:00",
          "2024-02-24T00:00:00",
          "2024-03-14T00:00:00",
          "2024-03-20T00:00:00",
          "2024-03-22T00:00:00",
          "2024-03-23T00:00:00",
          "2024-03-24T00:00:00",
          "2024-03-25T00:00:00",
          "2024-03-28T00:00:00",
          "2024-03-30T00:00:00",
          "2024-07-19T00:00:00",
          "2024-07-20T00:00:00",
          "2024-07-27T00:00:00",
          "2024-08-09T00:00:00"
         ],
         "xaxis": "x",
         "y": [
          9.77768846353641,
          9.588200598538236,
          9.498744384847162,
          9.709021079730313,
          9.540301335634528,
          9.79435002667703,
          9.27380725262054,
          8.711771363557723,
          6.330705284931748,
          9.145575206297059,
          8.969890220008836,
          9.001253206863078,
          8.837677076007752,
          8.944699793287189,
          8.951357995434751,
          8.808261560274747,
          8.84604458858068,
          8.569344954694646,
          8.386294209662081,
          9.393470582886138,
          8.607824765736739,
          8.614229796505015,
          8.717270365136486,
          8.220315197244881,
          9.023316183716107,
          8.928654085465583,
          8.64925384574761,
          8.565379339145835,
          8.683611232247237,
          7.831083547842726,
          8.068809896572214,
          7.6716980270692545,
          7.478631856595085,
          7.795545744810765,
          7.536935043194171,
          7.254374211891285,
          7.385030225447418,
          7.300880796639255,
          7.397846668706074,
          7.43688021044264,
          7.354719711820417,
          7.510217445052727,
          7.52570316505228,
          7.722190830046349,
          7.797973563567766,
          7.676090844593492,
          6.982064850283093,
          7.41918114783931,
          7.495995175569631,
          7.555155732143198,
          6.984989289753203,
          7.514400874669317,
          7.043817374688717,
          7.1328165557338385,
          7.2912415852232595,
          7.856574527336183,
          7.777890374260884,
          6.747378655650355,
          6.766927378848537
         ],
         "yaxis": "y"
        },
        {
         "hovertemplate": "Observation Method=Z<br>Observation Date=%{x}<br>Max apparent total magnitude reduced=%{y}<extra></extra>",
         "legendgroup": "Z",
         "marker": {
          "color": "#EF553B",
          "symbol": "circle"
         },
         "mode": "markers",
         "name": "Z",
         "orientation": "v",
         "showlegend": true,
         "type": "scatter",
         "x": [
          "2023-03-01T00:00:00",
          "2023-03-02T00:00:00",
          "2023-03-15T00:00:00",
          "2023-03-16T00:00:00",
          "2023-03-19T00:00:00",
          "2023-03-21T00:00:00",
          "2023-03-24T00:00:00",
          "2023-03-28T00:00:00",
          "2023-03-29T00:00:00",
          "2023-04-09T00:00:00",
          "2023-04-11T00:00:00",
          "2023-04-13T00:00:00",
          "2023-04-16T00:00:00",
          "2023-04-20T00:00:00",
          "2023-04-22T00:00:00",
          "2023-04-23T00:00:00",
          "2023-04-24T00:00:00",
          "2023-04-25T00:00:00",
          "2023-04-29T00:00:00",
          "2023-04-30T00:00:00",
          "2023-05-01T00:00:00",
          "2023-05-11T00:00:00",
          "2023-05-13T00:00:00",
          "2023-05-15T00:00:00",
          "2023-05-17T00:00:00",
          "2023-05-18T00:00:00",
          "2023-05-21T00:00:00",
          "2023-05-22T00:00:00",
          "2023-05-24T00:00:00",
          "2023-05-26T00:00:00",
          "2023-05-27T00:00:00",
          "2023-05-28T00:00:00",
          "2023-06-04T00:00:00",
          "2023-06-07T00:00:00",
          "2023-06-08T00:00:00",
          "2023-06-09T00:00:00",
          "2023-06-10T00:00:00",
          "2023-06-11T00:00:00",
          "2023-06-12T00:00:00",
          "2023-06-13T00:00:00",
          "2023-06-15T00:00:00",
          "2023-06-16T00:00:00",
          "2023-06-18T00:00:00",
          "2023-06-19T00:00:00",
          "2023-06-22T00:00:00",
          "2023-06-25T00:00:00",
          "2023-07-06T00:00:00",
          "2023-07-07T00:00:00",
          "2023-07-08T00:00:00",
          "2023-07-13T00:00:00",
          "2023-07-15T00:00:00",
          "2023-07-17T00:00:00",
          "2023-07-18T00:00:00",
          "2023-07-20T00:00:00",
          "2023-08-02T00:00:00",
          "2023-08-06T00:00:00",
          "2023-08-07T00:00:00",
          "2023-08-08T00:00:00",
          "2023-08-16T00:00:00",
          "2023-08-18T00:00:00",
          "2023-09-03T00:00:00",
          "2023-09-10T00:00:00",
          "2023-12-15T00:00:00",
          "2023-12-19T00:00:00",
          "2023-12-22T00:00:00",
          "2023-12-31T00:00:00",
          "2024-01-09T00:00:00",
          "2024-01-10T00:00:00",
          "2024-01-13T00:00:00",
          "2024-01-17T00:00:00",
          "2024-01-20T00:00:00",
          "2024-01-21T00:00:00",
          "2024-01-22T00:00:00",
          "2024-01-28T00:00:00",
          "2024-02-05T00:00:00",
          "2024-02-08T00:00:00",
          "2024-02-09T00:00:00",
          "2024-02-13T00:00:00",
          "2024-02-14T00:00:00",
          "2024-02-16T00:00:00",
          "2024-02-18T00:00:00",
          "2024-02-19T00:00:00",
          "2024-02-21T00:00:00",
          "2024-02-25T00:00:00",
          "2024-02-29T00:00:00",
          "2024-03-03T00:00:00",
          "2024-03-04T00:00:00",
          "2024-03-06T00:00:00",
          "2024-03-11T00:00:00",
          "2024-03-13T00:00:00",
          "2024-03-15T00:00:00",
          "2024-03-16T00:00:00",
          "2024-03-17T00:00:00",
          "2024-03-18T00:00:00",
          "2024-03-21T00:00:00",
          "2024-03-29T00:00:00",
          "2024-03-31T00:00:00",
          "2024-04-02T00:00:00",
          "2024-04-03T00:00:00",
          "2024-04-04T00:00:00",
          "2024-04-07T00:00:00",
          "2024-04-09T00:00:00",
          "2024-04-10T00:00:00",
          "2024-04-11T00:00:00",
          "2024-04-13T00:00:00",
          "2024-04-14T00:00:00",
          "2024-04-16T00:00:00",
          "2024-04-18T00:00:00",
          "2024-04-19T00:00:00",
          "2024-04-20T00:00:00",
          "2024-04-21T00:00:00",
          "2024-04-22T00:00:00",
          "2024-04-23T00:00:00",
          "2024-04-24T00:00:00",
          "2024-04-26T00:00:00",
          "2024-04-27T00:00:00",
          "2024-04-29T00:00:00",
          "2024-05-06T00:00:00",
          "2024-05-08T00:00:00",
          "2024-05-11T00:00:00",
          "2024-05-14T00:00:00",
          "2024-05-17T00:00:00",
          "2024-05-20T00:00:00",
          "2024-05-22T00:00:00",
          "2024-05-23T00:00:00",
          "2024-05-24T00:00:00",
          "2024-05-25T00:00:00",
          "2024-05-27T00:00:00",
          "2024-05-28T00:00:00",
          "2024-05-29T00:00:00",
          "2024-05-30T00:00:00",
          "2024-06-01T00:00:00",
          "2024-06-02T00:00:00",
          "2024-06-03T00:00:00",
          "2024-06-04T00:00:00",
          "2024-06-06T00:00:00",
          "2024-06-07T00:00:00",
          "2024-06-09T00:00:00",
          "2024-06-12T00:00:00",
          "2024-06-13T00:00:00",
          "2024-06-15T00:00:00",
          "2024-06-16T00:00:00",
          "2024-06-17T00:00:00",
          "2024-06-18T00:00:00",
          "2024-06-20T00:00:00",
          "2024-06-21T00:00:00",
          "2024-06-23T00:00:00",
          "2024-06-24T00:00:00",
          "2024-06-25T00:00:00",
          "2024-06-29T00:00:00",
          "2024-06-30T00:00:00",
          "2024-07-01T00:00:00",
          "2024-07-02T00:00:00",
          "2024-07-03T00:00:00",
          "2024-07-04T00:00:00",
          "2024-07-05T00:00:00",
          "2024-07-06T00:00:00",
          "2024-07-08T00:00:00",
          "2024-07-16T00:00:00",
          "2024-07-18T00:00:00",
          "2024-07-23T00:00:00",
          "2024-07-26T00:00:00",
          "2024-07-29T00:00:00",
          "2024-07-31T00:00:00",
          "2024-08-01T00:00:00",
          "2024-08-02T00:00:00",
          "2024-08-03T00:00:00",
          "2024-08-04T00:00:00",
          "2024-08-06T00:00:00",
          "2024-08-10T00:00:00",
          "2024-08-11T00:00:00",
          "2024-08-12T00:00:00"
         ],
         "xaxis": "x",
         "y": [
          9.41931127679463,
          9.729949776150518,
          9.46400921278279,
          9.774094376263593,
          9.404214837074194,
          10.124302637475388,
          9.354130517548699,
          9.49289494852166,
          9.30265033016928,
          9.3030927188362,
          9.320320197413741,
          9.137260199155373,
          8.06189103779069,
          9.293562182359604,
          9.308586893035496,
          9.116306187664204,
          9.523293263560605,
          8.830666044044797,
          9.058026591864017,
          9.164705615597644,
          9.371718789527325,
          8.230311475859931,
          9.140830337421882,
          9.05093550651867,
          9.66034926783923,
          9.164871523514263,
          9.178029493483717,
          9.081799461343142,
          9.590073624681054,
          9.197258756756082,
          9.100999938016749,
          9.304410209976997,
          9.425982949645828,
          9.03396370918869,
          9.136261886497483,
          9.038520249111448,
          9.040828314675432,
          8.74309796156843,
          9.545030032818111,
          9.14696712486939,
          8.551201508057162,
          9.05311481977086,
          9.056267814531829,
          8.958199849582822,
          8.362571567345427,
          8.866618194097388,
          9.078260312066714,
          8.979561629913846,
          8.980136685956133,
          8.584587161815236,
          8.98583117831157,
          8.987484210120021,
          8.888505239378471,
          8.890210495386773,
          9.102339151549796,
          8.507055305629482,
          8.708259583302688,
          8.709836548760181,
          8.821644139516442,
          8.825322522637423,
          8.562701080398085,
          8.58474649732776,
          7.809247915543674,
          7.669672883600112,
          7.616358935255571,
          7.966286247386897,
          7.829405039851276,
          7.64816448276436,
          7.90553681521816,
          8.185277107719845,
          7.746326012944569,
          8.067777832679345,
          7.888289557934352,
          7.81874314267404,
          7.801903893786759,
          7.97325070633615,
          7.797937026952838,
          7.895972534074211,
          7.5215148542016985,
          8.372517883111112,
          7.52360983228462,
          7.450079023669569,
          7.6022921952120335,
          7.709056159698976,
          7.519014896378757,
          7.702385796113565,
          7.730370730137898,
          7.587633998671377,
          7.731457520757079,
          7.589005975472313,
          7.54814529850623,
          7.577992841283335,
          7.506600978822995,
          7.636935706531489,
          7.5255616629280295,
          7.362253054320585,
          7.42114682777114,
          7.1797297742738575,
          7.308378892533192,
          7.238241779574556,
          7.22242903378465,
          7.079034233232122,
          7.206074376370882,
          7.034360526155913,
          7.189047719471907,
          7.2146824916623515,
          7.367545380690627,
          7.117755941777007,
          7.242709509689581,
          7.8670656230823734,
          7.091564981789912,
          7.015060721987424,
          7.238288575830287,
          7.360882716315896,
          7.504849199115477,
          7.426615974451601,
          7.567681067059485,
          7.99593648456457,
          8.129617966513846,
          7.874309856490534,
          8.11547179326891,
          7.852266519968009,
          8.28470466573652,
          8.30543818446374,
          7.516177835926268,
          8.224882134082598,
          8.53366390239805,
          7.652366907187027,
          7.860169604542368,
          8.668972810409025,
          7.576953022809384,
          8.092898130298215,
          7.600882497713609,
          8.508030875448398,
          7.8162259953577635,
          7.730792475636591,
          8.239318092713829,
          10.054346851586233,
          8.076813751254036,
          8.384881467655944,
          8.500243668851319,
          6.808702989545561,
          7.218332098199159,
          8.025917643988231,
          8.043796305175933,
          8.45401094327556,
          7.971610887596346,
          8.282286075607356,
          8.09202076559648,
          7.936966177987593,
          10.048624788294218,
          7.760402708387556,
          8.073500577652371,
          8.185677165665664,
          9.099129707461861,
          7.91385273315898,
          7.7276656535868105,
          7.356935211239989,
          7.8954505582572505,
          7.935802536268006,
          7.046595002646143,
          7.420952783225897,
          6.602675679291582,
          6.96037515371456,
          7.491080648531334,
          7.421618902775725,
          7.054149839314864,
          6.587086910183416,
          6.556375585715757,
          7.105825585380024,
          7.045233663332326,
          6.3870363458114605
         ],
         "yaxis": "y"
        },
        {
         "hovertemplate": "Observation Method=V<br>Observation Date=%{x}<br>Max apparent total magnitude reduced=%{y}<extra></extra>",
         "legendgroup": "V",
         "marker": {
          "color": "#00cc96",
          "symbol": "circle"
         },
         "mode": "markers",
         "name": "V",
         "orientation": "v",
         "showlegend": true,
         "type": "scatter",
         "x": [
          "2023-03-22T00:00:00",
          "2023-05-16T00:00:00",
          "2023-07-11T00:00:00",
          "2023-08-13T00:00:00",
          "2023-12-25T00:00:00",
          "2024-02-07T00:00:00",
          "2024-04-17T00:00:00",
          "2024-05-05T00:00:00",
          "2024-05-15T00:00:00",
          "2024-06-19T00:00:00",
          "2024-06-28T00:00:00",
          "2024-07-13T00:00:00",
          "2024-07-15T00:00:00",
          "2024-08-05T00:00:00"
         ],
         "xaxis": "x",
         "y": [
          10.234218051745135,
          9.05544714413071,
          8.78300362714047,
          8.61711152487418,
          7.764985234101802,
          7.549318697164514,
          7.0925739819870675,
          7.5806150471236915,
          8.027259574729865,
          7.934788690498367,
          8.52548078189383,
          7.839817501851726,
          9.476416532211342,
          7.321514928606122
         ],
         "yaxis": "y"
        },
        {
         "hovertemplate": "Observation Method=S<br>Observation Date=%{x}<br>Max apparent total magnitude reduced=%{y}<extra></extra>",
         "legendgroup": "S",
         "marker": {
          "color": "#ab63fa",
          "symbol": "circle"
         },
         "mode": "markers",
         "name": "S",
         "orientation": "v",
         "showlegend": true,
         "type": "scatter",
         "x": [
          "2024-01-07T00:00:00",
          "2024-02-12T00:00:00",
          "2024-03-05T00:00:00",
          "2024-03-07T00:00:00",
          "2024-03-08T00:00:00",
          "2024-03-09T00:00:00",
          "2024-03-10T00:00:00",
          "2024-03-19T00:00:00",
          "2024-04-01T00:00:00",
          "2024-04-05T00:00:00",
          "2024-05-18T00:00:00",
          "2024-05-19T00:00:00",
          "2024-06-08T00:00:00",
          "2024-06-14T00:00:00",
          "2024-06-22T00:00:00",
          "2024-07-07T00:00:00",
          "2024-07-09T00:00:00",
          "2024-07-10T00:00:00",
          "2024-07-11T00:00:00",
          "2024-07-12T00:00:00",
          "2024-07-14T00:00:00",
          "2024-07-17T00:00:00",
          "2024-07-21T00:00:00",
          "2024-07-24T00:00:00",
          "2024-07-28T00:00:00",
          "2024-07-30T00:00:00"
         ],
         "xaxis": "x",
         "y": [
          7.291643670235589,
          7.47122192948594,
          7.659198551148374,
          7.815539807169844,
          7.7450598259079095,
          7.573418539361616,
          7.002005030399787,
          7.566018426552535,
          7.450324495237165,
          7.066331737684462,
          6.263011790111697,
          6.573824258283425,
          8.346771568170652,
          7.793077136165832,
          7.362172487455204,
          7.241664545274473,
          7.6723931747668335,
          7.689295786179758,
          7.705149887042227,
          7.8222762584216525,
          7.457356271181112,
          6.916038474873535,
          7.800527887623618,
          6.871099100020524,
          6.5745601672906915,
          6.831600002299346
         ],
         "yaxis": "y"
        },
        {
         "hovertemplate": "Observation Method=M<br>Observation Date=%{x}<br>Max apparent total magnitude reduced=%{y}<extra></extra>",
         "legendgroup": "M",
         "marker": {
          "color": "#FFA15A",
          "symbol": "circle"
         },
         "mode": "markers",
         "name": "M",
         "orientation": "v",
         "showlegend": true,
         "type": "scatter",
         "x": [
          "2024-01-18T00:00:00",
          "2024-01-24T00:00:00",
          "2024-01-29T00:00:00",
          "2024-03-12T00:00:00",
          "2024-04-06T00:00:00",
          "2024-04-08T00:00:00",
          "2024-04-25T00:00:00",
          "2024-06-27T00:00:00",
          "2024-07-22T00:00:00",
          "2024-07-25T00:00:00",
          "2024-08-07T00:00:00"
         ],
         "xaxis": "x",
         "y": [
          7.70533767923335,
          7.831276767658857,
          7.840666674797879,
          7.660514283185994,
          7.493926373199771,
          7.051144564152951,
          6.88242857239918,
          7.013051759018365,
          7.423427484762618,
          7.0958828742317195,
          6.692759481184672
         ],
         "yaxis": "y"
        },
        {
         "hovertemplate": "Observation Method=c<br>Observation Date=%{x}<br>Max apparent total magnitude reduced=%{y}<extra></extra>",
         "legendgroup": "c",
         "marker": {
          "color": "#19d3f3",
          "symbol": "circle"
         },
         "mode": "markers",
         "name": "c",
         "orientation": "v",
         "showlegend": true,
         "type": "scatter",
         "x": [
          "2024-04-12T00:00:00",
          "2024-04-30T00:00:00",
          "2024-05-04T00:00:00",
          "2024-05-09T00:00:00",
          "2024-05-10T00:00:00",
          "2024-05-16T00:00:00"
         ],
         "xaxis": "x",
         "y": [
          7.060716929611952,
          8.588152379371634,
          8.462126911496767,
          9.144723876704813,
          9.259074372110849,
          8.640349354136717
         ],
         "yaxis": "y"
        },
        {
         "hovertemplate": "Observation Method=k<br>Observation Date=%{x}<br>Max apparent total magnitude reduced=%{y}<extra></extra>",
         "legendgroup": "k",
         "marker": {
          "color": "#FF6692",
          "symbol": "circle"
         },
         "mode": "markers",
         "name": "k",
         "orientation": "v",
         "showlegend": true,
         "type": "scatter",
         "x": [
          "2024-04-15T00:00:00",
          "2024-04-28T00:00:00",
          "2024-05-01T00:00:00",
          "2024-05-02T00:00:00",
          "2024-05-03T00:00:00",
          "2024-05-07T00:00:00",
          "2024-05-12T00:00:00",
          "2024-05-13T00:00:00",
          "2024-05-31T00:00:00",
          "2024-06-10T00:00:00",
          "2024-06-11T00:00:00",
          "2024-06-26T00:00:00"
         ],
         "xaxis": "x",
         "y": [
          7.441573977423545,
          8.248080223386951,
          7.3067335589917555,
          7.426184522535053,
          7.7437205874697765,
          7.813352958635716,
          9.188377730088607,
          9.401274452669433,
          8.485946808370269,
          8.26105697597459,
          7.668872679439234,
          7.703013200087316
         ],
         "yaxis": "y"
        },
        {
         "hovertemplate": "Observation Method=d<br>Observation Date=%{x}<br>Max apparent total magnitude reduced=%{y}<extra></extra>",
         "legendgroup": "d",
         "marker": {
          "color": "#B6E880",
          "symbol": "circle"
         },
         "mode": "markers",
         "name": "d",
         "orientation": "v",
         "showlegend": true,
         "type": "scatter",
         "x": [
          "2024-05-26T00:00:00",
          "2024-06-05T00:00:00"
         ],
         "xaxis": "x",
         "y": [
          8.143422544304155,
          8.324531182040667
         ],
         "yaxis": "y"
        }
       ],
       "layout": {
        "legend": {
         "title": {
          "text": "Observation Method"
         },
         "tracegroupgap": 0
        },
        "template": {
         "data": {
          "bar": [
           {
            "error_x": {
             "color": "#f2f5fa"
            },
            "error_y": {
             "color": "#f2f5fa"
            },
            "marker": {
             "line": {
              "color": "rgb(17,17,17)",
              "width": 0.5
             },
             "pattern": {
              "fillmode": "overlay",
              "size": 10,
              "solidity": 0.2
             }
            },
            "type": "bar"
           }
          ],
          "barpolar": [
           {
            "marker": {
             "line": {
              "color": "rgb(17,17,17)",
              "width": 0.5
             },
             "pattern": {
              "fillmode": "overlay",
              "size": 10,
              "solidity": 0.2
             }
            },
            "type": "barpolar"
           }
          ],
          "carpet": [
           {
            "aaxis": {
             "endlinecolor": "#A2B1C6",
             "gridcolor": "#506784",
             "linecolor": "#506784",
             "minorgridcolor": "#506784",
             "startlinecolor": "#A2B1C6"
            },
            "baxis": {
             "endlinecolor": "#A2B1C6",
             "gridcolor": "#506784",
             "linecolor": "#506784",
             "minorgridcolor": "#506784",
             "startlinecolor": "#A2B1C6"
            },
            "type": "carpet"
           }
          ],
          "choropleth": [
           {
            "colorbar": {
             "outlinewidth": 0,
             "ticks": ""
            },
            "type": "choropleth"
           }
          ],
          "contour": [
           {
            "colorbar": {
             "outlinewidth": 0,
             "ticks": ""
            },
            "colorscale": [
             [
              0,
              "#0d0887"
             ],
             [
              0.1111111111111111,
              "#46039f"
             ],
             [
              0.2222222222222222,
              "#7201a8"
             ],
             [
              0.3333333333333333,
              "#9c179e"
             ],
             [
              0.4444444444444444,
              "#bd3786"
             ],
             [
              0.5555555555555556,
              "#d8576b"
             ],
             [
              0.6666666666666666,
              "#ed7953"
             ],
             [
              0.7777777777777778,
              "#fb9f3a"
             ],
             [
              0.8888888888888888,
              "#fdca26"
             ],
             [
              1,
              "#f0f921"
             ]
            ],
            "type": "contour"
           }
          ],
          "contourcarpet": [
           {
            "colorbar": {
             "outlinewidth": 0,
             "ticks": ""
            },
            "type": "contourcarpet"
           }
          ],
          "heatmap": [
           {
            "colorbar": {
             "outlinewidth": 0,
             "ticks": ""
            },
            "colorscale": [
             [
              0,
              "#0d0887"
             ],
             [
              0.1111111111111111,
              "#46039f"
             ],
             [
              0.2222222222222222,
              "#7201a8"
             ],
             [
              0.3333333333333333,
              "#9c179e"
             ],
             [
              0.4444444444444444,
              "#bd3786"
             ],
             [
              0.5555555555555556,
              "#d8576b"
             ],
             [
              0.6666666666666666,
              "#ed7953"
             ],
             [
              0.7777777777777778,
              "#fb9f3a"
             ],
             [
              0.8888888888888888,
              "#fdca26"
             ],
             [
              1,
              "#f0f921"
             ]
            ],
            "type": "heatmap"
           }
          ],
          "heatmapgl": [
           {
            "colorbar": {
             "outlinewidth": 0,
             "ticks": ""
            },
            "colorscale": [
             [
              0,
              "#0d0887"
             ],
             [
              0.1111111111111111,
              "#46039f"
             ],
             [
              0.2222222222222222,
              "#7201a8"
             ],
             [
              0.3333333333333333,
              "#9c179e"
             ],
             [
              0.4444444444444444,
              "#bd3786"
             ],
             [
              0.5555555555555556,
              "#d8576b"
             ],
             [
              0.6666666666666666,
              "#ed7953"
             ],
             [
              0.7777777777777778,
              "#fb9f3a"
             ],
             [
              0.8888888888888888,
              "#fdca26"
             ],
             [
              1,
              "#f0f921"
             ]
            ],
            "type": "heatmapgl"
           }
          ],
          "histogram": [
           {
            "marker": {
             "pattern": {
              "fillmode": "overlay",
              "size": 10,
              "solidity": 0.2
             }
            },
            "type": "histogram"
           }
          ],
          "histogram2d": [
           {
            "colorbar": {
             "outlinewidth": 0,
             "ticks": ""
            },
            "colorscale": [
             [
              0,
              "#0d0887"
             ],
             [
              0.1111111111111111,
              "#46039f"
             ],
             [
              0.2222222222222222,
              "#7201a8"
             ],
             [
              0.3333333333333333,
              "#9c179e"
             ],
             [
              0.4444444444444444,
              "#bd3786"
             ],
             [
              0.5555555555555556,
              "#d8576b"
             ],
             [
              0.6666666666666666,
              "#ed7953"
             ],
             [
              0.7777777777777778,
              "#fb9f3a"
             ],
             [
              0.8888888888888888,
              "#fdca26"
             ],
             [
              1,
              "#f0f921"
             ]
            ],
            "type": "histogram2d"
           }
          ],
          "histogram2dcontour": [
           {
            "colorbar": {
             "outlinewidth": 0,
             "ticks": ""
            },
            "colorscale": [
             [
              0,
              "#0d0887"
             ],
             [
              0.1111111111111111,
              "#46039f"
             ],
             [
              0.2222222222222222,
              "#7201a8"
             ],
             [
              0.3333333333333333,
              "#9c179e"
             ],
             [
              0.4444444444444444,
              "#bd3786"
             ],
             [
              0.5555555555555556,
              "#d8576b"
             ],
             [
              0.6666666666666666,
              "#ed7953"
             ],
             [
              0.7777777777777778,
              "#fb9f3a"
             ],
             [
              0.8888888888888888,
              "#fdca26"
             ],
             [
              1,
              "#f0f921"
             ]
            ],
            "type": "histogram2dcontour"
           }
          ],
          "mesh3d": [
           {
            "colorbar": {
             "outlinewidth": 0,
             "ticks": ""
            },
            "type": "mesh3d"
           }
          ],
          "parcoords": [
           {
            "line": {
             "colorbar": {
              "outlinewidth": 0,
              "ticks": ""
             }
            },
            "type": "parcoords"
           }
          ],
          "pie": [
           {
            "automargin": true,
            "type": "pie"
           }
          ],
          "scatter": [
           {
            "marker": {
             "line": {
              "color": "#283442"
             }
            },
            "type": "scatter"
           }
          ],
          "scatter3d": [
           {
            "line": {
             "colorbar": {
              "outlinewidth": 0,
              "ticks": ""
             }
            },
            "marker": {
             "colorbar": {
              "outlinewidth": 0,
              "ticks": ""
             }
            },
            "type": "scatter3d"
           }
          ],
          "scattercarpet": [
           {
            "marker": {
             "colorbar": {
              "outlinewidth": 0,
              "ticks": ""
             }
            },
            "type": "scattercarpet"
           }
          ],
          "scattergeo": [
           {
            "marker": {
             "colorbar": {
              "outlinewidth": 0,
              "ticks": ""
             }
            },
            "type": "scattergeo"
           }
          ],
          "scattergl": [
           {
            "marker": {
             "line": {
              "color": "#283442"
             }
            },
            "type": "scattergl"
           }
          ],
          "scattermapbox": [
           {
            "marker": {
             "colorbar": {
              "outlinewidth": 0,
              "ticks": ""
             }
            },
            "type": "scattermapbox"
           }
          ],
          "scatterpolar": [
           {
            "marker": {
             "colorbar": {
              "outlinewidth": 0,
              "ticks": ""
             }
            },
            "type": "scatterpolar"
           }
          ],
          "scatterpolargl": [
           {
            "marker": {
             "colorbar": {
              "outlinewidth": 0,
              "ticks": ""
             }
            },
            "type": "scatterpolargl"
           }
          ],
          "scatterternary": [
           {
            "marker": {
             "colorbar": {
              "outlinewidth": 0,
              "ticks": ""
             }
            },
            "type": "scatterternary"
           }
          ],
          "surface": [
           {
            "colorbar": {
             "outlinewidth": 0,
             "ticks": ""
            },
            "colorscale": [
             [
              0,
              "#0d0887"
             ],
             [
              0.1111111111111111,
              "#46039f"
             ],
             [
              0.2222222222222222,
              "#7201a8"
             ],
             [
              0.3333333333333333,
              "#9c179e"
             ],
             [
              0.4444444444444444,
              "#bd3786"
             ],
             [
              0.5555555555555556,
              "#d8576b"
             ],
             [
              0.6666666666666666,
              "#ed7953"
             ],
             [
              0.7777777777777778,
              "#fb9f3a"
             ],
             [
              0.8888888888888888,
              "#fdca26"
             ],
             [
              1,
              "#f0f921"
             ]
            ],
            "type": "surface"
           }
          ],
          "table": [
           {
            "cells": {
             "fill": {
              "color": "#506784"
             },
             "line": {
              "color": "rgb(17,17,17)"
             }
            },
            "header": {
             "fill": {
              "color": "#2a3f5f"
             },
             "line": {
              "color": "rgb(17,17,17)"
             }
            },
            "type": "table"
           }
          ]
         },
         "layout": {
          "annotationdefaults": {
           "arrowcolor": "#f2f5fa",
           "arrowhead": 0,
           "arrowwidth": 1
          },
          "autotypenumbers": "strict",
          "coloraxis": {
           "colorbar": {
            "outlinewidth": 0,
            "ticks": ""
           }
          },
          "colorscale": {
           "diverging": [
            [
             0,
             "#8e0152"
            ],
            [
             0.1,
             "#c51b7d"
            ],
            [
             0.2,
             "#de77ae"
            ],
            [
             0.3,
             "#f1b6da"
            ],
            [
             0.4,
             "#fde0ef"
            ],
            [
             0.5,
             "#f7f7f7"
            ],
            [
             0.6,
             "#e6f5d0"
            ],
            [
             0.7,
             "#b8e186"
            ],
            [
             0.8,
             "#7fbc41"
            ],
            [
             0.9,
             "#4d9221"
            ],
            [
             1,
             "#276419"
            ]
           ],
           "sequential": [
            [
             0,
             "#0d0887"
            ],
            [
             0.1111111111111111,
             "#46039f"
            ],
            [
             0.2222222222222222,
             "#7201a8"
            ],
            [
             0.3333333333333333,
             "#9c179e"
            ],
            [
             0.4444444444444444,
             "#bd3786"
            ],
            [
             0.5555555555555556,
             "#d8576b"
            ],
            [
             0.6666666666666666,
             "#ed7953"
            ],
            [
             0.7777777777777778,
             "#fb9f3a"
            ],
            [
             0.8888888888888888,
             "#fdca26"
            ],
            [
             1,
             "#f0f921"
            ]
           ],
           "sequentialminus": [
            [
             0,
             "#0d0887"
            ],
            [
             0.1111111111111111,
             "#46039f"
            ],
            [
             0.2222222222222222,
             "#7201a8"
            ],
            [
             0.3333333333333333,
             "#9c179e"
            ],
            [
             0.4444444444444444,
             "#bd3786"
            ],
            [
             0.5555555555555556,
             "#d8576b"
            ],
            [
             0.6666666666666666,
             "#ed7953"
            ],
            [
             0.7777777777777778,
             "#fb9f3a"
            ],
            [
             0.8888888888888888,
             "#fdca26"
            ],
            [
             1,
             "#f0f921"
            ]
           ]
          },
          "colorway": [
           "#636efa",
           "#EF553B",
           "#00cc96",
           "#ab63fa",
           "#FFA15A",
           "#19d3f3",
           "#FF6692",
           "#B6E880",
           "#FF97FF",
           "#FECB52"
          ],
          "font": {
           "color": "#f2f5fa"
          },
          "geo": {
           "bgcolor": "rgb(17,17,17)",
           "lakecolor": "rgb(17,17,17)",
           "landcolor": "rgb(17,17,17)",
           "showlakes": true,
           "showland": true,
           "subunitcolor": "#506784"
          },
          "hoverlabel": {
           "align": "left"
          },
          "hovermode": "closest",
          "mapbox": {
           "style": "dark"
          },
          "paper_bgcolor": "rgb(17,17,17)",
          "plot_bgcolor": "rgb(17,17,17)",
          "polar": {
           "angularaxis": {
            "gridcolor": "#506784",
            "linecolor": "#506784",
            "ticks": ""
           },
           "bgcolor": "rgb(17,17,17)",
           "radialaxis": {
            "gridcolor": "#506784",
            "linecolor": "#506784",
            "ticks": ""
           }
          },
          "scene": {
           "xaxis": {
            "backgroundcolor": "rgb(17,17,17)",
            "gridcolor": "#506784",
            "gridwidth": 2,
            "linecolor": "#506784",
            "showbackground": true,
            "ticks": "",
            "zerolinecolor": "#C8D4E3"
           },
           "yaxis": {
            "backgroundcolor": "rgb(17,17,17)",
            "gridcolor": "#506784",
            "gridwidth": 2,
            "linecolor": "#506784",
            "showbackground": true,
            "ticks": "",
            "zerolinecolor": "#C8D4E3"
           },
           "zaxis": {
            "backgroundcolor": "rgb(17,17,17)",
            "gridcolor": "#506784",
            "gridwidth": 2,
            "linecolor": "#506784",
            "showbackground": true,
            "ticks": "",
            "zerolinecolor": "#C8D4E3"
           }
          },
          "shapedefaults": {
           "line": {
            "color": "#f2f5fa"
           }
          },
          "sliderdefaults": {
           "bgcolor": "#C8D4E3",
           "bordercolor": "rgb(17,17,17)",
           "borderwidth": 1,
           "tickwidth": 0
          },
          "ternary": {
           "aaxis": {
            "gridcolor": "#506784",
            "linecolor": "#506784",
            "ticks": ""
           },
           "baxis": {
            "gridcolor": "#506784",
            "linecolor": "#506784",
            "ticks": ""
           },
           "bgcolor": "rgb(17,17,17)",
           "caxis": {
            "gridcolor": "#506784",
            "linecolor": "#506784",
            "ticks": ""
           }
          },
          "title": {
           "x": 0.05
          },
          "updatemenudefaults": {
           "bgcolor": "#506784",
           "borderwidth": 0
          },
          "xaxis": {
           "automargin": true,
           "gridcolor": "#283442",
           "linecolor": "#506784",
           "ticks": "",
           "title": {
            "standoff": 15
           },
           "zerolinecolor": "#283442",
           "zerolinewidth": 2
          },
          "yaxis": {
           "automargin": true,
           "gridcolor": "#283442",
           "linecolor": "#506784",
           "ticks": "",
           "title": {
            "standoff": 15
           },
           "zerolinecolor": "#283442",
           "zerolinewidth": 2
          }
         }
        },
        "title": {
         "text": "Min Lightcurve of comet C/2023 A3 (Tsuchinshan-ATLAS)"
        },
        "xaxis": {
         "anchor": "y",
         "domain": [
          0,
          1
         ],
         "title": {
          "text": "Observation Date"
         }
        },
        "yaxis": {
         "anchor": "x",
         "autorange": "reversed",
         "domain": [
          0,
          1
         ],
         "title": {
          "text": "Max apparent total magnitude reduced"
         }
        }
       }
      }
     },
     "metadata": {},
     "output_type": "display_data"
    }
   ],
   "source": [
    "# Curva de luz reducida\n",
    "labels = {'obs_date':'Observation Date','magnitud_reducida':'Max apparent total magnitude reduced', 'obs_method_key' : 'Observation Method'}\n",
    "fig = px.scatter(curva_de_luz_interna_df, x=curva_de_luz_interna_df.obs_date, y='magnitud_reducida', color='obs_method_key', template= 'plotly_dark', labels= labels, title='Min Lightcurve of comet C/2023 A3 (Tsuchinshan-ATLAS)')\n",
    "fig.update_yaxes(autorange=\"reversed\")\n",
    "fig.show()"
   ]
  },
  {
   "cell_type": "code",
   "execution_count": 23,
   "metadata": {},
   "outputs": [
    {
     "data": {
      "text/html": [
       "<div>\n",
       "<style scoped>\n",
       "    .dataframe tbody tr th:only-of-type {\n",
       "        vertical-align: middle;\n",
       "    }\n",
       "\n",
       "    .dataframe tbody tr th {\n",
       "        vertical-align: top;\n",
       "    }\n",
       "\n",
       "    .dataframe thead th {\n",
       "        text-align: right;\n",
       "    }\n",
       "</style>\n",
       "<table border=\"1\" class=\"dataframe\">\n",
       "  <thead>\n",
       "    <tr style=\"text-align: right;\">\n",
       "      <th></th>\n",
       "      <th>obs_date</th>\n",
       "      <th>obs_method_key</th>\n",
       "      <th>magnitude</th>\n",
       "      <th>delta</th>\n",
       "      <th>r</th>\n",
       "      <th>phase</th>\n",
       "      <th>magnitud_reducida</th>\n",
       "      <th>promedio_movil</th>\n",
       "    </tr>\n",
       "  </thead>\n",
       "  <tbody>\n",
       "    <tr>\n",
       "      <th>0</th>\n",
       "      <td>2023-02-25</td>\n",
       "      <td>C</td>\n",
       "      <td>18.3</td>\n",
       "      <td>6.946</td>\n",
       "      <td>7.290</td>\n",
       "      <td>7.5</td>\n",
       "      <td>9.777688</td>\n",
       "      <td>NaN</td>\n",
       "    </tr>\n",
       "    <tr>\n",
       "      <th>1</th>\n",
       "      <td>2023-02-26</td>\n",
       "      <td>C</td>\n",
       "      <td>18.1</td>\n",
       "      <td>6.921</td>\n",
       "      <td>7.281</td>\n",
       "      <td>7.4</td>\n",
       "      <td>9.588201</td>\n",
       "      <td>NaN</td>\n",
       "    </tr>\n",
       "    <tr>\n",
       "      <th>2</th>\n",
       "      <td>2023-02-27</td>\n",
       "      <td>C</td>\n",
       "      <td>18.0</td>\n",
       "      <td>6.896</td>\n",
       "      <td>7.272</td>\n",
       "      <td>7.4</td>\n",
       "      <td>9.498744</td>\n",
       "      <td>NaN</td>\n",
       "    </tr>\n",
       "    <tr>\n",
       "      <th>3</th>\n",
       "      <td>2023-02-28</td>\n",
       "      <td>C</td>\n",
       "      <td>18.2</td>\n",
       "      <td>6.871</td>\n",
       "      <td>7.264</td>\n",
       "      <td>7.4</td>\n",
       "      <td>9.709021</td>\n",
       "      <td>NaN</td>\n",
       "    </tr>\n",
       "    <tr>\n",
       "      <th>4</th>\n",
       "      <td>2023-03-01</td>\n",
       "      <td>Z</td>\n",
       "      <td>17.9</td>\n",
       "      <td>6.847</td>\n",
       "      <td>7.255</td>\n",
       "      <td>7.3</td>\n",
       "      <td>9.419311</td>\n",
       "      <td>NaN</td>\n",
       "    </tr>\n",
       "    <tr>\n",
       "      <th>...</th>\n",
       "      <td>...</td>\n",
       "      <td>...</td>\n",
       "      <td>...</td>\n",
       "      <td>...</td>\n",
       "      <td>...</td>\n",
       "      <td>...</td>\n",
       "      <td>...</td>\n",
       "      <td>...</td>\n",
       "    </tr>\n",
       "    <tr>\n",
       "      <th>297</th>\n",
       "      <td>2024-08-07</td>\n",
       "      <td>M</td>\n",
       "      <td>8.7</td>\n",
       "      <td>2.013</td>\n",
       "      <td>1.252</td>\n",
       "      <td>24.4</td>\n",
       "      <td>6.692759</td>\n",
       "      <td>7.017798</td>\n",
       "    </tr>\n",
       "    <tr>\n",
       "      <th>298</th>\n",
       "      <td>2024-08-09</td>\n",
       "      <td>C</td>\n",
       "      <td>8.7</td>\n",
       "      <td>2.003</td>\n",
       "      <td>1.216</td>\n",
       "      <td>23.6</td>\n",
       "      <td>6.766927</td>\n",
       "      <td>6.914348</td>\n",
       "    </tr>\n",
       "    <tr>\n",
       "      <th>299</th>\n",
       "      <td>2024-08-10</td>\n",
       "      <td>Z</td>\n",
       "      <td>9.0</td>\n",
       "      <td>1.997</td>\n",
       "      <td>1.198</td>\n",
       "      <td>23.3</td>\n",
       "      <td>7.105826</td>\n",
       "      <td>6.869234</td>\n",
       "    </tr>\n",
       "    <tr>\n",
       "      <th>300</th>\n",
       "      <td>2024-08-11</td>\n",
       "      <td>Z</td>\n",
       "      <td>8.9</td>\n",
       "      <td>1.991</td>\n",
       "      <td>1.180</td>\n",
       "      <td>22.9</td>\n",
       "      <td>7.045234</td>\n",
       "      <td>6.867961</td>\n",
       "    </tr>\n",
       "    <tr>\n",
       "      <th>301</th>\n",
       "      <td>2024-08-12</td>\n",
       "      <td>Z</td>\n",
       "      <td>8.2</td>\n",
       "      <td>1.985</td>\n",
       "      <td>1.161</td>\n",
       "      <td>22.5</td>\n",
       "      <td>6.387036</td>\n",
       "      <td>6.839382</td>\n",
       "    </tr>\n",
       "  </tbody>\n",
       "</table>\n",
       "<p>302 rows × 8 columns</p>\n",
       "</div>"
      ],
      "text/plain": [
       "      obs_date obs_method_key  magnitude  delta      r  phase  \\\n",
       "0   2023-02-25              C       18.3  6.946  7.290    7.5   \n",
       "1   2023-02-26              C       18.1  6.921  7.281    7.4   \n",
       "2   2023-02-27              C       18.0  6.896  7.272    7.4   \n",
       "3   2023-02-28              C       18.2  6.871  7.264    7.4   \n",
       "4   2023-03-01              Z       17.9  6.847  7.255    7.3   \n",
       "..         ...            ...        ...    ...    ...    ...   \n",
       "297 2024-08-07              M        8.7  2.013  1.252   24.4   \n",
       "298 2024-08-09              C        8.7  2.003  1.216   23.6   \n",
       "299 2024-08-10              Z        9.0  1.997  1.198   23.3   \n",
       "300 2024-08-11              Z        8.9  1.991  1.180   22.9   \n",
       "301 2024-08-12              Z        8.2  1.985  1.161   22.5   \n",
       "\n",
       "     magnitud_reducida  promedio_movil  \n",
       "0             9.777688             NaN  \n",
       "1             9.588201             NaN  \n",
       "2             9.498744             NaN  \n",
       "3             9.709021             NaN  \n",
       "4             9.419311             NaN  \n",
       "..                 ...             ...  \n",
       "297           6.692759        7.017798  \n",
       "298           6.766927        6.914348  \n",
       "299           7.105826        6.869234  \n",
       "300           7.045234        6.867961  \n",
       "301           6.387036        6.839382  \n",
       "\n",
       "[302 rows x 8 columns]"
      ]
     },
     "execution_count": 23,
     "metadata": {},
     "output_type": "execute_result"
    }
   ],
   "source": [
    "# Creación del data frame curva de luz promediada\n",
    "numero_elementos_grupo = 7\n",
    "\n",
    "curva_de_luz_interna_df = curva_de_luz_interna_df.copy()\n",
    "curva_de_luz_interna_df['promedio_movil'] = curva_de_luz_interna_df.magnitud_reducida.rolling(window = numero_elementos_grupo).mean()\n",
    "curva_de_luz_interna_df"
   ]
  },
  {
   "cell_type": "code",
   "execution_count": 24,
   "metadata": {},
   "outputs": [
    {
     "data": {
      "application/vnd.plotly.v1+json": {
       "config": {
        "plotlyServerURL": "https://plot.ly"
       },
       "data": [
        {
         "hovertemplate": "Observation Date=%{x}<br>promedio_movil=%{y}<extra></extra>",
         "legendgroup": "",
         "marker": {
          "color": "yellow",
          "line": {
           "color": "DarkSlateGrey",
           "width": 1
          },
          "size": 6,
          "symbol": "circle"
         },
         "mode": "markers",
         "name": "",
         "orientation": "v",
         "showlegend": false,
         "type": "scatter",
         "x": [
          "2023-02-25T00:00:00",
          "2023-02-26T00:00:00",
          "2023-02-27T00:00:00",
          "2023-02-28T00:00:00",
          "2023-03-01T00:00:00",
          "2023-03-02T00:00:00",
          "2023-03-03T00:00:00",
          "2023-03-15T00:00:00",
          "2023-03-16T00:00:00",
          "2023-03-18T00:00:00",
          "2023-03-19T00:00:00",
          "2023-03-21T00:00:00",
          "2023-03-22T00:00:00",
          "2023-03-24T00:00:00",
          "2023-03-26T00:00:00",
          "2023-03-28T00:00:00",
          "2023-03-29T00:00:00",
          "2023-03-30T00:00:00",
          "2023-04-01T00:00:00",
          "2023-04-09T00:00:00",
          "2023-04-11T00:00:00",
          "2023-04-13T00:00:00",
          "2023-04-14T00:00:00",
          "2023-04-16T00:00:00",
          "2023-04-17T00:00:00",
          "2023-04-20T00:00:00",
          "2023-04-21T00:00:00",
          "2023-04-22T00:00:00",
          "2023-04-23T00:00:00",
          "2023-04-24T00:00:00",
          "2023-04-25T00:00:00",
          "2023-04-26T00:00:00",
          "2023-04-27T00:00:00",
          "2023-04-28T00:00:00",
          "2023-04-29T00:00:00",
          "2023-04-30T00:00:00",
          "2023-05-01T00:00:00",
          "2023-05-07T00:00:00",
          "2023-05-11T00:00:00",
          "2023-05-13T00:00:00",
          "2023-05-14T00:00:00",
          "2023-05-15T00:00:00",
          "2023-05-16T00:00:00",
          "2023-05-17T00:00:00",
          "2023-05-18T00:00:00",
          "2023-05-19T00:00:00",
          "2023-05-21T00:00:00",
          "2023-05-22T00:00:00",
          "2023-05-23T00:00:00",
          "2023-05-24T00:00:00",
          "2023-05-25T00:00:00",
          "2023-05-26T00:00:00",
          "2023-05-27T00:00:00",
          "2023-05-28T00:00:00",
          "2023-05-29T00:00:00",
          "2023-05-31T00:00:00",
          "2023-06-01T00:00:00",
          "2023-06-02T00:00:00",
          "2023-06-03T00:00:00",
          "2023-06-04T00:00:00",
          "2023-06-05T00:00:00",
          "2023-06-07T00:00:00",
          "2023-06-08T00:00:00",
          "2023-06-09T00:00:00",
          "2023-06-10T00:00:00",
          "2023-06-11T00:00:00",
          "2023-06-12T00:00:00",
          "2023-06-13T00:00:00",
          "2023-06-14T00:00:00",
          "2023-06-15T00:00:00",
          "2023-06-16T00:00:00",
          "2023-06-18T00:00:00",
          "2023-06-19T00:00:00",
          "2023-06-22T00:00:00",
          "2023-06-24T00:00:00",
          "2023-06-25T00:00:00",
          "2023-07-06T00:00:00",
          "2023-07-07T00:00:00",
          "2023-07-08T00:00:00",
          "2023-07-11T00:00:00",
          "2023-07-12T00:00:00",
          "2023-07-13T00:00:00",
          "2023-07-15T00:00:00",
          "2023-07-17T00:00:00",
          "2023-07-18T00:00:00",
          "2023-07-20T00:00:00",
          "2023-08-02T00:00:00",
          "2023-08-06T00:00:00",
          "2023-08-07T00:00:00",
          "2023-08-08T00:00:00",
          "2023-08-13T00:00:00",
          "2023-08-16T00:00:00",
          "2023-08-18T00:00:00",
          "2023-08-21T00:00:00",
          "2023-09-03T00:00:00",
          "2023-09-05T00:00:00",
          "2023-09-06T00:00:00",
          "2023-09-10T00:00:00",
          "2023-11-28T00:00:00",
          "2023-12-07T00:00:00",
          "2023-12-10T00:00:00",
          "2023-12-15T00:00:00",
          "2023-12-18T00:00:00",
          "2023-12-19T00:00:00",
          "2023-12-20T00:00:00",
          "2023-12-21T00:00:00",
          "2023-12-22T00:00:00",
          "2023-12-25T00:00:00",
          "2023-12-27T00:00:00",
          "2023-12-31T00:00:00",
          "2024-01-04T00:00:00",
          "2024-01-05T00:00:00",
          "2024-01-07T00:00:00",
          "2024-01-08T00:00:00",
          "2024-01-09T00:00:00",
          "2024-01-10T00:00:00",
          "2024-01-13T00:00:00",
          "2024-01-14T00:00:00",
          "2024-01-17T00:00:00",
          "2024-01-18T00:00:00",
          "2024-01-20T00:00:00",
          "2024-01-21T00:00:00",
          "2024-01-22T00:00:00",
          "2024-01-24T00:00:00",
          "2024-01-28T00:00:00",
          "2024-01-29T00:00:00",
          "2024-02-05T00:00:00",
          "2024-02-07T00:00:00",
          "2024-02-08T00:00:00",
          "2024-02-09T00:00:00",
          "2024-02-10T00:00:00",
          "2024-02-12T00:00:00",
          "2024-02-13T00:00:00",
          "2024-02-14T00:00:00",
          "2024-02-16T00:00:00",
          "2024-02-17T00:00:00",
          "2024-02-18T00:00:00",
          "2024-02-19T00:00:00",
          "2024-02-20T00:00:00",
          "2024-02-21T00:00:00",
          "2024-02-24T00:00:00",
          "2024-02-25T00:00:00",
          "2024-02-29T00:00:00",
          "2024-03-03T00:00:00",
          "2024-03-04T00:00:00",
          "2024-03-05T00:00:00",
          "2024-03-06T00:00:00",
          "2024-03-07T00:00:00",
          "2024-03-08T00:00:00",
          "2024-03-09T00:00:00",
          "2024-03-10T00:00:00",
          "2024-03-11T00:00:00",
          "2024-03-12T00:00:00",
          "2024-03-13T00:00:00",
          "2024-03-14T00:00:00",
          "2024-03-15T00:00:00",
          "2024-03-16T00:00:00",
          "2024-03-17T00:00:00",
          "2024-03-18T00:00:00",
          "2024-03-19T00:00:00",
          "2024-03-20T00:00:00",
          "2024-03-21T00:00:00",
          "2024-03-22T00:00:00",
          "2024-03-23T00:00:00",
          "2024-03-24T00:00:00",
          "2024-03-25T00:00:00",
          "2024-03-28T00:00:00",
          "2024-03-29T00:00:00",
          "2024-03-30T00:00:00",
          "2024-03-31T00:00:00",
          "2024-04-01T00:00:00",
          "2024-04-02T00:00:00",
          "2024-04-03T00:00:00",
          "2024-04-04T00:00:00",
          "2024-04-05T00:00:00",
          "2024-04-06T00:00:00",
          "2024-04-07T00:00:00",
          "2024-04-08T00:00:00",
          "2024-04-09T00:00:00",
          "2024-04-10T00:00:00",
          "2024-04-11T00:00:00",
          "2024-04-12T00:00:00",
          "2024-04-13T00:00:00",
          "2024-04-14T00:00:00",
          "2024-04-15T00:00:00",
          "2024-04-16T00:00:00",
          "2024-04-17T00:00:00",
          "2024-04-18T00:00:00",
          "2024-04-19T00:00:00",
          "2024-04-20T00:00:00",
          "2024-04-21T00:00:00",
          "2024-04-22T00:00:00",
          "2024-04-23T00:00:00",
          "2024-04-24T00:00:00",
          "2024-04-25T00:00:00",
          "2024-04-26T00:00:00",
          "2024-04-27T00:00:00",
          "2024-04-28T00:00:00",
          "2024-04-29T00:00:00",
          "2024-04-30T00:00:00",
          "2024-05-01T00:00:00",
          "2024-05-02T00:00:00",
          "2024-05-03T00:00:00",
          "2024-05-04T00:00:00",
          "2024-05-05T00:00:00",
          "2024-05-06T00:00:00",
          "2024-05-07T00:00:00",
          "2024-05-08T00:00:00",
          "2024-05-09T00:00:00",
          "2024-05-10T00:00:00",
          "2024-05-11T00:00:00",
          "2024-05-12T00:00:00",
          "2024-05-13T00:00:00",
          "2024-05-14T00:00:00",
          "2024-05-15T00:00:00",
          "2024-05-16T00:00:00",
          "2024-05-17T00:00:00",
          "2024-05-18T00:00:00",
          "2024-05-19T00:00:00",
          "2024-05-20T00:00:00",
          "2024-05-22T00:00:00",
          "2024-05-23T00:00:00",
          "2024-05-24T00:00:00",
          "2024-05-25T00:00:00",
          "2024-05-26T00:00:00",
          "2024-05-27T00:00:00",
          "2024-05-28T00:00:00",
          "2024-05-29T00:00:00",
          "2024-05-30T00:00:00",
          "2024-05-31T00:00:00",
          "2024-06-01T00:00:00",
          "2024-06-02T00:00:00",
          "2024-06-03T00:00:00",
          "2024-06-04T00:00:00",
          "2024-06-05T00:00:00",
          "2024-06-06T00:00:00",
          "2024-06-07T00:00:00",
          "2024-06-08T00:00:00",
          "2024-06-09T00:00:00",
          "2024-06-10T00:00:00",
          "2024-06-11T00:00:00",
          "2024-06-12T00:00:00",
          "2024-06-13T00:00:00",
          "2024-06-14T00:00:00",
          "2024-06-15T00:00:00",
          "2024-06-16T00:00:00",
          "2024-06-17T00:00:00",
          "2024-06-18T00:00:00",
          "2024-06-19T00:00:00",
          "2024-06-20T00:00:00",
          "2024-06-21T00:00:00",
          "2024-06-22T00:00:00",
          "2024-06-23T00:00:00",
          "2024-06-24T00:00:00",
          "2024-06-25T00:00:00",
          "2024-06-26T00:00:00",
          "2024-06-27T00:00:00",
          "2024-06-28T00:00:00",
          "2024-06-29T00:00:00",
          "2024-06-30T00:00:00",
          "2024-07-01T00:00:00",
          "2024-07-02T00:00:00",
          "2024-07-03T00:00:00",
          "2024-07-04T00:00:00",
          "2024-07-05T00:00:00",
          "2024-07-06T00:00:00",
          "2024-07-07T00:00:00",
          "2024-07-08T00:00:00",
          "2024-07-09T00:00:00",
          "2024-07-10T00:00:00",
          "2024-07-11T00:00:00",
          "2024-07-12T00:00:00",
          "2024-07-13T00:00:00",
          "2024-07-14T00:00:00",
          "2024-07-15T00:00:00",
          "2024-07-16T00:00:00",
          "2024-07-17T00:00:00",
          "2024-07-18T00:00:00",
          "2024-07-19T00:00:00",
          "2024-07-20T00:00:00",
          "2024-07-21T00:00:00",
          "2024-07-22T00:00:00",
          "2024-07-23T00:00:00",
          "2024-07-24T00:00:00",
          "2024-07-25T00:00:00",
          "2024-07-26T00:00:00",
          "2024-07-27T00:00:00",
          "2024-07-28T00:00:00",
          "2024-07-29T00:00:00",
          "2024-07-30T00:00:00",
          "2024-07-31T00:00:00",
          "2024-08-01T00:00:00",
          "2024-08-02T00:00:00",
          "2024-08-03T00:00:00",
          "2024-08-04T00:00:00",
          "2024-08-05T00:00:00",
          "2024-08-06T00:00:00",
          "2024-08-07T00:00:00",
          "2024-08-09T00:00:00",
          "2024-08-10T00:00:00",
          "2024-08-11T00:00:00",
          "2024-08-12T00:00:00"
         ],
         "xaxis": "x",
         "y": [
          null,
          null,
          null,
          null,
          null,
          null,
          9.609030987890256,
          9.564219666354026,
          9.590775920314792,
          9.633005297719057,
          9.589461548768183,
          9.690174600294005,
          9.76221292537895,
          9.735617094223832,
          9.708445385629224,
          9.66827403880895,
          9.598031225022128,
          9.499110728805489,
          8.957168249870682,
          8.824150345169407,
          8.81932029943584,
          8.799813577512246,
          8.75019647148016,
          8.572945143997504,
          8.609819266347664,
          9.033084537408786,
          8.989964607126911,
          8.988288420787162,
          8.985294990574138,
          9.039254713040359,
          9.149079713933803,
          9.130192121933648,
          9.080354637780445,
          9.073226750433543,
          9.03743242169476,
          9.04434662568525,
          9.022693129394781,
          9.019492488856203,
          8.932725974549372,
          8.960744623711472,
          8.945699851303747,
          8.944686839111554,
          8.92907848604485,
          8.970311411517978,
          9.021255691980766,
          9.069689046100011,
          9.075003211251701,
          9.108682478789197,
          9.013733722095399,
          9.09010893360259,
          9.05198340718072,
          9.056610154786695,
          9.132560866689852,
          9.150615254760321,
          9.082904583959406,
          9.115466810651254,
          8.990780630716316,
          8.823187004196136,
          8.798338065190425,
          8.844764209708865,
          8.79108476335009,
          8.851961755271798,
          8.926537768127865,
          8.972430608695717,
          9.089646768328652,
          9.049615593736128,
          9.066622319903598,
          9.097809896961284,
          9.04285134504113,
          8.959271290978226,
          8.961356229643856,
          8.963561872480485,
          8.994290713625398,
          8.825368075700728,
          8.742284106311649,
          8.773336156075903,
          8.848630270934411,
          8.838122672383408,
          8.827246796872595,
          8.802218765095116,
          8.848081574366804,
          8.85082554903386,
          8.867855975350173,
          8.854887960786359,
          8.841879904995592,
          8.829033306342826,
          8.87465266697273,
          8.84943039174162,
          8.867097880525543,
          8.827670076303916,
          8.774759692697367,
          8.76520810700279,
          8.755938396610029,
          8.574330453223302,
          8.582279849618818,
          8.490929894371607,
          8.342624391272903,
          8.33800081590913,
          8.146141918348935,
          7.999030950087985,
          7.9570097351381905,
          7.849373568730418,
          7.733025613775999,
          7.732736307566122,
          7.561348268726072,
          7.535955260160954,
          7.510357144510212,
          7.542935743211302,
          7.484164136520216,
          7.585865855876733,
          7.5526097597113795,
          7.548279686336094,
          7.5469600968498565,
          7.531797026820878,
          7.54099985621366,
          7.576759543936271,
          7.568081053626452,
          7.580770047142115,
          7.699421103699177,
          7.758520247841714,
          7.792250043254834,
          7.82630329937313,
          7.860606881540272,
          7.849998303317514,
          7.89186115726348,
          7.842631095417485,
          7.856426268925114,
          7.8282823666708214,
          7.814778491478935,
          7.801870987053006,
          7.7862872816797895,
          7.73664139408149,
          7.744542231120966,
          7.704486654037386,
          7.822086537744043,
          7.797046945919988,
          7.7578573466816705,
          7.718984231484988,
          7.748251219357495,
          7.706296885234328,
          7.6292325989602405,
          7.534452352758508,
          7.494601114588649,
          7.520140537992783,
          7.560182210345402,
          7.557769025567529,
          7.555674997490291,
          7.674742848474113,
          7.679886229361103,
          7.687658178358654,
          7.587603783256688,
          7.587759039059427,
          7.587947000779087,
          7.588142997464935,
          7.531520331846287,
          7.503389685074618,
          7.50404315677772,
          7.576128292266751,
          7.56262517594881,
          7.549125767858315,
          7.535838510729361,
          7.551035727170606,
          7.552037217690173,
          7.467322424614439,
          7.46843669544963,
          7.383705505186376,
          7.321819523640848,
          7.302713506319555,
          7.269239209504589,
          7.25009508030858,
          7.316571538234861,
          7.268761381035509,
          7.3065558835847195,
          7.3216166298476795,
          7.279342156042519,
          7.308297125753449,
          7.279908869469665,
          7.222883165029062,
          7.208498087737387,
          7.193883156857056,
          7.164757263511537,
          7.163955148072605,
          7.120401054682911,
          7.119294405808297,
          7.1750700362755255,
          7.2162859144838825,
          7.200071572429052,
          7.211985203232065,
          7.237984143243155,
          7.334843843758937,
          7.317255628062873,
          7.25632516300057,
          7.237859905163378,
          7.276189724353211,
          7.242571528727807,
          7.28002005578865,
          7.217098677412826,
          7.382315140498116,
          7.4612609040798406,
          7.654098590300031,
          7.646362996396584,
          7.724042417844566,
          7.758166901895179,
          7.9060970357587745,
          7.810744867721167,
          7.871924213079034,
          7.761238581545333,
          7.878793496905631,
          8.124299118929882,
          8.340778231021464,
          8.256804366020575,
          8.486484749301276,
          8.6872473161734,
          8.730407149692427,
          8.715784522294715,
          8.643731019070701,
          8.442758468764582,
          8.212573030710463,
          7.83906539188115,
          7.679555422319305,
          7.706693478204282,
          7.633681801232339,
          7.574329341224609,
          7.6716718244289,
          7.940301932170679,
          8.094379453442624,
          8.033731587557744,
          8.085665105549927,
          8.094347275104658,
          8.131642228574325,
          8.068675689702921,
          7.9911699687614135,
          8.113407678513038,
          8.107130020058095,
          8.05792407314833,
          8.07990113783793,
          8.044668464172725,
          8.0809360981545,
          8.431431005850591,
          8.396149020211476,
          8.375098546508827,
          8.339710342110738,
          8.43315162668493,
          8.369402918606648,
          8.39132750441817,
          7.927664095555216,
          7.778703398730154,
          7.829709822237155,
          7.809420527843487,
          7.760694076060629,
          7.855113191362018,
          7.692531594019717,
          7.858661293741257,
          8.010654719085284,
          8.020098022172178,
          7.986987237827742,
          7.83973801694809,
          7.849947993893556,
          7.932061378255326,
          8.228777649783593,
          8.154222883037908,
          8.151577141903035,
          8.220529136985657,
          8.518540272477583,
          8.431164836944035,
          8.401264762029637,
          8.000270441598245,
          7.942632227720021,
          7.885331170164944,
          7.8144195445241005,
          7.615279570178438,
          7.602197216644535,
          7.618218909253808,
          7.649032012954756,
          7.951815058807808,
          7.983680399306437,
          7.873215069119835,
          7.906165447580661,
          7.911065200282736,
          7.9022184677697584,
          7.951242984404402,
          7.65795883476887,
          7.536693755395855,
          7.530273844702568,
          7.410285321554526,
          7.348053643824486,
          7.200837684022981,
          7.025699438261136,
          6.908449180336702,
          6.877735608858588,
          6.890489330814879,
          6.946946155714825,
          6.947041315650513,
          6.990865770459729,
          6.99265530515869,
          7.095346626489338,
          7.056028852691682,
          7.01779804233027,
          6.914347575232727,
          6.869234244176199,
          6.867960504750122,
          6.839381852696985
         ],
         "yaxis": "y"
        }
       ],
       "layout": {
        "legend": {
         "tracegroupgap": 0
        },
        "template": {
         "data": {
          "bar": [
           {
            "error_x": {
             "color": "#f2f5fa"
            },
            "error_y": {
             "color": "#f2f5fa"
            },
            "marker": {
             "line": {
              "color": "rgb(17,17,17)",
              "width": 0.5
             },
             "pattern": {
              "fillmode": "overlay",
              "size": 10,
              "solidity": 0.2
             }
            },
            "type": "bar"
           }
          ],
          "barpolar": [
           {
            "marker": {
             "line": {
              "color": "rgb(17,17,17)",
              "width": 0.5
             },
             "pattern": {
              "fillmode": "overlay",
              "size": 10,
              "solidity": 0.2
             }
            },
            "type": "barpolar"
           }
          ],
          "carpet": [
           {
            "aaxis": {
             "endlinecolor": "#A2B1C6",
             "gridcolor": "#506784",
             "linecolor": "#506784",
             "minorgridcolor": "#506784",
             "startlinecolor": "#A2B1C6"
            },
            "baxis": {
             "endlinecolor": "#A2B1C6",
             "gridcolor": "#506784",
             "linecolor": "#506784",
             "minorgridcolor": "#506784",
             "startlinecolor": "#A2B1C6"
            },
            "type": "carpet"
           }
          ],
          "choropleth": [
           {
            "colorbar": {
             "outlinewidth": 0,
             "ticks": ""
            },
            "type": "choropleth"
           }
          ],
          "contour": [
           {
            "colorbar": {
             "outlinewidth": 0,
             "ticks": ""
            },
            "colorscale": [
             [
              0,
              "#0d0887"
             ],
             [
              0.1111111111111111,
              "#46039f"
             ],
             [
              0.2222222222222222,
              "#7201a8"
             ],
             [
              0.3333333333333333,
              "#9c179e"
             ],
             [
              0.4444444444444444,
              "#bd3786"
             ],
             [
              0.5555555555555556,
              "#d8576b"
             ],
             [
              0.6666666666666666,
              "#ed7953"
             ],
             [
              0.7777777777777778,
              "#fb9f3a"
             ],
             [
              0.8888888888888888,
              "#fdca26"
             ],
             [
              1,
              "#f0f921"
             ]
            ],
            "type": "contour"
           }
          ],
          "contourcarpet": [
           {
            "colorbar": {
             "outlinewidth": 0,
             "ticks": ""
            },
            "type": "contourcarpet"
           }
          ],
          "heatmap": [
           {
            "colorbar": {
             "outlinewidth": 0,
             "ticks": ""
            },
            "colorscale": [
             [
              0,
              "#0d0887"
             ],
             [
              0.1111111111111111,
              "#46039f"
             ],
             [
              0.2222222222222222,
              "#7201a8"
             ],
             [
              0.3333333333333333,
              "#9c179e"
             ],
             [
              0.4444444444444444,
              "#bd3786"
             ],
             [
              0.5555555555555556,
              "#d8576b"
             ],
             [
              0.6666666666666666,
              "#ed7953"
             ],
             [
              0.7777777777777778,
              "#fb9f3a"
             ],
             [
              0.8888888888888888,
              "#fdca26"
             ],
             [
              1,
              "#f0f921"
             ]
            ],
            "type": "heatmap"
           }
          ],
          "heatmapgl": [
           {
            "colorbar": {
             "outlinewidth": 0,
             "ticks": ""
            },
            "colorscale": [
             [
              0,
              "#0d0887"
             ],
             [
              0.1111111111111111,
              "#46039f"
             ],
             [
              0.2222222222222222,
              "#7201a8"
             ],
             [
              0.3333333333333333,
              "#9c179e"
             ],
             [
              0.4444444444444444,
              "#bd3786"
             ],
             [
              0.5555555555555556,
              "#d8576b"
             ],
             [
              0.6666666666666666,
              "#ed7953"
             ],
             [
              0.7777777777777778,
              "#fb9f3a"
             ],
             [
              0.8888888888888888,
              "#fdca26"
             ],
             [
              1,
              "#f0f921"
             ]
            ],
            "type": "heatmapgl"
           }
          ],
          "histogram": [
           {
            "marker": {
             "pattern": {
              "fillmode": "overlay",
              "size": 10,
              "solidity": 0.2
             }
            },
            "type": "histogram"
           }
          ],
          "histogram2d": [
           {
            "colorbar": {
             "outlinewidth": 0,
             "ticks": ""
            },
            "colorscale": [
             [
              0,
              "#0d0887"
             ],
             [
              0.1111111111111111,
              "#46039f"
             ],
             [
              0.2222222222222222,
              "#7201a8"
             ],
             [
              0.3333333333333333,
              "#9c179e"
             ],
             [
              0.4444444444444444,
              "#bd3786"
             ],
             [
              0.5555555555555556,
              "#d8576b"
             ],
             [
              0.6666666666666666,
              "#ed7953"
             ],
             [
              0.7777777777777778,
              "#fb9f3a"
             ],
             [
              0.8888888888888888,
              "#fdca26"
             ],
             [
              1,
              "#f0f921"
             ]
            ],
            "type": "histogram2d"
           }
          ],
          "histogram2dcontour": [
           {
            "colorbar": {
             "outlinewidth": 0,
             "ticks": ""
            },
            "colorscale": [
             [
              0,
              "#0d0887"
             ],
             [
              0.1111111111111111,
              "#46039f"
             ],
             [
              0.2222222222222222,
              "#7201a8"
             ],
             [
              0.3333333333333333,
              "#9c179e"
             ],
             [
              0.4444444444444444,
              "#bd3786"
             ],
             [
              0.5555555555555556,
              "#d8576b"
             ],
             [
              0.6666666666666666,
              "#ed7953"
             ],
             [
              0.7777777777777778,
              "#fb9f3a"
             ],
             [
              0.8888888888888888,
              "#fdca26"
             ],
             [
              1,
              "#f0f921"
             ]
            ],
            "type": "histogram2dcontour"
           }
          ],
          "mesh3d": [
           {
            "colorbar": {
             "outlinewidth": 0,
             "ticks": ""
            },
            "type": "mesh3d"
           }
          ],
          "parcoords": [
           {
            "line": {
             "colorbar": {
              "outlinewidth": 0,
              "ticks": ""
             }
            },
            "type": "parcoords"
           }
          ],
          "pie": [
           {
            "automargin": true,
            "type": "pie"
           }
          ],
          "scatter": [
           {
            "marker": {
             "line": {
              "color": "#283442"
             }
            },
            "type": "scatter"
           }
          ],
          "scatter3d": [
           {
            "line": {
             "colorbar": {
              "outlinewidth": 0,
              "ticks": ""
             }
            },
            "marker": {
             "colorbar": {
              "outlinewidth": 0,
              "ticks": ""
             }
            },
            "type": "scatter3d"
           }
          ],
          "scattercarpet": [
           {
            "marker": {
             "colorbar": {
              "outlinewidth": 0,
              "ticks": ""
             }
            },
            "type": "scattercarpet"
           }
          ],
          "scattergeo": [
           {
            "marker": {
             "colorbar": {
              "outlinewidth": 0,
              "ticks": ""
             }
            },
            "type": "scattergeo"
           }
          ],
          "scattergl": [
           {
            "marker": {
             "line": {
              "color": "#283442"
             }
            },
            "type": "scattergl"
           }
          ],
          "scattermapbox": [
           {
            "marker": {
             "colorbar": {
              "outlinewidth": 0,
              "ticks": ""
             }
            },
            "type": "scattermapbox"
           }
          ],
          "scatterpolar": [
           {
            "marker": {
             "colorbar": {
              "outlinewidth": 0,
              "ticks": ""
             }
            },
            "type": "scatterpolar"
           }
          ],
          "scatterpolargl": [
           {
            "marker": {
             "colorbar": {
              "outlinewidth": 0,
              "ticks": ""
             }
            },
            "type": "scatterpolargl"
           }
          ],
          "scatterternary": [
           {
            "marker": {
             "colorbar": {
              "outlinewidth": 0,
              "ticks": ""
             }
            },
            "type": "scatterternary"
           }
          ],
          "surface": [
           {
            "colorbar": {
             "outlinewidth": 0,
             "ticks": ""
            },
            "colorscale": [
             [
              0,
              "#0d0887"
             ],
             [
              0.1111111111111111,
              "#46039f"
             ],
             [
              0.2222222222222222,
              "#7201a8"
             ],
             [
              0.3333333333333333,
              "#9c179e"
             ],
             [
              0.4444444444444444,
              "#bd3786"
             ],
             [
              0.5555555555555556,
              "#d8576b"
             ],
             [
              0.6666666666666666,
              "#ed7953"
             ],
             [
              0.7777777777777778,
              "#fb9f3a"
             ],
             [
              0.8888888888888888,
              "#fdca26"
             ],
             [
              1,
              "#f0f921"
             ]
            ],
            "type": "surface"
           }
          ],
          "table": [
           {
            "cells": {
             "fill": {
              "color": "#506784"
             },
             "line": {
              "color": "rgb(17,17,17)"
             }
            },
            "header": {
             "fill": {
              "color": "#2a3f5f"
             },
             "line": {
              "color": "rgb(17,17,17)"
             }
            },
            "type": "table"
           }
          ]
         },
         "layout": {
          "annotationdefaults": {
           "arrowcolor": "#f2f5fa",
           "arrowhead": 0,
           "arrowwidth": 1
          },
          "autotypenumbers": "strict",
          "coloraxis": {
           "colorbar": {
            "outlinewidth": 0,
            "ticks": ""
           }
          },
          "colorscale": {
           "diverging": [
            [
             0,
             "#8e0152"
            ],
            [
             0.1,
             "#c51b7d"
            ],
            [
             0.2,
             "#de77ae"
            ],
            [
             0.3,
             "#f1b6da"
            ],
            [
             0.4,
             "#fde0ef"
            ],
            [
             0.5,
             "#f7f7f7"
            ],
            [
             0.6,
             "#e6f5d0"
            ],
            [
             0.7,
             "#b8e186"
            ],
            [
             0.8,
             "#7fbc41"
            ],
            [
             0.9,
             "#4d9221"
            ],
            [
             1,
             "#276419"
            ]
           ],
           "sequential": [
            [
             0,
             "#0d0887"
            ],
            [
             0.1111111111111111,
             "#46039f"
            ],
            [
             0.2222222222222222,
             "#7201a8"
            ],
            [
             0.3333333333333333,
             "#9c179e"
            ],
            [
             0.4444444444444444,
             "#bd3786"
            ],
            [
             0.5555555555555556,
             "#d8576b"
            ],
            [
             0.6666666666666666,
             "#ed7953"
            ],
            [
             0.7777777777777778,
             "#fb9f3a"
            ],
            [
             0.8888888888888888,
             "#fdca26"
            ],
            [
             1,
             "#f0f921"
            ]
           ],
           "sequentialminus": [
            [
             0,
             "#0d0887"
            ],
            [
             0.1111111111111111,
             "#46039f"
            ],
            [
             0.2222222222222222,
             "#7201a8"
            ],
            [
             0.3333333333333333,
             "#9c179e"
            ],
            [
             0.4444444444444444,
             "#bd3786"
            ],
            [
             0.5555555555555556,
             "#d8576b"
            ],
            [
             0.6666666666666666,
             "#ed7953"
            ],
            [
             0.7777777777777778,
             "#fb9f3a"
            ],
            [
             0.8888888888888888,
             "#fdca26"
            ],
            [
             1,
             "#f0f921"
            ]
           ]
          },
          "colorway": [
           "#636efa",
           "#EF553B",
           "#00cc96",
           "#ab63fa",
           "#FFA15A",
           "#19d3f3",
           "#FF6692",
           "#B6E880",
           "#FF97FF",
           "#FECB52"
          ],
          "font": {
           "color": "#f2f5fa"
          },
          "geo": {
           "bgcolor": "rgb(17,17,17)",
           "lakecolor": "rgb(17,17,17)",
           "landcolor": "rgb(17,17,17)",
           "showlakes": true,
           "showland": true,
           "subunitcolor": "#506784"
          },
          "hoverlabel": {
           "align": "left"
          },
          "hovermode": "closest",
          "mapbox": {
           "style": "dark"
          },
          "paper_bgcolor": "rgb(17,17,17)",
          "plot_bgcolor": "rgb(17,17,17)",
          "polar": {
           "angularaxis": {
            "gridcolor": "#506784",
            "linecolor": "#506784",
            "ticks": ""
           },
           "bgcolor": "rgb(17,17,17)",
           "radialaxis": {
            "gridcolor": "#506784",
            "linecolor": "#506784",
            "ticks": ""
           }
          },
          "scene": {
           "xaxis": {
            "backgroundcolor": "rgb(17,17,17)",
            "gridcolor": "#506784",
            "gridwidth": 2,
            "linecolor": "#506784",
            "showbackground": true,
            "ticks": "",
            "zerolinecolor": "#C8D4E3"
           },
           "yaxis": {
            "backgroundcolor": "rgb(17,17,17)",
            "gridcolor": "#506784",
            "gridwidth": 2,
            "linecolor": "#506784",
            "showbackground": true,
            "ticks": "",
            "zerolinecolor": "#C8D4E3"
           },
           "zaxis": {
            "backgroundcolor": "rgb(17,17,17)",
            "gridcolor": "#506784",
            "gridwidth": 2,
            "linecolor": "#506784",
            "showbackground": true,
            "ticks": "",
            "zerolinecolor": "#C8D4E3"
           }
          },
          "shapedefaults": {
           "line": {
            "color": "#f2f5fa"
           }
          },
          "sliderdefaults": {
           "bgcolor": "#C8D4E3",
           "bordercolor": "rgb(17,17,17)",
           "borderwidth": 1,
           "tickwidth": 0
          },
          "ternary": {
           "aaxis": {
            "gridcolor": "#506784",
            "linecolor": "#506784",
            "ticks": ""
           },
           "baxis": {
            "gridcolor": "#506784",
            "linecolor": "#506784",
            "ticks": ""
           },
           "bgcolor": "rgb(17,17,17)",
           "caxis": {
            "gridcolor": "#506784",
            "linecolor": "#506784",
            "ticks": ""
           }
          },
          "title": {
           "x": 0.05
          },
          "updatemenudefaults": {
           "bgcolor": "#506784",
           "borderwidth": 0
          },
          "xaxis": {
           "automargin": true,
           "gridcolor": "#283442",
           "linecolor": "#506784",
           "ticks": "",
           "title": {
            "standoff": 15
           },
           "zerolinecolor": "#283442",
           "zerolinewidth": 2
          },
          "yaxis": {
           "automargin": true,
           "gridcolor": "#283442",
           "linecolor": "#506784",
           "ticks": "",
           "title": {
            "standoff": 15
           },
           "zerolinecolor": "#283442",
           "zerolinewidth": 2
          }
         }
        },
        "title": {
         "text": "Max Averaged Lightcurve of comet C/2023 A3 (Tsuchinshan-ATLAS)"
        },
        "xaxis": {
         "anchor": "y",
         "domain": [
          0,
          1
         ],
         "title": {
          "text": "Observation Date"
         }
        },
        "yaxis": {
         "anchor": "x",
         "autorange": "reversed",
         "domain": [
          0,
          1
         ],
         "title": {
          "text": "promedio_movil"
         }
        }
       }
      }
     },
     "metadata": {},
     "output_type": "display_data"
    }
   ],
   "source": [
    "# Gráfica de lus promediada\n",
    "labels = {'obs_date':'Observation Date','magnitud_reducida':'Magnitude reduced'}\n",
    "fig = px.scatter(curva_de_luz_interna_df, x=curva_de_luz_interna_df.obs_date, y='promedio_movil', template= 'plotly_dark', labels= labels, title='Max Averaged Lightcurve of comet C/2023 A3 (Tsuchinshan-ATLAS)')\n",
    "fig.update_traces(marker=dict(color='yellow', size=6, line=dict(width=1, color='DarkSlateGrey')))\n",
    "fig.update_yaxes(autorange=\"reversed\")\n",
    "fig.show()"
   ]
  },
  {
   "cell_type": "markdown",
   "metadata": {},
   "source": [
    "# Curva de luz Externa (Envolvente)"
   ]
  },
  {
   "cell_type": "code",
   "execution_count": 25,
   "metadata": {},
   "outputs": [
    {
     "data": {
      "text/html": [
       "<div>\n",
       "<style scoped>\n",
       "    .dataframe tbody tr th:only-of-type {\n",
       "        vertical-align: middle;\n",
       "    }\n",
       "\n",
       "    .dataframe tbody tr th {\n",
       "        vertical-align: top;\n",
       "    }\n",
       "\n",
       "    .dataframe thead th {\n",
       "        text-align: right;\n",
       "    }\n",
       "</style>\n",
       "<table border=\"1\" class=\"dataframe\">\n",
       "  <thead>\n",
       "    <tr style=\"text-align: right;\">\n",
       "      <th></th>\n",
       "      <th>obs_date</th>\n",
       "      <th>obs_method_key</th>\n",
       "      <th>magnitude</th>\n",
       "      <th>delta</th>\n",
       "      <th>r</th>\n",
       "      <th>phase</th>\n",
       "      <th>magnitud_reducida</th>\n",
       "    </tr>\n",
       "  </thead>\n",
       "  <tbody>\n",
       "    <tr>\n",
       "      <th>0</th>\n",
       "      <td>2023-02-25</td>\n",
       "      <td>C</td>\n",
       "      <td>17.9</td>\n",
       "      <td>6.946</td>\n",
       "      <td>7.290</td>\n",
       "      <td>7.5</td>\n",
       "      <td>9.377688</td>\n",
       "    </tr>\n",
       "    <tr>\n",
       "      <th>1</th>\n",
       "      <td>2023-02-26</td>\n",
       "      <td>C</td>\n",
       "      <td>18.1</td>\n",
       "      <td>6.921</td>\n",
       "      <td>7.281</td>\n",
       "      <td>7.4</td>\n",
       "      <td>9.588201</td>\n",
       "    </tr>\n",
       "    <tr>\n",
       "      <th>2</th>\n",
       "      <td>2023-02-27</td>\n",
       "      <td>C</td>\n",
       "      <td>17.9</td>\n",
       "      <td>6.896</td>\n",
       "      <td>7.272</td>\n",
       "      <td>7.4</td>\n",
       "      <td>9.398744</td>\n",
       "    </tr>\n",
       "    <tr>\n",
       "      <th>3</th>\n",
       "      <td>2023-02-28</td>\n",
       "      <td>C</td>\n",
       "      <td>17.7</td>\n",
       "      <td>6.871</td>\n",
       "      <td>7.264</td>\n",
       "      <td>7.4</td>\n",
       "      <td>9.209021</td>\n",
       "    </tr>\n",
       "    <tr>\n",
       "      <th>4</th>\n",
       "      <td>2023-03-01</td>\n",
       "      <td>Z</td>\n",
       "      <td>17.9</td>\n",
       "      <td>6.847</td>\n",
       "      <td>7.255</td>\n",
       "      <td>7.3</td>\n",
       "      <td>9.419311</td>\n",
       "    </tr>\n",
       "    <tr>\n",
       "      <th>...</th>\n",
       "      <td>...</td>\n",
       "      <td>...</td>\n",
       "      <td>...</td>\n",
       "      <td>...</td>\n",
       "      <td>...</td>\n",
       "      <td>...</td>\n",
       "      <td>...</td>\n",
       "    </tr>\n",
       "    <tr>\n",
       "      <th>297</th>\n",
       "      <td>2024-08-07</td>\n",
       "      <td>M</td>\n",
       "      <td>8.7</td>\n",
       "      <td>2.013</td>\n",
       "      <td>1.252</td>\n",
       "      <td>24.4</td>\n",
       "      <td>6.692759</td>\n",
       "    </tr>\n",
       "    <tr>\n",
       "      <th>298</th>\n",
       "      <td>2024-08-09</td>\n",
       "      <td>C</td>\n",
       "      <td>8.7</td>\n",
       "      <td>2.003</td>\n",
       "      <td>1.216</td>\n",
       "      <td>23.6</td>\n",
       "      <td>6.766927</td>\n",
       "    </tr>\n",
       "    <tr>\n",
       "      <th>299</th>\n",
       "      <td>2024-08-10</td>\n",
       "      <td>M</td>\n",
       "      <td>8.4</td>\n",
       "      <td>1.997</td>\n",
       "      <td>1.198</td>\n",
       "      <td>23.3</td>\n",
       "      <td>6.505826</td>\n",
       "    </tr>\n",
       "    <tr>\n",
       "      <th>300</th>\n",
       "      <td>2024-08-11</td>\n",
       "      <td>M</td>\n",
       "      <td>8.4</td>\n",
       "      <td>1.991</td>\n",
       "      <td>1.180</td>\n",
       "      <td>22.9</td>\n",
       "      <td>6.545234</td>\n",
       "    </tr>\n",
       "    <tr>\n",
       "      <th>301</th>\n",
       "      <td>2024-08-12</td>\n",
       "      <td>Z</td>\n",
       "      <td>8.2</td>\n",
       "      <td>1.985</td>\n",
       "      <td>1.161</td>\n",
       "      <td>22.5</td>\n",
       "      <td>6.387036</td>\n",
       "    </tr>\n",
       "  </tbody>\n",
       "</table>\n",
       "<p>302 rows × 7 columns</p>\n",
       "</div>"
      ],
      "text/plain": [
       "      obs_date obs_method_key  magnitude  delta      r  phase  \\\n",
       "0   2023-02-25              C       17.9  6.946  7.290    7.5   \n",
       "1   2023-02-26              C       18.1  6.921  7.281    7.4   \n",
       "2   2023-02-27              C       17.9  6.896  7.272    7.4   \n",
       "3   2023-02-28              C       17.7  6.871  7.264    7.4   \n",
       "4   2023-03-01              Z       17.9  6.847  7.255    7.3   \n",
       "..         ...            ...        ...    ...    ...    ...   \n",
       "297 2024-08-07              M        8.7  2.013  1.252   24.4   \n",
       "298 2024-08-09              C        8.7  2.003  1.216   23.6   \n",
       "299 2024-08-10              M        8.4  1.997  1.198   23.3   \n",
       "300 2024-08-11              M        8.4  1.991  1.180   22.9   \n",
       "301 2024-08-12              Z        8.2  1.985  1.161   22.5   \n",
       "\n",
       "     magnitud_reducida  \n",
       "0             9.377688  \n",
       "1             9.588201  \n",
       "2             9.398744  \n",
       "3             9.209021  \n",
       "4             9.419311  \n",
       "..                 ...  \n",
       "297           6.692759  \n",
       "298           6.766927  \n",
       "299           6.505826  \n",
       "300           6.545234  \n",
       "301           6.387036  \n",
       "\n",
       "[302 rows x 7 columns]"
      ]
     },
     "execution_count": 25,
     "metadata": {},
     "output_type": "execute_result"
    }
   ],
   "source": [
    "# Creación del data frame curva de luz agrupada\n",
    "curva_de_luz_externa_df = curva_de_luz_procesada_df.groupby(by = 'obs_date').min()\n",
    "curva_de_luz_externa_df = curva_de_luz_externa_df.reset_index()\n",
    "curva_de_luz_externa_df"
   ]
  },
  {
   "cell_type": "code",
   "execution_count": 26,
   "metadata": {},
   "outputs": [
    {
     "data": {
      "text/html": [
       "<div>\n",
       "<style scoped>\n",
       "    .dataframe tbody tr th:only-of-type {\n",
       "        vertical-align: middle;\n",
       "    }\n",
       "\n",
       "    .dataframe tbody tr th {\n",
       "        vertical-align: top;\n",
       "    }\n",
       "\n",
       "    .dataframe thead th {\n",
       "        text-align: right;\n",
       "    }\n",
       "</style>\n",
       "<table border=\"1\" class=\"dataframe\">\n",
       "  <thead>\n",
       "    <tr style=\"text-align: right;\">\n",
       "      <th></th>\n",
       "      <th>obs_date</th>\n",
       "      <th>obs_method_key</th>\n",
       "      <th>magnitude</th>\n",
       "      <th>delta</th>\n",
       "      <th>r</th>\n",
       "      <th>phase</th>\n",
       "      <th>magnitud_reducida</th>\n",
       "      <th>promedio_movil</th>\n",
       "    </tr>\n",
       "  </thead>\n",
       "  <tbody>\n",
       "    <tr>\n",
       "      <th>0</th>\n",
       "      <td>2023-02-25</td>\n",
       "      <td>C</td>\n",
       "      <td>17.9</td>\n",
       "      <td>6.946</td>\n",
       "      <td>7.290</td>\n",
       "      <td>7.5</td>\n",
       "      <td>9.377688</td>\n",
       "      <td>NaN</td>\n",
       "    </tr>\n",
       "    <tr>\n",
       "      <th>1</th>\n",
       "      <td>2023-02-26</td>\n",
       "      <td>C</td>\n",
       "      <td>18.1</td>\n",
       "      <td>6.921</td>\n",
       "      <td>7.281</td>\n",
       "      <td>7.4</td>\n",
       "      <td>9.588201</td>\n",
       "      <td>NaN</td>\n",
       "    </tr>\n",
       "    <tr>\n",
       "      <th>2</th>\n",
       "      <td>2023-02-27</td>\n",
       "      <td>C</td>\n",
       "      <td>17.9</td>\n",
       "      <td>6.896</td>\n",
       "      <td>7.272</td>\n",
       "      <td>7.4</td>\n",
       "      <td>9.398744</td>\n",
       "      <td>NaN</td>\n",
       "    </tr>\n",
       "    <tr>\n",
       "      <th>3</th>\n",
       "      <td>2023-02-28</td>\n",
       "      <td>C</td>\n",
       "      <td>17.7</td>\n",
       "      <td>6.871</td>\n",
       "      <td>7.264</td>\n",
       "      <td>7.4</td>\n",
       "      <td>9.209021</td>\n",
       "      <td>NaN</td>\n",
       "    </tr>\n",
       "    <tr>\n",
       "      <th>4</th>\n",
       "      <td>2023-03-01</td>\n",
       "      <td>Z</td>\n",
       "      <td>17.9</td>\n",
       "      <td>6.847</td>\n",
       "      <td>7.255</td>\n",
       "      <td>7.3</td>\n",
       "      <td>9.419311</td>\n",
       "      <td>NaN</td>\n",
       "    </tr>\n",
       "    <tr>\n",
       "      <th>...</th>\n",
       "      <td>...</td>\n",
       "      <td>...</td>\n",
       "      <td>...</td>\n",
       "      <td>...</td>\n",
       "      <td>...</td>\n",
       "      <td>...</td>\n",
       "      <td>...</td>\n",
       "      <td>...</td>\n",
       "    </tr>\n",
       "    <tr>\n",
       "      <th>297</th>\n",
       "      <td>2024-08-07</td>\n",
       "      <td>M</td>\n",
       "      <td>8.7</td>\n",
       "      <td>2.013</td>\n",
       "      <td>1.252</td>\n",
       "      <td>24.4</td>\n",
       "      <td>6.692759</td>\n",
       "      <td>6.303512</td>\n",
       "    </tr>\n",
       "    <tr>\n",
       "      <th>298</th>\n",
       "      <td>2024-08-09</td>\n",
       "      <td>C</td>\n",
       "      <td>8.7</td>\n",
       "      <td>2.003</td>\n",
       "      <td>1.216</td>\n",
       "      <td>23.6</td>\n",
       "      <td>6.766927</td>\n",
       "      <td>6.600062</td>\n",
       "    </tr>\n",
       "    <tr>\n",
       "      <th>299</th>\n",
       "      <td>2024-08-10</td>\n",
       "      <td>M</td>\n",
       "      <td>8.4</td>\n",
       "      <td>1.997</td>\n",
       "      <td>1.198</td>\n",
       "      <td>23.3</td>\n",
       "      <td>6.505826</td>\n",
       "      <td>6.583520</td>\n",
       "    </tr>\n",
       "    <tr>\n",
       "      <th>300</th>\n",
       "      <td>2024-08-11</td>\n",
       "      <td>M</td>\n",
       "      <td>8.4</td>\n",
       "      <td>1.991</td>\n",
       "      <td>1.180</td>\n",
       "      <td>22.9</td>\n",
       "      <td>6.545234</td>\n",
       "      <td>6.567961</td>\n",
       "    </tr>\n",
       "    <tr>\n",
       "      <th>301</th>\n",
       "      <td>2024-08-12</td>\n",
       "      <td>Z</td>\n",
       "      <td>8.2</td>\n",
       "      <td>1.985</td>\n",
       "      <td>1.161</td>\n",
       "      <td>22.5</td>\n",
       "      <td>6.387036</td>\n",
       "      <td>6.539382</td>\n",
       "    </tr>\n",
       "  </tbody>\n",
       "</table>\n",
       "<p>302 rows × 8 columns</p>\n",
       "</div>"
      ],
      "text/plain": [
       "      obs_date obs_method_key  magnitude  delta      r  phase  \\\n",
       "0   2023-02-25              C       17.9  6.946  7.290    7.5   \n",
       "1   2023-02-26              C       18.1  6.921  7.281    7.4   \n",
       "2   2023-02-27              C       17.9  6.896  7.272    7.4   \n",
       "3   2023-02-28              C       17.7  6.871  7.264    7.4   \n",
       "4   2023-03-01              Z       17.9  6.847  7.255    7.3   \n",
       "..         ...            ...        ...    ...    ...    ...   \n",
       "297 2024-08-07              M        8.7  2.013  1.252   24.4   \n",
       "298 2024-08-09              C        8.7  2.003  1.216   23.6   \n",
       "299 2024-08-10              M        8.4  1.997  1.198   23.3   \n",
       "300 2024-08-11              M        8.4  1.991  1.180   22.9   \n",
       "301 2024-08-12              Z        8.2  1.985  1.161   22.5   \n",
       "\n",
       "     magnitud_reducida  promedio_movil  \n",
       "0             9.377688             NaN  \n",
       "1             9.588201             NaN  \n",
       "2             9.398744             NaN  \n",
       "3             9.209021             NaN  \n",
       "4             9.419311             NaN  \n",
       "..                 ...             ...  \n",
       "297           6.692759        6.303512  \n",
       "298           6.766927        6.600062  \n",
       "299           6.505826        6.583520  \n",
       "300           6.545234        6.567961  \n",
       "301           6.387036        6.539382  \n",
       "\n",
       "[302 rows x 8 columns]"
      ]
     },
     "execution_count": 26,
     "metadata": {},
     "output_type": "execute_result"
    }
   ],
   "source": [
    "# Creación del data frame curva de luz promediada\n",
    "numero_elementos_grupo = 7\n",
    "\n",
    "curva_de_luz_externa_df = curva_de_luz_externa_df.copy()\n",
    "curva_de_luz_externa_df['promedio_movil'] = curva_de_luz_externa_df.magnitud_reducida.rolling(window = numero_elementos_grupo).mean()\n",
    "curva_de_luz_externa_df"
   ]
  },
  {
   "cell_type": "code",
   "execution_count": 27,
   "metadata": {},
   "outputs": [
    {
     "data": {
      "application/vnd.plotly.v1+json": {
       "config": {
        "plotlyServerURL": "https://plot.ly"
       },
       "data": [
        {
         "hovertemplate": "Observation Method=C<br>Observation Date=%{x}<br>Max apparent total magnitude reduced=%{y}<extra></extra>",
         "legendgroup": "C",
         "marker": {
          "color": "#636efa",
          "symbol": "circle"
         },
         "mode": "markers",
         "name": "C",
         "orientation": "v",
         "showlegend": true,
         "type": "scatter",
         "x": [
          "2023-02-25T00:00:00",
          "2023-02-26T00:00:00",
          "2023-02-27T00:00:00",
          "2023-02-28T00:00:00",
          "2023-03-03T00:00:00",
          "2023-03-16T00:00:00",
          "2023-03-18T00:00:00",
          "2023-03-19T00:00:00",
          "2023-03-26T00:00:00",
          "2023-03-30T00:00:00",
          "2023-04-01T00:00:00",
          "2023-04-14T00:00:00",
          "2023-04-17T00:00:00",
          "2023-04-20T00:00:00",
          "2023-04-21T00:00:00",
          "2023-04-22T00:00:00",
          "2023-04-25T00:00:00",
          "2023-04-26T00:00:00",
          "2023-04-27T00:00:00",
          "2023-04-28T00:00:00",
          "2023-05-07T00:00:00",
          "2023-05-13T00:00:00",
          "2023-05-14T00:00:00",
          "2023-05-16T00:00:00",
          "2023-05-18T00:00:00",
          "2023-05-19T00:00:00",
          "2023-05-21T00:00:00",
          "2023-05-22T00:00:00",
          "2023-05-23T00:00:00",
          "2023-05-25T00:00:00",
          "2023-05-26T00:00:00",
          "2023-05-27T00:00:00",
          "2023-05-28T00:00:00",
          "2023-05-29T00:00:00",
          "2023-05-31T00:00:00",
          "2023-06-01T00:00:00",
          "2023-06-02T00:00:00",
          "2023-06-03T00:00:00",
          "2023-06-04T00:00:00",
          "2023-06-05T00:00:00",
          "2023-06-07T00:00:00",
          "2023-06-08T00:00:00",
          "2023-06-10T00:00:00",
          "2023-06-11T00:00:00",
          "2023-06-12T00:00:00",
          "2023-06-13T00:00:00",
          "2023-06-14T00:00:00",
          "2023-06-15T00:00:00",
          "2023-06-16T00:00:00",
          "2023-06-24T00:00:00",
          "2023-07-06T00:00:00",
          "2023-07-07T00:00:00",
          "2023-07-08T00:00:00",
          "2023-07-12T00:00:00",
          "2023-07-15T00:00:00",
          "2023-08-21T00:00:00",
          "2023-09-05T00:00:00",
          "2023-09-06T00:00:00",
          "2023-11-28T00:00:00",
          "2023-12-07T00:00:00",
          "2023-12-10T00:00:00",
          "2023-12-18T00:00:00",
          "2023-12-19T00:00:00",
          "2023-12-20T00:00:00",
          "2023-12-21T00:00:00",
          "2023-12-22T00:00:00",
          "2023-12-27T00:00:00",
          "2023-12-31T00:00:00",
          "2024-01-04T00:00:00",
          "2024-01-05T00:00:00",
          "2024-01-07T00:00:00",
          "2024-01-08T00:00:00",
          "2024-01-09T00:00:00",
          "2024-01-10T00:00:00",
          "2024-01-14T00:00:00",
          "2024-01-21T00:00:00",
          "2024-01-22T00:00:00",
          "2024-01-24T00:00:00",
          "2024-01-28T00:00:00",
          "2024-01-29T00:00:00",
          "2024-02-07T00:00:00",
          "2024-02-09T00:00:00",
          "2024-02-10T00:00:00",
          "2024-02-13T00:00:00",
          "2024-02-16T00:00:00",
          "2024-02-17T00:00:00",
          "2024-02-20T00:00:00",
          "2024-02-24T00:00:00",
          "2024-02-29T00:00:00",
          "2024-03-04T00:00:00",
          "2024-03-05T00:00:00",
          "2024-03-07T00:00:00",
          "2024-03-08T00:00:00",
          "2024-03-09T00:00:00",
          "2024-03-14T00:00:00",
          "2024-03-15T00:00:00",
          "2024-03-16T00:00:00",
          "2024-03-18T00:00:00",
          "2024-03-19T00:00:00",
          "2024-03-20T00:00:00",
          "2024-03-21T00:00:00",
          "2024-03-22T00:00:00",
          "2024-03-23T00:00:00",
          "2024-03-24T00:00:00",
          "2024-03-25T00:00:00",
          "2024-03-28T00:00:00",
          "2024-03-30T00:00:00",
          "2024-03-31T00:00:00",
          "2024-04-01T00:00:00",
          "2024-04-02T00:00:00",
          "2024-04-03T00:00:00",
          "2024-04-04T00:00:00",
          "2024-04-05T00:00:00",
          "2024-04-06T00:00:00",
          "2024-04-07T00:00:00",
          "2024-04-10T00:00:00",
          "2024-04-11T00:00:00",
          "2024-04-12T00:00:00",
          "2024-04-13T00:00:00",
          "2024-04-14T00:00:00",
          "2024-04-15T00:00:00",
          "2024-04-16T00:00:00",
          "2024-04-17T00:00:00",
          "2024-04-18T00:00:00",
          "2024-04-19T00:00:00",
          "2024-04-20T00:00:00",
          "2024-04-21T00:00:00",
          "2024-04-24T00:00:00",
          "2024-04-25T00:00:00",
          "2024-04-26T00:00:00",
          "2024-04-27T00:00:00",
          "2024-05-02T00:00:00",
          "2024-05-08T00:00:00",
          "2024-05-09T00:00:00",
          "2024-05-10T00:00:00",
          "2024-05-12T00:00:00",
          "2024-05-14T00:00:00",
          "2024-05-15T00:00:00",
          "2024-05-16T00:00:00",
          "2024-05-17T00:00:00",
          "2024-05-20T00:00:00",
          "2024-05-22T00:00:00",
          "2024-05-23T00:00:00",
          "2024-05-24T00:00:00",
          "2024-05-25T00:00:00",
          "2024-05-26T00:00:00",
          "2024-05-28T00:00:00",
          "2024-05-30T00:00:00",
          "2024-05-31T00:00:00",
          "2024-06-02T00:00:00",
          "2024-06-03T00:00:00",
          "2024-06-04T00:00:00",
          "2024-06-05T00:00:00",
          "2024-06-07T00:00:00",
          "2024-06-08T00:00:00",
          "2024-06-09T00:00:00",
          "2024-06-11T00:00:00",
          "2024-06-13T00:00:00",
          "2024-06-22T00:00:00",
          "2024-06-23T00:00:00",
          "2024-06-24T00:00:00",
          "2024-06-25T00:00:00",
          "2024-06-28T00:00:00",
          "2024-06-29T00:00:00",
          "2024-07-04T00:00:00",
          "2024-07-11T00:00:00",
          "2024-07-12T00:00:00",
          "2024-07-13T00:00:00",
          "2024-07-14T00:00:00",
          "2024-07-16T00:00:00",
          "2024-07-18T00:00:00",
          "2024-07-19T00:00:00",
          "2024-07-20T00:00:00",
          "2024-07-21T00:00:00",
          "2024-07-22T00:00:00",
          "2024-07-26T00:00:00",
          "2024-07-27T00:00:00",
          "2024-07-29T00:00:00",
          "2024-07-30T00:00:00",
          "2024-08-01T00:00:00",
          "2024-08-02T00:00:00",
          "2024-08-09T00:00:00"
         ],
         "xaxis": "x",
         "y": [
          9.377688463536408,
          9.588200598538236,
          9.398744384847161,
          9.209021079730313,
          9.540301335634528,
          9.474094376263592,
          9.094350026677027,
          9.104214837074194,
          9.27380725262054,
          8.711771363557723,
          6.330705284931748,
          9.145575206297059,
          8.969890220008836,
          8.793562182359604,
          9.001253206863078,
          8.608586893035497,
          8.730666044044796,
          8.837677076007752,
          8.944699793287189,
          8.951357995434751,
          8.808261560274747,
          9.04083033742188,
          8.54604458858068,
          8.655447144130711,
          8.864871523514262,
          8.569344954694646,
          8.578029493483715,
          8.681799461343143,
          8.386294209662081,
          8.593470582886138,
          8.59725875675608,
          8.70099993801675,
          8.604410209976994,
          8.607824765736739,
          8.614229796505015,
          8.717270365136486,
          8.220315197244881,
          9.023316183716107,
          8.82598294964583,
          8.928654085465583,
          8.633963709188688,
          8.536261886497485,
          8.540828314675432,
          8.64309796156843,
          8.545030032818111,
          8.64696712486939,
          8.64925384574761,
          8.45120150805716,
          8.55311481977086,
          8.565379339145835,
          8.578260312066714,
          8.379561629913848,
          8.180136685956136,
          8.683611232247237,
          8.685831178311568,
          7.831083547842726,
          8.068809896572214,
          7.6716980270692545,
          7.478631856595085,
          7.795545744810765,
          7.536935043194171,
          7.254374211891285,
          7.369672883600111,
          7.385030225447418,
          7.300880796639255,
          7.41635893525557,
          7.397846668706074,
          7.366286247386897,
          7.43688021044264,
          7.354719711820417,
          6.291643670235589,
          7.510217445052727,
          7.329405039851276,
          7.348164482764359,
          7.52570316505228,
          7.0677778326793455,
          7.188289557934353,
          7.531276767658857,
          7.618743142674039,
          7.540666674797878,
          7.249318697164513,
          7.697937026952839,
          7.722190830046349,
          7.495972534074211,
          6.8725178831111124,
          7.797973563567766,
          7.676090844593492,
          6.982064850283093,
          7.019014896378757,
          7.230370730137898,
          7.359198551148375,
          7.315539807169844,
          6.845059825907911,
          6.673418539361616,
          7.41918114783931,
          7.448145298506229,
          6.977992841283333,
          6.936935706531488,
          6.566018426552535,
          7.495995175569631,
          7.32556166292803,
          7.555155732143198,
          6.984989289753203,
          7.514400874669317,
          7.043817374688717,
          6.732816555733838,
          6.991241585223261,
          6.92114682777114,
          7.150324495237166,
          6.979729774273856,
          6.708378892533192,
          6.738241779574556,
          6.766331737684463,
          6.693926373199772,
          6.72242903378465,
          5.906074376370883,
          6.234360526155912,
          6.460716929611952,
          6.589047719471908,
          6.7146824916623515,
          6.441573977423545,
          6.667545380690628,
          6.392573981987066,
          6.617755941777007,
          6.8427095096895805,
          6.667065623082374,
          6.3915649817899105,
          6.960882716315895,
          6.68242857239918,
          6.504849199115477,
          6.426615974451601,
          6.626184522535052,
          6.429617966513847,
          6.244723876704811,
          6.559074372110849,
          6.288377730088607,
          6.61547179326891,
          6.627259574729863,
          6.640349354136717,
          6.55226651996801,
          6.78470466573652,
          7.305438184463741,
          7.216177835926269,
          7.124882134082599,
          6.7336639023980505,
          7.043422544304154,
          6.660169604542369,
          6.676953022809386,
          6.985946808370269,
          6.200882497713611,
          6.7080308754484,
          7.016225995357763,
          6.724531182040668,
          6.639318092713827,
          6.946771568170652,
          6.854346851586234,
          7.168872679439234,
          7.584881467655944,
          6.662172487455203,
          7.0716108875963455,
          6.282286075607356,
          6.392020765596482,
          7.02548078189383,
          6.936966177987593,
          7.599129707461861,
          7.605149887042227,
          7.3222762584216525,
          7.339817501851726,
          6.8573562711811125,
          6.695450558257251,
          6.7358025362680065,
          7.856574527336183,
          7.777890374260884,
          6.900527887623618,
          6.623427484762617,
          6.6209527832258965,
          6.747378655650355,
          6.602675679291582,
          6.431600002299346,
          4.691080648531335,
          6.621618902775726,
          6.766927378848537
         ],
         "yaxis": "y"
        },
        {
         "hovertemplate": "Observation Method=Z<br>Observation Date=%{x}<br>Max apparent total magnitude reduced=%{y}<extra></extra>",
         "legendgroup": "Z",
         "marker": {
          "color": "#EF553B",
          "symbol": "circle"
         },
         "mode": "markers",
         "name": "Z",
         "orientation": "v",
         "showlegend": true,
         "type": "scatter",
         "x": [
          "2023-03-01T00:00:00",
          "2023-03-02T00:00:00",
          "2023-03-15T00:00:00",
          "2023-03-21T00:00:00",
          "2023-03-24T00:00:00",
          "2023-03-28T00:00:00",
          "2023-03-29T00:00:00",
          "2023-04-09T00:00:00",
          "2023-04-11T00:00:00",
          "2023-04-16T00:00:00",
          "2023-04-23T00:00:00",
          "2023-04-29T00:00:00",
          "2023-04-30T00:00:00",
          "2023-05-01T00:00:00",
          "2023-05-11T00:00:00",
          "2023-05-15T00:00:00",
          "2023-05-17T00:00:00",
          "2023-05-24T00:00:00",
          "2023-06-09T00:00:00",
          "2023-06-18T00:00:00",
          "2023-06-19T00:00:00",
          "2023-06-22T00:00:00",
          "2023-06-25T00:00:00",
          "2023-07-13T00:00:00",
          "2023-07-17T00:00:00",
          "2023-07-18T00:00:00",
          "2023-07-20T00:00:00",
          "2023-08-02T00:00:00",
          "2023-08-06T00:00:00",
          "2023-08-07T00:00:00",
          "2023-08-08T00:00:00",
          "2023-08-16T00:00:00",
          "2023-08-18T00:00:00",
          "2023-09-03T00:00:00",
          "2023-09-10T00:00:00",
          "2023-12-15T00:00:00",
          "2024-01-13T00:00:00",
          "2024-01-17T00:00:00",
          "2024-02-05T00:00:00",
          "2024-02-08T00:00:00",
          "2024-02-18T00:00:00",
          "2024-02-19T00:00:00",
          "2024-02-21T00:00:00",
          "2024-02-25T00:00:00",
          "2024-03-03T00:00:00",
          "2024-03-06T00:00:00",
          "2024-03-17T00:00:00",
          "2024-03-29T00:00:00",
          "2024-04-22T00:00:00",
          "2024-04-23T00:00:00",
          "2024-06-12T00:00:00",
          "2024-06-16T00:00:00",
          "2024-06-17T00:00:00",
          "2024-08-04T00:00:00",
          "2024-08-12T00:00:00"
         ],
         "xaxis": "x",
         "y": [
          9.41931127679463,
          9.729949776150518,
          9.46400921278279,
          10.124302637475388,
          9.354130517548699,
          9.49289494852166,
          9.30265033016928,
          9.3030927188362,
          9.320320197413741,
          8.06189103779069,
          7.916306187664202,
          9.058026591864017,
          9.164705615597644,
          9.371718789527325,
          8.230311475859931,
          9.05093550651867,
          9.66034926783923,
          8.490073624681056,
          9.038520249111448,
          9.056267814531829,
          8.958199849582822,
          8.362571567345427,
          8.866618194097388,
          8.584587161815236,
          8.987484210120021,
          8.888505239378471,
          8.890210495386773,
          9.102339151549796,
          8.507055305629482,
          8.708259583302688,
          8.709836548760181,
          8.821644139516442,
          8.625322522637424,
          8.562701080398085,
          8.58474649732776,
          7.809247915543674,
          7.90553681521816,
          8.185277107719845,
          7.801903893786759,
          7.97325070633615,
          7.52360983228462,
          7.450079023669569,
          7.6022921952120335,
          7.709056159698976,
          7.702385796113565,
          7.387633998671378,
          7.506600978822995,
          7.362253054320585,
          7.015060721987424,
          7.238288575830287,
          8.076813751254036,
          6.808702989545561,
          7.218332098199159,
          6.587086910183416,
          6.3870363458114605
         ],
         "yaxis": "y"
        },
        {
         "hovertemplate": "Observation Method=V<br>Observation Date=%{x}<br>Max apparent total magnitude reduced=%{y}<extra></extra>",
         "legendgroup": "V",
         "marker": {
          "color": "#00cc96",
          "symbol": "circle"
         },
         "mode": "markers",
         "name": "V",
         "orientation": "v",
         "showlegend": true,
         "type": "scatter",
         "x": [
          "2023-03-22T00:00:00",
          "2023-04-24T00:00:00",
          "2023-07-11T00:00:00",
          "2023-08-13T00:00:00",
          "2023-12-25T00:00:00",
          "2024-06-15T00:00:00"
         ],
         "xaxis": "x",
         "y": [
          10.234218051745135,
          9.323293263560606,
          8.78300362714047,
          8.61711152487418,
          7.764985234101802,
          7.300243668851318
         ],
         "yaxis": "y"
        },
        {
         "hovertemplate": "Observation Method=S<br>Observation Date=%{x}<br>Max apparent total magnitude reduced=%{y}<extra></extra>",
         "legendgroup": "S",
         "marker": {
          "color": "#ab63fa",
          "symbol": "circle"
         },
         "mode": "markers",
         "name": "S",
         "orientation": "v",
         "showlegend": true,
         "type": "scatter",
         "x": [
          "2023-04-13T00:00:00",
          "2024-01-20T00:00:00",
          "2024-02-12T00:00:00",
          "2024-02-14T00:00:00",
          "2024-03-10T00:00:00",
          "2024-05-18T00:00:00",
          "2024-05-19T00:00:00",
          "2024-05-27T00:00:00",
          "2024-06-14T00:00:00",
          "2024-06-30T00:00:00",
          "2024-07-03T00:00:00",
          "2024-07-05T00:00:00",
          "2024-07-07T00:00:00",
          "2024-07-08T00:00:00",
          "2024-07-15T00:00:00",
          "2024-07-17T00:00:00",
          "2024-07-24T00:00:00",
          "2024-07-28T00:00:00",
          "2024-08-05T00:00:00"
         ],
         "xaxis": "x",
         "y": [
          6.337260199155374,
          7.046326012944568,
          7.47122192948594,
          7.2215148542017,
          7.002005030399787,
          6.263011790111697,
          6.573824258283425,
          6.852366907187026,
          7.793077136165832,
          7.348624788294217,
          7.385677165665664,
          7.613852733158981,
          7.241664545274473,
          6.856935211239989,
          7.3764165322113415,
          6.916038474873535,
          6.871099100020524,
          6.5745601672906915,
          6.421514928606122
         ],
         "yaxis": "y"
        },
        {
         "hovertemplate": "Observation Method=M<br>Observation Date=%{x}<br>Max apparent total magnitude reduced=%{y}<extra></extra>",
         "legendgroup": "M",
         "marker": {
          "color": "#FFA15A",
          "symbol": "circle"
         },
         "mode": "markers",
         "name": "M",
         "orientation": "v",
         "showlegend": true,
         "type": "scatter",
         "x": [
          "2024-01-18T00:00:00",
          "2024-03-11T00:00:00",
          "2024-03-12T00:00:00",
          "2024-03-13T00:00:00",
          "2024-05-05T00:00:00",
          "2024-06-06T00:00:00",
          "2024-06-19T00:00:00",
          "2024-06-20T00:00:00",
          "2024-06-21T00:00:00",
          "2024-06-27T00:00:00",
          "2024-07-01T00:00:00",
          "2024-07-02T00:00:00",
          "2024-07-06T00:00:00",
          "2024-07-09T00:00:00",
          "2024-07-10T00:00:00",
          "2024-07-23T00:00:00",
          "2024-07-25T00:00:00",
          "2024-07-31T00:00:00",
          "2024-08-03T00:00:00",
          "2024-08-06T00:00:00",
          "2024-08-07T00:00:00",
          "2024-08-10T00:00:00",
          "2024-08-11T00:00:00"
         ],
         "xaxis": "x",
         "y": [
          7.70533767923335,
          7.631457520757079,
          7.660514283185994,
          7.089005975472313,
          6.480615047123692,
          6.630792475636589,
          7.3347886904983675,
          7.143796305175933,
          7.654010943275559,
          7.013051759018365,
          6.960402708387557,
          6.873500577652371,
          6.92766565358681,
          6.972393174766832,
          6.8892957861797575,
          6.6465950026461424,
          7.0958828742317195,
          6.46037515371456,
          6.654149839314865,
          6.456375585715757,
          6.692759481184672,
          6.505825585380024,
          6.545233663332326
         ],
         "yaxis": "y"
        },
        {
         "hovertemplate": "Observation Method=B<br>Observation Date=%{x}<br>Max apparent total magnitude reduced=%{y}<extra></extra>",
         "legendgroup": "B",
         "marker": {
          "color": "#19d3f3",
          "symbol": "circle"
         },
         "mode": "markers",
         "name": "B",
         "orientation": "v",
         "showlegend": true,
         "type": "scatter",
         "x": [
          "2024-04-08T00:00:00",
          "2024-04-09T00:00:00",
          "2024-04-28T00:00:00",
          "2024-04-29T00:00:00",
          "2024-04-30T00:00:00",
          "2024-05-01T00:00:00",
          "2024-05-03T00:00:00",
          "2024-05-04T00:00:00",
          "2024-05-06T00:00:00",
          "2024-05-07T00:00:00",
          "2024-05-11T00:00:00",
          "2024-05-13T00:00:00",
          "2024-05-29T00:00:00",
          "2024-06-01T00:00:00",
          "2024-06-10T00:00:00",
          "2024-06-26T00:00:00"
         ],
         "xaxis": "x",
         "y": [
          6.551144564152951,
          6.279034233232123,
          6.448080223386951,
          5.867681067059486,
          6.188152379371633,
          6.106733558991754,
          6.543720587469777,
          6.162126911496768,
          6.59593648456457,
          6.513352958635717,
          6.6743098564905345,
          6.301274452669435,
          6.668972810409025,
          6.792898130298216,
          6.561056975974588,
          6.903013200087317
         ],
         "yaxis": "y"
        },
        {
         "hovertemplate": "Observation Method=D<br>Observation Date=%{x}<br>Max apparent total magnitude reduced=%{y}<extra></extra>",
         "legendgroup": "D",
         "marker": {
          "color": "#FF6692",
          "symbol": "circle"
         },
         "mode": "markers",
         "name": "D",
         "orientation": "v",
         "showlegend": true,
         "type": "scatter",
         "x": [
          "2024-06-18T00:00:00"
         ],
         "xaxis": "x",
         "y": [
          6.625917643988231
         ],
         "yaxis": "y"
        }
       ],
       "layout": {
        "legend": {
         "title": {
          "text": "Observation Method"
         },
         "tracegroupgap": 0
        },
        "template": {
         "data": {
          "bar": [
           {
            "error_x": {
             "color": "#f2f5fa"
            },
            "error_y": {
             "color": "#f2f5fa"
            },
            "marker": {
             "line": {
              "color": "rgb(17,17,17)",
              "width": 0.5
             },
             "pattern": {
              "fillmode": "overlay",
              "size": 10,
              "solidity": 0.2
             }
            },
            "type": "bar"
           }
          ],
          "barpolar": [
           {
            "marker": {
             "line": {
              "color": "rgb(17,17,17)",
              "width": 0.5
             },
             "pattern": {
              "fillmode": "overlay",
              "size": 10,
              "solidity": 0.2
             }
            },
            "type": "barpolar"
           }
          ],
          "carpet": [
           {
            "aaxis": {
             "endlinecolor": "#A2B1C6",
             "gridcolor": "#506784",
             "linecolor": "#506784",
             "minorgridcolor": "#506784",
             "startlinecolor": "#A2B1C6"
            },
            "baxis": {
             "endlinecolor": "#A2B1C6",
             "gridcolor": "#506784",
             "linecolor": "#506784",
             "minorgridcolor": "#506784",
             "startlinecolor": "#A2B1C6"
            },
            "type": "carpet"
           }
          ],
          "choropleth": [
           {
            "colorbar": {
             "outlinewidth": 0,
             "ticks": ""
            },
            "type": "choropleth"
           }
          ],
          "contour": [
           {
            "colorbar": {
             "outlinewidth": 0,
             "ticks": ""
            },
            "colorscale": [
             [
              0,
              "#0d0887"
             ],
             [
              0.1111111111111111,
              "#46039f"
             ],
             [
              0.2222222222222222,
              "#7201a8"
             ],
             [
              0.3333333333333333,
              "#9c179e"
             ],
             [
              0.4444444444444444,
              "#bd3786"
             ],
             [
              0.5555555555555556,
              "#d8576b"
             ],
             [
              0.6666666666666666,
              "#ed7953"
             ],
             [
              0.7777777777777778,
              "#fb9f3a"
             ],
             [
              0.8888888888888888,
              "#fdca26"
             ],
             [
              1,
              "#f0f921"
             ]
            ],
            "type": "contour"
           }
          ],
          "contourcarpet": [
           {
            "colorbar": {
             "outlinewidth": 0,
             "ticks": ""
            },
            "type": "contourcarpet"
           }
          ],
          "heatmap": [
           {
            "colorbar": {
             "outlinewidth": 0,
             "ticks": ""
            },
            "colorscale": [
             [
              0,
              "#0d0887"
             ],
             [
              0.1111111111111111,
              "#46039f"
             ],
             [
              0.2222222222222222,
              "#7201a8"
             ],
             [
              0.3333333333333333,
              "#9c179e"
             ],
             [
              0.4444444444444444,
              "#bd3786"
             ],
             [
              0.5555555555555556,
              "#d8576b"
             ],
             [
              0.6666666666666666,
              "#ed7953"
             ],
             [
              0.7777777777777778,
              "#fb9f3a"
             ],
             [
              0.8888888888888888,
              "#fdca26"
             ],
             [
              1,
              "#f0f921"
             ]
            ],
            "type": "heatmap"
           }
          ],
          "heatmapgl": [
           {
            "colorbar": {
             "outlinewidth": 0,
             "ticks": ""
            },
            "colorscale": [
             [
              0,
              "#0d0887"
             ],
             [
              0.1111111111111111,
              "#46039f"
             ],
             [
              0.2222222222222222,
              "#7201a8"
             ],
             [
              0.3333333333333333,
              "#9c179e"
             ],
             [
              0.4444444444444444,
              "#bd3786"
             ],
             [
              0.5555555555555556,
              "#d8576b"
             ],
             [
              0.6666666666666666,
              "#ed7953"
             ],
             [
              0.7777777777777778,
              "#fb9f3a"
             ],
             [
              0.8888888888888888,
              "#fdca26"
             ],
             [
              1,
              "#f0f921"
             ]
            ],
            "type": "heatmapgl"
           }
          ],
          "histogram": [
           {
            "marker": {
             "pattern": {
              "fillmode": "overlay",
              "size": 10,
              "solidity": 0.2
             }
            },
            "type": "histogram"
           }
          ],
          "histogram2d": [
           {
            "colorbar": {
             "outlinewidth": 0,
             "ticks": ""
            },
            "colorscale": [
             [
              0,
              "#0d0887"
             ],
             [
              0.1111111111111111,
              "#46039f"
             ],
             [
              0.2222222222222222,
              "#7201a8"
             ],
             [
              0.3333333333333333,
              "#9c179e"
             ],
             [
              0.4444444444444444,
              "#bd3786"
             ],
             [
              0.5555555555555556,
              "#d8576b"
             ],
             [
              0.6666666666666666,
              "#ed7953"
             ],
             [
              0.7777777777777778,
              "#fb9f3a"
             ],
             [
              0.8888888888888888,
              "#fdca26"
             ],
             [
              1,
              "#f0f921"
             ]
            ],
            "type": "histogram2d"
           }
          ],
          "histogram2dcontour": [
           {
            "colorbar": {
             "outlinewidth": 0,
             "ticks": ""
            },
            "colorscale": [
             [
              0,
              "#0d0887"
             ],
             [
              0.1111111111111111,
              "#46039f"
             ],
             [
              0.2222222222222222,
              "#7201a8"
             ],
             [
              0.3333333333333333,
              "#9c179e"
             ],
             [
              0.4444444444444444,
              "#bd3786"
             ],
             [
              0.5555555555555556,
              "#d8576b"
             ],
             [
              0.6666666666666666,
              "#ed7953"
             ],
             [
              0.7777777777777778,
              "#fb9f3a"
             ],
             [
              0.8888888888888888,
              "#fdca26"
             ],
             [
              1,
              "#f0f921"
             ]
            ],
            "type": "histogram2dcontour"
           }
          ],
          "mesh3d": [
           {
            "colorbar": {
             "outlinewidth": 0,
             "ticks": ""
            },
            "type": "mesh3d"
           }
          ],
          "parcoords": [
           {
            "line": {
             "colorbar": {
              "outlinewidth": 0,
              "ticks": ""
             }
            },
            "type": "parcoords"
           }
          ],
          "pie": [
           {
            "automargin": true,
            "type": "pie"
           }
          ],
          "scatter": [
           {
            "marker": {
             "line": {
              "color": "#283442"
             }
            },
            "type": "scatter"
           }
          ],
          "scatter3d": [
           {
            "line": {
             "colorbar": {
              "outlinewidth": 0,
              "ticks": ""
             }
            },
            "marker": {
             "colorbar": {
              "outlinewidth": 0,
              "ticks": ""
             }
            },
            "type": "scatter3d"
           }
          ],
          "scattercarpet": [
           {
            "marker": {
             "colorbar": {
              "outlinewidth": 0,
              "ticks": ""
             }
            },
            "type": "scattercarpet"
           }
          ],
          "scattergeo": [
           {
            "marker": {
             "colorbar": {
              "outlinewidth": 0,
              "ticks": ""
             }
            },
            "type": "scattergeo"
           }
          ],
          "scattergl": [
           {
            "marker": {
             "line": {
              "color": "#283442"
             }
            },
            "type": "scattergl"
           }
          ],
          "scattermapbox": [
           {
            "marker": {
             "colorbar": {
              "outlinewidth": 0,
              "ticks": ""
             }
            },
            "type": "scattermapbox"
           }
          ],
          "scatterpolar": [
           {
            "marker": {
             "colorbar": {
              "outlinewidth": 0,
              "ticks": ""
             }
            },
            "type": "scatterpolar"
           }
          ],
          "scatterpolargl": [
           {
            "marker": {
             "colorbar": {
              "outlinewidth": 0,
              "ticks": ""
             }
            },
            "type": "scatterpolargl"
           }
          ],
          "scatterternary": [
           {
            "marker": {
             "colorbar": {
              "outlinewidth": 0,
              "ticks": ""
             }
            },
            "type": "scatterternary"
           }
          ],
          "surface": [
           {
            "colorbar": {
             "outlinewidth": 0,
             "ticks": ""
            },
            "colorscale": [
             [
              0,
              "#0d0887"
             ],
             [
              0.1111111111111111,
              "#46039f"
             ],
             [
              0.2222222222222222,
              "#7201a8"
             ],
             [
              0.3333333333333333,
              "#9c179e"
             ],
             [
              0.4444444444444444,
              "#bd3786"
             ],
             [
              0.5555555555555556,
              "#d8576b"
             ],
             [
              0.6666666666666666,
              "#ed7953"
             ],
             [
              0.7777777777777778,
              "#fb9f3a"
             ],
             [
              0.8888888888888888,
              "#fdca26"
             ],
             [
              1,
              "#f0f921"
             ]
            ],
            "type": "surface"
           }
          ],
          "table": [
           {
            "cells": {
             "fill": {
              "color": "#506784"
             },
             "line": {
              "color": "rgb(17,17,17)"
             }
            },
            "header": {
             "fill": {
              "color": "#2a3f5f"
             },
             "line": {
              "color": "rgb(17,17,17)"
             }
            },
            "type": "table"
           }
          ]
         },
         "layout": {
          "annotationdefaults": {
           "arrowcolor": "#f2f5fa",
           "arrowhead": 0,
           "arrowwidth": 1
          },
          "autotypenumbers": "strict",
          "coloraxis": {
           "colorbar": {
            "outlinewidth": 0,
            "ticks": ""
           }
          },
          "colorscale": {
           "diverging": [
            [
             0,
             "#8e0152"
            ],
            [
             0.1,
             "#c51b7d"
            ],
            [
             0.2,
             "#de77ae"
            ],
            [
             0.3,
             "#f1b6da"
            ],
            [
             0.4,
             "#fde0ef"
            ],
            [
             0.5,
             "#f7f7f7"
            ],
            [
             0.6,
             "#e6f5d0"
            ],
            [
             0.7,
             "#b8e186"
            ],
            [
             0.8,
             "#7fbc41"
            ],
            [
             0.9,
             "#4d9221"
            ],
            [
             1,
             "#276419"
            ]
           ],
           "sequential": [
            [
             0,
             "#0d0887"
            ],
            [
             0.1111111111111111,
             "#46039f"
            ],
            [
             0.2222222222222222,
             "#7201a8"
            ],
            [
             0.3333333333333333,
             "#9c179e"
            ],
            [
             0.4444444444444444,
             "#bd3786"
            ],
            [
             0.5555555555555556,
             "#d8576b"
            ],
            [
             0.6666666666666666,
             "#ed7953"
            ],
            [
             0.7777777777777778,
             "#fb9f3a"
            ],
            [
             0.8888888888888888,
             "#fdca26"
            ],
            [
             1,
             "#f0f921"
            ]
           ],
           "sequentialminus": [
            [
             0,
             "#0d0887"
            ],
            [
             0.1111111111111111,
             "#46039f"
            ],
            [
             0.2222222222222222,
             "#7201a8"
            ],
            [
             0.3333333333333333,
             "#9c179e"
            ],
            [
             0.4444444444444444,
             "#bd3786"
            ],
            [
             0.5555555555555556,
             "#d8576b"
            ],
            [
             0.6666666666666666,
             "#ed7953"
            ],
            [
             0.7777777777777778,
             "#fb9f3a"
            ],
            [
             0.8888888888888888,
             "#fdca26"
            ],
            [
             1,
             "#f0f921"
            ]
           ]
          },
          "colorway": [
           "#636efa",
           "#EF553B",
           "#00cc96",
           "#ab63fa",
           "#FFA15A",
           "#19d3f3",
           "#FF6692",
           "#B6E880",
           "#FF97FF",
           "#FECB52"
          ],
          "font": {
           "color": "#f2f5fa"
          },
          "geo": {
           "bgcolor": "rgb(17,17,17)",
           "lakecolor": "rgb(17,17,17)",
           "landcolor": "rgb(17,17,17)",
           "showlakes": true,
           "showland": true,
           "subunitcolor": "#506784"
          },
          "hoverlabel": {
           "align": "left"
          },
          "hovermode": "closest",
          "mapbox": {
           "style": "dark"
          },
          "paper_bgcolor": "rgb(17,17,17)",
          "plot_bgcolor": "rgb(17,17,17)",
          "polar": {
           "angularaxis": {
            "gridcolor": "#506784",
            "linecolor": "#506784",
            "ticks": ""
           },
           "bgcolor": "rgb(17,17,17)",
           "radialaxis": {
            "gridcolor": "#506784",
            "linecolor": "#506784",
            "ticks": ""
           }
          },
          "scene": {
           "xaxis": {
            "backgroundcolor": "rgb(17,17,17)",
            "gridcolor": "#506784",
            "gridwidth": 2,
            "linecolor": "#506784",
            "showbackground": true,
            "ticks": "",
            "zerolinecolor": "#C8D4E3"
           },
           "yaxis": {
            "backgroundcolor": "rgb(17,17,17)",
            "gridcolor": "#506784",
            "gridwidth": 2,
            "linecolor": "#506784",
            "showbackground": true,
            "ticks": "",
            "zerolinecolor": "#C8D4E3"
           },
           "zaxis": {
            "backgroundcolor": "rgb(17,17,17)",
            "gridcolor": "#506784",
            "gridwidth": 2,
            "linecolor": "#506784",
            "showbackground": true,
            "ticks": "",
            "zerolinecolor": "#C8D4E3"
           }
          },
          "shapedefaults": {
           "line": {
            "color": "#f2f5fa"
           }
          },
          "sliderdefaults": {
           "bgcolor": "#C8D4E3",
           "bordercolor": "rgb(17,17,17)",
           "borderwidth": 1,
           "tickwidth": 0
          },
          "ternary": {
           "aaxis": {
            "gridcolor": "#506784",
            "linecolor": "#506784",
            "ticks": ""
           },
           "baxis": {
            "gridcolor": "#506784",
            "linecolor": "#506784",
            "ticks": ""
           },
           "bgcolor": "rgb(17,17,17)",
           "caxis": {
            "gridcolor": "#506784",
            "linecolor": "#506784",
            "ticks": ""
           }
          },
          "title": {
           "x": 0.05
          },
          "updatemenudefaults": {
           "bgcolor": "#506784",
           "borderwidth": 0
          },
          "xaxis": {
           "automargin": true,
           "gridcolor": "#283442",
           "linecolor": "#506784",
           "ticks": "",
           "title": {
            "standoff": 15
           },
           "zerolinecolor": "#283442",
           "zerolinewidth": 2
          },
          "yaxis": {
           "automargin": true,
           "gridcolor": "#283442",
           "linecolor": "#506784",
           "ticks": "",
           "title": {
            "standoff": 15
           },
           "zerolinecolor": "#283442",
           "zerolinewidth": 2
          }
         }
        },
        "title": {
         "text": "Min Lightcurve of comet C/2023 A3 (Tsuchinshan-ATLAS)"
        },
        "xaxis": {
         "anchor": "y",
         "domain": [
          0,
          1
         ],
         "title": {
          "text": "Observation Date"
         }
        },
        "yaxis": {
         "anchor": "x",
         "autorange": "reversed",
         "domain": [
          0,
          1
         ],
         "title": {
          "text": "Max apparent total magnitude reduced"
         }
        }
       }
      }
     },
     "metadata": {},
     "output_type": "display_data"
    }
   ],
   "source": [
    "# Curva de luz reducida\n",
    "labels = {'obs_date':'Observation Date','magnitud_reducida':'Max apparent total magnitude reduced', 'obs_method_key' : 'Observation Method'}\n",
    "fig = px.scatter(curva_de_luz_externa_df, x=curva_de_luz_externa_df.obs_date, y='magnitud_reducida', color='obs_method_key', template= 'plotly_dark', labels= labels, title='Min Lightcurve of comet C/2023 A3 (Tsuchinshan-ATLAS)')\n",
    "fig.update_yaxes(autorange=\"reversed\")\n",
    "fig.show()"
   ]
  },
  {
   "cell_type": "code",
   "execution_count": 28,
   "metadata": {},
   "outputs": [
    {
     "data": {
      "application/vnd.plotly.v1+json": {
       "config": {
        "plotlyServerURL": "https://plot.ly"
       },
       "data": [
        {
         "hovertemplate": "Observation Date=%{x}<br>promedio_movil=%{y}<extra></extra>",
         "legendgroup": "",
         "marker": {
          "color": "yellow",
          "line": {
           "color": "DarkSlateGrey",
           "width": 1
          },
          "size": 6,
          "symbol": "circle"
         },
         "mode": "markers",
         "name": "",
         "orientation": "v",
         "showlegend": false,
         "type": "scatter",
         "x": [
          "2023-02-25T00:00:00",
          "2023-02-26T00:00:00",
          "2023-02-27T00:00:00",
          "2023-02-28T00:00:00",
          "2023-03-01T00:00:00",
          "2023-03-02T00:00:00",
          "2023-03-03T00:00:00",
          "2023-03-15T00:00:00",
          "2023-03-16T00:00:00",
          "2023-03-18T00:00:00",
          "2023-03-19T00:00:00",
          "2023-03-21T00:00:00",
          "2023-03-22T00:00:00",
          "2023-03-24T00:00:00",
          "2023-03-26T00:00:00",
          "2023-03-28T00:00:00",
          "2023-03-29T00:00:00",
          "2023-03-30T00:00:00",
          "2023-04-01T00:00:00",
          "2023-04-09T00:00:00",
          "2023-04-11T00:00:00",
          "2023-04-13T00:00:00",
          "2023-04-14T00:00:00",
          "2023-04-16T00:00:00",
          "2023-04-17T00:00:00",
          "2023-04-20T00:00:00",
          "2023-04-21T00:00:00",
          "2023-04-22T00:00:00",
          "2023-04-23T00:00:00",
          "2023-04-24T00:00:00",
          "2023-04-25T00:00:00",
          "2023-04-26T00:00:00",
          "2023-04-27T00:00:00",
          "2023-04-28T00:00:00",
          "2023-04-29T00:00:00",
          "2023-04-30T00:00:00",
          "2023-05-01T00:00:00",
          "2023-05-07T00:00:00",
          "2023-05-11T00:00:00",
          "2023-05-13T00:00:00",
          "2023-05-14T00:00:00",
          "2023-05-15T00:00:00",
          "2023-05-16T00:00:00",
          "2023-05-17T00:00:00",
          "2023-05-18T00:00:00",
          "2023-05-19T00:00:00",
          "2023-05-21T00:00:00",
          "2023-05-22T00:00:00",
          "2023-05-23T00:00:00",
          "2023-05-24T00:00:00",
          "2023-05-25T00:00:00",
          "2023-05-26T00:00:00",
          "2023-05-27T00:00:00",
          "2023-05-28T00:00:00",
          "2023-05-29T00:00:00",
          "2023-05-31T00:00:00",
          "2023-06-01T00:00:00",
          "2023-06-02T00:00:00",
          "2023-06-03T00:00:00",
          "2023-06-04T00:00:00",
          "2023-06-05T00:00:00",
          "2023-06-07T00:00:00",
          "2023-06-08T00:00:00",
          "2023-06-09T00:00:00",
          "2023-06-10T00:00:00",
          "2023-06-11T00:00:00",
          "2023-06-12T00:00:00",
          "2023-06-13T00:00:00",
          "2023-06-14T00:00:00",
          "2023-06-15T00:00:00",
          "2023-06-16T00:00:00",
          "2023-06-18T00:00:00",
          "2023-06-19T00:00:00",
          "2023-06-22T00:00:00",
          "2023-06-24T00:00:00",
          "2023-06-25T00:00:00",
          "2023-07-06T00:00:00",
          "2023-07-07T00:00:00",
          "2023-07-08T00:00:00",
          "2023-07-11T00:00:00",
          "2023-07-12T00:00:00",
          "2023-07-13T00:00:00",
          "2023-07-15T00:00:00",
          "2023-07-17T00:00:00",
          "2023-07-18T00:00:00",
          "2023-07-20T00:00:00",
          "2023-08-02T00:00:00",
          "2023-08-06T00:00:00",
          "2023-08-07T00:00:00",
          "2023-08-08T00:00:00",
          "2023-08-13T00:00:00",
          "2023-08-16T00:00:00",
          "2023-08-18T00:00:00",
          "2023-08-21T00:00:00",
          "2023-09-03T00:00:00",
          "2023-09-05T00:00:00",
          "2023-09-06T00:00:00",
          "2023-09-10T00:00:00",
          "2023-11-28T00:00:00",
          "2023-12-07T00:00:00",
          "2023-12-10T00:00:00",
          "2023-12-15T00:00:00",
          "2023-12-18T00:00:00",
          "2023-12-19T00:00:00",
          "2023-12-20T00:00:00",
          "2023-12-21T00:00:00",
          "2023-12-22T00:00:00",
          "2023-12-25T00:00:00",
          "2023-12-27T00:00:00",
          "2023-12-31T00:00:00",
          "2024-01-04T00:00:00",
          "2024-01-05T00:00:00",
          "2024-01-07T00:00:00",
          "2024-01-08T00:00:00",
          "2024-01-09T00:00:00",
          "2024-01-10T00:00:00",
          "2024-01-13T00:00:00",
          "2024-01-14T00:00:00",
          "2024-01-17T00:00:00",
          "2024-01-18T00:00:00",
          "2024-01-20T00:00:00",
          "2024-01-21T00:00:00",
          "2024-01-22T00:00:00",
          "2024-01-24T00:00:00",
          "2024-01-28T00:00:00",
          "2024-01-29T00:00:00",
          "2024-02-05T00:00:00",
          "2024-02-07T00:00:00",
          "2024-02-08T00:00:00",
          "2024-02-09T00:00:00",
          "2024-02-10T00:00:00",
          "2024-02-12T00:00:00",
          "2024-02-13T00:00:00",
          "2024-02-14T00:00:00",
          "2024-02-16T00:00:00",
          "2024-02-17T00:00:00",
          "2024-02-18T00:00:00",
          "2024-02-19T00:00:00",
          "2024-02-20T00:00:00",
          "2024-02-21T00:00:00",
          "2024-02-24T00:00:00",
          "2024-02-25T00:00:00",
          "2024-02-29T00:00:00",
          "2024-03-03T00:00:00",
          "2024-03-04T00:00:00",
          "2024-03-05T00:00:00",
          "2024-03-06T00:00:00",
          "2024-03-07T00:00:00",
          "2024-03-08T00:00:00",
          "2024-03-09T00:00:00",
          "2024-03-10T00:00:00",
          "2024-03-11T00:00:00",
          "2024-03-12T00:00:00",
          "2024-03-13T00:00:00",
          "2024-03-14T00:00:00",
          "2024-03-15T00:00:00",
          "2024-03-16T00:00:00",
          "2024-03-17T00:00:00",
          "2024-03-18T00:00:00",
          "2024-03-19T00:00:00",
          "2024-03-20T00:00:00",
          "2024-03-21T00:00:00",
          "2024-03-22T00:00:00",
          "2024-03-23T00:00:00",
          "2024-03-24T00:00:00",
          "2024-03-25T00:00:00",
          "2024-03-28T00:00:00",
          "2024-03-29T00:00:00",
          "2024-03-30T00:00:00",
          "2024-03-31T00:00:00",
          "2024-04-01T00:00:00",
          "2024-04-02T00:00:00",
          "2024-04-03T00:00:00",
          "2024-04-04T00:00:00",
          "2024-04-05T00:00:00",
          "2024-04-06T00:00:00",
          "2024-04-07T00:00:00",
          "2024-04-08T00:00:00",
          "2024-04-09T00:00:00",
          "2024-04-10T00:00:00",
          "2024-04-11T00:00:00",
          "2024-04-12T00:00:00",
          "2024-04-13T00:00:00",
          "2024-04-14T00:00:00",
          "2024-04-15T00:00:00",
          "2024-04-16T00:00:00",
          "2024-04-17T00:00:00",
          "2024-04-18T00:00:00",
          "2024-04-19T00:00:00",
          "2024-04-20T00:00:00",
          "2024-04-21T00:00:00",
          "2024-04-22T00:00:00",
          "2024-04-23T00:00:00",
          "2024-04-24T00:00:00",
          "2024-04-25T00:00:00",
          "2024-04-26T00:00:00",
          "2024-04-27T00:00:00",
          "2024-04-28T00:00:00",
          "2024-04-29T00:00:00",
          "2024-04-30T00:00:00",
          "2024-05-01T00:00:00",
          "2024-05-02T00:00:00",
          "2024-05-03T00:00:00",
          "2024-05-04T00:00:00",
          "2024-05-05T00:00:00",
          "2024-05-06T00:00:00",
          "2024-05-07T00:00:00",
          "2024-05-08T00:00:00",
          "2024-05-09T00:00:00",
          "2024-05-10T00:00:00",
          "2024-05-11T00:00:00",
          "2024-05-12T00:00:00",
          "2024-05-13T00:00:00",
          "2024-05-14T00:00:00",
          "2024-05-15T00:00:00",
          "2024-05-16T00:00:00",
          "2024-05-17T00:00:00",
          "2024-05-18T00:00:00",
          "2024-05-19T00:00:00",
          "2024-05-20T00:00:00",
          "2024-05-22T00:00:00",
          "2024-05-23T00:00:00",
          "2024-05-24T00:00:00",
          "2024-05-25T00:00:00",
          "2024-05-26T00:00:00",
          "2024-05-27T00:00:00",
          "2024-05-28T00:00:00",
          "2024-05-29T00:00:00",
          "2024-05-30T00:00:00",
          "2024-05-31T00:00:00",
          "2024-06-01T00:00:00",
          "2024-06-02T00:00:00",
          "2024-06-03T00:00:00",
          "2024-06-04T00:00:00",
          "2024-06-05T00:00:00",
          "2024-06-06T00:00:00",
          "2024-06-07T00:00:00",
          "2024-06-08T00:00:00",
          "2024-06-09T00:00:00",
          "2024-06-10T00:00:00",
          "2024-06-11T00:00:00",
          "2024-06-12T00:00:00",
          "2024-06-13T00:00:00",
          "2024-06-14T00:00:00",
          "2024-06-15T00:00:00",
          "2024-06-16T00:00:00",
          "2024-06-17T00:00:00",
          "2024-06-18T00:00:00",
          "2024-06-19T00:00:00",
          "2024-06-20T00:00:00",
          "2024-06-21T00:00:00",
          "2024-06-22T00:00:00",
          "2024-06-23T00:00:00",
          "2024-06-24T00:00:00",
          "2024-06-25T00:00:00",
          "2024-06-26T00:00:00",
          "2024-06-27T00:00:00",
          "2024-06-28T00:00:00",
          "2024-06-29T00:00:00",
          "2024-06-30T00:00:00",
          "2024-07-01T00:00:00",
          "2024-07-02T00:00:00",
          "2024-07-03T00:00:00",
          "2024-07-04T00:00:00",
          "2024-07-05T00:00:00",
          "2024-07-06T00:00:00",
          "2024-07-07T00:00:00",
          "2024-07-08T00:00:00",
          "2024-07-09T00:00:00",
          "2024-07-10T00:00:00",
          "2024-07-11T00:00:00",
          "2024-07-12T00:00:00",
          "2024-07-13T00:00:00",
          "2024-07-14T00:00:00",
          "2024-07-15T00:00:00",
          "2024-07-16T00:00:00",
          "2024-07-17T00:00:00",
          "2024-07-18T00:00:00",
          "2024-07-19T00:00:00",
          "2024-07-20T00:00:00",
          "2024-07-21T00:00:00",
          "2024-07-22T00:00:00",
          "2024-07-23T00:00:00",
          "2024-07-24T00:00:00",
          "2024-07-25T00:00:00",
          "2024-07-26T00:00:00",
          "2024-07-27T00:00:00",
          "2024-07-28T00:00:00",
          "2024-07-29T00:00:00",
          "2024-07-30T00:00:00",
          "2024-07-31T00:00:00",
          "2024-08-01T00:00:00",
          "2024-08-02T00:00:00",
          "2024-08-03T00:00:00",
          "2024-08-04T00:00:00",
          "2024-08-05T00:00:00",
          "2024-08-06T00:00:00",
          "2024-08-07T00:00:00",
          "2024-08-09T00:00:00",
          "2024-08-10T00:00:00",
          "2024-08-11T00:00:00",
          "2024-08-12T00:00:00"
         ],
         "xaxis": "x",
         "y": [
          null,
          null,
          null,
          null,
          null,
          null,
          9.466173845033113,
          9.47850538063974,
          9.462204491743362,
          9.418719583433342,
          9.403747263053898,
          9.504460314579719,
          9.576498639664663,
          9.549902808509545,
          9.522731099914939,
          9.525416895951805,
          9.555174082164985,
          9.499110728805489,
          8.957168249870683,
          8.824150345169405,
          8.81932029943584,
          8.399813577512246,
          8.350196471480162,
          8.172945143997506,
          8.209819266347663,
          8.561655965980215,
          8.51853603569834,
          8.416859849358591,
          8.642437847716995,
          8.667826141611787,
          8.763365428219517,
          8.744477836219362,
          8.766068923494732,
          8.758941036147828,
          8.823146707409045,
          9.001489482828108,
          9.008407415109067,
          9.019492488856203,
          8.932725974549372,
          8.946458909425756,
          8.88855699416089,
          8.887543981968696,
          8.814792771759135,
          8.856025697232264,
          8.86411283483791,
          8.912546188957155,
          8.846431782680273,
          8.865825335932055,
          8.770876579238257,
          8.747251790745448,
          8.594840550037862,
          8.556610154786695,
          8.575418009546995,
          8.57918668333175,
          8.56861886967369,
          8.601181096365538,
          8.633637773573458,
          8.580329861338992,
          8.641195208047566,
          8.659049923994578,
          8.705370477635807,
          8.709104612414654,
          8.697966339556435,
          8.743859180124288,
          8.789646768328653,
          8.735329879450415,
          8.695193748475024,
          8.65495275410414,
          8.657137059326843,
          8.64498557669251,
          8.57564194392957,
          8.64927615819477,
          8.694290713625398,
          8.66822521855787,
          8.656569820597364,
          8.687621870361616,
          8.705773128077269,
          8.680979815240551,
          8.555818225444025,
          8.530790193666546,
          8.576653002938233,
          8.57939697760529,
          8.55357026106446,
          8.612030817929217,
          8.684737047852733,
          8.786176163485683,
          8.831795524115586,
          8.806573248884478,
          8.8242407376684,
          8.827670076303916,
          8.774759692697367,
          8.765208107002792,
          8.727366968038599,
          8.545759024651874,
          8.55370842104739,
          8.462358465800177,
          8.314052962701474,
          8.309429387337701,
          8.117570489777506,
          7.999030950087984,
          7.9570097351381905,
          7.849373568730418,
          7.733025613775999,
          7.689879164708978,
          7.5184911258689295,
          7.49309811730381,
          7.438928573081641,
          7.471507171782731,
          7.412735565091644,
          7.428722998733876,
          7.438324045425666,
          7.433993972050379,
          7.289817239706998,
          7.303225598249449,
          7.24099985621366,
          7.2339024010791295,
          7.310938196483595,
          7.323627189999258,
          7.442278246556319,
          7.644234533556,
          7.577964328969119,
          7.5405890136588445,
          7.517749738683129,
          7.4642840176032275,
          7.477575442977765,
          7.385488238274626,
          7.399283411782257,
          7.42828236667082,
          7.557635634336078,
          7.630442415624434,
          7.657715853108361,
          7.636641394081489,
          7.630256516835252,
          7.54734379689453,
          7.493515109172614,
          7.468475517348559,
          7.443571632395956,
          7.404698517199274,
          7.433965505071781,
          7.4491540280914705,
          7.414946884674526,
          7.534452352758507,
          7.423172543160078,
          7.448711966564212,
          7.4173250674882585,
          7.372054739853242,
          7.3413892832045775,
          7.389028562759828,
          7.2656005150753895,
          7.216229606930083,
          7.116175211828115,
          7.173473324773712,
          7.216518429350516,
          7.17385728317922,
          7.188663188989144,
          7.274818256503189,
          7.318328871063436,
          7.390414006552464,
          7.291196604520238,
          7.1348400535726,
          7.192981367872217,
          7.179607155742034,
          7.194894360547316,
          7.195893853185868,
          7.197008124021058,
          7.2122769337578045,
          7.236105237926563,
          7.2169992206052695,
          7.169239209504588,
          7.078666508880009,
          7.102285823949146,
          7.025904238178366,
          6.977984455013291,
          6.978759486990536,
          6.893627870328233,
          6.851154268610592,
          6.822766012326808,
          6.737168879314777,
          6.637069516308815,
          6.522454585428485,
          6.450471549225822,
          6.406812290929749,
          6.391829626111482,
          6.3907229772368686,
          6.375070036275525,
          6.430571628769598,
          6.500071572429052,
          6.554842346089208,
          6.609412714671727,
          6.620558129473222,
          6.574398485205731,
          6.656325163000571,
          6.737859905163377,
          6.819046867210354,
          6.828285814442093,
          6.78002005578865,
          6.745670105984254,
          6.753743711926688,
          6.589832332651268,
          6.439812876014318,
          6.317791567825155,
          6.3097567035588495,
          6.315309759038036,
          6.2775256071873455,
          6.282173439149738,
          6.386209927364749,
          6.432667152973904,
          6.478793496905632,
          6.424299118929883,
          6.426492516735751,
          6.4996615088777165,
          6.472199035015562,
          6.430104459030543,
          6.444692863978142,
          6.472927379437572,
          6.529445304784987,
          6.528472754478868,
          6.46971588785332,
          6.510493963309723,
          6.579555422319307,
          6.6781220496328535,
          6.762253229803768,
          6.831472198367465,
          6.857386110143186,
          6.9688733607421085,
          7.008665167728338,
          6.9908744447006015,
          6.899950819835641,
          6.822918703676087,
          6.803070800002898,
          6.811532832560063,
          6.691169968761415,
          6.670550535655897,
          6.721415734343809,
          6.729352644576902,
          6.722758280695074,
          6.673239892744154,
          6.695221812440216,
          6.788573862993447,
          6.767577591640046,
          6.789384260794542,
          6.98256748496788,
          7.118865912399216,
          7.28368863289236,
          7.334184647275313,
          7.327664095555217,
          7.421560541587298,
          7.343995536522868,
          7.237991956414916,
          7.1749797903463435,
          7.155113191362019,
          7.063960165448288,
          7.1015184365984,
          6.9677975762281426,
          6.9343837364578915,
          6.872701523542029,
          6.854023731233804,
          6.764233708179271,
          6.8034899496838985,
          6.843063364069309,
          6.939937168752194,
          7.008719999045893,
          7.077671994128513,
          7.1613974153347275,
          7.245450551229749,
          7.24412190488678,
          7.228841870169674,
          7.2140607991485926,
          7.228188313022088,
          7.157276687381243,
          7.1581367130355815,
          7.116482930930249,
          7.175361766396665,
          7.120460584383329,
          7.19467220166495,
          7.15510897073501,
          7.158929354834121,
          7.034736876152089,
          7.111065200282736,
          7.17364703919833,
          7.179814412975831,
          7.072244549054585,
          7.065265183967283,
          7.058845273273996,
          7.110285321554527,
          6.933767929538772,
          6.786551969737268,
          6.73998515254685,
          6.73702060890813,
          6.706307037430016,
          6.647632187957735,
          6.3040890128576805,
          6.30418417279337,
          6.29086577045973,
          6.29265530515869,
          6.26677519791791,
          6.270314566977397,
          6.3035123280445555,
          6.600061860947013,
          6.583519958461914,
          6.567960504750123,
          6.539381852696986
         ],
         "yaxis": "y"
        }
       ],
       "layout": {
        "legend": {
         "tracegroupgap": 0
        },
        "template": {
         "data": {
          "bar": [
           {
            "error_x": {
             "color": "#f2f5fa"
            },
            "error_y": {
             "color": "#f2f5fa"
            },
            "marker": {
             "line": {
              "color": "rgb(17,17,17)",
              "width": 0.5
             },
             "pattern": {
              "fillmode": "overlay",
              "size": 10,
              "solidity": 0.2
             }
            },
            "type": "bar"
           }
          ],
          "barpolar": [
           {
            "marker": {
             "line": {
              "color": "rgb(17,17,17)",
              "width": 0.5
             },
             "pattern": {
              "fillmode": "overlay",
              "size": 10,
              "solidity": 0.2
             }
            },
            "type": "barpolar"
           }
          ],
          "carpet": [
           {
            "aaxis": {
             "endlinecolor": "#A2B1C6",
             "gridcolor": "#506784",
             "linecolor": "#506784",
             "minorgridcolor": "#506784",
             "startlinecolor": "#A2B1C6"
            },
            "baxis": {
             "endlinecolor": "#A2B1C6",
             "gridcolor": "#506784",
             "linecolor": "#506784",
             "minorgridcolor": "#506784",
             "startlinecolor": "#A2B1C6"
            },
            "type": "carpet"
           }
          ],
          "choropleth": [
           {
            "colorbar": {
             "outlinewidth": 0,
             "ticks": ""
            },
            "type": "choropleth"
           }
          ],
          "contour": [
           {
            "colorbar": {
             "outlinewidth": 0,
             "ticks": ""
            },
            "colorscale": [
             [
              0,
              "#0d0887"
             ],
             [
              0.1111111111111111,
              "#46039f"
             ],
             [
              0.2222222222222222,
              "#7201a8"
             ],
             [
              0.3333333333333333,
              "#9c179e"
             ],
             [
              0.4444444444444444,
              "#bd3786"
             ],
             [
              0.5555555555555556,
              "#d8576b"
             ],
             [
              0.6666666666666666,
              "#ed7953"
             ],
             [
              0.7777777777777778,
              "#fb9f3a"
             ],
             [
              0.8888888888888888,
              "#fdca26"
             ],
             [
              1,
              "#f0f921"
             ]
            ],
            "type": "contour"
           }
          ],
          "contourcarpet": [
           {
            "colorbar": {
             "outlinewidth": 0,
             "ticks": ""
            },
            "type": "contourcarpet"
           }
          ],
          "heatmap": [
           {
            "colorbar": {
             "outlinewidth": 0,
             "ticks": ""
            },
            "colorscale": [
             [
              0,
              "#0d0887"
             ],
             [
              0.1111111111111111,
              "#46039f"
             ],
             [
              0.2222222222222222,
              "#7201a8"
             ],
             [
              0.3333333333333333,
              "#9c179e"
             ],
             [
              0.4444444444444444,
              "#bd3786"
             ],
             [
              0.5555555555555556,
              "#d8576b"
             ],
             [
              0.6666666666666666,
              "#ed7953"
             ],
             [
              0.7777777777777778,
              "#fb9f3a"
             ],
             [
              0.8888888888888888,
              "#fdca26"
             ],
             [
              1,
              "#f0f921"
             ]
            ],
            "type": "heatmap"
           }
          ],
          "heatmapgl": [
           {
            "colorbar": {
             "outlinewidth": 0,
             "ticks": ""
            },
            "colorscale": [
             [
              0,
              "#0d0887"
             ],
             [
              0.1111111111111111,
              "#46039f"
             ],
             [
              0.2222222222222222,
              "#7201a8"
             ],
             [
              0.3333333333333333,
              "#9c179e"
             ],
             [
              0.4444444444444444,
              "#bd3786"
             ],
             [
              0.5555555555555556,
              "#d8576b"
             ],
             [
              0.6666666666666666,
              "#ed7953"
             ],
             [
              0.7777777777777778,
              "#fb9f3a"
             ],
             [
              0.8888888888888888,
              "#fdca26"
             ],
             [
              1,
              "#f0f921"
             ]
            ],
            "type": "heatmapgl"
           }
          ],
          "histogram": [
           {
            "marker": {
             "pattern": {
              "fillmode": "overlay",
              "size": 10,
              "solidity": 0.2
             }
            },
            "type": "histogram"
           }
          ],
          "histogram2d": [
           {
            "colorbar": {
             "outlinewidth": 0,
             "ticks": ""
            },
            "colorscale": [
             [
              0,
              "#0d0887"
             ],
             [
              0.1111111111111111,
              "#46039f"
             ],
             [
              0.2222222222222222,
              "#7201a8"
             ],
             [
              0.3333333333333333,
              "#9c179e"
             ],
             [
              0.4444444444444444,
              "#bd3786"
             ],
             [
              0.5555555555555556,
              "#d8576b"
             ],
             [
              0.6666666666666666,
              "#ed7953"
             ],
             [
              0.7777777777777778,
              "#fb9f3a"
             ],
             [
              0.8888888888888888,
              "#fdca26"
             ],
             [
              1,
              "#f0f921"
             ]
            ],
            "type": "histogram2d"
           }
          ],
          "histogram2dcontour": [
           {
            "colorbar": {
             "outlinewidth": 0,
             "ticks": ""
            },
            "colorscale": [
             [
              0,
              "#0d0887"
             ],
             [
              0.1111111111111111,
              "#46039f"
             ],
             [
              0.2222222222222222,
              "#7201a8"
             ],
             [
              0.3333333333333333,
              "#9c179e"
             ],
             [
              0.4444444444444444,
              "#bd3786"
             ],
             [
              0.5555555555555556,
              "#d8576b"
             ],
             [
              0.6666666666666666,
              "#ed7953"
             ],
             [
              0.7777777777777778,
              "#fb9f3a"
             ],
             [
              0.8888888888888888,
              "#fdca26"
             ],
             [
              1,
              "#f0f921"
             ]
            ],
            "type": "histogram2dcontour"
           }
          ],
          "mesh3d": [
           {
            "colorbar": {
             "outlinewidth": 0,
             "ticks": ""
            },
            "type": "mesh3d"
           }
          ],
          "parcoords": [
           {
            "line": {
             "colorbar": {
              "outlinewidth": 0,
              "ticks": ""
             }
            },
            "type": "parcoords"
           }
          ],
          "pie": [
           {
            "automargin": true,
            "type": "pie"
           }
          ],
          "scatter": [
           {
            "marker": {
             "line": {
              "color": "#283442"
             }
            },
            "type": "scatter"
           }
          ],
          "scatter3d": [
           {
            "line": {
             "colorbar": {
              "outlinewidth": 0,
              "ticks": ""
             }
            },
            "marker": {
             "colorbar": {
              "outlinewidth": 0,
              "ticks": ""
             }
            },
            "type": "scatter3d"
           }
          ],
          "scattercarpet": [
           {
            "marker": {
             "colorbar": {
              "outlinewidth": 0,
              "ticks": ""
             }
            },
            "type": "scattercarpet"
           }
          ],
          "scattergeo": [
           {
            "marker": {
             "colorbar": {
              "outlinewidth": 0,
              "ticks": ""
             }
            },
            "type": "scattergeo"
           }
          ],
          "scattergl": [
           {
            "marker": {
             "line": {
              "color": "#283442"
             }
            },
            "type": "scattergl"
           }
          ],
          "scattermapbox": [
           {
            "marker": {
             "colorbar": {
              "outlinewidth": 0,
              "ticks": ""
             }
            },
            "type": "scattermapbox"
           }
          ],
          "scatterpolar": [
           {
            "marker": {
             "colorbar": {
              "outlinewidth": 0,
              "ticks": ""
             }
            },
            "type": "scatterpolar"
           }
          ],
          "scatterpolargl": [
           {
            "marker": {
             "colorbar": {
              "outlinewidth": 0,
              "ticks": ""
             }
            },
            "type": "scatterpolargl"
           }
          ],
          "scatterternary": [
           {
            "marker": {
             "colorbar": {
              "outlinewidth": 0,
              "ticks": ""
             }
            },
            "type": "scatterternary"
           }
          ],
          "surface": [
           {
            "colorbar": {
             "outlinewidth": 0,
             "ticks": ""
            },
            "colorscale": [
             [
              0,
              "#0d0887"
             ],
             [
              0.1111111111111111,
              "#46039f"
             ],
             [
              0.2222222222222222,
              "#7201a8"
             ],
             [
              0.3333333333333333,
              "#9c179e"
             ],
             [
              0.4444444444444444,
              "#bd3786"
             ],
             [
              0.5555555555555556,
              "#d8576b"
             ],
             [
              0.6666666666666666,
              "#ed7953"
             ],
             [
              0.7777777777777778,
              "#fb9f3a"
             ],
             [
              0.8888888888888888,
              "#fdca26"
             ],
             [
              1,
              "#f0f921"
             ]
            ],
            "type": "surface"
           }
          ],
          "table": [
           {
            "cells": {
             "fill": {
              "color": "#506784"
             },
             "line": {
              "color": "rgb(17,17,17)"
             }
            },
            "header": {
             "fill": {
              "color": "#2a3f5f"
             },
             "line": {
              "color": "rgb(17,17,17)"
             }
            },
            "type": "table"
           }
          ]
         },
         "layout": {
          "annotationdefaults": {
           "arrowcolor": "#f2f5fa",
           "arrowhead": 0,
           "arrowwidth": 1
          },
          "autotypenumbers": "strict",
          "coloraxis": {
           "colorbar": {
            "outlinewidth": 0,
            "ticks": ""
           }
          },
          "colorscale": {
           "diverging": [
            [
             0,
             "#8e0152"
            ],
            [
             0.1,
             "#c51b7d"
            ],
            [
             0.2,
             "#de77ae"
            ],
            [
             0.3,
             "#f1b6da"
            ],
            [
             0.4,
             "#fde0ef"
            ],
            [
             0.5,
             "#f7f7f7"
            ],
            [
             0.6,
             "#e6f5d0"
            ],
            [
             0.7,
             "#b8e186"
            ],
            [
             0.8,
             "#7fbc41"
            ],
            [
             0.9,
             "#4d9221"
            ],
            [
             1,
             "#276419"
            ]
           ],
           "sequential": [
            [
             0,
             "#0d0887"
            ],
            [
             0.1111111111111111,
             "#46039f"
            ],
            [
             0.2222222222222222,
             "#7201a8"
            ],
            [
             0.3333333333333333,
             "#9c179e"
            ],
            [
             0.4444444444444444,
             "#bd3786"
            ],
            [
             0.5555555555555556,
             "#d8576b"
            ],
            [
             0.6666666666666666,
             "#ed7953"
            ],
            [
             0.7777777777777778,
             "#fb9f3a"
            ],
            [
             0.8888888888888888,
             "#fdca26"
            ],
            [
             1,
             "#f0f921"
            ]
           ],
           "sequentialminus": [
            [
             0,
             "#0d0887"
            ],
            [
             0.1111111111111111,
             "#46039f"
            ],
            [
             0.2222222222222222,
             "#7201a8"
            ],
            [
             0.3333333333333333,
             "#9c179e"
            ],
            [
             0.4444444444444444,
             "#bd3786"
            ],
            [
             0.5555555555555556,
             "#d8576b"
            ],
            [
             0.6666666666666666,
             "#ed7953"
            ],
            [
             0.7777777777777778,
             "#fb9f3a"
            ],
            [
             0.8888888888888888,
             "#fdca26"
            ],
            [
             1,
             "#f0f921"
            ]
           ]
          },
          "colorway": [
           "#636efa",
           "#EF553B",
           "#00cc96",
           "#ab63fa",
           "#FFA15A",
           "#19d3f3",
           "#FF6692",
           "#B6E880",
           "#FF97FF",
           "#FECB52"
          ],
          "font": {
           "color": "#f2f5fa"
          },
          "geo": {
           "bgcolor": "rgb(17,17,17)",
           "lakecolor": "rgb(17,17,17)",
           "landcolor": "rgb(17,17,17)",
           "showlakes": true,
           "showland": true,
           "subunitcolor": "#506784"
          },
          "hoverlabel": {
           "align": "left"
          },
          "hovermode": "closest",
          "mapbox": {
           "style": "dark"
          },
          "paper_bgcolor": "rgb(17,17,17)",
          "plot_bgcolor": "rgb(17,17,17)",
          "polar": {
           "angularaxis": {
            "gridcolor": "#506784",
            "linecolor": "#506784",
            "ticks": ""
           },
           "bgcolor": "rgb(17,17,17)",
           "radialaxis": {
            "gridcolor": "#506784",
            "linecolor": "#506784",
            "ticks": ""
           }
          },
          "scene": {
           "xaxis": {
            "backgroundcolor": "rgb(17,17,17)",
            "gridcolor": "#506784",
            "gridwidth": 2,
            "linecolor": "#506784",
            "showbackground": true,
            "ticks": "",
            "zerolinecolor": "#C8D4E3"
           },
           "yaxis": {
            "backgroundcolor": "rgb(17,17,17)",
            "gridcolor": "#506784",
            "gridwidth": 2,
            "linecolor": "#506784",
            "showbackground": true,
            "ticks": "",
            "zerolinecolor": "#C8D4E3"
           },
           "zaxis": {
            "backgroundcolor": "rgb(17,17,17)",
            "gridcolor": "#506784",
            "gridwidth": 2,
            "linecolor": "#506784",
            "showbackground": true,
            "ticks": "",
            "zerolinecolor": "#C8D4E3"
           }
          },
          "shapedefaults": {
           "line": {
            "color": "#f2f5fa"
           }
          },
          "sliderdefaults": {
           "bgcolor": "#C8D4E3",
           "bordercolor": "rgb(17,17,17)",
           "borderwidth": 1,
           "tickwidth": 0
          },
          "ternary": {
           "aaxis": {
            "gridcolor": "#506784",
            "linecolor": "#506784",
            "ticks": ""
           },
           "baxis": {
            "gridcolor": "#506784",
            "linecolor": "#506784",
            "ticks": ""
           },
           "bgcolor": "rgb(17,17,17)",
           "caxis": {
            "gridcolor": "#506784",
            "linecolor": "#506784",
            "ticks": ""
           }
          },
          "title": {
           "x": 0.05
          },
          "updatemenudefaults": {
           "bgcolor": "#506784",
           "borderwidth": 0
          },
          "xaxis": {
           "automargin": true,
           "gridcolor": "#283442",
           "linecolor": "#506784",
           "ticks": "",
           "title": {
            "standoff": 15
           },
           "zerolinecolor": "#283442",
           "zerolinewidth": 2
          },
          "yaxis": {
           "automargin": true,
           "gridcolor": "#283442",
           "linecolor": "#506784",
           "ticks": "",
           "title": {
            "standoff": 15
           },
           "zerolinecolor": "#283442",
           "zerolinewidth": 2
          }
         }
        },
        "title": {
         "text": "Min Averaged Lightcurve of comet C/2023 A3 (Tsuchinshan-ATLAS)"
        },
        "xaxis": {
         "anchor": "y",
         "domain": [
          0,
          1
         ],
         "title": {
          "text": "Observation Date"
         }
        },
        "yaxis": {
         "anchor": "x",
         "autorange": "reversed",
         "domain": [
          0,
          1
         ],
         "title": {
          "text": "promedio_movil"
         }
        }
       }
      }
     },
     "metadata": {},
     "output_type": "display_data"
    }
   ],
   "source": [
    "# Gráfica de lus promediada\n",
    "labels = {'obs_date':'Observation Date','magnitud_reducida':'Magnitude reduced'}\n",
    "fig = px.scatter(curva_de_luz_externa_df, x=curva_de_luz_externa_df.obs_date, y='promedio_movil', template= 'plotly_dark', labels= labels, title='Min Averaged Lightcurve of comet C/2023 A3 (Tsuchinshan-ATLAS)')\n",
    "fig.update_traces(marker=dict(color='yellow', size=6, line=dict(width=1, color='DarkSlateGrey')))\n",
    "fig.update_yaxes(autorange=\"reversed\")\n",
    "fig.show()"
   ]
  },
  {
   "cell_type": "markdown",
   "metadata": {},
   "source": [
    "# Comparación de las curvas de luz"
   ]
  },
  {
   "cell_type": "code",
   "execution_count": 29,
   "metadata": {},
   "outputs": [
    {
     "data": {
      "application/vnd.plotly.v1+json": {
       "config": {
        "plotlyServerURL": "https://plot.ly"
       },
       "data": [
        {
         "marker": {
          "color": "red",
          "line": {
           "color": "DarkSlateGrey",
           "width": 1
          }
         },
         "mode": "markers",
         "name": "Envolvente",
         "type": "scatter",
         "x": [
          "2023-02-25T00:00:00",
          "2023-02-26T00:00:00",
          "2023-02-27T00:00:00",
          "2023-02-28T00:00:00",
          "2023-03-01T00:00:00",
          "2023-03-02T00:00:00",
          "2023-03-03T00:00:00",
          "2023-03-15T00:00:00",
          "2023-03-16T00:00:00",
          "2023-03-18T00:00:00",
          "2023-03-19T00:00:00",
          "2023-03-21T00:00:00",
          "2023-03-22T00:00:00",
          "2023-03-24T00:00:00",
          "2023-03-26T00:00:00",
          "2023-03-28T00:00:00",
          "2023-03-29T00:00:00",
          "2023-03-30T00:00:00",
          "2023-04-01T00:00:00",
          "2023-04-09T00:00:00",
          "2023-04-11T00:00:00",
          "2023-04-13T00:00:00",
          "2023-04-14T00:00:00",
          "2023-04-16T00:00:00",
          "2023-04-17T00:00:00",
          "2023-04-20T00:00:00",
          "2023-04-21T00:00:00",
          "2023-04-22T00:00:00",
          "2023-04-23T00:00:00",
          "2023-04-24T00:00:00",
          "2023-04-25T00:00:00",
          "2023-04-26T00:00:00",
          "2023-04-27T00:00:00",
          "2023-04-28T00:00:00",
          "2023-04-29T00:00:00",
          "2023-04-30T00:00:00",
          "2023-05-01T00:00:00",
          "2023-05-07T00:00:00",
          "2023-05-11T00:00:00",
          "2023-05-13T00:00:00",
          "2023-05-14T00:00:00",
          "2023-05-15T00:00:00",
          "2023-05-16T00:00:00",
          "2023-05-17T00:00:00",
          "2023-05-18T00:00:00",
          "2023-05-19T00:00:00",
          "2023-05-21T00:00:00",
          "2023-05-22T00:00:00",
          "2023-05-23T00:00:00",
          "2023-05-24T00:00:00",
          "2023-05-25T00:00:00",
          "2023-05-26T00:00:00",
          "2023-05-27T00:00:00",
          "2023-05-28T00:00:00",
          "2023-05-29T00:00:00",
          "2023-05-31T00:00:00",
          "2023-06-01T00:00:00",
          "2023-06-02T00:00:00",
          "2023-06-03T00:00:00",
          "2023-06-04T00:00:00",
          "2023-06-05T00:00:00",
          "2023-06-07T00:00:00",
          "2023-06-08T00:00:00",
          "2023-06-09T00:00:00",
          "2023-06-10T00:00:00",
          "2023-06-11T00:00:00",
          "2023-06-12T00:00:00",
          "2023-06-13T00:00:00",
          "2023-06-14T00:00:00",
          "2023-06-15T00:00:00",
          "2023-06-16T00:00:00",
          "2023-06-18T00:00:00",
          "2023-06-19T00:00:00",
          "2023-06-22T00:00:00",
          "2023-06-24T00:00:00",
          "2023-06-25T00:00:00",
          "2023-07-06T00:00:00",
          "2023-07-07T00:00:00",
          "2023-07-08T00:00:00",
          "2023-07-11T00:00:00",
          "2023-07-12T00:00:00",
          "2023-07-13T00:00:00",
          "2023-07-15T00:00:00",
          "2023-07-17T00:00:00",
          "2023-07-18T00:00:00",
          "2023-07-20T00:00:00",
          "2023-08-02T00:00:00",
          "2023-08-06T00:00:00",
          "2023-08-07T00:00:00",
          "2023-08-08T00:00:00",
          "2023-08-13T00:00:00",
          "2023-08-16T00:00:00",
          "2023-08-18T00:00:00",
          "2023-08-21T00:00:00",
          "2023-09-03T00:00:00",
          "2023-09-05T00:00:00",
          "2023-09-06T00:00:00",
          "2023-09-10T00:00:00",
          "2023-11-28T00:00:00",
          "2023-12-07T00:00:00",
          "2023-12-10T00:00:00",
          "2023-12-15T00:00:00",
          "2023-12-18T00:00:00",
          "2023-12-19T00:00:00",
          "2023-12-20T00:00:00",
          "2023-12-21T00:00:00",
          "2023-12-22T00:00:00",
          "2023-12-25T00:00:00",
          "2023-12-27T00:00:00",
          "2023-12-31T00:00:00",
          "2024-01-04T00:00:00",
          "2024-01-05T00:00:00",
          "2024-01-07T00:00:00",
          "2024-01-08T00:00:00",
          "2024-01-09T00:00:00",
          "2024-01-10T00:00:00",
          "2024-01-13T00:00:00",
          "2024-01-14T00:00:00",
          "2024-01-17T00:00:00",
          "2024-01-18T00:00:00",
          "2024-01-20T00:00:00",
          "2024-01-21T00:00:00",
          "2024-01-22T00:00:00",
          "2024-01-24T00:00:00",
          "2024-01-28T00:00:00",
          "2024-01-29T00:00:00",
          "2024-02-05T00:00:00",
          "2024-02-07T00:00:00",
          "2024-02-08T00:00:00",
          "2024-02-09T00:00:00",
          "2024-02-10T00:00:00",
          "2024-02-12T00:00:00",
          "2024-02-13T00:00:00",
          "2024-02-14T00:00:00",
          "2024-02-16T00:00:00",
          "2024-02-17T00:00:00",
          "2024-02-18T00:00:00",
          "2024-02-19T00:00:00",
          "2024-02-20T00:00:00",
          "2024-02-21T00:00:00",
          "2024-02-24T00:00:00",
          "2024-02-25T00:00:00",
          "2024-02-29T00:00:00",
          "2024-03-03T00:00:00",
          "2024-03-04T00:00:00",
          "2024-03-05T00:00:00",
          "2024-03-06T00:00:00",
          "2024-03-07T00:00:00",
          "2024-03-08T00:00:00",
          "2024-03-09T00:00:00",
          "2024-03-10T00:00:00",
          "2024-03-11T00:00:00",
          "2024-03-12T00:00:00",
          "2024-03-13T00:00:00",
          "2024-03-14T00:00:00",
          "2024-03-15T00:00:00",
          "2024-03-16T00:00:00",
          "2024-03-17T00:00:00",
          "2024-03-18T00:00:00",
          "2024-03-19T00:00:00",
          "2024-03-20T00:00:00",
          "2024-03-21T00:00:00",
          "2024-03-22T00:00:00",
          "2024-03-23T00:00:00",
          "2024-03-24T00:00:00",
          "2024-03-25T00:00:00",
          "2024-03-28T00:00:00",
          "2024-03-29T00:00:00",
          "2024-03-30T00:00:00",
          "2024-03-31T00:00:00",
          "2024-04-01T00:00:00",
          "2024-04-02T00:00:00",
          "2024-04-03T00:00:00",
          "2024-04-04T00:00:00",
          "2024-04-05T00:00:00",
          "2024-04-06T00:00:00",
          "2024-04-07T00:00:00",
          "2024-04-08T00:00:00",
          "2024-04-09T00:00:00",
          "2024-04-10T00:00:00",
          "2024-04-11T00:00:00",
          "2024-04-12T00:00:00",
          "2024-04-13T00:00:00",
          "2024-04-14T00:00:00",
          "2024-04-15T00:00:00",
          "2024-04-16T00:00:00",
          "2024-04-17T00:00:00",
          "2024-04-18T00:00:00",
          "2024-04-19T00:00:00",
          "2024-04-20T00:00:00",
          "2024-04-21T00:00:00",
          "2024-04-22T00:00:00",
          "2024-04-23T00:00:00",
          "2024-04-24T00:00:00",
          "2024-04-25T00:00:00",
          "2024-04-26T00:00:00",
          "2024-04-27T00:00:00",
          "2024-04-28T00:00:00",
          "2024-04-29T00:00:00",
          "2024-04-30T00:00:00",
          "2024-05-01T00:00:00",
          "2024-05-02T00:00:00",
          "2024-05-03T00:00:00",
          "2024-05-04T00:00:00",
          "2024-05-05T00:00:00",
          "2024-05-06T00:00:00",
          "2024-05-07T00:00:00",
          "2024-05-08T00:00:00",
          "2024-05-09T00:00:00",
          "2024-05-10T00:00:00",
          "2024-05-11T00:00:00",
          "2024-05-12T00:00:00",
          "2024-05-13T00:00:00",
          "2024-05-14T00:00:00",
          "2024-05-15T00:00:00",
          "2024-05-16T00:00:00",
          "2024-05-17T00:00:00",
          "2024-05-18T00:00:00",
          "2024-05-19T00:00:00",
          "2024-05-20T00:00:00",
          "2024-05-22T00:00:00",
          "2024-05-23T00:00:00",
          "2024-05-24T00:00:00",
          "2024-05-25T00:00:00",
          "2024-05-26T00:00:00",
          "2024-05-27T00:00:00",
          "2024-05-28T00:00:00",
          "2024-05-29T00:00:00",
          "2024-05-30T00:00:00",
          "2024-05-31T00:00:00",
          "2024-06-01T00:00:00",
          "2024-06-02T00:00:00",
          "2024-06-03T00:00:00",
          "2024-06-04T00:00:00",
          "2024-06-05T00:00:00",
          "2024-06-06T00:00:00",
          "2024-06-07T00:00:00",
          "2024-06-08T00:00:00",
          "2024-06-09T00:00:00",
          "2024-06-10T00:00:00",
          "2024-06-11T00:00:00",
          "2024-06-12T00:00:00",
          "2024-06-13T00:00:00",
          "2024-06-14T00:00:00",
          "2024-06-15T00:00:00",
          "2024-06-16T00:00:00",
          "2024-06-17T00:00:00",
          "2024-06-18T00:00:00",
          "2024-06-19T00:00:00",
          "2024-06-20T00:00:00",
          "2024-06-21T00:00:00",
          "2024-06-22T00:00:00",
          "2024-06-23T00:00:00",
          "2024-06-24T00:00:00",
          "2024-06-25T00:00:00",
          "2024-06-26T00:00:00",
          "2024-06-27T00:00:00",
          "2024-06-28T00:00:00",
          "2024-06-29T00:00:00",
          "2024-06-30T00:00:00",
          "2024-07-01T00:00:00",
          "2024-07-02T00:00:00",
          "2024-07-03T00:00:00",
          "2024-07-04T00:00:00",
          "2024-07-05T00:00:00",
          "2024-07-06T00:00:00",
          "2024-07-07T00:00:00",
          "2024-07-08T00:00:00",
          "2024-07-09T00:00:00",
          "2024-07-10T00:00:00",
          "2024-07-11T00:00:00",
          "2024-07-12T00:00:00",
          "2024-07-13T00:00:00",
          "2024-07-14T00:00:00",
          "2024-07-15T00:00:00",
          "2024-07-16T00:00:00",
          "2024-07-17T00:00:00",
          "2024-07-18T00:00:00",
          "2024-07-19T00:00:00",
          "2024-07-20T00:00:00",
          "2024-07-21T00:00:00",
          "2024-07-22T00:00:00",
          "2024-07-23T00:00:00",
          "2024-07-24T00:00:00",
          "2024-07-25T00:00:00",
          "2024-07-26T00:00:00",
          "2024-07-27T00:00:00",
          "2024-07-28T00:00:00",
          "2024-07-29T00:00:00",
          "2024-07-30T00:00:00",
          "2024-07-31T00:00:00",
          "2024-08-01T00:00:00",
          "2024-08-02T00:00:00",
          "2024-08-03T00:00:00",
          "2024-08-04T00:00:00",
          "2024-08-05T00:00:00",
          "2024-08-06T00:00:00",
          "2024-08-07T00:00:00",
          "2024-08-09T00:00:00",
          "2024-08-10T00:00:00",
          "2024-08-11T00:00:00",
          "2024-08-12T00:00:00"
         ],
         "y": [
          null,
          null,
          null,
          null,
          null,
          null,
          9.466173845033113,
          9.47850538063974,
          9.462204491743362,
          9.418719583433342,
          9.403747263053898,
          9.504460314579719,
          9.576498639664663,
          9.549902808509545,
          9.522731099914939,
          9.525416895951805,
          9.555174082164985,
          9.499110728805489,
          8.957168249870683,
          8.824150345169405,
          8.81932029943584,
          8.399813577512246,
          8.350196471480162,
          8.172945143997506,
          8.209819266347663,
          8.561655965980215,
          8.51853603569834,
          8.416859849358591,
          8.642437847716995,
          8.667826141611787,
          8.763365428219517,
          8.744477836219362,
          8.766068923494732,
          8.758941036147828,
          8.823146707409045,
          9.001489482828108,
          9.008407415109067,
          9.019492488856203,
          8.932725974549372,
          8.946458909425756,
          8.88855699416089,
          8.887543981968696,
          8.814792771759135,
          8.856025697232264,
          8.86411283483791,
          8.912546188957155,
          8.846431782680273,
          8.865825335932055,
          8.770876579238257,
          8.747251790745448,
          8.594840550037862,
          8.556610154786695,
          8.575418009546995,
          8.57918668333175,
          8.56861886967369,
          8.601181096365538,
          8.633637773573458,
          8.580329861338992,
          8.641195208047566,
          8.659049923994578,
          8.705370477635807,
          8.709104612414654,
          8.697966339556435,
          8.743859180124288,
          8.789646768328653,
          8.735329879450415,
          8.695193748475024,
          8.65495275410414,
          8.657137059326843,
          8.64498557669251,
          8.57564194392957,
          8.64927615819477,
          8.694290713625398,
          8.66822521855787,
          8.656569820597364,
          8.687621870361616,
          8.705773128077269,
          8.680979815240551,
          8.555818225444025,
          8.530790193666546,
          8.576653002938233,
          8.57939697760529,
          8.55357026106446,
          8.612030817929217,
          8.684737047852733,
          8.786176163485683,
          8.831795524115586,
          8.806573248884478,
          8.8242407376684,
          8.827670076303916,
          8.774759692697367,
          8.765208107002792,
          8.727366968038599,
          8.545759024651874,
          8.55370842104739,
          8.462358465800177,
          8.314052962701474,
          8.309429387337701,
          8.117570489777506,
          7.999030950087984,
          7.9570097351381905,
          7.849373568730418,
          7.733025613775999,
          7.689879164708978,
          7.5184911258689295,
          7.49309811730381,
          7.438928573081641,
          7.471507171782731,
          7.412735565091644,
          7.428722998733876,
          7.438324045425666,
          7.433993972050379,
          7.289817239706998,
          7.303225598249449,
          7.24099985621366,
          7.2339024010791295,
          7.310938196483595,
          7.323627189999258,
          7.442278246556319,
          7.644234533556,
          7.577964328969119,
          7.5405890136588445,
          7.517749738683129,
          7.4642840176032275,
          7.477575442977765,
          7.385488238274626,
          7.399283411782257,
          7.42828236667082,
          7.557635634336078,
          7.630442415624434,
          7.657715853108361,
          7.636641394081489,
          7.630256516835252,
          7.54734379689453,
          7.493515109172614,
          7.468475517348559,
          7.443571632395956,
          7.404698517199274,
          7.433965505071781,
          7.4491540280914705,
          7.414946884674526,
          7.534452352758507,
          7.423172543160078,
          7.448711966564212,
          7.4173250674882585,
          7.372054739853242,
          7.3413892832045775,
          7.389028562759828,
          7.2656005150753895,
          7.216229606930083,
          7.116175211828115,
          7.173473324773712,
          7.216518429350516,
          7.17385728317922,
          7.188663188989144,
          7.274818256503189,
          7.318328871063436,
          7.390414006552464,
          7.291196604520238,
          7.1348400535726,
          7.192981367872217,
          7.179607155742034,
          7.194894360547316,
          7.195893853185868,
          7.197008124021058,
          7.2122769337578045,
          7.236105237926563,
          7.2169992206052695,
          7.169239209504588,
          7.078666508880009,
          7.102285823949146,
          7.025904238178366,
          6.977984455013291,
          6.978759486990536,
          6.893627870328233,
          6.851154268610592,
          6.822766012326808,
          6.737168879314777,
          6.637069516308815,
          6.522454585428485,
          6.450471549225822,
          6.406812290929749,
          6.391829626111482,
          6.3907229772368686,
          6.375070036275525,
          6.430571628769598,
          6.500071572429052,
          6.554842346089208,
          6.609412714671727,
          6.620558129473222,
          6.574398485205731,
          6.656325163000571,
          6.737859905163377,
          6.819046867210354,
          6.828285814442093,
          6.78002005578865,
          6.745670105984254,
          6.753743711926688,
          6.589832332651268,
          6.439812876014318,
          6.317791567825155,
          6.3097567035588495,
          6.315309759038036,
          6.2775256071873455,
          6.282173439149738,
          6.386209927364749,
          6.432667152973904,
          6.478793496905632,
          6.424299118929883,
          6.426492516735751,
          6.4996615088777165,
          6.472199035015562,
          6.430104459030543,
          6.444692863978142,
          6.472927379437572,
          6.529445304784987,
          6.528472754478868,
          6.46971588785332,
          6.510493963309723,
          6.579555422319307,
          6.6781220496328535,
          6.762253229803768,
          6.831472198367465,
          6.857386110143186,
          6.9688733607421085,
          7.008665167728338,
          6.9908744447006015,
          6.899950819835641,
          6.822918703676087,
          6.803070800002898,
          6.811532832560063,
          6.691169968761415,
          6.670550535655897,
          6.721415734343809,
          6.729352644576902,
          6.722758280695074,
          6.673239892744154,
          6.695221812440216,
          6.788573862993447,
          6.767577591640046,
          6.789384260794542,
          6.98256748496788,
          7.118865912399216,
          7.28368863289236,
          7.334184647275313,
          7.327664095555217,
          7.421560541587298,
          7.343995536522868,
          7.237991956414916,
          7.1749797903463435,
          7.155113191362019,
          7.063960165448288,
          7.1015184365984,
          6.9677975762281426,
          6.9343837364578915,
          6.872701523542029,
          6.854023731233804,
          6.764233708179271,
          6.8034899496838985,
          6.843063364069309,
          6.939937168752194,
          7.008719999045893,
          7.077671994128513,
          7.1613974153347275,
          7.245450551229749,
          7.24412190488678,
          7.228841870169674,
          7.2140607991485926,
          7.228188313022088,
          7.157276687381243,
          7.1581367130355815,
          7.116482930930249,
          7.175361766396665,
          7.120460584383329,
          7.19467220166495,
          7.15510897073501,
          7.158929354834121,
          7.034736876152089,
          7.111065200282736,
          7.17364703919833,
          7.179814412975831,
          7.072244549054585,
          7.065265183967283,
          7.058845273273996,
          7.110285321554527,
          6.933767929538772,
          6.786551969737268,
          6.73998515254685,
          6.73702060890813,
          6.706307037430016,
          6.647632187957735,
          6.3040890128576805,
          6.30418417279337,
          6.29086577045973,
          6.29265530515869,
          6.26677519791791,
          6.270314566977397,
          6.3035123280445555,
          6.600061860947013,
          6.583519958461914,
          6.567960504750123,
          6.539381852696986
         ]
        },
        {
         "marker": {
          "color": "yellow",
          "line": {
           "color": "DarkSlateGrey",
           "width": 1
          }
         },
         "mode": "markers",
         "name": "Núcleo",
         "type": "scatter",
         "x": [
          "2023-02-25T00:00:00",
          "2023-02-26T00:00:00",
          "2023-02-27T00:00:00",
          "2023-02-28T00:00:00",
          "2023-03-01T00:00:00",
          "2023-03-02T00:00:00",
          "2023-03-03T00:00:00",
          "2023-03-15T00:00:00",
          "2023-03-16T00:00:00",
          "2023-03-18T00:00:00",
          "2023-03-19T00:00:00",
          "2023-03-21T00:00:00",
          "2023-03-22T00:00:00",
          "2023-03-24T00:00:00",
          "2023-03-26T00:00:00",
          "2023-03-28T00:00:00",
          "2023-03-29T00:00:00",
          "2023-03-30T00:00:00",
          "2023-04-01T00:00:00",
          "2023-04-09T00:00:00",
          "2023-04-11T00:00:00",
          "2023-04-13T00:00:00",
          "2023-04-14T00:00:00",
          "2023-04-16T00:00:00",
          "2023-04-17T00:00:00",
          "2023-04-20T00:00:00",
          "2023-04-21T00:00:00",
          "2023-04-22T00:00:00",
          "2023-04-23T00:00:00",
          "2023-04-24T00:00:00",
          "2023-04-25T00:00:00",
          "2023-04-26T00:00:00",
          "2023-04-27T00:00:00",
          "2023-04-28T00:00:00",
          "2023-04-29T00:00:00",
          "2023-04-30T00:00:00",
          "2023-05-01T00:00:00",
          "2023-05-07T00:00:00",
          "2023-05-11T00:00:00",
          "2023-05-13T00:00:00",
          "2023-05-14T00:00:00",
          "2023-05-15T00:00:00",
          "2023-05-16T00:00:00",
          "2023-05-17T00:00:00",
          "2023-05-18T00:00:00",
          "2023-05-19T00:00:00",
          "2023-05-21T00:00:00",
          "2023-05-22T00:00:00",
          "2023-05-23T00:00:00",
          "2023-05-24T00:00:00",
          "2023-05-25T00:00:00",
          "2023-05-26T00:00:00",
          "2023-05-27T00:00:00",
          "2023-05-28T00:00:00",
          "2023-05-29T00:00:00",
          "2023-05-31T00:00:00",
          "2023-06-01T00:00:00",
          "2023-06-02T00:00:00",
          "2023-06-03T00:00:00",
          "2023-06-04T00:00:00",
          "2023-06-05T00:00:00",
          "2023-06-07T00:00:00",
          "2023-06-08T00:00:00",
          "2023-06-09T00:00:00",
          "2023-06-10T00:00:00",
          "2023-06-11T00:00:00",
          "2023-06-12T00:00:00",
          "2023-06-13T00:00:00",
          "2023-06-14T00:00:00",
          "2023-06-15T00:00:00",
          "2023-06-16T00:00:00",
          "2023-06-18T00:00:00",
          "2023-06-19T00:00:00",
          "2023-06-22T00:00:00",
          "2023-06-24T00:00:00",
          "2023-06-25T00:00:00",
          "2023-07-06T00:00:00",
          "2023-07-07T00:00:00",
          "2023-07-08T00:00:00",
          "2023-07-11T00:00:00",
          "2023-07-12T00:00:00",
          "2023-07-13T00:00:00",
          "2023-07-15T00:00:00",
          "2023-07-17T00:00:00",
          "2023-07-18T00:00:00",
          "2023-07-20T00:00:00",
          "2023-08-02T00:00:00",
          "2023-08-06T00:00:00",
          "2023-08-07T00:00:00",
          "2023-08-08T00:00:00",
          "2023-08-13T00:00:00",
          "2023-08-16T00:00:00",
          "2023-08-18T00:00:00",
          "2023-08-21T00:00:00",
          "2023-09-03T00:00:00",
          "2023-09-05T00:00:00",
          "2023-09-06T00:00:00",
          "2023-09-10T00:00:00",
          "2023-11-28T00:00:00",
          "2023-12-07T00:00:00",
          "2023-12-10T00:00:00",
          "2023-12-15T00:00:00",
          "2023-12-18T00:00:00",
          "2023-12-19T00:00:00",
          "2023-12-20T00:00:00",
          "2023-12-21T00:00:00",
          "2023-12-22T00:00:00",
          "2023-12-25T00:00:00",
          "2023-12-27T00:00:00",
          "2023-12-31T00:00:00",
          "2024-01-04T00:00:00",
          "2024-01-05T00:00:00",
          "2024-01-07T00:00:00",
          "2024-01-08T00:00:00",
          "2024-01-09T00:00:00",
          "2024-01-10T00:00:00",
          "2024-01-13T00:00:00",
          "2024-01-14T00:00:00",
          "2024-01-17T00:00:00",
          "2024-01-18T00:00:00",
          "2024-01-20T00:00:00",
          "2024-01-21T00:00:00",
          "2024-01-22T00:00:00",
          "2024-01-24T00:00:00",
          "2024-01-28T00:00:00",
          "2024-01-29T00:00:00",
          "2024-02-05T00:00:00",
          "2024-02-07T00:00:00",
          "2024-02-08T00:00:00",
          "2024-02-09T00:00:00",
          "2024-02-10T00:00:00",
          "2024-02-12T00:00:00",
          "2024-02-13T00:00:00",
          "2024-02-14T00:00:00",
          "2024-02-16T00:00:00",
          "2024-02-17T00:00:00",
          "2024-02-18T00:00:00",
          "2024-02-19T00:00:00",
          "2024-02-20T00:00:00",
          "2024-02-21T00:00:00",
          "2024-02-24T00:00:00",
          "2024-02-25T00:00:00",
          "2024-02-29T00:00:00",
          "2024-03-03T00:00:00",
          "2024-03-04T00:00:00",
          "2024-03-05T00:00:00",
          "2024-03-06T00:00:00",
          "2024-03-07T00:00:00",
          "2024-03-08T00:00:00",
          "2024-03-09T00:00:00",
          "2024-03-10T00:00:00",
          "2024-03-11T00:00:00",
          "2024-03-12T00:00:00",
          "2024-03-13T00:00:00",
          "2024-03-14T00:00:00",
          "2024-03-15T00:00:00",
          "2024-03-16T00:00:00",
          "2024-03-17T00:00:00",
          "2024-03-18T00:00:00",
          "2024-03-19T00:00:00",
          "2024-03-20T00:00:00",
          "2024-03-21T00:00:00",
          "2024-03-22T00:00:00",
          "2024-03-23T00:00:00",
          "2024-03-24T00:00:00",
          "2024-03-25T00:00:00",
          "2024-03-28T00:00:00",
          "2024-03-29T00:00:00",
          "2024-03-30T00:00:00",
          "2024-03-31T00:00:00",
          "2024-04-01T00:00:00",
          "2024-04-02T00:00:00",
          "2024-04-03T00:00:00",
          "2024-04-04T00:00:00",
          "2024-04-05T00:00:00",
          "2024-04-06T00:00:00",
          "2024-04-07T00:00:00",
          "2024-04-08T00:00:00",
          "2024-04-09T00:00:00",
          "2024-04-10T00:00:00",
          "2024-04-11T00:00:00",
          "2024-04-12T00:00:00",
          "2024-04-13T00:00:00",
          "2024-04-14T00:00:00",
          "2024-04-15T00:00:00",
          "2024-04-16T00:00:00",
          "2024-04-17T00:00:00",
          "2024-04-18T00:00:00",
          "2024-04-19T00:00:00",
          "2024-04-20T00:00:00",
          "2024-04-21T00:00:00",
          "2024-04-22T00:00:00",
          "2024-04-23T00:00:00",
          "2024-04-24T00:00:00",
          "2024-04-25T00:00:00",
          "2024-04-26T00:00:00",
          "2024-04-27T00:00:00",
          "2024-04-28T00:00:00",
          "2024-04-29T00:00:00",
          "2024-04-30T00:00:00",
          "2024-05-01T00:00:00",
          "2024-05-02T00:00:00",
          "2024-05-03T00:00:00",
          "2024-05-04T00:00:00",
          "2024-05-05T00:00:00",
          "2024-05-06T00:00:00",
          "2024-05-07T00:00:00",
          "2024-05-08T00:00:00",
          "2024-05-09T00:00:00",
          "2024-05-10T00:00:00",
          "2024-05-11T00:00:00",
          "2024-05-12T00:00:00",
          "2024-05-13T00:00:00",
          "2024-05-14T00:00:00",
          "2024-05-15T00:00:00",
          "2024-05-16T00:00:00",
          "2024-05-17T00:00:00",
          "2024-05-18T00:00:00",
          "2024-05-19T00:00:00",
          "2024-05-20T00:00:00",
          "2024-05-22T00:00:00",
          "2024-05-23T00:00:00",
          "2024-05-24T00:00:00",
          "2024-05-25T00:00:00",
          "2024-05-26T00:00:00",
          "2024-05-27T00:00:00",
          "2024-05-28T00:00:00",
          "2024-05-29T00:00:00",
          "2024-05-30T00:00:00",
          "2024-05-31T00:00:00",
          "2024-06-01T00:00:00",
          "2024-06-02T00:00:00",
          "2024-06-03T00:00:00",
          "2024-06-04T00:00:00",
          "2024-06-05T00:00:00",
          "2024-06-06T00:00:00",
          "2024-06-07T00:00:00",
          "2024-06-08T00:00:00",
          "2024-06-09T00:00:00",
          "2024-06-10T00:00:00",
          "2024-06-11T00:00:00",
          "2024-06-12T00:00:00",
          "2024-06-13T00:00:00",
          "2024-06-14T00:00:00",
          "2024-06-15T00:00:00",
          "2024-06-16T00:00:00",
          "2024-06-17T00:00:00",
          "2024-06-18T00:00:00",
          "2024-06-19T00:00:00",
          "2024-06-20T00:00:00",
          "2024-06-21T00:00:00",
          "2024-06-22T00:00:00",
          "2024-06-23T00:00:00",
          "2024-06-24T00:00:00",
          "2024-06-25T00:00:00",
          "2024-06-26T00:00:00",
          "2024-06-27T00:00:00",
          "2024-06-28T00:00:00",
          "2024-06-29T00:00:00",
          "2024-06-30T00:00:00",
          "2024-07-01T00:00:00",
          "2024-07-02T00:00:00",
          "2024-07-03T00:00:00",
          "2024-07-04T00:00:00",
          "2024-07-05T00:00:00",
          "2024-07-06T00:00:00",
          "2024-07-07T00:00:00",
          "2024-07-08T00:00:00",
          "2024-07-09T00:00:00",
          "2024-07-10T00:00:00",
          "2024-07-11T00:00:00",
          "2024-07-12T00:00:00",
          "2024-07-13T00:00:00",
          "2024-07-14T00:00:00",
          "2024-07-15T00:00:00",
          "2024-07-16T00:00:00",
          "2024-07-17T00:00:00",
          "2024-07-18T00:00:00",
          "2024-07-19T00:00:00",
          "2024-07-20T00:00:00",
          "2024-07-21T00:00:00",
          "2024-07-22T00:00:00",
          "2024-07-23T00:00:00",
          "2024-07-24T00:00:00",
          "2024-07-25T00:00:00",
          "2024-07-26T00:00:00",
          "2024-07-27T00:00:00",
          "2024-07-28T00:00:00",
          "2024-07-29T00:00:00",
          "2024-07-30T00:00:00",
          "2024-07-31T00:00:00",
          "2024-08-01T00:00:00",
          "2024-08-02T00:00:00",
          "2024-08-03T00:00:00",
          "2024-08-04T00:00:00",
          "2024-08-05T00:00:00",
          "2024-08-06T00:00:00",
          "2024-08-07T00:00:00",
          "2024-08-09T00:00:00",
          "2024-08-10T00:00:00",
          "2024-08-11T00:00:00",
          "2024-08-12T00:00:00"
         ],
         "y": [
          null,
          null,
          null,
          null,
          null,
          null,
          9.609030987890256,
          9.564219666354026,
          9.590775920314792,
          9.633005297719057,
          9.589461548768183,
          9.690174600294005,
          9.76221292537895,
          9.735617094223832,
          9.708445385629224,
          9.66827403880895,
          9.598031225022128,
          9.499110728805489,
          8.957168249870682,
          8.824150345169407,
          8.81932029943584,
          8.799813577512246,
          8.75019647148016,
          8.572945143997504,
          8.609819266347664,
          9.033084537408786,
          8.989964607126911,
          8.988288420787162,
          8.985294990574138,
          9.039254713040359,
          9.149079713933803,
          9.130192121933648,
          9.080354637780445,
          9.073226750433543,
          9.03743242169476,
          9.04434662568525,
          9.022693129394781,
          9.019492488856203,
          8.932725974549372,
          8.960744623711472,
          8.945699851303747,
          8.944686839111554,
          8.92907848604485,
          8.970311411517978,
          9.021255691980766,
          9.069689046100011,
          9.075003211251701,
          9.108682478789197,
          9.013733722095399,
          9.09010893360259,
          9.05198340718072,
          9.056610154786695,
          9.132560866689852,
          9.150615254760321,
          9.082904583959406,
          9.115466810651254,
          8.990780630716316,
          8.823187004196136,
          8.798338065190425,
          8.844764209708865,
          8.79108476335009,
          8.851961755271798,
          8.926537768127865,
          8.972430608695717,
          9.089646768328652,
          9.049615593736128,
          9.066622319903598,
          9.097809896961284,
          9.04285134504113,
          8.959271290978226,
          8.961356229643856,
          8.963561872480485,
          8.994290713625398,
          8.825368075700728,
          8.742284106311649,
          8.773336156075903,
          8.848630270934411,
          8.838122672383408,
          8.827246796872595,
          8.802218765095116,
          8.848081574366804,
          8.85082554903386,
          8.867855975350173,
          8.854887960786359,
          8.841879904995592,
          8.829033306342826,
          8.87465266697273,
          8.84943039174162,
          8.867097880525543,
          8.827670076303916,
          8.774759692697367,
          8.76520810700279,
          8.755938396610029,
          8.574330453223302,
          8.582279849618818,
          8.490929894371607,
          8.342624391272903,
          8.33800081590913,
          8.146141918348935,
          7.999030950087985,
          7.9570097351381905,
          7.849373568730418,
          7.733025613775999,
          7.732736307566122,
          7.561348268726072,
          7.535955260160954,
          7.510357144510212,
          7.542935743211302,
          7.484164136520216,
          7.585865855876733,
          7.5526097597113795,
          7.548279686336094,
          7.5469600968498565,
          7.531797026820878,
          7.54099985621366,
          7.576759543936271,
          7.568081053626452,
          7.580770047142115,
          7.699421103699177,
          7.758520247841714,
          7.792250043254834,
          7.82630329937313,
          7.860606881540272,
          7.849998303317514,
          7.89186115726348,
          7.842631095417485,
          7.856426268925114,
          7.8282823666708214,
          7.814778491478935,
          7.801870987053006,
          7.7862872816797895,
          7.73664139408149,
          7.744542231120966,
          7.704486654037386,
          7.822086537744043,
          7.797046945919988,
          7.7578573466816705,
          7.718984231484988,
          7.748251219357495,
          7.706296885234328,
          7.6292325989602405,
          7.534452352758508,
          7.494601114588649,
          7.520140537992783,
          7.560182210345402,
          7.557769025567529,
          7.555674997490291,
          7.674742848474113,
          7.679886229361103,
          7.687658178358654,
          7.587603783256688,
          7.587759039059427,
          7.587947000779087,
          7.588142997464935,
          7.531520331846287,
          7.503389685074618,
          7.50404315677772,
          7.576128292266751,
          7.56262517594881,
          7.549125767858315,
          7.535838510729361,
          7.551035727170606,
          7.552037217690173,
          7.467322424614439,
          7.46843669544963,
          7.383705505186376,
          7.321819523640848,
          7.302713506319555,
          7.269239209504589,
          7.25009508030858,
          7.316571538234861,
          7.268761381035509,
          7.3065558835847195,
          7.3216166298476795,
          7.279342156042519,
          7.308297125753449,
          7.279908869469665,
          7.222883165029062,
          7.208498087737387,
          7.193883156857056,
          7.164757263511537,
          7.163955148072605,
          7.120401054682911,
          7.119294405808297,
          7.1750700362755255,
          7.2162859144838825,
          7.200071572429052,
          7.211985203232065,
          7.237984143243155,
          7.334843843758937,
          7.317255628062873,
          7.25632516300057,
          7.237859905163378,
          7.276189724353211,
          7.242571528727807,
          7.28002005578865,
          7.217098677412826,
          7.382315140498116,
          7.4612609040798406,
          7.654098590300031,
          7.646362996396584,
          7.724042417844566,
          7.758166901895179,
          7.9060970357587745,
          7.810744867721167,
          7.871924213079034,
          7.761238581545333,
          7.878793496905631,
          8.124299118929882,
          8.340778231021464,
          8.256804366020575,
          8.486484749301276,
          8.6872473161734,
          8.730407149692427,
          8.715784522294715,
          8.643731019070701,
          8.442758468764582,
          8.212573030710463,
          7.83906539188115,
          7.679555422319305,
          7.706693478204282,
          7.633681801232339,
          7.574329341224609,
          7.6716718244289,
          7.940301932170679,
          8.094379453442624,
          8.033731587557744,
          8.085665105549927,
          8.094347275104658,
          8.131642228574325,
          8.068675689702921,
          7.9911699687614135,
          8.113407678513038,
          8.107130020058095,
          8.05792407314833,
          8.07990113783793,
          8.044668464172725,
          8.0809360981545,
          8.431431005850591,
          8.396149020211476,
          8.375098546508827,
          8.339710342110738,
          8.43315162668493,
          8.369402918606648,
          8.39132750441817,
          7.927664095555216,
          7.778703398730154,
          7.829709822237155,
          7.809420527843487,
          7.760694076060629,
          7.855113191362018,
          7.692531594019717,
          7.858661293741257,
          8.010654719085284,
          8.020098022172178,
          7.986987237827742,
          7.83973801694809,
          7.849947993893556,
          7.932061378255326,
          8.228777649783593,
          8.154222883037908,
          8.151577141903035,
          8.220529136985657,
          8.518540272477583,
          8.431164836944035,
          8.401264762029637,
          8.000270441598245,
          7.942632227720021,
          7.885331170164944,
          7.8144195445241005,
          7.615279570178438,
          7.602197216644535,
          7.618218909253808,
          7.649032012954756,
          7.951815058807808,
          7.983680399306437,
          7.873215069119835,
          7.906165447580661,
          7.911065200282736,
          7.9022184677697584,
          7.951242984404402,
          7.65795883476887,
          7.536693755395855,
          7.530273844702568,
          7.410285321554526,
          7.348053643824486,
          7.200837684022981,
          7.025699438261136,
          6.908449180336702,
          6.877735608858588,
          6.890489330814879,
          6.946946155714825,
          6.947041315650513,
          6.990865770459729,
          6.99265530515869,
          7.095346626489338,
          7.056028852691682,
          7.01779804233027,
          6.914347575232727,
          6.869234244176199,
          6.867960504750122,
          6.839381852696985
         ]
        }
       ],
       "layout": {
        "template": {
         "data": {
          "bar": [
           {
            "error_x": {
             "color": "#f2f5fa"
            },
            "error_y": {
             "color": "#f2f5fa"
            },
            "marker": {
             "line": {
              "color": "rgb(17,17,17)",
              "width": 0.5
             },
             "pattern": {
              "fillmode": "overlay",
              "size": 10,
              "solidity": 0.2
             }
            },
            "type": "bar"
           }
          ],
          "barpolar": [
           {
            "marker": {
             "line": {
              "color": "rgb(17,17,17)",
              "width": 0.5
             },
             "pattern": {
              "fillmode": "overlay",
              "size": 10,
              "solidity": 0.2
             }
            },
            "type": "barpolar"
           }
          ],
          "carpet": [
           {
            "aaxis": {
             "endlinecolor": "#A2B1C6",
             "gridcolor": "#506784",
             "linecolor": "#506784",
             "minorgridcolor": "#506784",
             "startlinecolor": "#A2B1C6"
            },
            "baxis": {
             "endlinecolor": "#A2B1C6",
             "gridcolor": "#506784",
             "linecolor": "#506784",
             "minorgridcolor": "#506784",
             "startlinecolor": "#A2B1C6"
            },
            "type": "carpet"
           }
          ],
          "choropleth": [
           {
            "colorbar": {
             "outlinewidth": 0,
             "ticks": ""
            },
            "type": "choropleth"
           }
          ],
          "contour": [
           {
            "colorbar": {
             "outlinewidth": 0,
             "ticks": ""
            },
            "colorscale": [
             [
              0,
              "#0d0887"
             ],
             [
              0.1111111111111111,
              "#46039f"
             ],
             [
              0.2222222222222222,
              "#7201a8"
             ],
             [
              0.3333333333333333,
              "#9c179e"
             ],
             [
              0.4444444444444444,
              "#bd3786"
             ],
             [
              0.5555555555555556,
              "#d8576b"
             ],
             [
              0.6666666666666666,
              "#ed7953"
             ],
             [
              0.7777777777777778,
              "#fb9f3a"
             ],
             [
              0.8888888888888888,
              "#fdca26"
             ],
             [
              1,
              "#f0f921"
             ]
            ],
            "type": "contour"
           }
          ],
          "contourcarpet": [
           {
            "colorbar": {
             "outlinewidth": 0,
             "ticks": ""
            },
            "type": "contourcarpet"
           }
          ],
          "heatmap": [
           {
            "colorbar": {
             "outlinewidth": 0,
             "ticks": ""
            },
            "colorscale": [
             [
              0,
              "#0d0887"
             ],
             [
              0.1111111111111111,
              "#46039f"
             ],
             [
              0.2222222222222222,
              "#7201a8"
             ],
             [
              0.3333333333333333,
              "#9c179e"
             ],
             [
              0.4444444444444444,
              "#bd3786"
             ],
             [
              0.5555555555555556,
              "#d8576b"
             ],
             [
              0.6666666666666666,
              "#ed7953"
             ],
             [
              0.7777777777777778,
              "#fb9f3a"
             ],
             [
              0.8888888888888888,
              "#fdca26"
             ],
             [
              1,
              "#f0f921"
             ]
            ],
            "type": "heatmap"
           }
          ],
          "heatmapgl": [
           {
            "colorbar": {
             "outlinewidth": 0,
             "ticks": ""
            },
            "colorscale": [
             [
              0,
              "#0d0887"
             ],
             [
              0.1111111111111111,
              "#46039f"
             ],
             [
              0.2222222222222222,
              "#7201a8"
             ],
             [
              0.3333333333333333,
              "#9c179e"
             ],
             [
              0.4444444444444444,
              "#bd3786"
             ],
             [
              0.5555555555555556,
              "#d8576b"
             ],
             [
              0.6666666666666666,
              "#ed7953"
             ],
             [
              0.7777777777777778,
              "#fb9f3a"
             ],
             [
              0.8888888888888888,
              "#fdca26"
             ],
             [
              1,
              "#f0f921"
             ]
            ],
            "type": "heatmapgl"
           }
          ],
          "histogram": [
           {
            "marker": {
             "pattern": {
              "fillmode": "overlay",
              "size": 10,
              "solidity": 0.2
             }
            },
            "type": "histogram"
           }
          ],
          "histogram2d": [
           {
            "colorbar": {
             "outlinewidth": 0,
             "ticks": ""
            },
            "colorscale": [
             [
              0,
              "#0d0887"
             ],
             [
              0.1111111111111111,
              "#46039f"
             ],
             [
              0.2222222222222222,
              "#7201a8"
             ],
             [
              0.3333333333333333,
              "#9c179e"
             ],
             [
              0.4444444444444444,
              "#bd3786"
             ],
             [
              0.5555555555555556,
              "#d8576b"
             ],
             [
              0.6666666666666666,
              "#ed7953"
             ],
             [
              0.7777777777777778,
              "#fb9f3a"
             ],
             [
              0.8888888888888888,
              "#fdca26"
             ],
             [
              1,
              "#f0f921"
             ]
            ],
            "type": "histogram2d"
           }
          ],
          "histogram2dcontour": [
           {
            "colorbar": {
             "outlinewidth": 0,
             "ticks": ""
            },
            "colorscale": [
             [
              0,
              "#0d0887"
             ],
             [
              0.1111111111111111,
              "#46039f"
             ],
             [
              0.2222222222222222,
              "#7201a8"
             ],
             [
              0.3333333333333333,
              "#9c179e"
             ],
             [
              0.4444444444444444,
              "#bd3786"
             ],
             [
              0.5555555555555556,
              "#d8576b"
             ],
             [
              0.6666666666666666,
              "#ed7953"
             ],
             [
              0.7777777777777778,
              "#fb9f3a"
             ],
             [
              0.8888888888888888,
              "#fdca26"
             ],
             [
              1,
              "#f0f921"
             ]
            ],
            "type": "histogram2dcontour"
           }
          ],
          "mesh3d": [
           {
            "colorbar": {
             "outlinewidth": 0,
             "ticks": ""
            },
            "type": "mesh3d"
           }
          ],
          "parcoords": [
           {
            "line": {
             "colorbar": {
              "outlinewidth": 0,
              "ticks": ""
             }
            },
            "type": "parcoords"
           }
          ],
          "pie": [
           {
            "automargin": true,
            "type": "pie"
           }
          ],
          "scatter": [
           {
            "marker": {
             "line": {
              "color": "#283442"
             }
            },
            "type": "scatter"
           }
          ],
          "scatter3d": [
           {
            "line": {
             "colorbar": {
              "outlinewidth": 0,
              "ticks": ""
             }
            },
            "marker": {
             "colorbar": {
              "outlinewidth": 0,
              "ticks": ""
             }
            },
            "type": "scatter3d"
           }
          ],
          "scattercarpet": [
           {
            "marker": {
             "colorbar": {
              "outlinewidth": 0,
              "ticks": ""
             }
            },
            "type": "scattercarpet"
           }
          ],
          "scattergeo": [
           {
            "marker": {
             "colorbar": {
              "outlinewidth": 0,
              "ticks": ""
             }
            },
            "type": "scattergeo"
           }
          ],
          "scattergl": [
           {
            "marker": {
             "line": {
              "color": "#283442"
             }
            },
            "type": "scattergl"
           }
          ],
          "scattermapbox": [
           {
            "marker": {
             "colorbar": {
              "outlinewidth": 0,
              "ticks": ""
             }
            },
            "type": "scattermapbox"
           }
          ],
          "scatterpolar": [
           {
            "marker": {
             "colorbar": {
              "outlinewidth": 0,
              "ticks": ""
             }
            },
            "type": "scatterpolar"
           }
          ],
          "scatterpolargl": [
           {
            "marker": {
             "colorbar": {
              "outlinewidth": 0,
              "ticks": ""
             }
            },
            "type": "scatterpolargl"
           }
          ],
          "scatterternary": [
           {
            "marker": {
             "colorbar": {
              "outlinewidth": 0,
              "ticks": ""
             }
            },
            "type": "scatterternary"
           }
          ],
          "surface": [
           {
            "colorbar": {
             "outlinewidth": 0,
             "ticks": ""
            },
            "colorscale": [
             [
              0,
              "#0d0887"
             ],
             [
              0.1111111111111111,
              "#46039f"
             ],
             [
              0.2222222222222222,
              "#7201a8"
             ],
             [
              0.3333333333333333,
              "#9c179e"
             ],
             [
              0.4444444444444444,
              "#bd3786"
             ],
             [
              0.5555555555555556,
              "#d8576b"
             ],
             [
              0.6666666666666666,
              "#ed7953"
             ],
             [
              0.7777777777777778,
              "#fb9f3a"
             ],
             [
              0.8888888888888888,
              "#fdca26"
             ],
             [
              1,
              "#f0f921"
             ]
            ],
            "type": "surface"
           }
          ],
          "table": [
           {
            "cells": {
             "fill": {
              "color": "#506784"
             },
             "line": {
              "color": "rgb(17,17,17)"
             }
            },
            "header": {
             "fill": {
              "color": "#2a3f5f"
             },
             "line": {
              "color": "rgb(17,17,17)"
             }
            },
            "type": "table"
           }
          ]
         },
         "layout": {
          "annotationdefaults": {
           "arrowcolor": "#f2f5fa",
           "arrowhead": 0,
           "arrowwidth": 1
          },
          "autotypenumbers": "strict",
          "coloraxis": {
           "colorbar": {
            "outlinewidth": 0,
            "ticks": ""
           }
          },
          "colorscale": {
           "diverging": [
            [
             0,
             "#8e0152"
            ],
            [
             0.1,
             "#c51b7d"
            ],
            [
             0.2,
             "#de77ae"
            ],
            [
             0.3,
             "#f1b6da"
            ],
            [
             0.4,
             "#fde0ef"
            ],
            [
             0.5,
             "#f7f7f7"
            ],
            [
             0.6,
             "#e6f5d0"
            ],
            [
             0.7,
             "#b8e186"
            ],
            [
             0.8,
             "#7fbc41"
            ],
            [
             0.9,
             "#4d9221"
            ],
            [
             1,
             "#276419"
            ]
           ],
           "sequential": [
            [
             0,
             "#0d0887"
            ],
            [
             0.1111111111111111,
             "#46039f"
            ],
            [
             0.2222222222222222,
             "#7201a8"
            ],
            [
             0.3333333333333333,
             "#9c179e"
            ],
            [
             0.4444444444444444,
             "#bd3786"
            ],
            [
             0.5555555555555556,
             "#d8576b"
            ],
            [
             0.6666666666666666,
             "#ed7953"
            ],
            [
             0.7777777777777778,
             "#fb9f3a"
            ],
            [
             0.8888888888888888,
             "#fdca26"
            ],
            [
             1,
             "#f0f921"
            ]
           ],
           "sequentialminus": [
            [
             0,
             "#0d0887"
            ],
            [
             0.1111111111111111,
             "#46039f"
            ],
            [
             0.2222222222222222,
             "#7201a8"
            ],
            [
             0.3333333333333333,
             "#9c179e"
            ],
            [
             0.4444444444444444,
             "#bd3786"
            ],
            [
             0.5555555555555556,
             "#d8576b"
            ],
            [
             0.6666666666666666,
             "#ed7953"
            ],
            [
             0.7777777777777778,
             "#fb9f3a"
            ],
            [
             0.8888888888888888,
             "#fdca26"
            ],
            [
             1,
             "#f0f921"
            ]
           ]
          },
          "colorway": [
           "#636efa",
           "#EF553B",
           "#00cc96",
           "#ab63fa",
           "#FFA15A",
           "#19d3f3",
           "#FF6692",
           "#B6E880",
           "#FF97FF",
           "#FECB52"
          ],
          "font": {
           "color": "#f2f5fa"
          },
          "geo": {
           "bgcolor": "rgb(17,17,17)",
           "lakecolor": "rgb(17,17,17)",
           "landcolor": "rgb(17,17,17)",
           "showlakes": true,
           "showland": true,
           "subunitcolor": "#506784"
          },
          "hoverlabel": {
           "align": "left"
          },
          "hovermode": "closest",
          "mapbox": {
           "style": "dark"
          },
          "paper_bgcolor": "rgb(17,17,17)",
          "plot_bgcolor": "rgb(17,17,17)",
          "polar": {
           "angularaxis": {
            "gridcolor": "#506784",
            "linecolor": "#506784",
            "ticks": ""
           },
           "bgcolor": "rgb(17,17,17)",
           "radialaxis": {
            "gridcolor": "#506784",
            "linecolor": "#506784",
            "ticks": ""
           }
          },
          "scene": {
           "xaxis": {
            "backgroundcolor": "rgb(17,17,17)",
            "gridcolor": "#506784",
            "gridwidth": 2,
            "linecolor": "#506784",
            "showbackground": true,
            "ticks": "",
            "zerolinecolor": "#C8D4E3"
           },
           "yaxis": {
            "backgroundcolor": "rgb(17,17,17)",
            "gridcolor": "#506784",
            "gridwidth": 2,
            "linecolor": "#506784",
            "showbackground": true,
            "ticks": "",
            "zerolinecolor": "#C8D4E3"
           },
           "zaxis": {
            "backgroundcolor": "rgb(17,17,17)",
            "gridcolor": "#506784",
            "gridwidth": 2,
            "linecolor": "#506784",
            "showbackground": true,
            "ticks": "",
            "zerolinecolor": "#C8D4E3"
           }
          },
          "shapedefaults": {
           "line": {
            "color": "#f2f5fa"
           }
          },
          "sliderdefaults": {
           "bgcolor": "#C8D4E3",
           "bordercolor": "rgb(17,17,17)",
           "borderwidth": 1,
           "tickwidth": 0
          },
          "ternary": {
           "aaxis": {
            "gridcolor": "#506784",
            "linecolor": "#506784",
            "ticks": ""
           },
           "baxis": {
            "gridcolor": "#506784",
            "linecolor": "#506784",
            "ticks": ""
           },
           "bgcolor": "rgb(17,17,17)",
           "caxis": {
            "gridcolor": "#506784",
            "linecolor": "#506784",
            "ticks": ""
           }
          },
          "title": {
           "x": 0.05
          },
          "updatemenudefaults": {
           "bgcolor": "#506784",
           "borderwidth": 0
          },
          "xaxis": {
           "automargin": true,
           "gridcolor": "#283442",
           "linecolor": "#506784",
           "ticks": "",
           "title": {
            "standoff": 15
           },
           "zerolinecolor": "#283442",
           "zerolinewidth": 2
          },
          "yaxis": {
           "automargin": true,
           "gridcolor": "#283442",
           "linecolor": "#506784",
           "ticks": "",
           "title": {
            "standoff": 15
           },
           "zerolinecolor": "#283442",
           "zerolinewidth": 2
          }
         }
        },
        "xaxis": {
         "title": {
          "text": "Observation Date"
         }
        },
        "yaxis": {
         "autorange": "reversed",
         "title": {
          "text": "Promedio Movil"
         }
        }
       }
      }
     },
     "metadata": {},
     "output_type": "display_data"
    }
   ],
   "source": [
    "# Gráfica de lus promediada\n",
    "labels = {'obs_date':'Observation Date','magnitud_reducida':'Magnitude reduced'}\n",
    "fig = go.Figure()\n",
    "fig.add_trace(go.Scatter(x=curva_de_luz_externa_df.obs_date, y=curva_de_luz_externa_df.promedio_movil, mode='markers', name='Envolvente', marker=dict(color='red', line=dict(width=1, color='DarkSlateGrey'))))\n",
    "fig.add_trace(go.Scatter(x=curva_de_luz_interna_df.obs_date, y=curva_de_luz_interna_df.promedio_movil, mode='markers', name='Núcleo', marker=dict(color='yellow', line=dict(width=1, color='DarkSlateGrey'))))\n",
    "fig.update_layout(template='plotly_dark')\n",
    "fig.update_yaxes(autorange=\"reversed\")\n",
    "fig.update_layout(template='plotly_dark', xaxis_title='Observation Date', yaxis_title='Promedio Movil')\n",
    "fig.show()"
   ]
  }
 ],
 "metadata": {
  "kernelspec": {
   "display_name": "Python 3",
   "language": "python",
   "name": "python3"
  },
  "language_info": {
   "codemirror_mode": {
    "name": "ipython",
    "version": 3
   },
   "file_extension": ".py",
   "mimetype": "text/x-python",
   "name": "python",
   "nbconvert_exporter": "python",
   "pygments_lexer": "ipython3",
   "version": "3.12.3"
  }
 },
 "nbformat": 4,
 "nbformat_minor": 2
}
